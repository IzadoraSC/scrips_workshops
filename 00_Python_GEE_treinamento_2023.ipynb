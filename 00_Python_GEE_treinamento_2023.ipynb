{
  "nbformat": 4,
  "nbformat_minor": 0,
  "metadata": {
    "colab": {
      "provenance": [],
      "include_colab_link": true
    },
    "kernelspec": {
      "name": "python3",
      "display_name": "Python 3"
    },
    "language_info": {
      "name": "python"
    },
    "widgets": {
      "application/vnd.jupyter.widget-state+json": {
        "7a1aff9b6d4d41b585ee38f205f256ee": {
          "model_module": "jupyter-leaflet",
          "model_name": "LeafletMapModel",
          "model_module_version": "^0.18",
          "state": {
            "_dom_classes": [],
            "_model_module": "jupyter-leaflet",
            "_model_module_version": "^0.18",
            "_model_name": "LeafletMapModel",
            "_view_count": null,
            "_view_module": "jupyter-leaflet",
            "_view_module_version": "^0.18",
            "_view_name": "LeafletMapView",
            "bottom": 2039499,
            "bounce_at_zoom_limits": true,
            "box_zoom": true,
            "center": [
              4.967909377414044,
              -73.75276565551759
            ],
            "close_popup_on_click": true,
            "controls": [
              "IPY_MODEL_2c40086cc0dc423e95d7f256178f50fa",
              "IPY_MODEL_e56ee4da6a324cfb8c490e242de2dd86",
              "IPY_MODEL_69a33be38a184d1fada083f542bbb514",
              "IPY_MODEL_13a2738704914dc697df6728614aa737",
              "IPY_MODEL_96f1d5717a644b98aba04d86f6a733a8",
              "IPY_MODEL_50bcf35a3b7447048d1b5cb6352e0809",
              "IPY_MODEL_806c19721c1f4feba22cea2cd56c5564",
              "IPY_MODEL_d5ab59e0626140aa8e2b040fdfc4fd40"
            ],
            "crs": {
              "name": "EPSG3857",
              "custom": false
            },
            "default_style": "IPY_MODEL_952d6c33917d4fd990e2c056529235de",
            "double_click_zoom": true,
            "dragging": true,
            "dragging_style": "IPY_MODEL_0fe9bd0457894e298e6ea3216ab5fce6",
            "east": -73.68873596191408,
            "fullscreen": false,
            "inertia": true,
            "inertia_deceleration": 3000,
            "inertia_max_speed": 1500,
            "interpolation": "bilinear",
            "keyboard": true,
            "keyboard_pan_offset": 80,
            "keyboard_zoom_offset": 1,
            "layers": [
              "IPY_MODEL_2d6cbf42edfa4b6c9ce74b558b102d20",
              "IPY_MODEL_034d6b80ddfd46549e65e3384a384762",
              "IPY_MODEL_232ea2e1b52647d0953a9f62284b99a6",
              "IPY_MODEL_819c3d22fda34d719d468311c53627a8",
              "IPY_MODEL_651ed56c31294b0a9ffa734664b3952d"
            ],
            "layout": "IPY_MODEL_3e9fc2d1a2ea4429a43d56aa48d1ac89",
            "left": 1237125,
            "max_zoom": 24,
            "min_zoom": null,
            "modisdate": "2023-12-05",
            "north": 4.9935613533520975,
            "options": [
              "bounce_at_zoom_limits",
              "box_zoom",
              "center",
              "close_popup_on_click",
              "double_click_zoom",
              "dragging",
              "fullscreen",
              "inertia",
              "inertia_deceleration",
              "inertia_max_speed",
              "interpolation",
              "keyboard",
              "keyboard_pan_offset",
              "keyboard_zoom_offset",
              "max_zoom",
              "min_zoom",
              "prefer_canvas",
              "scroll_wheel_zoom",
              "tap",
              "tap_tolerance",
              "touch_zoom",
              "world_copy_jump",
              "zoom",
              "zoom_animation_threshold",
              "zoom_delta",
              "zoom_snap"
            ],
            "panes": {},
            "prefer_canvas": false,
            "right": 1238616,
            "scroll_wheel_zoom": true,
            "south": 4.9422564031389316,
            "style": "IPY_MODEL_952d6c33917d4fd990e2c056529235de",
            "tap": true,
            "tap_tolerance": 15,
            "top": 2038899,
            "touch_zoom": true,
            "west": -73.81670951843263,
            "window_url": "https://590hghd1muh-496ff2e9c6d22116-0-colab.googleusercontent.com/outputframe.html?vrz=colab_20231204-060134_RC00_587675273",
            "world_copy_jump": false,
            "zoom": 14,
            "zoom_animation_threshold": 4,
            "zoom_delta": 1,
            "zoom_snap": 1
          }
        },
        "2c40086cc0dc423e95d7f256178f50fa": {
          "model_module": "jupyter-leaflet",
          "model_name": "LeafletWidgetControlModel",
          "model_module_version": "^0.18",
          "state": {
            "_model_module": "jupyter-leaflet",
            "_model_module_version": "^0.18",
            "_model_name": "LeafletWidgetControlModel",
            "_view_count": null,
            "_view_module": "jupyter-leaflet",
            "_view_module_version": "^0.18",
            "_view_name": "LeafletWidgetControlView",
            "max_height": null,
            "max_width": null,
            "min_height": null,
            "min_width": null,
            "options": [
              "position",
              "transparent_bg"
            ],
            "position": "topleft",
            "transparent_bg": false,
            "widget": "IPY_MODEL_24346c82fd924a8299964e1f749c76b4"
          }
        },
        "e56ee4da6a324cfb8c490e242de2dd86": {
          "model_module": "jupyter-leaflet",
          "model_name": "LeafletZoomControlModel",
          "model_module_version": "^0.18",
          "state": {
            "_model_module": "jupyter-leaflet",
            "_model_module_version": "^0.18",
            "_model_name": "LeafletZoomControlModel",
            "_view_count": null,
            "_view_module": "jupyter-leaflet",
            "_view_module_version": "^0.18",
            "_view_name": "LeafletZoomControlView",
            "options": [
              "position",
              "zoom_in_text",
              "zoom_in_title",
              "zoom_out_text",
              "zoom_out_title"
            ],
            "position": "topleft",
            "zoom_in_text": "+",
            "zoom_in_title": "Zoom in",
            "zoom_out_text": "-",
            "zoom_out_title": "Zoom out"
          }
        },
        "69a33be38a184d1fada083f542bbb514": {
          "model_module": "jupyter-leaflet",
          "model_name": "LeafletFullScreenControlModel",
          "model_module_version": "^0.18",
          "state": {
            "_model_module": "jupyter-leaflet",
            "_model_module_version": "^0.18",
            "_model_name": "LeafletFullScreenControlModel",
            "_view_count": null,
            "_view_module": "jupyter-leaflet",
            "_view_module_version": "^0.18",
            "_view_name": "LeafletFullScreenControlView",
            "options": [
              "position"
            ],
            "position": "topleft"
          }
        },
        "13a2738704914dc697df6728614aa737": {
          "model_module": "jupyter-leaflet",
          "model_name": "LeafletDrawControlModel",
          "model_module_version": "^0.18",
          "state": {
            "_model_module": "jupyter-leaflet",
            "_model_module_version": "^0.18",
            "_model_name": "LeafletDrawControlModel",
            "_view_count": null,
            "_view_module": "jupyter-leaflet",
            "_view_module_version": "^0.18",
            "_view_name": "LeafletDrawControlView",
            "circle": {},
            "circlemarker": {},
            "data": [],
            "edit": true,
            "marker": {
              "shapeOptions": {
                "color": "#3388ff"
              }
            },
            "options": [
              "position"
            ],
            "polygon": {
              "shapeOptions": {}
            },
            "polyline": {
              "shapeOptions": {}
            },
            "position": "topleft",
            "rectangle": {
              "shapeOptions": {
                "color": "#3388ff"
              }
            },
            "remove": true
          }
        },
        "96f1d5717a644b98aba04d86f6a733a8": {
          "model_module": "jupyter-leaflet",
          "model_name": "LeafletScaleControlModel",
          "model_module_version": "^0.18",
          "state": {
            "_model_module": "jupyter-leaflet",
            "_model_module_version": "^0.18",
            "_model_name": "LeafletScaleControlModel",
            "_view_count": null,
            "_view_module": "jupyter-leaflet",
            "_view_module_version": "^0.18",
            "_view_name": "LeafletScaleControlView",
            "imperial": true,
            "max_width": 100,
            "metric": true,
            "options": [
              "imperial",
              "max_width",
              "metric",
              "position",
              "update_when_idle"
            ],
            "position": "bottomleft",
            "update_when_idle": false
          }
        },
        "50bcf35a3b7447048d1b5cb6352e0809": {
          "model_module": "jupyter-leaflet",
          "model_name": "LeafletMeasureControlModel",
          "model_module_version": "^0.18",
          "state": {
            "_custom_units": {},
            "_model_module": "jupyter-leaflet",
            "_model_module_version": "^0.18",
            "_model_name": "LeafletMeasureControlModel",
            "_view_count": null,
            "_view_module": "jupyter-leaflet",
            "_view_module_version": "^0.18",
            "_view_name": "LeafletMeasureControlView",
            "active_color": "orange",
            "capture_z_index": 10000,
            "completed_color": "#C8F2BE",
            "options": [
              "active_color",
              "capture_z_index",
              "completed_color",
              "popup_options",
              "position",
              "primary_area_unit",
              "primary_length_unit",
              "secondary_area_unit",
              "secondary_length_unit"
            ],
            "popup_options": {
              "className": "leaflet-measure-resultpopup",
              "autoPanPadding": [
                10,
                10
              ]
            },
            "position": "bottomleft",
            "primary_area_unit": "acres",
            "primary_length_unit": "kilometers",
            "secondary_area_unit": null,
            "secondary_length_unit": null
          }
        },
        "806c19721c1f4feba22cea2cd56c5564": {
          "model_module": "jupyter-leaflet",
          "model_name": "LeafletWidgetControlModel",
          "model_module_version": "^0.18",
          "state": {
            "_model_module": "jupyter-leaflet",
            "_model_module_version": "^0.18",
            "_model_name": "LeafletWidgetControlModel",
            "_view_count": null,
            "_view_module": "jupyter-leaflet",
            "_view_module_version": "^0.18",
            "_view_name": "LeafletWidgetControlView",
            "max_height": null,
            "max_width": null,
            "min_height": null,
            "min_width": null,
            "options": [
              "position",
              "transparent_bg"
            ],
            "position": "topright",
            "transparent_bg": false,
            "widget": "IPY_MODEL_c8fe5bf91e70459bb3de6d6e935f6e19"
          }
        },
        "d5ab59e0626140aa8e2b040fdfc4fd40": {
          "model_module": "jupyter-leaflet",
          "model_name": "LeafletAttributionControlModel",
          "model_module_version": "^0.18",
          "state": {
            "_model_module": "jupyter-leaflet",
            "_model_module_version": "^0.18",
            "_model_name": "LeafletAttributionControlModel",
            "_view_count": null,
            "_view_module": "jupyter-leaflet",
            "_view_module_version": "^0.18",
            "_view_name": "LeafletAttributionControlView",
            "options": [
              "position",
              "prefix"
            ],
            "position": "bottomright",
            "prefix": "ipyleaflet"
          }
        },
        "952d6c33917d4fd990e2c056529235de": {
          "model_module": "jupyter-leaflet",
          "model_name": "LeafletMapStyleModel",
          "model_module_version": "^0.18",
          "state": {
            "_model_module": "jupyter-leaflet",
            "_model_module_version": "^0.18",
            "_model_name": "LeafletMapStyleModel",
            "_view_count": null,
            "_view_module": "@jupyter-widgets/base",
            "_view_module_version": "1.2.0",
            "_view_name": "StyleView",
            "cursor": "grab"
          }
        },
        "0fe9bd0457894e298e6ea3216ab5fce6": {
          "model_module": "jupyter-leaflet",
          "model_name": "LeafletMapStyleModel",
          "model_module_version": "^0.18",
          "state": {
            "_model_module": "jupyter-leaflet",
            "_model_module_version": "^0.18",
            "_model_name": "LeafletMapStyleModel",
            "_view_count": null,
            "_view_module": "@jupyter-widgets/base",
            "_view_module_version": "1.2.0",
            "_view_name": "StyleView",
            "cursor": "move"
          }
        },
        "2d6cbf42edfa4b6c9ce74b558b102d20": {
          "model_module": "jupyter-leaflet",
          "model_name": "LeafletTileLayerModel",
          "model_module_version": "^0.18",
          "state": {
            "_model_module": "jupyter-leaflet",
            "_model_module_version": "^0.18",
            "_model_name": "LeafletTileLayerModel",
            "_view_count": null,
            "_view_module": "jupyter-leaflet",
            "_view_module_version": "^0.18",
            "_view_name": "LeafletTileLayerView",
            "attribution": "&copy; <a href=\"https://www.openstreetmap.org/copyright\">OpenStreetMap</a> contributors",
            "base": true,
            "bottom": true,
            "bounds": null,
            "detect_retina": false,
            "loading": false,
            "max_native_zoom": null,
            "max_zoom": 19,
            "min_native_zoom": null,
            "min_zoom": 1,
            "name": "OpenStreetMap.Mapnik",
            "no_wrap": false,
            "opacity": 1,
            "options": [
              "attribution",
              "bounds",
              "detect_retina",
              "max_native_zoom",
              "max_zoom",
              "min_native_zoom",
              "min_zoom",
              "no_wrap",
              "tile_size",
              "tms",
              "zoom_offset"
            ],
            "pane": "",
            "popup": null,
            "popup_max_height": null,
            "popup_max_width": 300,
            "popup_min_width": 50,
            "show_loading": false,
            "subitems": [],
            "tile_size": 256,
            "tms": false,
            "url": "https://tile.openstreetmap.org/{z}/{x}/{y}.png",
            "visible": true,
            "zoom_offset": 0
          }
        },
        "034d6b80ddfd46549e65e3384a384762": {
          "model_module": "jupyter-leaflet",
          "model_name": "LeafletTileLayerModel",
          "model_module_version": "^0.18",
          "state": {
            "_model_module": "jupyter-leaflet",
            "_model_module_version": "^0.18",
            "_model_name": "LeafletTileLayerModel",
            "_view_count": null,
            "_view_module": "jupyter-leaflet",
            "_view_module_version": "^0.18",
            "_view_name": "LeafletTileLayerView",
            "attribution": "Esri",
            "base": false,
            "bottom": true,
            "bounds": null,
            "detect_retina": false,
            "loading": false,
            "max_native_zoom": null,
            "max_zoom": 24,
            "min_native_zoom": null,
            "min_zoom": 0,
            "name": "Esri.WorldImagery",
            "no_wrap": false,
            "opacity": 1,
            "options": [
              "attribution",
              "bounds",
              "detect_retina",
              "max_native_zoom",
              "max_zoom",
              "min_native_zoom",
              "min_zoom",
              "no_wrap",
              "tile_size",
              "tms",
              "zoom_offset"
            ],
            "pane": "",
            "popup": null,
            "popup_max_height": null,
            "popup_max_width": 300,
            "popup_min_width": 50,
            "show_loading": false,
            "subitems": [],
            "tile_size": 256,
            "tms": false,
            "url": "https://server.arcgisonline.com/ArcGIS/rest/services/World_Imagery/MapServer/tile/{z}/{y}/{x}",
            "visible": true,
            "zoom_offset": 0
          }
        },
        "232ea2e1b52647d0953a9f62284b99a6": {
          "model_module": "jupyter-leaflet",
          "model_name": "LeafletTileLayerModel",
          "model_module_version": "^0.18",
          "state": {
            "_model_module": "jupyter-leaflet",
            "_model_module_version": "^0.18",
            "_model_name": "LeafletTileLayerModel",
            "_view_count": null,
            "_view_module": "jupyter-leaflet",
            "_view_module_version": "^0.18",
            "_view_name": "LeafletTileLayerView",
            "attribution": "Google Earth Engine",
            "base": false,
            "bottom": true,
            "bounds": null,
            "detect_retina": false,
            "loading": false,
            "max_native_zoom": null,
            "max_zoom": 24,
            "min_native_zoom": null,
            "min_zoom": 0,
            "name": "1985",
            "no_wrap": false,
            "opacity": 1,
            "options": [
              "attribution",
              "bounds",
              "detect_retina",
              "max_native_zoom",
              "max_zoom",
              "min_native_zoom",
              "min_zoom",
              "no_wrap",
              "tile_size",
              "tms",
              "zoom_offset"
            ],
            "pane": "",
            "popup": null,
            "popup_max_height": null,
            "popup_max_width": 300,
            "popup_min_width": 50,
            "show_loading": false,
            "subitems": [],
            "tile_size": 256,
            "tms": false,
            "url": "https://earthengine.googleapis.com/v1/projects/earthengine-legacy/maps/d49e28ba846fe3756ceeef5b2f2da49e-51ceb96ae53e86f91349b8d2879dbbaf/tiles/{z}/{x}/{y}",
            "visible": true,
            "zoom_offset": 0
          }
        },
        "819c3d22fda34d719d468311c53627a8": {
          "model_module": "jupyter-leaflet",
          "model_name": "LeafletTileLayerModel",
          "model_module_version": "^0.18",
          "state": {
            "_model_module": "jupyter-leaflet",
            "_model_module_version": "^0.18",
            "_model_name": "LeafletTileLayerModel",
            "_view_count": null,
            "_view_module": "jupyter-leaflet",
            "_view_module_version": "^0.18",
            "_view_name": "LeafletTileLayerView",
            "attribution": "Google Earth Engine",
            "base": false,
            "bottom": true,
            "bounds": null,
            "detect_retina": false,
            "loading": false,
            "max_native_zoom": null,
            "max_zoom": 24,
            "min_native_zoom": null,
            "min_zoom": 0,
            "name": "2022",
            "no_wrap": false,
            "opacity": 1,
            "options": [
              "attribution",
              "bounds",
              "detect_retina",
              "max_native_zoom",
              "max_zoom",
              "min_native_zoom",
              "min_zoom",
              "no_wrap",
              "tile_size",
              "tms",
              "zoom_offset"
            ],
            "pane": "",
            "popup": null,
            "popup_max_height": null,
            "popup_max_width": 300,
            "popup_min_width": 50,
            "show_loading": false,
            "subitems": [],
            "tile_size": 256,
            "tms": false,
            "url": "https://earthengine.googleapis.com/v1/projects/earthengine-legacy/maps/16cae669d45afe8eff2a54cd412a1168-eda5e2ef38d201eec21e778c4cdb27e6/tiles/{z}/{x}/{y}",
            "visible": true,
            "zoom_offset": 0
          }
        },
        "3e9fc2d1a2ea4429a43d56aa48d1ac89": {
          "model_module": "@jupyter-widgets/base",
          "model_name": "LayoutModel",
          "model_module_version": "1.2.0",
          "state": {
            "_model_module": "@jupyter-widgets/base",
            "_model_module_version": "1.2.0",
            "_model_name": "LayoutModel",
            "_view_count": null,
            "_view_module": "@jupyter-widgets/base",
            "_view_module_version": "1.2.0",
            "_view_name": "LayoutView",
            "align_content": null,
            "align_items": null,
            "align_self": null,
            "border": null,
            "bottom": null,
            "display": null,
            "flex": null,
            "flex_flow": null,
            "grid_area": null,
            "grid_auto_columns": null,
            "grid_auto_flow": null,
            "grid_auto_rows": null,
            "grid_column": null,
            "grid_gap": null,
            "grid_row": null,
            "grid_template_areas": null,
            "grid_template_columns": null,
            "grid_template_rows": null,
            "height": "600px",
            "justify_content": null,
            "justify_items": null,
            "left": null,
            "margin": null,
            "max_height": null,
            "max_width": null,
            "min_height": null,
            "min_width": null,
            "object_fit": null,
            "object_position": null,
            "order": null,
            "overflow": null,
            "overflow_x": null,
            "overflow_y": null,
            "padding": null,
            "right": null,
            "top": null,
            "visibility": null,
            "width": null
          }
        },
        "f670cc6452d246d280fddf64249d05c5": {
          "model_module": "jupyter-leaflet",
          "model_name": "LeafletMapStyleModel",
          "model_module_version": "^0.18",
          "state": {
            "_model_module": "jupyter-leaflet",
            "_model_module_version": "^0.18",
            "_model_name": "LeafletMapStyleModel",
            "_view_count": null,
            "_view_module": "@jupyter-widgets/base",
            "_view_module_version": "1.2.0",
            "_view_name": "StyleView",
            "cursor": "grab"
          }
        },
        "24346c82fd924a8299964e1f749c76b4": {
          "model_module": "@jupyter-widgets/controls",
          "model_name": "HBoxModel",
          "model_module_version": "1.5.0",
          "state": {
            "_dom_classes": [
              "geemap-colab"
            ],
            "_model_module": "@jupyter-widgets/controls",
            "_model_module_version": "1.5.0",
            "_model_name": "HBoxModel",
            "_view_count": null,
            "_view_module": "@jupyter-widgets/controls",
            "_view_module_version": "1.5.0",
            "_view_name": "HBoxView",
            "box_style": "",
            "children": [
              "IPY_MODEL_bd534e575bcb42278382a31ea58a2f2f"
            ],
            "layout": "IPY_MODEL_311bf047a6ce4d58ad7f0740a0f4b07c"
          }
        },
        "c8fe5bf91e70459bb3de6d6e935f6e19": {
          "model_module": "@jupyter-widgets/controls",
          "model_name": "VBoxModel",
          "model_module_version": "1.5.0",
          "state": {
            "_dom_classes": [
              "geemap-colab"
            ],
            "_model_module": "@jupyter-widgets/controls",
            "_model_module_version": "1.5.0",
            "_model_name": "VBoxModel",
            "_view_count": null,
            "_view_module": "@jupyter-widgets/controls",
            "_view_module_version": "1.5.0",
            "_view_name": "VBoxView",
            "box_style": "",
            "children": [
              "IPY_MODEL_37579bab73c94d5c81844525c19dc96e"
            ],
            "layout": "IPY_MODEL_2066840eb5564ed0be21be4784b0a48a"
          }
        },
        "bd534e575bcb42278382a31ea58a2f2f": {
          "model_module": "@jupyter-widgets/controls",
          "model_name": "ToggleButtonModel",
          "model_module_version": "1.5.0",
          "state": {
            "_dom_classes": [],
            "_model_module": "@jupyter-widgets/controls",
            "_model_module_version": "1.5.0",
            "_model_name": "ToggleButtonModel",
            "_view_count": null,
            "_view_module": "@jupyter-widgets/controls",
            "_view_module_version": "1.5.0",
            "_view_name": "ToggleButtonView",
            "button_style": "",
            "description": "",
            "description_tooltip": null,
            "disabled": false,
            "icon": "globe",
            "layout": "IPY_MODEL_4634cfa93d634147b7ddc9a386880118",
            "style": "IPY_MODEL_25a8c3f4b2b748fa84c630980fa43c6f",
            "tooltip": "Search location/data",
            "value": false
          }
        },
        "311bf047a6ce4d58ad7f0740a0f4b07c": {
          "model_module": "@jupyter-widgets/base",
          "model_name": "LayoutModel",
          "model_module_version": "1.2.0",
          "state": {
            "_model_module": "@jupyter-widgets/base",
            "_model_module_version": "1.2.0",
            "_model_name": "LayoutModel",
            "_view_count": null,
            "_view_module": "@jupyter-widgets/base",
            "_view_module_version": "1.2.0",
            "_view_name": "LayoutView",
            "align_content": null,
            "align_items": null,
            "align_self": null,
            "border": null,
            "bottom": null,
            "display": null,
            "flex": null,
            "flex_flow": null,
            "grid_area": null,
            "grid_auto_columns": null,
            "grid_auto_flow": null,
            "grid_auto_rows": null,
            "grid_column": null,
            "grid_gap": null,
            "grid_row": null,
            "grid_template_areas": null,
            "grid_template_columns": null,
            "grid_template_rows": null,
            "height": null,
            "justify_content": null,
            "justify_items": null,
            "left": null,
            "margin": null,
            "max_height": null,
            "max_width": null,
            "min_height": null,
            "min_width": null,
            "object_fit": null,
            "object_position": null,
            "order": null,
            "overflow": null,
            "overflow_x": null,
            "overflow_y": null,
            "padding": null,
            "right": null,
            "top": null,
            "visibility": null,
            "width": null
          }
        },
        "37579bab73c94d5c81844525c19dc96e": {
          "model_module": "@jupyter-widgets/controls",
          "model_name": "ToggleButtonModel",
          "model_module_version": "1.5.0",
          "state": {
            "_dom_classes": [],
            "_model_module": "@jupyter-widgets/controls",
            "_model_module_version": "1.5.0",
            "_model_name": "ToggleButtonModel",
            "_view_count": null,
            "_view_module": "@jupyter-widgets/controls",
            "_view_module_version": "1.5.0",
            "_view_name": "ToggleButtonView",
            "button_style": "",
            "description": "",
            "description_tooltip": null,
            "disabled": false,
            "icon": "wrench",
            "layout": "IPY_MODEL_b99b0c8e15e04c16ac7512fb482c0a0f",
            "style": "IPY_MODEL_e937b2de9a8f44ffa6a62d5b6d685e56",
            "tooltip": "Toolbar",
            "value": false
          }
        },
        "2066840eb5564ed0be21be4784b0a48a": {
          "model_module": "@jupyter-widgets/base",
          "model_name": "LayoutModel",
          "model_module_version": "1.2.0",
          "state": {
            "_model_module": "@jupyter-widgets/base",
            "_model_module_version": "1.2.0",
            "_model_name": "LayoutModel",
            "_view_count": null,
            "_view_module": "@jupyter-widgets/base",
            "_view_module_version": "1.2.0",
            "_view_name": "LayoutView",
            "align_content": null,
            "align_items": null,
            "align_self": null,
            "border": null,
            "bottom": null,
            "display": null,
            "flex": null,
            "flex_flow": null,
            "grid_area": null,
            "grid_auto_columns": null,
            "grid_auto_flow": null,
            "grid_auto_rows": null,
            "grid_column": null,
            "grid_gap": null,
            "grid_row": null,
            "grid_template_areas": null,
            "grid_template_columns": null,
            "grid_template_rows": null,
            "height": null,
            "justify_content": null,
            "justify_items": null,
            "left": null,
            "margin": null,
            "max_height": null,
            "max_width": null,
            "min_height": null,
            "min_width": null,
            "object_fit": null,
            "object_position": null,
            "order": null,
            "overflow": null,
            "overflow_x": null,
            "overflow_y": null,
            "padding": null,
            "right": null,
            "top": null,
            "visibility": null,
            "width": null
          }
        },
        "4634cfa93d634147b7ddc9a386880118": {
          "model_module": "@jupyter-widgets/base",
          "model_name": "LayoutModel",
          "model_module_version": "1.2.0",
          "state": {
            "_model_module": "@jupyter-widgets/base",
            "_model_module_version": "1.2.0",
            "_model_name": "LayoutModel",
            "_view_count": null,
            "_view_module": "@jupyter-widgets/base",
            "_view_module_version": "1.2.0",
            "_view_name": "LayoutView",
            "align_content": null,
            "align_items": null,
            "align_self": null,
            "border": null,
            "bottom": null,
            "display": null,
            "flex": null,
            "flex_flow": null,
            "grid_area": null,
            "grid_auto_columns": null,
            "grid_auto_flow": null,
            "grid_auto_rows": null,
            "grid_column": null,
            "grid_gap": null,
            "grid_row": null,
            "grid_template_areas": null,
            "grid_template_columns": null,
            "grid_template_rows": null,
            "height": "28px",
            "justify_content": null,
            "justify_items": null,
            "left": null,
            "margin": null,
            "max_height": null,
            "max_width": null,
            "min_height": null,
            "min_width": null,
            "object_fit": null,
            "object_position": null,
            "order": null,
            "overflow": null,
            "overflow_x": null,
            "overflow_y": null,
            "padding": "0px 0px 0px 4px",
            "right": null,
            "top": null,
            "visibility": null,
            "width": "28px"
          }
        },
        "25a8c3f4b2b748fa84c630980fa43c6f": {
          "model_module": "@jupyter-widgets/controls",
          "model_name": "DescriptionStyleModel",
          "model_module_version": "1.5.0",
          "state": {
            "_model_module": "@jupyter-widgets/controls",
            "_model_module_version": "1.5.0",
            "_model_name": "DescriptionStyleModel",
            "_view_count": null,
            "_view_module": "@jupyter-widgets/base",
            "_view_module_version": "1.2.0",
            "_view_name": "StyleView",
            "description_width": ""
          }
        },
        "b99b0c8e15e04c16ac7512fb482c0a0f": {
          "model_module": "@jupyter-widgets/base",
          "model_name": "LayoutModel",
          "model_module_version": "1.2.0",
          "state": {
            "_model_module": "@jupyter-widgets/base",
            "_model_module_version": "1.2.0",
            "_model_name": "LayoutModel",
            "_view_count": null,
            "_view_module": "@jupyter-widgets/base",
            "_view_module_version": "1.2.0",
            "_view_name": "LayoutView",
            "align_content": null,
            "align_items": null,
            "align_self": null,
            "border": null,
            "bottom": null,
            "display": null,
            "flex": null,
            "flex_flow": null,
            "grid_area": null,
            "grid_auto_columns": null,
            "grid_auto_flow": null,
            "grid_auto_rows": null,
            "grid_column": null,
            "grid_gap": null,
            "grid_row": null,
            "grid_template_areas": null,
            "grid_template_columns": null,
            "grid_template_rows": null,
            "height": "28px",
            "justify_content": null,
            "justify_items": null,
            "left": null,
            "margin": null,
            "max_height": null,
            "max_width": null,
            "min_height": null,
            "min_width": null,
            "object_fit": null,
            "object_position": null,
            "order": null,
            "overflow": null,
            "overflow_x": null,
            "overflow_y": null,
            "padding": "0px 0px 0px 4px",
            "right": null,
            "top": null,
            "visibility": null,
            "width": "28px"
          }
        },
        "e937b2de9a8f44ffa6a62d5b6d685e56": {
          "model_module": "@jupyter-widgets/controls",
          "model_name": "DescriptionStyleModel",
          "model_module_version": "1.5.0",
          "state": {
            "_model_module": "@jupyter-widgets/controls",
            "_model_module_version": "1.5.0",
            "_model_name": "DescriptionStyleModel",
            "_view_count": null,
            "_view_module": "@jupyter-widgets/base",
            "_view_module_version": "1.2.0",
            "_view_name": "StyleView",
            "description_width": ""
          }
        },
        "1a0bd5eb20a14353a85bf6ac5b626955": {
          "model_module": "jupyter-leaflet",
          "model_name": "LeafletTileLayerModel",
          "model_module_version": "^0.18",
          "state": {
            "_model_module": "jupyter-leaflet",
            "_model_module_version": "^0.18",
            "_model_name": "LeafletTileLayerModel",
            "_view_count": null,
            "_view_module": "jupyter-leaflet",
            "_view_module_version": "^0.18",
            "_view_name": "LeafletTileLayerView",
            "attribution": "Google Earth Engine",
            "base": false,
            "bottom": true,
            "bounds": null,
            "detect_retina": false,
            "loading": false,
            "max_native_zoom": null,
            "max_zoom": 24,
            "min_native_zoom": null,
            "min_zoom": 0,
            "name": "Parque Nacional da Chapada das Mesas",
            "no_wrap": false,
            "opacity": 1,
            "options": [
              "attribution",
              "bounds",
              "detect_retina",
              "max_native_zoom",
              "max_zoom",
              "min_native_zoom",
              "min_zoom",
              "no_wrap",
              "tile_size",
              "tms",
              "zoom_offset"
            ],
            "pane": "",
            "popup": null,
            "popup_max_height": null,
            "popup_max_width": 300,
            "popup_min_width": 50,
            "show_loading": false,
            "subitems": [],
            "tile_size": 256,
            "tms": false,
            "url": "https://earthengine.googleapis.com/v1/projects/earthengine-legacy/maps/d400d04d88b416c81fc15bd41fa2abe9-9a5444ed81ef6d898ef119884cac8791/tiles/{z}/{x}/{y}",
            "visible": true,
            "zoom_offset": 0
          }
        },
        "651ed56c31294b0a9ffa734664b3952d": {
          "model_module": "jupyter-leaflet",
          "model_name": "LeafletTileLayerModel",
          "model_module_version": "^0.18",
          "state": {
            "_model_module": "jupyter-leaflet",
            "_model_module_version": "^0.18",
            "_model_name": "LeafletTileLayerModel",
            "_view_count": null,
            "_view_module": "jupyter-leaflet",
            "_view_module_version": "^0.18",
            "_view_name": "LeafletTileLayerView",
            "attribution": "Google Earth Engine",
            "base": false,
            "bottom": true,
            "bounds": null,
            "detect_retina": false,
            "loading": false,
            "max_native_zoom": null,
            "max_zoom": 24,
            "min_native_zoom": null,
            "min_zoom": 0,
            "name": "Parque Nacional da Chapada das Mesas",
            "no_wrap": false,
            "opacity": 1,
            "options": [
              "attribution",
              "bounds",
              "detect_retina",
              "max_native_zoom",
              "max_zoom",
              "min_native_zoom",
              "min_zoom",
              "no_wrap",
              "tile_size",
              "tms",
              "zoom_offset"
            ],
            "pane": "",
            "popup": null,
            "popup_max_height": null,
            "popup_max_width": 300,
            "popup_min_width": 50,
            "show_loading": false,
            "subitems": [],
            "tile_size": 256,
            "tms": false,
            "url": "https://earthengine.googleapis.com/v1/projects/earthengine-legacy/maps/d400d04d88b416c81fc15bd41fa2abe9-c293f2fc94ab16d04dcfcf983661ae8e/tiles/{z}/{x}/{y}",
            "visible": true,
            "zoom_offset": 0
          }
        },
        "385ff40945f341c08cde031604acbfc8": {
          "model_module": "jupyter-leaflet",
          "model_name": "LeafletMapModel",
          "model_module_version": "^0.18",
          "state": {
            "_dom_classes": [],
            "_model_module": "jupyter-leaflet",
            "_model_module_version": "^0.18",
            "_model_name": "LeafletMapModel",
            "_view_count": null,
            "_view_module": "jupyter-leaflet",
            "_view_module_version": "^0.18",
            "_view_name": "LeafletMapView",
            "bottom": 812,
            "bounce_at_zoom_limits": true,
            "box_zoom": true,
            "center": [
              0,
              0
            ],
            "close_popup_on_click": true,
            "controls": [
              "IPY_MODEL_d0efc808a00d49bea5f927e1f0a88aac",
              "IPY_MODEL_2e95a1d133ce4f679aa94e27d65f2b4d",
              "IPY_MODEL_01661f9feb9644c9898d964975cb559f",
              "IPY_MODEL_a44513e2f0a34ae491eb836fb448f6e3",
              "IPY_MODEL_2fd9a5a7c02b494ab9a4bb021fc6127b",
              "IPY_MODEL_a9c6554c073d411d8bbe035e860fb4c9",
              "IPY_MODEL_4d406d8a0124456f93e308a25d68a64a",
              "IPY_MODEL_d7861681b64a41a9b3e529b6bd2c2281"
            ],
            "crs": {
              "name": "EPSG3857",
              "custom": false
            },
            "default_style": "IPY_MODEL_b96e31e846de4875b42853a69a7b1490",
            "double_click_zoom": true,
            "dragging": true,
            "dragging_style": "IPY_MODEL_de66ae8bf30f448f8368963d420e516c",
            "east": 216.91406250000003,
            "fullscreen": false,
            "inertia": true,
            "inertia_deceleration": 3000,
            "inertia_max_speed": 1500,
            "interpolation": "bilinear",
            "keyboard": true,
            "keyboard_pan_offset": 80,
            "keyboard_zoom_offset": 1,
            "layers": [
              "IPY_MODEL_5c3dd69902f14425a62bcb86bb9d73bb",
              "IPY_MODEL_e365b65cd45c4ec6ae53e2d67916c65a"
            ],
            "layout": "IPY_MODEL_334f297b66dd4f0f9f7f113e7c919038",
            "left": -105,
            "max_zoom": 24,
            "min_zoom": null,
            "modisdate": "2024-01-18",
            "north": 71.9653876991313,
            "options": [
              "bounce_at_zoom_limits",
              "box_zoom",
              "center",
              "close_popup_on_click",
              "double_click_zoom",
              "dragging",
              "fullscreen",
              "inertia",
              "inertia_deceleration",
              "inertia_max_speed",
              "interpolation",
              "keyboard",
              "keyboard_pan_offset",
              "keyboard_zoom_offset",
              "max_zoom",
              "min_zoom",
              "prefer_canvas",
              "scroll_wheel_zoom",
              "tap",
              "tap_tolerance",
              "touch_zoom",
              "world_copy_jump",
              "zoom",
              "zoom_animation_threshold",
              "zoom_delta",
              "zoom_snap"
            ],
            "panes": {},
            "prefer_canvas": false,
            "right": 1129,
            "scroll_wheel_zoom": true,
            "south": -71.96538769913128,
            "style": "IPY_MODEL_08ec7a4a696a485ea4c7e4cc11618cec",
            "tap": true,
            "tap_tolerance": 15,
            "top": 212,
            "touch_zoom": true,
            "west": -216.91406250000003,
            "window_url": "https://telbb5ruvu-496ff2e9c6d22116-0-colab.googleusercontent.com/outputframe.html?vrz=colab_20240118-060147_RC00_599468684",
            "world_copy_jump": false,
            "zoom": 2,
            "zoom_animation_threshold": 4,
            "zoom_delta": 1,
            "zoom_snap": 1
          }
        },
        "d0efc808a00d49bea5f927e1f0a88aac": {
          "model_module": "jupyter-leaflet",
          "model_name": "LeafletWidgetControlModel",
          "model_module_version": "^0.18",
          "state": {
            "_model_module": "jupyter-leaflet",
            "_model_module_version": "^0.18",
            "_model_name": "LeafletWidgetControlModel",
            "_view_count": null,
            "_view_module": "jupyter-leaflet",
            "_view_module_version": "^0.18",
            "_view_name": "LeafletWidgetControlView",
            "max_height": null,
            "max_width": null,
            "min_height": null,
            "min_width": null,
            "options": [
              "position",
              "transparent_bg"
            ],
            "position": "topleft",
            "transparent_bg": false,
            "widget": "IPY_MODEL_d246b092a4ee4226896406bfbdc764e9"
          }
        },
        "2e95a1d133ce4f679aa94e27d65f2b4d": {
          "model_module": "jupyter-leaflet",
          "model_name": "LeafletZoomControlModel",
          "model_module_version": "^0.18",
          "state": {
            "_model_module": "jupyter-leaflet",
            "_model_module_version": "^0.18",
            "_model_name": "LeafletZoomControlModel",
            "_view_count": null,
            "_view_module": "jupyter-leaflet",
            "_view_module_version": "^0.18",
            "_view_name": "LeafletZoomControlView",
            "options": [
              "position",
              "zoom_in_text",
              "zoom_in_title",
              "zoom_out_text",
              "zoom_out_title"
            ],
            "position": "topleft",
            "zoom_in_text": "+",
            "zoom_in_title": "Zoom in",
            "zoom_out_text": "-",
            "zoom_out_title": "Zoom out"
          }
        },
        "01661f9feb9644c9898d964975cb559f": {
          "model_module": "jupyter-leaflet",
          "model_name": "LeafletFullScreenControlModel",
          "model_module_version": "^0.18",
          "state": {
            "_model_module": "jupyter-leaflet",
            "_model_module_version": "^0.18",
            "_model_name": "LeafletFullScreenControlModel",
            "_view_count": null,
            "_view_module": "jupyter-leaflet",
            "_view_module_version": "^0.18",
            "_view_name": "LeafletFullScreenControlView",
            "options": [
              "position"
            ],
            "position": "topleft"
          }
        },
        "a44513e2f0a34ae491eb836fb448f6e3": {
          "model_module": "jupyter-leaflet",
          "model_name": "LeafletDrawControlModel",
          "model_module_version": "^0.18",
          "state": {
            "_model_module": "jupyter-leaflet",
            "_model_module_version": "^0.18",
            "_model_name": "LeafletDrawControlModel",
            "_view_count": null,
            "_view_module": "jupyter-leaflet",
            "_view_module_version": "^0.18",
            "_view_name": "LeafletDrawControlView",
            "circle": {},
            "circlemarker": {},
            "data": [],
            "edit": true,
            "marker": {
              "shapeOptions": {
                "color": "#3388ff"
              }
            },
            "options": [
              "position"
            ],
            "polygon": {
              "shapeOptions": {}
            },
            "polyline": {
              "shapeOptions": {}
            },
            "position": "topleft",
            "rectangle": {
              "shapeOptions": {
                "color": "#3388ff"
              }
            },
            "remove": true
          }
        },
        "2fd9a5a7c02b494ab9a4bb021fc6127b": {
          "model_module": "jupyter-leaflet",
          "model_name": "LeafletScaleControlModel",
          "model_module_version": "^0.18",
          "state": {
            "_model_module": "jupyter-leaflet",
            "_model_module_version": "^0.18",
            "_model_name": "LeafletScaleControlModel",
            "_view_count": null,
            "_view_module": "jupyter-leaflet",
            "_view_module_version": "^0.18",
            "_view_name": "LeafletScaleControlView",
            "imperial": true,
            "max_width": 100,
            "metric": true,
            "options": [
              "imperial",
              "max_width",
              "metric",
              "position",
              "update_when_idle"
            ],
            "position": "bottomleft",
            "update_when_idle": false
          }
        },
        "a9c6554c073d411d8bbe035e860fb4c9": {
          "model_module": "jupyter-leaflet",
          "model_name": "LeafletMeasureControlModel",
          "model_module_version": "^0.18",
          "state": {
            "_custom_units": {},
            "_model_module": "jupyter-leaflet",
            "_model_module_version": "^0.18",
            "_model_name": "LeafletMeasureControlModel",
            "_view_count": null,
            "_view_module": "jupyter-leaflet",
            "_view_module_version": "^0.18",
            "_view_name": "LeafletMeasureControlView",
            "active_color": "orange",
            "capture_z_index": 10000,
            "completed_color": "#C8F2BE",
            "options": [
              "active_color",
              "capture_z_index",
              "completed_color",
              "popup_options",
              "position",
              "primary_area_unit",
              "primary_length_unit",
              "secondary_area_unit",
              "secondary_length_unit"
            ],
            "popup_options": {
              "className": "leaflet-measure-resultpopup",
              "autoPanPadding": [
                10,
                10
              ]
            },
            "position": "bottomleft",
            "primary_area_unit": "acres",
            "primary_length_unit": "kilometers",
            "secondary_area_unit": null,
            "secondary_length_unit": null
          }
        },
        "4d406d8a0124456f93e308a25d68a64a": {
          "model_module": "jupyter-leaflet",
          "model_name": "LeafletWidgetControlModel",
          "model_module_version": "^0.18",
          "state": {
            "_model_module": "jupyter-leaflet",
            "_model_module_version": "^0.18",
            "_model_name": "LeafletWidgetControlModel",
            "_view_count": null,
            "_view_module": "jupyter-leaflet",
            "_view_module_version": "^0.18",
            "_view_name": "LeafletWidgetControlView",
            "max_height": null,
            "max_width": null,
            "min_height": null,
            "min_width": null,
            "options": [
              "position",
              "transparent_bg"
            ],
            "position": "topright",
            "transparent_bg": false,
            "widget": "IPY_MODEL_3e331d49b81b428ebce4ac48fc2dbdc0"
          }
        },
        "d7861681b64a41a9b3e529b6bd2c2281": {
          "model_module": "jupyter-leaflet",
          "model_name": "LeafletAttributionControlModel",
          "model_module_version": "^0.18",
          "state": {
            "_model_module": "jupyter-leaflet",
            "_model_module_version": "^0.18",
            "_model_name": "LeafletAttributionControlModel",
            "_view_count": null,
            "_view_module": "jupyter-leaflet",
            "_view_module_version": "^0.18",
            "_view_name": "LeafletAttributionControlView",
            "options": [
              "position",
              "prefix"
            ],
            "position": "bottomright",
            "prefix": "ipyleaflet"
          }
        },
        "b96e31e846de4875b42853a69a7b1490": {
          "model_module": "jupyter-leaflet",
          "model_name": "LeafletMapStyleModel",
          "model_module_version": "^0.18",
          "state": {
            "_model_module": "jupyter-leaflet",
            "_model_module_version": "^0.18",
            "_model_name": "LeafletMapStyleModel",
            "_view_count": null,
            "_view_module": "@jupyter-widgets/base",
            "_view_module_version": "1.2.0",
            "_view_name": "StyleView",
            "cursor": "grab"
          }
        },
        "de66ae8bf30f448f8368963d420e516c": {
          "model_module": "jupyter-leaflet",
          "model_name": "LeafletMapStyleModel",
          "model_module_version": "^0.18",
          "state": {
            "_model_module": "jupyter-leaflet",
            "_model_module_version": "^0.18",
            "_model_name": "LeafletMapStyleModel",
            "_view_count": null,
            "_view_module": "@jupyter-widgets/base",
            "_view_module_version": "1.2.0",
            "_view_name": "StyleView",
            "cursor": "move"
          }
        },
        "5c3dd69902f14425a62bcb86bb9d73bb": {
          "model_module": "jupyter-leaflet",
          "model_name": "LeafletTileLayerModel",
          "model_module_version": "^0.18",
          "state": {
            "_model_module": "jupyter-leaflet",
            "_model_module_version": "^0.18",
            "_model_name": "LeafletTileLayerModel",
            "_view_count": null,
            "_view_module": "jupyter-leaflet",
            "_view_module_version": "^0.18",
            "_view_name": "LeafletTileLayerView",
            "attribution": "&copy; <a href=\"https://www.openstreetmap.org/copyright\">OpenStreetMap</a> contributors",
            "base": true,
            "bottom": true,
            "bounds": null,
            "detect_retina": false,
            "loading": false,
            "max_native_zoom": null,
            "max_zoom": 19,
            "min_native_zoom": null,
            "min_zoom": 1,
            "name": "OpenStreetMap.Mapnik",
            "no_wrap": false,
            "opacity": 1,
            "options": [
              "attribution",
              "bounds",
              "detect_retina",
              "max_native_zoom",
              "max_zoom",
              "min_native_zoom",
              "min_zoom",
              "no_wrap",
              "tile_size",
              "tms",
              "zoom_offset"
            ],
            "pane": "",
            "popup": null,
            "popup_max_height": null,
            "popup_max_width": 300,
            "popup_min_width": 50,
            "show_loading": false,
            "subitems": [],
            "tile_size": 256,
            "tms": false,
            "url": "https://tile.openstreetmap.org/{z}/{x}/{y}.png",
            "visible": true,
            "zoom_offset": 0
          }
        },
        "e365b65cd45c4ec6ae53e2d67916c65a": {
          "model_module": "jupyter-leaflet",
          "model_name": "LeafletTileLayerModel",
          "model_module_version": "^0.18",
          "state": {
            "_model_module": "jupyter-leaflet",
            "_model_module_version": "^0.18",
            "_model_name": "LeafletTileLayerModel",
            "_view_count": null,
            "_view_module": "jupyter-leaflet",
            "_view_module_version": "^0.18",
            "_view_name": "LeafletTileLayerView",
            "attribution": "Esri",
            "base": false,
            "bottom": true,
            "bounds": null,
            "detect_retina": false,
            "loading": false,
            "max_native_zoom": null,
            "max_zoom": 24,
            "min_native_zoom": null,
            "min_zoom": 0,
            "name": "Esri.WorldImagery",
            "no_wrap": false,
            "opacity": 1,
            "options": [
              "attribution",
              "bounds",
              "detect_retina",
              "max_native_zoom",
              "max_zoom",
              "min_native_zoom",
              "min_zoom",
              "no_wrap",
              "tile_size",
              "tms",
              "zoom_offset"
            ],
            "pane": "",
            "popup": null,
            "popup_max_height": null,
            "popup_max_width": 300,
            "popup_min_width": 50,
            "show_loading": false,
            "subitems": [],
            "tile_size": 256,
            "tms": false,
            "url": "https://server.arcgisonline.com/ArcGIS/rest/services/World_Imagery/MapServer/tile/{z}/{y}/{x}",
            "visible": true,
            "zoom_offset": 0
          }
        },
        "334f297b66dd4f0f9f7f113e7c919038": {
          "model_module": "@jupyter-widgets/base",
          "model_name": "LayoutModel",
          "model_module_version": "1.2.0",
          "state": {
            "_model_module": "@jupyter-widgets/base",
            "_model_module_version": "1.2.0",
            "_model_name": "LayoutModel",
            "_view_count": null,
            "_view_module": "@jupyter-widgets/base",
            "_view_module_version": "1.2.0",
            "_view_name": "LayoutView",
            "align_content": null,
            "align_items": null,
            "align_self": null,
            "border": null,
            "bottom": null,
            "display": null,
            "flex": null,
            "flex_flow": null,
            "grid_area": null,
            "grid_auto_columns": null,
            "grid_auto_flow": null,
            "grid_auto_rows": null,
            "grid_column": null,
            "grid_gap": null,
            "grid_row": null,
            "grid_template_areas": null,
            "grid_template_columns": null,
            "grid_template_rows": null,
            "height": "600px",
            "justify_content": null,
            "justify_items": null,
            "left": null,
            "margin": null,
            "max_height": null,
            "max_width": null,
            "min_height": null,
            "min_width": null,
            "object_fit": null,
            "object_position": null,
            "order": null,
            "overflow": null,
            "overflow_x": null,
            "overflow_y": null,
            "padding": null,
            "right": null,
            "top": null,
            "visibility": null,
            "width": null
          }
        },
        "08ec7a4a696a485ea4c7e4cc11618cec": {
          "model_module": "jupyter-leaflet",
          "model_name": "LeafletMapStyleModel",
          "model_module_version": "^0.18",
          "state": {
            "_model_module": "jupyter-leaflet",
            "_model_module_version": "^0.18",
            "_model_name": "LeafletMapStyleModel",
            "_view_count": null,
            "_view_module": "@jupyter-widgets/base",
            "_view_module_version": "1.2.0",
            "_view_name": "StyleView",
            "cursor": "grab"
          }
        },
        "d246b092a4ee4226896406bfbdc764e9": {
          "model_module": "@jupyter-widgets/controls",
          "model_name": "HBoxModel",
          "model_module_version": "1.5.0",
          "state": {
            "_dom_classes": [
              "geemap-colab"
            ],
            "_model_module": "@jupyter-widgets/controls",
            "_model_module_version": "1.5.0",
            "_model_name": "HBoxModel",
            "_view_count": null,
            "_view_module": "@jupyter-widgets/controls",
            "_view_module_version": "1.5.0",
            "_view_name": "HBoxView",
            "box_style": "",
            "children": [
              "IPY_MODEL_7216918ea13c43228eab3522ccf76b32"
            ],
            "layout": "IPY_MODEL_9b3b88c58ce44471b46df471aadf3846"
          }
        },
        "3e331d49b81b428ebce4ac48fc2dbdc0": {
          "model_module": "@jupyter-widgets/controls",
          "model_name": "VBoxModel",
          "model_module_version": "1.5.0",
          "state": {
            "_dom_classes": [
              "geemap-colab"
            ],
            "_model_module": "@jupyter-widgets/controls",
            "_model_module_version": "1.5.0",
            "_model_name": "VBoxModel",
            "_view_count": null,
            "_view_module": "@jupyter-widgets/controls",
            "_view_module_version": "1.5.0",
            "_view_name": "VBoxView",
            "box_style": "",
            "children": [
              "IPY_MODEL_f67867c870104ad1a0aea2e5d6682368"
            ],
            "layout": "IPY_MODEL_ae8fd5b735da4e309fe8ba354e191904"
          }
        },
        "7216918ea13c43228eab3522ccf76b32": {
          "model_module": "@jupyter-widgets/controls",
          "model_name": "ToggleButtonModel",
          "model_module_version": "1.5.0",
          "state": {
            "_dom_classes": [],
            "_model_module": "@jupyter-widgets/controls",
            "_model_module_version": "1.5.0",
            "_model_name": "ToggleButtonModel",
            "_view_count": null,
            "_view_module": "@jupyter-widgets/controls",
            "_view_module_version": "1.5.0",
            "_view_name": "ToggleButtonView",
            "button_style": "",
            "description": "",
            "description_tooltip": null,
            "disabled": false,
            "icon": "globe",
            "layout": "IPY_MODEL_d272e83670024fe3b55b9e0979c0d44d",
            "style": "IPY_MODEL_894aa28a7b854a29b4a2d4a2531b1e7a",
            "tooltip": "Search location/data",
            "value": false
          }
        },
        "9b3b88c58ce44471b46df471aadf3846": {
          "model_module": "@jupyter-widgets/base",
          "model_name": "LayoutModel",
          "model_module_version": "1.2.0",
          "state": {
            "_model_module": "@jupyter-widgets/base",
            "_model_module_version": "1.2.0",
            "_model_name": "LayoutModel",
            "_view_count": null,
            "_view_module": "@jupyter-widgets/base",
            "_view_module_version": "1.2.0",
            "_view_name": "LayoutView",
            "align_content": null,
            "align_items": null,
            "align_self": null,
            "border": null,
            "bottom": null,
            "display": null,
            "flex": null,
            "flex_flow": null,
            "grid_area": null,
            "grid_auto_columns": null,
            "grid_auto_flow": null,
            "grid_auto_rows": null,
            "grid_column": null,
            "grid_gap": null,
            "grid_row": null,
            "grid_template_areas": null,
            "grid_template_columns": null,
            "grid_template_rows": null,
            "height": null,
            "justify_content": null,
            "justify_items": null,
            "left": null,
            "margin": null,
            "max_height": null,
            "max_width": null,
            "min_height": null,
            "min_width": null,
            "object_fit": null,
            "object_position": null,
            "order": null,
            "overflow": null,
            "overflow_x": null,
            "overflow_y": null,
            "padding": null,
            "right": null,
            "top": null,
            "visibility": null,
            "width": null
          }
        },
        "f67867c870104ad1a0aea2e5d6682368": {
          "model_module": "@jupyter-widgets/controls",
          "model_name": "ToggleButtonModel",
          "model_module_version": "1.5.0",
          "state": {
            "_dom_classes": [],
            "_model_module": "@jupyter-widgets/controls",
            "_model_module_version": "1.5.0",
            "_model_name": "ToggleButtonModel",
            "_view_count": null,
            "_view_module": "@jupyter-widgets/controls",
            "_view_module_version": "1.5.0",
            "_view_name": "ToggleButtonView",
            "button_style": "",
            "description": "",
            "description_tooltip": null,
            "disabled": false,
            "icon": "wrench",
            "layout": "IPY_MODEL_5a83697351a548c7b22dc9ca39d2e563",
            "style": "IPY_MODEL_dcc912ec17f74d17a5cac896fab72cc6",
            "tooltip": "Toolbar",
            "value": false
          }
        },
        "ae8fd5b735da4e309fe8ba354e191904": {
          "model_module": "@jupyter-widgets/base",
          "model_name": "LayoutModel",
          "model_module_version": "1.2.0",
          "state": {
            "_model_module": "@jupyter-widgets/base",
            "_model_module_version": "1.2.0",
            "_model_name": "LayoutModel",
            "_view_count": null,
            "_view_module": "@jupyter-widgets/base",
            "_view_module_version": "1.2.0",
            "_view_name": "LayoutView",
            "align_content": null,
            "align_items": null,
            "align_self": null,
            "border": null,
            "bottom": null,
            "display": null,
            "flex": null,
            "flex_flow": null,
            "grid_area": null,
            "grid_auto_columns": null,
            "grid_auto_flow": null,
            "grid_auto_rows": null,
            "grid_column": null,
            "grid_gap": null,
            "grid_row": null,
            "grid_template_areas": null,
            "grid_template_columns": null,
            "grid_template_rows": null,
            "height": null,
            "justify_content": null,
            "justify_items": null,
            "left": null,
            "margin": null,
            "max_height": null,
            "max_width": null,
            "min_height": null,
            "min_width": null,
            "object_fit": null,
            "object_position": null,
            "order": null,
            "overflow": null,
            "overflow_x": null,
            "overflow_y": null,
            "padding": null,
            "right": null,
            "top": null,
            "visibility": null,
            "width": null
          }
        },
        "d272e83670024fe3b55b9e0979c0d44d": {
          "model_module": "@jupyter-widgets/base",
          "model_name": "LayoutModel",
          "model_module_version": "1.2.0",
          "state": {
            "_model_module": "@jupyter-widgets/base",
            "_model_module_version": "1.2.0",
            "_model_name": "LayoutModel",
            "_view_count": null,
            "_view_module": "@jupyter-widgets/base",
            "_view_module_version": "1.2.0",
            "_view_name": "LayoutView",
            "align_content": null,
            "align_items": null,
            "align_self": null,
            "border": null,
            "bottom": null,
            "display": null,
            "flex": null,
            "flex_flow": null,
            "grid_area": null,
            "grid_auto_columns": null,
            "grid_auto_flow": null,
            "grid_auto_rows": null,
            "grid_column": null,
            "grid_gap": null,
            "grid_row": null,
            "grid_template_areas": null,
            "grid_template_columns": null,
            "grid_template_rows": null,
            "height": "28px",
            "justify_content": null,
            "justify_items": null,
            "left": null,
            "margin": null,
            "max_height": null,
            "max_width": null,
            "min_height": null,
            "min_width": null,
            "object_fit": null,
            "object_position": null,
            "order": null,
            "overflow": null,
            "overflow_x": null,
            "overflow_y": null,
            "padding": "0px 0px 0px 4px",
            "right": null,
            "top": null,
            "visibility": null,
            "width": "28px"
          }
        },
        "894aa28a7b854a29b4a2d4a2531b1e7a": {
          "model_module": "@jupyter-widgets/controls",
          "model_name": "DescriptionStyleModel",
          "model_module_version": "1.5.0",
          "state": {
            "_model_module": "@jupyter-widgets/controls",
            "_model_module_version": "1.5.0",
            "_model_name": "DescriptionStyleModel",
            "_view_count": null,
            "_view_module": "@jupyter-widgets/base",
            "_view_module_version": "1.2.0",
            "_view_name": "StyleView",
            "description_width": ""
          }
        },
        "5a83697351a548c7b22dc9ca39d2e563": {
          "model_module": "@jupyter-widgets/base",
          "model_name": "LayoutModel",
          "model_module_version": "1.2.0",
          "state": {
            "_model_module": "@jupyter-widgets/base",
            "_model_module_version": "1.2.0",
            "_model_name": "LayoutModel",
            "_view_count": null,
            "_view_module": "@jupyter-widgets/base",
            "_view_module_version": "1.2.0",
            "_view_name": "LayoutView",
            "align_content": null,
            "align_items": null,
            "align_self": null,
            "border": null,
            "bottom": null,
            "display": null,
            "flex": null,
            "flex_flow": null,
            "grid_area": null,
            "grid_auto_columns": null,
            "grid_auto_flow": null,
            "grid_auto_rows": null,
            "grid_column": null,
            "grid_gap": null,
            "grid_row": null,
            "grid_template_areas": null,
            "grid_template_columns": null,
            "grid_template_rows": null,
            "height": "28px",
            "justify_content": null,
            "justify_items": null,
            "left": null,
            "margin": null,
            "max_height": null,
            "max_width": null,
            "min_height": null,
            "min_width": null,
            "object_fit": null,
            "object_position": null,
            "order": null,
            "overflow": null,
            "overflow_x": null,
            "overflow_y": null,
            "padding": "0px 0px 0px 4px",
            "right": null,
            "top": null,
            "visibility": null,
            "width": "28px"
          }
        },
        "dcc912ec17f74d17a5cac896fab72cc6": {
          "model_module": "@jupyter-widgets/controls",
          "model_name": "DescriptionStyleModel",
          "model_module_version": "1.5.0",
          "state": {
            "_model_module": "@jupyter-widgets/controls",
            "_model_module_version": "1.5.0",
            "_model_name": "DescriptionStyleModel",
            "_view_count": null,
            "_view_module": "@jupyter-widgets/base",
            "_view_module_version": "1.2.0",
            "_view_name": "StyleView",
            "description_width": ""
          }
        },
        "9663c356d2a94388a2940d7590cc84bd": {
          "model_module": "jupyter-leaflet",
          "model_name": "LeafletMapModel",
          "model_module_version": "^0.18",
          "state": {
            "_dom_classes": [],
            "_model_module": "jupyter-leaflet",
            "_model_module_version": "^0.18",
            "_model_name": "LeafletMapModel",
            "_view_count": null,
            "_view_module": "jupyter-leaflet",
            "_view_module_version": "^0.18",
            "_view_name": "LeafletMapView",
            "bottom": 136594,
            "bounce_at_zoom_limits": true,
            "box_zoom": true,
            "center": [
              -7.152470125883857,
              -47.144687193400344
            ],
            "close_popup_on_click": true,
            "controls": [
              "IPY_MODEL_83af2bfe5a654a93bca4269bf0e519b1",
              "IPY_MODEL_40312f638ee9498194b09e347a905505",
              "IPY_MODEL_c947a863a79b42e3a2b6f5253e7b3f4d",
              "IPY_MODEL_f65c6fedd474456297d0b925d2314803",
              "IPY_MODEL_dbdbe337e60b4676bd5e244ee3830e4b",
              "IPY_MODEL_5f15499a4fce42b78873d6fa08875799",
              "IPY_MODEL_494c80375c4e42d3b60abef0b0860679",
              "IPY_MODEL_c0f505a64dd4425eba56ecb4e9c71559"
            ],
            "crs": {
              "name": "EPSG3857",
              "custom": false
            },
            "default_style": "IPY_MODEL_c61e294efcc940ae89bbd7d57cff9978",
            "double_click_zoom": true,
            "dragging": true,
            "dragging_style": "IPY_MODEL_986e3d243a0642d4b171977adfc10fd3",
            "east": -46.29776000976563,
            "fullscreen": false,
            "inertia": true,
            "inertia_deceleration": 3000,
            "inertia_max_speed": 1500,
            "interpolation": "bilinear",
            "keyboard": true,
            "keyboard_pan_offset": 80,
            "keyboard_zoom_offset": 1,
            "layers": [
              "IPY_MODEL_0c84895f13aa425485241b2e379b37c5",
              "IPY_MODEL_7294e0759ae441e69165f7e58b391354",
              "IPY_MODEL_fa06a8cb1b56432a93b41d6b775368ac"
            ],
            "layout": "IPY_MODEL_ad25ccf5afdf4064af6b4afa27b0cf0b",
            "left": 96125,
            "max_zoom": 24,
            "min_zoom": null,
            "modisdate": "2024-01-18",
            "north": -6.7437137958173246,
            "options": [
              "bounce_at_zoom_limits",
              "box_zoom",
              "center",
              "close_popup_on_click",
              "double_click_zoom",
              "dragging",
              "fullscreen",
              "inertia",
              "inertia_deceleration",
              "inertia_max_speed",
              "interpolation",
              "keyboard",
              "keyboard_pan_offset",
              "keyboard_zoom_offset",
              "max_zoom",
              "min_zoom",
              "prefer_canvas",
              "scroll_wheel_zoom",
              "tap",
              "tap_tolerance",
              "touch_zoom",
              "world_copy_jump",
              "zoom",
              "zoom_animation_threshold",
              "zoom_delta",
              "zoom_snap"
            ],
            "panes": {},
            "prefer_canvas": false,
            "right": 97359,
            "scroll_wheel_zoom": true,
            "south": -7.561269314400291,
            "style": "IPY_MODEL_c61e294efcc940ae89bbd7d57cff9978",
            "tap": true,
            "tap_tolerance": 15,
            "top": 135994,
            "touch_zoom": true,
            "west": -47.992401123046875,
            "window_url": "https://telbb5ruvu-496ff2e9c6d22116-0-colab.googleusercontent.com/outputframe.html?vrz=colab_20240118-060147_RC00_599468684",
            "world_copy_jump": false,
            "zoom": 10,
            "zoom_animation_threshold": 4,
            "zoom_delta": 1,
            "zoom_snap": 1
          }
        },
        "83af2bfe5a654a93bca4269bf0e519b1": {
          "model_module": "jupyter-leaflet",
          "model_name": "LeafletWidgetControlModel",
          "model_module_version": "^0.18",
          "state": {
            "_model_module": "jupyter-leaflet",
            "_model_module_version": "^0.18",
            "_model_name": "LeafletWidgetControlModel",
            "_view_count": null,
            "_view_module": "jupyter-leaflet",
            "_view_module_version": "^0.18",
            "_view_name": "LeafletWidgetControlView",
            "max_height": null,
            "max_width": null,
            "min_height": null,
            "min_width": null,
            "options": [
              "position",
              "transparent_bg"
            ],
            "position": "topleft",
            "transparent_bg": false,
            "widget": "IPY_MODEL_eae82980ad5b493c94d8aa34618789fa"
          }
        },
        "40312f638ee9498194b09e347a905505": {
          "model_module": "jupyter-leaflet",
          "model_name": "LeafletZoomControlModel",
          "model_module_version": "^0.18",
          "state": {
            "_model_module": "jupyter-leaflet",
            "_model_module_version": "^0.18",
            "_model_name": "LeafletZoomControlModel",
            "_view_count": null,
            "_view_module": "jupyter-leaflet",
            "_view_module_version": "^0.18",
            "_view_name": "LeafletZoomControlView",
            "options": [
              "position",
              "zoom_in_text",
              "zoom_in_title",
              "zoom_out_text",
              "zoom_out_title"
            ],
            "position": "topleft",
            "zoom_in_text": "+",
            "zoom_in_title": "Zoom in",
            "zoom_out_text": "-",
            "zoom_out_title": "Zoom out"
          }
        },
        "c947a863a79b42e3a2b6f5253e7b3f4d": {
          "model_module": "jupyter-leaflet",
          "model_name": "LeafletFullScreenControlModel",
          "model_module_version": "^0.18",
          "state": {
            "_model_module": "jupyter-leaflet",
            "_model_module_version": "^0.18",
            "_model_name": "LeafletFullScreenControlModel",
            "_view_count": null,
            "_view_module": "jupyter-leaflet",
            "_view_module_version": "^0.18",
            "_view_name": "LeafletFullScreenControlView",
            "options": [
              "position"
            ],
            "position": "topleft"
          }
        },
        "f65c6fedd474456297d0b925d2314803": {
          "model_module": "jupyter-leaflet",
          "model_name": "LeafletDrawControlModel",
          "model_module_version": "^0.18",
          "state": {
            "_model_module": "jupyter-leaflet",
            "_model_module_version": "^0.18",
            "_model_name": "LeafletDrawControlModel",
            "_view_count": null,
            "_view_module": "jupyter-leaflet",
            "_view_module_version": "^0.18",
            "_view_name": "LeafletDrawControlView",
            "circle": {},
            "circlemarker": {},
            "data": [],
            "edit": true,
            "marker": {
              "shapeOptions": {
                "color": "#3388ff"
              }
            },
            "options": [
              "position"
            ],
            "polygon": {
              "shapeOptions": {}
            },
            "polyline": {
              "shapeOptions": {}
            },
            "position": "topleft",
            "rectangle": {
              "shapeOptions": {
                "color": "#3388ff"
              }
            },
            "remove": true
          }
        },
        "dbdbe337e60b4676bd5e244ee3830e4b": {
          "model_module": "jupyter-leaflet",
          "model_name": "LeafletScaleControlModel",
          "model_module_version": "^0.18",
          "state": {
            "_model_module": "jupyter-leaflet",
            "_model_module_version": "^0.18",
            "_model_name": "LeafletScaleControlModel",
            "_view_count": null,
            "_view_module": "jupyter-leaflet",
            "_view_module_version": "^0.18",
            "_view_name": "LeafletScaleControlView",
            "imperial": true,
            "max_width": 100,
            "metric": true,
            "options": [
              "imperial",
              "max_width",
              "metric",
              "position",
              "update_when_idle"
            ],
            "position": "bottomleft",
            "update_when_idle": false
          }
        },
        "5f15499a4fce42b78873d6fa08875799": {
          "model_module": "jupyter-leaflet",
          "model_name": "LeafletMeasureControlModel",
          "model_module_version": "^0.18",
          "state": {
            "_custom_units": {},
            "_model_module": "jupyter-leaflet",
            "_model_module_version": "^0.18",
            "_model_name": "LeafletMeasureControlModel",
            "_view_count": null,
            "_view_module": "jupyter-leaflet",
            "_view_module_version": "^0.18",
            "_view_name": "LeafletMeasureControlView",
            "active_color": "orange",
            "capture_z_index": 10000,
            "completed_color": "#C8F2BE",
            "options": [
              "active_color",
              "capture_z_index",
              "completed_color",
              "popup_options",
              "position",
              "primary_area_unit",
              "primary_length_unit",
              "secondary_area_unit",
              "secondary_length_unit"
            ],
            "popup_options": {
              "className": "leaflet-measure-resultpopup",
              "autoPanPadding": [
                10,
                10
              ]
            },
            "position": "bottomleft",
            "primary_area_unit": "acres",
            "primary_length_unit": "kilometers",
            "secondary_area_unit": null,
            "secondary_length_unit": null
          }
        },
        "494c80375c4e42d3b60abef0b0860679": {
          "model_module": "jupyter-leaflet",
          "model_name": "LeafletWidgetControlModel",
          "model_module_version": "^0.18",
          "state": {
            "_model_module": "jupyter-leaflet",
            "_model_module_version": "^0.18",
            "_model_name": "LeafletWidgetControlModel",
            "_view_count": null,
            "_view_module": "jupyter-leaflet",
            "_view_module_version": "^0.18",
            "_view_name": "LeafletWidgetControlView",
            "max_height": null,
            "max_width": null,
            "min_height": null,
            "min_width": null,
            "options": [
              "position",
              "transparent_bg"
            ],
            "position": "topright",
            "transparent_bg": false,
            "widget": "IPY_MODEL_cee214e3fcaa44dfa3964f378a9ff95d"
          }
        },
        "c0f505a64dd4425eba56ecb4e9c71559": {
          "model_module": "jupyter-leaflet",
          "model_name": "LeafletAttributionControlModel",
          "model_module_version": "^0.18",
          "state": {
            "_model_module": "jupyter-leaflet",
            "_model_module_version": "^0.18",
            "_model_name": "LeafletAttributionControlModel",
            "_view_count": null,
            "_view_module": "jupyter-leaflet",
            "_view_module_version": "^0.18",
            "_view_name": "LeafletAttributionControlView",
            "options": [
              "position",
              "prefix"
            ],
            "position": "bottomright",
            "prefix": "ipyleaflet"
          }
        },
        "c61e294efcc940ae89bbd7d57cff9978": {
          "model_module": "jupyter-leaflet",
          "model_name": "LeafletMapStyleModel",
          "model_module_version": "^0.18",
          "state": {
            "_model_module": "jupyter-leaflet",
            "_model_module_version": "^0.18",
            "_model_name": "LeafletMapStyleModel",
            "_view_count": null,
            "_view_module": "@jupyter-widgets/base",
            "_view_module_version": "1.2.0",
            "_view_name": "StyleView",
            "cursor": "grab"
          }
        },
        "986e3d243a0642d4b171977adfc10fd3": {
          "model_module": "jupyter-leaflet",
          "model_name": "LeafletMapStyleModel",
          "model_module_version": "^0.18",
          "state": {
            "_model_module": "jupyter-leaflet",
            "_model_module_version": "^0.18",
            "_model_name": "LeafletMapStyleModel",
            "_view_count": null,
            "_view_module": "@jupyter-widgets/base",
            "_view_module_version": "1.2.0",
            "_view_name": "StyleView",
            "cursor": "move"
          }
        },
        "0c84895f13aa425485241b2e379b37c5": {
          "model_module": "jupyter-leaflet",
          "model_name": "LeafletTileLayerModel",
          "model_module_version": "^0.18",
          "state": {
            "_model_module": "jupyter-leaflet",
            "_model_module_version": "^0.18",
            "_model_name": "LeafletTileLayerModel",
            "_view_count": null,
            "_view_module": "jupyter-leaflet",
            "_view_module_version": "^0.18",
            "_view_name": "LeafletTileLayerView",
            "attribution": "&copy; <a href=\"https://www.openstreetmap.org/copyright\">OpenStreetMap</a> contributors",
            "base": true,
            "bottom": true,
            "bounds": null,
            "detect_retina": false,
            "loading": false,
            "max_native_zoom": null,
            "max_zoom": 19,
            "min_native_zoom": null,
            "min_zoom": 1,
            "name": "OpenStreetMap.Mapnik",
            "no_wrap": false,
            "opacity": 1,
            "options": [
              "attribution",
              "bounds",
              "detect_retina",
              "max_native_zoom",
              "max_zoom",
              "min_native_zoom",
              "min_zoom",
              "no_wrap",
              "tile_size",
              "tms",
              "zoom_offset"
            ],
            "pane": "",
            "popup": null,
            "popup_max_height": null,
            "popup_max_width": 300,
            "popup_min_width": 50,
            "show_loading": false,
            "subitems": [],
            "tile_size": 256,
            "tms": false,
            "url": "https://tile.openstreetmap.org/{z}/{x}/{y}.png",
            "visible": true,
            "zoom_offset": 0
          }
        },
        "7294e0759ae441e69165f7e58b391354": {
          "model_module": "jupyter-leaflet",
          "model_name": "LeafletTileLayerModel",
          "model_module_version": "^0.18",
          "state": {
            "_model_module": "jupyter-leaflet",
            "_model_module_version": "^0.18",
            "_model_name": "LeafletTileLayerModel",
            "_view_count": null,
            "_view_module": "jupyter-leaflet",
            "_view_module_version": "^0.18",
            "_view_name": "LeafletTileLayerView",
            "attribution": "Google Earth Engine",
            "base": false,
            "bottom": true,
            "bounds": null,
            "detect_retina": false,
            "loading": false,
            "max_native_zoom": null,
            "max_zoom": 24,
            "min_native_zoom": null,
            "min_zoom": 0,
            "name": "Parque Nacional da Chapada das Mesas",
            "no_wrap": false,
            "opacity": 1,
            "options": [
              "attribution",
              "bounds",
              "detect_retina",
              "max_native_zoom",
              "max_zoom",
              "min_native_zoom",
              "min_zoom",
              "no_wrap",
              "tile_size",
              "tms",
              "zoom_offset"
            ],
            "pane": "",
            "popup": null,
            "popup_max_height": null,
            "popup_max_width": 300,
            "popup_min_width": 50,
            "show_loading": false,
            "subitems": [],
            "tile_size": 256,
            "tms": false,
            "url": "https://earthengine.googleapis.com/v1/projects/ee-izadorasc/maps/d400d04d88b416c81fc15bd41fa2abe9-89a7cd904a845c8b446bd8ceab16070e/tiles/{z}/{x}/{y}",
            "visible": true,
            "zoom_offset": 0
          }
        },
        "ad25ccf5afdf4064af6b4afa27b0cf0b": {
          "model_module": "@jupyter-widgets/base",
          "model_name": "LayoutModel",
          "model_module_version": "1.2.0",
          "state": {
            "_model_module": "@jupyter-widgets/base",
            "_model_module_version": "1.2.0",
            "_model_name": "LayoutModel",
            "_view_count": null,
            "_view_module": "@jupyter-widgets/base",
            "_view_module_version": "1.2.0",
            "_view_name": "LayoutView",
            "align_content": null,
            "align_items": null,
            "align_self": null,
            "border": null,
            "bottom": null,
            "display": null,
            "flex": null,
            "flex_flow": null,
            "grid_area": null,
            "grid_auto_columns": null,
            "grid_auto_flow": null,
            "grid_auto_rows": null,
            "grid_column": null,
            "grid_gap": null,
            "grid_row": null,
            "grid_template_areas": null,
            "grid_template_columns": null,
            "grid_template_rows": null,
            "height": "600px",
            "justify_content": null,
            "justify_items": null,
            "left": null,
            "margin": null,
            "max_height": null,
            "max_width": null,
            "min_height": null,
            "min_width": null,
            "object_fit": null,
            "object_position": null,
            "order": null,
            "overflow": null,
            "overflow_x": null,
            "overflow_y": null,
            "padding": null,
            "right": null,
            "top": null,
            "visibility": null,
            "width": null
          }
        },
        "70eb66b91fb443358fd1f9b79b7071bd": {
          "model_module": "jupyter-leaflet",
          "model_name": "LeafletMapStyleModel",
          "model_module_version": "^0.18",
          "state": {
            "_model_module": "jupyter-leaflet",
            "_model_module_version": "^0.18",
            "_model_name": "LeafletMapStyleModel",
            "_view_count": null,
            "_view_module": "@jupyter-widgets/base",
            "_view_module_version": "1.2.0",
            "_view_name": "StyleView",
            "cursor": "grab"
          }
        },
        "eae82980ad5b493c94d8aa34618789fa": {
          "model_module": "@jupyter-widgets/controls",
          "model_name": "HBoxModel",
          "model_module_version": "1.5.0",
          "state": {
            "_dom_classes": [
              "geemap-colab"
            ],
            "_model_module": "@jupyter-widgets/controls",
            "_model_module_version": "1.5.0",
            "_model_name": "HBoxModel",
            "_view_count": null,
            "_view_module": "@jupyter-widgets/controls",
            "_view_module_version": "1.5.0",
            "_view_name": "HBoxView",
            "box_style": "",
            "children": [
              "IPY_MODEL_d8d611e6d2184ffb8a84217ed4cccd59"
            ],
            "layout": "IPY_MODEL_7dbeac56441243bab6a9e4b2d6fa3f64"
          }
        },
        "cee214e3fcaa44dfa3964f378a9ff95d": {
          "model_module": "@jupyter-widgets/controls",
          "model_name": "VBoxModel",
          "model_module_version": "1.5.0",
          "state": {
            "_dom_classes": [
              "geemap-colab"
            ],
            "_model_module": "@jupyter-widgets/controls",
            "_model_module_version": "1.5.0",
            "_model_name": "VBoxModel",
            "_view_count": null,
            "_view_module": "@jupyter-widgets/controls",
            "_view_module_version": "1.5.0",
            "_view_name": "VBoxView",
            "box_style": "",
            "children": [
              "IPY_MODEL_ba929b7e844e4940ae37cc0f3239d17c"
            ],
            "layout": "IPY_MODEL_1a73200019e64cf7af079901183d4385"
          }
        },
        "d8d611e6d2184ffb8a84217ed4cccd59": {
          "model_module": "@jupyter-widgets/controls",
          "model_name": "ToggleButtonModel",
          "model_module_version": "1.5.0",
          "state": {
            "_dom_classes": [],
            "_model_module": "@jupyter-widgets/controls",
            "_model_module_version": "1.5.0",
            "_model_name": "ToggleButtonModel",
            "_view_count": null,
            "_view_module": "@jupyter-widgets/controls",
            "_view_module_version": "1.5.0",
            "_view_name": "ToggleButtonView",
            "button_style": "",
            "description": "",
            "description_tooltip": null,
            "disabled": false,
            "icon": "globe",
            "layout": "IPY_MODEL_3a4f13cba25f487b8b7102e0c7c6ecc1",
            "style": "IPY_MODEL_e264360705f04d9f8be202c8596249c8",
            "tooltip": "Search location/data",
            "value": false
          }
        },
        "7dbeac56441243bab6a9e4b2d6fa3f64": {
          "model_module": "@jupyter-widgets/base",
          "model_name": "LayoutModel",
          "model_module_version": "1.2.0",
          "state": {
            "_model_module": "@jupyter-widgets/base",
            "_model_module_version": "1.2.0",
            "_model_name": "LayoutModel",
            "_view_count": null,
            "_view_module": "@jupyter-widgets/base",
            "_view_module_version": "1.2.0",
            "_view_name": "LayoutView",
            "align_content": null,
            "align_items": null,
            "align_self": null,
            "border": null,
            "bottom": null,
            "display": null,
            "flex": null,
            "flex_flow": null,
            "grid_area": null,
            "grid_auto_columns": null,
            "grid_auto_flow": null,
            "grid_auto_rows": null,
            "grid_column": null,
            "grid_gap": null,
            "grid_row": null,
            "grid_template_areas": null,
            "grid_template_columns": null,
            "grid_template_rows": null,
            "height": null,
            "justify_content": null,
            "justify_items": null,
            "left": null,
            "margin": null,
            "max_height": null,
            "max_width": null,
            "min_height": null,
            "min_width": null,
            "object_fit": null,
            "object_position": null,
            "order": null,
            "overflow": null,
            "overflow_x": null,
            "overflow_y": null,
            "padding": null,
            "right": null,
            "top": null,
            "visibility": null,
            "width": null
          }
        },
        "ba929b7e844e4940ae37cc0f3239d17c": {
          "model_module": "@jupyter-widgets/controls",
          "model_name": "ToggleButtonModel",
          "model_module_version": "1.5.0",
          "state": {
            "_dom_classes": [],
            "_model_module": "@jupyter-widgets/controls",
            "_model_module_version": "1.5.0",
            "_model_name": "ToggleButtonModel",
            "_view_count": null,
            "_view_module": "@jupyter-widgets/controls",
            "_view_module_version": "1.5.0",
            "_view_name": "ToggleButtonView",
            "button_style": "",
            "description": "",
            "description_tooltip": null,
            "disabled": false,
            "icon": "wrench",
            "layout": "IPY_MODEL_8958168d6a384b1ebb77925d91c310fe",
            "style": "IPY_MODEL_e865017ea8fe42458f9a24dd1616ecf1",
            "tooltip": "Toolbar",
            "value": false
          }
        },
        "1a73200019e64cf7af079901183d4385": {
          "model_module": "@jupyter-widgets/base",
          "model_name": "LayoutModel",
          "model_module_version": "1.2.0",
          "state": {
            "_model_module": "@jupyter-widgets/base",
            "_model_module_version": "1.2.0",
            "_model_name": "LayoutModel",
            "_view_count": null,
            "_view_module": "@jupyter-widgets/base",
            "_view_module_version": "1.2.0",
            "_view_name": "LayoutView",
            "align_content": null,
            "align_items": null,
            "align_self": null,
            "border": null,
            "bottom": null,
            "display": null,
            "flex": null,
            "flex_flow": null,
            "grid_area": null,
            "grid_auto_columns": null,
            "grid_auto_flow": null,
            "grid_auto_rows": null,
            "grid_column": null,
            "grid_gap": null,
            "grid_row": null,
            "grid_template_areas": null,
            "grid_template_columns": null,
            "grid_template_rows": null,
            "height": null,
            "justify_content": null,
            "justify_items": null,
            "left": null,
            "margin": null,
            "max_height": null,
            "max_width": null,
            "min_height": null,
            "min_width": null,
            "object_fit": null,
            "object_position": null,
            "order": null,
            "overflow": null,
            "overflow_x": null,
            "overflow_y": null,
            "padding": null,
            "right": null,
            "top": null,
            "visibility": null,
            "width": null
          }
        },
        "3a4f13cba25f487b8b7102e0c7c6ecc1": {
          "model_module": "@jupyter-widgets/base",
          "model_name": "LayoutModel",
          "model_module_version": "1.2.0",
          "state": {
            "_model_module": "@jupyter-widgets/base",
            "_model_module_version": "1.2.0",
            "_model_name": "LayoutModel",
            "_view_count": null,
            "_view_module": "@jupyter-widgets/base",
            "_view_module_version": "1.2.0",
            "_view_name": "LayoutView",
            "align_content": null,
            "align_items": null,
            "align_self": null,
            "border": null,
            "bottom": null,
            "display": null,
            "flex": null,
            "flex_flow": null,
            "grid_area": null,
            "grid_auto_columns": null,
            "grid_auto_flow": null,
            "grid_auto_rows": null,
            "grid_column": null,
            "grid_gap": null,
            "grid_row": null,
            "grid_template_areas": null,
            "grid_template_columns": null,
            "grid_template_rows": null,
            "height": "28px",
            "justify_content": null,
            "justify_items": null,
            "left": null,
            "margin": null,
            "max_height": null,
            "max_width": null,
            "min_height": null,
            "min_width": null,
            "object_fit": null,
            "object_position": null,
            "order": null,
            "overflow": null,
            "overflow_x": null,
            "overflow_y": null,
            "padding": "0px 0px 0px 4px",
            "right": null,
            "top": null,
            "visibility": null,
            "width": "28px"
          }
        },
        "e264360705f04d9f8be202c8596249c8": {
          "model_module": "@jupyter-widgets/controls",
          "model_name": "DescriptionStyleModel",
          "model_module_version": "1.5.0",
          "state": {
            "_model_module": "@jupyter-widgets/controls",
            "_model_module_version": "1.5.0",
            "_model_name": "DescriptionStyleModel",
            "_view_count": null,
            "_view_module": "@jupyter-widgets/base",
            "_view_module_version": "1.2.0",
            "_view_name": "StyleView",
            "description_width": ""
          }
        },
        "8958168d6a384b1ebb77925d91c310fe": {
          "model_module": "@jupyter-widgets/base",
          "model_name": "LayoutModel",
          "model_module_version": "1.2.0",
          "state": {
            "_model_module": "@jupyter-widgets/base",
            "_model_module_version": "1.2.0",
            "_model_name": "LayoutModel",
            "_view_count": null,
            "_view_module": "@jupyter-widgets/base",
            "_view_module_version": "1.2.0",
            "_view_name": "LayoutView",
            "align_content": null,
            "align_items": null,
            "align_self": null,
            "border": null,
            "bottom": null,
            "display": null,
            "flex": null,
            "flex_flow": null,
            "grid_area": null,
            "grid_auto_columns": null,
            "grid_auto_flow": null,
            "grid_auto_rows": null,
            "grid_column": null,
            "grid_gap": null,
            "grid_row": null,
            "grid_template_areas": null,
            "grid_template_columns": null,
            "grid_template_rows": null,
            "height": "28px",
            "justify_content": null,
            "justify_items": null,
            "left": null,
            "margin": null,
            "max_height": null,
            "max_width": null,
            "min_height": null,
            "min_width": null,
            "object_fit": null,
            "object_position": null,
            "order": null,
            "overflow": null,
            "overflow_x": null,
            "overflow_y": null,
            "padding": "0px 0px 0px 4px",
            "right": null,
            "top": null,
            "visibility": null,
            "width": "28px"
          }
        },
        "e865017ea8fe42458f9a24dd1616ecf1": {
          "model_module": "@jupyter-widgets/controls",
          "model_name": "DescriptionStyleModel",
          "model_module_version": "1.5.0",
          "state": {
            "_model_module": "@jupyter-widgets/controls",
            "_model_module_version": "1.5.0",
            "_model_name": "DescriptionStyleModel",
            "_view_count": null,
            "_view_module": "@jupyter-widgets/base",
            "_view_module_version": "1.2.0",
            "_view_name": "StyleView",
            "description_width": ""
          }
        },
        "083f9b420d35438cb50e8655082c8c3c": {
          "model_module": "jupyter-leaflet",
          "model_name": "LeafletTileLayerModel",
          "model_module_version": "^0.18",
          "state": {
            "_model_module": "jupyter-leaflet",
            "_model_module_version": "^0.18",
            "_model_name": "LeafletTileLayerModel",
            "_view_count": null,
            "_view_module": "jupyter-leaflet",
            "_view_module_version": "^0.18",
            "_view_name": "LeafletTileLayerView",
            "attribution": "Google Earth Engine",
            "base": false,
            "bottom": true,
            "bounds": null,
            "detect_retina": false,
            "loading": false,
            "max_native_zoom": null,
            "max_zoom": 24,
            "min_native_zoom": null,
            "min_zoom": 0,
            "name": "Image",
            "no_wrap": false,
            "opacity": 1,
            "options": [
              "attribution",
              "bounds",
              "detect_retina",
              "max_native_zoom",
              "max_zoom",
              "min_native_zoom",
              "min_zoom",
              "no_wrap",
              "tile_size",
              "tms",
              "zoom_offset"
            ],
            "pane": "",
            "popup": null,
            "popup_max_height": null,
            "popup_max_width": 300,
            "popup_min_width": 50,
            "show_loading": false,
            "subitems": [],
            "tile_size": 256,
            "tms": false,
            "url": "https://earthengine.googleapis.com/v1/projects/ee-izadorasc/maps/fa1b0b6d8e1631c0c96e87a44f5ce272-0f962db2c27f2a669509bd7d1b8a8863/tiles/{z}/{x}/{y}",
            "visible": true,
            "zoom_offset": 0
          }
        },
        "fa06a8cb1b56432a93b41d6b775368ac": {
          "model_module": "jupyter-leaflet",
          "model_name": "LeafletTileLayerModel",
          "model_module_version": "^0.18",
          "state": {
            "_model_module": "jupyter-leaflet",
            "_model_module_version": "^0.18",
            "_model_name": "LeafletTileLayerModel",
            "_view_count": null,
            "_view_module": "jupyter-leaflet",
            "_view_module_version": "^0.18",
            "_view_name": "LeafletTileLayerView",
            "attribution": "Google Earth Engine",
            "base": false,
            "bottom": true,
            "bounds": null,
            "detect_retina": false,
            "loading": false,
            "max_native_zoom": null,
            "max_zoom": 24,
            "min_native_zoom": null,
            "min_zoom": 0,
            "name": "Image",
            "no_wrap": false,
            "opacity": 1,
            "options": [
              "attribution",
              "bounds",
              "detect_retina",
              "max_native_zoom",
              "max_zoom",
              "min_native_zoom",
              "min_zoom",
              "no_wrap",
              "tile_size",
              "tms",
              "zoom_offset"
            ],
            "pane": "",
            "popup": null,
            "popup_max_height": null,
            "popup_max_width": 300,
            "popup_min_width": 50,
            "show_loading": false,
            "subitems": [],
            "tile_size": 256,
            "tms": false,
            "url": "https://earthengine.googleapis.com/v1/projects/ee-izadorasc/maps/3e8f752bfcc2aba7d80e8a21f40a342c-33dcc6a1086da5661082ecc0ea60fa73/tiles/{z}/{x}/{y}",
            "visible": true,
            "zoom_offset": 0
          }
        },
        "714be86bfbce46099c8b9a9b85288227": {
          "model_module": "jupyter-leaflet",
          "model_name": "LeafletMapModel",
          "model_module_version": "^0.18",
          "state": {
            "_dom_classes": [],
            "_model_module": "jupyter-leaflet",
            "_model_module_version": "^0.18",
            "_model_name": "LeafletMapModel",
            "_view_count": null,
            "_view_module": "jupyter-leaflet",
            "_view_module_version": "^0.18",
            "_view_name": "LeafletMapView",
            "bottom": 136594,
            "bounce_at_zoom_limits": true,
            "box_zoom": true,
            "center": [
              -7.152470125883857,
              -47.144687193400344
            ],
            "close_popup_on_click": true,
            "controls": [
              "IPY_MODEL_112c0310f9b74101957449542ae803c0",
              "IPY_MODEL_3f7450162e98479c8cecb08d773f0d10",
              "IPY_MODEL_c567709b705540a9bdc5cb9483c3c530",
              "IPY_MODEL_52afefc928f74db4a6918b1af4eebf1b",
              "IPY_MODEL_1e55e74211fe45f8b3abe2be1376a302",
              "IPY_MODEL_3070405be6bf435ab2d163fdd8792c39",
              "IPY_MODEL_1e47d43e0e3e4d9fb6524eae86ec4e4d",
              "IPY_MODEL_6f880c68124d4631899d51416cde1aca"
            ],
            "crs": {
              "name": "EPSG3857",
              "custom": false
            },
            "default_style": "IPY_MODEL_22a86ded93af45cea1aa6bb71e21bc0d",
            "double_click_zoom": true,
            "dragging": true,
            "dragging_style": "IPY_MODEL_719d374572c04cbf809f80800da1cde7",
            "east": -46.29776000976563,
            "fullscreen": false,
            "inertia": true,
            "inertia_deceleration": 3000,
            "inertia_max_speed": 1500,
            "interpolation": "bilinear",
            "keyboard": true,
            "keyboard_pan_offset": 80,
            "keyboard_zoom_offset": 1,
            "layers": [
              "IPY_MODEL_0bc577f7ff614ced8d2f75907b702ad5",
              "IPY_MODEL_ac4917dc932d4939b8a37cfe8fb89927",
              "IPY_MODEL_e698257a42704e83a19587e558beda82"
            ],
            "layout": "IPY_MODEL_b8a9d7f899d74658b47fa778390ae5ec",
            "left": 96125,
            "max_zoom": 24,
            "min_zoom": null,
            "modisdate": "2024-01-18",
            "north": -6.7437137958173246,
            "options": [
              "bounce_at_zoom_limits",
              "box_zoom",
              "center",
              "close_popup_on_click",
              "double_click_zoom",
              "dragging",
              "fullscreen",
              "inertia",
              "inertia_deceleration",
              "inertia_max_speed",
              "interpolation",
              "keyboard",
              "keyboard_pan_offset",
              "keyboard_zoom_offset",
              "max_zoom",
              "min_zoom",
              "prefer_canvas",
              "scroll_wheel_zoom",
              "tap",
              "tap_tolerance",
              "touch_zoom",
              "world_copy_jump",
              "zoom",
              "zoom_animation_threshold",
              "zoom_delta",
              "zoom_snap"
            ],
            "panes": {},
            "prefer_canvas": false,
            "right": 97359,
            "scroll_wheel_zoom": true,
            "south": -7.561269314400291,
            "style": "IPY_MODEL_34e4a4ebac654f569fab3a3b0a3e7b6a",
            "tap": true,
            "tap_tolerance": 15,
            "top": 135994,
            "touch_zoom": true,
            "west": -47.992401123046875,
            "window_url": "https://telbb5ruvu-496ff2e9c6d22116-0-colab.googleusercontent.com/outputframe.html?vrz=colab_20240118-060147_RC00_599468684",
            "world_copy_jump": false,
            "zoom": 10,
            "zoom_animation_threshold": 4,
            "zoom_delta": 1,
            "zoom_snap": 1
          }
        },
        "112c0310f9b74101957449542ae803c0": {
          "model_module": "jupyter-leaflet",
          "model_name": "LeafletWidgetControlModel",
          "model_module_version": "^0.18",
          "state": {
            "_model_module": "jupyter-leaflet",
            "_model_module_version": "^0.18",
            "_model_name": "LeafletWidgetControlModel",
            "_view_count": null,
            "_view_module": "jupyter-leaflet",
            "_view_module_version": "^0.18",
            "_view_name": "LeafletWidgetControlView",
            "max_height": null,
            "max_width": null,
            "min_height": null,
            "min_width": null,
            "options": [
              "position",
              "transparent_bg"
            ],
            "position": "topleft",
            "transparent_bg": false,
            "widget": "IPY_MODEL_860812e7dedc4e89b733f6d6dffcd58f"
          }
        },
        "3f7450162e98479c8cecb08d773f0d10": {
          "model_module": "jupyter-leaflet",
          "model_name": "LeafletZoomControlModel",
          "model_module_version": "^0.18",
          "state": {
            "_model_module": "jupyter-leaflet",
            "_model_module_version": "^0.18",
            "_model_name": "LeafletZoomControlModel",
            "_view_count": null,
            "_view_module": "jupyter-leaflet",
            "_view_module_version": "^0.18",
            "_view_name": "LeafletZoomControlView",
            "options": [
              "position",
              "zoom_in_text",
              "zoom_in_title",
              "zoom_out_text",
              "zoom_out_title"
            ],
            "position": "topleft",
            "zoom_in_text": "+",
            "zoom_in_title": "Zoom in",
            "zoom_out_text": "-",
            "zoom_out_title": "Zoom out"
          }
        },
        "c567709b705540a9bdc5cb9483c3c530": {
          "model_module": "jupyter-leaflet",
          "model_name": "LeafletFullScreenControlModel",
          "model_module_version": "^0.18",
          "state": {
            "_model_module": "jupyter-leaflet",
            "_model_module_version": "^0.18",
            "_model_name": "LeafletFullScreenControlModel",
            "_view_count": null,
            "_view_module": "jupyter-leaflet",
            "_view_module_version": "^0.18",
            "_view_name": "LeafletFullScreenControlView",
            "options": [
              "position"
            ],
            "position": "topleft"
          }
        },
        "52afefc928f74db4a6918b1af4eebf1b": {
          "model_module": "jupyter-leaflet",
          "model_name": "LeafletDrawControlModel",
          "model_module_version": "^0.18",
          "state": {
            "_model_module": "jupyter-leaflet",
            "_model_module_version": "^0.18",
            "_model_name": "LeafletDrawControlModel",
            "_view_count": null,
            "_view_module": "jupyter-leaflet",
            "_view_module_version": "^0.18",
            "_view_name": "LeafletDrawControlView",
            "circle": {},
            "circlemarker": {},
            "data": [],
            "edit": true,
            "marker": {
              "shapeOptions": {
                "color": "#3388ff"
              }
            },
            "options": [
              "position"
            ],
            "polygon": {
              "shapeOptions": {}
            },
            "polyline": {
              "shapeOptions": {}
            },
            "position": "topleft",
            "rectangle": {
              "shapeOptions": {
                "color": "#3388ff"
              }
            },
            "remove": true
          }
        },
        "1e55e74211fe45f8b3abe2be1376a302": {
          "model_module": "jupyter-leaflet",
          "model_name": "LeafletScaleControlModel",
          "model_module_version": "^0.18",
          "state": {
            "_model_module": "jupyter-leaflet",
            "_model_module_version": "^0.18",
            "_model_name": "LeafletScaleControlModel",
            "_view_count": null,
            "_view_module": "jupyter-leaflet",
            "_view_module_version": "^0.18",
            "_view_name": "LeafletScaleControlView",
            "imperial": true,
            "max_width": 100,
            "metric": true,
            "options": [
              "imperial",
              "max_width",
              "metric",
              "position",
              "update_when_idle"
            ],
            "position": "bottomleft",
            "update_when_idle": false
          }
        },
        "3070405be6bf435ab2d163fdd8792c39": {
          "model_module": "jupyter-leaflet",
          "model_name": "LeafletMeasureControlModel",
          "model_module_version": "^0.18",
          "state": {
            "_custom_units": {},
            "_model_module": "jupyter-leaflet",
            "_model_module_version": "^0.18",
            "_model_name": "LeafletMeasureControlModel",
            "_view_count": null,
            "_view_module": "jupyter-leaflet",
            "_view_module_version": "^0.18",
            "_view_name": "LeafletMeasureControlView",
            "active_color": "orange",
            "capture_z_index": 10000,
            "completed_color": "#C8F2BE",
            "options": [
              "active_color",
              "capture_z_index",
              "completed_color",
              "popup_options",
              "position",
              "primary_area_unit",
              "primary_length_unit",
              "secondary_area_unit",
              "secondary_length_unit"
            ],
            "popup_options": {
              "className": "leaflet-measure-resultpopup",
              "autoPanPadding": [
                10,
                10
              ]
            },
            "position": "bottomleft",
            "primary_area_unit": "acres",
            "primary_length_unit": "kilometers",
            "secondary_area_unit": null,
            "secondary_length_unit": null
          }
        },
        "1e47d43e0e3e4d9fb6524eae86ec4e4d": {
          "model_module": "jupyter-leaflet",
          "model_name": "LeafletWidgetControlModel",
          "model_module_version": "^0.18",
          "state": {
            "_model_module": "jupyter-leaflet",
            "_model_module_version": "^0.18",
            "_model_name": "LeafletWidgetControlModel",
            "_view_count": null,
            "_view_module": "jupyter-leaflet",
            "_view_module_version": "^0.18",
            "_view_name": "LeafletWidgetControlView",
            "max_height": null,
            "max_width": null,
            "min_height": null,
            "min_width": null,
            "options": [
              "position",
              "transparent_bg"
            ],
            "position": "topright",
            "transparent_bg": false,
            "widget": "IPY_MODEL_73c6117af2dc42c4bf0fadbcb97d9575"
          }
        },
        "6f880c68124d4631899d51416cde1aca": {
          "model_module": "jupyter-leaflet",
          "model_name": "LeafletAttributionControlModel",
          "model_module_version": "^0.18",
          "state": {
            "_model_module": "jupyter-leaflet",
            "_model_module_version": "^0.18",
            "_model_name": "LeafletAttributionControlModel",
            "_view_count": null,
            "_view_module": "jupyter-leaflet",
            "_view_module_version": "^0.18",
            "_view_name": "LeafletAttributionControlView",
            "options": [
              "position",
              "prefix"
            ],
            "position": "bottomright",
            "prefix": "ipyleaflet"
          }
        },
        "22a86ded93af45cea1aa6bb71e21bc0d": {
          "model_module": "jupyter-leaflet",
          "model_name": "LeafletMapStyleModel",
          "model_module_version": "^0.18",
          "state": {
            "_model_module": "jupyter-leaflet",
            "_model_module_version": "^0.18",
            "_model_name": "LeafletMapStyleModel",
            "_view_count": null,
            "_view_module": "@jupyter-widgets/base",
            "_view_module_version": "1.2.0",
            "_view_name": "StyleView",
            "cursor": "grab"
          }
        },
        "719d374572c04cbf809f80800da1cde7": {
          "model_module": "jupyter-leaflet",
          "model_name": "LeafletMapStyleModel",
          "model_module_version": "^0.18",
          "state": {
            "_model_module": "jupyter-leaflet",
            "_model_module_version": "^0.18",
            "_model_name": "LeafletMapStyleModel",
            "_view_count": null,
            "_view_module": "@jupyter-widgets/base",
            "_view_module_version": "1.2.0",
            "_view_name": "StyleView",
            "cursor": "move"
          }
        },
        "0bc577f7ff614ced8d2f75907b702ad5": {
          "model_module": "jupyter-leaflet",
          "model_name": "LeafletTileLayerModel",
          "model_module_version": "^0.18",
          "state": {
            "_model_module": "jupyter-leaflet",
            "_model_module_version": "^0.18",
            "_model_name": "LeafletTileLayerModel",
            "_view_count": null,
            "_view_module": "jupyter-leaflet",
            "_view_module_version": "^0.18",
            "_view_name": "LeafletTileLayerView",
            "attribution": "&copy; <a href=\"https://www.openstreetmap.org/copyright\">OpenStreetMap</a> contributors",
            "base": true,
            "bottom": true,
            "bounds": null,
            "detect_retina": false,
            "loading": false,
            "max_native_zoom": null,
            "max_zoom": 19,
            "min_native_zoom": null,
            "min_zoom": 1,
            "name": "OpenStreetMap.Mapnik",
            "no_wrap": false,
            "opacity": 1,
            "options": [
              "attribution",
              "bounds",
              "detect_retina",
              "max_native_zoom",
              "max_zoom",
              "min_native_zoom",
              "min_zoom",
              "no_wrap",
              "tile_size",
              "tms",
              "zoom_offset"
            ],
            "pane": "",
            "popup": null,
            "popup_max_height": null,
            "popup_max_width": 300,
            "popup_min_width": 50,
            "show_loading": false,
            "subitems": [],
            "tile_size": 256,
            "tms": false,
            "url": "https://tile.openstreetmap.org/{z}/{x}/{y}.png",
            "visible": true,
            "zoom_offset": 0
          }
        },
        "ac4917dc932d4939b8a37cfe8fb89927": {
          "model_module": "jupyter-leaflet",
          "model_name": "LeafletTileLayerModel",
          "model_module_version": "^0.18",
          "state": {
            "_model_module": "jupyter-leaflet",
            "_model_module_version": "^0.18",
            "_model_name": "LeafletTileLayerModel",
            "_view_count": null,
            "_view_module": "jupyter-leaflet",
            "_view_module_version": "^0.18",
            "_view_name": "LeafletTileLayerView",
            "attribution": "Google Earth Engine",
            "base": false,
            "bottom": true,
            "bounds": null,
            "detect_retina": false,
            "loading": false,
            "max_native_zoom": null,
            "max_zoom": 24,
            "min_native_zoom": null,
            "min_zoom": 0,
            "name": "Pre-fire",
            "no_wrap": false,
            "opacity": 1,
            "options": [
              "attribution",
              "bounds",
              "detect_retina",
              "max_native_zoom",
              "max_zoom",
              "min_native_zoom",
              "min_zoom",
              "no_wrap",
              "tile_size",
              "tms",
              "zoom_offset"
            ],
            "pane": "",
            "popup": null,
            "popup_max_height": null,
            "popup_max_width": 300,
            "popup_min_width": 50,
            "show_loading": false,
            "subitems": [],
            "tile_size": 256,
            "tms": false,
            "url": "https://earthengine.googleapis.com/v1/projects/ee-izadorasc/maps/ff795311646d159206ef28193eb4554d-a7f8f7e5031ec10d97861c0c5b889c4a/tiles/{z}/{x}/{y}",
            "visible": true,
            "zoom_offset": 0
          }
        },
        "e698257a42704e83a19587e558beda82": {
          "model_module": "jupyter-leaflet",
          "model_name": "LeafletTileLayerModel",
          "model_module_version": "^0.18",
          "state": {
            "_model_module": "jupyter-leaflet",
            "_model_module_version": "^0.18",
            "_model_name": "LeafletTileLayerModel",
            "_view_count": null,
            "_view_module": "jupyter-leaflet",
            "_view_module_version": "^0.18",
            "_view_name": "LeafletTileLayerView",
            "attribution": "Google Earth Engine",
            "base": false,
            "bottom": true,
            "bounds": null,
            "detect_retina": false,
            "loading": false,
            "max_native_zoom": null,
            "max_zoom": 24,
            "min_native_zoom": null,
            "min_zoom": 0,
            "name": "Post-fire",
            "no_wrap": false,
            "opacity": 1,
            "options": [
              "attribution",
              "bounds",
              "detect_retina",
              "max_native_zoom",
              "max_zoom",
              "min_native_zoom",
              "min_zoom",
              "no_wrap",
              "tile_size",
              "tms",
              "zoom_offset"
            ],
            "pane": "",
            "popup": null,
            "popup_max_height": null,
            "popup_max_width": 300,
            "popup_min_width": 50,
            "show_loading": false,
            "subitems": [],
            "tile_size": 256,
            "tms": false,
            "url": "https://earthengine.googleapis.com/v1/projects/ee-izadorasc/maps/aba1de7a272f038217dab4a7753fc524-9a9700ff1cdf86f002fd9c298f495c10/tiles/{z}/{x}/{y}",
            "visible": true,
            "zoom_offset": 0
          }
        },
        "b8a9d7f899d74658b47fa778390ae5ec": {
          "model_module": "@jupyter-widgets/base",
          "model_name": "LayoutModel",
          "model_module_version": "1.2.0",
          "state": {
            "_model_module": "@jupyter-widgets/base",
            "_model_module_version": "1.2.0",
            "_model_name": "LayoutModel",
            "_view_count": null,
            "_view_module": "@jupyter-widgets/base",
            "_view_module_version": "1.2.0",
            "_view_name": "LayoutView",
            "align_content": null,
            "align_items": null,
            "align_self": null,
            "border": null,
            "bottom": null,
            "display": null,
            "flex": null,
            "flex_flow": null,
            "grid_area": null,
            "grid_auto_columns": null,
            "grid_auto_flow": null,
            "grid_auto_rows": null,
            "grid_column": null,
            "grid_gap": null,
            "grid_row": null,
            "grid_template_areas": null,
            "grid_template_columns": null,
            "grid_template_rows": null,
            "height": "600px",
            "justify_content": null,
            "justify_items": null,
            "left": null,
            "margin": null,
            "max_height": null,
            "max_width": null,
            "min_height": null,
            "min_width": null,
            "object_fit": null,
            "object_position": null,
            "order": null,
            "overflow": null,
            "overflow_x": null,
            "overflow_y": null,
            "padding": null,
            "right": null,
            "top": null,
            "visibility": null,
            "width": null
          }
        },
        "34e4a4ebac654f569fab3a3b0a3e7b6a": {
          "model_module": "jupyter-leaflet",
          "model_name": "LeafletMapStyleModel",
          "model_module_version": "^0.18",
          "state": {
            "_model_module": "jupyter-leaflet",
            "_model_module_version": "^0.18",
            "_model_name": "LeafletMapStyleModel",
            "_view_count": null,
            "_view_module": "@jupyter-widgets/base",
            "_view_module_version": "1.2.0",
            "_view_name": "StyleView",
            "cursor": "grab"
          }
        },
        "860812e7dedc4e89b733f6d6dffcd58f": {
          "model_module": "@jupyter-widgets/controls",
          "model_name": "HBoxModel",
          "model_module_version": "1.5.0",
          "state": {
            "_dom_classes": [
              "geemap-colab"
            ],
            "_model_module": "@jupyter-widgets/controls",
            "_model_module_version": "1.5.0",
            "_model_name": "HBoxModel",
            "_view_count": null,
            "_view_module": "@jupyter-widgets/controls",
            "_view_module_version": "1.5.0",
            "_view_name": "HBoxView",
            "box_style": "",
            "children": [
              "IPY_MODEL_a43bbd70ff9b4704bcea5c5a714c0be7"
            ],
            "layout": "IPY_MODEL_2720c532e9e5417d8832179d433b121e"
          }
        },
        "73c6117af2dc42c4bf0fadbcb97d9575": {
          "model_module": "@jupyter-widgets/controls",
          "model_name": "VBoxModel",
          "model_module_version": "1.5.0",
          "state": {
            "_dom_classes": [
              "geemap-colab"
            ],
            "_model_module": "@jupyter-widgets/controls",
            "_model_module_version": "1.5.0",
            "_model_name": "VBoxModel",
            "_view_count": null,
            "_view_module": "@jupyter-widgets/controls",
            "_view_module_version": "1.5.0",
            "_view_name": "VBoxView",
            "box_style": "",
            "children": [
              "IPY_MODEL_f0f1e4818e9146ea87de7fab8d38516a"
            ],
            "layout": "IPY_MODEL_75ec7983c0354594a6f95451011df92b"
          }
        },
        "a43bbd70ff9b4704bcea5c5a714c0be7": {
          "model_module": "@jupyter-widgets/controls",
          "model_name": "ToggleButtonModel",
          "model_module_version": "1.5.0",
          "state": {
            "_dom_classes": [],
            "_model_module": "@jupyter-widgets/controls",
            "_model_module_version": "1.5.0",
            "_model_name": "ToggleButtonModel",
            "_view_count": null,
            "_view_module": "@jupyter-widgets/controls",
            "_view_module_version": "1.5.0",
            "_view_name": "ToggleButtonView",
            "button_style": "",
            "description": "",
            "description_tooltip": null,
            "disabled": false,
            "icon": "globe",
            "layout": "IPY_MODEL_809768f14a874044a3be28e3c6cd1947",
            "style": "IPY_MODEL_cdce867d31b84196aa9b356f6e95b4bc",
            "tooltip": "Search location/data",
            "value": false
          }
        },
        "2720c532e9e5417d8832179d433b121e": {
          "model_module": "@jupyter-widgets/base",
          "model_name": "LayoutModel",
          "model_module_version": "1.2.0",
          "state": {
            "_model_module": "@jupyter-widgets/base",
            "_model_module_version": "1.2.0",
            "_model_name": "LayoutModel",
            "_view_count": null,
            "_view_module": "@jupyter-widgets/base",
            "_view_module_version": "1.2.0",
            "_view_name": "LayoutView",
            "align_content": null,
            "align_items": null,
            "align_self": null,
            "border": null,
            "bottom": null,
            "display": null,
            "flex": null,
            "flex_flow": null,
            "grid_area": null,
            "grid_auto_columns": null,
            "grid_auto_flow": null,
            "grid_auto_rows": null,
            "grid_column": null,
            "grid_gap": null,
            "grid_row": null,
            "grid_template_areas": null,
            "grid_template_columns": null,
            "grid_template_rows": null,
            "height": null,
            "justify_content": null,
            "justify_items": null,
            "left": null,
            "margin": null,
            "max_height": null,
            "max_width": null,
            "min_height": null,
            "min_width": null,
            "object_fit": null,
            "object_position": null,
            "order": null,
            "overflow": null,
            "overflow_x": null,
            "overflow_y": null,
            "padding": null,
            "right": null,
            "top": null,
            "visibility": null,
            "width": null
          }
        },
        "f0f1e4818e9146ea87de7fab8d38516a": {
          "model_module": "@jupyter-widgets/controls",
          "model_name": "ToggleButtonModel",
          "model_module_version": "1.5.0",
          "state": {
            "_dom_classes": [],
            "_model_module": "@jupyter-widgets/controls",
            "_model_module_version": "1.5.0",
            "_model_name": "ToggleButtonModel",
            "_view_count": null,
            "_view_module": "@jupyter-widgets/controls",
            "_view_module_version": "1.5.0",
            "_view_name": "ToggleButtonView",
            "button_style": "",
            "description": "",
            "description_tooltip": null,
            "disabled": false,
            "icon": "wrench",
            "layout": "IPY_MODEL_ea78b017db1b4b5ca7f2691a77565bac",
            "style": "IPY_MODEL_69df1fa0002a44559678ab24c15814a5",
            "tooltip": "Toolbar",
            "value": false
          }
        },
        "75ec7983c0354594a6f95451011df92b": {
          "model_module": "@jupyter-widgets/base",
          "model_name": "LayoutModel",
          "model_module_version": "1.2.0",
          "state": {
            "_model_module": "@jupyter-widgets/base",
            "_model_module_version": "1.2.0",
            "_model_name": "LayoutModel",
            "_view_count": null,
            "_view_module": "@jupyter-widgets/base",
            "_view_module_version": "1.2.0",
            "_view_name": "LayoutView",
            "align_content": null,
            "align_items": null,
            "align_self": null,
            "border": null,
            "bottom": null,
            "display": null,
            "flex": null,
            "flex_flow": null,
            "grid_area": null,
            "grid_auto_columns": null,
            "grid_auto_flow": null,
            "grid_auto_rows": null,
            "grid_column": null,
            "grid_gap": null,
            "grid_row": null,
            "grid_template_areas": null,
            "grid_template_columns": null,
            "grid_template_rows": null,
            "height": null,
            "justify_content": null,
            "justify_items": null,
            "left": null,
            "margin": null,
            "max_height": null,
            "max_width": null,
            "min_height": null,
            "min_width": null,
            "object_fit": null,
            "object_position": null,
            "order": null,
            "overflow": null,
            "overflow_x": null,
            "overflow_y": null,
            "padding": null,
            "right": null,
            "top": null,
            "visibility": null,
            "width": null
          }
        },
        "809768f14a874044a3be28e3c6cd1947": {
          "model_module": "@jupyter-widgets/base",
          "model_name": "LayoutModel",
          "model_module_version": "1.2.0",
          "state": {
            "_model_module": "@jupyter-widgets/base",
            "_model_module_version": "1.2.0",
            "_model_name": "LayoutModel",
            "_view_count": null,
            "_view_module": "@jupyter-widgets/base",
            "_view_module_version": "1.2.0",
            "_view_name": "LayoutView",
            "align_content": null,
            "align_items": null,
            "align_self": null,
            "border": null,
            "bottom": null,
            "display": null,
            "flex": null,
            "flex_flow": null,
            "grid_area": null,
            "grid_auto_columns": null,
            "grid_auto_flow": null,
            "grid_auto_rows": null,
            "grid_column": null,
            "grid_gap": null,
            "grid_row": null,
            "grid_template_areas": null,
            "grid_template_columns": null,
            "grid_template_rows": null,
            "height": "28px",
            "justify_content": null,
            "justify_items": null,
            "left": null,
            "margin": null,
            "max_height": null,
            "max_width": null,
            "min_height": null,
            "min_width": null,
            "object_fit": null,
            "object_position": null,
            "order": null,
            "overflow": null,
            "overflow_x": null,
            "overflow_y": null,
            "padding": "0px 0px 0px 4px",
            "right": null,
            "top": null,
            "visibility": null,
            "width": "28px"
          }
        },
        "cdce867d31b84196aa9b356f6e95b4bc": {
          "model_module": "@jupyter-widgets/controls",
          "model_name": "DescriptionStyleModel",
          "model_module_version": "1.5.0",
          "state": {
            "_model_module": "@jupyter-widgets/controls",
            "_model_module_version": "1.5.0",
            "_model_name": "DescriptionStyleModel",
            "_view_count": null,
            "_view_module": "@jupyter-widgets/base",
            "_view_module_version": "1.2.0",
            "_view_name": "StyleView",
            "description_width": ""
          }
        },
        "ea78b017db1b4b5ca7f2691a77565bac": {
          "model_module": "@jupyter-widgets/base",
          "model_name": "LayoutModel",
          "model_module_version": "1.2.0",
          "state": {
            "_model_module": "@jupyter-widgets/base",
            "_model_module_version": "1.2.0",
            "_model_name": "LayoutModel",
            "_view_count": null,
            "_view_module": "@jupyter-widgets/base",
            "_view_module_version": "1.2.0",
            "_view_name": "LayoutView",
            "align_content": null,
            "align_items": null,
            "align_self": null,
            "border": null,
            "bottom": null,
            "display": null,
            "flex": null,
            "flex_flow": null,
            "grid_area": null,
            "grid_auto_columns": null,
            "grid_auto_flow": null,
            "grid_auto_rows": null,
            "grid_column": null,
            "grid_gap": null,
            "grid_row": null,
            "grid_template_areas": null,
            "grid_template_columns": null,
            "grid_template_rows": null,
            "height": "28px",
            "justify_content": null,
            "justify_items": null,
            "left": null,
            "margin": null,
            "max_height": null,
            "max_width": null,
            "min_height": null,
            "min_width": null,
            "object_fit": null,
            "object_position": null,
            "order": null,
            "overflow": null,
            "overflow_x": null,
            "overflow_y": null,
            "padding": "0px 0px 0px 4px",
            "right": null,
            "top": null,
            "visibility": null,
            "width": "28px"
          }
        },
        "69df1fa0002a44559678ab24c15814a5": {
          "model_module": "@jupyter-widgets/controls",
          "model_name": "DescriptionStyleModel",
          "model_module_version": "1.5.0",
          "state": {
            "_model_module": "@jupyter-widgets/controls",
            "_model_module_version": "1.5.0",
            "_model_name": "DescriptionStyleModel",
            "_view_count": null,
            "_view_module": "@jupyter-widgets/base",
            "_view_module_version": "1.2.0",
            "_view_name": "StyleView",
            "description_width": ""
          }
        },
        "f7d36c480a2446c3a0565eb25dc95432": {
          "model_module": "jupyter-leaflet",
          "model_name": "LeafletMapModel",
          "model_module_version": "^0.18",
          "state": {
            "_dom_classes": [],
            "_model_module": "jupyter-leaflet",
            "_model_module_version": "^0.18",
            "_model_name": "LeafletMapModel",
            "_view_count": null,
            "_view_module": "jupyter-leaflet",
            "_view_module_version": "^0.18",
            "_view_name": "LeafletMapView",
            "bottom": 2178742,
            "bounce_at_zoom_limits": true,
            "box_zoom": true,
            "center": [
              -6.959996137179546,
              -47.34864973691946
            ],
            "close_popup_on_click": true,
            "controls": [
              "IPY_MODEL_aafc8b7329bc473e9c202baa03df3b99",
              "IPY_MODEL_cf1cccb2dc22441b9d66409d967972b5",
              "IPY_MODEL_8c6491e78c514271b5aed826a7081176",
              "IPY_MODEL_19e3d820aaea46738f89f4f498097804"
            ],
            "crs": {
              "name": "EPSG3857",
              "custom": false
            },
            "default_style": "IPY_MODEL_23907d17dee94ded9a174001d420fe0b",
            "double_click_zoom": true,
            "dragging": false,
            "dragging_style": "IPY_MODEL_87185e8aea274853b2e78b62ac35c03f",
            "east": -47.29571342468262,
            "fullscreen": false,
            "inertia": true,
            "inertia_deceleration": 3000,
            "inertia_max_speed": 1500,
            "interpolation": "bilinear",
            "keyboard": true,
            "keyboard_pan_offset": 80,
            "keyboard_zoom_offset": 1,
            "layers": [
              "IPY_MODEL_d74e9f0ed5b5452c848f3b8309f13da7"
            ],
            "layout": "IPY_MODEL_b9518603a219448ab3072c1fc1355c2e",
            "left": 1544883,
            "max_zoom": 24,
            "min_zoom": null,
            "modisdate": "2024-01-18",
            "north": -6.934435981451995,
            "options": [
              "bounce_at_zoom_limits",
              "box_zoom",
              "center",
              "close_popup_on_click",
              "double_click_zoom",
              "dragging",
              "fullscreen",
              "inertia",
              "inertia_deceleration",
              "inertia_max_speed",
              "interpolation",
              "keyboard",
              "keyboard_pan_offset",
              "keyboard_zoom_offset",
              "max_zoom",
              "min_zoom",
              "prefer_canvas",
              "scroll_wheel_zoom",
              "tap",
              "tap_tolerance",
              "touch_zoom",
              "world_copy_jump",
              "zoom",
              "zoom_animation_threshold",
              "zoom_delta",
              "zoom_snap"
            ],
            "panes": {},
            "prefer_canvas": false,
            "right": 1546117,
            "scroll_wheel_zoom": true,
            "south": -6.985554900998802,
            "style": "IPY_MODEL_23907d17dee94ded9a174001d420fe0b",
            "tap": true,
            "tap_tolerance": 15,
            "top": 2178142,
            "touch_zoom": true,
            "west": -47.401628494262695,
            "window_url": "https://telbb5ruvu-496ff2e9c6d22116-0-colab.googleusercontent.com/outputframe.html?vrz=colab_20240118-060147_RC00_599468684",
            "world_copy_jump": false,
            "zoom": 14,
            "zoom_animation_threshold": 4,
            "zoom_delta": 1,
            "zoom_snap": 1
          }
        },
        "aafc8b7329bc473e9c202baa03df3b99": {
          "model_module": "jupyter-leaflet",
          "model_name": "LeafletZoomControlModel",
          "model_module_version": "^0.18",
          "state": {
            "_model_module": "jupyter-leaflet",
            "_model_module_version": "^0.18",
            "_model_name": "LeafletZoomControlModel",
            "_view_count": null,
            "_view_module": "jupyter-leaflet",
            "_view_module_version": "^0.18",
            "_view_name": "LeafletZoomControlView",
            "options": [
              "position",
              "zoom_in_text",
              "zoom_in_title",
              "zoom_out_text",
              "zoom_out_title"
            ],
            "position": "topleft",
            "zoom_in_text": "+",
            "zoom_in_title": "Zoom in",
            "zoom_out_text": "-",
            "zoom_out_title": "Zoom out"
          }
        },
        "cf1cccb2dc22441b9d66409d967972b5": {
          "model_module": "jupyter-leaflet",
          "model_name": "LeafletFullScreenControlModel",
          "model_module_version": "^0.18",
          "state": {
            "_model_module": "jupyter-leaflet",
            "_model_module_version": "^0.18",
            "_model_name": "LeafletFullScreenControlModel",
            "_view_count": null,
            "_view_module": "jupyter-leaflet",
            "_view_module_version": "^0.18",
            "_view_name": "LeafletFullScreenControlView",
            "options": [
              "position"
            ],
            "position": "topleft"
          }
        },
        "8c6491e78c514271b5aed826a7081176": {
          "model_module": "jupyter-leaflet",
          "model_name": "LeafletSplitMapControlModel",
          "model_module_version": "^0.18",
          "state": {
            "_model_module": "jupyter-leaflet",
            "_model_module_version": "^0.18",
            "_model_name": "LeafletSplitMapControlModel",
            "_view_count": null,
            "_view_module": "jupyter-leaflet",
            "_view_module_version": "^0.18",
            "_view_name": "LeafletSplitMapControlView",
            "left_layer": "IPY_MODEL_460486b006554b4997865e3eebe03025",
            "options": [
              "position"
            ],
            "position": "topleft",
            "right_layer": "IPY_MODEL_cea4e970bc404a968739cdac950cc72e"
          }
        },
        "19e3d820aaea46738f89f4f498097804": {
          "model_module": "jupyter-leaflet",
          "model_name": "LeafletLayersControlModel",
          "model_module_version": "^0.18",
          "state": {
            "_model_module": "jupyter-leaflet",
            "_model_module_version": "^0.18",
            "_model_name": "LeafletLayersControlModel",
            "_view_count": null,
            "_view_module": "jupyter-leaflet",
            "_view_module_version": "^0.18",
            "_view_name": "LeafletLayersControlView",
            "collapsed": true,
            "options": [
              "collapsed",
              "position"
            ],
            "position": "topright"
          }
        },
        "23907d17dee94ded9a174001d420fe0b": {
          "model_module": "jupyter-leaflet",
          "model_name": "LeafletMapStyleModel",
          "model_module_version": "^0.18",
          "state": {
            "_model_module": "jupyter-leaflet",
            "_model_module_version": "^0.18",
            "_model_name": "LeafletMapStyleModel",
            "_view_count": null,
            "_view_module": "@jupyter-widgets/base",
            "_view_module_version": "1.2.0",
            "_view_name": "StyleView",
            "cursor": "grab"
          }
        },
        "87185e8aea274853b2e78b62ac35c03f": {
          "model_module": "jupyter-leaflet",
          "model_name": "LeafletMapStyleModel",
          "model_module_version": "^0.18",
          "state": {
            "_model_module": "jupyter-leaflet",
            "_model_module_version": "^0.18",
            "_model_name": "LeafletMapStyleModel",
            "_view_count": null,
            "_view_module": "@jupyter-widgets/base",
            "_view_module_version": "1.2.0",
            "_view_name": "StyleView",
            "cursor": "move"
          }
        },
        "d74e9f0ed5b5452c848f3b8309f13da7": {
          "model_module": "jupyter-leaflet",
          "model_name": "LeafletTileLayerModel",
          "model_module_version": "^0.18",
          "state": {
            "_model_module": "jupyter-leaflet",
            "_model_module_version": "^0.18",
            "_model_name": "LeafletTileLayerModel",
            "_view_count": null,
            "_view_module": "jupyter-leaflet",
            "_view_module_version": "^0.18",
            "_view_name": "LeafletTileLayerView",
            "attribution": "&copy; <a href=\"https://www.openstreetmap.org/copyright\">OpenStreetMap</a> contributors",
            "base": true,
            "bottom": true,
            "bounds": null,
            "detect_retina": false,
            "loading": false,
            "max_native_zoom": null,
            "max_zoom": 19,
            "min_native_zoom": null,
            "min_zoom": 1,
            "name": "OpenStreetMap.Mapnik",
            "no_wrap": false,
            "opacity": 1,
            "options": [
              "attribution",
              "bounds",
              "detect_retina",
              "max_native_zoom",
              "max_zoom",
              "min_native_zoom",
              "min_zoom",
              "no_wrap",
              "tile_size",
              "tms",
              "zoom_offset"
            ],
            "pane": "",
            "popup": null,
            "popup_max_height": null,
            "popup_max_width": 300,
            "popup_min_width": 50,
            "show_loading": false,
            "subitems": [],
            "tile_size": 256,
            "tms": false,
            "url": "https://tile.openstreetmap.org/{z}/{x}/{y}.png",
            "visible": true,
            "zoom_offset": 0
          }
        },
        "b9518603a219448ab3072c1fc1355c2e": {
          "model_module": "@jupyter-widgets/base",
          "model_name": "LayoutModel",
          "model_module_version": "1.2.0",
          "state": {
            "_model_module": "@jupyter-widgets/base",
            "_model_module_version": "1.2.0",
            "_model_name": "LayoutModel",
            "_view_count": null,
            "_view_module": "@jupyter-widgets/base",
            "_view_module_version": "1.2.0",
            "_view_name": "LayoutView",
            "align_content": null,
            "align_items": null,
            "align_self": null,
            "border": null,
            "bottom": null,
            "display": null,
            "flex": null,
            "flex_flow": null,
            "grid_area": null,
            "grid_auto_columns": null,
            "grid_auto_flow": null,
            "grid_auto_rows": null,
            "grid_column": null,
            "grid_gap": null,
            "grid_row": null,
            "grid_template_areas": null,
            "grid_template_columns": null,
            "grid_template_rows": null,
            "height": "600px",
            "justify_content": null,
            "justify_items": null,
            "left": null,
            "margin": null,
            "max_height": null,
            "max_width": null,
            "min_height": null,
            "min_width": null,
            "object_fit": null,
            "object_position": null,
            "order": null,
            "overflow": null,
            "overflow_x": null,
            "overflow_y": null,
            "padding": null,
            "right": null,
            "top": null,
            "visibility": null,
            "width": null
          }
        },
        "c2ae860556ff41858f7426c4e66d82a5": {
          "model_module": "jupyter-leaflet",
          "model_name": "LeafletMapStyleModel",
          "model_module_version": "^0.18",
          "state": {
            "_model_module": "jupyter-leaflet",
            "_model_module_version": "^0.18",
            "_model_name": "LeafletMapStyleModel",
            "_view_count": null,
            "_view_module": "@jupyter-widgets/base",
            "_view_module_version": "1.2.0",
            "_view_name": "StyleView",
            "cursor": "grab"
          }
        },
        "460486b006554b4997865e3eebe03025": {
          "model_module": "jupyter-leaflet",
          "model_name": "LeafletTileLayerModel",
          "model_module_version": "^0.18",
          "state": {
            "_model_module": "jupyter-leaflet",
            "_model_module_version": "^0.18",
            "_model_name": "LeafletTileLayerModel",
            "_view_count": null,
            "_view_module": "jupyter-leaflet",
            "_view_module_version": "^0.18",
            "_view_name": "LeafletTileLayerView",
            "attribution": "Google Earth Engine",
            "base": false,
            "bottom": true,
            "bounds": null,
            "detect_retina": false,
            "loading": false,
            "max_native_zoom": null,
            "max_zoom": 24,
            "min_native_zoom": null,
            "min_zoom": 0,
            "name": "Pre-fire",
            "no_wrap": false,
            "opacity": 1,
            "options": [
              "attribution",
              "bounds",
              "detect_retina",
              "max_native_zoom",
              "max_zoom",
              "min_native_zoom",
              "min_zoom",
              "no_wrap",
              "tile_size",
              "tms",
              "zoom_offset"
            ],
            "pane": "",
            "popup": null,
            "popup_max_height": null,
            "popup_max_width": 300,
            "popup_min_width": 50,
            "show_loading": false,
            "subitems": [],
            "tile_size": 256,
            "tms": false,
            "url": "https://earthengine.googleapis.com/v1/projects/ee-izadorasc/maps/ff795311646d159206ef28193eb4554d-aae8ea72768471e67ca3bdb478a80a95/tiles/{z}/{x}/{y}",
            "visible": true,
            "zoom_offset": 0
          }
        },
        "cea4e970bc404a968739cdac950cc72e": {
          "model_module": "jupyter-leaflet",
          "model_name": "LeafletTileLayerModel",
          "model_module_version": "^0.18",
          "state": {
            "_model_module": "jupyter-leaflet",
            "_model_module_version": "^0.18",
            "_model_name": "LeafletTileLayerModel",
            "_view_count": null,
            "_view_module": "jupyter-leaflet",
            "_view_module_version": "^0.18",
            "_view_name": "LeafletTileLayerView",
            "attribution": "Google Earth Engine",
            "base": false,
            "bottom": true,
            "bounds": null,
            "detect_retina": false,
            "loading": false,
            "max_native_zoom": null,
            "max_zoom": 24,
            "min_native_zoom": null,
            "min_zoom": 0,
            "name": "Post-fire",
            "no_wrap": false,
            "opacity": 1,
            "options": [
              "attribution",
              "bounds",
              "detect_retina",
              "max_native_zoom",
              "max_zoom",
              "min_native_zoom",
              "min_zoom",
              "no_wrap",
              "tile_size",
              "tms",
              "zoom_offset"
            ],
            "pane": "",
            "popup": null,
            "popup_max_height": null,
            "popup_max_width": 300,
            "popup_min_width": 50,
            "show_loading": false,
            "subitems": [],
            "tile_size": 256,
            "tms": false,
            "url": "https://earthengine.googleapis.com/v1/projects/ee-izadorasc/maps/aba1de7a272f038217dab4a7753fc524-4f32968a3aa044d912f7d461162c2eb9/tiles/{z}/{x}/{y}",
            "visible": true,
            "zoom_offset": 0
          }
        },
        "cf95b0e69d8543e5a7ba29b6b746f20a": {
          "model_module": "jupyter-leaflet",
          "model_name": "LeafletMapModel",
          "model_module_version": "^0.18",
          "state": {
            "_dom_classes": [],
            "_model_module": "jupyter-leaflet",
            "_model_module_version": "^0.18",
            "_model_name": "LeafletMapModel",
            "_view_count": null,
            "_view_module": "jupyter-leaflet",
            "_view_module_version": "^0.18",
            "_view_name": "LeafletMapView",
            "bottom": 272772,
            "bounce_at_zoom_limits": true,
            "box_zoom": true,
            "center": [
              -7.073636704289109,
              -47.19991256540448
            ],
            "close_popup_on_click": true,
            "controls": [
              "IPY_MODEL_64c1760f4e4d432a9453caea45425f9f",
              "IPY_MODEL_13dcab4953e6428dad37ed3af6b65a81",
              "IPY_MODEL_edd36dde4365491091abd1cdd09ebf42",
              "IPY_MODEL_66cf44001c1b44f799bd7e95549b07bf",
              "IPY_MODEL_2302bc6128334717ae2a5e830b22aaed",
              "IPY_MODEL_0da6c3d15ca947fd9d6ccb559d850572",
              "IPY_MODEL_8965d07ea18140018103539f1066844f",
              "IPY_MODEL_2fca914519334a94ba9161671a715faf"
            ],
            "crs": {
              "name": "EPSG3857",
              "custom": false
            },
            "default_style": "IPY_MODEL_d83785dbdf9141eba7c007f371000b86",
            "double_click_zoom": true,
            "dragging": true,
            "dragging_style": "IPY_MODEL_86a275a4aad64de1b95efd14a8d57148",
            "east": -46.776351928710945,
            "fullscreen": false,
            "inertia": true,
            "inertia_deceleration": 3000,
            "inertia_max_speed": 1500,
            "interpolation": "bilinear",
            "keyboard": true,
            "keyboard_pan_offset": 80,
            "keyboard_zoom_offset": 1,
            "layers": [
              "IPY_MODEL_97248f26ba3d441483f54f3448dd696c",
              "IPY_MODEL_12a81ccab8c84f71a51c27b0445fc389",
              "IPY_MODEL_874b782d9dfe4f81b0217bd48176e80e"
            ],
            "layout": "IPY_MODEL_06ba379edcea4911b67806b9cb94b44d",
            "left": 192787,
            "max_zoom": 24,
            "min_zoom": null,
            "modisdate": "2024-01-18",
            "north": -6.869166104051696,
            "options": [
              "bounce_at_zoom_limits",
              "box_zoom",
              "center",
              "close_popup_on_click",
              "double_click_zoom",
              "dragging",
              "fullscreen",
              "inertia",
              "inertia_deceleration",
              "inertia_max_speed",
              "interpolation",
              "keyboard",
              "keyboard_pan_offset",
              "keyboard_zoom_offset",
              "max_zoom",
              "min_zoom",
              "prefer_canvas",
              "scroll_wheel_zoom",
              "tap",
              "tap_tolerance",
              "touch_zoom",
              "world_copy_jump",
              "zoom",
              "zoom_animation_threshold",
              "zoom_delta",
              "zoom_snap"
            ],
            "panes": {},
            "prefer_canvas": false,
            "right": 194021,
            "scroll_wheel_zoom": true,
            "south": -7.278016797797649,
            "style": "IPY_MODEL_d83785dbdf9141eba7c007f371000b86",
            "tap": true,
            "tap_tolerance": 15,
            "top": 272172,
            "touch_zoom": true,
            "west": -47.62367248535157,
            "window_url": "https://telbb5ruvu-496ff2e9c6d22116-0-colab.googleusercontent.com/outputframe.html?vrz=colab_20240118-060147_RC00_599468684",
            "world_copy_jump": false,
            "zoom": 11,
            "zoom_animation_threshold": 4,
            "zoom_delta": 1,
            "zoom_snap": 1
          }
        },
        "64c1760f4e4d432a9453caea45425f9f": {
          "model_module": "jupyter-leaflet",
          "model_name": "LeafletWidgetControlModel",
          "model_module_version": "^0.18",
          "state": {
            "_model_module": "jupyter-leaflet",
            "_model_module_version": "^0.18",
            "_model_name": "LeafletWidgetControlModel",
            "_view_count": null,
            "_view_module": "jupyter-leaflet",
            "_view_module_version": "^0.18",
            "_view_name": "LeafletWidgetControlView",
            "max_height": null,
            "max_width": null,
            "min_height": null,
            "min_width": null,
            "options": [
              "position",
              "transparent_bg"
            ],
            "position": "topleft",
            "transparent_bg": false,
            "widget": "IPY_MODEL_32a4e7a2eb8e4437833b196263188c82"
          }
        },
        "13dcab4953e6428dad37ed3af6b65a81": {
          "model_module": "jupyter-leaflet",
          "model_name": "LeafletZoomControlModel",
          "model_module_version": "^0.18",
          "state": {
            "_model_module": "jupyter-leaflet",
            "_model_module_version": "^0.18",
            "_model_name": "LeafletZoomControlModel",
            "_view_count": null,
            "_view_module": "jupyter-leaflet",
            "_view_module_version": "^0.18",
            "_view_name": "LeafletZoomControlView",
            "options": [
              "position",
              "zoom_in_text",
              "zoom_in_title",
              "zoom_out_text",
              "zoom_out_title"
            ],
            "position": "topleft",
            "zoom_in_text": "+",
            "zoom_in_title": "Zoom in",
            "zoom_out_text": "-",
            "zoom_out_title": "Zoom out"
          }
        },
        "edd36dde4365491091abd1cdd09ebf42": {
          "model_module": "jupyter-leaflet",
          "model_name": "LeafletFullScreenControlModel",
          "model_module_version": "^0.18",
          "state": {
            "_model_module": "jupyter-leaflet",
            "_model_module_version": "^0.18",
            "_model_name": "LeafletFullScreenControlModel",
            "_view_count": null,
            "_view_module": "jupyter-leaflet",
            "_view_module_version": "^0.18",
            "_view_name": "LeafletFullScreenControlView",
            "options": [
              "position"
            ],
            "position": "topleft"
          }
        },
        "66cf44001c1b44f799bd7e95549b07bf": {
          "model_module": "jupyter-leaflet",
          "model_name": "LeafletDrawControlModel",
          "model_module_version": "^0.18",
          "state": {
            "_model_module": "jupyter-leaflet",
            "_model_module_version": "^0.18",
            "_model_name": "LeafletDrawControlModel",
            "_view_count": null,
            "_view_module": "jupyter-leaflet",
            "_view_module_version": "^0.18",
            "_view_name": "LeafletDrawControlView",
            "circle": {},
            "circlemarker": {},
            "data": [],
            "edit": true,
            "marker": {
              "shapeOptions": {
                "color": "#3388ff"
              }
            },
            "options": [
              "position"
            ],
            "polygon": {
              "shapeOptions": {}
            },
            "polyline": {
              "shapeOptions": {}
            },
            "position": "topleft",
            "rectangle": {
              "shapeOptions": {
                "color": "#3388ff"
              }
            },
            "remove": true
          }
        },
        "2302bc6128334717ae2a5e830b22aaed": {
          "model_module": "jupyter-leaflet",
          "model_name": "LeafletScaleControlModel",
          "model_module_version": "^0.18",
          "state": {
            "_model_module": "jupyter-leaflet",
            "_model_module_version": "^0.18",
            "_model_name": "LeafletScaleControlModel",
            "_view_count": null,
            "_view_module": "jupyter-leaflet",
            "_view_module_version": "^0.18",
            "_view_name": "LeafletScaleControlView",
            "imperial": true,
            "max_width": 100,
            "metric": true,
            "options": [
              "imperial",
              "max_width",
              "metric",
              "position",
              "update_when_idle"
            ],
            "position": "bottomleft",
            "update_when_idle": false
          }
        },
        "0da6c3d15ca947fd9d6ccb559d850572": {
          "model_module": "jupyter-leaflet",
          "model_name": "LeafletMeasureControlModel",
          "model_module_version": "^0.18",
          "state": {
            "_custom_units": {},
            "_model_module": "jupyter-leaflet",
            "_model_module_version": "^0.18",
            "_model_name": "LeafletMeasureControlModel",
            "_view_count": null,
            "_view_module": "jupyter-leaflet",
            "_view_module_version": "^0.18",
            "_view_name": "LeafletMeasureControlView",
            "active_color": "orange",
            "capture_z_index": 10000,
            "completed_color": "#C8F2BE",
            "options": [
              "active_color",
              "capture_z_index",
              "completed_color",
              "popup_options",
              "position",
              "primary_area_unit",
              "primary_length_unit",
              "secondary_area_unit",
              "secondary_length_unit"
            ],
            "popup_options": {
              "className": "leaflet-measure-resultpopup",
              "autoPanPadding": [
                10,
                10
              ]
            },
            "position": "bottomleft",
            "primary_area_unit": "acres",
            "primary_length_unit": "kilometers",
            "secondary_area_unit": null,
            "secondary_length_unit": null
          }
        },
        "8965d07ea18140018103539f1066844f": {
          "model_module": "jupyter-leaflet",
          "model_name": "LeafletWidgetControlModel",
          "model_module_version": "^0.18",
          "state": {
            "_model_module": "jupyter-leaflet",
            "_model_module_version": "^0.18",
            "_model_name": "LeafletWidgetControlModel",
            "_view_count": null,
            "_view_module": "jupyter-leaflet",
            "_view_module_version": "^0.18",
            "_view_name": "LeafletWidgetControlView",
            "max_height": null,
            "max_width": null,
            "min_height": null,
            "min_width": null,
            "options": [
              "position",
              "transparent_bg"
            ],
            "position": "topright",
            "transparent_bg": false,
            "widget": "IPY_MODEL_163e9b2aaff44f96a965840f1816ce46"
          }
        },
        "2fca914519334a94ba9161671a715faf": {
          "model_module": "jupyter-leaflet",
          "model_name": "LeafletAttributionControlModel",
          "model_module_version": "^0.18",
          "state": {
            "_model_module": "jupyter-leaflet",
            "_model_module_version": "^0.18",
            "_model_name": "LeafletAttributionControlModel",
            "_view_count": null,
            "_view_module": "jupyter-leaflet",
            "_view_module_version": "^0.18",
            "_view_name": "LeafletAttributionControlView",
            "options": [
              "position",
              "prefix"
            ],
            "position": "bottomright",
            "prefix": "ipyleaflet"
          }
        },
        "d83785dbdf9141eba7c007f371000b86": {
          "model_module": "jupyter-leaflet",
          "model_name": "LeafletMapStyleModel",
          "model_module_version": "^0.18",
          "state": {
            "_model_module": "jupyter-leaflet",
            "_model_module_version": "^0.18",
            "_model_name": "LeafletMapStyleModel",
            "_view_count": null,
            "_view_module": "@jupyter-widgets/base",
            "_view_module_version": "1.2.0",
            "_view_name": "StyleView",
            "cursor": "grab"
          }
        },
        "86a275a4aad64de1b95efd14a8d57148": {
          "model_module": "jupyter-leaflet",
          "model_name": "LeafletMapStyleModel",
          "model_module_version": "^0.18",
          "state": {
            "_model_module": "jupyter-leaflet",
            "_model_module_version": "^0.18",
            "_model_name": "LeafletMapStyleModel",
            "_view_count": null,
            "_view_module": "@jupyter-widgets/base",
            "_view_module_version": "1.2.0",
            "_view_name": "StyleView",
            "cursor": "move"
          }
        },
        "97248f26ba3d441483f54f3448dd696c": {
          "model_module": "jupyter-leaflet",
          "model_name": "LeafletTileLayerModel",
          "model_module_version": "^0.18",
          "state": {
            "_model_module": "jupyter-leaflet",
            "_model_module_version": "^0.18",
            "_model_name": "LeafletTileLayerModel",
            "_view_count": null,
            "_view_module": "jupyter-leaflet",
            "_view_module_version": "^0.18",
            "_view_name": "LeafletTileLayerView",
            "attribution": "&copy; <a href=\"https://www.openstreetmap.org/copyright\">OpenStreetMap</a> contributors",
            "base": true,
            "bottom": true,
            "bounds": null,
            "detect_retina": false,
            "loading": false,
            "max_native_zoom": null,
            "max_zoom": 19,
            "min_native_zoom": null,
            "min_zoom": 1,
            "name": "OpenStreetMap.Mapnik",
            "no_wrap": false,
            "opacity": 1,
            "options": [
              "attribution",
              "bounds",
              "detect_retina",
              "max_native_zoom",
              "max_zoom",
              "min_native_zoom",
              "min_zoom",
              "no_wrap",
              "tile_size",
              "tms",
              "zoom_offset"
            ],
            "pane": "",
            "popup": null,
            "popup_max_height": null,
            "popup_max_width": 300,
            "popup_min_width": 50,
            "show_loading": false,
            "subitems": [],
            "tile_size": 256,
            "tms": false,
            "url": "https://tile.openstreetmap.org/{z}/{x}/{y}.png",
            "visible": true,
            "zoom_offset": 0
          }
        },
        "12a81ccab8c84f71a51c27b0445fc389": {
          "model_module": "jupyter-leaflet",
          "model_name": "LeafletTileLayerModel",
          "model_module_version": "^0.18",
          "state": {
            "_model_module": "jupyter-leaflet",
            "_model_module_version": "^0.18",
            "_model_name": "LeafletTileLayerModel",
            "_view_count": null,
            "_view_module": "jupyter-leaflet",
            "_view_module_version": "^0.18",
            "_view_name": "LeafletTileLayerView",
            "attribution": "Google Earth Engine",
            "base": false,
            "bottom": true,
            "bounds": null,
            "detect_retina": false,
            "loading": false,
            "max_native_zoom": null,
            "max_zoom": 24,
            "min_native_zoom": null,
            "min_zoom": 0,
            "name": "Pre-fire",
            "no_wrap": false,
            "opacity": 1,
            "options": [
              "attribution",
              "bounds",
              "detect_retina",
              "max_native_zoom",
              "max_zoom",
              "min_native_zoom",
              "min_zoom",
              "no_wrap",
              "tile_size",
              "tms",
              "zoom_offset"
            ],
            "pane": "",
            "popup": null,
            "popup_max_height": null,
            "popup_max_width": 300,
            "popup_min_width": 50,
            "show_loading": false,
            "subitems": [],
            "tile_size": 256,
            "tms": false,
            "url": "https://earthengine.googleapis.com/v1/projects/ee-izadorasc/maps/93a8640b575ad21aa444b192239065a1-71dedc5e7f4b76a19d7c579907dc6fa7/tiles/{z}/{x}/{y}",
            "visible": true,
            "zoom_offset": 0
          }
        },
        "874b782d9dfe4f81b0217bd48176e80e": {
          "model_module": "jupyter-leaflet",
          "model_name": "LeafletTileLayerModel",
          "model_module_version": "^0.18",
          "state": {
            "_model_module": "jupyter-leaflet",
            "_model_module_version": "^0.18",
            "_model_name": "LeafletTileLayerModel",
            "_view_count": null,
            "_view_module": "jupyter-leaflet",
            "_view_module_version": "^0.18",
            "_view_name": "LeafletTileLayerView",
            "attribution": "Google Earth Engine",
            "base": false,
            "bottom": true,
            "bounds": null,
            "detect_retina": false,
            "loading": false,
            "max_native_zoom": null,
            "max_zoom": 24,
            "min_native_zoom": null,
            "min_zoom": 0,
            "name": "Post-fire",
            "no_wrap": false,
            "opacity": 1,
            "options": [
              "attribution",
              "bounds",
              "detect_retina",
              "max_native_zoom",
              "max_zoom",
              "min_native_zoom",
              "min_zoom",
              "no_wrap",
              "tile_size",
              "tms",
              "zoom_offset"
            ],
            "pane": "",
            "popup": null,
            "popup_max_height": null,
            "popup_max_width": 300,
            "popup_min_width": 50,
            "show_loading": false,
            "subitems": [],
            "tile_size": 256,
            "tms": false,
            "url": "https://earthengine.googleapis.com/v1/projects/ee-izadorasc/maps/1d01e72dc9c09889dd5baa70ffa587bb-431bf803a8e2a48e203f370afa2dead5/tiles/{z}/{x}/{y}",
            "visible": true,
            "zoom_offset": 0
          }
        },
        "06ba379edcea4911b67806b9cb94b44d": {
          "model_module": "@jupyter-widgets/base",
          "model_name": "LayoutModel",
          "model_module_version": "1.2.0",
          "state": {
            "_model_module": "@jupyter-widgets/base",
            "_model_module_version": "1.2.0",
            "_model_name": "LayoutModel",
            "_view_count": null,
            "_view_module": "@jupyter-widgets/base",
            "_view_module_version": "1.2.0",
            "_view_name": "LayoutView",
            "align_content": null,
            "align_items": null,
            "align_self": null,
            "border": null,
            "bottom": null,
            "display": null,
            "flex": null,
            "flex_flow": null,
            "grid_area": null,
            "grid_auto_columns": null,
            "grid_auto_flow": null,
            "grid_auto_rows": null,
            "grid_column": null,
            "grid_gap": null,
            "grid_row": null,
            "grid_template_areas": null,
            "grid_template_columns": null,
            "grid_template_rows": null,
            "height": "600px",
            "justify_content": null,
            "justify_items": null,
            "left": null,
            "margin": null,
            "max_height": null,
            "max_width": null,
            "min_height": null,
            "min_width": null,
            "object_fit": null,
            "object_position": null,
            "order": null,
            "overflow": null,
            "overflow_x": null,
            "overflow_y": null,
            "padding": null,
            "right": null,
            "top": null,
            "visibility": null,
            "width": null
          }
        },
        "eebb3ddc14a64436983876ec7fe99d09": {
          "model_module": "jupyter-leaflet",
          "model_name": "LeafletMapStyleModel",
          "model_module_version": "^0.18",
          "state": {
            "_model_module": "jupyter-leaflet",
            "_model_module_version": "^0.18",
            "_model_name": "LeafletMapStyleModel",
            "_view_count": null,
            "_view_module": "@jupyter-widgets/base",
            "_view_module_version": "1.2.0",
            "_view_name": "StyleView",
            "cursor": "grab"
          }
        },
        "32a4e7a2eb8e4437833b196263188c82": {
          "model_module": "@jupyter-widgets/controls",
          "model_name": "HBoxModel",
          "model_module_version": "1.5.0",
          "state": {
            "_dom_classes": [
              "geemap-colab"
            ],
            "_model_module": "@jupyter-widgets/controls",
            "_model_module_version": "1.5.0",
            "_model_name": "HBoxModel",
            "_view_count": null,
            "_view_module": "@jupyter-widgets/controls",
            "_view_module_version": "1.5.0",
            "_view_name": "HBoxView",
            "box_style": "",
            "children": [
              "IPY_MODEL_b1d07c519d7140158c832f5b13d8536d"
            ],
            "layout": "IPY_MODEL_5c4827743a31489cb8125d17b345e218"
          }
        },
        "163e9b2aaff44f96a965840f1816ce46": {
          "model_module": "@jupyter-widgets/controls",
          "model_name": "VBoxModel",
          "model_module_version": "1.5.0",
          "state": {
            "_dom_classes": [
              "geemap-colab"
            ],
            "_model_module": "@jupyter-widgets/controls",
            "_model_module_version": "1.5.0",
            "_model_name": "VBoxModel",
            "_view_count": null,
            "_view_module": "@jupyter-widgets/controls",
            "_view_module_version": "1.5.0",
            "_view_name": "VBoxView",
            "box_style": "",
            "children": [
              "IPY_MODEL_3cb5b42b7a344855a8f3ee883dfc17da"
            ],
            "layout": "IPY_MODEL_78b04fe1ba534b43811f3be859df51f8"
          }
        },
        "b1d07c519d7140158c832f5b13d8536d": {
          "model_module": "@jupyter-widgets/controls",
          "model_name": "ToggleButtonModel",
          "model_module_version": "1.5.0",
          "state": {
            "_dom_classes": [],
            "_model_module": "@jupyter-widgets/controls",
            "_model_module_version": "1.5.0",
            "_model_name": "ToggleButtonModel",
            "_view_count": null,
            "_view_module": "@jupyter-widgets/controls",
            "_view_module_version": "1.5.0",
            "_view_name": "ToggleButtonView",
            "button_style": "",
            "description": "",
            "description_tooltip": null,
            "disabled": false,
            "icon": "globe",
            "layout": "IPY_MODEL_2960ef1f9aff4bcb854eed60139ad224",
            "style": "IPY_MODEL_2dfe35d98e8b4909b26b3b098f0d965f",
            "tooltip": "Search location/data",
            "value": false
          }
        },
        "5c4827743a31489cb8125d17b345e218": {
          "model_module": "@jupyter-widgets/base",
          "model_name": "LayoutModel",
          "model_module_version": "1.2.0",
          "state": {
            "_model_module": "@jupyter-widgets/base",
            "_model_module_version": "1.2.0",
            "_model_name": "LayoutModel",
            "_view_count": null,
            "_view_module": "@jupyter-widgets/base",
            "_view_module_version": "1.2.0",
            "_view_name": "LayoutView",
            "align_content": null,
            "align_items": null,
            "align_self": null,
            "border": null,
            "bottom": null,
            "display": null,
            "flex": null,
            "flex_flow": null,
            "grid_area": null,
            "grid_auto_columns": null,
            "grid_auto_flow": null,
            "grid_auto_rows": null,
            "grid_column": null,
            "grid_gap": null,
            "grid_row": null,
            "grid_template_areas": null,
            "grid_template_columns": null,
            "grid_template_rows": null,
            "height": null,
            "justify_content": null,
            "justify_items": null,
            "left": null,
            "margin": null,
            "max_height": null,
            "max_width": null,
            "min_height": null,
            "min_width": null,
            "object_fit": null,
            "object_position": null,
            "order": null,
            "overflow": null,
            "overflow_x": null,
            "overflow_y": null,
            "padding": null,
            "right": null,
            "top": null,
            "visibility": null,
            "width": null
          }
        },
        "3cb5b42b7a344855a8f3ee883dfc17da": {
          "model_module": "@jupyter-widgets/controls",
          "model_name": "ToggleButtonModel",
          "model_module_version": "1.5.0",
          "state": {
            "_dom_classes": [],
            "_model_module": "@jupyter-widgets/controls",
            "_model_module_version": "1.5.0",
            "_model_name": "ToggleButtonModel",
            "_view_count": null,
            "_view_module": "@jupyter-widgets/controls",
            "_view_module_version": "1.5.0",
            "_view_name": "ToggleButtonView",
            "button_style": "",
            "description": "",
            "description_tooltip": null,
            "disabled": false,
            "icon": "wrench",
            "layout": "IPY_MODEL_de3dc3d560aa4b5bb63f8411bd5f05e1",
            "style": "IPY_MODEL_4aa878f4d7d44d9f9247c193bbe2a8b3",
            "tooltip": "Toolbar",
            "value": false
          }
        },
        "78b04fe1ba534b43811f3be859df51f8": {
          "model_module": "@jupyter-widgets/base",
          "model_name": "LayoutModel",
          "model_module_version": "1.2.0",
          "state": {
            "_model_module": "@jupyter-widgets/base",
            "_model_module_version": "1.2.0",
            "_model_name": "LayoutModel",
            "_view_count": null,
            "_view_module": "@jupyter-widgets/base",
            "_view_module_version": "1.2.0",
            "_view_name": "LayoutView",
            "align_content": null,
            "align_items": null,
            "align_self": null,
            "border": null,
            "bottom": null,
            "display": null,
            "flex": null,
            "flex_flow": null,
            "grid_area": null,
            "grid_auto_columns": null,
            "grid_auto_flow": null,
            "grid_auto_rows": null,
            "grid_column": null,
            "grid_gap": null,
            "grid_row": null,
            "grid_template_areas": null,
            "grid_template_columns": null,
            "grid_template_rows": null,
            "height": null,
            "justify_content": null,
            "justify_items": null,
            "left": null,
            "margin": null,
            "max_height": null,
            "max_width": null,
            "min_height": null,
            "min_width": null,
            "object_fit": null,
            "object_position": null,
            "order": null,
            "overflow": null,
            "overflow_x": null,
            "overflow_y": null,
            "padding": null,
            "right": null,
            "top": null,
            "visibility": null,
            "width": null
          }
        },
        "2960ef1f9aff4bcb854eed60139ad224": {
          "model_module": "@jupyter-widgets/base",
          "model_name": "LayoutModel",
          "model_module_version": "1.2.0",
          "state": {
            "_model_module": "@jupyter-widgets/base",
            "_model_module_version": "1.2.0",
            "_model_name": "LayoutModel",
            "_view_count": null,
            "_view_module": "@jupyter-widgets/base",
            "_view_module_version": "1.2.0",
            "_view_name": "LayoutView",
            "align_content": null,
            "align_items": null,
            "align_self": null,
            "border": null,
            "bottom": null,
            "display": null,
            "flex": null,
            "flex_flow": null,
            "grid_area": null,
            "grid_auto_columns": null,
            "grid_auto_flow": null,
            "grid_auto_rows": null,
            "grid_column": null,
            "grid_gap": null,
            "grid_row": null,
            "grid_template_areas": null,
            "grid_template_columns": null,
            "grid_template_rows": null,
            "height": "28px",
            "justify_content": null,
            "justify_items": null,
            "left": null,
            "margin": null,
            "max_height": null,
            "max_width": null,
            "min_height": null,
            "min_width": null,
            "object_fit": null,
            "object_position": null,
            "order": null,
            "overflow": null,
            "overflow_x": null,
            "overflow_y": null,
            "padding": "0px 0px 0px 4px",
            "right": null,
            "top": null,
            "visibility": null,
            "width": "28px"
          }
        },
        "2dfe35d98e8b4909b26b3b098f0d965f": {
          "model_module": "@jupyter-widgets/controls",
          "model_name": "DescriptionStyleModel",
          "model_module_version": "1.5.0",
          "state": {
            "_model_module": "@jupyter-widgets/controls",
            "_model_module_version": "1.5.0",
            "_model_name": "DescriptionStyleModel",
            "_view_count": null,
            "_view_module": "@jupyter-widgets/base",
            "_view_module_version": "1.2.0",
            "_view_name": "StyleView",
            "description_width": ""
          }
        },
        "de3dc3d560aa4b5bb63f8411bd5f05e1": {
          "model_module": "@jupyter-widgets/base",
          "model_name": "LayoutModel",
          "model_module_version": "1.2.0",
          "state": {
            "_model_module": "@jupyter-widgets/base",
            "_model_module_version": "1.2.0",
            "_model_name": "LayoutModel",
            "_view_count": null,
            "_view_module": "@jupyter-widgets/base",
            "_view_module_version": "1.2.0",
            "_view_name": "LayoutView",
            "align_content": null,
            "align_items": null,
            "align_self": null,
            "border": null,
            "bottom": null,
            "display": null,
            "flex": null,
            "flex_flow": null,
            "grid_area": null,
            "grid_auto_columns": null,
            "grid_auto_flow": null,
            "grid_auto_rows": null,
            "grid_column": null,
            "grid_gap": null,
            "grid_row": null,
            "grid_template_areas": null,
            "grid_template_columns": null,
            "grid_template_rows": null,
            "height": "28px",
            "justify_content": null,
            "justify_items": null,
            "left": null,
            "margin": null,
            "max_height": null,
            "max_width": null,
            "min_height": null,
            "min_width": null,
            "object_fit": null,
            "object_position": null,
            "order": null,
            "overflow": null,
            "overflow_x": null,
            "overflow_y": null,
            "padding": "0px 0px 0px 4px",
            "right": null,
            "top": null,
            "visibility": null,
            "width": "28px"
          }
        },
        "4aa878f4d7d44d9f9247c193bbe2a8b3": {
          "model_module": "@jupyter-widgets/controls",
          "model_name": "DescriptionStyleModel",
          "model_module_version": "1.5.0",
          "state": {
            "_model_module": "@jupyter-widgets/controls",
            "_model_module_version": "1.5.0",
            "_model_name": "DescriptionStyleModel",
            "_view_count": null,
            "_view_module": "@jupyter-widgets/base",
            "_view_module_version": "1.2.0",
            "_view_name": "StyleView",
            "description_width": ""
          }
        },
        "75fdfd1108a24f22a98b845918efeff5": {
          "model_module": "jupyter-leaflet",
          "model_name": "LeafletMapModel",
          "model_module_version": "^0.18",
          "state": {
            "_dom_classes": [],
            "_model_module": "jupyter-leaflet",
            "_model_module_version": "^0.18",
            "_model_name": "LeafletMapModel",
            "_view_count": null,
            "_view_module": "jupyter-leaflet",
            "_view_module_version": "^0.18",
            "_view_name": "LeafletMapView",
            "bottom": 136594,
            "bounce_at_zoom_limits": true,
            "box_zoom": true,
            "center": [
              -7.152470125883857,
              -47.144687193400344
            ],
            "close_popup_on_click": true,
            "controls": [
              "IPY_MODEL_1dba77097f9749898b4492d697a5ddc2",
              "IPY_MODEL_03738c2246cc4093af1499efe1b5bafb",
              "IPY_MODEL_1d589954f643441290dc8a34a6af0476",
              "IPY_MODEL_7f17aba74b7545ab976cc22cb76e7141",
              "IPY_MODEL_903f41489842448393a31f4e353ed43c",
              "IPY_MODEL_2dd932500d684d44985364d6689f67f6",
              "IPY_MODEL_0f1656c564254be689b6c52cac31e43f",
              "IPY_MODEL_68e47e7e2c144e019c241f7ce763eb63"
            ],
            "crs": {
              "name": "EPSG3857",
              "custom": false
            },
            "default_style": "IPY_MODEL_21c6ba55f0e84c9b8de8ddf3c68dd7df",
            "double_click_zoom": true,
            "dragging": true,
            "dragging_style": "IPY_MODEL_320a4711f3e144c3a945699ec88e4e76",
            "east": -46.29776000976563,
            "fullscreen": false,
            "inertia": true,
            "inertia_deceleration": 3000,
            "inertia_max_speed": 1500,
            "interpolation": "bilinear",
            "keyboard": true,
            "keyboard_pan_offset": 80,
            "keyboard_zoom_offset": 1,
            "layers": [
              "IPY_MODEL_9d0973a888c1468bb581c6229e762a61",
              "IPY_MODEL_ceee95b6b98b4b8e89a0533667ede0c9",
              "IPY_MODEL_9479283ccf6e4b35a849de4fcc9bc569"
            ],
            "layout": "IPY_MODEL_bf50a70471e54dbfb82887e6d770c7b1",
            "left": 96125,
            "max_zoom": 24,
            "min_zoom": null,
            "modisdate": "2024-01-18",
            "north": -6.7437137958173246,
            "options": [
              "bounce_at_zoom_limits",
              "box_zoom",
              "center",
              "close_popup_on_click",
              "double_click_zoom",
              "dragging",
              "fullscreen",
              "inertia",
              "inertia_deceleration",
              "inertia_max_speed",
              "interpolation",
              "keyboard",
              "keyboard_pan_offset",
              "keyboard_zoom_offset",
              "max_zoom",
              "min_zoom",
              "prefer_canvas",
              "scroll_wheel_zoom",
              "tap",
              "tap_tolerance",
              "touch_zoom",
              "world_copy_jump",
              "zoom",
              "zoom_animation_threshold",
              "zoom_delta",
              "zoom_snap"
            ],
            "panes": {},
            "prefer_canvas": false,
            "right": 97359,
            "scroll_wheel_zoom": true,
            "south": -7.561269314400291,
            "style": "IPY_MODEL_542f9daee3d543719f812044f2cba9dc",
            "tap": true,
            "tap_tolerance": 15,
            "top": 135994,
            "touch_zoom": true,
            "west": -47.992401123046875,
            "window_url": "https://telbb5ruvu-496ff2e9c6d22116-0-colab.googleusercontent.com/outputframe.html?vrz=colab_20240118-060147_RC00_599468684",
            "world_copy_jump": false,
            "zoom": 10,
            "zoom_animation_threshold": 4,
            "zoom_delta": 1,
            "zoom_snap": 1
          }
        },
        "1dba77097f9749898b4492d697a5ddc2": {
          "model_module": "jupyter-leaflet",
          "model_name": "LeafletWidgetControlModel",
          "model_module_version": "^0.18",
          "state": {
            "_model_module": "jupyter-leaflet",
            "_model_module_version": "^0.18",
            "_model_name": "LeafletWidgetControlModel",
            "_view_count": null,
            "_view_module": "jupyter-leaflet",
            "_view_module_version": "^0.18",
            "_view_name": "LeafletWidgetControlView",
            "max_height": null,
            "max_width": null,
            "min_height": null,
            "min_width": null,
            "options": [
              "position",
              "transparent_bg"
            ],
            "position": "topleft",
            "transparent_bg": false,
            "widget": "IPY_MODEL_fdfe7cfde04a41ce9e4ff06ee829efd3"
          }
        },
        "03738c2246cc4093af1499efe1b5bafb": {
          "model_module": "jupyter-leaflet",
          "model_name": "LeafletZoomControlModel",
          "model_module_version": "^0.18",
          "state": {
            "_model_module": "jupyter-leaflet",
            "_model_module_version": "^0.18",
            "_model_name": "LeafletZoomControlModel",
            "_view_count": null,
            "_view_module": "jupyter-leaflet",
            "_view_module_version": "^0.18",
            "_view_name": "LeafletZoomControlView",
            "options": [
              "position",
              "zoom_in_text",
              "zoom_in_title",
              "zoom_out_text",
              "zoom_out_title"
            ],
            "position": "topleft",
            "zoom_in_text": "+",
            "zoom_in_title": "Zoom in",
            "zoom_out_text": "-",
            "zoom_out_title": "Zoom out"
          }
        },
        "1d589954f643441290dc8a34a6af0476": {
          "model_module": "jupyter-leaflet",
          "model_name": "LeafletFullScreenControlModel",
          "model_module_version": "^0.18",
          "state": {
            "_model_module": "jupyter-leaflet",
            "_model_module_version": "^0.18",
            "_model_name": "LeafletFullScreenControlModel",
            "_view_count": null,
            "_view_module": "jupyter-leaflet",
            "_view_module_version": "^0.18",
            "_view_name": "LeafletFullScreenControlView",
            "options": [
              "position"
            ],
            "position": "topleft"
          }
        },
        "7f17aba74b7545ab976cc22cb76e7141": {
          "model_module": "jupyter-leaflet",
          "model_name": "LeafletDrawControlModel",
          "model_module_version": "^0.18",
          "state": {
            "_model_module": "jupyter-leaflet",
            "_model_module_version": "^0.18",
            "_model_name": "LeafletDrawControlModel",
            "_view_count": null,
            "_view_module": "jupyter-leaflet",
            "_view_module_version": "^0.18",
            "_view_name": "LeafletDrawControlView",
            "circle": {},
            "circlemarker": {},
            "data": [],
            "edit": true,
            "marker": {
              "shapeOptions": {
                "color": "#3388ff"
              }
            },
            "options": [
              "position"
            ],
            "polygon": {
              "shapeOptions": {}
            },
            "polyline": {
              "shapeOptions": {}
            },
            "position": "topleft",
            "rectangle": {
              "shapeOptions": {
                "color": "#3388ff"
              }
            },
            "remove": true
          }
        },
        "903f41489842448393a31f4e353ed43c": {
          "model_module": "jupyter-leaflet",
          "model_name": "LeafletScaleControlModel",
          "model_module_version": "^0.18",
          "state": {
            "_model_module": "jupyter-leaflet",
            "_model_module_version": "^0.18",
            "_model_name": "LeafletScaleControlModel",
            "_view_count": null,
            "_view_module": "jupyter-leaflet",
            "_view_module_version": "^0.18",
            "_view_name": "LeafletScaleControlView",
            "imperial": true,
            "max_width": 100,
            "metric": true,
            "options": [
              "imperial",
              "max_width",
              "metric",
              "position",
              "update_when_idle"
            ],
            "position": "bottomleft",
            "update_when_idle": false
          }
        },
        "2dd932500d684d44985364d6689f67f6": {
          "model_module": "jupyter-leaflet",
          "model_name": "LeafletMeasureControlModel",
          "model_module_version": "^0.18",
          "state": {
            "_custom_units": {},
            "_model_module": "jupyter-leaflet",
            "_model_module_version": "^0.18",
            "_model_name": "LeafletMeasureControlModel",
            "_view_count": null,
            "_view_module": "jupyter-leaflet",
            "_view_module_version": "^0.18",
            "_view_name": "LeafletMeasureControlView",
            "active_color": "orange",
            "capture_z_index": 10000,
            "completed_color": "#C8F2BE",
            "options": [
              "active_color",
              "capture_z_index",
              "completed_color",
              "popup_options",
              "position",
              "primary_area_unit",
              "primary_length_unit",
              "secondary_area_unit",
              "secondary_length_unit"
            ],
            "popup_options": {
              "className": "leaflet-measure-resultpopup",
              "autoPanPadding": [
                10,
                10
              ]
            },
            "position": "bottomleft",
            "primary_area_unit": "acres",
            "primary_length_unit": "kilometers",
            "secondary_area_unit": null,
            "secondary_length_unit": null
          }
        },
        "0f1656c564254be689b6c52cac31e43f": {
          "model_module": "jupyter-leaflet",
          "model_name": "LeafletWidgetControlModel",
          "model_module_version": "^0.18",
          "state": {
            "_model_module": "jupyter-leaflet",
            "_model_module_version": "^0.18",
            "_model_name": "LeafletWidgetControlModel",
            "_view_count": null,
            "_view_module": "jupyter-leaflet",
            "_view_module_version": "^0.18",
            "_view_name": "LeafletWidgetControlView",
            "max_height": null,
            "max_width": null,
            "min_height": null,
            "min_width": null,
            "options": [
              "position",
              "transparent_bg"
            ],
            "position": "topright",
            "transparent_bg": false,
            "widget": "IPY_MODEL_8491a372bf4749fcbdbd3bae5e6d1751"
          }
        },
        "68e47e7e2c144e019c241f7ce763eb63": {
          "model_module": "jupyter-leaflet",
          "model_name": "LeafletAttributionControlModel",
          "model_module_version": "^0.18",
          "state": {
            "_model_module": "jupyter-leaflet",
            "_model_module_version": "^0.18",
            "_model_name": "LeafletAttributionControlModel",
            "_view_count": null,
            "_view_module": "jupyter-leaflet",
            "_view_module_version": "^0.18",
            "_view_name": "LeafletAttributionControlView",
            "options": [
              "position",
              "prefix"
            ],
            "position": "bottomright",
            "prefix": "ipyleaflet"
          }
        },
        "21c6ba55f0e84c9b8de8ddf3c68dd7df": {
          "model_module": "jupyter-leaflet",
          "model_name": "LeafletMapStyleModel",
          "model_module_version": "^0.18",
          "state": {
            "_model_module": "jupyter-leaflet",
            "_model_module_version": "^0.18",
            "_model_name": "LeafletMapStyleModel",
            "_view_count": null,
            "_view_module": "@jupyter-widgets/base",
            "_view_module_version": "1.2.0",
            "_view_name": "StyleView",
            "cursor": "grab"
          }
        },
        "320a4711f3e144c3a945699ec88e4e76": {
          "model_module": "jupyter-leaflet",
          "model_name": "LeafletMapStyleModel",
          "model_module_version": "^0.18",
          "state": {
            "_model_module": "jupyter-leaflet",
            "_model_module_version": "^0.18",
            "_model_name": "LeafletMapStyleModel",
            "_view_count": null,
            "_view_module": "@jupyter-widgets/base",
            "_view_module_version": "1.2.0",
            "_view_name": "StyleView",
            "cursor": "move"
          }
        },
        "9d0973a888c1468bb581c6229e762a61": {
          "model_module": "jupyter-leaflet",
          "model_name": "LeafletTileLayerModel",
          "model_module_version": "^0.18",
          "state": {
            "_model_module": "jupyter-leaflet",
            "_model_module_version": "^0.18",
            "_model_name": "LeafletTileLayerModel",
            "_view_count": null,
            "_view_module": "jupyter-leaflet",
            "_view_module_version": "^0.18",
            "_view_name": "LeafletTileLayerView",
            "attribution": "&copy; <a href=\"https://www.openstreetmap.org/copyright\">OpenStreetMap</a> contributors",
            "base": true,
            "bottom": true,
            "bounds": null,
            "detect_retina": false,
            "loading": false,
            "max_native_zoom": null,
            "max_zoom": 19,
            "min_native_zoom": null,
            "min_zoom": 1,
            "name": "OpenStreetMap.Mapnik",
            "no_wrap": false,
            "opacity": 1,
            "options": [
              "attribution",
              "bounds",
              "detect_retina",
              "max_native_zoom",
              "max_zoom",
              "min_native_zoom",
              "min_zoom",
              "no_wrap",
              "tile_size",
              "tms",
              "zoom_offset"
            ],
            "pane": "",
            "popup": null,
            "popup_max_height": null,
            "popup_max_width": 300,
            "popup_min_width": 50,
            "show_loading": false,
            "subitems": [],
            "tile_size": 256,
            "tms": false,
            "url": "https://tile.openstreetmap.org/{z}/{x}/{y}.png",
            "visible": true,
            "zoom_offset": 0
          }
        },
        "ceee95b6b98b4b8e89a0533667ede0c9": {
          "model_module": "jupyter-leaflet",
          "model_name": "LeafletTileLayerModel",
          "model_module_version": "^0.18",
          "state": {
            "_model_module": "jupyter-leaflet",
            "_model_module_version": "^0.18",
            "_model_name": "LeafletTileLayerModel",
            "_view_count": null,
            "_view_module": "jupyter-leaflet",
            "_view_module_version": "^0.18",
            "_view_name": "LeafletTileLayerView",
            "attribution": "Google Earth Engine",
            "base": false,
            "bottom": true,
            "bounds": null,
            "detect_retina": false,
            "loading": false,
            "max_native_zoom": null,
            "max_zoom": 24,
            "min_native_zoom": null,
            "min_zoom": 0,
            "name": "Pre-fire",
            "no_wrap": false,
            "opacity": 1,
            "options": [
              "attribution",
              "bounds",
              "detect_retina",
              "max_native_zoom",
              "max_zoom",
              "min_native_zoom",
              "min_zoom",
              "no_wrap",
              "tile_size",
              "tms",
              "zoom_offset"
            ],
            "pane": "",
            "popup": null,
            "popup_max_height": null,
            "popup_max_width": 300,
            "popup_min_width": 50,
            "show_loading": false,
            "subitems": [],
            "tile_size": 256,
            "tms": false,
            "url": "https://earthengine.googleapis.com/v1/projects/ee-izadorasc/maps/cf61c27fa647ba6279826a79f9d1f248-0056ba66bfec12c87aed75c6c658a863/tiles/{z}/{x}/{y}",
            "visible": true,
            "zoom_offset": 0
          }
        },
        "9479283ccf6e4b35a849de4fcc9bc569": {
          "model_module": "jupyter-leaflet",
          "model_name": "LeafletTileLayerModel",
          "model_module_version": "^0.18",
          "state": {
            "_model_module": "jupyter-leaflet",
            "_model_module_version": "^0.18",
            "_model_name": "LeafletTileLayerModel",
            "_view_count": null,
            "_view_module": "jupyter-leaflet",
            "_view_module_version": "^0.18",
            "_view_name": "LeafletTileLayerView",
            "attribution": "Google Earth Engine",
            "base": false,
            "bottom": true,
            "bounds": null,
            "detect_retina": false,
            "loading": false,
            "max_native_zoom": null,
            "max_zoom": 24,
            "min_native_zoom": null,
            "min_zoom": 0,
            "name": "Post-fire",
            "no_wrap": false,
            "opacity": 1,
            "options": [
              "attribution",
              "bounds",
              "detect_retina",
              "max_native_zoom",
              "max_zoom",
              "min_native_zoom",
              "min_zoom",
              "no_wrap",
              "tile_size",
              "tms",
              "zoom_offset"
            ],
            "pane": "",
            "popup": null,
            "popup_max_height": null,
            "popup_max_width": 300,
            "popup_min_width": 50,
            "show_loading": false,
            "subitems": [],
            "tile_size": 256,
            "tms": false,
            "url": "https://earthengine.googleapis.com/v1/projects/ee-izadorasc/maps/66a715275dca523e3e435d58ee7e0769-3877cb4f6238347db571785c825ac105/tiles/{z}/{x}/{y}",
            "visible": true,
            "zoom_offset": 0
          }
        },
        "bf50a70471e54dbfb82887e6d770c7b1": {
          "model_module": "@jupyter-widgets/base",
          "model_name": "LayoutModel",
          "model_module_version": "1.2.0",
          "state": {
            "_model_module": "@jupyter-widgets/base",
            "_model_module_version": "1.2.0",
            "_model_name": "LayoutModel",
            "_view_count": null,
            "_view_module": "@jupyter-widgets/base",
            "_view_module_version": "1.2.0",
            "_view_name": "LayoutView",
            "align_content": null,
            "align_items": null,
            "align_self": null,
            "border": null,
            "bottom": null,
            "display": null,
            "flex": null,
            "flex_flow": null,
            "grid_area": null,
            "grid_auto_columns": null,
            "grid_auto_flow": null,
            "grid_auto_rows": null,
            "grid_column": null,
            "grid_gap": null,
            "grid_row": null,
            "grid_template_areas": null,
            "grid_template_columns": null,
            "grid_template_rows": null,
            "height": "600px",
            "justify_content": null,
            "justify_items": null,
            "left": null,
            "margin": null,
            "max_height": null,
            "max_width": null,
            "min_height": null,
            "min_width": null,
            "object_fit": null,
            "object_position": null,
            "order": null,
            "overflow": null,
            "overflow_x": null,
            "overflow_y": null,
            "padding": null,
            "right": null,
            "top": null,
            "visibility": null,
            "width": null
          }
        },
        "542f9daee3d543719f812044f2cba9dc": {
          "model_module": "jupyter-leaflet",
          "model_name": "LeafletMapStyleModel",
          "model_module_version": "^0.18",
          "state": {
            "_model_module": "jupyter-leaflet",
            "_model_module_version": "^0.18",
            "_model_name": "LeafletMapStyleModel",
            "_view_count": null,
            "_view_module": "@jupyter-widgets/base",
            "_view_module_version": "1.2.0",
            "_view_name": "StyleView",
            "cursor": "grab"
          }
        },
        "fdfe7cfde04a41ce9e4ff06ee829efd3": {
          "model_module": "@jupyter-widgets/controls",
          "model_name": "HBoxModel",
          "model_module_version": "1.5.0",
          "state": {
            "_dom_classes": [
              "geemap-colab"
            ],
            "_model_module": "@jupyter-widgets/controls",
            "_model_module_version": "1.5.0",
            "_model_name": "HBoxModel",
            "_view_count": null,
            "_view_module": "@jupyter-widgets/controls",
            "_view_module_version": "1.5.0",
            "_view_name": "HBoxView",
            "box_style": "",
            "children": [
              "IPY_MODEL_79e8e6c8ed6942cc88336501c7c633a8"
            ],
            "layout": "IPY_MODEL_59f10091149c4d5e810796ea52e73fb7"
          }
        },
        "8491a372bf4749fcbdbd3bae5e6d1751": {
          "model_module": "@jupyter-widgets/controls",
          "model_name": "VBoxModel",
          "model_module_version": "1.5.0",
          "state": {
            "_dom_classes": [
              "geemap-colab"
            ],
            "_model_module": "@jupyter-widgets/controls",
            "_model_module_version": "1.5.0",
            "_model_name": "VBoxModel",
            "_view_count": null,
            "_view_module": "@jupyter-widgets/controls",
            "_view_module_version": "1.5.0",
            "_view_name": "VBoxView",
            "box_style": "",
            "children": [
              "IPY_MODEL_d25457f0eb2d47d2a715851b141fec57"
            ],
            "layout": "IPY_MODEL_a7f7eac2206a4970a7df33a93dca28af"
          }
        },
        "79e8e6c8ed6942cc88336501c7c633a8": {
          "model_module": "@jupyter-widgets/controls",
          "model_name": "ToggleButtonModel",
          "model_module_version": "1.5.0",
          "state": {
            "_dom_classes": [],
            "_model_module": "@jupyter-widgets/controls",
            "_model_module_version": "1.5.0",
            "_model_name": "ToggleButtonModel",
            "_view_count": null,
            "_view_module": "@jupyter-widgets/controls",
            "_view_module_version": "1.5.0",
            "_view_name": "ToggleButtonView",
            "button_style": "",
            "description": "",
            "description_tooltip": null,
            "disabled": false,
            "icon": "globe",
            "layout": "IPY_MODEL_64701f041ab649b387ff33b41b979508",
            "style": "IPY_MODEL_e102cf7f518544f0ab0286e0b9ca34ed",
            "tooltip": "Search location/data",
            "value": false
          }
        },
        "59f10091149c4d5e810796ea52e73fb7": {
          "model_module": "@jupyter-widgets/base",
          "model_name": "LayoutModel",
          "model_module_version": "1.2.0",
          "state": {
            "_model_module": "@jupyter-widgets/base",
            "_model_module_version": "1.2.0",
            "_model_name": "LayoutModel",
            "_view_count": null,
            "_view_module": "@jupyter-widgets/base",
            "_view_module_version": "1.2.0",
            "_view_name": "LayoutView",
            "align_content": null,
            "align_items": null,
            "align_self": null,
            "border": null,
            "bottom": null,
            "display": null,
            "flex": null,
            "flex_flow": null,
            "grid_area": null,
            "grid_auto_columns": null,
            "grid_auto_flow": null,
            "grid_auto_rows": null,
            "grid_column": null,
            "grid_gap": null,
            "grid_row": null,
            "grid_template_areas": null,
            "grid_template_columns": null,
            "grid_template_rows": null,
            "height": null,
            "justify_content": null,
            "justify_items": null,
            "left": null,
            "margin": null,
            "max_height": null,
            "max_width": null,
            "min_height": null,
            "min_width": null,
            "object_fit": null,
            "object_position": null,
            "order": null,
            "overflow": null,
            "overflow_x": null,
            "overflow_y": null,
            "padding": null,
            "right": null,
            "top": null,
            "visibility": null,
            "width": null
          }
        },
        "d25457f0eb2d47d2a715851b141fec57": {
          "model_module": "@jupyter-widgets/controls",
          "model_name": "ToggleButtonModel",
          "model_module_version": "1.5.0",
          "state": {
            "_dom_classes": [],
            "_model_module": "@jupyter-widgets/controls",
            "_model_module_version": "1.5.0",
            "_model_name": "ToggleButtonModel",
            "_view_count": null,
            "_view_module": "@jupyter-widgets/controls",
            "_view_module_version": "1.5.0",
            "_view_name": "ToggleButtonView",
            "button_style": "",
            "description": "",
            "description_tooltip": null,
            "disabled": false,
            "icon": "wrench",
            "layout": "IPY_MODEL_8e31e63cec264a45b315d65b1b6a5599",
            "style": "IPY_MODEL_c9b7544df3714e6cafe9ac93d78f8716",
            "tooltip": "Toolbar",
            "value": false
          }
        },
        "a7f7eac2206a4970a7df33a93dca28af": {
          "model_module": "@jupyter-widgets/base",
          "model_name": "LayoutModel",
          "model_module_version": "1.2.0",
          "state": {
            "_model_module": "@jupyter-widgets/base",
            "_model_module_version": "1.2.0",
            "_model_name": "LayoutModel",
            "_view_count": null,
            "_view_module": "@jupyter-widgets/base",
            "_view_module_version": "1.2.0",
            "_view_name": "LayoutView",
            "align_content": null,
            "align_items": null,
            "align_self": null,
            "border": null,
            "bottom": null,
            "display": null,
            "flex": null,
            "flex_flow": null,
            "grid_area": null,
            "grid_auto_columns": null,
            "grid_auto_flow": null,
            "grid_auto_rows": null,
            "grid_column": null,
            "grid_gap": null,
            "grid_row": null,
            "grid_template_areas": null,
            "grid_template_columns": null,
            "grid_template_rows": null,
            "height": null,
            "justify_content": null,
            "justify_items": null,
            "left": null,
            "margin": null,
            "max_height": null,
            "max_width": null,
            "min_height": null,
            "min_width": null,
            "object_fit": null,
            "object_position": null,
            "order": null,
            "overflow": null,
            "overflow_x": null,
            "overflow_y": null,
            "padding": null,
            "right": null,
            "top": null,
            "visibility": null,
            "width": null
          }
        },
        "64701f041ab649b387ff33b41b979508": {
          "model_module": "@jupyter-widgets/base",
          "model_name": "LayoutModel",
          "model_module_version": "1.2.0",
          "state": {
            "_model_module": "@jupyter-widgets/base",
            "_model_module_version": "1.2.0",
            "_model_name": "LayoutModel",
            "_view_count": null,
            "_view_module": "@jupyter-widgets/base",
            "_view_module_version": "1.2.0",
            "_view_name": "LayoutView",
            "align_content": null,
            "align_items": null,
            "align_self": null,
            "border": null,
            "bottom": null,
            "display": null,
            "flex": null,
            "flex_flow": null,
            "grid_area": null,
            "grid_auto_columns": null,
            "grid_auto_flow": null,
            "grid_auto_rows": null,
            "grid_column": null,
            "grid_gap": null,
            "grid_row": null,
            "grid_template_areas": null,
            "grid_template_columns": null,
            "grid_template_rows": null,
            "height": "28px",
            "justify_content": null,
            "justify_items": null,
            "left": null,
            "margin": null,
            "max_height": null,
            "max_width": null,
            "min_height": null,
            "min_width": null,
            "object_fit": null,
            "object_position": null,
            "order": null,
            "overflow": null,
            "overflow_x": null,
            "overflow_y": null,
            "padding": "0px 0px 0px 4px",
            "right": null,
            "top": null,
            "visibility": null,
            "width": "28px"
          }
        },
        "e102cf7f518544f0ab0286e0b9ca34ed": {
          "model_module": "@jupyter-widgets/controls",
          "model_name": "DescriptionStyleModel",
          "model_module_version": "1.5.0",
          "state": {
            "_model_module": "@jupyter-widgets/controls",
            "_model_module_version": "1.5.0",
            "_model_name": "DescriptionStyleModel",
            "_view_count": null,
            "_view_module": "@jupyter-widgets/base",
            "_view_module_version": "1.2.0",
            "_view_name": "StyleView",
            "description_width": ""
          }
        },
        "8e31e63cec264a45b315d65b1b6a5599": {
          "model_module": "@jupyter-widgets/base",
          "model_name": "LayoutModel",
          "model_module_version": "1.2.0",
          "state": {
            "_model_module": "@jupyter-widgets/base",
            "_model_module_version": "1.2.0",
            "_model_name": "LayoutModel",
            "_view_count": null,
            "_view_module": "@jupyter-widgets/base",
            "_view_module_version": "1.2.0",
            "_view_name": "LayoutView",
            "align_content": null,
            "align_items": null,
            "align_self": null,
            "border": null,
            "bottom": null,
            "display": null,
            "flex": null,
            "flex_flow": null,
            "grid_area": null,
            "grid_auto_columns": null,
            "grid_auto_flow": null,
            "grid_auto_rows": null,
            "grid_column": null,
            "grid_gap": null,
            "grid_row": null,
            "grid_template_areas": null,
            "grid_template_columns": null,
            "grid_template_rows": null,
            "height": "28px",
            "justify_content": null,
            "justify_items": null,
            "left": null,
            "margin": null,
            "max_height": null,
            "max_width": null,
            "min_height": null,
            "min_width": null,
            "object_fit": null,
            "object_position": null,
            "order": null,
            "overflow": null,
            "overflow_x": null,
            "overflow_y": null,
            "padding": "0px 0px 0px 4px",
            "right": null,
            "top": null,
            "visibility": null,
            "width": "28px"
          }
        },
        "c9b7544df3714e6cafe9ac93d78f8716": {
          "model_module": "@jupyter-widgets/controls",
          "model_name": "DescriptionStyleModel",
          "model_module_version": "1.5.0",
          "state": {
            "_model_module": "@jupyter-widgets/controls",
            "_model_module_version": "1.5.0",
            "_model_name": "DescriptionStyleModel",
            "_view_count": null,
            "_view_module": "@jupyter-widgets/base",
            "_view_module_version": "1.2.0",
            "_view_name": "StyleView",
            "description_width": ""
          }
        },
        "ef2daaee2f3146a2b02878aca50f3071": {
          "model_module": "jupyter-leaflet",
          "model_name": "LeafletMapModel",
          "model_module_version": "^0.18",
          "state": {
            "_dom_classes": [],
            "_model_module": "jupyter-leaflet",
            "_model_module_version": "^0.18",
            "_model_name": "LeafletMapModel",
            "_view_count": null,
            "_view_module": "jupyter-leaflet",
            "_view_module_version": "^0.18",
            "_view_name": "LeafletMapView",
            "bottom": 136555,
            "bounce_at_zoom_limits": true,
            "box_zoom": true,
            "center": [
              -7.1,
              -47
            ],
            "close_popup_on_click": true,
            "controls": [
              "IPY_MODEL_a16f37c011994616b9283f375c5e768e",
              "IPY_MODEL_1758471bbab74f13bdd733edff7f39c3",
              "IPY_MODEL_89bff71ebe03429588b1f0986acd7dd2",
              "IPY_MODEL_4b4ab9f09e23490894bd016f4ef8dd92"
            ],
            "crs": {
              "name": "EPSG3857",
              "custom": false
            },
            "default_style": "IPY_MODEL_5b71234e6f5949daba8e9f53534b1238",
            "double_click_zoom": true,
            "dragging": false,
            "dragging_style": "IPY_MODEL_d5009ef310404e16b3ea4dff3eea34e1",
            "east": -46.15219116210938,
            "fullscreen": false,
            "inertia": true,
            "inertia_deceleration": 3000,
            "inertia_max_speed": 1500,
            "interpolation": "bilinear",
            "keyboard": true,
            "keyboard_pan_offset": 80,
            "keyboard_zoom_offset": 1,
            "layers": [
              "IPY_MODEL_8163a16bd5ce4f27b869cc830024760a"
            ],
            "layout": "IPY_MODEL_19449361b8444130810bd358c947c080",
            "left": 96231,
            "max_zoom": 24,
            "min_zoom": null,
            "modisdate": "2024-01-18",
            "north": -6.690523086226235,
            "options": [
              "bounce_at_zoom_limits",
              "box_zoom",
              "center",
              "close_popup_on_click",
              "double_click_zoom",
              "dragging",
              "fullscreen",
              "inertia",
              "inertia_deceleration",
              "inertia_max_speed",
              "interpolation",
              "keyboard",
              "keyboard_pan_offset",
              "keyboard_zoom_offset",
              "max_zoom",
              "min_zoom",
              "prefer_canvas",
              "scroll_wheel_zoom",
              "tap",
              "tap_tolerance",
              "touch_zoom",
              "world_copy_jump",
              "zoom",
              "zoom_animation_threshold",
              "zoom_delta",
              "zoom_snap"
            ],
            "panes": {},
            "prefer_canvas": false,
            "right": 97465,
            "scroll_wheel_zoom": true,
            "south": -7.508173412032532,
            "style": "IPY_MODEL_b3c768ac1d414303a39ca3706c40e6c2",
            "tap": true,
            "tap_tolerance": 15,
            "top": 135955,
            "touch_zoom": true,
            "west": -47.84683227539063,
            "window_url": "https://telbb5ruvu-496ff2e9c6d22116-0-colab.googleusercontent.com/outputframe.html?vrz=colab_20240118-060147_RC00_599468684",
            "world_copy_jump": false,
            "zoom": 10,
            "zoom_animation_threshold": 4,
            "zoom_delta": 1,
            "zoom_snap": 1
          }
        },
        "a16f37c011994616b9283f375c5e768e": {
          "model_module": "jupyter-leaflet",
          "model_name": "LeafletZoomControlModel",
          "model_module_version": "^0.18",
          "state": {
            "_model_module": "jupyter-leaflet",
            "_model_module_version": "^0.18",
            "_model_name": "LeafletZoomControlModel",
            "_view_count": null,
            "_view_module": "jupyter-leaflet",
            "_view_module_version": "^0.18",
            "_view_name": "LeafletZoomControlView",
            "options": [
              "position",
              "zoom_in_text",
              "zoom_in_title",
              "zoom_out_text",
              "zoom_out_title"
            ],
            "position": "topleft",
            "zoom_in_text": "+",
            "zoom_in_title": "Zoom in",
            "zoom_out_text": "-",
            "zoom_out_title": "Zoom out"
          }
        },
        "1758471bbab74f13bdd733edff7f39c3": {
          "model_module": "jupyter-leaflet",
          "model_name": "LeafletFullScreenControlModel",
          "model_module_version": "^0.18",
          "state": {
            "_model_module": "jupyter-leaflet",
            "_model_module_version": "^0.18",
            "_model_name": "LeafletFullScreenControlModel",
            "_view_count": null,
            "_view_module": "jupyter-leaflet",
            "_view_module_version": "^0.18",
            "_view_name": "LeafletFullScreenControlView",
            "options": [
              "position"
            ],
            "position": "topleft"
          }
        },
        "89bff71ebe03429588b1f0986acd7dd2": {
          "model_module": "jupyter-leaflet",
          "model_name": "LeafletSplitMapControlModel",
          "model_module_version": "^0.18",
          "state": {
            "_model_module": "jupyter-leaflet",
            "_model_module_version": "^0.18",
            "_model_name": "LeafletSplitMapControlModel",
            "_view_count": null,
            "_view_module": "jupyter-leaflet",
            "_view_module_version": "^0.18",
            "_view_name": "LeafletSplitMapControlView",
            "left_layer": "IPY_MODEL_c970b1e207b943309b79bc68237214fb",
            "options": [
              "position"
            ],
            "position": "topleft",
            "right_layer": "IPY_MODEL_30a98a9e8060493c91812e4fd8ea71ba"
          }
        },
        "4b4ab9f09e23490894bd016f4ef8dd92": {
          "model_module": "jupyter-leaflet",
          "model_name": "LeafletLayersControlModel",
          "model_module_version": "^0.18",
          "state": {
            "_model_module": "jupyter-leaflet",
            "_model_module_version": "^0.18",
            "_model_name": "LeafletLayersControlModel",
            "_view_count": null,
            "_view_module": "jupyter-leaflet",
            "_view_module_version": "^0.18",
            "_view_name": "LeafletLayersControlView",
            "collapsed": true,
            "options": [
              "collapsed",
              "position"
            ],
            "position": "topright"
          }
        },
        "5b71234e6f5949daba8e9f53534b1238": {
          "model_module": "jupyter-leaflet",
          "model_name": "LeafletMapStyleModel",
          "model_module_version": "^0.18",
          "state": {
            "_model_module": "jupyter-leaflet",
            "_model_module_version": "^0.18",
            "_model_name": "LeafletMapStyleModel",
            "_view_count": null,
            "_view_module": "@jupyter-widgets/base",
            "_view_module_version": "1.2.0",
            "_view_name": "StyleView",
            "cursor": "grab"
          }
        },
        "d5009ef310404e16b3ea4dff3eea34e1": {
          "model_module": "jupyter-leaflet",
          "model_name": "LeafletMapStyleModel",
          "model_module_version": "^0.18",
          "state": {
            "_model_module": "jupyter-leaflet",
            "_model_module_version": "^0.18",
            "_model_name": "LeafletMapStyleModel",
            "_view_count": null,
            "_view_module": "@jupyter-widgets/base",
            "_view_module_version": "1.2.0",
            "_view_name": "StyleView",
            "cursor": "move"
          }
        },
        "8163a16bd5ce4f27b869cc830024760a": {
          "model_module": "jupyter-leaflet",
          "model_name": "LeafletTileLayerModel",
          "model_module_version": "^0.18",
          "state": {
            "_model_module": "jupyter-leaflet",
            "_model_module_version": "^0.18",
            "_model_name": "LeafletTileLayerModel",
            "_view_count": null,
            "_view_module": "jupyter-leaflet",
            "_view_module_version": "^0.18",
            "_view_name": "LeafletTileLayerView",
            "attribution": "&copy; <a href=\"https://www.openstreetmap.org/copyright\">OpenStreetMap</a> contributors",
            "base": true,
            "bottom": true,
            "bounds": null,
            "detect_retina": false,
            "loading": false,
            "max_native_zoom": null,
            "max_zoom": 19,
            "min_native_zoom": null,
            "min_zoom": 1,
            "name": "OpenStreetMap.Mapnik",
            "no_wrap": false,
            "opacity": 1,
            "options": [
              "attribution",
              "bounds",
              "detect_retina",
              "max_native_zoom",
              "max_zoom",
              "min_native_zoom",
              "min_zoom",
              "no_wrap",
              "tile_size",
              "tms",
              "zoom_offset"
            ],
            "pane": "",
            "popup": null,
            "popup_max_height": null,
            "popup_max_width": 300,
            "popup_min_width": 50,
            "show_loading": false,
            "subitems": [],
            "tile_size": 256,
            "tms": false,
            "url": "https://tile.openstreetmap.org/{z}/{x}/{y}.png",
            "visible": true,
            "zoom_offset": 0
          }
        },
        "19449361b8444130810bd358c947c080": {
          "model_module": "@jupyter-widgets/base",
          "model_name": "LayoutModel",
          "model_module_version": "1.2.0",
          "state": {
            "_model_module": "@jupyter-widgets/base",
            "_model_module_version": "1.2.0",
            "_model_name": "LayoutModel",
            "_view_count": null,
            "_view_module": "@jupyter-widgets/base",
            "_view_module_version": "1.2.0",
            "_view_name": "LayoutView",
            "align_content": null,
            "align_items": null,
            "align_self": null,
            "border": null,
            "bottom": null,
            "display": null,
            "flex": null,
            "flex_flow": null,
            "grid_area": null,
            "grid_auto_columns": null,
            "grid_auto_flow": null,
            "grid_auto_rows": null,
            "grid_column": null,
            "grid_gap": null,
            "grid_row": null,
            "grid_template_areas": null,
            "grid_template_columns": null,
            "grid_template_rows": null,
            "height": "600px",
            "justify_content": null,
            "justify_items": null,
            "left": null,
            "margin": null,
            "max_height": null,
            "max_width": null,
            "min_height": null,
            "min_width": null,
            "object_fit": null,
            "object_position": null,
            "order": null,
            "overflow": null,
            "overflow_x": null,
            "overflow_y": null,
            "padding": null,
            "right": null,
            "top": null,
            "visibility": null,
            "width": null
          }
        },
        "b3c768ac1d414303a39ca3706c40e6c2": {
          "model_module": "jupyter-leaflet",
          "model_name": "LeafletMapStyleModel",
          "model_module_version": "^0.18",
          "state": {
            "_model_module": "jupyter-leaflet",
            "_model_module_version": "^0.18",
            "_model_name": "LeafletMapStyleModel",
            "_view_count": null,
            "_view_module": "@jupyter-widgets/base",
            "_view_module_version": "1.2.0",
            "_view_name": "StyleView",
            "cursor": "grab"
          }
        },
        "c970b1e207b943309b79bc68237214fb": {
          "model_module": "jupyter-leaflet",
          "model_name": "LeafletTileLayerModel",
          "model_module_version": "^0.18",
          "state": {
            "_model_module": "jupyter-leaflet",
            "_model_module_version": "^0.18",
            "_model_name": "LeafletTileLayerModel",
            "_view_count": null,
            "_view_module": "jupyter-leaflet",
            "_view_module_version": "^0.18",
            "_view_name": "LeafletTileLayerView",
            "attribution": "Google Earth Engine",
            "base": false,
            "bottom": true,
            "bounds": null,
            "detect_retina": false,
            "loading": false,
            "max_native_zoom": null,
            "max_zoom": 24,
            "min_native_zoom": null,
            "min_zoom": 0,
            "name": "Pre-fire",
            "no_wrap": false,
            "opacity": 1,
            "options": [
              "attribution",
              "bounds",
              "detect_retina",
              "max_native_zoom",
              "max_zoom",
              "min_native_zoom",
              "min_zoom",
              "no_wrap",
              "tile_size",
              "tms",
              "zoom_offset"
            ],
            "pane": "",
            "popup": null,
            "popup_max_height": null,
            "popup_max_width": 300,
            "popup_min_width": 50,
            "show_loading": false,
            "subitems": [],
            "tile_size": 256,
            "tms": false,
            "url": "https://earthengine.googleapis.com/v1/projects/ee-izadorasc/maps/cf61c27fa647ba6279826a79f9d1f248-c5bcffa5a2011f8a1b185e344f5f600e/tiles/{z}/{x}/{y}",
            "visible": true,
            "zoom_offset": 0
          }
        },
        "30a98a9e8060493c91812e4fd8ea71ba": {
          "model_module": "jupyter-leaflet",
          "model_name": "LeafletTileLayerModel",
          "model_module_version": "^0.18",
          "state": {
            "_model_module": "jupyter-leaflet",
            "_model_module_version": "^0.18",
            "_model_name": "LeafletTileLayerModel",
            "_view_count": null,
            "_view_module": "jupyter-leaflet",
            "_view_module_version": "^0.18",
            "_view_name": "LeafletTileLayerView",
            "attribution": "Google Earth Engine",
            "base": false,
            "bottom": true,
            "bounds": null,
            "detect_retina": false,
            "loading": false,
            "max_native_zoom": null,
            "max_zoom": 24,
            "min_native_zoom": null,
            "min_zoom": 0,
            "name": "Post-fire",
            "no_wrap": false,
            "opacity": 1,
            "options": [
              "attribution",
              "bounds",
              "detect_retina",
              "max_native_zoom",
              "max_zoom",
              "min_native_zoom",
              "min_zoom",
              "no_wrap",
              "tile_size",
              "tms",
              "zoom_offset"
            ],
            "pane": "",
            "popup": null,
            "popup_max_height": null,
            "popup_max_width": 300,
            "popup_min_width": 50,
            "show_loading": false,
            "subitems": [],
            "tile_size": 256,
            "tms": false,
            "url": "https://earthengine.googleapis.com/v1/projects/ee-izadorasc/maps/66a715275dca523e3e435d58ee7e0769-2e00aeed726c0b6095bebcd8e85c1f03/tiles/{z}/{x}/{y}",
            "visible": true,
            "zoom_offset": 0
          }
        }
      }
    }
  },
  "cells": [
    {
      "cell_type": "markdown",
      "metadata": {
        "id": "view-in-github",
        "colab_type": "text"
      },
      "source": [
        "<a href=\"https://colab.research.google.com/github/IzadoraSC/scrips_workshops/blob/main/00_Python_GEE_treinamento_2023.ipynb\" target=\"_parent\"><img src=\"https://colab.research.google.com/assets/colab-badge.svg\" alt=\"Open In Colab\"/></a>"
      ]
    },
    {
      "cell_type": "markdown",
      "source": [
        "#**Google Earth Engine com API Python:** para obtenção de imagens de satélite, e aplicação para o mapeamento de queimadas.\n",
        "\n",
        "<img alt=\"active_fire.png\" src=\"https://github.com/IzadoraSC/scrips_workshops/blob/main/active_fire.png?raw=true\" data-hpc=\"true\" class=\"Box-sc-g0xbh4-0 kzRgrI\">"
      ],
      "metadata": {
        "id": "_2gtbNY91GlG"
      }
    },
    {
      "cell_type": "markdown",
      "source": [
        "##Conectando Google Drive"
      ],
      "metadata": {
        "id": "HP0u2DBhZ0U5"
      }
    },
    {
      "cell_type": "code",
      "metadata": {
        "id": "Ljb254AMJ-Am",
        "colab": {
          "base_uri": "https://localhost:8080/"
        },
        "outputId": "b36e2d9a-33ee-45f6-c2c5-ae341659b497"
      },
      "source": [
        "# Conectando Google Drive\n",
        "from google.colab import drive\n",
        "drive.mount('/content/drive')"
      ],
      "execution_count": null,
      "outputs": [
        {
          "output_type": "stream",
          "name": "stdout",
          "text": [
            "Mounted at /content/drive\n"
          ]
        }
      ]
    },
    {
      "cell_type": "markdown",
      "source": [
        " ## Configurando\n",
        " - Instalando bibliotecas;\n",
        " - Autenticação;\n",
        " - Importanto bibliotecas;"
      ],
      "metadata": {
        "id": "kyazAcfjZ5st"
      }
    },
    {
      "cell_type": "markdown",
      "source": [
        "### Instalando bibliotecas"
      ],
      "metadata": {
        "id": "4TnTn12dZ9ht"
      }
    },
    {
      "cell_type": "code",
      "source": [
        "# Instalando bibliotecas\n",
        "\n",
        "!pip install rasterio -q\n"
      ],
      "metadata": {
        "id": "X81-nRewZ72e",
        "colab": {
          "base_uri": "https://localhost:8080/"
        },
        "outputId": "f62bcb02-3e38-4663-be18-94f306517fd0"
      },
      "execution_count": null,
      "outputs": [
        {
          "output_type": "stream",
          "name": "stdout",
          "text": [
            "\u001b[2K     \u001b[90m━━━━━━━━━━━━━━━━━━━━━━━━━━━━━━━━━━━━━━━━\u001b[0m \u001b[32m20.6/20.6 MB\u001b[0m \u001b[31m32.6 MB/s\u001b[0m eta \u001b[36m0:00:00\u001b[0m\n",
            "\u001b[?25h"
          ]
        }
      ]
    },
    {
      "cell_type": "code",
      "source": [
        "# Verificar bibliotecas ou pacotes instalados\n",
        "!pip list"
      ],
      "metadata": {
        "id": "rSiFqxcmbmU_"
      },
      "execution_count": null,
      "outputs": []
    },
    {
      "cell_type": "markdown",
      "source": [
        "### Autenticação"
      ],
      "metadata": {
        "id": "ZcEfPjnNaOm_"
      }
    },
    {
      "cell_type": "code",
      "source": [
        "# Autenticação e inicializando o acesso ao GEE\n",
        "import ee\n",
        "import geemap\n",
        "\n",
        "ee.Authenticate()\n",
        "ee.Initialize(project='ee-izadorasc')  ## 'project' é individual para cada usuário"
      ],
      "metadata": {
        "colab": {
          "base_uri": "https://localhost:8080/",
          "height": 17
        },
        "id": "JpOcJxs4aN2V",
        "outputId": "a416c1b4-2afb-4848-8434-ed63b363ef3a"
      },
      "execution_count": null,
      "outputs": [
        {
          "output_type": "display_data",
          "data": {
            "text/plain": [
              "<IPython.core.display.HTML object>"
            ],
            "text/html": [
              "\n",
              "            <style>\n",
              "                .geemap-dark {\n",
              "                    --jp-widgets-color: white;\n",
              "                    --jp-widgets-label-color: white;\n",
              "                    --jp-ui-font-color1: white;\n",
              "                    --jp-layout-color2: #454545;\n",
              "                    background-color: #383838;\n",
              "                }\n",
              "                    \n",
              "                .geemap-dark .jupyter-button {\n",
              "                    --jp-layout-color3: #383838;\n",
              "                }\n",
              "                \n",
              "                .geemap-colab {\n",
              "                    background-color: var(--colab-primary-surface-color, white);\n",
              "                }\n",
              "                    \n",
              "                .geemap-colab .jupyter-button {\n",
              "                    --jp-layout-color3: var(--colab-primary-surface-color, white);\n",
              "                }\n",
              "            </style>\n",
              "            "
            ]
          },
          "metadata": {}
        }
      ]
    },
    {
      "cell_type": "markdown",
      "source": [
        "### Importando bibliotecas"
      ],
      "metadata": {
        "id": "P5hTR2QWaVU_"
      }
    },
    {
      "cell_type": "code",
      "source": [
        "# Importar as bibliotecas\n",
        "import numpy as np\n",
        "import geopandas as gpd\n",
        "#import geobr\n",
        "import json\n",
        "import os\n",
        "import pandas as pd\n",
        "\n",
        "import matplotlib.pyplot as plt\n",
        "\n",
        "#from geobr.read_state import download_gpkg\n",
        "\n",
        "import rasterio as rio"
      ],
      "metadata": {
        "id": "g48IXElBaV-E",
        "colab": {
          "base_uri": "https://localhost:8080/",
          "height": 17
        },
        "outputId": "97f177b5-98fc-4b25-e40d-701e42dbc712"
      },
      "execution_count": null,
      "outputs": [
        {
          "output_type": "display_data",
          "data": {
            "text/plain": [
              "<IPython.core.display.HTML object>"
            ],
            "text/html": [
              "\n",
              "            <style>\n",
              "                .geemap-dark {\n",
              "                    --jp-widgets-color: white;\n",
              "                    --jp-widgets-label-color: white;\n",
              "                    --jp-ui-font-color1: white;\n",
              "                    --jp-layout-color2: #454545;\n",
              "                    background-color: #383838;\n",
              "                }\n",
              "                    \n",
              "                .geemap-dark .jupyter-button {\n",
              "                    --jp-layout-color3: #383838;\n",
              "                }\n",
              "                \n",
              "                .geemap-colab {\n",
              "                    background-color: var(--colab-primary-surface-color, white);\n",
              "                }\n",
              "                    \n",
              "                .geemap-colab .jupyter-button {\n",
              "                    --jp-layout-color3: var(--colab-primary-surface-color, white);\n",
              "                }\n",
              "            </style>\n",
              "            "
            ]
          },
          "metadata": {}
        }
      ]
    },
    {
      "cell_type": "markdown",
      "source": [
        "## Área de estudo"
      ],
      "metadata": {
        "id": "uM8iRPgaaxQK"
      }
    },
    {
      "cell_type": "code",
      "source": [
        "# Visualizar basemap\n",
        "Map = geemap.Map()\n",
        "Map.add_basemap('HYBRID')\n",
        "Map"
      ],
      "metadata": {
        "colab": {
          "base_uri": "https://localhost:8080/",
          "height": 621,
          "referenced_widgets": [
            "385ff40945f341c08cde031604acbfc8",
            "d0efc808a00d49bea5f927e1f0a88aac",
            "2e95a1d133ce4f679aa94e27d65f2b4d",
            "01661f9feb9644c9898d964975cb559f",
            "a44513e2f0a34ae491eb836fb448f6e3",
            "2fd9a5a7c02b494ab9a4bb021fc6127b",
            "a9c6554c073d411d8bbe035e860fb4c9",
            "4d406d8a0124456f93e308a25d68a64a",
            "d7861681b64a41a9b3e529b6bd2c2281",
            "b96e31e846de4875b42853a69a7b1490",
            "de66ae8bf30f448f8368963d420e516c",
            "5c3dd69902f14425a62bcb86bb9d73bb",
            "e365b65cd45c4ec6ae53e2d67916c65a",
            "334f297b66dd4f0f9f7f113e7c919038",
            "08ec7a4a696a485ea4c7e4cc11618cec",
            "d246b092a4ee4226896406bfbdc764e9",
            "3e331d49b81b428ebce4ac48fc2dbdc0",
            "7216918ea13c43228eab3522ccf76b32",
            "9b3b88c58ce44471b46df471aadf3846",
            "f67867c870104ad1a0aea2e5d6682368",
            "ae8fd5b735da4e309fe8ba354e191904",
            "d272e83670024fe3b55b9e0979c0d44d",
            "894aa28a7b854a29b4a2d4a2531b1e7a",
            "5a83697351a548c7b22dc9ca39d2e563",
            "dcc912ec17f74d17a5cac896fab72cc6"
          ]
        },
        "id": "C_9VgFVkcMeK",
        "outputId": "2fa68cb0-1130-4323-bf13-0f2d936a00a1"
      },
      "execution_count": null,
      "outputs": [
        {
          "output_type": "display_data",
          "data": {
            "text/plain": [
              "<IPython.core.display.HTML object>"
            ],
            "text/html": [
              "\n",
              "            <style>\n",
              "                .geemap-dark {\n",
              "                    --jp-widgets-color: white;\n",
              "                    --jp-widgets-label-color: white;\n",
              "                    --jp-ui-font-color1: white;\n",
              "                    --jp-layout-color2: #454545;\n",
              "                    background-color: #383838;\n",
              "                }\n",
              "                    \n",
              "                .geemap-dark .jupyter-button {\n",
              "                    --jp-layout-color3: #383838;\n",
              "                }\n",
              "                \n",
              "                .geemap-colab {\n",
              "                    background-color: var(--colab-primary-surface-color, white);\n",
              "                }\n",
              "                    \n",
              "                .geemap-colab .jupyter-button {\n",
              "                    --jp-layout-color3: var(--colab-primary-surface-color, white);\n",
              "                }\n",
              "            </style>\n",
              "            "
            ]
          },
          "metadata": {}
        },
        {
          "output_type": "display_data",
          "data": {
            "text/plain": [
              "Map(center=[0, 0], controls=(WidgetControl(options=['position', 'transparent_bg'], widget=SearchDataGUI(childr…"
            ],
            "application/vnd.jupyter.widget-view+json": {
              "version_major": 2,
              "version_minor": 0,
              "model_id": "385ff40945f341c08cde031604acbfc8"
            }
          },
          "metadata": {
            "application/vnd.jupyter.widget-view+json": {
              "colab": {
                "custom_widget_manager": {
                  "url": "https://ssl.gstatic.com/colaboratory-static/widgets/colab-cdn-widget-manager/b3e629b1971e1542/manager.min.js"
                }
              }
            }
          }
        }
      ]
    },
    {
      "cell_type": "code",
      "source": [
        "# Área de estudo\n",
        "roi = ee.FeatureCollection('users/izadorasc/PNCM/limite_pncm')  #selecionar sua área de estudo\n",
        "roi"
      ],
      "metadata": {
        "colab": {
          "base_uri": "https://localhost:8080/",
          "height": 68
        },
        "id": "O7Gq1GaMaruU",
        "outputId": "906ee4a9-d532-4016-e3d4-2c54b4e935cd"
      },
      "execution_count": null,
      "outputs": [
        {
          "output_type": "display_data",
          "data": {
            "text/plain": [
              "<IPython.core.display.HTML object>"
            ],
            "text/html": [
              "\n",
              "            <style>\n",
              "                .geemap-dark {\n",
              "                    --jp-widgets-color: white;\n",
              "                    --jp-widgets-label-color: white;\n",
              "                    --jp-ui-font-color1: white;\n",
              "                    --jp-layout-color2: #454545;\n",
              "                    background-color: #383838;\n",
              "                }\n",
              "                    \n",
              "                .geemap-dark .jupyter-button {\n",
              "                    --jp-layout-color3: #383838;\n",
              "                }\n",
              "                \n",
              "                .geemap-colab {\n",
              "                    background-color: var(--colab-primary-surface-color, white);\n",
              "                }\n",
              "                    \n",
              "                .geemap-colab .jupyter-button {\n",
              "                    --jp-layout-color3: var(--colab-primary-surface-color, white);\n",
              "                }\n",
              "            </style>\n",
              "            "
            ]
          },
          "metadata": {}
        },
        {
          "output_type": "execute_result",
          "data": {
            "text/plain": [
              "<ee.featurecollection.FeatureCollection at 0x7f951517f6d0>"
            ],
            "text/html": [
              "<div><style>:root {\n",
              "  --font-color-primary: var(--jp-content-font-color0, rgba(0, 0, 0, 1));\n",
              "  --font-color-secondary: var(--jp-content-font-color2, rgba(0, 0, 0, 0.6));\n",
              "  --font-color-accent: rgba(123, 31, 162, 1);\n",
              "  --border-color: var(--jp-border-color2, #e0e0e0);\n",
              "  --background-color: var(--jp-layout-color0, white);\n",
              "  --background-color-row-even: var(--jp-layout-color1, white);\n",
              "  --background-color-row-odd: var(--jp-layout-color2, #eeeeee);\n",
              "}\n",
              "\n",
              "html[theme=\"dark\"],\n",
              "body[data-theme=\"dark\"],\n",
              "body.vscode-dark {\n",
              "  --font-color-primary: rgba(255, 255, 255, 1);\n",
              "  --font-color-secondary: rgba(255, 255, 255, 0.6);\n",
              "  --font-color-accent: rgb(173, 132, 190);\n",
              "  --border-color: #2e2e2e;\n",
              "  --background-color: #111111;\n",
              "  --background-color-row-even: #111111;\n",
              "  --background-color-row-odd: #313131;\n",
              "}\n",
              "\n",
              ".ee {\n",
              "  padding: 1em;\n",
              "  line-height: 1.5em;\n",
              "  min-width: 300px;\n",
              "  max-width: 1200px;\n",
              "  overflow-y: scroll;\n",
              "  max-height: 600px;\n",
              "  border: 1px solid var(--border-color);\n",
              "  font-family: monospace;\n",
              "}\n",
              "\n",
              ".ee li {\n",
              "  list-style-type: none;\n",
              "}\n",
              "\n",
              ".ee ul {\n",
              "  padding-left: 1.5em !important;\n",
              "  margin: 0;\n",
              "}\n",
              "\n",
              ".ee > ul {\n",
              "  padding-left: 0 !important;\n",
              "}\n",
              "\n",
              ".ee-open,\n",
              ".ee-shut {\n",
              "  color: var(--font-color-secondary);\n",
              "  cursor: pointer;\n",
              "  margin: 0;\n",
              "}\n",
              "\n",
              ".ee-open:hover,\n",
              ".ee-shut:hover {\n",
              "  color: var(--font-color-primary);\n",
              "}\n",
              "\n",
              ".ee-k {\n",
              "  color: var(--font-color-accent);\n",
              "  margin-right: 6px;\n",
              "}\n",
              "\n",
              ".ee-v {\n",
              "  color: var(--font-color-primary);\n",
              "}\n",
              "\n",
              ".ee-toggle {\n",
              "  display: none;\n",
              "}\n",
              "\n",
              ".ee-shut + ul {\n",
              "  display: none;\n",
              "}\n",
              "\n",
              ".ee-open + ul {\n",
              "  display: block;\n",
              "}\n",
              "\n",
              ".ee-shut::before {\n",
              "  display: inline-block;\n",
              "  content: \"▼\";\n",
              "  margin-right: 6px;\n",
              "  transform: rotate(-90deg);\n",
              "  transition: transform 0.2s;\n",
              "}\n",
              "\n",
              ".ee-open::before {\n",
              "  transform: rotate(0deg);\n",
              "  display: inline-block;\n",
              "  content: \"▼\";\n",
              "  margin-right: 6px;\n",
              "  transition: transform 0.2s;\n",
              "}\n",
              "</style><div class='ee'><ul><li><label class='ee-shut'>FeatureCollection users/izadorasc/PNCM/limite_pncm  (1 element, 18 columns)<input type='checkbox' class='ee-toggle'></label><ul><li><span class='ee-k'>type:</span><span class='ee-v'>FeatureCollection</span></li><li><span class='ee-k'>id:</span><span class='ee-v'>users/izadorasc/PNCM/limite_pncm</span></li><li><span class='ee-k'>version:</span><span class='ee-v'>1655302653431215</span></li><li><label class='ee-shut'>columns: Object (18 properties)<input type='checkbox' class='ee-toggle'></label><ul><li><span class='ee-k'>Area:</span><span class='ee-v'>Float</span></li><li><span class='ee-k'>CO_CNUC3:</span><span class='ee-v'>String</span></li><li><span class='ee-k'>DS_ATOLE9:</span><span class='ee-v'>String</span></li><li><span class='ee-k'>DS_HISTO10:</span><span class='ee-v'>String</span></li><li><span class='ee-k'>LINK0:</span><span class='ee-v'>String</span></li><li><span class='ee-k'>NO_CLASS6:</span><span class='ee-v'>String</span></li><li><span class='ee-k'>NO_COORD11:</span><span class='ee-v'>String</span></li><li><span class='ee-k'>NO_ESPEC15:</span><span class='ee-v'>String</span></li><li><span class='ee-k'>NO_UC1:</span><span class='ee-v'>String</span></li><li><span class='ee-k'>NU_ANOCR8:</span><span class='ee-v'>String</span></li><li><span class='ee-k'>NU_FUSO_12:</span><span class='ee-v'>String</span></li><li><span class='ee-k'>NU_HECTA14:</span><span class='ee-v'>String</span></li><li><span class='ee-k'>NU_PERIM13:</span><span class='ee-v'>String</span></li><li><span class='ee-k'>SG_GRUPO7:</span><span class='ee-v'>String</span></li><li><span class='ee-k'>SG_UC2:</span><span class='ee-v'>String</span></li><li><span class='ee-k'>SG_UNIDA4:</span><span class='ee-v'>String</span></li><li><span class='ee-k'>SQ_UC5:</span><span class='ee-v'>String</span></li><li><span class='ee-k'>system:index:</span><span class='ee-v'>String</span></li></ul></li><li><label class='ee-shut'>properties: Object (1 property)<input type='checkbox' class='ee-toggle'></label><ul><li><span class='ee-k'>system:asset_size:</span><span class='ee-v'>27987</span></li></ul></li><li><label class='ee-shut'>features: List (1 element)<input type='checkbox' class='ee-toggle'></label><ul><li><label class='ee-shut'>0: Feature (MultiPolygon, 17 properties)<input type='checkbox' class='ee-toggle'></label><ul><li><span class='ee-k'>type:</span><span class='ee-v'>Feature</span></li><li><span class='ee-k'>id:</span><span class='ee-v'>00000000000000000000</span></li><li><label class='ee-shut'>geometry: MultiPolygon (320 vertices)<input type='checkbox' class='ee-toggle'></label><ul><li><span class='ee-k'>type:</span><span class='ee-v'>MultiPolygon</span></li><li><label class='ee-shut'>coordinates: List (2 elements)<input type='checkbox' class='ee-toggle'></label><ul><li><label class='ee-shut'>0: List (1 element)<input type='checkbox' class='ee-toggle'></label><ul><li><label class='ee-shut'>0: List (320 elements)<input type='checkbox' class='ee-toggle'></label><ul><li><label class='ee-shut'>0: [-46.97616641875859, -7.30884933440525]<input type='checkbox' class='ee-toggle'></label><ul><li><span class='ee-k'>0:</span><span class='ee-v'>-46.97616641875859</span></li><li><span class='ee-k'>1:</span><span class='ee-v'>-7.30884933440525</span></li></ul></li><li><label class='ee-shut'>1: [-46.97616300901223, -7.309096188588336]<input type='checkbox' class='ee-toggle'></label><ul><li><span class='ee-k'>0:</span><span class='ee-v'>-46.97616300901223</span></li><li><span class='ee-k'>1:</span><span class='ee-v'>-7.309096188588336</span></li></ul></li><li><label class='ee-shut'>2: [-46.97614581203408, -7.310294422741032]<input type='checkbox' class='ee-toggle'></label><ul><li><span class='ee-k'>0:</span><span class='ee-v'>-46.97614581203408</span></li><li><span class='ee-k'>1:</span><span class='ee-v'>-7.310294422741032</span></li></ul></li><li><label class='ee-shut'>3: [-46.975541623622505, -7.311912627057944]<input type='checkbox' class='ee-toggle'></label><ul><li><span class='ee-k'>0:</span><span class='ee-v'>-46.975541623622505</span></li><li><span class='ee-k'>1:</span><span class='ee-v'>-7.311912627057944</span></li></ul></li><li><label class='ee-shut'>4: [-46.97523089671654, -7.313825736421438]<input type='checkbox' class='ee-toggle'></label><ul><li><span class='ee-k'>0:</span><span class='ee-v'>-46.97523089671654</span></li><li><span class='ee-k'>1:</span><span class='ee-v'>-7.313825736421438</span></li></ul></li><li><label class='ee-shut'>5: [-46.97426003563166, -7.315862840890089]<input type='checkbox' class='ee-toggle'></label><ul><li><span class='ee-k'>0:</span><span class='ee-v'>-46.97426003563166</span></li><li><span class='ee-k'>1:</span><span class='ee-v'>-7.315862840890089</span></li></ul></li><li><label class='ee-shut'>6: [-46.97389483715481, -7.316622842162841]<input type='checkbox' class='ee-toggle'></label><ul><li><span class='ee-k'>0:</span><span class='ee-v'>-46.97389483715481</span></li><li><span class='ee-k'>1:</span><span class='ee-v'>-7.316622842162841</span></li></ul></li><li><label class='ee-shut'>7: [-46.97343106036949, -7.317455127129828]<input type='checkbox' class='ee-toggle'></label><ul><li><span class='ee-k'>0:</span><span class='ee-v'>-46.97343106036949</span></li><li><span class='ee-k'>1:</span><span class='ee-v'>-7.317455127129828</span></li></ul></li><li><label class='ee-shut'>8: [-46.97297366216158, -7.3187315949244]<input type='checkbox' class='ee-toggle'></label><ul><li><span class='ee-k'>0:</span><span class='ee-v'>-46.97297366216158</span></li><li><span class='ee-k'>1:</span><span class='ee-v'>-7.3187315949244</span></li></ul></li><li><label class='ee-shut'>9: [-46.972850993273056, -7.319441176226466]<input type='checkbox' class='ee-toggle'></label><ul><li><span class='ee-k'>0:</span><span class='ee-v'>-46.972850993273056</span></li><li><span class='ee-k'>1:</span><span class='ee-v'>-7.319441176226466</span></li></ul></li><li><label class='ee-shut'>10: [-46.97280874484229, -7.321083817670474]<input type='checkbox' class='ee-toggle'></label><ul><li><span class='ee-k'>0:</span><span class='ee-v'>-46.97280874484229</span></li><li><span class='ee-k'>1:</span><span class='ee-v'>-7.321083817670474</span></li></ul></li><li><label class='ee-shut'>11: [-46.9727232104076, -7.323090186583906]<input type='checkbox' class='ee-toggle'></label><ul><li><span class='ee-k'>0:</span><span class='ee-v'>-46.9727232104076</span></li><li><span class='ee-k'>1:</span><span class='ee-v'>-7.323090186583906</span></li></ul></li><li><label class='ee-shut'>12: [-46.97255340200446, -7.324342953405637]<input type='checkbox' class='ee-toggle'></label><ul><li><span class='ee-k'>0:</span><span class='ee-v'>-46.97255340200446</span></li><li><span class='ee-k'>1:</span><span class='ee-v'>-7.324342953405637</span></li></ul></li><li><label class='ee-shut'>13: [-46.972144411420004, -7.325372422790438]<input type='checkbox' class='ee-toggle'></label><ul><li><span class='ee-k'>0:</span><span class='ee-v'>-46.972144411420004</span></li><li><span class='ee-k'>1:</span><span class='ee-v'>-7.325372422790438</span></li></ul></li><li><label class='ee-shut'>14: [-46.97139121918332, -7.3268432007769855]<input type='checkbox' class='ee-toggle'></label><ul><li><span class='ee-k'>0:</span><span class='ee-v'>-46.97139121918332</span></li><li><span class='ee-k'>1:</span><span class='ee-v'>-7.3268432007769855</span></li></ul></li><li><label class='ee-shut'>15: [-46.97085253274904, -7.328021287989589]<input type='checkbox' class='ee-toggle'></label><ul><li><span class='ee-k'>0:</span><span class='ee-v'>-46.97085253274904</span></li><li><span class='ee-k'>1:</span><span class='ee-v'>-7.328021287989589</span></li></ul></li><li><label class='ee-shut'>16: [-46.97056266133233, -7.328538631007783]<input type='checkbox' class='ee-toggle'></label><ul><li><span class='ee-k'>0:</span><span class='ee-v'>-46.97056266133233</span></li><li><span class='ee-k'>1:</span><span class='ee-v'>-7.328538631007783</span></li></ul></li><li><label class='ee-shut'>17: [-46.969560316367186, -7.329548254850182]<input type='checkbox' class='ee-toggle'></label><ul><li><span class='ee-k'>0:</span><span class='ee-v'>-46.969560316367186</span></li><li><span class='ee-k'>1:</span><span class='ee-v'>-7.329548254850182</span></li></ul></li><li><label class='ee-shut'>18: [-46.96919389173576, -7.330039035210622]<input type='checkbox' class='ee-toggle'></label><ul><li><span class='ee-k'>0:</span><span class='ee-v'>-46.96919389173576</span></li><li><span class='ee-k'>1:</span><span class='ee-v'>-7.330039035210622</span></li></ul></li><li><label class='ee-shut'>19: [-46.96887720040936, -7.330601397245206]<input type='checkbox' class='ee-toggle'></label><ul><li><span class='ee-k'>0:</span><span class='ee-v'>-46.96887720040936</span></li><li><span class='ee-k'>1:</span><span class='ee-v'>-7.330601397245206</span></li></ul></li><li><label class='ee-shut'>20: [-46.968565402570746, -7.33123997480364]<input type='checkbox' class='ee-toggle'></label><ul><li><span class='ee-k'>0:</span><span class='ee-v'>-46.968565402570746</span></li><li><span class='ee-k'>1:</span><span class='ee-v'>-7.33123997480364</span></li></ul></li><li><label class='ee-shut'>21: [-46.96841910208184, -7.331707308960244]<input type='checkbox' class='ee-toggle'></label><ul><li><span class='ee-k'>0:</span><span class='ee-v'>-46.96841910208184</span></li><li><span class='ee-k'>1:</span><span class='ee-v'>-7.331707308960244</span></li></ul></li><li><label class='ee-shut'>22: [-46.9684935122069, -7.332267952834595]<input type='checkbox' class='ee-toggle'></label><ul><li><span class='ee-k'>0:</span><span class='ee-v'>-46.9684935122069</span></li><li><span class='ee-k'>1:</span><span class='ee-v'>-7.332267952834595</span></li></ul></li><li><label class='ee-shut'>23: [-46.968427476921136, -7.333614568627659]<input type='checkbox' class='ee-toggle'></label><ul><li><span class='ee-k'>0:</span><span class='ee-v'>-46.968427476921136</span></li><li><span class='ee-k'>1:</span><span class='ee-v'>-7.333614568627659</span></li></ul></li><li><label class='ee-shut'>24: [-46.961516036315984, -7.336041198389561]<input type='checkbox' class='ee-toggle'></label><ul><li><span class='ee-k'>0:</span><span class='ee-v'>-46.961516036315984</span></li><li><span class='ee-k'>1:</span><span class='ee-v'>-7.336041198389561</span></li></ul></li><li><label class='ee-shut'>25: [-46.95081987327328, -7.345718314437331]<input type='checkbox' class='ee-toggle'></label><ul><li><span class='ee-k'>0:</span><span class='ee-v'>-46.95081987327328</span></li><li><span class='ee-k'>1:</span><span class='ee-v'>-7.345718314437331</span></li></ul></li><li><label class='ee-shut'>26: [-46.950963455863345, -7.3477147098800035]<input type='checkbox' class='ee-toggle'></label><ul><li><span class='ee-k'>0:</span><span class='ee-v'>-46.950963455863345</span></li><li><span class='ee-k'>1:</span><span class='ee-v'>-7.3477147098800035</span></li></ul></li><li><label class='ee-shut'>27: [-46.94892511013649, -7.349298714732012]<input type='checkbox' class='ee-toggle'></label><ul><li><span class='ee-k'>0:</span><span class='ee-v'>-46.94892511013649</span></li><li><span class='ee-k'>1:</span><span class='ee-v'>-7.349298714732012</span></li></ul></li><li><label class='ee-shut'>28: [-46.94772175929755, -7.350632329443879]<input type='checkbox' class='ee-toggle'></label><ul><li><span class='ee-k'>0:</span><span class='ee-v'>-46.94772175929755</span></li><li><span class='ee-k'>1:</span><span class='ee-v'>-7.350632329443879</span></li></ul></li><li><label class='ee-shut'>29: [-46.94710946374485, -7.351447230634515]<input type='checkbox' class='ee-toggle'></label><ul><li><span class='ee-k'>0:</span><span class='ee-v'>-46.94710946374485</span></li><li><span class='ee-k'>1:</span><span class='ee-v'>-7.351447230634515</span></li></ul></li><li><label class='ee-shut'>30: [-46.94665126555663, -7.352539720004749]<input type='checkbox' class='ee-toggle'></label><ul><li><span class='ee-k'>0:</span><span class='ee-v'>-46.94665126555663</span></li><li><span class='ee-k'>1:</span><span class='ee-v'>-7.352539720004749</span></li></ul></li><li><label class='ee-shut'>31: [-46.946383534529836, -7.351970996501322]<input type='checkbox' class='ee-toggle'></label><ul><li><span class='ee-k'>0:</span><span class='ee-v'>-46.946383534529836</span></li><li><span class='ee-k'>1:</span><span class='ee-v'>-7.351970996501322</span></li></ul></li><li><label class='ee-shut'>32: [-46.945809480709066, -7.351241938246243]<input type='checkbox' class='ee-toggle'></label><ul><li><span class='ee-k'>0:</span><span class='ee-v'>-46.945809480709066</span></li><li><span class='ee-k'>1:</span><span class='ee-v'>-7.351241938246243</span></li></ul></li><li><label class='ee-shut'>33: [-46.94545204307231, -7.350695997434554]<input type='checkbox' class='ee-toggle'></label><ul><li><span class='ee-k'>0:</span><span class='ee-v'>-46.94545204307231</span></li><li><span class='ee-k'>1:</span><span class='ee-v'>-7.350695997434554</span></li></ul></li><li><label class='ee-shut'>34: [-46.94516705781246, -7.350297857284293]<input type='checkbox' class='ee-toggle'></label><ul><li><span class='ee-k'>0:</span><span class='ee-v'>-46.94516705781246</span></li><li><span class='ee-k'>1:</span><span class='ee-v'>-7.350297857284293</span></li></ul></li><li><label class='ee-shut'>35: [-46.94497734015341, -7.350083293261015]<input type='checkbox' class='ee-toggle'></label><ul><li><span class='ee-k'>0:</span><span class='ee-v'>-46.94497734015341</span></li><li><span class='ee-k'>1:</span><span class='ee-v'>-7.350083293261015</span></li></ul></li><li><label class='ee-shut'>36: [-46.94447656598564, -7.349659139405762]<input type='checkbox' class='ee-toggle'></label><ul><li><span class='ee-k'>0:</span><span class='ee-v'>-46.94447656598564</span></li><li><span class='ee-k'>1:</span><span class='ee-v'>-7.349659139405762</span></li></ul></li><li><label class='ee-shut'>37: [-46.94369281989251, -7.349285562752975]<input type='checkbox' class='ee-toggle'></label><ul><li><span class='ee-k'>0:</span><span class='ee-v'>-46.94369281989251</span></li><li><span class='ee-k'>1:</span><span class='ee-v'>-7.349285562752975</span></li></ul></li><li><label class='ee-shut'>38: [-46.94288671485651, -7.348956963367406]<input type='checkbox' class='ee-toggle'></label><ul><li><span class='ee-k'>0:</span><span class='ee-v'>-46.94288671485651</span></li><li><span class='ee-k'>1:</span><span class='ee-v'>-7.348956963367406</span></li></ul></li><li><label class='ee-shut'>39: [-46.942364627567216, -7.348793132759027]<input type='checkbox' class='ee-toggle'></label><ul><li><span class='ee-k'>0:</span><span class='ee-v'>-46.942364627567216</span></li><li><span class='ee-k'>1:</span><span class='ee-v'>-7.348793132759027</span></li></ul></li><li><label class='ee-shut'>40: [-46.94198232500347, -7.348749966002045]<input type='checkbox' class='ee-toggle'></label><ul><li><span class='ee-k'>0:</span><span class='ee-v'>-46.94198232500347</span></li><li><span class='ee-k'>1:</span><span class='ee-v'>-7.348749966002045</span></li></ul></li><li><label class='ee-shut'>41: [-46.94167661836217, -7.348728842580257]<input type='checkbox' class='ee-toggle'></label><ul><li><span class='ee-k'>0:</span><span class='ee-v'>-46.94167661836217</span></li><li><span class='ee-k'>1:</span><span class='ee-v'>-7.348728842580257</span></li></ul></li><li><label class='ee-shut'>42: [-46.94113313620968, -7.34882542628506]<input type='checkbox' class='ee-toggle'></label><ul><li><span class='ee-k'>0:</span><span class='ee-v'>-46.94113313620968</span></li><li><span class='ee-k'>1:</span><span class='ee-v'>-7.34882542628506</span></li></ul></li><li><label class='ee-shut'>43: [-46.94039714458798, -7.349111352882307]<input type='checkbox' class='ee-toggle'></label><ul><li><span class='ee-k'>0:</span><span class='ee-v'>-46.94039714458798</span></li><li><span class='ee-k'>1:</span><span class='ee-v'>-7.349111352882307</span></li></ul></li><li><label class='ee-shut'>44: [-46.93973242059723, -7.349230866056271]<input type='checkbox' class='ee-toggle'></label><ul><li><span class='ee-k'>0:</span><span class='ee-v'>-46.93973242059723</span></li><li><span class='ee-k'>1:</span><span class='ee-v'>-7.349230866056271</span></li></ul></li><li><label class='ee-shut'>45: [-46.93868876077791, -7.3490469322984255]<input type='checkbox' class='ee-toggle'></label><ul><li><span class='ee-k'>0:</span><span class='ee-v'>-46.93868876077791</span></li><li><span class='ee-k'>1:</span><span class='ee-v'>-7.3490469322984255</span></li></ul></li><li><label class='ee-shut'>46: [-46.93662787350996, -7.348557686825473]<input type='checkbox' class='ee-toggle'></label><ul><li><span class='ee-k'>0:</span><span class='ee-v'>-46.93662787350996</span></li><li><span class='ee-k'>1:</span><span class='ee-v'>-7.348557686825473</span></li></ul></li><li><label class='ee-shut'>47: [-46.93491813543358, -7.348188109857562]<input type='checkbox' class='ee-toggle'></label><ul><li><span class='ee-k'>0:</span><span class='ee-v'>-46.93491813543358</span></li><li><span class='ee-k'>1:</span><span class='ee-v'>-7.348188109857562</span></li></ul></li><li><label class='ee-shut'>48: [-46.934090173058465, -7.347980745242037]<input type='checkbox' class='ee-toggle'></label><ul><li><span class='ee-k'>0:</span><span class='ee-v'>-46.934090173058465</span></li><li><span class='ee-k'>1:</span><span class='ee-v'>-7.347980745242037</span></li></ul></li><li><label class='ee-shut'>49: [-46.93328059165515, -7.347885521036001]<input type='checkbox' class='ee-toggle'></label><ul><li><span class='ee-k'>0:</span><span class='ee-v'>-46.93328059165515</span></li><li><span class='ee-k'>1:</span><span class='ee-v'>-7.347885521036001</span></li></ul></li><li><label class='ee-shut'>50: [-46.932310384889576, -7.348055726795338]<input type='checkbox' class='ee-toggle'></label><ul><li><span class='ee-k'>0:</span><span class='ee-v'>-46.932310384889576</span></li><li><span class='ee-k'>1:</span><span class='ee-v'>-7.348055726795338</span></li></ul></li><li><label class='ee-shut'>51: [-46.93112483225173, -7.348321095493113]<input type='checkbox' class='ee-toggle'></label><ul><li><span class='ee-k'>0:</span><span class='ee-v'>-46.93112483225173</span></li><li><span class='ee-k'>1:</span><span class='ee-v'>-7.348321095493113</span></li></ul></li><li><label class='ee-shut'>52: [-46.93025760710236, -7.348396633540947]<input type='checkbox' class='ee-toggle'></label><ul><li><span class='ee-k'>0:</span><span class='ee-v'>-46.93025760710236</span></li><li><span class='ee-k'>1:</span><span class='ee-v'>-7.348396633540947</span></li></ul></li><li><label class='ee-shut'>53: [-46.92998803715074, -7.348420246438616]<input type='checkbox' class='ee-toggle'></label><ul><li><span class='ee-k'>0:</span><span class='ee-v'>-46.92998803715074</span></li><li><span class='ee-k'>1:</span><span class='ee-v'>-7.348420246438616</span></li></ul></li><li><label class='ee-shut'>54: [-46.92918326088488, -7.348378874408714]<input type='checkbox' class='ee-toggle'></label><ul><li><span class='ee-k'>0:</span><span class='ee-v'>-46.92918326088488</span></li><li><span class='ee-k'>1:</span><span class='ee-v'>-7.348378874408714</span></li></ul></li><li><label class='ee-shut'>55: [-46.92737809653449, -7.347771789088749]<input type='checkbox' class='ee-toggle'></label><ul><li><span class='ee-k'>0:</span><span class='ee-v'>-46.92737809653449</span></li><li><span class='ee-k'>1:</span><span class='ee-v'>-7.347771789088749</span></li></ul></li><li><label class='ee-shut'>56: [-46.926071954790174, -7.347185012546646]<input type='checkbox' class='ee-toggle'></label><ul><li><span class='ee-k'>0:</span><span class='ee-v'>-46.926071954790174</span></li><li><span class='ee-k'>1:</span><span class='ee-v'>-7.347185012546646</span></li></ul></li><li><label class='ee-shut'>57: [-46.92493208890454, -7.346575104469154]<input type='checkbox' class='ee-toggle'></label><ul><li><span class='ee-k'>0:</span><span class='ee-v'>-46.92493208890454</span></li><li><span class='ee-k'>1:</span><span class='ee-v'>-7.346575104469154</span></li></ul></li><li><label class='ee-shut'>58: [-46.924314737052214, -7.34622321928302]<input type='checkbox' class='ee-toggle'></label><ul><li><span class='ee-k'>0:</span><span class='ee-v'>-46.924314737052214</span></li><li><span class='ee-k'>1:</span><span class='ee-v'>-7.34622321928302</span></li></ul></li><li><label class='ee-shut'>59: [-46.9234992398962, -7.3457779243415855]<input type='checkbox' class='ee-toggle'></label><ul><li><span class='ee-k'>0:</span><span class='ee-v'>-46.9234992398962</span></li><li><span class='ee-k'>1:</span><span class='ee-v'>-7.3457779243415855</span></li></ul></li><li><label class='ee-shut'>60: [-46.92336402843409, -7.34570670117208]<input type='checkbox' class='ee-toggle'></label><ul><li><span class='ee-k'>0:</span><span class='ee-v'>-46.92336402843409</span></li><li><span class='ee-k'>1:</span><span class='ee-v'>-7.34570670117208</span></li></ul></li><li><label class='ee-shut'>61: [-46.92244021651392, -7.345167655044263]<input type='checkbox' class='ee-toggle'></label><ul><li><span class='ee-k'>0:</span><span class='ee-v'>-46.92244021651392</span></li><li><span class='ee-k'>1:</span><span class='ee-v'>-7.345167655044263</span></li></ul></li><li><label class='ee-shut'>62: [-46.920821957228306, -7.344106492633229]<input type='checkbox' class='ee-toggle'></label><ul><li><span class='ee-k'>0:</span><span class='ee-v'>-46.920821957228306</span></li><li><span class='ee-k'>1:</span><span class='ee-v'>-7.344106492633229</span></li></ul></li><li><label class='ee-shut'>63: [-46.9199204044994, -7.343517974569511]<input type='checkbox' class='ee-toggle'></label><ul><li><span class='ee-k'>0:</span><span class='ee-v'>-46.9199204044994</span></li><li><span class='ee-k'>1:</span><span class='ee-v'>-7.343517974569511</span></li></ul></li><li><label class='ee-shut'>64: [-46.91915895443091, -7.343099373752788]<input type='checkbox' class='ee-toggle'></label><ul><li><span class='ee-k'>0:</span><span class='ee-v'>-46.91915895443091</span></li><li><span class='ee-k'>1:</span><span class='ee-v'>-7.343099373752788</span></li></ul></li><li><label class='ee-shut'>65: [-46.91747416467916, -7.342253880679618]<input type='checkbox' class='ee-toggle'></label><ul><li><span class='ee-k'>0:</span><span class='ee-v'>-46.91747416467916</span></li><li><span class='ee-k'>1:</span><span class='ee-v'>-7.342253880679618</span></li></ul></li><li><label class='ee-shut'>66: [-46.915739234109175, -7.341242562511788]<input type='checkbox' class='ee-toggle'></label><ul><li><span class='ee-k'>0:</span><span class='ee-v'>-46.915739234109175</span></li><li><span class='ee-k'>1:</span><span class='ee-v'>-7.341242562511788</span></li></ul></li><li><label class='ee-shut'>67: [-46.91414547220528, -7.340656969533194]<input type='checkbox' class='ee-toggle'></label><ul><li><span class='ee-k'>0:</span><span class='ee-v'>-46.91414547220528</span></li><li><span class='ee-k'>1:</span><span class='ee-v'>-7.340656969533194</span></li></ul></li><li><label class='ee-shut'>68: [-46.91279488211141, -7.340164620569919]<input type='checkbox' class='ee-toggle'></label><ul><li><span class='ee-k'>0:</span><span class='ee-v'>-46.91279488211141</span></li><li><span class='ee-k'>1:</span><span class='ee-v'>-7.340164620569919</span></li></ul></li><li><label class='ee-shut'>69: [-46.91203435353968, -7.339961408192766]<input type='checkbox' class='ee-toggle'></label><ul><li><span class='ee-k'>0:</span><span class='ee-v'>-46.91203435353968</span></li><li><span class='ee-k'>1:</span><span class='ee-v'>-7.339961408192766</span></li></ul></li><li><label class='ee-shut'>70: [-46.91184527812319, -7.339908344666476]<input type='checkbox' class='ee-toggle'></label><ul><li><span class='ee-k'>0:</span><span class='ee-v'>-46.91184527812319</span></li><li><span class='ee-k'>1:</span><span class='ee-v'>-7.339908344666476</span></li></ul></li><li><label class='ee-shut'>71: [-46.911112969196786, -7.339983285205213]<input type='checkbox' class='ee-toggle'></label><ul><li><span class='ee-k'>0:</span><span class='ee-v'>-46.911112969196786</span></li><li><span class='ee-k'>1:</span><span class='ee-v'>-7.339983285205213</span></li></ul></li><li><label class='ee-shut'>72: [-46.90985543914979, -7.3402489009415195]<input type='checkbox' class='ee-toggle'></label><ul><li><span class='ee-k'>0:</span><span class='ee-v'>-46.90985543914979</span></li><li><span class='ee-k'>1:</span><span class='ee-v'>-7.3402489009415195</span></li></ul></li><li><label class='ee-shut'>73: [-46.90871904736546, -7.340442210909424]<input type='checkbox' class='ee-toggle'></label><ul><li><span class='ee-k'>0:</span><span class='ee-v'>-46.90871904736546</span></li><li><span class='ee-k'>1:</span><span class='ee-v'>-7.340442210909424</span></li></ul></li><li><label class='ee-shut'>74: [-46.90765389292905, -7.340496126837773]<input type='checkbox' class='ee-toggle'></label><ul><li><span class='ee-k'>0:</span><span class='ee-v'>-46.90765389292905</span></li><li><span class='ee-k'>1:</span><span class='ee-v'>-7.340496126837773</span></li></ul></li><li><label class='ee-shut'>75: [-46.906301403397975, -7.340618542808042]<input type='checkbox' class='ee-toggle'></label><ul><li><span class='ee-k'>0:</span><span class='ee-v'>-46.906301403397975</span></li><li><span class='ee-k'>1:</span><span class='ee-v'>-7.340618542808042</span></li></ul></li><li><label class='ee-shut'>76: [-46.90514170072499, -7.340623500305212]<input type='checkbox' class='ee-toggle'></label><ul><li><span class='ee-k'>0:</span><span class='ee-v'>-46.90514170072499</span></li><li><span class='ee-k'>1:</span><span class='ee-v'>-7.340623500305212</span></li></ul></li><li><label class='ee-shut'>77: [-46.90296071449261, -7.3404217902278015]<input type='checkbox' class='ee-toggle'></label><ul><li><span class='ee-k'>0:</span><span class='ee-v'>-46.90296071449261</span></li><li><span class='ee-k'>1:</span><span class='ee-v'>-7.3404217902278015</span></li></ul></li><li><label class='ee-shut'>78: [-46.90009193366733, -7.340196080343959]<input type='checkbox' class='ee-toggle'></label><ul><li><span class='ee-k'>0:</span><span class='ee-v'>-46.90009193366733</span></li><li><span class='ee-k'>1:</span><span class='ee-v'>-7.340196080343959</span></li></ul></li><li><label class='ee-shut'>79: [-46.89959204717331, -7.339987290137582]<input type='checkbox' class='ee-toggle'></label><ul><li><span class='ee-k'>0:</span><span class='ee-v'>-46.89959204717331</span></li><li><span class='ee-k'>1:</span><span class='ee-v'>-7.339987290137582</span></li></ul></li><li><label class='ee-shut'>80: [-46.8990208918228, -7.339917858963342]<input type='checkbox' class='ee-toggle'></label><ul><li><span class='ee-k'>0:</span><span class='ee-v'>-46.8990208918228</span></li><li><span class='ee-k'>1:</span><span class='ee-v'>-7.339917858963342</span></li></ul></li><li><label class='ee-shut'>81: [-46.89845425761434, -7.339848457645955]<input type='checkbox' class='ee-toggle'></label><ul><li><span class='ee-k'>0:</span><span class='ee-v'>-46.89845425761434</span></li><li><span class='ee-k'>1:</span><span class='ee-v'>-7.339848457645955</span></li></ul></li><li><label class='ee-shut'>82: [-46.89657780819101, -7.339385195228917]<input type='checkbox' class='ee-toggle'></label><ul><li><span class='ee-k'>0:</span><span class='ee-v'>-46.89657780819101</span></li><li><span class='ee-k'>1:</span><span class='ee-v'>-7.339385195228917</span></li></ul></li><li><label class='ee-shut'>83: [-46.89541647821809, -7.339008632851646]<input type='checkbox' class='ee-toggle'></label><ul><li><span class='ee-k'>0:</span><span class='ee-v'>-46.89541647821809</span></li><li><span class='ee-k'>1:</span><span class='ee-v'>-7.339008632851646</span></li></ul></li><li><label class='ee-shut'>84: [-46.89363612500199, -7.338944303898153]<input type='checkbox' class='ee-toggle'></label><ul><li><span class='ee-k'>0:</span><span class='ee-v'>-46.89363612500199</span></li><li><span class='ee-k'>1:</span><span class='ee-v'>-7.338944303898153</span></li></ul></li><li><label class='ee-shut'>85: [-46.892592082860695, -7.338666007919128]<input type='checkbox' class='ee-toggle'></label><ul><li><span class='ee-k'>0:</span><span class='ee-v'>-46.892592082860695</span></li><li><span class='ee-k'>1:</span><span class='ee-v'>-7.338666007919128</span></li></ul></li><li><label class='ee-shut'>86: [-46.89150232951505, -7.33819937605023]<input type='checkbox' class='ee-toggle'></label><ul><li><span class='ee-k'>0:</span><span class='ee-v'>-46.89150232951505</span></li><li><span class='ee-k'>1:</span><span class='ee-v'>-7.33819937605023</span></li></ul></li><li><label class='ee-shut'>87: [-46.89066937892056, -7.337870806761136]<input type='checkbox' class='ee-toggle'></label><ul><li><span class='ee-k'>0:</span><span class='ee-v'>-46.89066937892056</span></li><li><span class='ee-k'>1:</span><span class='ee-v'>-7.337870806761136</span></li></ul></li><li><label class='ee-shut'>88: [-46.889296993984445, -7.337544429298442]<input type='checkbox' class='ee-toggle'></label><ul><li><span class='ee-k'>0:</span><span class='ee-v'>-46.889296993984445</span></li><li><span class='ee-k'>1:</span><span class='ee-v'>-7.337544429298442</span></li></ul></li><li><label class='ee-shut'>89: [-46.887585893933114, -7.336842597645311]<input type='checkbox' class='ee-toggle'></label><ul><li><span class='ee-k'>0:</span><span class='ee-v'>-46.887585893933114</span></li><li><span class='ee-k'>1:</span><span class='ee-v'>-7.336842597645311</span></li></ul></li><li><label class='ee-shut'>90: [-46.88715805397427, -7.336655842794573]<input type='checkbox' class='ee-toggle'></label><ul><li><span class='ee-k'>0:</span><span class='ee-v'>-46.88715805397427</span></li><li><span class='ee-k'>1:</span><span class='ee-v'>-7.336655842794573</span></li></ul></li><li><label class='ee-shut'>91: [-46.88701383824235, -7.336562233596897]<input type='checkbox' class='ee-toggle'></label><ul><li><span class='ee-k'>0:</span><span class='ee-v'>-46.88701383824235</span></li><li><span class='ee-k'>1:</span><span class='ee-v'>-7.336562233596897</span></li></ul></li><li><label class='ee-shut'>92: [-46.886806505725275, -7.336428477913306]<input type='checkbox' class='ee-toggle'></label><ul><li><span class='ee-k'>0:</span><span class='ee-v'>-46.886806505725275</span></li><li><span class='ee-k'>1:</span><span class='ee-v'>-7.336428477913306</span></li></ul></li><li><label class='ee-shut'>93: [-46.868251174598065, -7.361297084860716]<input type='checkbox' class='ee-toggle'></label><ul><li><span class='ee-k'>0:</span><span class='ee-v'>-46.868251174598065</span></li><li><span class='ee-k'>1:</span><span class='ee-v'>-7.361297084860716</span></li></ul></li><li><label class='ee-shut'>94: [-46.867395899632385, -7.361017955080722]<input type='checkbox' class='ee-toggle'></label><ul><li><span class='ee-k'>0:</span><span class='ee-v'>-46.867395899632385</span></li><li><span class='ee-k'>1:</span><span class='ee-v'>-7.361017955080722</span></li></ul></li><li><label class='ee-shut'>95: [-46.865382144140284, -7.361048745580595]<input type='checkbox' class='ee-toggle'></label><ul><li><span class='ee-k'>0:</span><span class='ee-v'>-46.865382144140284</span></li><li><span class='ee-k'>1:</span><span class='ee-v'>-7.361048745580595</span></li></ul></li><li><label class='ee-shut'>96: [-46.864838667291515, -7.361167735722909]<input type='checkbox' class='ee-toggle'></label><ul><li><span class='ee-k'>0:</span><span class='ee-v'>-46.864838667291515</span></li><li><span class='ee-k'>1:</span><span class='ee-v'>-7.361167735722909</span></li></ul></li><li><label class='ee-shut'>97: [-46.862752977563794, -7.361203322523451]<input type='checkbox' class='ee-toggle'></label><ul><li><span class='ee-k'>0:</span><span class='ee-v'>-46.862752977563794</span></li><li><span class='ee-k'>1:</span><span class='ee-v'>-7.361203322523451</span></li></ul></li><li><label class='ee-shut'>98: [-46.86187701357026, -7.361368518960959]<input type='checkbox' class='ee-toggle'></label><ul><li><span class='ee-k'>0:</span><span class='ee-v'>-46.86187701357026</span></li><li><span class='ee-k'>1:</span><span class='ee-v'>-7.361368518960959</span></li></ul></li><li><label class='ee-shut'>99: [-46.86093058424686, -7.3618706323476575]<input type='checkbox' class='ee-toggle'></label><ul><li><span class='ee-k'>0:</span><span class='ee-v'>-46.86093058424686</span></li><li><span class='ee-k'>1:</span><span class='ee-v'>-7.3618706323476575</span></li></ul></li><li><label class='ee-shut'>100: [-46.85926341194475, -7.363098274450391]<input type='checkbox' class='ee-toggle'></label><ul><li><span class='ee-k'>0:</span><span class='ee-v'>-46.85926341194475</span></li><li><span class='ee-k'>1:</span><span class='ee-v'>-7.363098274450391</span></li></ul></li><li><label class='ee-shut'>101: [-46.85908865897144, -7.363229171806525]<input type='checkbox' class='ee-toggle'></label><ul><li><span class='ee-k'>0:</span><span class='ee-v'>-46.85908865897144</span></li><li><span class='ee-k'>1:</span><span class='ee-v'>-7.363229171806525</span></li></ul></li><li><label class='ee-shut'>102: [-46.85840185532649, -7.363469869778913]<input type='checkbox' class='ee-toggle'></label><ul><li><span class='ee-k'>0:</span><span class='ee-v'>-46.85840185532649</span></li><li><span class='ee-k'>1:</span><span class='ee-v'>-7.363469869778913</span></li></ul></li><li><label class='ee-shut'>103: [-46.85776128087286, -7.364015573486439]<input type='checkbox' class='ee-toggle'></label><ul><li><span class='ee-k'>0:</span><span class='ee-v'>-46.85776128087286</span></li><li><span class='ee-k'>1:</span><span class='ee-v'>-7.364015573486439</span></li></ul></li><li><label class='ee-shut'>104: [-46.8574073488557, -7.364299769230731]<input type='checkbox' class='ee-toggle'></label><ul><li><span class='ee-k'>0:</span><span class='ee-v'>-46.8574073488557</span></li><li><span class='ee-k'>1:</span><span class='ee-v'>-7.364299769230731</span></li></ul></li><li><label class='ee-shut'>105: [-46.85724132852853, -7.3643722431576615]<input type='checkbox' class='ee-toggle'></label><ul><li><span class='ee-k'>0:</span><span class='ee-v'>-46.85724132852853</span></li><li><span class='ee-k'>1:</span><span class='ee-v'>-7.3643722431576615</span></li></ul></li><li><label class='ee-shut'>106: [-46.856792151993254, -7.364468355272862]<input type='checkbox' class='ee-toggle'></label><ul><li><span class='ee-k'>0:</span><span class='ee-v'>-46.856792151993254</span></li><li><span class='ee-k'>1:</span><span class='ee-v'>-7.364468355272862</span></li></ul></li><li><label class='ee-shut'>107: [-46.85645959828295, -7.364492173812261]<input type='checkbox' class='ee-toggle'></label><ul><li><span class='ee-k'>0:</span><span class='ee-v'>-46.85645959828295</span></li><li><span class='ee-k'>1:</span><span class='ee-v'>-7.364492173812261</span></li></ul></li><li><label class='ee-shut'>108: [-46.856270582741146, -7.364448107709304]<input type='checkbox' class='ee-toggle'></label><ul><li><span class='ee-k'>0:</span><span class='ee-v'>-46.856270582741146</span></li><li><span class='ee-k'>1:</span><span class='ee-v'>-7.364448107709304</span></li></ul></li><li><label class='ee-shut'>109: [-46.85596398861412, -7.364233901325546]<input type='checkbox' class='ee-toggle'></label><ul><li><span class='ee-k'>0:</span><span class='ee-v'>-46.85596398861412</span></li><li><span class='ee-k'>1:</span><span class='ee-v'>-7.364233901325546</span></li></ul></li><li><label class='ee-shut'>110: [-46.85403794568133, -7.362657687187004]<input type='checkbox' class='ee-toggle'></label><ul><li><span class='ee-k'>0:</span><span class='ee-v'>-46.85403794568133</span></li><li><span class='ee-k'>1:</span><span class='ee-v'>-7.362657687187004</span></li></ul></li><li><label class='ee-shut'>111: [-46.853559958850965, -7.362305122341058]<input type='checkbox' class='ee-toggle'></label><ul><li><span class='ee-k'>0:</span><span class='ee-v'>-46.853559958850965</span></li><li><span class='ee-k'>1:</span><span class='ee-v'>-7.362305122341058</span></li></ul></li><li><label class='ee-shut'>112: [-46.85275417973005, -7.362048154676861]<input type='checkbox' class='ee-toggle'></label><ul><li><span class='ee-k'>0:</span><span class='ee-v'>-46.85275417973005</span></li><li><span class='ee-k'>1:</span><span class='ee-v'>-7.362048154676861</span></li></ul></li><li><label class='ee-shut'>113: [-46.851804741905475, -7.3618366251133]<input type='checkbox' class='ee-toggle'></label><ul><li><span class='ee-k'>0:</span><span class='ee-v'>-46.851804741905475</span></li><li><span class='ee-k'>1:</span><span class='ee-v'>-7.3618366251133</span></li></ul></li><li><label class='ee-shut'>114: [-46.850285234899424, -7.361820514259902]<input type='checkbox' class='ee-toggle'></label><ul><li><span class='ee-k'>0:</span><span class='ee-v'>-46.850285234899424</span></li><li><span class='ee-k'>1:</span><span class='ee-v'>-7.361820514259902</span></li></ul></li><li><label class='ee-shut'>115: [-46.8496598472067, -7.3616929457403995]<input type='checkbox' class='ee-toggle'></label><ul><li><span class='ee-k'>0:</span><span class='ee-v'>-46.8496598472067</span></li><li><span class='ee-k'>1:</span><span class='ee-v'>-7.3616929457403995</span></li></ul></li><li><label class='ee-shut'>116: [-46.84902995698709, -7.361565409652152]<input type='checkbox' class='ee-toggle'></label><ul><li><span class='ee-k'>0:</span><span class='ee-v'>-46.84902995698709</span></li><li><span class='ee-k'>1:</span><span class='ee-v'>-7.361565409652152</span></li></ul></li><li><label class='ee-shut'>117: [-46.84807948017628, -7.361098084771367]<input type='checkbox' class='ee-toggle'></label><ul><li><span class='ee-k'>0:</span><span class='ee-v'>-46.84807948017628</span></li><li><span class='ee-k'>1:</span><span class='ee-v'>-7.361098084771367</span></li></ul></li><li><label class='ee-shut'>118: [-46.84698913416165, -7.360510189460848]<input type='checkbox' class='ee-toggle'></label><ul><li><span class='ee-k'>0:</span><span class='ee-v'>-46.84698913416165</span></li><li><span class='ee-k'>1:</span><span class='ee-v'>-7.360510189460848</span></li></ul></li><li><label class='ee-shut'>119: [-46.84532079585022, -7.359287327701121]<input type='checkbox' class='ee-toggle'></label><ul><li><span class='ee-k'>0:</span><span class='ee-v'>-46.84532079585022</span></li><li><span class='ee-k'>1:</span><span class='ee-v'>-7.359287327701121</span></li></ul></li><li><label class='ee-shut'>120: [-46.844991422927464, -7.359001481853381]<input type='checkbox' class='ee-toggle'></label><ul><li><span class='ee-k'>0:</span><span class='ee-v'>-46.844991422927464</span></li><li><span class='ee-k'>1:</span><span class='ee-v'>-7.359001481853381</span></li></ul></li><li><label class='ee-shut'>121: [-46.844230065871336, -7.358605190714251]<input type='checkbox' class='ee-toggle'></label><ul><li><span class='ee-k'>0:</span><span class='ee-v'>-46.844230065871336</span></li><li><span class='ee-k'>1:</span><span class='ee-v'>-7.358605190714251</span></li></ul></li><li><label class='ee-shut'>122: [-46.843275982969175, -7.357258223729285]<input type='checkbox' class='ee-toggle'></label><ul><li><span class='ee-k'>0:</span><span class='ee-v'>-46.843275982969175</span></li><li><span class='ee-k'>1:</span><span class='ee-v'>-7.357258223729285</span></li></ul></li><li><label class='ee-shut'>123: [-46.84310808694662, -7.356881911780485]<input type='checkbox' class='ee-toggle'></label><ul><li><span class='ee-k'>0:</span><span class='ee-v'>-46.84310808694662</span></li><li><span class='ee-k'>1:</span><span class='ee-v'>-7.356881911780485</span></li></ul></li><li><label class='ee-shut'>124: [-46.842634565508334, -7.3565024374007875]<input type='checkbox' class='ee-toggle'></label><ul><li><span class='ee-k'>0:</span><span class='ee-v'>-46.842634565508334</span></li><li><span class='ee-k'>1:</span><span class='ee-v'>-7.3565024374007875</span></li></ul></li><li><label class='ee-shut'>125: [-46.84037392233018, -7.354456204367199]<input type='checkbox' class='ee-toggle'></label><ul><li><span class='ee-k'>0:</span><span class='ee-v'>-46.84037392233018</span></li><li><span class='ee-k'>1:</span><span class='ee-v'>-7.354456204367199</span></li></ul></li><li><label class='ee-shut'>126: [-46.8396844903139, -7.354055171955935]<input type='checkbox' class='ee-toggle'></label><ul><li><span class='ee-k'>0:</span><span class='ee-v'>-46.8396844903139</span></li><li><span class='ee-k'>1:</span><span class='ee-v'>-7.354055171955935</span></li></ul></li><li><label class='ee-shut'>127: [-46.838948495445806, -7.353281720168533]<input type='checkbox' class='ee-toggle'></label><ul><li><span class='ee-k'>0:</span><span class='ee-v'>-46.838948495445806</span></li><li><span class='ee-k'>1:</span><span class='ee-v'>-7.353281720168533</span></li></ul></li><li><label class='ee-shut'>128: [-46.83835791834084, -7.352866772147726]<input type='checkbox' class='ee-toggle'></label><ul><li><span class='ee-k'>0:</span><span class='ee-v'>-46.83835791834084</span></li><li><span class='ee-k'>1:</span><span class='ee-v'>-7.352866772147726</span></li></ul></li><li><label class='ee-shut'>129: [-46.837812145198534, -7.352424703014]<input type='checkbox' class='ee-toggle'></label><ul><li><span class='ee-k'>0:</span><span class='ee-v'>-46.837812145198534</span></li><li><span class='ee-k'>1:</span><span class='ee-v'>-7.352424703014</span></li></ul></li><li><label class='ee-shut'>130: [-46.837072555507625, -7.351839832988651]<input type='checkbox' class='ee-toggle'></label><ul><li><span class='ee-k'>0:</span><span class='ee-v'>-46.837072555507625</span></li><li><span class='ee-k'>1:</span><span class='ee-v'>-7.351839832988651</span></li></ul></li><li><label class='ee-shut'>131: [-46.83657528825862, -7.351173173961042]<input type='checkbox' class='ee-toggle'></label><ul><li><span class='ee-k'>0:</span><span class='ee-v'>-46.83657528825862</span></li><li><span class='ee-k'>1:</span><span class='ee-v'>-7.351173173961042</span></li></ul></li><li><label class='ee-shut'>132: [-46.83600528867893, -7.350291369697538]<input type='checkbox' class='ee-toggle'></label><ul><li><span class='ee-k'>0:</span><span class='ee-v'>-46.83600528867893</span></li><li><span class='ee-k'>1:</span><span class='ee-v'>-7.350291369697538</span></li></ul></li><li><label class='ee-shut'>133: [-46.83543544338168, -7.349458930688048]<input type='checkbox' class='ee-toggle'></label><ul><li><span class='ee-k'>0:</span><span class='ee-v'>-46.83543544338168</span></li><li><span class='ee-k'>1:</span><span class='ee-v'>-7.349458930688048</span></li></ul></li><li><label class='ee-shut'>134: [-46.8345414741285, -7.348524613964323]<input type='checkbox' class='ee-toggle'></label><ul><li><span class='ee-k'>0:</span><span class='ee-v'>-46.8345414741285</span></li><li><span class='ee-k'>1:</span><span class='ee-v'>-7.348524613964323</span></li></ul></li><li><label class='ee-shut'>135: [-46.83345452526211, -7.3476449168371225]<input type='checkbox' class='ee-toggle'></label><ul><li><span class='ee-k'>0:</span><span class='ee-v'>-46.83345452526211</span></li><li><span class='ee-k'>1:</span><span class='ee-v'>-7.3476449168371225</span></li></ul></li><li><label class='ee-shut'>136: [-46.83251668573513, -7.346957586079549]<input type='checkbox' class='ee-toggle'></label><ul><li><span class='ee-k'>0:</span><span class='ee-v'>-46.83251668573513</span></li><li><span class='ee-k'>1:</span><span class='ee-v'>-7.346957586079549</span></li></ul></li><li><label class='ee-shut'>137: [-46.831304719562304, -7.346298347567126]<input type='checkbox' class='ee-toggle'></label><ul><li><span class='ee-k'>0:</span><span class='ee-v'>-46.831304719562304</span></li><li><span class='ee-k'>1:</span><span class='ee-v'>-7.346298347567126</span></li></ul></li><li><label class='ee-shut'>138: [-46.83019271061475, -7.345885463404421]<input type='checkbox' class='ee-toggle'></label><ul><li><span class='ee-k'>0:</span><span class='ee-v'>-46.83019271061475</span></li><li><span class='ee-k'>1:</span><span class='ee-v'>-7.345885463404421</span></li></ul></li><li><label class='ee-shut'>139: [-46.829012729279945, -7.345351734936626]<input type='checkbox' class='ee-toggle'></label><ul><li><span class='ee-k'>0:</span><span class='ee-v'>-46.829012729279945</span></li><li><span class='ee-k'>1:</span><span class='ee-v'>-7.345351734936626</span></li></ul></li><li><label class='ee-shut'>140: [-46.82895870135662, -7.34532504040066]<input type='checkbox' class='ee-toggle'></label><ul><li><span class='ee-k'>0:</span><span class='ee-v'>-46.82895870135662</span></li><li><span class='ee-k'>1:</span><span class='ee-v'>-7.34532504040066</span></li></ul></li><li><label class='ee-shut'>141: [-46.813501334433035, -7.335855203108004]<input type='checkbox' class='ee-toggle'></label><ul><li><span class='ee-k'>0:</span><span class='ee-v'>-46.813501334433035</span></li><li><span class='ee-k'>1:</span><span class='ee-v'>-7.335855203108004</span></li></ul></li><li><label class='ee-shut'>142: [-46.81110908142459, -7.326767618889152]<input type='checkbox' class='ee-toggle'></label><ul><li><span class='ee-k'>0:</span><span class='ee-v'>-46.81110908142459</span></li><li><span class='ee-k'>1:</span><span class='ee-v'>-7.326767618889152</span></li></ul></li><li><label class='ee-shut'>143: [-46.804018179832426, -7.320678913750241]<input type='checkbox' class='ee-toggle'></label><ul><li><span class='ee-k'>0:</span><span class='ee-v'>-46.804018179832426</span></li><li><span class='ee-k'>1:</span><span class='ee-v'>-7.320678913750241</span></li></ul></li><li><label class='ee-shut'>144: [-46.792256612678926, -7.325748021295002]<input type='checkbox' class='ee-toggle'></label><ul><li><span class='ee-k'>0:</span><span class='ee-v'>-46.792256612678926</span></li><li><span class='ee-k'>1:</span><span class='ee-v'>-7.325748021295002</span></li></ul></li><li><label class='ee-shut'>145: [-46.781544170568694, -7.326800370920765]<input type='checkbox' class='ee-toggle'></label><ul><li><span class='ee-k'>0:</span><span class='ee-v'>-46.781544170568694</span></li><li><span class='ee-k'>1:</span><span class='ee-v'>-7.326800370920765</span></li></ul></li><li><label class='ee-shut'>146: [-46.775573455398025, -7.328803271308975]<input type='checkbox' class='ee-toggle'></label><ul><li><span class='ee-k'>0:</span><span class='ee-v'>-46.775573455398025</span></li><li><span class='ee-k'>1:</span><span class='ee-v'>-7.328803271308975</span></li></ul></li><li><label class='ee-shut'>147: [-46.776005222149706, -7.3277379004135765]<input type='checkbox' class='ee-toggle'></label><ul><li><span class='ee-k'>0:</span><span class='ee-v'>-46.776005222149706</span></li><li><span class='ee-k'>1:</span><span class='ee-v'>-7.3277379004135765</span></li></ul></li><li><label class='ee-shut'>148: [-46.77616912910412, -7.327117896705434]<input type='checkbox' class='ee-toggle'></label><ul><li><span class='ee-k'>0:</span><span class='ee-v'>-46.77616912910412</span></li><li><span class='ee-k'>1:</span><span class='ee-v'>-7.327117896705434</span></li></ul></li><li><label class='ee-shut'>149: [-46.776260828633426, -7.3264353249838035]<input type='checkbox' class='ee-toggle'></label><ul><li><span class='ee-k'>0:</span><span class='ee-v'>-46.776260828633426</span></li><li><span class='ee-k'>1:</span><span class='ee-v'>-7.3264353249838035</span></li></ul></li><li><label class='ee-shut'>150: [-46.776162927209626, -7.325556024390021]<input type='checkbox' class='ee-toggle'></label><ul><li><span class='ee-k'>0:</span><span class='ee-v'>-46.776162927209626</span></li><li><span class='ee-k'>1:</span><span class='ee-v'>-7.325556024390021</span></li></ul></li><li><label class='ee-shut'>151: [-46.775896246470474, -7.324044603522015]<input type='checkbox' class='ee-toggle'></label><ul><li><span class='ee-k'>0:</span><span class='ee-v'>-46.775896246470474</span></li><li><span class='ee-k'>1:</span><span class='ee-v'>-7.324044603522015</span></li></ul></li><li><label class='ee-shut'>152: [-46.77536665461351, -7.321986629874674]<input type='checkbox' class='ee-toggle'></label><ul><li><span class='ee-k'>0:</span><span class='ee-v'>-46.77536665461351</span></li><li><span class='ee-k'>1:</span><span class='ee-v'>-7.321986629874674</span></li></ul></li><li><label class='ee-shut'>153: [-46.775268607270114, -7.321066979941496]<input type='checkbox' class='ee-toggle'></label><ul><li><span class='ee-k'>0:</span><span class='ee-v'>-46.775268607270114</span></li><li><span class='ee-k'>1:</span><span class='ee-v'>-7.321066979941496</span></li></ul></li><li><label class='ee-shut'>154: [-46.775338008231344, -7.320424850025806]<input type='checkbox' class='ee-toggle'></label><ul><li><span class='ee-k'>0:</span><span class='ee-v'>-46.775338008231344</span></li><li><span class='ee-k'>1:</span><span class='ee-v'>-7.320424850025806</span></li></ul></li><li><label class='ee-shut'>155: [-46.7754305922161, -7.319975676950045]<input type='checkbox' class='ee-toggle'></label><ul><li><span class='ee-k'>0:</span><span class='ee-v'>-46.7754305922161</span></li><li><span class='ee-k'>1:</span><span class='ee-v'>-7.319975676950045</span></li></ul></li><li><label class='ee-shut'>156: [-46.77537846755936, -7.319289234102386]<input type='checkbox' class='ee-toggle'></label><ul><li><span class='ee-k'>0:</span><span class='ee-v'>-46.77537846755936</span></li><li><span class='ee-k'>1:</span><span class='ee-v'>-7.319289234102386</span></li></ul></li><li><label class='ee-shut'>157: [-46.77477822576247, -7.317563690266356]<input type='checkbox' class='ee-toggle'></label><ul><li><span class='ee-k'>0:</span><span class='ee-v'>-46.77477822576247</span></li><li><span class='ee-k'>1:</span><span class='ee-v'>-7.317563690266356</span></li></ul></li><li><label class='ee-shut'>158: [-46.77368267376523, -7.315606657086582]<input type='checkbox' class='ee-toggle'></label><ul><li><span class='ee-k'>0:</span><span class='ee-v'>-46.77368267376523</span></li><li><span class='ee-k'>1:</span><span class='ee-v'>-7.315606657086582</span></li></ul></li><li><label class='ee-shut'>159: [-46.772253671017566, -7.313431043056442]<input type='checkbox' class='ee-toggle'></label><ul><li><span class='ee-k'>0:</span><span class='ee-v'>-46.772253671017566</span></li><li><span class='ee-k'>1:</span><span class='ee-v'>-7.313431043056442</span></li></ul></li><li><label class='ee-shut'>160: [-46.77199062849524, -7.312844153084084]<input type='checkbox' class='ee-toggle'></label><ul><li><span class='ee-k'>0:</span><span class='ee-v'>-46.77199062849524</span></li><li><span class='ee-k'>1:</span><span class='ee-v'>-7.312844153084084</span></li></ul></li><li><label class='ee-shut'>161: [-46.77167421150122, -7.311256588077428]<input type='checkbox' class='ee-toggle'></label><ul><li><span class='ee-k'>0:</span><span class='ee-v'>-46.77167421150122</span></li><li><span class='ee-k'>1:</span><span class='ee-v'>-7.311256588077428</span></li></ul></li><li><label class='ee-shut'>162: [-46.771528775520515, -7.310857700092215]<input type='checkbox' class='ee-toggle'></label><ul><li><span class='ee-k'>0:</span><span class='ee-v'>-46.771528775520515</span></li><li><span class='ee-k'>1:</span><span class='ee-v'>-7.310857700092215</span></li></ul></li><li><label class='ee-shut'>163: [-46.77138784328908, -7.310454370213642]<input type='checkbox' class='ee-toggle'></label><ul><li><span class='ee-k'>0:</span><span class='ee-v'>-46.77138784328908</span></li><li><span class='ee-k'>1:</span><span class='ee-v'>-7.310454370213642</span></li></ul></li><li><label class='ee-shut'>164: [-46.77093441183513, -7.3094642715476255]<input type='checkbox' class='ee-toggle'></label><ul><li><span class='ee-k'>0:</span><span class='ee-v'>-46.77093441183513</span></li><li><span class='ee-k'>1:</span><span class='ee-v'>-7.3094642715476255</span></li></ul></li><li><label class='ee-shut'>165: [-46.77054801645989, -7.308375167895554]<input type='checkbox' class='ee-toggle'></label><ul><li><span class='ee-k'>0:</span><span class='ee-v'>-46.77054801645989</span></li><li><span class='ee-k'>1:</span><span class='ee-v'>-7.308375167895554</span></li></ul></li><li><label class='ee-shut'>166: [-46.770072224173845, -7.30740757018663]<input type='checkbox' class='ee-toggle'></label><ul><li><span class='ee-k'>0:</span><span class='ee-v'>-46.770072224173845</span></li><li><span class='ee-k'>1:</span><span class='ee-v'>-7.30740757018663</span></li></ul></li><li><label class='ee-shut'>167: [-46.76942605452647, -7.306534910890059]<input type='checkbox' class='ee-toggle'></label><ul><li><span class='ee-k'>0:</span><span class='ee-v'>-46.76942605452647</span></li><li><span class='ee-k'>1:</span><span class='ee-v'>-7.306534910890059</span></li></ul></li><li><label class='ee-shut'>168: [-46.76884101720148, -7.305231153116642]<input type='checkbox' class='ee-toggle'></label><ul><li><span class='ee-k'>0:</span><span class='ee-v'>-46.76884101720148</span></li><li><span class='ee-k'>1:</span><span class='ee-v'>-7.305231153116642</span></li></ul></li><li><label class='ee-shut'>169: [-46.76834316872251, -7.304366940582182]<input type='checkbox' class='ee-toggle'></label><ul><li><span class='ee-k'>0:</span><span class='ee-v'>-46.76834316872251</span></li><li><span class='ee-k'>1:</span><span class='ee-v'>-7.304366940582182</span></li></ul></li><li><label class='ee-shut'>170: [-46.767683807602054, -7.303575134670408]<input type='checkbox' class='ee-toggle'></label><ul><li><span class='ee-k'>0:</span><span class='ee-v'>-46.767683807602054</span></li><li><span class='ee-k'>1:</span><span class='ee-v'>-7.303575134670408</span></li></ul></li><li><label class='ee-shut'>171: [-46.766840204135896, -7.302806456795454]<input type='checkbox' class='ee-toggle'></label><ul><li><span class='ee-k'>0:</span><span class='ee-v'>-46.766840204135896</span></li><li><span class='ee-k'>1:</span><span class='ee-v'>-7.302806456795454</span></li></ul></li><li><label class='ee-shut'>172: [-46.76573508141026, -7.301827858014353]<input type='checkbox' class='ee-toggle'></label><ul><li><span class='ee-k'>0:</span><span class='ee-v'>-46.76573508141026</span></li><li><span class='ee-k'>1:</span><span class='ee-v'>-7.301827858014353</span></li></ul></li><li><label class='ee-shut'>173: [-46.7647255736785, -7.301154100875888]<input type='checkbox' class='ee-toggle'></label><ul><li><span class='ee-k'>0:</span><span class='ee-v'>-46.7647255736785</span></li><li><span class='ee-k'>1:</span><span class='ee-v'>-7.301154100875888</span></li></ul></li><li><label class='ee-shut'>174: [-46.76431110266644, -7.300922380349852]<input type='checkbox' class='ee-toggle'></label><ul><li><span class='ee-k'>0:</span><span class='ee-v'>-46.76431110266644</span></li><li><span class='ee-k'>1:</span><span class='ee-v'>-7.300922380349852</span></li></ul></li><li><label class='ee-shut'>175: [-46.76357672600806, -7.300503307571534]<input type='checkbox' class='ee-toggle'></label><ul><li><span class='ee-k'>0:</span><span class='ee-v'>-46.76357672600806</span></li><li><span class='ee-k'>1:</span><span class='ee-v'>-7.300503307571534</span></li></ul></li><li><label class='ee-shut'>176: [-46.76219030470643, -7.299997074153656]<input type='checkbox' class='ee-toggle'></label><ul><li><span class='ee-k'>0:</span><span class='ee-v'>-46.76219030470643</span></li><li><span class='ee-k'>1:</span><span class='ee-v'>-7.299997074153656</span></li></ul></li><li><label class='ee-shut'>177: [-46.76094349564329, -7.299566642681819]<input type='checkbox' class='ee-toggle'></label><ul><li><span class='ee-k'>0:</span><span class='ee-v'>-46.76094349564329</span></li><li><span class='ee-k'>1:</span><span class='ee-v'>-7.299566642681819</span></li></ul></li><li><label class='ee-shut'>178: [-46.75868770021326, -7.298588031298456]<input type='checkbox' class='ee-toggle'></label><ul><li><span class='ee-k'>0:</span><span class='ee-v'>-46.75868770021326</span></li><li><span class='ee-k'>1:</span><span class='ee-v'>-7.298588031298456</span></li></ul></li><li><label class='ee-shut'>179: [-46.75098069031268, -7.295637821261029]<input type='checkbox' class='ee-toggle'></label><ul><li><span class='ee-k'>0:</span><span class='ee-v'>-46.75098069031268</span></li><li><span class='ee-k'>1:</span><span class='ee-v'>-7.295637821261029</span></li></ul></li><li><label class='ee-shut'>180: [-46.7476497655776, -7.287495676440978]<input type='checkbox' class='ee-toggle'></label><ul><li><span class='ee-k'>0:</span><span class='ee-v'>-46.7476497655776</span></li><li><span class='ee-k'>1:</span><span class='ee-v'>-7.287495676440978</span></li></ul></li><li><label class='ee-shut'>181: [-46.74479342964774, -7.279975541397547]<input type='checkbox' class='ee-toggle'></label><ul><li><span class='ee-k'>0:</span><span class='ee-v'>-46.74479342964774</span></li><li><span class='ee-k'>1:</span><span class='ee-v'>-7.279975541397547</span></li></ul></li><li><label class='ee-shut'>182: [-46.74509167339675, -7.275741997398414]<input type='checkbox' class='ee-toggle'></label><ul><li><span class='ee-k'>0:</span><span class='ee-v'>-46.74509167339675</span></li><li><span class='ee-k'>1:</span><span class='ee-v'>-7.275741997398414</span></li></ul></li><li><label class='ee-shut'>183: [-46.749011360147165, -7.274627235678776]<input type='checkbox' class='ee-toggle'></label><ul><li><span class='ee-k'>0:</span><span class='ee-v'>-46.749011360147165</span></li><li><span class='ee-k'>1:</span><span class='ee-v'>-7.274627235678776</span></li></ul></li><li><label class='ee-shut'>184: [-46.75829106622929, -7.277571481178899]<input type='checkbox' class='ee-toggle'></label><ul><li><span class='ee-k'>0:</span><span class='ee-v'>-46.75829106622929</span></li><li><span class='ee-k'>1:</span><span class='ee-v'>-7.277571481178899</span></li></ul></li><li><label class='ee-shut'>185: [-46.7592202899626, -7.273806805555311]<input type='checkbox' class='ee-toggle'></label><ul><li><span class='ee-k'>0:</span><span class='ee-v'>-46.7592202899626</span></li><li><span class='ee-k'>1:</span><span class='ee-v'>-7.273806805555311</span></li></ul></li><li><label class='ee-shut'>186: [-46.75291238701299, -7.267556764748274]<input type='checkbox' class='ee-toggle'></label><ul><li><span class='ee-k'>0:</span><span class='ee-v'>-46.75291238701299</span></li><li><span class='ee-k'>1:</span><span class='ee-v'>-7.267556764748274</span></li></ul></li><li><label class='ee-shut'>187: [-46.75416172723708, -7.265195654268756]<input type='checkbox' class='ee-toggle'></label><ul><li><span class='ee-k'>0:</span><span class='ee-v'>-46.75416172723708</span></li><li><span class='ee-k'>1:</span><span class='ee-v'>-7.265195654268756</span></li></ul></li><li><label class='ee-shut'>188: [-46.76138399391176, -7.265015076511227]<input type='checkbox' class='ee-toggle'></label><ul><li><span class='ee-k'>0:</span><span class='ee-v'>-46.76138399391176</span></li><li><span class='ee-k'>1:</span><span class='ee-v'>-7.265015076511227</span></li></ul></li><li><label class='ee-shut'>189: [-46.76515311352261, -7.264529161848882]<input type='checkbox' class='ee-toggle'></label><ul><li><span class='ee-k'>0:</span><span class='ee-v'>-46.76515311352261</span></li><li><span class='ee-k'>1:</span><span class='ee-v'>-7.264529161848882</span></li></ul></li><li><label class='ee-shut'>190: [-46.772704087470714, -7.267951079029906]<input type='checkbox' class='ee-toggle'></label><ul><li><span class='ee-k'>0:</span><span class='ee-v'>-46.772704087470714</span></li><li><span class='ee-k'>1:</span><span class='ee-v'>-7.267951079029906</span></li></ul></li><li><label class='ee-shut'>191: [-46.78262342726846, -7.273558210779371]<input type='checkbox' class='ee-toggle'></label><ul><li><span class='ee-k'>0:</span><span class='ee-v'>-46.78262342726846</span></li><li><span class='ee-k'>1:</span><span class='ee-v'>-7.273558210779371</span></li></ul></li><li><label class='ee-shut'>192: [-46.78970577499503, -7.2777625843452824]<input type='checkbox' class='ee-toggle'></label><ul><li><span class='ee-k'>0:</span><span class='ee-v'>-46.78970577499503</span></li><li><span class='ee-k'>1:</span><span class='ee-v'>-7.2777625843452824</span></li></ul></li><li><label class='ee-shut'>193: [-46.79679207472484, -7.281814170867685]<input type='checkbox' class='ee-toggle'></label><ul><li><span class='ee-k'>0:</span><span class='ee-v'>-46.79679207472484</span></li><li><span class='ee-k'>1:</span><span class='ee-v'>-7.281814170867685</span></li></ul></li><li><label class='ee-shut'>194: [-46.798689117714886, -7.285257962443529]<input type='checkbox' class='ee-toggle'></label><ul><li><span class='ee-k'>0:</span><span class='ee-v'>-46.798689117714886</span></li><li><span class='ee-k'>1:</span><span class='ee-v'>-7.285257962443529</span></li></ul></li><li><label class='ee-shut'>195: [-46.804512096977625, -7.288057785647093]<input type='checkbox' class='ee-toggle'></label><ul><li><span class='ee-k'>0:</span><span class='ee-v'>-46.804512096977625</span></li><li><span class='ee-k'>1:</span><span class='ee-v'>-7.288057785647093</span></li></ul></li><li><label class='ee-shut'>196: [-46.80782381621508, -7.291181649991186]<input type='checkbox' class='ee-toggle'></label><ul><li><span class='ee-k'>0:</span><span class='ee-v'>-46.80782381621508</span></li><li><span class='ee-k'>1:</span><span class='ee-v'>-7.291181649991186</span></li></ul></li><li><label class='ee-shut'>197: [-46.80749158541788, -7.286789206469389]<input type='checkbox' class='ee-toggle'></label><ul><li><span class='ee-k'>0:</span><span class='ee-v'>-46.80749158541788</span></li><li><span class='ee-k'>1:</span><span class='ee-v'>-7.286789206469389</span></li></ul></li><li><label class='ee-shut'>198: [-46.812193257861644, -7.283476163402617]<input type='checkbox' class='ee-toggle'></label><ul><li><span class='ee-k'>0:</span><span class='ee-v'>-46.812193257861644</span></li><li><span class='ee-k'>1:</span><span class='ee-v'>-7.283476163402617</span></li></ul></li><li><label class='ee-shut'>199: [-46.8129603375053, -7.278612531523364]<input type='checkbox' class='ee-toggle'></label><ul><li><span class='ee-k'>0:</span><span class='ee-v'>-46.8129603375053</span></li><li><span class='ee-k'>1:</span><span class='ee-v'>-7.278612531523364</span></li></ul></li><li><label class='ee-shut'>200: [-46.814678661956044, -7.27672069714926]<input type='checkbox' class='ee-toggle'></label><ul><li><span class='ee-k'>0:</span><span class='ee-v'>-46.814678661956044</span></li><li><span class='ee-k'>1:</span><span class='ee-v'>-7.27672069714926</span></li></ul></li><li><label class='ee-shut'>201: [-46.81926144272414, -7.284076132427944]<input type='checkbox' class='ee-toggle'></label><ul><li><span class='ee-k'>0:</span><span class='ee-v'>-46.81926144272414</span></li><li><span class='ee-k'>1:</span><span class='ee-v'>-7.284076132427944</span></li></ul></li><li><label class='ee-shut'>202: [-46.82460805461471, -7.2846829041199035]<input type='checkbox' class='ee-toggle'></label><ul><li><span class='ee-k'>0:</span><span class='ee-v'>-46.82460805461471</span></li><li><span class='ee-k'>1:</span><span class='ee-v'>-7.2846829041199035</span></li></ul></li><li><label class='ee-shut'>203: [-46.83436008028451, -7.288718590596108]<input type='checkbox' class='ee-toggle'></label><ul><li><span class='ee-k'>0:</span><span class='ee-v'>-46.83436008028451</span></li><li><span class='ee-k'>1:</span><span class='ee-v'>-7.288718590596108</span></li></ul></li><li><label class='ee-shut'>204: [-46.83339199222866, -7.281667367390837]<input type='checkbox' class='ee-toggle'></label><ul><li><span class='ee-k'>0:</span><span class='ee-v'>-46.83339199222866</span></li><li><span class='ee-k'>1:</span><span class='ee-v'>-7.281667367390837</span></li></ul></li><li><label class='ee-shut'>205: [-46.83697372260457, -7.274907446816157]<input type='checkbox' class='ee-toggle'></label><ul><li><span class='ee-k'>0:</span><span class='ee-v'>-46.83697372260457</span></li><li><span class='ee-k'>1:</span><span class='ee-v'>-7.274907446816157</span></li></ul></li><li><label class='ee-shut'>206: [-46.836953320324085, -7.269889934923053]<input type='checkbox' class='ee-toggle'></label><ul><li><span class='ee-k'>0:</span><span class='ee-v'>-46.836953320324085</span></li><li><span class='ee-k'>1:</span><span class='ee-v'>-7.269889934923053</span></li></ul></li><li><label class='ee-shut'>207: [-46.83630436948598, -7.263932521286122]<input type='checkbox' class='ee-toggle'></label><ul><li><span class='ee-k'>0:</span><span class='ee-v'>-46.83630436948598</span></li><li><span class='ee-k'>1:</span><span class='ee-v'>-7.263932521286122</span></li></ul></li><li><label class='ee-shut'>208: [-46.83471414629949, -7.259702324820327]<input type='checkbox' class='ee-toggle'></label><ul><li><span class='ee-k'>0:</span><span class='ee-v'>-46.83471414629949</span></li><li><span class='ee-k'>1:</span><span class='ee-v'>-7.259702324820327</span></li></ul></li><li><label class='ee-shut'>209: [-46.83186623981649, -7.254539167206074]<input type='checkbox' class='ee-toggle'></label><ul><li><span class='ee-k'>0:</span><span class='ee-v'>-46.83186623981649</span></li><li><span class='ee-k'>1:</span><span class='ee-v'>-7.254539167206074</span></li></ul></li><li><label class='ee-shut'>210: [-46.83468620530021, -7.252804377453162]<input type='checkbox' class='ee-toggle'></label><ul><li><span class='ee-k'>0:</span><span class='ee-v'>-46.83468620530021</span></li><li><span class='ee-k'>1:</span><span class='ee-v'>-7.252804377453162</span></li></ul></li><li><label class='ee-shut'>211: [-46.84443426635442, -7.254959545450441]<input type='checkbox' class='ee-toggle'></label><ul><li><span class='ee-k'>0:</span><span class='ee-v'>-46.84443426635442</span></li><li><span class='ee-k'>1:</span><span class='ee-v'>-7.254959545450441</span></li></ul></li><li><label class='ee-shut'>212: [-46.85292203391404, -7.256648333990642]<input type='checkbox' class='ee-toggle'></label><ul><li><span class='ee-k'>0:</span><span class='ee-v'>-46.85292203391404</span></li><li><span class='ee-k'>1:</span><span class='ee-v'>-7.256648333990642</span></li></ul></li><li><label class='ee-shut'>213: [-46.85620994410228, -7.25396911629672]<input type='checkbox' class='ee-toggle'></label><ul><li><span class='ee-k'>0:</span><span class='ee-v'>-46.85620994410228</span></li><li><span class='ee-k'>1:</span><span class='ee-v'>-7.25396911629672</span></li></ul></li><li><label class='ee-shut'>214: [-46.86202034402467, -7.253788257811386]<input type='checkbox' class='ee-toggle'></label><ul><li><span class='ee-k'>0:</span><span class='ee-v'>-46.86202034402467</span></li><li><span class='ee-k'>1:</span><span class='ee-v'>-7.253788257811386</span></li></ul></li><li><label class='ee-shut'>215: [-46.86720669520983, -7.254866483289438]<input type='checkbox' class='ee-toggle'></label><ul><li><span class='ee-k'>0:</span><span class='ee-v'>-46.86720669520983</span></li><li><span class='ee-k'>1:</span><span class='ee-v'>-7.254866483289438</span></li></ul></li><li><label class='ee-shut'>216: [-46.87428133699294, -7.2560894507991724]<input type='checkbox' class='ee-toggle'></label><ul><li><span class='ee-k'>0:</span><span class='ee-v'>-46.87428133699294</span></li><li><span class='ee-k'>1:</span><span class='ee-v'>-7.2560894507991724</span></li></ul></li><li><label class='ee-shut'>217: [-46.884338263371994, -7.257932758338731]<input type='checkbox' class='ee-toggle'></label><ul><li><span class='ee-k'>0:</span><span class='ee-v'>-46.884338263371994</span></li><li><span class='ee-k'>1:</span><span class='ee-v'>-7.257932758338731</span></li></ul></li><li><label class='ee-shut'>218: [-46.89110686867339, -7.261198723065337]<input type='checkbox' class='ee-toggle'></label><ul><li><span class='ee-k'>0:</span><span class='ee-v'>-46.89110686867339</span></li><li><span class='ee-k'>1:</span><span class='ee-v'>-7.261198723065337</span></li></ul></li><li><label class='ee-shut'>219: [-46.893772515144036, -7.260245134530334]<input type='checkbox' class='ee-toggle'></label><ul><li><span class='ee-k'>0:</span><span class='ee-v'>-46.893772515144036</span></li><li><span class='ee-k'>1:</span><span class='ee-v'>-7.260245134530334</span></li></ul></li><li><label class='ee-shut'>220: [-46.88997563390157, -7.253986924042864]<input type='checkbox' class='ee-toggle'></label><ul><li><span class='ee-k'>0:</span><span class='ee-v'>-46.88997563390157</span></li><li><span class='ee-k'>1:</span><span class='ee-v'>-7.253986924042864</span></li></ul></li><li><label class='ee-shut'>221: [-46.89263596653432, -7.251781301162692]<input type='checkbox' class='ee-toggle'></label><ul><li><span class='ee-k'>0:</span><span class='ee-v'>-46.89263596653432</span></li><li><span class='ee-k'>1:</span><span class='ee-v'>-7.251781301162692</span></li></ul></li><li><label class='ee-shut'>222: [-46.89750832716228, -7.25191809073082]<input type='checkbox' class='ee-toggle'></label><ul><li><span class='ee-k'>0:</span><span class='ee-v'>-46.89750832716228</span></li><li><span class='ee-k'>1:</span><span class='ee-v'>-7.25191809073082</span></li></ul></li><li><label class='ee-shut'>223: [-46.89970003230356, -7.250495241805694]<input type='checkbox' class='ee-toggle'></label><ul><li><span class='ee-k'>0:</span><span class='ee-v'>-46.89970003230356</span></li><li><span class='ee-k'>1:</span><span class='ee-v'>-7.250495241805694</span></li></ul></li><li><label class='ee-shut'>224: [-46.90471356419456, -7.247889276917776]<input type='checkbox' class='ee-toggle'></label><ul><li><span class='ee-k'>0:</span><span class='ee-v'>-46.90471356419456</span></li><li><span class='ee-k'>1:</span><span class='ee-v'>-7.247889276917776</span></li></ul></li><li><label class='ee-shut'>225: [-46.90613581455763, -7.24839490642463]<input type='checkbox' class='ee-toggle'></label><ul><li><span class='ee-k'>0:</span><span class='ee-v'>-46.90613581455763</span></li><li><span class='ee-k'>1:</span><span class='ee-v'>-7.24839490642463</span></li></ul></li><li><label class='ee-shut'>226: [-46.9069952243097, -7.248638120379225]<input type='checkbox' class='ee-toggle'></label><ul><li><span class='ee-k'>0:</span><span class='ee-v'>-46.9069952243097</span></li><li><span class='ee-k'>1:</span><span class='ee-v'>-7.248638120379225</span></li></ul></li><li><label class='ee-shut'>227: [-46.90742678527111, -7.248658752485159]<input type='checkbox' class='ee-toggle'></label><ul><li><span class='ee-k'>0:</span><span class='ee-v'>-46.90742678527111</span></li><li><span class='ee-k'>1:</span><span class='ee-v'>-7.248658752485159</span></li></ul></li><li><label class='ee-shut'>228: [-46.90785383438022, -7.248683902523735]<input type='checkbox' class='ee-toggle'></label><ul><li><span class='ee-k'>0:</span><span class='ee-v'>-46.90785383438022</span></li><li><span class='ee-k'>1:</span><span class='ee-v'>-7.248683902523735</span></li></ul></li><li><label class='ee-shut'>229: [-46.91030782656355, -7.248722990971895]<input type='checkbox' class='ee-toggle'></label><ul><li><span class='ee-k'>0:</span><span class='ee-v'>-46.91030782656355</span></li><li><span class='ee-k'>1:</span><span class='ee-v'>-7.248722990971895</span></li></ul></li><li><label class='ee-shut'>230: [-46.9116559072902, -7.248690359484179]<input type='checkbox' class='ee-toggle'></label><ul><li><span class='ee-k'>0:</span><span class='ee-v'>-46.9116559072902</span></li><li><span class='ee-k'>1:</span><span class='ee-v'>-7.248690359484179</span></li></ul></li><li><label class='ee-shut'>231: [-46.91283441539932, -7.24893225426165]<input type='checkbox' class='ee-toggle'></label><ul><li><span class='ee-k'>0:</span><span class='ee-v'>-46.91283441539932</span></li><li><span class='ee-k'>1:</span><span class='ee-v'>-7.24893225426165</span></li></ul></li><li><label class='ee-shut'>232: [-46.91376597370055, -7.249246944573212]<input type='checkbox' class='ee-toggle'></label><ul><li><span class='ee-k'>0:</span><span class='ee-v'>-46.91376597370055</span></li><li><span class='ee-k'>1:</span><span class='ee-v'>-7.249246944573212</span></li></ul></li><li><label class='ee-shut'>233: [-46.914873604983924, -7.249731476008672]<input type='checkbox' class='ee-toggle'></label><ul><li><span class='ee-k'>0:</span><span class='ee-v'>-46.914873604983924</span></li><li><span class='ee-k'>1:</span><span class='ee-v'>-7.249731476008672</span></li></ul></li><li><label class='ee-shut'>234: [-46.915486177467955, -7.2500475082381115]<input type='checkbox' class='ee-toggle'></label><ul><li><span class='ee-k'>0:</span><span class='ee-v'>-46.915486177467955</span></li><li><span class='ee-k'>1:</span><span class='ee-v'>-7.2500475082381115</span></li></ul></li><li><label class='ee-shut'>235: [-46.9167434031664, -7.250849987437195]<input type='checkbox' class='ee-toggle'></label><ul><li><span class='ee-k'>0:</span><span class='ee-v'>-46.9167434031664</span></li><li><span class='ee-k'>1:</span><span class='ee-v'>-7.250849987437195</span></li></ul></li><li><label class='ee-shut'>236: [-46.91865932383154, -7.2522376635172074]<input type='checkbox' class='ee-toggle'></label><ul><li><span class='ee-k'>0:</span><span class='ee-v'>-46.91865932383154</span></li><li><span class='ee-k'>1:</span><span class='ee-v'>-7.2522376635172074</span></li></ul></li><li><label class='ee-shut'>237: [-46.919642152553735, -7.252969469804162]<input type='checkbox' class='ee-toggle'></label><ul><li><span class='ee-k'>0:</span><span class='ee-v'>-46.919642152553735</span></li><li><span class='ee-k'>1:</span><span class='ee-v'>-7.252969469804162</span></li></ul></li><li><label class='ee-shut'>238: [-46.920383544110955, -7.25399403924666]<input type='checkbox' class='ee-toggle'></label><ul><li><span class='ee-k'>0:</span><span class='ee-v'>-46.920383544110955</span></li><li><span class='ee-k'>1:</span><span class='ee-v'>-7.25399403924666</span></li></ul></li><li><label class='ee-shut'>239: [-46.921222241122436, -7.254650202181109]<input type='checkbox' class='ee-toggle'></label><ul><li><span class='ee-k'>0:</span><span class='ee-v'>-46.921222241122436</span></li><li><span class='ee-k'>1:</span><span class='ee-v'>-7.254650202181109</span></li></ul></li><li><label class='ee-shut'>240: [-46.92237572209806, -7.255354366559198]<input type='checkbox' class='ee-toggle'></label><ul><li><span class='ee-k'>0:</span><span class='ee-v'>-46.92237572209806</span></li><li><span class='ee-k'>1:</span><span class='ee-v'>-7.255354366559198</span></li></ul></li><li><label class='ee-shut'>241: [-46.923212674958314, -7.255597688427194]<input type='checkbox' class='ee-toggle'></label><ul><li><span class='ee-k'>0:</span><span class='ee-v'>-46.923212674958314</span></li><li><span class='ee-k'>1:</span><span class='ee-v'>-7.255597688427194</span></li></ul></li><li><label class='ee-shut'>242: [-46.92466425043105, -7.256646121677057]<input type='checkbox' class='ee-toggle'></label><ul><li><span class='ee-k'>0:</span><span class='ee-v'>-46.92466425043105</span></li><li><span class='ee-k'>1:</span><span class='ee-v'>-7.256646121677057</span></li></ul></li><li><label class='ee-shut'>243: [-46.925645936818064, -7.257104215729022]<input type='checkbox' class='ee-toggle'></label><ul><li><span class='ee-k'>0:</span><span class='ee-v'>-46.925645936818064</span></li><li><span class='ee-k'>1:</span><span class='ee-v'>-7.257104215729022</span></li></ul></li><li><label class='ee-shut'>244: [-46.92623531323159, -7.257249823362733]<input type='checkbox' class='ee-toggle'></label><ul><li><span class='ee-k'>0:</span><span class='ee-v'>-46.92623531323159</span></li><li><span class='ee-k'>1:</span><span class='ee-v'>-7.257249823362733</span></li></ul></li><li><label class='ee-shut'>245: [-46.92714268047345, -7.257147215762217]<input type='checkbox' class='ee-toggle'></label><ul><li><span class='ee-k'>0:</span><span class='ee-v'>-46.92714268047345</span></li><li><span class='ee-k'>1:</span><span class='ee-v'>-7.257147215762217</span></li></ul></li><li><label class='ee-shut'>246: [-46.92817166184717, -7.257093498589539]<input type='checkbox' class='ee-toggle'></label><ul><li><span class='ee-k'>0:</span><span class='ee-v'>-46.92817166184717</span></li><li><span class='ee-k'>1:</span><span class='ee-v'>-7.257093498589539</span></li></ul></li><li><label class='ee-shut'>247: [-46.92942194492051, -7.257308067807094]<input type='checkbox' class='ee-toggle'></label><ul><li><span class='ee-k'>0:</span><span class='ee-v'>-46.92942194492051</span></li><li><span class='ee-k'>1:</span><span class='ee-v'>-7.257308067807094</span></li></ul></li><li><label class='ee-shut'>248: [-46.93023161279456, -7.257479667887578]<input type='checkbox' class='ee-toggle'></label><ul><li><span class='ee-k'>0:</span><span class='ee-v'>-46.93023161279456</span></li><li><span class='ee-k'>1:</span><span class='ee-v'>-7.257479667887578</span></li></ul></li><li><label class='ee-shut'>249: [-46.93104181201986, -7.257767912051619]<input type='checkbox' class='ee-toggle'></label><ul><li><span class='ee-k'>0:</span><span class='ee-v'>-46.93104181201986</span></li><li><span class='ee-k'>1:</span><span class='ee-v'>-7.257767912051619</span></li></ul></li><li><label class='ee-shut'>250: [-46.932788820408305, -7.258545832728452]<input type='checkbox' class='ee-toggle'></label><ul><li><span class='ee-k'>0:</span><span class='ee-v'>-46.932788820408305</span></li><li><span class='ee-k'>1:</span><span class='ee-v'>-7.258545832728452</span></li></ul></li><li><label class='ee-shut'>251: [-46.93382147147537, -7.259349233014156]<input type='checkbox' class='ee-toggle'></label><ul><li><span class='ee-k'>0:</span><span class='ee-v'>-46.93382147147537</span></li><li><span class='ee-k'>1:</span><span class='ee-v'>-7.259349233014156</span></li></ul></li><li><label class='ee-shut'>252: [-46.934173568602446, -7.259706736611817]<input type='checkbox' class='ee-toggle'></label><ul><li><span class='ee-k'>0:</span><span class='ee-v'>-46.934173568602446</span></li><li><span class='ee-k'>1:</span><span class='ee-v'>-7.259706736611817</span></li></ul></li><li><label class='ee-shut'>253: [-46.93514847713418, -7.260689887372684]<input type='checkbox' class='ee-toggle'></label><ul><li><span class='ee-k'>0:</span><span class='ee-v'>-46.93514847713418</span></li><li><span class='ee-k'>1:</span><span class='ee-v'>-7.260689887372684</span></li></ul></li><li><label class='ee-shut'>254: [-46.93697324997328, -7.2628138085684375]<input type='checkbox' class='ee-toggle'></label><ul><li><span class='ee-k'>0:</span><span class='ee-v'>-46.93697324997328</span></li><li><span class='ee-k'>1:</span><span class='ee-v'>-7.2628138085684375</span></li></ul></li><li><label class='ee-shut'>255: [-46.937835405220696, -7.263689734729545]<input type='checkbox' class='ee-toggle'></label><ul><li><span class='ee-k'>0:</span><span class='ee-v'>-46.937835405220696</span></li><li><span class='ee-k'>1:</span><span class='ee-v'>-7.263689734729545</span></li></ul></li><li><label class='ee-shut'>256: [-46.93845262553975, -7.264055080952867]<input type='checkbox' class='ee-toggle'></label><ul><li><span class='ee-k'>0:</span><span class='ee-v'>-46.93845262553975</span></li><li><span class='ee-k'>1:</span><span class='ee-v'>-7.264055080952867</span></li></ul></li><li><label class='ee-shut'>257: [-46.93940717270946, -7.264468308264211]<input type='checkbox' class='ee-toggle'></label><ul><li><span class='ee-k'>0:</span><span class='ee-v'>-46.93940717270946</span></li><li><span class='ee-k'>1:</span><span class='ee-v'>-7.264468308264211</span></li></ul></li><li><label class='ee-shut'>258: [-46.93985412058248, -7.264928679055391]<input type='checkbox' class='ee-toggle'></label><ul><li><span class='ee-k'>0:</span><span class='ee-v'>-46.93985412058248</span></li><li><span class='ee-k'>1:</span><span class='ee-v'>-7.264928679055391</span></li></ul></li><li><label class='ee-shut'>259: [-46.9405195128248, -7.266029811679883]<input type='checkbox' class='ee-toggle'></label><ul><li><span class='ee-k'>0:</span><span class='ee-v'>-46.9405195128248</span></li><li><span class='ee-k'>1:</span><span class='ee-v'>-7.266029811679883</span></li></ul></li><li><label class='ee-shut'>260: [-46.94180276749914, -7.267639856741618]<input type='checkbox' class='ee-toggle'></label><ul><li><span class='ee-k'>0:</span><span class='ee-v'>-46.94180276749914</span></li><li><span class='ee-k'>1:</span><span class='ee-v'>-7.267639856741618</span></li></ul></li><li><label class='ee-shut'>261: [-46.94300782980151, -7.268832922311708]<input type='checkbox' class='ee-toggle'></label><ul><li><span class='ee-k'>0:</span><span class='ee-v'>-46.94300782980151</span></li><li><span class='ee-k'>1:</span><span class='ee-v'>-7.268832922311708</span></li></ul></li><li><label class='ee-shut'>262: [-46.943992093908605, -7.269883330770281]<input type='checkbox' class='ee-toggle'></label><ul><li><span class='ee-k'>0:</span><span class='ee-v'>-46.943992093908605</span></li><li><span class='ee-k'>1:</span><span class='ee-v'>-7.269883330770281</span></li></ul></li><li><label class='ee-shut'>263: [-46.94456153427195, -7.270616877772867]<input type='checkbox' class='ee-toggle'></label><ul><li><span class='ee-k'>0:</span><span class='ee-v'>-46.94456153427195</span></li><li><span class='ee-k'>1:</span><span class='ee-v'>-7.270616877772867</span></li></ul></li><li><label class='ee-shut'>264: [-46.94520172710605, -7.271076346707373]<input type='checkbox' class='ee-toggle'></label><ul><li><span class='ee-k'>0:</span><span class='ee-v'>-46.94520172710605</span></li><li><span class='ee-k'>1:</span><span class='ee-v'>-7.271076346707373</span></li></ul></li><li><label class='ee-shut'>265: [-46.9458636336568, -7.271369702102415]<input type='checkbox' class='ee-toggle'></label><ul><li><span class='ee-k'>0:</span><span class='ee-v'>-46.9458636336568</span></li><li><span class='ee-k'>1:</span><span class='ee-v'>-7.271369702102415</span></li></ul></li><li><label class='ee-shut'>266: [-46.94628374692985, -7.2718570482939064]<input type='checkbox' class='ee-toggle'></label><ul><li><span class='ee-k'>0:</span><span class='ee-v'>-46.94628374692985</span></li><li><span class='ee-k'>1:</span><span class='ee-v'>-7.2718570482939064</span></li></ul></li><li><label class='ee-shut'>267: [-46.9468522499596, -7.273420796816233]<input type='checkbox' class='ee-toggle'></label><ul><li><span class='ee-k'>0:</span><span class='ee-v'>-46.9468522499596</span></li><li><span class='ee-k'>1:</span><span class='ee-v'>-7.273420796816233</span></li></ul></li><li><label class='ee-shut'>268: [-46.94715161670447, -7.2740568187801635]<input type='checkbox' class='ee-toggle'></label><ul><li><span class='ee-k'>0:</span><span class='ee-v'>-46.94715161670447</span></li><li><span class='ee-k'>1:</span><span class='ee-v'>-7.2740568187801635</span></li></ul></li><li><label class='ee-shut'>269: [-46.94732319220564, -7.274240076001966]<input type='checkbox' class='ee-toggle'></label><ul><li><span class='ee-k'>0:</span><span class='ee-v'>-46.94732319220564</span></li><li><span class='ee-k'>1:</span><span class='ee-v'>-7.274240076001966</span></li></ul></li><li><label class='ee-shut'>270: [-46.94749476828726, -7.2744233346261735]<input type='checkbox' class='ee-toggle'></label><ul><li><span class='ee-k'>0:</span><span class='ee-v'>-46.94749476828726</span></li><li><span class='ee-k'>1:</span><span class='ee-v'>-7.2744233346261735</span></li></ul></li><li><label class='ee-shut'>271: [-46.9475695922352, -7.275109570624337]<input type='checkbox' class='ee-toggle'></label><ul><li><span class='ee-k'>0:</span><span class='ee-v'>-46.9475695922352</span></li><li><span class='ee-k'>1:</span><span class='ee-v'>-7.275109570624337</span></li></ul></li><li><label class='ee-shut'>272: [-46.947649602123434, -7.275939473428965]<input type='checkbox' class='ee-toggle'></label><ul><li><span class='ee-k'>0:</span><span class='ee-v'>-46.947649602123434</span></li><li><span class='ee-k'>1:</span><span class='ee-v'>-7.275939473428965</span></li></ul></li><li><label class='ee-shut'>273: [-46.94777487711863, -7.276845440290682]<input type='checkbox' class='ee-toggle'></label><ul><li><span class='ee-k'>0:</span><span class='ee-v'>-46.94777487711863</span></li><li><span class='ee-k'>1:</span><span class='ee-v'>-7.276845440290682</span></li></ul></li><li><label class='ee-shut'>274: [-46.94799846152776, -7.2776298292874815]<input type='checkbox' class='ee-toggle'></label><ul><li><span class='ee-k'>0:</span><span class='ee-v'>-46.94799846152776</span></li><li><span class='ee-k'>1:</span><span class='ee-v'>-7.2776298292874815</span></li></ul></li><li><label class='ee-shut'>275: [-46.948320282566705, -7.2782657221284035]<input type='checkbox' class='ee-toggle'></label><ul><li><span class='ee-k'>0:</span><span class='ee-v'>-46.948320282566705</span></li><li><span class='ee-k'>1:</span><span class='ee-v'>-7.2782657221284035</span></li></ul></li><li><label class='ee-shut'>276: [-46.948812723086334, -7.278851488568442]<input type='checkbox' class='ee-toggle'></label><ul><li><span class='ee-k'>0:</span><span class='ee-v'>-46.948812723086334</span></li><li><span class='ee-k'>1:</span><span class='ee-v'>-7.278851488568442</span></li></ul></li><li><label class='ee-shut'>277: [-46.949084837974425, -7.279411272516979]<input type='checkbox' class='ee-toggle'></label><ul><li><span class='ee-k'>0:</span><span class='ee-v'>-46.949084837974425</span></li><li><span class='ee-k'>1:</span><span class='ee-v'>-7.279411272516979</span></li></ul></li><li><label class='ee-shut'>278: [-46.94965848435211, -7.281123071119081]<input type='checkbox' class='ee-toggle'></label><ul><li><span class='ee-k'>0:</span><span class='ee-v'>-46.94965848435211</span></li><li><span class='ee-k'>1:</span><span class='ee-v'>-7.281123071119081</span></li></ul></li><li><label class='ee-shut'>279: [-46.950443211692, -7.281756993699796]<input type='checkbox' class='ee-toggle'></label><ul><li><span class='ee-k'>0:</span><span class='ee-v'>-46.950443211692</span></li><li><span class='ee-k'>1:</span><span class='ee-v'>-7.281756993699796</span></li></ul></li><li><label class='ee-shut'>280: [-46.95150393164095, -7.282807027823746]<input type='checkbox' class='ee-toggle'></label><ul><li><span class='ee-k'>0:</span><span class='ee-v'>-46.95150393164095</span></li><li><span class='ee-k'>1:</span><span class='ee-v'>-7.282807027823746</span></li></ul></li><li><label class='ee-shut'>281: [-46.95211805839972, -7.283464038126117]<input type='checkbox' class='ee-toggle'></label><ul><li><span class='ee-k'>0:</span><span class='ee-v'>-46.95211805839972</span></li><li><span class='ee-k'>1:</span><span class='ee-v'>-7.283464038126117</span></li></ul></li><li><label class='ee-shut'>282: [-46.95258808636326, -7.2840723632681765]<input type='checkbox' class='ee-toggle'></label><ul><li><span class='ee-k'>0:</span><span class='ee-v'>-46.95258808636326</span></li><li><span class='ee-k'>1:</span><span class='ee-v'>-7.2840723632681765</span></li></ul></li><li><label class='ee-shut'>283: [-46.95357209185568, -7.285050878865989]<input type='checkbox' class='ee-toggle'></label><ul><li><span class='ee-k'>0:</span><span class='ee-v'>-46.95357209185568</span></li><li><span class='ee-k'>1:</span><span class='ee-v'>-7.285050878865989</span></li></ul></li><li><label class='ee-shut'>284: [-46.95438459055947, -7.28585520128108]<input type='checkbox' class='ee-toggle'></label><ul><li><span class='ee-k'>0:</span><span class='ee-v'>-46.95438459055947</span></li><li><span class='ee-k'>1:</span><span class='ee-v'>-7.28585520128108</span></li></ul></li><li><label class='ee-shut'>285: [-46.955272604434974, -7.286461650564073]<input type='checkbox' class='ee-toggle'></label><ul><li><span class='ee-k'>0:</span><span class='ee-v'>-46.955272604434974</span></li><li><span class='ee-k'>1:</span><span class='ee-v'>-7.286461650564073</span></li></ul></li><li><label class='ee-shut'>286: [-46.95608831648289, -7.286978691955434]<input type='checkbox' class='ee-toggle'></label><ul><li><span class='ee-k'>0:</span><span class='ee-v'>-46.95608831648289</span></li><li><span class='ee-k'>1:</span><span class='ee-v'>-7.286978691955434</span></li></ul></li><li><label class='ee-shut'>287: [-46.9564263417959, -7.287192653424014]<input type='checkbox' class='ee-toggle'></label><ul><li><span class='ee-k'>0:</span><span class='ee-v'>-46.9564263417959</span></li><li><span class='ee-k'>1:</span><span class='ee-v'>-7.287192653424014</span></li></ul></li><li><label class='ee-shut'>288: [-46.9570440107011, -7.287629769706295]<input type='checkbox' class='ee-toggle'></label><ul><li><span class='ee-k'>0:</span><span class='ee-v'>-46.9570440107011</span></li><li><span class='ee-k'>1:</span><span class='ee-v'>-7.287629769706295</span></li></ul></li><li><label class='ee-shut'>289: [-46.957633307633174, -7.287748360730495]<input type='checkbox' class='ee-toggle'></label><ul><li><span class='ee-k'>0:</span><span class='ee-v'>-46.957633307633174</span></li><li><span class='ee-k'>1:</span><span class='ee-v'>-7.287748360730495</span></li></ul></li><li><label class='ee-shut'>290: [-46.95846513713088, -7.287843518149174]<input type='checkbox' class='ee-toggle'></label><ul><li><span class='ee-k'>0:</span><span class='ee-v'>-46.95846513713088</span></li><li><span class='ee-k'>1:</span><span class='ee-v'>-7.287843518149174</span></li></ul></li><li><label class='ee-shut'>291: [-46.95940079488846, -7.288036926393182]<input type='checkbox' class='ee-toggle'></label><ul><li><span class='ee-k'>0:</span><span class='ee-v'>-46.95940079488846</span></li><li><span class='ee-k'>1:</span><span class='ee-v'>-7.288036926393182</span></li></ul></li><li><label class='ee-shut'>292: [-46.960972341565984, -7.288716690535517]<input type='checkbox' class='ee-toggle'></label><ul><li><span class='ee-k'>0:</span><span class='ee-v'>-46.960972341565984</span></li><li><span class='ee-k'>1:</span><span class='ee-v'>-7.288716690535517</span></li></ul></li><li><label class='ee-shut'>293: [-46.96129291105195, -7.289056377447]<input type='checkbox' class='ee-toggle'></label><ul><li><span class='ee-k'>0:</span><span class='ee-v'>-46.96129291105195</span></li><li><span class='ee-k'>1:</span><span class='ee-v'>-7.289056377447</span></li></ul></li><li><label class='ee-shut'>294: [-46.96188233142865, -7.2892019065986124]<input type='checkbox' class='ee-toggle'></label><ul><li><span class='ee-k'>0:</span><span class='ee-v'>-46.96188233142865</span></li><li><span class='ee-k'>1:</span><span class='ee-v'>-7.2892019065986124</span></li></ul></li><li><label class='ee-shut'>295: [-46.96251740731012, -7.289517777820534]<input type='checkbox' class='ee-toggle'></label><ul><li><span class='ee-k'>0:</span><span class='ee-v'>-46.96251740731012</span></li><li><span class='ee-k'>1:</span><span class='ee-v'>-7.289517777820534</span></li></ul></li><li><label class='ee-shut'>296: [-46.96328365879936, -7.2900260546998945]<input type='checkbox' class='ee-toggle'></label><ul><li><span class='ee-k'>0:</span><span class='ee-v'>-46.96328365879936</span></li><li><span class='ee-k'>1:</span><span class='ee-v'>-7.2900260546998945</span></li></ul></li><li><label class='ee-shut'>297: [-46.96406689241624, -7.290291930217622]<input type='checkbox' class='ee-toggle'></label><ul><li><span class='ee-k'>0:</span><span class='ee-v'>-46.96406689241624</span></li><li><span class='ee-k'>1:</span><span class='ee-v'>-7.290291930217622</span></li></ul></li><li><label class='ee-shut'>298: [-46.96520111674326, -7.2906639541382]<input type='checkbox' class='ee-toggle'></label><ul><li><span class='ee-k'>0:</span><span class='ee-v'>-46.96520111674326</span></li><li><span class='ee-k'>1:</span><span class='ee-v'>-7.2906639541382</span></li></ul></li><li><label class='ee-shut'>299: [-46.965543130554416, -7.2907746683958905]<input type='checkbox' class='ee-toggle'></label><ul><li><span class='ee-k'>0:</span><span class='ee-v'>-46.965543130554416</span></li><li><span class='ee-k'>1:</span><span class='ee-v'>-7.2907746683958905</span></li></ul></li><li><label class='ee-shut'>300: [-46.96597126246652, -7.291033068625326]<input type='checkbox' class='ee-toggle'></label><ul><li><span class='ee-k'>0:</span><span class='ee-v'>-46.96597126246652</span></li><li><span class='ee-k'>1:</span><span class='ee-v'>-7.291033068625326</span></li></ul></li><li><label class='ee-shut'>301: [-46.9664038446295, -7.291287003071447]<input type='checkbox' class='ee-toggle'></label><ul><li><span class='ee-k'>0:</span><span class='ee-v'>-46.9664038446295</span></li><li><span class='ee-k'>1:</span><span class='ee-v'>-7.291287003071447</span></li></ul></li><li><label class='ee-shut'>302: [-46.967777059885215, -7.29184195615577]<input type='checkbox' class='ee-toggle'></label><ul><li><span class='ee-k'>0:</span><span class='ee-v'>-46.967777059885215</span></li><li><span class='ee-k'>1:</span><span class='ee-v'>-7.29184195615577</span></li></ul></li><li><label class='ee-shut'>303: [-46.96991673800865, -7.2929590177066235]<input type='checkbox' class='ee-toggle'></label><ul><li><span class='ee-k'>0:</span><span class='ee-v'>-46.96991673800865</span></li><li><span class='ee-k'>1:</span><span class='ee-v'>-7.2929590177066235</span></li></ul></li><li><label class='ee-shut'>304: [-46.97146563366391, -7.293589524518444]<input type='checkbox' class='ee-toggle'></label><ul><li><span class='ee-k'>0:</span><span class='ee-v'>-46.97146563366391</span></li><li><span class='ee-k'>1:</span><span class='ee-v'>-7.293589524518444</span></li></ul></li><li><label class='ee-shut'>305: [-46.97279095603985, -7.29449024103944]<input type='checkbox' class='ee-toggle'></label><ul><li><span class='ee-k'>0:</span><span class='ee-v'>-46.97279095603985</span></li><li><span class='ee-k'>1:</span><span class='ee-v'>-7.29449024103944</span></li></ul></li><li><label class='ee-shut'>306: [-46.97385117954631, -7.295419049823145]<input type='checkbox' class='ee-toggle'></label><ul><li><span class='ee-k'>0:</span><span class='ee-v'>-46.97385117954631</span></li><li><span class='ee-k'>1:</span><span class='ee-v'>-7.295419049823145</span></li></ul></li><li><label class='ee-shut'>307: [-46.97446572499008, -7.2961747759545]<input type='checkbox' class='ee-toggle'></label><ul><li><span class='ee-k'>0:</span><span class='ee-v'>-46.97446572499008</span></li><li><span class='ee-k'>1:</span><span class='ee-v'>-7.2961747759545</span></li></ul></li><li><label class='ee-shut'>308: [-46.97483752451706, -7.296904635179197]<input type='checkbox' class='ee-toggle'></label><ul><li><span class='ee-k'>0:</span><span class='ee-v'>-46.97483752451706</span></li><li><span class='ee-k'>1:</span><span class='ee-v'>-7.296904635179197</span></li></ul></li><li><label class='ee-shut'>309: [-46.97531095022236, -7.298275744562932]<input type='checkbox' class='ee-toggle'></label><ul><li><span class='ee-k'>0:</span><span class='ee-v'>-46.97531095022236</span></li><li><span class='ee-k'>1:</span><span class='ee-v'>-7.298275744562932</span></li></ul></li><li><label class='ee-shut'>310: [-46.97558565330446, -7.29942341397726]<input type='checkbox' class='ee-toggle'></label><ul><li><span class='ee-k'>0:</span><span class='ee-v'>-46.97558565330446</span></li><li><span class='ee-k'>1:</span><span class='ee-v'>-7.29942341397726</span></li></ul></li><li><label class='ee-shut'>311: [-46.97562167761807, -7.300459855309929]<input type='checkbox' class='ee-toggle'></label><ul><li><span class='ee-k'>0:</span><span class='ee-v'>-46.97562167761807</span></li><li><span class='ee-k'>1:</span><span class='ee-v'>-7.300459855309929</span></li></ul></li><li><label class='ee-shut'>312: [-46.974957085030994, -7.301629562262984]<input type='checkbox' class='ee-toggle'></label><ul><li><span class='ee-k'>0:</span><span class='ee-v'>-46.974957085030994</span></li><li><span class='ee-k'>1:</span><span class='ee-v'>-7.301629562262984</span></li></ul></li><li><label class='ee-shut'>313: [-46.97456971888185, -7.302465964624239]<input type='checkbox' class='ee-toggle'></label><ul><li><span class='ee-k'>0:</span><span class='ee-v'>-46.97456971888185</span></li><li><span class='ee-k'>1:</span><span class='ee-v'>-7.302465964624239</span></li></ul></li><li><label class='ee-shut'>314: [-46.974398051246155, -7.303274468086472]<input type='checkbox' class='ee-toggle'></label><ul><li><span class='ee-k'>0:</span><span class='ee-v'>-46.974398051246155</span></li><li><span class='ee-k'>1:</span><span class='ee-v'>-7.303274468086472</span></li></ul></li><li><label class='ee-shut'>315: [-46.97454963166307, -7.304032211793242]<input type='checkbox' class='ee-toggle'></label><ul><li><span class='ee-k'>0:</span><span class='ee-v'>-46.97454963166307</span></li><li><span class='ee-k'>1:</span><span class='ee-v'>-7.304032211793242</span></li></ul></li><li><label class='ee-shut'>316: [-46.97489971373872, -7.304937172148204]<input type='checkbox' class='ee-toggle'></label><ul><li><span class='ee-k'>0:</span><span class='ee-v'>-46.97489971373872</span></li><li><span class='ee-k'>1:</span><span class='ee-v'>-7.304937172148204</span></li></ul></li><li><label class='ee-shut'>317: [-46.97529612548954, -7.306160593786266]<input type='checkbox' class='ee-toggle'></label><ul><li><span class='ee-k'>0:</span><span class='ee-v'>-46.97529612548954</span></li><li><span class='ee-k'>1:</span><span class='ee-v'>-7.306160593786266</span></li></ul></li><li><label class='ee-shut'>318: [-46.975813733597796, -7.30735647638954]<input type='checkbox' class='ee-toggle'></label><ul><li><span class='ee-k'>0:</span><span class='ee-v'>-46.975813733597796</span></li><li><span class='ee-k'>1:</span><span class='ee-v'>-7.30735647638954</span></li></ul></li><li><label class='ee-shut'>319: [-46.97616641875859, -7.30884933440525]<input type='checkbox' class='ee-toggle'></label><ul><li><span class='ee-k'>0:</span><span class='ee-v'>-46.97616641875859</span></li><li><span class='ee-k'>1:</span><span class='ee-v'>-7.30884933440525</span></li></ul></li></ul></li></ul></li><li><label class='ee-shut'>1: List (1 element)<input type='checkbox' class='ee-toggle'></label><ul><li><label class='ee-shut'>0: List (1805 elements)<input type='checkbox' class='ee-toggle'></label><ul><li><label class='ee-shut'>0: [-47.42248096651792, -7.119377310449717]<input type='checkbox' class='ee-toggle'></label><ul><li><span class='ee-k'>0:</span><span class='ee-v'>-47.42248096651792</span></li><li><span class='ee-k'>1:</span><span class='ee-v'>-7.119377310449717</span></li></ul></li><li><label class='ee-shut'>1: [-47.42136583935426, -7.120841206545368]<input type='checkbox' class='ee-toggle'></label><ul><li><span class='ee-k'>0:</span><span class='ee-v'>-47.42136583935426</span></li><li><span class='ee-k'>1:</span><span class='ee-v'>-7.120841206545368</span></li></ul></li><li><label class='ee-shut'>2: [-47.41828990508772, -7.121839775948344]<input type='checkbox' class='ee-toggle'></label><ul><li><span class='ee-k'>0:</span><span class='ee-v'>-47.41828990508772</span></li><li><span class='ee-k'>1:</span><span class='ee-v'>-7.121839775948344</span></li></ul></li><li><label class='ee-shut'>3: [-47.41566563544313, -7.120731924985361]<input type='checkbox' class='ee-toggle'></label><ul><li><span class='ee-k'>0:</span><span class='ee-v'>-47.41566563544313</span></li><li><span class='ee-k'>1:</span><span class='ee-v'>-7.120731924985361</span></li></ul></li><li><label class='ee-shut'>4: [-47.41171336935777, -7.121631867346752]<input type='checkbox' class='ee-toggle'></label><ul><li><span class='ee-k'>0:</span><span class='ee-v'>-47.41171336935777</span></li><li><span class='ee-k'>1:</span><span class='ee-v'>-7.121631867346752</span></li></ul></li><li><label class='ee-shut'>5: [-47.40852677593935, -7.122083635445914]<input type='checkbox' class='ee-toggle'></label><ul><li><span class='ee-k'>0:</span><span class='ee-v'>-47.40852677593935</span></li><li><span class='ee-k'>1:</span><span class='ee-v'>-7.122083635445914</span></li></ul></li><li><label class='ee-shut'>6: [-47.39399709157811, -7.120404940518041]<input type='checkbox' class='ee-toggle'></label><ul><li><span class='ee-k'>0:</span><span class='ee-v'>-47.39399709157811</span></li><li><span class='ee-k'>1:</span><span class='ee-v'>-7.120404940518041</span></li></ul></li><li><label class='ee-shut'>7: [-47.39079746107757, -7.119210117323467]<input type='checkbox' class='ee-toggle'></label><ul><li><span class='ee-k'>0:</span><span class='ee-v'>-47.39079746107757</span></li><li><span class='ee-k'>1:</span><span class='ee-v'>-7.119210117323467</span></li></ul></li><li><label class='ee-shut'>8: [-47.38682399719594, -7.11862945092952]<input type='checkbox' class='ee-toggle'></label><ul><li><span class='ee-k'>0:</span><span class='ee-v'>-47.38682399719594</span></li><li><span class='ee-k'>1:</span><span class='ee-v'>-7.11862945092952</span></li></ul></li><li><label class='ee-shut'>9: [-47.37879587682811, -7.1226503193738635]<input type='checkbox' class='ee-toggle'></label><ul><li><span class='ee-k'>0:</span><span class='ee-v'>-47.37879587682811</span></li><li><span class='ee-k'>1:</span><span class='ee-v'>-7.1226503193738635</span></li></ul></li><li><label class='ee-shut'>10: [-47.37843548442704, -7.123316183036867]<input type='checkbox' class='ee-toggle'></label><ul><li><span class='ee-k'>0:</span><span class='ee-v'>-47.37843548442704</span></li><li><span class='ee-k'>1:</span><span class='ee-v'>-7.123316183036867</span></li></ul></li><li><label class='ee-shut'>11: [-47.378479636844155, -7.124038311264507]<input type='checkbox' class='ee-toggle'></label><ul><li><span class='ee-k'>0:</span><span class='ee-v'>-47.378479636844155</span></li><li><span class='ee-k'>1:</span><span class='ee-v'>-7.124038311264507</span></li></ul></li><li><label class='ee-shut'>12: [-47.37846708589943, -7.125083688922336]<input type='checkbox' class='ee-toggle'></label><ul><li><span class='ee-k'>0:</span><span class='ee-v'>-47.37846708589943</span></li><li><span class='ee-k'>1:</span><span class='ee-v'>-7.125083688922336</span></li></ul></li><li><label class='ee-shut'>13: [-47.37847022363533, -7.125684848749799]<input type='checkbox' class='ee-toggle'></label><ul><li><span class='ee-k'>0:</span><span class='ee-v'>-47.37847022363533</span></li><li><span class='ee-k'>1:</span><span class='ee-v'>-7.125684848749799</span></li></ul></li><li><label class='ee-shut'>14: [-47.378514600206195, -7.126451817003443]<input type='checkbox' class='ee-toggle'></label><ul><li><span class='ee-k'>0:</span><span class='ee-v'>-47.378514600206195</span></li><li><span class='ee-k'>1:</span><span class='ee-v'>-7.126451817003443</span></li></ul></li><li><label class='ee-shut'>15: [-47.3786398857802, -7.127231827831598]<input type='checkbox' class='ee-toggle'></label><ul><li><span class='ee-k'>0:</span><span class='ee-v'>-47.3786398857802</span></li><li><span class='ee-k'>1:</span><span class='ee-v'>-7.127231827831598</span></li></ul></li><li><label class='ee-shut'>16: [-47.37882262246673, -7.1278365786705535]<input type='checkbox' class='ee-toggle'></label><ul><li><span class='ee-k'>0:</span><span class='ee-v'>-47.37882262246673</span></li><li><span class='ee-k'>1:</span><span class='ee-v'>-7.1278365786705535</span></li></ul></li><li><label class='ee-shut'>17: [-47.37920767154012, -7.128458183056904]<input type='checkbox' class='ee-toggle'></label><ul><li><span class='ee-k'>0:</span><span class='ee-v'>-47.37920767154012</span></li><li><span class='ee-k'>1:</span><span class='ee-v'>-7.128458183056904</span></li></ul></li><li><label class='ee-shut'>18: [-47.37948342341753, -7.128797771758146]<input type='checkbox' class='ee-toggle'></label><ul><li><span class='ee-k'>0:</span><span class='ee-v'>-47.37948342341753</span></li><li><span class='ee-k'>1:</span><span class='ee-v'>-7.128797771758146</span></li></ul></li><li><label class='ee-shut'>19: [-47.37975461945889, -7.129137355267312]<input type='checkbox' class='ee-toggle'></label><ul><li><span class='ee-k'>0:</span><span class='ee-v'>-47.37975461945889</span></li><li><span class='ee-k'>1:</span><span class='ee-v'>-7.129137355267312</span></li></ul></li><li><label class='ee-shut'>20: [-47.380423426330445, -7.129919035157165]<input type='checkbox' class='ee-toggle'></label><ul><li><span class='ee-k'>0:</span><span class='ee-v'>-47.380423426330445</span></li><li><span class='ee-k'>1:</span><span class='ee-v'>-7.129919035157165</span></li></ul></li><li><label class='ee-shut'>21: [-47.38127259635349, -7.130838875506087]<input type='checkbox' class='ee-toggle'></label><ul><li><span class='ee-k'>0:</span><span class='ee-v'>-47.38127259635349</span></li><li><span class='ee-k'>1:</span><span class='ee-v'>-7.130838875506087</span></li></ul></li><li><label class='ee-shut'>22: [-47.38194097450428, -7.131535293867454]<input type='checkbox' class='ee-toggle'></label><ul><li><span class='ee-k'>0:</span><span class='ee-v'>-47.38194097450428</span></li><li><span class='ee-k'>1:</span><span class='ee-v'>-7.131535293867454</span></li></ul></li><li><label class='ee-shut'>23: [-47.38229287390342, -7.131838577597711]<input type='checkbox' class='ee-toggle'></label><ul><li><span class='ee-k'>0:</span><span class='ee-v'>-47.38229287390342</span></li><li><span class='ee-k'>1:</span><span class='ee-v'>-7.131838577597711</span></li></ul></li><li><label class='ee-shut'>24: [-47.382649258528495, -7.132137305893481]<input type='checkbox' class='ee-toggle'></label><ul><li><span class='ee-k'>0:</span><span class='ee-v'>-47.382649258528495</span></li><li><span class='ee-k'>1:</span><span class='ee-v'>-7.132137305893481</span></li></ul></li><li><label class='ee-shut'>25: [-47.38347403308372, -7.132675949921584]<input type='checkbox' class='ee-toggle'></label><ul><li><span class='ee-k'>0:</span><span class='ee-v'>-47.38347403308372</span></li><li><span class='ee-k'>1:</span><span class='ee-v'>-7.132675949921584</span></li></ul></li><li><label class='ee-shut'>26: [-47.38464408631878, -7.133109563694532]<input type='checkbox' class='ee-toggle'></label><ul><li><span class='ee-k'>0:</span><span class='ee-v'>-47.38464408631878</span></li><li><span class='ee-k'>1:</span><span class='ee-v'>-7.133109563694532</span></li></ul></li><li><label class='ee-shut'>27: [-47.385755586596204, -7.133507597444432]<input type='checkbox' class='ee-toggle'></label><ul><li><span class='ee-k'>0:</span><span class='ee-v'>-47.385755586596204</span></li><li><span class='ee-k'>1:</span><span class='ee-v'>-7.133507597444432</span></li></ul></li><li><label class='ee-shut'>28: [-47.38740629359016, -7.133943198692856]<input type='checkbox' class='ee-toggle'></label><ul><li><span class='ee-k'>0:</span><span class='ee-v'>-47.38740629359016</span></li><li><span class='ee-k'>1:</span><span class='ee-v'>-7.133943198692856</span></li></ul></li><li><label class='ee-shut'>29: [-47.38819475408619, -7.1344012441479485]<input type='checkbox' class='ee-toggle'></label><ul><li><span class='ee-k'>0:</span><span class='ee-v'>-47.38819475408619</span></li><li><span class='ee-k'>1:</span><span class='ee-v'>-7.1344012441479485</span></li></ul></li><li><label class='ee-shut'>30: [-47.38894227829481, -7.134778694522737]<input type='checkbox' class='ee-toggle'></label><ul><li><span class='ee-k'>0:</span><span class='ee-v'>-47.38894227829481</span></li><li><span class='ee-k'>1:</span><span class='ee-v'>-7.134778694522737</span></li></ul></li><li><label class='ee-shut'>31: [-47.38986937569427, -7.1351328575643445]<input type='checkbox' class='ee-toggle'></label><ul><li><span class='ee-k'>0:</span><span class='ee-v'>-47.38986937569427</span></li><li><span class='ee-k'>1:</span><span class='ee-v'>-7.1351328575643445</span></li></ul></li><li><label class='ee-shut'>32: [-47.39111534534293, -7.135467359565273]<input type='checkbox' class='ee-toggle'></label><ul><li><span class='ee-k'>0:</span><span class='ee-v'>-47.39111534534293</span></li><li><span class='ee-k'>1:</span><span class='ee-v'>-7.135467359565273</span></li></ul></li><li><label class='ee-shut'>33: [-47.39198269954258, -7.135566073331291]<input type='checkbox' class='ee-toggle'></label><ul><li><span class='ee-k'>0:</span><span class='ee-v'>-47.39198269954258</span></li><li><span class='ee-k'>1:</span><span class='ee-v'>-7.135566073331291</span></li></ul></li><li><label class='ee-shut'>34: [-47.3927871467053, -7.13564263723704]<input type='checkbox' class='ee-toggle'></label><ul><li><span class='ee-k'>0:</span><span class='ee-v'>-47.3927871467053</span></li><li><span class='ee-k'>1:</span><span class='ee-v'>-7.13564263723704</span></li></ul></li><li><label class='ee-shut'>35: [-47.39349311259788, -7.135800479191057]<input type='checkbox' class='ee-toggle'></label><ul><li><span class='ee-k'>0:</span><span class='ee-v'>-47.39349311259788</span></li><li><span class='ee-k'>1:</span><span class='ee-v'>-7.135800479191057</span></li></ul></li><li><label class='ee-shut'>36: [-47.39429997453626, -7.136339164454454]<input type='checkbox' class='ee-toggle'></label><ul><li><span class='ee-k'>0:</span><span class='ee-v'>-47.39429997453626</span></li><li><span class='ee-k'>1:</span><span class='ee-v'>-7.136339164454454</span></li></ul></li><li><label class='ee-shut'>37: [-47.39512882020113, -7.136796968639402]<input type='checkbox' class='ee-toggle'></label><ul><li><span class='ee-k'>0:</span><span class='ee-v'>-47.39512882020113</span></li><li><span class='ee-k'>1:</span><span class='ee-v'>-7.136796968639402</span></li></ul></li><li><label class='ee-shut'>38: [-47.39644008389017, -7.13761116611192]<input type='checkbox' class='ee-toggle'></label><ul><li><span class='ee-k'>0:</span><span class='ee-v'>-47.39644008389017</span></li><li><span class='ee-k'>1:</span><span class='ee-v'>-7.13761116611192</span></li></ul></li><li><label class='ee-shut'>39: [-47.397246468453474, -7.138069050313849]<input type='checkbox' class='ee-toggle'></label><ul><li><span class='ee-k'>0:</span><span class='ee-v'>-47.397246468453474</span></li><li><span class='ee-k'>1:</span><span class='ee-v'>-7.138069050313849</span></li></ul></li><li><label class='ee-shut'>40: [-47.397976410480446, -7.138509468604398]<input type='checkbox' class='ee-toggle'></label><ul><li><span class='ee-k'>0:</span><span class='ee-v'>-47.397976410480446</span></li><li><span class='ee-k'>1:</span><span class='ee-v'>-7.138509468604398</span></li></ul></li><li><label class='ee-shut'>41: [-47.398661744722965, -7.139008334514123]<input type='checkbox' class='ee-toggle'></label><ul><li><span class='ee-k'>0:</span><span class='ee-v'>-47.398661744722965</span></li><li><span class='ee-k'>1:</span><span class='ee-v'>-7.139008334514123</span></li></ul></li><li><label class='ee-shut'>42: [-47.39920859860617, -7.13964708356731]<input type='checkbox' class='ee-toggle'></label><ul><li><span class='ee-k'>0:</span><span class='ee-v'>-47.39920859860617</span></li><li><span class='ee-k'>1:</span><span class='ee-v'>-7.13964708356731</span></li></ul></li><li><label class='ee-shut'>43: [-47.39959312620547, -7.140169971887504]<input type='checkbox' class='ee-toggle'></label><ul><li><span class='ee-k'>0:</span><span class='ee-v'>-47.39959312620547</span></li><li><span class='ee-k'>1:</span><span class='ee-v'>-7.140169971887504</span></li></ul></li><li><label class='ee-shut'>44: [-47.3999197340008, -7.140791880425388]<input type='checkbox' class='ee-toggle'></label><ul><li><span class='ee-k'>0:</span><span class='ee-v'>-47.3999197340008</span></li><li><span class='ee-k'>1:</span><span class='ee-v'>-7.140791880425388</span></li></ul></li><li><label class='ee-shut'>45: [-47.40024253214318, -7.1415304848378405]<input type='checkbox' class='ee-toggle'></label><ul><li><span class='ee-k'>0:</span><span class='ee-v'>-47.40024253214318</span></li><li><span class='ee-k'>1:</span><span class='ee-v'>-7.1415304848378405</span></li></ul></li><li><label class='ee-shut'>46: [-47.40077632314423, -7.143115854444781]<input type='checkbox' class='ee-toggle'></label><ul><li><span class='ee-k'>0:</span><span class='ee-v'>-47.40077632314423</span></li><li><span class='ee-k'>1:</span><span class='ee-v'>-7.143115854444781</span></li></ul></li><li><label class='ee-shut'>47: [-47.40054343353702, -7.144969974440069]<input type='checkbox' class='ee-toggle'></label><ul><li><span class='ee-k'>0:</span><span class='ee-v'>-47.40054343353702</span></li><li><span class='ee-k'>1:</span><span class='ee-v'>-7.144969974440069</span></li></ul></li><li><label class='ee-shut'>48: [-47.39866630368331, -7.149345013135522]<input type='checkbox' class='ee-toggle'></label><ul><li><span class='ee-k'>0:</span><span class='ee-v'>-47.39866630368331</span></li><li><span class='ee-k'>1:</span><span class='ee-v'>-7.149345013135522</span></li></ul></li><li><label class='ee-shut'>49: [-47.39129416543796, -7.154309494550371]<input type='checkbox' class='ee-toggle'></label><ul><li><span class='ee-k'>0:</span><span class='ee-v'>-47.39129416543796</span></li><li><span class='ee-k'>1:</span><span class='ee-v'>-7.154309494550371</span></li></ul></li><li><label class='ee-shut'>50: [-47.39116204923648, -7.15481263160156]<input type='checkbox' class='ee-toggle'></label><ul><li><span class='ee-k'>0:</span><span class='ee-v'>-47.39116204923648</span></li><li><span class='ee-k'>1:</span><span class='ee-v'>-7.15481263160156</span></li></ul></li><li><label class='ee-shut'>51: [-47.391519765090536, -7.155371583315649]<input type='checkbox' class='ee-toggle'></label><ul><li><span class='ee-k'>0:</span><span class='ee-v'>-47.391519765090536</span></li><li><span class='ee-k'>1:</span><span class='ee-v'>-7.155371583315649</span></li></ul></li><li><label class='ee-shut'>52: [-47.39187187886149, -7.155701723133768]<input type='checkbox' class='ee-toggle'></label><ul><li><span class='ee-k'>0:</span><span class='ee-v'>-47.39187187886149</span></li><li><span class='ee-k'>1:</span><span class='ee-v'>-7.155701723133768</span></li></ul></li><li><label class='ee-shut'>53: [-47.3923142662694, -7.156116672049346]<input type='checkbox' class='ee-toggle'></label><ul><li><span class='ee-k'>0:</span><span class='ee-v'>-47.3923142662694</span></li><li><span class='ee-k'>1:</span><span class='ee-v'>-7.156116672049346</span></li></ul></li><li><label class='ee-shut'>54: [-47.392774442844654, -7.156509120068212]<input type='checkbox' class='ee-toggle'></label><ul><li><span class='ee-k'>0:</span><span class='ee-v'>-47.392774442844654</span></li><li><span class='ee-k'>1:</span><span class='ee-v'>-7.156509120068212</span></li></ul></li><li><label class='ee-shut'>55: [-47.39337817857442, -7.156860404608248]<input type='checkbox' class='ee-toggle'></label><ul><li><span class='ee-k'>0:</span><span class='ee-v'>-47.39337817857442</span></li><li><span class='ee-k'>1:</span><span class='ee-v'>-7.156860404608248</span></li></ul></li><li><label class='ee-shut'>56: [-47.39387827047057, -7.157149390443005]<input type='checkbox' class='ee-toggle'></label><ul><li><span class='ee-k'>0:</span><span class='ee-v'>-47.39387827047057</span></li><li><span class='ee-k'>1:</span><span class='ee-v'>-7.157149390443005</span></li></ul></li><li><label class='ee-shut'>57: [-47.39441946918687, -7.157559373416252]<input type='checkbox' class='ee-toggle'></label><ul><li><span class='ee-k'>0:</span><span class='ee-v'>-47.39441946918687</span></li><li><span class='ee-k'>1:</span><span class='ee-v'>-7.157559373416252</span></li></ul></li><li><label class='ee-shut'>58: [-47.39509115530201, -7.158013487710282]<input type='checkbox' class='ee-toggle'></label><ul><li><span class='ee-k'>0:</span><span class='ee-v'>-47.39509115530201</span></li><li><span class='ee-k'>1:</span><span class='ee-v'>-7.158013487710282</span></li></ul></li><li><label class='ee-shut'>59: [-47.39571756199483, -7.1584050302360795]<input type='checkbox' class='ee-toggle'></label><ul><li><span class='ee-k'>0:</span><span class='ee-v'>-47.39571756199483</span></li><li><span class='ee-k'>1:</span><span class='ee-v'>-7.1584050302360795</span></li></ul></li><li><label class='ee-shut'>60: [-47.39615549814613, -7.158837906497599]<input type='checkbox' class='ee-toggle'></label><ul><li><span class='ee-k'>0:</span><span class='ee-v'>-47.39615549814613</span></li><li><span class='ee-k'>1:</span><span class='ee-v'>-7.158837906497599</span></li></ul></li><li><label class='ee-shut'>61: [-47.39655330580529, -7.159315863809208]<input type='checkbox' class='ee-toggle'></label><ul><li><span class='ee-k'>0:</span><span class='ee-v'>-47.39655330580529</span></li><li><span class='ee-k'>1:</span><span class='ee-v'>-7.159315863809208</span></li></ul></li><li><label class='ee-shut'>62: [-47.39669963522017, -7.159813091984004]<input type='checkbox' class='ee-toggle'></label><ul><li><span class='ee-k'>0:</span><span class='ee-v'>-47.39669963522017</span></li><li><span class='ee-k'>1:</span><span class='ee-v'>-7.159813091984004</span></li></ul></li><li><label class='ee-shut'>63: [-47.396810017794074, -7.160310549171647]<input type='checkbox' class='ee-toggle'></label><ul><li><span class='ee-k'>0:</span><span class='ee-v'>-47.396810017794074</span></li><li><span class='ee-k'>1:</span><span class='ee-v'>-7.160310549171647</span></li></ul></li><li><label class='ee-shut'>64: [-47.396891926747955, -7.160512015034957]<input type='checkbox' class='ee-toggle'></label><ul><li><span class='ee-k'>0:</span><span class='ee-v'>-47.396891926747955</span></li><li><span class='ee-k'>1:</span><span class='ee-v'>-7.160512015034957</span></li></ul></li><li><label class='ee-shut'>65: [-47.39653985368364, -7.161038721429277]<input type='checkbox' class='ee-toggle'></label><ul><li><span class='ee-k'>0:</span><span class='ee-v'>-47.39653985368364</span></li><li><span class='ee-k'>1:</span><span class='ee-v'>-7.161038721429277</span></li></ul></li><li><label class='ee-shut'>66: [-47.395034433809045, -7.163500673306929]<input type='checkbox' class='ee-toggle'></label><ul><li><span class='ee-k'>0:</span><span class='ee-v'>-47.395034433809045</span></li><li><span class='ee-k'>1:</span><span class='ee-v'>-7.163500673306929</span></li></ul></li><li><label class='ee-shut'>67: [-47.39412510481129, -7.16485577408722]<input type='checkbox' class='ee-toggle'></label><ul><li><span class='ee-k'>0:</span><span class='ee-v'>-47.39412510481129</span></li><li><span class='ee-k'>1:</span><span class='ee-v'>-7.16485577408722</span></li></ul></li><li><label class='ee-shut'>68: [-47.393818934748815, -7.165566235187926]<input type='checkbox' class='ee-toggle'></label><ul><li><span class='ee-k'>0:</span><span class='ee-v'>-47.393818934748815</span></li><li><span class='ee-k'>1:</span><span class='ee-v'>-7.165566235187926</span></li></ul></li><li><label class='ee-shut'>69: [-47.39371849761101, -7.166127547918322]<input type='checkbox' class='ee-toggle'></label><ul><li><span class='ee-k'>0:</span><span class='ee-v'>-47.39371849761101</span></li><li><span class='ee-k'>1:</span><span class='ee-v'>-7.166127547918322</span></li></ul></li><li><label class='ee-shut'>70: [-47.39371991747991, -7.1663877739023105]<input type='checkbox' class='ee-toggle'></label><ul><li><span class='ee-k'>0:</span><span class='ee-v'>-47.39371991747991</span></li><li><span class='ee-k'>1:</span><span class='ee-v'>-7.1663877739023105</span></li></ul></li><li><label class='ee-shut'>71: [-47.39372118788896, -7.166643482809342]<input type='checkbox' class='ee-toggle'></label><ul><li><span class='ee-k'>0:</span><span class='ee-v'>-47.39372118788896</span></li><li><span class='ee-k'>1:</span><span class='ee-v'>-7.166643482809342</span></li></ul></li><li><label class='ee-shut'>72: [-47.393849499362766, -7.167122878281594]<input type='checkbox' class='ee-toggle'></label><ul><li><span class='ee-k'>0:</span><span class='ee-v'>-47.393849499362766</span></li><li><span class='ee-k'>1:</span><span class='ee-v'>-7.167122878281594</span></li></ul></li><li><label class='ee-shut'>73: [-47.394202376232556, -7.167601093622911]<input type='checkbox' class='ee-toggle'></label><ul><li><span class='ee-k'>0:</span><span class='ee-v'>-47.394202376232556</span></li><li><span class='ee-k'>1:</span><span class='ee-v'>-7.167601093622911</span></li></ul></li><li><label class='ee-shut'>74: [-47.39482907113512, -7.168050960814009]<input type='checkbox' class='ee-toggle'></label><ul><li><span class='ee-k'>0:</span><span class='ee-v'>-47.39482907113512</span></li><li><span class='ee-k'>1:</span><span class='ee-v'>-7.168050960814009</span></li></ul></li><li><label class='ee-shut'>75: [-47.39518613965357, -7.168466330817228]<input type='checkbox' class='ee-toggle'></label><ul><li><span class='ee-k'>0:</span><span class='ee-v'>-47.39518613965357</span></li><li><span class='ee-k'>1:</span><span class='ee-v'>-7.168466330817228</span></li></ul></li><li><label class='ee-shut'>76: [-47.39562489338483, -7.169047301091714]<input type='checkbox' class='ee-toggle'></label><ul><li><span class='ee-k'>0:</span><span class='ee-v'>-47.39562489338483</span></li><li><span class='ee-k'>1:</span><span class='ee-v'>-7.169047301091714</span></li></ul></li><li><label class='ee-shut'>77: [-47.3958391524298, -7.169647354521388]<input type='checkbox' class='ee-toggle'></label><ul><li><span class='ee-k'>0:</span><span class='ee-v'>-47.3958391524298</span></li><li><span class='ee-k'>1:</span><span class='ee-v'>-7.169647354521388</span></li></ul></li><li><label class='ee-shut'>78: [-47.39596313461072, -7.170167135707431]<input type='checkbox' class='ee-toggle'></label><ul><li><span class='ee-k'>0:</span><span class='ee-v'>-47.39596313461072</span></li><li><span class='ee-k'>1:</span><span class='ee-v'>-7.170167135707431</span></li></ul></li><li><label class='ee-shut'>79: [-47.39594833744518, -7.170768382710334]<input type='checkbox' class='ee-toggle'></label><ul><li><span class='ee-k'>0:</span><span class='ee-v'>-47.39594833744518</span></li><li><span class='ee-k'>1:</span><span class='ee-v'>-7.170768382710334</span></li></ul></li><li><label class='ee-shut'>80: [-47.39566188607626, -7.171828642458138]<input type='checkbox' class='ee-toggle'></label><ul><li><span class='ee-k'>0:</span><span class='ee-v'>-47.39566188607626</span></li><li><span class='ee-k'>1:</span><span class='ee-v'>-7.171828642458138</span></li></ul></li><li><label class='ee-shut'>81: [-47.39531116652736, -7.172620095195263]<input type='checkbox' class='ee-toggle'></label><ul><li><span class='ee-k'>0:</span><span class='ee-v'>-47.39531116652736</span></li><li><span class='ee-k'>1:</span><span class='ee-v'>-7.172620095195263</span></li></ul></li><li><label class='ee-shut'>82: [-47.39487936548494, -7.173371559539119]<input type='checkbox' class='ee-toggle'></label><ul><li><span class='ee-k'>0:</span><span class='ee-v'>-47.39487936548494</span></li><li><span class='ee-k'>1:</span><span class='ee-v'>-7.173371559539119</span></li></ul></li><li><label class='ee-shut'>83: [-47.394505634042964, -7.174059955551197]<input type='checkbox' class='ee-toggle'></label><ul><li><span class='ee-k'>0:</span><span class='ee-v'>-47.394505634042964</span></li><li><span class='ee-k'>1:</span><span class='ee-v'>-7.174059955551197</span></li></ul></li><li><label class='ee-shut'>84: [-47.39394791903649, -7.17478965289764]<input type='checkbox' class='ee-toggle'></label><ul><li><span class='ee-k'>0:</span><span class='ee-v'>-47.39394791903649</span></li><li><span class='ee-k'>1:</span><span class='ee-v'>-7.17478965289764</span></li></ul></li><li><label class='ee-shut'>85: [-47.3934527586205, -7.175438274337466]<input type='checkbox' class='ee-toggle'></label><ul><li><span class='ee-k'>0:</span><span class='ee-v'>-47.3934527586205</span></li><li><span class='ee-k'>1:</span><span class='ee-v'>-7.175438274337466</span></li></ul></li><li><label class='ee-shut'>86: [-47.39302119721151, -7.176248106238421]<input type='checkbox' class='ee-toggle'></label><ul><li><span class='ee-k'>0:</span><span class='ee-v'>-47.39302119721151</span></li><li><span class='ee-k'>1:</span><span class='ee-v'>-7.176248106238421</span></li></ul></li><li><label class='ee-shut'>87: [-47.392465142160816, -7.177291877012402]<input type='checkbox' class='ee-toggle'></label><ul><li><span class='ee-k'>0:</span><span class='ee-v'>-47.392465142160816</span></li><li><span class='ee-k'>1:</span><span class='ee-v'>-7.177291877012402</span></li></ul></li><li><label class='ee-shut'>88: [-47.39221786734088, -7.178105163749413]<input type='checkbox' class='ee-toggle'></label><ul><li><span class='ee-k'>0:</span><span class='ee-v'>-47.39221786734088</span></li><li><span class='ee-k'>1:</span><span class='ee-v'>-7.178105163749413</span></li></ul></li><li><label class='ee-shut'>89: [-47.3921734043295, -7.178190647011074]<input type='checkbox' class='ee-toggle'></label><ul><li><span class='ee-k'>0:</span><span class='ee-v'>-47.3921734043295</span></li><li><span class='ee-k'>1:</span><span class='ee-v'>-7.178190647011074</span></li></ul></li><li><label class='ee-shut'>90: [-47.3920330658642, -7.177980537821889]<input type='checkbox' class='ee-toggle'></label><ul><li><span class='ee-k'>0:</span><span class='ee-v'>-47.3920330658642</span></li><li><span class='ee-k'>1:</span><span class='ee-v'>-7.177980537821889</span></li></ul></li><li><label class='ee-shut'>91: [-47.39184288468321, -7.177689920563018]<input type='checkbox' class='ee-toggle'></label><ul><li><span class='ee-k'>0:</span><span class='ee-v'>-47.39184288468321</span></li><li><span class='ee-k'>1:</span><span class='ee-v'>-7.177689920563018</span></li></ul></li><li><label class='ee-shut'>92: [-47.39158926104047, -7.177296448074931]<input type='checkbox' class='ee-toggle'></label><ul><li><span class='ee-k'>0:</span><span class='ee-v'>-47.39158926104047</span></li><li><span class='ee-k'>1:</span><span class='ee-v'>-7.177296448074931</span></li></ul></li><li><label class='ee-shut'>93: [-47.391150690845706, -7.176760336385193]<input type='checkbox' class='ee-toggle'></label><ul><li><span class='ee-k'>0:</span><span class='ee-v'>-47.391150690845706</span></li><li><span class='ee-k'>1:</span><span class='ee-v'>-7.176760336385193</span></li></ul></li><li><label class='ee-shut'>94: [-47.39056581180404, -7.176574948279578]<input type='checkbox' class='ee-toggle'></label><ul><li><span class='ee-k'>0:</span><span class='ee-v'>-47.39056581180404</span></li><li><span class='ee-k'>1:</span><span class='ee-v'>-7.176574948279578</span></li></ul></li><li><label class='ee-shut'>95: [-47.389962557109016, -7.176326848042298]<input type='checkbox' class='ee-toggle'></label><ul><li><span class='ee-k'>0:</span><span class='ee-v'>-47.389962557109016</span></li><li><span class='ee-k'>1:</span><span class='ee-v'>-7.176326848042298</span></li></ul></li><li><label class='ee-shut'>96: [-47.38925559307081, -7.175998509987145]<input type='checkbox' class='ee-toggle'></label><ul><li><span class='ee-k'>0:</span><span class='ee-v'>-47.38925559307081</span></li><li><span class='ee-k'>1:</span><span class='ee-v'>-7.175998509987145</span></li></ul></li><li><label class='ee-shut'>97: [-47.38875128648006, -7.175772350514717]<input type='checkbox' class='ee-toggle'></label><ul><li><span class='ee-k'>0:</span><span class='ee-v'>-47.38875128648006</span></li><li><span class='ee-k'>1:</span><span class='ee-v'>-7.175772350514717</span></li></ul></li><li><label class='ee-shut'>98: [-47.38750029251661, -7.175343701400857]<input type='checkbox' class='ee-toggle'></label><ul><li><span class='ee-k'>0:</span><span class='ee-v'>-47.38750029251661</span></li><li><span class='ee-k'>1:</span><span class='ee-v'>-7.175343701400857</span></li></ul></li><li><label class='ee-shut'>99: [-47.38670773297225, -7.174975441299819]<input type='checkbox' class='ee-toggle'></label><ul><li><span class='ee-k'>0:</span><span class='ee-v'>-47.38670773297225</span></li><li><span class='ee-k'>1:</span><span class='ee-v'>-7.174975441299819</span></li></ul></li><li><label class='ee-shut'>100: [-47.38577209938388, -7.1747290326259865]<input type='checkbox' class='ee-toggle'></label><ul><li><span class='ee-k'>0:</span><span class='ee-v'>-47.38577209938388</span></li><li><span class='ee-k'>1:</span><span class='ee-v'>-7.1747290326259865</span></li></ul></li><li><label class='ee-shut'>101: [-47.38489491150747, -7.174482378718804]<input type='checkbox' class='ee-toggle'></label><ul><li><span class='ee-k'>0:</span><span class='ee-v'>-47.38489491150747</span></li><li><span class='ee-k'>1:</span><span class='ee-v'>-7.174482378718804</span></li></ul></li><li><label class='ee-shut'>102: [-47.38400025491269, -7.174343419937927]<input type='checkbox' class='ee-toggle'></label><ul><li><span class='ee-k'>0:</span><span class='ee-v'>-47.38400025491269</span></li><li><span class='ee-k'>1:</span><span class='ee-v'>-7.174343419937927</span></li></ul></li><li><label class='ee-shut'>103: [-47.383420014021326, -7.174202899741325]<input type='checkbox' class='ee-toggle'></label><ul><li><span class='ee-k'>0:</span><span class='ee-v'>-47.383420014021326</span></li><li><span class='ee-k'>1:</span><span class='ee-v'>-7.174202899741325</span></li></ul></li><li><label class='ee-shut'>104: [-47.38273181757995, -7.174018055761381]<input type='checkbox' class='ee-toggle'></label><ul><li><span class='ee-k'>0:</span><span class='ee-v'>-47.38273181757995</span></li><li><span class='ee-k'>1:</span><span class='ee-v'>-7.174018055761381</span></li></ul></li><li><label class='ee-shut'>105: [-47.38227113227905, -7.173540381009784]<input type='checkbox' class='ee-toggle'></label><ul><li><span class='ee-k'>0:</span><span class='ee-v'>-47.38227113227905</span></li><li><span class='ee-k'>1:</span><span class='ee-v'>-7.173540381009784</span></li></ul></li><li><label class='ee-shut'>106: [-47.372328991743494, -7.176777271080084]<input type='checkbox' class='ee-toggle'></label><ul><li><span class='ee-k'>0:</span><span class='ee-v'>-47.372328991743494</span></li><li><span class='ee-k'>1:</span><span class='ee-v'>-7.176777271080084</span></li></ul></li><li><label class='ee-shut'>107: [-47.371598737896754, -7.17715787187349]<input type='checkbox' class='ee-toggle'></label><ul><li><span class='ee-k'>0:</span><span class='ee-v'>-47.371598737896754</span></li><li><span class='ee-k'>1:</span><span class='ee-v'>-7.17715787187349</span></li></ul></li><li><label class='ee-shut'>108: [-47.370885973441894, -7.17744422875278]<input type='checkbox' class='ee-toggle'></label><ul><li><span class='ee-k'>0:</span><span class='ee-v'>-47.370885973441894</span></li><li><span class='ee-k'>1:</span><span class='ee-v'>-7.17744422875278</span></li></ul></li><li><label class='ee-shut'>109: [-47.37028578585729, -7.177783807417572]<input type='checkbox' class='ee-toggle'></label><ul><li><span class='ee-k'>0:</span><span class='ee-v'>-47.37028578585729</span></li><li><span class='ee-k'>1:</span><span class='ee-v'>-7.177783807417572</span></li></ul></li><li><label class='ee-shut'>110: [-47.36968642686461, -7.178293878134536]<input type='checkbox' class='ee-toggle'></label><ul><li><span class='ee-k'>0:</span><span class='ee-v'>-47.36968642686461</span></li><li><span class='ee-k'>1:</span><span class='ee-v'>-7.178293878134536</span></li></ul></li><li><label class='ee-shut'>111: [-47.36918081646861, -7.178668900777689]<input type='checkbox' class='ee-toggle'></label><ul><li><span class='ee-k'>0:</span><span class='ee-v'>-47.36918081646861</span></li><li><span class='ee-k'>1:</span><span class='ee-v'>-7.178668900777689</span></li></ul></li><li><label class='ee-shut'>112: [-47.36886426160387, -7.179141571641267]<input type='checkbox' class='ee-toggle'></label><ul><li><span class='ee-k'>0:</span><span class='ee-v'>-47.36886426160387</span></li><li><span class='ee-k'>1:</span><span class='ee-v'>-7.179141571641267</span></li></ul></li><li><label class='ee-shut'>113: [-47.36845449099718, -7.179816671208366]<input type='checkbox' class='ee-toggle'></label><ul><li><span class='ee-k'>0:</span><span class='ee-v'>-47.36845449099718</span></li><li><span class='ee-k'>1:</span><span class='ee-v'>-7.179816671208366</span></li></ul></li><li><label class='ee-shut'>114: [-47.368175511220265, -7.180589814577142]<input type='checkbox' class='ee-toggle'></label><ul><li><span class='ee-k'>0:</span><span class='ee-v'>-47.368175511220265</span></li><li><span class='ee-k'>1:</span><span class='ee-v'>-7.180589814577142</span></li></ul></li><li><label class='ee-shut'>115: [-47.36777157207623, -7.181529564995909]<input type='checkbox' class='ee-toggle'></label><ul><li><span class='ee-k'>0:</span><span class='ee-v'>-47.36777157207623</span></li><li><span class='ee-k'>1:</span><span class='ee-v'>-7.181529564995909</span></li></ul></li><li><label class='ee-shut'>116: [-47.36747429638696, -7.182244460635365]<input type='checkbox' class='ee-toggle'></label><ul><li><span class='ee-k'>0:</span><span class='ee-v'>-47.36747429638696</span></li><li><span class='ee-k'>1:</span><span class='ee-v'>-7.182244460635365</span></li></ul></li><li><label class='ee-shut'>117: [-47.36704197990718, -7.18290171470824]<input type='checkbox' class='ee-toggle'></label><ul><li><span class='ee-k'>0:</span><span class='ee-v'>-47.36704197990718</span></li><li><span class='ee-k'>1:</span><span class='ee-v'>-7.18290171470824</span></li></ul></li><li><label class='ee-shut'>118: [-47.3665959985928, -7.183523172975076]<input type='checkbox' class='ee-toggle'></label><ul><li><span class='ee-k'>0:</span><span class='ee-v'>-47.3665959985928</span></li><li><span class='ee-k'>1:</span><span class='ee-v'>-7.183523172975076</span></li></ul></li><li><label class='ee-shut'>119: [-47.36605516456504, -7.184050870599473]<input type='checkbox' class='ee-toggle'></label><ul><li><span class='ee-k'>0:</span><span class='ee-v'>-47.36605516456504</span></li><li><span class='ee-k'>1:</span><span class='ee-v'>-7.184050870599473</span></li></ul></li><li><label class='ee-shut'>120: [-47.36545600382825, -7.184601317957719]<input type='checkbox' class='ee-toggle'></label><ul><li><span class='ee-k'>0:</span><span class='ee-v'>-47.36545600382825</span></li><li><span class='ee-k'>1:</span><span class='ee-v'>-7.184601317957719</span></li></ul></li><li><label class='ee-shut'>121: [-47.36459626283511, -7.185130674404126]<input type='checkbox' class='ee-toggle'></label><ul><li><span class='ee-k'>0:</span><span class='ee-v'>-47.36459626283511</span></li><li><span class='ee-k'>1:</span><span class='ee-v'>-7.185130674404126</span></li></ul></li><li><label class='ee-shut'>122: [-47.36397896997334, -7.1856408082125585]<input type='checkbox' class='ee-toggle'></label><ul><li><span class='ee-k'>0:</span><span class='ee-v'>-47.36397896997334</span></li><li><span class='ee-k'>1:</span><span class='ee-v'>-7.1856408082125585</span></li></ul></li><li><label class='ee-shut'>123: [-47.36368029697197, -7.186091043471578]<input type='checkbox' class='ee-toggle'></label><ul><li><span class='ee-k'>0:</span><span class='ee-v'>-47.36368029697197</span></li><li><span class='ee-k'>1:</span><span class='ee-v'>-7.186091043471578</span></li></ul></li><li><label class='ee-shut'>124: [-47.363270119199015, -7.186694323873613]<input type='checkbox' class='ee-toggle'></label><ul><li><span class='ee-k'>0:</span><span class='ee-v'>-47.363270119199015</span></li><li><span class='ee-k'>1:</span><span class='ee-v'>-7.186694323873613</span></li></ul></li><li><label class='ee-shut'>125: [-47.362784885771156, -7.187540340704098]<input type='checkbox' class='ee-toggle'></label><ul><li><span class='ee-k'>0:</span><span class='ee-v'>-47.362784885771156</span></li><li><span class='ee-k'>1:</span><span class='ee-v'>-7.187540340704098</span></li></ul></li><li><label class='ee-shut'>126: [-47.362227138072036, -7.188274474347924]<input type='checkbox' class='ee-toggle'></label><ul><li><span class='ee-k'>0:</span><span class='ee-v'>-47.362227138072036</span></li><li><span class='ee-k'>1:</span><span class='ee-v'>-7.188274474347924</span></li></ul></li><li><label class='ee-shut'>127: [-47.36147604034487, -7.188973757894005]<input type='checkbox' class='ee-toggle'></label><ul><li><span class='ee-k'>0:</span><span class='ee-v'>-47.36147604034487</span></li><li><span class='ee-k'>1:</span><span class='ee-v'>-7.188973757894005</span></li></ul></li><li><label class='ee-shut'>128: [-47.36074683545907, -7.189556280896009]<input type='checkbox' class='ee-toggle'></label><ul><li><span class='ee-k'>0:</span><span class='ee-v'>-47.36074683545907</span></li><li><span class='ee-k'>1:</span><span class='ee-v'>-7.189556280896009</span></li></ul></li><li><label class='ee-shut'>129: [-47.35986924903379, -7.190126140325192]<input type='checkbox' class='ee-toggle'></label><ul><li><span class='ee-k'>0:</span><span class='ee-v'>-47.35986924903379</span></li><li><span class='ee-k'>1:</span><span class='ee-v'>-7.190126140325192</span></li></ul></li><li><label class='ee-shut'>130: [-47.358969049439615, -7.190655679311236]<input type='checkbox' class='ee-toggle'></label><ul><li><span class='ee-k'>0:</span><span class='ee-v'>-47.358969049439615</span></li><li><span class='ee-k'>1:</span><span class='ee-v'>-7.190655679311236</span></li></ul></li><li><label class='ee-shut'>131: [-47.35808641495386, -7.191108853087146]<input type='checkbox' class='ee-toggle'></label><ul><li><span class='ee-k'>0:</span><span class='ee-v'>-47.35808641495386</span></li><li><span class='ee-k'>1:</span><span class='ee-v'>-7.191108853087146</span></li></ul></li><li><label class='ee-shut'>132: [-47.357319769593346, -7.191413423159536]<input type='checkbox' class='ee-toggle'></label><ul><li><span class='ee-k'>0:</span><span class='ee-v'>-47.357319769593346</span></li><li><span class='ee-k'>1:</span><span class='ee-v'>-7.191413423159536</span></li></ul></li><li><label class='ee-shut'>133: [-47.35685818973311, -7.191631153418382]<input type='checkbox' class='ee-toggle'></label><ul><li><span class='ee-k'>0:</span><span class='ee-v'>-47.35685818973311</span></li><li><span class='ee-k'>1:</span><span class='ee-v'>-7.191631153418382</span></li></ul></li><li><label class='ee-shut'>134: [-47.35662512370934, -7.19173554102496]<input type='checkbox' class='ee-toggle'></label><ul><li><span class='ee-k'>0:</span><span class='ee-v'>-47.35662512370934</span></li><li><span class='ee-k'>1:</span><span class='ee-v'>-7.19173554102496</span></li></ul></li><li><label class='ee-shut'>135: [-47.356187072941474, -7.192150531549439]<input type='checkbox' class='ee-toggle'></label><ul><li><span class='ee-k'>0:</span><span class='ee-v'>-47.356187072941474</span></li><li><span class='ee-k'>1:</span><span class='ee-v'>-7.192150531549439</span></li></ul></li><li><label class='ee-shut'>136: [-47.33958539316195, -7.195183363317394]<input type='checkbox' class='ee-toggle'></label><ul><li><span class='ee-k'>0:</span><span class='ee-v'>-47.33958539316195</span></li><li><span class='ee-k'>1:</span><span class='ee-v'>-7.195183363317394</span></li></ul></li><li><label class='ee-shut'>137: [-47.33891315631365, -7.19550535607346]<input type='checkbox' class='ee-toggle'></label><ul><li><span class='ee-k'>0:</span><span class='ee-v'>-47.33891315631365</span></li><li><span class='ee-k'>1:</span><span class='ee-v'>-7.19550535607346</span></li></ul></li><li><label class='ee-shut'>138: [-47.3382016622752, -7.196051871517462]<input type='checkbox' class='ee-toggle'></label><ul><li><span class='ee-k'>0:</span><span class='ee-v'>-47.3382016622752</span></li><li><span class='ee-k'>1:</span><span class='ee-v'>-7.196051871517462</span></li></ul></li><li><label class='ee-shut'>139: [-47.33735916922587, -7.196450955275945]<input type='checkbox' class='ee-toggle'></label><ul><li><span class='ee-k'>0:</span><span class='ee-v'>-47.33735916922587</span></li><li><span class='ee-k'>1:</span><span class='ee-v'>-7.196450955275945</span></li></ul></li><li><label class='ee-shut'>140: [-47.336457942276105, -7.196792083377779]<input type='checkbox' class='ee-toggle'></label><ul><li><span class='ee-k'>0:</span><span class='ee-v'>-47.336457942276105</span></li><li><span class='ee-k'>1:</span><span class='ee-v'>-7.196792083377779</span></li></ul></li><li><label class='ee-shut'>141: [-47.335615328300115, -7.1971732577348195]<input type='checkbox' class='ee-toggle'></label><ul><li><span class='ee-k'>0:</span><span class='ee-v'>-47.335615328300115</span></li><li><span class='ee-k'>1:</span><span class='ee-v'>-7.1971732577348195</span></li></ul></li><li><label class='ee-shut'>142: [-47.334732270428916, -7.1975546064746405]<input type='checkbox' class='ee-toggle'></label><ul><li><span class='ee-k'>0:</span><span class='ee-v'>-47.334732270428916</span></li><li><span class='ee-k'>1:</span><span class='ee-v'>-7.1975546064746405</span></li></ul></li><li><label class='ee-shut'>143: [-47.334078682939676, -7.19800660773604]<input type='checkbox' class='ee-toggle'></label><ul><li><span class='ee-k'>0:</span><span class='ee-v'>-47.334078682939676</span></li><li><span class='ee-k'>1:</span><span class='ee-v'>-7.19800660773604</span></li></ul></li><li><label class='ee-shut'>144: [-47.33315944953526, -7.198347788072631]<input type='checkbox' class='ee-toggle'></label><ul><li><span class='ee-k'>0:</span><span class='ee-v'>-47.33315944953526</span></li><li><span class='ee-k'>1:</span><span class='ee-v'>-7.198347788072631</span></li></ul></li><li><label class='ee-shut'>145: [-47.332185594968934, -7.198541217968326]<input type='checkbox' class='ee-toggle'></label><ul><li><span class='ee-k'>0:</span><span class='ee-v'>-47.332185594968934</span></li><li><span class='ee-k'>1:</span><span class='ee-v'>-7.198541217968326</span></li></ul></li><li><label class='ee-shut'>146: [-47.33126512629292, -7.198640098204306]<input type='checkbox' class='ee-toggle'></label><ul><li><span class='ee-k'>0:</span><span class='ee-v'>-47.33126512629292</span></li><li><span class='ee-k'>1:</span><span class='ee-v'>-7.198640098204306</span></li></ul></li><li><label class='ee-shut'>147: [-47.33088827029888, -7.198736235108395]<input type='checkbox' class='ee-toggle'></label><ul><li><span class='ee-k'>0:</span><span class='ee-v'>-47.33088827029888</span></li><li><span class='ee-k'>1:</span><span class='ee-v'>-7.198736235108395</span></li></ul></li><li><label class='ee-shut'>148: [-47.330758621723014, -7.198858038475189]<input type='checkbox' class='ee-toggle'></label><ul><li><span class='ee-k'>0:</span><span class='ee-v'>-47.330758621723014</span></li><li><span class='ee-k'>1:</span><span class='ee-v'>-7.198858038475189</span></li></ul></li><li><label class='ee-shut'>149: [-47.33062442048789, -7.198979890344017]<input type='checkbox' class='ee-toggle'></label><ul><li><span class='ee-k'>0:</span><span class='ee-v'>-47.33062442048789</span></li><li><span class='ee-k'>1:</span><span class='ee-v'>-7.198979890344017</span></li></ul></li><li><label class='ee-shut'>150: [-47.3304776056308, -7.199263263240946]<input type='checkbox' class='ee-toggle'></label><ul><li><span class='ee-k'>0:</span><span class='ee-v'>-47.3304776056308</span></li><li><span class='ee-k'>1:</span><span class='ee-v'>-7.199263263240946</span></li></ul></li><li><label class='ee-shut'>151: [-47.330069183368465, -7.200221009832064]<input type='checkbox' class='ee-toggle'></label><ul><li><span class='ee-k'>0:</span><span class='ee-v'>-47.330069183368465</span></li><li><span class='ee-k'>1:</span><span class='ee-v'>-7.200221009832064</span></li></ul></li><li><label class='ee-shut'>152: [-47.32967725925995, -7.200878039146886]<input type='checkbox' class='ee-toggle'></label><ul><li><span class='ee-k'>0:</span><span class='ee-v'>-47.32967725925995</span></li><li><span class='ee-k'>1:</span><span class='ee-v'>-7.200878039146886</span></li></ul></li><li><label class='ee-shut'>153: [-47.329190698302924, -7.20149968785642]<input type='checkbox' class='ee-toggle'></label><ul><li><span class='ee-k'>0:</span><span class='ee-v'>-47.329190698302924</span></li><li><span class='ee-k'>1:</span><span class='ee-v'>-7.20149968785642</span></li></ul></li><li><label class='ee-shut'>154: [-47.3287263089075, -7.20204939519809]<input type='checkbox' class='ee-toggle'></label><ul><li><span class='ee-k'>0:</span><span class='ee-v'>-47.3287263089075</span></li><li><span class='ee-k'>1:</span><span class='ee-v'>-7.20204939519809</span></li></ul></li><li><label class='ee-shut'>155: [-47.3283916406372, -7.202499811876226]<input type='checkbox' class='ee-toggle'></label><ul><li><span class='ee-k'>0:</span><span class='ee-v'>-47.3283916406372</span></li><li><span class='ee-k'>1:</span><span class='ee-v'>-7.202499811876226</span></li></ul></li><li><label class='ee-shut'>156: [-47.32798189139704, -7.203197266754984]<input type='checkbox' class='ee-toggle'></label><ul><li><span class='ee-k'>0:</span><span class='ee-v'>-47.32798189139704</span></li><li><span class='ee-k'>1:</span><span class='ee-v'>-7.203197266754984</span></li></ul></li><li><label class='ee-shut'>157: [-47.327777167263186, -7.20357073376686]<input type='checkbox' class='ee-toggle'></label><ul><li><span class='ee-k'>0:</span><span class='ee-v'>-47.327777167263186</span></li><li><span class='ee-k'>1:</span><span class='ee-v'>-7.20357073376686</span></li></ul></li><li><label class='ee-shut'>158: [-47.32729278855932, -7.204605107688384]<input type='checkbox' class='ee-toggle'></label><ul><li><span class='ee-k'>0:</span><span class='ee-v'>-47.32729278855932</span></li><li><span class='ee-k'>1:</span><span class='ee-v'>-7.204605107688384</span></li></ul></li><li><label class='ee-shut'>159: [-47.327106874916936, -7.205153411647681]<input type='checkbox' class='ee-toggle'></label><ul><li><span class='ee-k'>0:</span><span class='ee-v'>-47.327106874916936</span></li><li><span class='ee-k'>1:</span><span class='ee-v'>-7.205153411647681</span></li></ul></li><li><label class='ee-shut'>160: [-47.326819012356935, -7.205962480037249]<input type='checkbox' class='ee-toggle'></label><ul><li><span class='ee-k'>0:</span><span class='ee-v'>-47.326819012356935</span></li><li><span class='ee-k'>1:</span><span class='ee-v'>-7.205962480037249</span></li></ul></li><li><label class='ee-shut'>161: [-47.326810130960396, -7.205980478649051]<input type='checkbox' class='ee-toggle'></label><ul><li><span class='ee-k'>0:</span><span class='ee-v'>-47.326810130960396</span></li><li><span class='ee-k'>1:</span><span class='ee-v'>-7.205980478649051</span></li></ul></li><li><label class='ee-shut'>162: [-47.326610785057575, -7.206537835178697]<input type='checkbox' class='ee-toggle'></label><ul><li><span class='ee-k'>0:</span><span class='ee-v'>-47.326610785057575</span></li><li><span class='ee-k'>1:</span><span class='ee-v'>-7.206537835178697</span></li></ul></li><li><label class='ee-shut'>163: [-47.32649562601842, -7.2068614896828285]<input type='checkbox' class='ee-toggle'></label><ul><li><span class='ee-k'>0:</span><span class='ee-v'>-47.32649562601842</span></li><li><span class='ee-k'>1:</span><span class='ee-v'>-7.2068614896828285</span></li></ul></li><li><label class='ee-shut'>164: [-47.32621642425284, -7.207616666006504]<input type='checkbox' class='ee-toggle'></label><ul><li><span class='ee-k'>0:</span><span class='ee-v'>-47.32621642425284</span></li><li><span class='ee-k'>1:</span><span class='ee-v'>-7.207616666006504</span></li></ul></li><li><label class='ee-shut'>165: [-47.32588222000327, -7.208143275899113]<input type='checkbox' class='ee-toggle'></label><ul><li><span class='ee-k'>0:</span><span class='ee-v'>-47.32588222000327</span></li><li><span class='ee-k'>1:</span><span class='ee-v'>-7.208143275899113</span></li></ul></li><li><label class='ee-shut'>166: [-47.325529658502425, -7.208611675186484]<input type='checkbox' class='ee-toggle'></label><ul><li><span class='ee-k'>0:</span><span class='ee-v'>-47.325529658502425</span></li><li><span class='ee-k'>1:</span><span class='ee-v'>-7.208611675186484</span></li></ul></li><li><label class='ee-shut'>167: [-47.32513650003367, -7.209044414034504]<input type='checkbox' class='ee-toggle'></label><ul><li><span class='ee-k'>0:</span><span class='ee-v'>-47.32513650003367</span></li><li><span class='ee-k'>1:</span><span class='ee-v'>-7.209044414034504</span></li></ul></li><li><label class='ee-shut'>168: [-47.324779615034686, -7.209535263675351]<input type='checkbox' class='ee-toggle'></label><ul><li><span class='ee-k'>0:</span><span class='ee-v'>-47.324779615034686</span></li><li><span class='ee-k'>1:</span><span class='ee-v'>-7.209535263675351</span></li></ul></li><li><label class='ee-shut'>169: [-47.32443176274382, -7.210030572895059]<input type='checkbox' class='ee-toggle'></label><ul><li><span class='ee-k'>0:</span><span class='ee-v'>-47.32443176274382</span></li><li><span class='ee-k'>1:</span><span class='ee-v'>-7.210030572895059</span></li></ul></li><li><label class='ee-shut'>170: [-47.32418660328687, -7.210422165703935]<input type='checkbox' class='ee-toggle'></label><ul><li><span class='ee-k'>0:</span><span class='ee-v'>-47.32418660328687</span></li><li><span class='ee-k'>1:</span><span class='ee-v'>-7.210422165703935</span></li></ul></li><li><label class='ee-shut'>171: [-47.324036373727765, -7.210907452480507]<input type='checkbox' class='ee-toggle'></label><ul><li><span class='ee-k'>0:</span><span class='ee-v'>-47.324036373727765</span></li><li><span class='ee-k'>1:</span><span class='ee-v'>-7.210907452480507</span></li></ul></li><li><label class='ee-shut'>172: [-47.3224879077744, -7.223522839542205]<input type='checkbox' class='ee-toggle'></label><ul><li><span class='ee-k'>0:</span><span class='ee-v'>-47.3224879077744</span></li><li><span class='ee-k'>1:</span><span class='ee-v'>-7.223522839542205</span></li></ul></li><li><label class='ee-shut'>173: [-47.32218790671603, -7.223730685501963]<input type='checkbox' class='ee-toggle'></label><ul><li><span class='ee-k'>0:</span><span class='ee-v'>-47.32218790671603</span></li><li><span class='ee-k'>1:</span><span class='ee-v'>-7.223730685501963</span></li></ul></li><li><label class='ee-shut'>174: [-47.32201828002165, -7.223937991305878]<input type='checkbox' class='ee-toggle'></label><ul><li><span class='ee-k'>0:</span><span class='ee-v'>-47.32201828002165</span></li><li><span class='ee-k'>1:</span><span class='ee-v'>-7.223937991305878</span></li></ul></li><li><label class='ee-shut'>175: [-47.32183104205038, -7.224221582438473]<input type='checkbox' class='ee-toggle'></label><ul><li><span class='ee-k'>0:</span><span class='ee-v'>-47.32183104205038</span></li><li><span class='ee-k'>1:</span><span class='ee-v'>-7.224221582438473</span></li></ul></li><li><label class='ee-shut'>176: [-47.32149701537112, -7.224806543911785]<input type='checkbox' class='ee-toggle'></label><ul><li><span class='ee-k'>0:</span><span class='ee-v'>-47.32149701537112</span></li><li><span class='ee-k'>1:</span><span class='ee-v'>-7.224806543911785</span></li></ul></li><li><label class='ee-shut'>177: [-47.32110545466999, -7.225539863283736]<input type='checkbox' class='ee-toggle'></label><ul><li><span class='ee-k'>0:</span><span class='ee-v'>-47.32110545466999</span></li><li><span class='ee-k'>1:</span><span class='ee-v'>-7.225539863283736</span></li></ul></li><li><label class='ee-shut'>178: [-47.32037696711618, -7.226292816680241]<input type='checkbox' class='ee-toggle'></label><ul><li><span class='ee-k'>0:</span><span class='ee-v'>-47.32037696711618</span></li><li><span class='ee-k'>1:</span><span class='ee-v'>-7.226292816680241</span></li></ul></li><li><label class='ee-shut'>179: [-47.319817437133146, -7.2267084537295565]<input type='checkbox' class='ee-toggle'></label><ul><li><span class='ee-k'>0:</span><span class='ee-v'>-47.319817437133146</span></li><li><span class='ee-k'>1:</span><span class='ee-v'>-7.2267084537295565</span></li></ul></li><li><label class='ee-shut'>180: [-47.31895315504479, -7.227255721217661]<input type='checkbox' class='ee-toggle'></label><ul><li><span class='ee-k'>0:</span><span class='ee-v'>-47.31895315504479</span></li><li><span class='ee-k'>1:</span><span class='ee-v'>-7.227255721217661</span></li></ul></li><li><label class='ee-shut'>181: [-47.31816940351643, -7.227748772220956]<input type='checkbox' class='ee-toggle'></label><ul><li><span class='ee-k'>0:</span><span class='ee-v'>-47.31816940351643</span></li><li><span class='ee-k'>1:</span><span class='ee-v'>-7.227748772220956</span></li></ul></li><li><label class='ee-shut'>182: [-47.31745759757797, -7.22824140868761]<input type='checkbox' class='ee-toggle'></label><ul><li><span class='ee-k'>0:</span><span class='ee-v'>-47.31745759757797</span></li><li><span class='ee-k'>1:</span><span class='ee-v'>-7.22824140868761</span></li></ul></li><li><label class='ee-shut'>183: [-47.31648269528365, -7.22912575184265]<input type='checkbox' class='ee-toggle'></label><ul><li><span class='ee-k'>0:</span><span class='ee-v'>-47.31648269528365</span></li><li><span class='ee-k'>1:</span><span class='ee-v'>-7.22912575184265</span></li></ul></li><li><label class='ee-shut'>184: [-47.31579389479603, -7.22973046810401]<input type='checkbox' class='ee-toggle'></label><ul><li><span class='ee-k'>0:</span><span class='ee-v'>-47.31579389479603</span></li><li><span class='ee-k'>1:</span><span class='ee-v'>-7.22973046810401</span></li></ul></li><li><label class='ee-shut'>185: [-47.315061154264036, -7.230541787181957]<input type='checkbox' class='ee-toggle'></label><ul><li><span class='ee-k'>0:</span><span class='ee-v'>-47.315061154264036</span></li><li><span class='ee-k'>1:</span><span class='ee-v'>-7.230541787181957</span></li></ul></li><li><label class='ee-shut'>186: [-47.314426394456355, -7.231164191620117]<input type='checkbox' class='ee-toggle'></label><ul><li><span class='ee-k'>0:</span><span class='ee-v'>-47.314426394456355</span></li><li><span class='ee-k'>1:</span><span class='ee-v'>-7.231164191620117</span></li></ul></li><li><label class='ee-shut'>187: [-47.313662036688804, -7.231935331278249]<input type='checkbox' class='ee-toggle'></label><ul><li><span class='ee-k'>0:</span><span class='ee-v'>-47.313662036688804</span></li><li><span class='ee-k'>1:</span><span class='ee-v'>-7.231935331278249</span></li></ul></li><li><label class='ee-shut'>188: [-47.31307967289427, -7.232279226810032]<input type='checkbox' class='ee-toggle'></label><ul><li><span class='ee-k'>0:</span><span class='ee-v'>-47.31307967289427</span></li><li><span class='ee-k'>1:</span><span class='ee-v'>-7.232279226810032</span></li></ul></li><li><label class='ee-shut'>189: [-47.31197353550412, -7.232975845735873]<input type='checkbox' class='ee-toggle'></label><ul><li><span class='ee-k'>0:</span><span class='ee-v'>-47.31197353550412</span></li><li><span class='ee-k'>1:</span><span class='ee-v'>-7.232975845735873</span></li></ul></li><li><label class='ee-shut'>190: [-47.31107849554316, -7.23367578043781]<input type='checkbox' class='ee-toggle'></label><ul><li><span class='ee-k'>0:</span><span class='ee-v'>-47.31107849554316</span></li><li><span class='ee-k'>1:</span><span class='ee-v'>-7.23367578043781</span></li></ul></li><li><label class='ee-shut'>191: [-47.31076125101914, -7.234013931408338]<input type='checkbox' class='ee-toggle'></label><ul><li><span class='ee-k'>0:</span><span class='ee-v'>-47.31076125101914</span></li><li><span class='ee-k'>1:</span><span class='ee-v'>-7.234013931408338</span></li></ul></li><li><label class='ee-shut'>192: [-47.31047944819049, -7.234262123958677]<input type='checkbox' class='ee-toggle'></label><ul><li><span class='ee-k'>0:</span><span class='ee-v'>-47.31047944819049</span></li><li><span class='ee-k'>1:</span><span class='ee-v'>-7.234262123958677</span></li></ul></li><li><label class='ee-shut'>193: [-47.30989719484059, -7.2346195116418]<input type='checkbox' class='ee-toggle'></label><ul><li><span class='ee-k'>0:</span><span class='ee-v'>-47.30989719484059</span></li><li><span class='ee-k'>1:</span><span class='ee-v'>-7.2346195116418</span></li></ul></li><li><label class='ee-shut'>194: [-47.30851470514089, -7.235770602515597]<input type='checkbox' class='ee-toggle'></label><ul><li><span class='ee-k'>0:</span><span class='ee-v'>-47.30851470514089</span></li><li><span class='ee-k'>1:</span><span class='ee-v'>-7.235770602515597</span></li></ul></li><li><label class='ee-shut'>195: [-47.291709929285666, -7.245313553850308]<input type='checkbox' class='ee-toggle'></label><ul><li><span class='ee-k'>0:</span><span class='ee-v'>-47.291709929285666</span></li><li><span class='ee-k'>1:</span><span class='ee-v'>-7.245313553850308</span></li></ul></li><li><label class='ee-shut'>196: [-47.25581087835113, -7.287790494588158]<input type='checkbox' class='ee-toggle'></label><ul><li><span class='ee-k'>0:</span><span class='ee-v'>-47.25581087835113</span></li><li><span class='ee-k'>1:</span><span class='ee-v'>-7.287790494588158</span></li></ul></li><li><label class='ee-shut'>197: [-47.25567195260879, -7.28787640123691]<input type='checkbox' class='ee-toggle'></label><ul><li><span class='ee-k'>0:</span><span class='ee-v'>-47.25567195260879</span></li><li><span class='ee-k'>1:</span><span class='ee-v'>-7.28787640123691</span></li></ul></li><li><label class='ee-shut'>198: [-47.2554210822863, -7.2880302285446374]<input type='checkbox' class='ee-toggle'></label><ul><li><span class='ee-k'>0:</span><span class='ee-v'>-47.2554210822863</span></li><li><span class='ee-k'>1:</span><span class='ee-v'>-7.2880302285446374</span></li></ul></li><li><label class='ee-shut'>199: [-47.2550723551877, -7.288386441021152]<input type='checkbox' class='ee-toggle'></label><ul><li><span class='ee-k'>0:</span><span class='ee-v'>-47.2550723551877</span></li><li><span class='ee-k'>1:</span><span class='ee-v'>-7.288386441021152</span></li></ul></li><li><label class='ee-shut'>200: [-47.25457173953724, -7.288909384079441]<input type='checkbox' class='ee-toggle'></label><ul><li><span class='ee-k'>0:</span><span class='ee-v'>-47.25457173953724</span></li><li><span class='ee-k'>1:</span><span class='ee-v'>-7.288909384079441</span></li></ul></li><li><label class='ee-shut'>201: [-47.25403460976442, -7.289338319196219]<input type='checkbox' class='ee-toggle'></label><ul><li><span class='ee-k'>0:</span><span class='ee-v'>-47.25403460976442</span></li><li><span class='ee-k'>1:</span><span class='ee-v'>-7.289338319196219</span></li></ul></li><li><label class='ee-shut'>202: [-47.25370415140806, -7.289743781098945]<input type='checkbox' class='ee-toggle'></label><ul><li><span class='ee-k'>0:</span><span class='ee-v'>-47.25370415140806</span></li><li><span class='ee-k'>1:</span><span class='ee-v'>-7.289743781098945</span></li></ul></li><li><label class='ee-shut'>203: [-47.25335625572485, -7.290266023748975]<input type='checkbox' class='ee-toggle'></label><ul><li><span class='ee-k'>0:</span><span class='ee-v'>-47.25335625572485</span></li><li><span class='ee-k'>1:</span><span class='ee-v'>-7.290266023748975</span></li></ul></li><li><label class='ee-shut'>204: [-47.25303921658761, -7.290675899686531]<input type='checkbox' class='ee-toggle'></label><ul><li><span class='ee-k'>0:</span><span class='ee-v'>-47.25303921658761</span></li><li><span class='ee-k'>1:</span><span class='ee-v'>-7.290675899686531</span></li></ul></li><li><label class='ee-shut'>205: [-47.25285632747838, -7.29093702693213]<input type='checkbox' class='ee-toggle'></label><ul><li><span class='ee-k'>0:</span><span class='ee-v'>-47.25285632747838</span></li><li><span class='ee-k'>1:</span><span class='ee-v'>-7.29093702693213</span></li></ul></li><li><label class='ee-shut'>206: [-47.252709062717734, -7.2911441303416105]<input type='checkbox' class='ee-toggle'></label><ul><li><span class='ee-k'>0:</span><span class='ee-v'>-47.252709062717734</span></li><li><span class='ee-k'>1:</span><span class='ee-v'>-7.2911441303416105</span></li></ul></li><li><label class='ee-shut'>207: [-47.233543045494045, -7.310936770252332]<input type='checkbox' class='ee-toggle'></label><ul><li><span class='ee-k'>0:</span><span class='ee-v'>-47.233543045494045</span></li><li><span class='ee-k'>1:</span><span class='ee-v'>-7.310936770252332</span></li></ul></li><li><label class='ee-shut'>208: [-47.2327624521592, -7.311200848106627]<input type='checkbox' class='ee-toggle'></label><ul><li><span class='ee-k'>0:</span><span class='ee-v'>-47.2327624521592</span></li><li><span class='ee-k'>1:</span><span class='ee-v'>-7.311200848106627</span></li></ul></li><li><label class='ee-shut'>209: [-47.23209823450841, -7.311388102426087]<input type='checkbox' class='ee-toggle'></label><ul><li><span class='ee-k'>0:</span><span class='ee-v'>-47.23209823450841</span></li><li><span class='ee-k'>1:</span><span class='ee-v'>-7.311388102426087</span></li></ul></li><li><label class='ee-shut'>210: [-47.23151969569791, -7.311615363162881]<input type='checkbox' class='ee-toggle'></label><ul><li><span class='ee-k'>0:</span><span class='ee-v'>-47.23151969569791</span></li><li><span class='ee-k'>1:</span><span class='ee-v'>-7.311615363162881</span></li></ul></li><li><label class='ee-shut'>211: [-47.230928499219175, -7.312022074656377]<input type='checkbox' class='ee-toggle'></label><ul><li><span class='ee-k'>0:</span><span class='ee-v'>-47.230928499219175</span></li><li><span class='ee-k'>1:</span><span class='ee-v'>-7.312022074656377</span></li></ul></li><li><label class='ee-shut'>212: [-47.23031846248833, -7.312249454107287]<input type='checkbox' class='ee-toggle'></label><ul><li><span class='ee-k'>0:</span><span class='ee-v'>-47.23031846248833</span></li><li><span class='ee-k'>1:</span><span class='ee-v'>-7.312249454107287</span></li></ul></li><li><label class='ee-shut'>213: [-47.22974426428949, -7.312454178760991]<input type='checkbox' class='ee-toggle'></label><ul><li><span class='ee-k'>0:</span><span class='ee-v'>-47.22974426428949</span></li><li><span class='ee-k'>1:</span><span class='ee-v'>-7.312454178760991</span></li></ul></li><li><label class='ee-shut'>214: [-47.229319206799744, -7.312828700993452]<input type='checkbox' class='ee-toggle'></label><ul><li><span class='ee-k'>0:</span><span class='ee-v'>-47.229319206799744</span></li><li><span class='ee-k'>1:</span><span class='ee-v'>-7.312828700993452</span></li></ul></li><li><label class='ee-shut'>215: [-47.229060717542986, -7.313274189362176]<input type='checkbox' class='ee-toggle'></label><ul><li><span class='ee-k'>0:</span><span class='ee-v'>-47.229060717542986</span></li><li><span class='ee-k'>1:</span><span class='ee-v'>-7.313274189362176</span></li></ul></li><li><label class='ee-shut'>216: [-47.22880237856796, -7.313737649518882]<input type='checkbox' class='ee-toggle'></label><ul><li><span class='ee-k'>0:</span><span class='ee-v'>-47.22880237856796</span></li><li><span class='ee-k'>1:</span><span class='ee-v'>-7.313737649518882</span></li></ul></li><li><label class='ee-shut'>217: [-47.228544338855734, -7.314259384587735]<input type='checkbox' class='ee-toggle'></label><ul><li><span class='ee-k'>0:</span><span class='ee-v'>-47.228544338855734</span></li><li><span class='ee-k'>1:</span><span class='ee-v'>-7.314259384587735</span></li></ul></li><li><label class='ee-shut'>218: [-47.22829069542208, -7.314763172892694]<input type='checkbox' class='ee-toggle'></label><ul><li><span class='ee-k'>0:</span><span class='ee-v'>-47.22829069542208</span></li><li><span class='ee-k'>1:</span><span class='ee-v'>-7.314763172892694</span></li></ul></li><li><label class='ee-shut'>219: [-47.22801418453272, -7.315190824368318]<input type='checkbox' class='ee-toggle'></label><ul><li><span class='ee-k'>0:</span><span class='ee-v'>-47.22801418453272</span></li><li><span class='ee-k'>1:</span><span class='ee-v'>-7.315190824368318</span></li></ul></li><li><label class='ee-shut'>220: [-47.22773752614743, -7.315578045617037]<input type='checkbox' class='ee-toggle'></label><ul><li><span class='ee-k'>0:</span><span class='ee-v'>-47.22773752614743</span></li><li><span class='ee-k'>1:</span><span class='ee-v'>-7.315578045617037</span></li></ul></li><li><label class='ee-shut'>221: [-47.22744321510297, -7.31604612359422]<input type='checkbox' class='ee-toggle'></label><ul><li><span class='ee-k'>0:</span><span class='ee-v'>-47.22744321510297</span></li><li><span class='ee-k'>1:</span><span class='ee-v'>-7.31604612359422</span></li></ul></li><li><label class='ee-shut'>222: [-47.22707322433438, -7.316658192688165]<input type='checkbox' class='ee-toggle'></label><ul><li><span class='ee-k'>0:</span><span class='ee-v'>-47.22707322433438</span></li><li><span class='ee-k'>1:</span><span class='ee-v'>-7.316658192688165</span></li></ul></li><li><label class='ee-shut'>223: [-47.226725433946605, -7.317198373799202]<input type='checkbox' class='ee-toggle'></label><ul><li><span class='ee-k'>0:</span><span class='ee-v'>-47.226725433946605</span></li><li><span class='ee-k'>1:</span><span class='ee-v'>-7.317198373799202</span></li></ul></li><li><label class='ee-shut'>224: [-47.226409750467106, -7.317886389170676]<input type='checkbox' class='ee-toggle'></label><ul><li><span class='ee-k'>0:</span><span class='ee-v'>-47.226409750467106</span></li><li><span class='ee-k'>1:</span><span class='ee-v'>-7.317886389170676</span></li></ul></li><li><label class='ee-shut'>225: [-47.226210642934845, -7.31851558011891]<input type='checkbox' class='ee-toggle'></label><ul><li><span class='ee-k'>0:</span><span class='ee-v'>-47.226210642934845</span></li><li><span class='ee-k'>1:</span><span class='ee-v'>-7.31851558011891</span></li></ul></li><li><label class='ee-shut'>226: [-47.226084906887685, -7.319440507720427]<input type='checkbox' class='ee-toggle'></label><ul><li><span class='ee-k'>0:</span><span class='ee-v'>-47.226084906887685</span></li><li><span class='ee-k'>1:</span><span class='ee-v'>-7.319440507720427</span></li></ul></li><li><label class='ee-shut'>227: [-47.22605094033046, -7.319848936509392]<input type='checkbox' class='ee-toggle'></label><ul><li><span class='ee-k'>0:</span><span class='ee-v'>-47.22605094033046</span></li><li><span class='ee-k'>1:</span><span class='ee-v'>-7.319848936509392</span></li></ul></li><li><label class='ee-shut'>228: [-47.22607038171244, -7.320136021044206]<input type='checkbox' class='ee-toggle'></label><ul><li><span class='ee-k'>0:</span><span class='ee-v'>-47.22607038171244</span></li><li><span class='ee-k'>1:</span><span class='ee-v'>-7.320136021044206</span></li></ul></li><li><label class='ee-shut'>229: [-47.21205296603812, -7.32639712651257]<input type='checkbox' class='ee-toggle'></label><ul><li><span class='ee-k'>0:</span><span class='ee-v'>-47.21205296603812</span></li><li><span class='ee-k'>1:</span><span class='ee-v'>-7.32639712651257</span></li></ul></li><li><label class='ee-shut'>230: [-47.201616099686646, -7.328826413000281]<input type='checkbox' class='ee-toggle'></label><ul><li><span class='ee-k'>0:</span><span class='ee-v'>-47.201616099686646</span></li><li><span class='ee-k'>1:</span><span class='ee-v'>-7.328826413000281</span></li></ul></li><li><label class='ee-shut'>231: [-47.20077054767767, -7.328695952068384]<input type='checkbox' class='ee-toggle'></label><ul><li><span class='ee-k'>0:</span><span class='ee-v'>-47.20077054767767</span></li><li><span class='ee-k'>1:</span><span class='ee-v'>-7.328695952068384</span></li></ul></li><li><label class='ee-shut'>232: [-47.20014046896372, -7.328506112066359]<input type='checkbox' class='ee-toggle'></label><ul><li><span class='ee-k'>0:</span><span class='ee-v'>-47.20014046896372</span></li><li><span class='ee-k'>1:</span><span class='ee-v'>-7.328506112066359</span></li></ul></li><li><label class='ee-shut'>233: [-47.199565341820765, -7.328535851062269]<input type='checkbox' class='ee-toggle'></label><ul><li><span class='ee-k'>0:</span><span class='ee-v'>-47.199565341820765</span></li><li><span class='ee-k'>1:</span><span class='ee-v'>-7.328535851062269</span></li></ul></li><li><label class='ee-shut'>234: [-47.19904441991531, -7.328623637273209]<input type='checkbox' class='ee-toggle'></label><ul><li><span class='ee-k'>0:</span><span class='ee-v'>-47.19904441991531</span></li><li><span class='ee-k'>1:</span><span class='ee-v'>-7.328623637273209</span></li></ul></li><li><label class='ee-shut'>235: [-47.19850012656224, -7.328514131384167]<input type='checkbox' class='ee-toggle'></label><ul><li><span class='ee-k'>0:</span><span class='ee-v'>-47.19850012656224</span></li><li><span class='ee-k'>1:</span><span class='ee-v'>-7.328514131384167</span></li></ul></li><li><label class='ee-shut'>236: [-47.19781610145241, -7.328329008118917]<input type='checkbox' class='ee-toggle'></label><ul><li><span class='ee-k'>0:</span><span class='ee-v'>-47.19781610145241</span></li><li><span class='ee-k'>1:</span><span class='ee-v'>-7.328329008118917</span></li></ul></li><li><label class='ee-shut'>237: [-47.19688552030482, -7.328279731829472]<input type='checkbox' class='ee-toggle'></label><ul><li><span class='ee-k'>0:</span><span class='ee-v'>-47.19688552030482</span></li><li><span class='ee-k'>1:</span><span class='ee-v'>-7.328279731829472</span></li></ul></li><li><label class='ee-shut'>238: [-47.195874407151585, -7.328284637501651]<input type='checkbox' class='ee-toggle'></label><ul><li><span class='ee-k'>0:</span><span class='ee-v'>-47.195874407151585</span></li><li><span class='ee-k'>1:</span><span class='ee-v'>-7.328284637501651</span></li></ul></li><li><label class='ee-shut'>239: [-47.194779267936646, -7.328586123599784]<input type='checkbox' class='ee-toggle'></label><ul><li><span class='ee-k'>0:</span><span class='ee-v'>-47.194779267936646</span></li><li><span class='ee-k'>1:</span><span class='ee-v'>-7.328586123599784</span></li></ul></li><li><label class='ee-shut'>240: [-47.19366159638465, -7.328865292040324]<input type='checkbox' class='ee-toggle'></label><ul><li><span class='ee-k'>0:</span><span class='ee-v'>-47.19366159638465</span></li><li><span class='ee-k'>1:</span><span class='ee-v'>-7.328865292040324</span></li></ul></li><li><label class='ee-shut'>241: [-47.19265099329445, -7.328982437057755]<input type='checkbox' class='ee-toggle'></label><ul><li><span class='ee-k'>0:</span><span class='ee-v'>-47.19265099329445</span></li><li><span class='ee-k'>1:</span><span class='ee-v'>-7.328982437057755</span></li></ul></li><li><label class='ee-shut'>242: [-47.191774547926734, -7.328959769740728]<input type='checkbox' class='ee-toggle'></label><ul><li><span class='ee-k'>0:</span><span class='ee-v'>-47.191774547926734</span></li><li><span class='ee-k'>1:</span><span class='ee-v'>-7.328959769740728</span></li></ul></li><li><label class='ee-shut'>243: [-47.190734207176085, -7.328525085188446]<input type='checkbox' class='ee-toggle'></label><ul><li><span class='ee-k'>0:</span><span class='ee-v'>-47.190734207176085</span></li><li><span class='ee-k'>1:</span><span class='ee-v'>-7.328525085188446</span></li></ul></li><li><label class='ee-shut'>244: [-47.18963500912095, -7.327987549945151]<input type='checkbox' class='ee-toggle'></label><ul><li><span class='ee-k'>0:</span><span class='ee-v'>-47.18963500912095</span></li><li><span class='ee-k'>1:</span><span class='ee-v'>-7.327987549945151</span></li></ul></li><li><label class='ee-shut'>245: [-47.188540523906155, -7.327499291041781]<input type='checkbox' class='ee-toggle'></label><ul><li><span class='ee-k'>0:</span><span class='ee-v'>-47.188540523906155</span></li><li><span class='ee-k'>1:</span><span class='ee-v'>-7.327499291041781</span></li></ul></li><li><label class='ee-shut'>246: [-47.18744256369647, -7.327204012188743]<input type='checkbox' class='ee-toggle'></label><ul><li><span class='ee-k'>0:</span><span class='ee-v'>-47.18744256369647</span></li><li><span class='ee-k'>1:</span><span class='ee-v'>-7.327204012188743</span></li></ul></li><li><label class='ee-shut'>247: [-47.18643007329221, -7.32693524229743]<input type='checkbox' class='ee-toggle'></label><ul><li><span class='ee-k'>0:</span><span class='ee-v'>-47.18643007329221</span></li><li><span class='ee-k'>1:</span><span class='ee-v'>-7.32693524229743</span></li></ul></li><li><label class='ee-shut'>248: [-47.185637913761646, -7.326692294956405]<input type='checkbox' class='ee-toggle'></label><ul><li><span class='ee-k'>0:</span><span class='ee-v'>-47.185637913761646</span></li><li><span class='ee-k'>1:</span><span class='ee-v'>-7.326692294956405</span></li></ul></li><li><label class='ee-shut'>249: [-47.184980928555774, -7.326533937653753]<input type='checkbox' class='ee-toggle'></label><ul><li><span class='ee-k'>0:</span><span class='ee-v'>-47.184980928555774</span></li><li><span class='ee-k'>1:</span><span class='ee-v'>-7.326533937653753</span></li></ul></li><li><label class='ee-shut'>250: [-47.18470680885678, -7.326535236641144]<input type='checkbox' class='ee-toggle'></label><ul><li><span class='ee-k'>0:</span><span class='ee-v'>-47.18470680885678</span></li><li><span class='ee-k'>1:</span><span class='ee-v'>-7.326535236641144</span></li></ul></li><li><label class='ee-shut'>251: [-47.18443269062065, -7.3265365987835676]<input type='checkbox' class='ee-toggle'></label><ul><li><span class='ee-k'>0:</span><span class='ee-v'>-47.18443269062065</span></li><li><span class='ee-k'>1:</span><span class='ee-v'>-7.3265365987835676</span></li></ul></li><li><label class='ee-shut'>252: [-47.184244090978616, -7.3265644713166695]<input type='checkbox' class='ee-toggle'></label><ul><li><span class='ee-k'>0:</span><span class='ee-v'>-47.184244090978616</span></li><li><span class='ee-k'>1:</span><span class='ee-v'>-7.3265644713166695</span></li></ul></li><li><label class='ee-shut'>253: [-47.18361570340405, -7.326733533581486]<input type='checkbox' class='ee-toggle'></label><ul><li><span class='ee-k'>0:</span><span class='ee-v'>-47.18361570340405</span></li><li><span class='ee-k'>1:</span><span class='ee-v'>-7.326733533581486</span></li></ul></li><li><label class='ee-shut'>254: [-47.18314912520733, -7.326897329420158]<input type='checkbox' class='ee-toggle'></label><ul><li><span class='ee-k'>0:</span><span class='ee-v'>-47.18314912520733</span></li><li><span class='ee-k'>1:</span><span class='ee-v'>-7.326897329420158</span></li></ul></li><li><label class='ee-shut'>255: [-47.18263320733768, -7.327092756538283]<input type='checkbox' class='ee-toggle'></label><ul><li><span class='ee-k'>0:</span><span class='ee-v'>-47.18263320733768</span></li><li><span class='ee-k'>1:</span><span class='ee-v'>-7.327092756538283</span></li></ul></li><li><label class='ee-shut'>256: [-47.182032302030436, -7.327364911458807]<input type='checkbox' class='ee-toggle'></label><ul><li><span class='ee-k'>0:</span><span class='ee-v'>-47.182032302030436</span></li><li><span class='ee-k'>1:</span><span class='ee-v'>-7.327364911458807</span></li></ul></li><li><label class='ee-shut'>257: [-47.18179942892612, -7.327532055978699]<input type='checkbox' class='ee-toggle'></label><ul><li><span class='ee-k'>0:</span><span class='ee-v'>-47.18179942892612</span></li><li><span class='ee-k'>1:</span><span class='ee-v'>-7.327532055978699</span></li></ul></li><li><label class='ee-shut'>258: [-47.18167506663659, -7.3269044832473185]<input type='checkbox' class='ee-toggle'></label><ul><li><span class='ee-k'>0:</span><span class='ee-v'>-47.18167506663659</span></li><li><span class='ee-k'>1:</span><span class='ee-v'>-7.3269044832473185</span></li></ul></li><li><label class='ee-shut'>259: [-47.18167275949941, -7.326442283005036]<input type='checkbox' class='ee-toggle'></label><ul><li><span class='ee-k'>0:</span><span class='ee-v'>-47.18167275949941</span></li><li><span class='ee-k'>1:</span><span class='ee-v'>-7.326442283005036</span></li></ul></li><li><label class='ee-shut'>260: [-47.18167067563366, -7.326002562419236]<input type='checkbox' class='ee-toggle'></label><ul><li><span class='ee-k'>0:</span><span class='ee-v'>-47.18167067563366</span></li><li><span class='ee-k'>1:</span><span class='ee-v'>-7.326002562419236</span></li></ul></li><li><label class='ee-shut'>261: [-47.18158315334864, -7.3255677362058105]<input type='checkbox' class='ee-toggle'></label><ul><li><span class='ee-k'>0:</span><span class='ee-v'>-47.18158315334864</span></li><li><span class='ee-k'>1:</span><span class='ee-v'>-7.3255677362058105</span></li></ul></li><li><label class='ee-shut'>262: [-47.181167945492966, -7.32428649309474]<input type='checkbox' class='ee-toggle'></label><ul><li><span class='ee-k'>0:</span><span class='ee-v'>-47.181167945492966</span></li><li><span class='ee-k'>1:</span><span class='ee-v'>-7.32428649309474</span></li></ul></li><li><label class='ee-shut'>263: [-47.18083534997452, -7.323359300380864]<input type='checkbox' class='ee-toggle'></label><ul><li><span class='ee-k'>0:</span><span class='ee-v'>-47.18083534997452</span></li><li><span class='ee-k'>1:</span><span class='ee-v'>-7.323359300380864</span></li></ul></li><li><label class='ee-shut'>264: [-47.18050156585677, -7.322185261532949]<input type='checkbox' class='ee-toggle'></label><ul><li><span class='ee-k'>0:</span><span class='ee-v'>-47.18050156585677</span></li><li><span class='ee-k'>1:</span><span class='ee-v'>-7.322185261532949</span></li></ul></li><li><label class='ee-shut'>265: [-47.1801682304381, -7.321096533260358]<input type='checkbox' class='ee-toggle'></label><ul><li><span class='ee-k'>0:</span><span class='ee-v'>-47.1801682304381</span></li><li><span class='ee-k'>1:</span><span class='ee-v'>-7.321096533260358</span></li></ul></li><li><label class='ee-shut'>266: [-47.17966908720705, -7.320116312437486]<input type='checkbox' class='ee-toggle'></label><ul><li><span class='ee-k'>0:</span><span class='ee-v'>-47.17966908720705</span></li><li><span class='ee-k'>1:</span><span class='ee-v'>-7.320116312437486</span></li></ul></li><li><label class='ee-shut'>267: [-47.17917553033932, -7.319355906589187]<input type='checkbox' class='ee-toggle'></label><ul><li><span class='ee-k'>0:</span><span class='ee-v'>-47.17917553033932</span></li><li><span class='ee-k'>1:</span><span class='ee-v'>-7.319355906589187</span></li></ul></li><li><label class='ee-shut'>268: [-47.178789588844054, -7.318536600480858]<input type='checkbox' class='ee-toggle'></label><ul><li><span class='ee-k'>0:</span><span class='ee-v'>-47.178789588844054</span></li><li><span class='ee-k'>1:</span><span class='ee-v'>-7.318536600480858</span></li></ul></li><li><label class='ee-shut'>269: [-47.1785390930819, -7.3178557946642355]<input type='checkbox' class='ee-toggle'></label><ul><li><span class='ee-k'>0:</span><span class='ee-v'>-47.1785390930819</span></li><li><span class='ee-k'>1:</span><span class='ee-v'>-7.3178557946642355</span></li></ul></li><li><label class='ee-shut'>270: [-47.17856275840467, -7.317173683837603]<input type='checkbox' class='ee-toggle'></label><ul><li><span class='ee-k'>0:</span><span class='ee-v'>-47.17856275840467</span></li><li><span class='ee-k'>1:</span><span class='ee-v'>-7.317173683837603</span></li></ul></li><li><label class='ee-shut'>271: [-47.178640601021264, -7.316545094410894]<input type='checkbox' class='ee-toggle'></label><ul><li><span class='ee-k'>0:</span><span class='ee-v'>-47.178640601021264</span></li><li><span class='ee-k'>1:</span><span class='ee-v'>-7.316545094410894</span></li></ul></li><li><label class='ee-shut'>272: [-47.17877649099615, -7.315835494522036]<input type='checkbox' class='ee-toggle'></label><ul><li><span class='ee-k'>0:</span><span class='ee-v'>-47.17877649099615</span></li><li><span class='ee-k'>1:</span><span class='ee-v'>-7.315835494522036</span></li></ul></li><li><label class='ee-shut'>273: [-47.17880008200871, -7.31514883392678]<input type='checkbox' class='ee-toggle'></label><ul><li><span class='ee-k'>0:</span><span class='ee-v'>-47.17880008200871</span></li><li><span class='ee-k'>1:</span><span class='ee-v'>-7.31514883392678</span></li></ul></li><li><label class='ee-shut'>274: [-47.17879680754575, -7.314466836298051]<input type='checkbox' class='ee-toggle'></label><ul><li><span class='ee-k'>0:</span><span class='ee-v'>-47.17879680754575</span></li><li><span class='ee-k'>1:</span><span class='ee-v'>-7.314466836298051</span></li></ul></li><li><label class='ee-shut'>275: [-47.17890144162448, -7.313811231844526]<input type='checkbox' class='ee-toggle'></label><ul><li><span class='ee-k'>0:</span><span class='ee-v'>-47.17890144162448</span></li><li><span class='ee-k'>1:</span><span class='ee-v'>-7.313811231844526</span></li></ul></li><li><label class='ee-shut'>276: [-47.17911807800856, -7.313074274700168]<input type='checkbox' class='ee-toggle'></label><ul><li><span class='ee-k'>0:</span><span class='ee-v'>-47.17911807800856</span></li><li><span class='ee-k'>1:</span><span class='ee-v'>-7.313074274700168</span></li></ul></li><li><label class='ee-shut'>277: [-47.17941419634452, -7.31203635489844]<input type='checkbox' class='ee-toggle'></label><ul><li><span class='ee-k'>0:</span><span class='ee-v'>-47.17941419634452</span></li><li><span class='ee-k'>1:</span><span class='ee-v'>-7.31203635489844</span></li></ul></li><li><label class='ee-shut'>278: [-47.17965896596912, -7.311550583950623]<input type='checkbox' class='ee-toggle'></label><ul><li><span class='ee-k'>0:</span><span class='ee-v'>-47.17965896596912</span></li><li><span class='ee-k'>1:</span><span class='ee-v'>-7.311550583950623</span></li></ul></li><li><label class='ee-shut'>279: [-47.1800106801571, -7.310857844348101]<input type='checkbox' class='ee-toggle'></label><ul><li><span class='ee-k'>0:</span><span class='ee-v'>-47.1800106801571</span></li><li><span class='ee-k'>1:</span><span class='ee-v'>-7.310857844348101</span></li></ul></li><li><label class='ee-shut'>280: [-47.1671623222139, -7.317417090379939]<input type='checkbox' class='ee-toggle'></label><ul><li><span class='ee-k'>0:</span><span class='ee-v'>-47.1671623222139</span></li><li><span class='ee-k'>1:</span><span class='ee-v'>-7.317417090379939</span></li></ul></li><li><label class='ee-shut'>281: [-47.16656137475905, -7.317666780514327]<input type='checkbox' class='ee-toggle'></label><ul><li><span class='ee-k'>0:</span><span class='ee-v'>-47.16656137475905</span></li><li><span class='ee-k'>1:</span><span class='ee-v'>-7.317666780514327</span></li></ul></li><li><label class='ee-shut'>282: [-47.16606846471132, -7.317969818485781]<input type='checkbox' class='ee-toggle'></label><ul><li><span class='ee-k'>0:</span><span class='ee-v'>-47.16606846471132</span></li><li><span class='ee-k'>1:</span><span class='ee-v'>-7.317969818485781</span></li></ul></li><li><label class='ee-shut'>283: [-47.16566119438154, -7.318326245321132]<input type='checkbox' class='ee-toggle'></label><ul><li><span class='ee-k'>0:</span><span class='ee-v'>-47.16566119438154</span></li><li><span class='ee-k'>1:</span><span class='ee-v'>-7.318326245321132</span></li></ul></li><li><label class='ee-shut'>284: [-47.16520043372775, -7.318768197266828]<input type='checkbox' class='ee-toggle'></label><ul><li><span class='ee-k'>0:</span><span class='ee-v'>-47.16520043372775</span></li><li><span class='ee-k'>1:</span><span class='ee-v'>-7.318768197266828</span></li></ul></li><li><label class='ee-shut'>285: [-47.16460047643596, -7.319233269528067]<input type='checkbox' class='ee-toggle'></label><ul><li><span class='ee-k'>0:</span><span class='ee-v'>-47.16460047643596</span></li><li><span class='ee-k'>1:</span><span class='ee-v'>-7.319233269528067</span></li></ul></li><li><label class='ee-shut'>286: [-47.16418897704679, -7.319643583968644]<input type='checkbox' class='ee-toggle'></label><ul><li><span class='ee-k'>0:</span><span class='ee-v'>-47.16418897704679</span></li><li><span class='ee-k'>1:</span><span class='ee-v'>-7.319643583968644</span></li></ul></li><li><label class='ee-shut'>287: [-47.163782688806734, -7.320192958949211]<input type='checkbox' class='ee-toggle'></label><ul><li><span class='ee-k'>0:</span><span class='ee-v'>-47.163782688806734</span></li><li><span class='ee-k'>1:</span><span class='ee-v'>-7.320192958949211</span></li></ul></li><li><label class='ee-shut'>288: [-47.163403558789476, -7.320796040621931]<input type='checkbox' class='ee-toggle'></label><ul><li><span class='ee-k'>0:</span><span class='ee-v'>-47.163403558789476</span></li><li><span class='ee-k'>1:</span><span class='ee-v'>-7.320796040621931</span></li></ul></li><li><label class='ee-shut'>289: [-47.162506186462274, -7.32202983208701]<input type='checkbox' class='ee-toggle'></label><ul><li><span class='ee-k'>0:</span><span class='ee-v'>-47.162506186462274</span></li><li><span class='ee-k'>1:</span><span class='ee-v'>-7.32202983208701</span></li></ul></li><li><label class='ee-shut'>290: [-47.162047760395545, -7.322956381502135]<input type='checkbox' class='ee-toggle'></label><ul><li><span class='ee-k'>0:</span><span class='ee-v'>-47.162047760395545</span></li><li><span class='ee-k'>1:</span><span class='ee-v'>-7.322956381502135</span></li></ul></li><li><label class='ee-shut'>291: [-47.16172295141645, -7.323644443379345]<input type='checkbox' class='ee-toggle'></label><ul><li><span class='ee-k'>0:</span><span class='ee-v'>-47.16172295141645</span></li><li><span class='ee-k'>1:</span><span class='ee-v'>-7.323644443379345</span></li></ul></li><li><label class='ee-shut'>292: [-47.16147945762343, -7.324408418626539]<input type='checkbox' class='ee-toggle'></label><ul><li><span class='ee-k'>0:</span><span class='ee-v'>-47.16147945762343</span></li><li><span class='ee-k'>1:</span><span class='ee-v'>-7.324408418626539</span></li></ul></li><li><label class='ee-shut'>293: [-47.16126363961812, -7.325311380208493]<input type='checkbox' class='ee-toggle'></label><ul><li><span class='ee-k'>0:</span><span class='ee-v'>-47.16126363961812</span></li><li><span class='ee-k'>1:</span><span class='ee-v'>-7.325311380208493</span></li></ul></li><li><label class='ee-shut'>294: [-47.16093883560353, -7.325994953717677]<input type='checkbox' class='ee-toggle'></label><ul><li><span class='ee-k'>0:</span><span class='ee-v'>-47.16093883560353</span></li><li><span class='ee-k'>1:</span><span class='ee-v'>-7.325994953717677</span></li></ul></li><li><label class='ee-shut'>295: [-47.16064059204258, -7.326597641039997]<input type='checkbox' class='ee-toggle'></label><ul><li><span class='ee-k'>0:</span><span class='ee-v'>-47.16064059204258</span></li><li><span class='ee-k'>1:</span><span class='ee-v'>-7.326597641039997</span></li></ul></li><li><label class='ee-shut'>296: [-47.16052982055546, -7.326925736710513]<input type='checkbox' class='ee-toggle'></label><ul><li><span class='ee-k'>0:</span><span class='ee-v'>-47.16052982055546</span></li><li><span class='ee-k'>1:</span><span class='ee-v'>-7.326925736710513</span></li></ul></li><li><label class='ee-shut'>297: [-47.1604523029747, -7.3266972832398025]<input type='checkbox' class='ee-toggle'></label><ul><li><span class='ee-k'>0:</span><span class='ee-v'>-47.1604523029747</span></li><li><span class='ee-k'>1:</span><span class='ee-v'>-7.3266972832398025</span></li></ul></li><li><label class='ee-shut'>298: [-47.160171693287566, -7.326276878723625]<input type='checkbox' class='ee-toggle'></label><ul><li><span class='ee-k'>0:</span><span class='ee-v'>-47.160171693287566</span></li><li><span class='ee-k'>1:</span><span class='ee-v'>-7.326276878723625</span></li></ul></li><li><label class='ee-shut'>299: [-47.159941002327, -7.325968335627863]<input type='checkbox' class='ee-toggle'></label><ul><li><span class='ee-k'>0:</span><span class='ee-v'>-47.159941002327</span></li><li><span class='ee-k'>1:</span><span class='ee-v'>-7.325968335627863</span></li></ul></li><li><label class='ee-shut'>300: [-47.159503652012276, -7.325674295309967]<input type='checkbox' class='ee-toggle'></label><ul><li><span class='ee-k'>0:</span><span class='ee-v'>-47.159503652012276</span></li><li><span class='ee-k'>1:</span><span class='ee-v'>-7.325674295309967</span></li></ul></li><li><label class='ee-shut'>301: [-47.15891358091939, -7.3254079306182005]<input type='checkbox' class='ee-toggle'></label><ul><li><span class='ee-k'>0:</span><span class='ee-v'>-47.15891358091939</span></li><li><span class='ee-k'>1:</span><span class='ee-v'>-7.3254079306182005</span></li></ul></li><li><label class='ee-shut'>302: [-47.15839143466386, -7.325244374952646]<input type='checkbox' class='ee-toggle'></label><ul><li><span class='ee-k'>0:</span><span class='ee-v'>-47.15839143466386</span></li><li><span class='ee-k'>1:</span><span class='ee-v'>-7.325244374952646</span></li></ul></li><li><label class='ee-shut'>303: [-47.15799516052202, -7.325075802866164]<input type='checkbox' class='ee-toggle'></label><ul><li><span class='ee-k'>0:</span><span class='ee-v'>-47.15799516052202</span></li><li><span class='ee-k'>1:</span><span class='ee-v'>-7.325075802866164</span></li></ul></li><li><label class='ee-shut'>304: [-47.157755850213036, -7.324839106222516]<input type='checkbox' class='ee-toggle'></label><ul><li><span class='ee-k'>0:</span><span class='ee-v'>-47.157755850213036</span></li><li><span class='ee-k'>1:</span><span class='ee-v'>-7.324839106222516</span></li></ul></li><li><label class='ee-shut'>305: [-47.15758386289069, -7.324588689330745]<input type='checkbox' class='ee-toggle'></label><ul><li><span class='ee-k'>0:</span><span class='ee-v'>-47.15758386289069</span></li><li><span class='ee-k'>1:</span><span class='ee-v'>-7.324588689330745</span></li></ul></li><li><label class='ee-shut'>306: [-47.15733123895943, -7.324392465932867]<input type='checkbox' class='ee-toggle'></label><ul><li><span class='ee-k'>0:</span><span class='ee-v'>-47.15733123895943</span></li><li><span class='ee-k'>1:</span><span class='ee-v'>-7.324392465932867</span></li></ul></li><li><label class='ee-shut'>307: [-47.157047373270395, -7.324250205085171]<input type='checkbox' class='ee-toggle'></label><ul><li><span class='ee-k'>0:</span><span class='ee-v'>-47.157047373270395</span></li><li><span class='ee-k'>1:</span><span class='ee-v'>-7.324250205085171</span></li></ul></li><li><label class='ee-shut'>308: [-47.15657069668531, -7.324185178883829]<input type='checkbox' class='ee-toggle'></label><ul><li><span class='ee-k'>0:</span><span class='ee-v'>-47.15657069668531</span></li><li><span class='ee-k'>1:</span><span class='ee-v'>-7.324185178883829</span></li></ul></li><li><label class='ee-shut'>309: [-47.15617532925224, -7.324213998973545]<input type='checkbox' class='ee-toggle'></label><ul><li><span class='ee-k'>0:</span><span class='ee-v'>-47.15617532925224</span></li><li><span class='ee-k'>1:</span><span class='ee-v'>-7.324213998973545</span></li></ul></li><li><label class='ee-shut'>310: [-47.1556006943439, -7.32434236674066]<input type='checkbox' class='ee-toggle'></label><ul><li><span class='ee-k'>0:</span><span class='ee-v'>-47.1556006943439</span></li><li><span class='ee-k'>1:</span><span class='ee-v'>-7.32434236674066</span></li></ul></li><li><label class='ee-shut'>311: [-47.15520518561774, -7.324330849816222]<input type='checkbox' class='ee-toggle'></label><ul><li><span class='ee-k'>0:</span><span class='ee-v'>-47.15520518561774</span></li><li><span class='ee-k'>1:</span><span class='ee-v'>-7.324330849816222</span></li></ul></li><li><label class='ee-shut'>312: [-47.15484932707247, -7.324162017315677]<input type='checkbox' class='ee-toggle'></label><ul><li><span class='ee-k'>0:</span><span class='ee-v'>-47.15484932707247</span></li><li><span class='ee-k'>1:</span><span class='ee-v'>-7.324162017315677</span></li></ul></li><li><label class='ee-shut'>313: [-47.154569417497775, -7.32391207806106]<input type='checkbox' class='ee-toggle'></label><ul><li><span class='ee-k'>0:</span><span class='ee-v'>-47.154569417497775</span></li><li><span class='ee-k'>1:</span><span class='ee-v'>-7.32391207806106</span></li></ul></li><li><label class='ee-shut'>314: [-47.15431130399015, -7.323505017876439]<input type='checkbox' class='ee-toggle'></label><ul><li><span class='ee-k'>0:</span><span class='ee-v'>-47.15431130399015</span></li><li><span class='ee-k'>1:</span><span class='ee-v'>-7.323505017876439</span></li></ul></li><li><label class='ee-shut'>315: [-47.15418336348236, -7.32305687416281]<input type='checkbox' class='ee-toggle'></label><ul><li><span class='ee-k'>0:</span><span class='ee-v'>-47.15418336348236</span></li><li><span class='ee-k'>1:</span><span class='ee-v'>-7.32305687416281</span></li></ul></li><li><label class='ee-shut'>316: [-47.15404099285066, -7.322424865246454]<input type='checkbox' class='ee-toggle'></label><ul><li><span class='ee-k'>0:</span><span class='ee-v'>-47.15404099285066</span></li><li><span class='ee-k'>1:</span><span class='ee-v'>-7.322424865246454</span></li></ul></li><li><label class='ee-shut'>317: [-47.15396757617468, -7.322115607295851]<input type='checkbox' class='ee-toggle'></label><ul><li><span class='ee-k'>0:</span><span class='ee-v'>-47.15396757617468</span></li><li><span class='ee-k'>1:</span><span class='ee-v'>-7.322115607295851</span></li></ul></li><li><label class='ee-shut'>318: [-47.15378682432004, -7.32190558334285]<input type='checkbox' class='ee-toggle'></label><ul><li><span class='ee-k'>0:</span><span class='ee-v'>-47.15378682432004</span></li><li><span class='ee-k'>1:</span><span class='ee-v'>-7.32190558334285</span></li></ul></li><li><label class='ee-shut'>319: [-47.153516218413365, -7.321709430688653]<input type='checkbox' class='ee-toggle'></label><ul><li><span class='ee-k'>0:</span><span class='ee-v'>-47.153516218413365</span></li><li><span class='ee-k'>1:</span><span class='ee-v'>-7.321709430688653</span></li></ul></li><li><label class='ee-shut'>320: [-47.15309283237761, -7.321514067195051]<input type='checkbox' class='ee-toggle'></label><ul><li><span class='ee-k'>0:</span><span class='ee-v'>-47.15309283237761</span></li><li><span class='ee-k'>1:</span><span class='ee-v'>-7.321514067195051</span></li></ul></li><li><label class='ee-shut'>321: [-47.152781617605115, -7.321277724625836]<input type='checkbox' class='ee-toggle'></label><ul><li><span class='ee-k'>0:</span><span class='ee-v'>-47.152781617605115</span></li><li><span class='ee-k'>1:</span><span class='ee-v'>-7.321277724625836</span></li></ul></li><li><label class='ee-shut'>322: [-47.15264111040728, -7.32104054330647]<input type='checkbox' class='ee-toggle'></label><ul><li><span class='ee-k'>0:</span><span class='ee-v'>-47.15264111040728</span></li><li><span class='ee-k'>1:</span><span class='ee-v'>-7.32104054330647</span></li></ul></li><li><label class='ee-shut'>323: [-47.15246876832984, -7.320704871270344]<input type='checkbox' class='ee-toggle'></label><ul><li><span class='ee-k'>0:</span><span class='ee-v'>-47.15246876832984</span></li><li><span class='ee-k'>1:</span><span class='ee-v'>-7.320704871270344</span></li></ul></li><li><label class='ee-shut'>324: [-47.15221587207021, -7.320463773709478]<input type='checkbox' class='ee-toggle'></label><ul><li><span class='ee-k'>0:</span><span class='ee-v'>-47.15221587207021</span></li><li><span class='ee-k'>1:</span><span class='ee-v'>-7.320463773709478</span></li></ul></li><li><label class='ee-shut'>325: [-47.15207090357085, -7.320213209076119]<input type='checkbox' class='ee-toggle'></label><ul><li><span class='ee-k'>0:</span><span class='ee-v'>-47.15207090357085</span></li><li><span class='ee-k'>1:</span><span class='ee-v'>-7.320213209076119</span></li></ul></li><li><label class='ee-shut'>326: [-47.151858100374504, -7.3198911213790065]<input type='checkbox' class='ee-toggle'></label><ul><li><span class='ee-k'>0:</span><span class='ee-v'>-47.151858100374504</span></li><li><span class='ee-k'>1:</span><span class='ee-v'>-7.3198911213790065</span></li></ul></li><li><label class='ee-shut'>327: [-47.15173529823282, -7.319582121928349]<input type='checkbox' class='ee-toggle'></label><ul><li><span class='ee-k'>0:</span><span class='ee-v'>-47.15173529823282</span></li><li><span class='ee-k'>1:</span><span class='ee-v'>-7.319582121928349</span></li></ul></li><li><label class='ee-shut'>328: [-47.15102876394444, -7.3193790699955]<input type='checkbox' class='ee-toggle'></label><ul><li><span class='ee-k'>0:</span><span class='ee-v'>-47.15102876394444</span></li><li><span class='ee-k'>1:</span><span class='ee-v'>-7.3193790699955</span></li></ul></li><li><label class='ee-shut'>329: [-47.15035734597214, -7.3190098306931635]<input type='checkbox' class='ee-toggle'></label><ul><li><span class='ee-k'>0:</span><span class='ee-v'>-47.15035734597214</span></li><li><span class='ee-k'>1:</span><span class='ee-v'>-7.3190098306931635</span></li></ul></li><li><label class='ee-shut'>330: [-47.14986183964343, -7.318774413414684]<input type='checkbox' class='ee-toggle'></label><ul><li><span class='ee-k'>0:</span><span class='ee-v'>-47.14986183964343</span></li><li><span class='ee-k'>1:</span><span class='ee-v'>-7.318774413414684</span></li></ul></li><li><label class='ee-shut'>331: [-47.149406501664615, -7.318480390653908]<input type='checkbox' class='ee-toggle'></label><ul><li><span class='ee-k'>0:</span><span class='ee-v'>-47.149406501664615</span></li><li><span class='ee-k'>1:</span><span class='ee-v'>-7.318480390653908</span></li></ul></li><li><label class='ee-shut'>332: [-47.14899147971837, -7.318145844602249]<input type='checkbox' class='ee-toggle'></label><ul><li><span class='ee-k'>0:</span><span class='ee-v'>-47.14899147971837</span></li><li><span class='ee-k'>1:</span><span class='ee-v'>-7.318145844602249</span></li></ul></li><li><label class='ee-shut'>333: [-47.148594534451924, -7.317851575666045]<input type='checkbox' class='ee-toggle'></label><ul><li><span class='ee-k'>0:</span><span class='ee-v'>-47.148594534451924</span></li><li><span class='ee-k'>1:</span><span class='ee-v'>-7.317851575666045</span></li></ul></li><li><label class='ee-shut'>334: [-47.14813980272998, -7.317678750952542]<input type='checkbox' class='ee-toggle'></label><ul><li><span class='ee-k'>0:</span><span class='ee-v'>-47.14813980272998</span></li><li><span class='ee-k'>1:</span><span class='ee-v'>-7.317678750952542</span></li></ul></li><li><label class='ee-shut'>335: [-47.14760482502271, -7.317640959256596]<input type='checkbox' class='ee-toggle'></label><ul><li><span class='ee-k'>0:</span><span class='ee-v'>-47.14760482502271</span></li><li><span class='ee-k'>1:</span><span class='ee-v'>-7.317640959256596</span></li></ul></li><li><label class='ee-shut'>336: [-47.147034525448674, -7.3177423846534815]<input type='checkbox' class='ee-toggle'></label><ul><li><span class='ee-k'>0:</span><span class='ee-v'>-47.147034525448674</span></li><li><span class='ee-k'>1:</span><span class='ee-v'>-7.3177423846534815</span></li></ul></li><li><label class='ee-shut'>337: [-47.146563296785025, -7.317883748018095]<input type='checkbox' class='ee-toggle'></label><ul><li><span class='ee-k'>0:</span><span class='ee-v'>-47.146563296785025</span></li><li><span class='ee-k'>1:</span><span class='ee-v'>-7.317883748018095</span></li></ul></li><li><label class='ee-shut'>338: [-47.146087387005835, -7.317984696389631]<input type='checkbox' class='ee-toggle'></label><ul><li><span class='ee-k'>0:</span><span class='ee-v'>-47.146087387005835</span></li><li><span class='ee-k'>1:</span><span class='ee-v'>-7.317984696389631</span></li></ul></li><li><label class='ee-shut'>339: [-47.145656327672, -7.31806301411698]<input type='checkbox' class='ee-toggle'></label><ul><li><span class='ee-k'>0:</span><span class='ee-v'>-47.145656327672</span></li><li><span class='ee-k'>1:</span><span class='ee-v'>-7.31806301411698</span></li></ul></li><li><label class='ee-shut'>340: [-47.14519805221091, -7.318087692808214]<input type='checkbox' class='ee-toggle'></label><ul><li><span class='ee-k'>0:</span><span class='ee-v'>-47.14519805221091</span></li><li><span class='ee-k'>1:</span><span class='ee-v'>-7.318087692808214</span></li></ul></li><li><label class='ee-shut'>341: [-47.144568952729244, -7.318108633520033]<input type='checkbox' class='ee-toggle'></label><ul><li><span class='ee-k'>0:</span><span class='ee-v'>-47.144568952729244</span></li><li><span class='ee-k'>1:</span><span class='ee-v'>-7.318108633520033</span></li></ul></li><li><label class='ee-shut'>342: [-47.14380056790428, -7.3181347281429385]<input type='checkbox' class='ee-toggle'></label><ul><li><span class='ee-k'>0:</span><span class='ee-v'>-47.14380056790428</span></li><li><span class='ee-k'>1:</span><span class='ee-v'>-7.3181347281429385</span></li></ul></li><li><label class='ee-shut'>343: [-47.1432253279976, -7.318137451122547]<input type='checkbox' class='ee-toggle'></label><ul><li><span class='ee-k'>0:</span><span class='ee-v'>-47.1432253279976</span></li><li><span class='ee-k'>1:</span><span class='ee-v'>-7.318137451122547</span></li></ul></li><li><label class='ee-shut'>344: [-47.1427716106814, -7.318175521452568]<input type='checkbox' class='ee-toggle'></label><ul><li><span class='ee-k'>0:</span><span class='ee-v'>-47.1427716106814</span></li><li><span class='ee-k'>1:</span><span class='ee-v'>-7.318175521452568</span></li></ul></li><li><label class='ee-shut'>345: [-47.14225959391532, -7.31824078712318]<input type='checkbox' class='ee-toggle'></label><ul><li><span class='ee-k'>0:</span><span class='ee-v'>-47.14225959391532</span></li><li><span class='ee-k'>1:</span><span class='ee-v'>-7.31824078712318</span></li></ul></li><li><label class='ee-shut'>346: [-47.141667118444275, -7.318400612872591]<input type='checkbox' class='ee-toggle'></label><ul><li><span class='ee-k'>0:</span><span class='ee-v'>-47.141667118444275</span></li><li><span class='ee-k'>1:</span><span class='ee-v'>-7.318400612872591</span></li></ul></li><li><label class='ee-shut'>347: [-47.14119593912614, -7.318559889626263]<input type='checkbox' class='ee-toggle'></label><ul><li><span class='ee-k'>0:</span><span class='ee-v'>-47.14119593912614</span></li><li><span class='ee-k'>1:</span><span class='ee-v'>-7.318559889626263</span></li></ul></li><li><label class='ee-shut'>348: [-47.14070148808926, -7.318539816169672]<input type='checkbox' class='ee-toggle'></label><ul><li><span class='ee-k'>0:</span><span class='ee-v'>-47.14070148808926</span></li><li><span class='ee-k'>1:</span><span class='ee-v'>-7.318539816169672</span></li></ul></li><li><label class='ee-shut'>349: [-47.140463076495195, -7.318482649626038]<input type='checkbox' class='ee-toggle'></label><ul><li><span class='ee-k'>0:</span><span class='ee-v'>-47.140463076495195</span></li><li><span class='ee-k'>1:</span><span class='ee-v'>-7.318482649626038</span></li></ul></li><li><label class='ee-shut'>350: [-47.14013007550772, -7.318407929359426]<input type='checkbox' class='ee-toggle'></label><ul><li><span class='ee-k'>0:</span><span class='ee-v'>-47.14013007550772</span></li><li><span class='ee-k'>1:</span><span class='ee-v'>-7.318407929359426</span></li></ul></li><li><label class='ee-shut'>351: [-47.13955376135972, -7.318172870811306]<input type='checkbox' class='ee-toggle'></label><ul><li><span class='ee-k'>0:</span><span class='ee-v'>-47.13955376135972</span></li><li><span class='ee-k'>1:</span><span class='ee-v'>-7.318172870811306</span></li></ul></li><li><label class='ee-shut'>352: [-47.13886472123578, -7.317879986599502]<input type='checkbox' class='ee-toggle'></label><ul><li><span class='ee-k'>0:</span><span class='ee-v'>-47.13886472123578</span></li><li><span class='ee-k'>1:</span><span class='ee-v'>-7.317879986599502</span></li></ul></li><li><label class='ee-shut'>353: [-47.13822952755105, -7.31756889578343]<input type='checkbox' class='ee-toggle'></label><ul><li><span class='ee-k'>0:</span><span class='ee-v'>-47.13822952755105</span></li><li><span class='ee-k'>1:</span><span class='ee-v'>-7.31756889578343</span></li></ul></li><li><label class='ee-shut'>354: [-47.137657919455414, -7.317392127526159]<input type='checkbox' class='ee-toggle'></label><ul><li><span class='ee-k'>0:</span><span class='ee-v'>-47.137657919455414</span></li><li><span class='ee-k'>1:</span><span class='ee-v'>-7.317392127526159</span></li></ul></li><li><label class='ee-shut'>355: [-47.13700630738972, -7.317395197147855]<input type='checkbox' class='ee-toggle'></label><ul><li><span class='ee-k'>0:</span><span class='ee-v'>-47.13700630738972</span></li><li><span class='ee-k'>1:</span><span class='ee-v'>-7.317395197147855</span></li></ul></li><li><label class='ee-shut'>356: [-47.1364315155396, -7.317496682219448]<input type='checkbox' class='ee-toggle'></label><ul><li><span class='ee-k'>0:</span><span class='ee-v'>-47.1364315155396</span></li><li><span class='ee-k'>1:</span><span class='ee-v'>-7.317496682219448</span></li></ul></li><li><label class='ee-shut'>357: [-47.13584215610316, -7.317360351029747]<input type='checkbox' class='ee-toggle'></label><ul><li><span class='ee-k'>0:</span><span class='ee-v'>-47.13584215610316</span></li><li><span class='ee-k'>1:</span><span class='ee-v'>-7.317360351029747</span></li></ul></li><li><label class='ee-shut'>358: [-47.13538709138133, -7.317129191729565]<input type='checkbox' class='ee-toggle'></label><ul><li><span class='ee-k'>0:</span><span class='ee-v'>-47.13538709138133</span></li><li><span class='ee-k'>1:</span><span class='ee-v'>-7.317129191729565</span></li></ul></li><li><label class='ee-shut'>359: [-47.13494980178643, -7.31683510619273]<input type='checkbox' class='ee-toggle'></label><ul><li><span class='ee-k'>0:</span><span class='ee-v'>-47.13494980178643</span></li><li><span class='ee-k'>1:</span><span class='ee-v'>-7.31683510619273</span></li></ul></li><li><label class='ee-shut'>360: [-47.13461081383227, -7.316441851203645]<input type='checkbox' class='ee-toggle'></label><ul><li><span class='ee-k'>0:</span><span class='ee-v'>-47.13461081383227</span></li><li><span class='ee-k'>1:</span><span class='ee-v'>-7.316441851203645</span></li></ul></li><li><label class='ee-shut'>361: [-47.13423561723366, -7.315972439570387]<input type='checkbox' class='ee-toggle'></label><ul><li><span class='ee-k'>0:</span><span class='ee-v'>-47.13423561723366</span></li><li><span class='ee-k'>1:</span><span class='ee-v'>-7.315972439570387</span></li></ul></li><li><label class='ee-shut'>362: [-47.133775659397855, -7.315647071731693]<input type='checkbox' class='ee-toggle'></label><ul><li><span class='ee-k'>0:</span><span class='ee-v'>-47.133775659397855</span></li><li><span class='ee-k'>1:</span><span class='ee-v'>-7.315647071731693</span></li></ul></li><li><label class='ee-shut'>363: [-47.13358122324235, -7.315401179245217]<input type='checkbox' class='ee-toggle'></label><ul><li><span class='ee-k'>0:</span><span class='ee-v'>-47.13358122324235</span></li><li><span class='ee-k'>1:</span><span class='ee-v'>-7.315401179245217</span></li></ul></li><li><label class='ee-shut'>364: [-47.13340024585486, -7.315146285176155]<input type='checkbox' class='ee-toggle'></label><ul><li><span class='ee-k'>0:</span><span class='ee-v'>-47.13340024585486</span></li><li><span class='ee-k'>1:</span><span class='ee-v'>-7.315146285176155</span></li></ul></li><li><label class='ee-shut'>365: [-47.13304424125771, -7.314950522625448]<input type='checkbox' class='ee-toggle'></label><ul><li><span class='ee-k'>0:</span><span class='ee-v'>-47.13304424125771</span></li><li><span class='ee-k'>1:</span><span class='ee-v'>-7.314950522625448</span></li></ul></li><li><label class='ee-shut'>366: [-47.132629054393504, -7.314580045696986]<input type='checkbox' class='ee-toggle'></label><ul><li><span class='ee-k'>0:</span><span class='ee-v'>-47.132629054393504</span></li><li><span class='ee-k'>1:</span><span class='ee-v'>-7.314580045696986</span></li></ul></li><li><label class='ee-shut'>367: [-47.132055724340255, -7.314048796467524]<input type='checkbox' class='ee-toggle'></label><ul><li><span class='ee-k'>0:</span><span class='ee-v'>-47.132055724340255</span></li><li><span class='ee-k'>1:</span><span class='ee-v'>-7.314048796467524</span></li></ul></li><li><label class='ee-shut'>368: [-47.13183430511412, -7.313794054669534]<input type='checkbox' class='ee-toggle'></label><ul><li><span class='ee-k'>0:</span><span class='ee-v'>-47.13183430511412</span></li><li><span class='ee-k'>1:</span><span class='ee-v'>-7.313794054669534</span></li></ul></li><li><label class='ee-shut'>369: [-47.13155868486942, -7.313481262482875]<input type='checkbox' class='ee-toggle'></label><ul><li><span class='ee-k'>0:</span><span class='ee-v'>-47.13155868486942</span></li><li><span class='ee-k'>1:</span><span class='ee-v'>-7.313481262482875</span></li></ul></li><li><label class='ee-shut'>370: [-47.13125131837169, -7.313105830874814]<input type='checkbox' class='ee-toggle'></label><ul><li><span class='ee-k'>0:</span><span class='ee-v'>-47.13125131837169</span></li><li><span class='ee-k'>1:</span><span class='ee-v'>-7.313105830874814</span></li></ul></li><li><label class='ee-shut'>371: [-47.131061427170785, -7.312873356769673]<input type='checkbox' class='ee-toggle'></label><ul><li><span class='ee-k'>0:</span><span class='ee-v'>-47.131061427170785</span></li><li><span class='ee-k'>1:</span><span class='ee-v'>-7.312873356769673</span></li></ul></li><li><label class='ee-shut'>372: [-47.13082112733372, -7.31242127561451]<input type='checkbox' class='ee-toggle'></label><ul><li><span class='ee-k'>0:</span><span class='ee-v'>-47.13082112733372</span></li><li><span class='ee-k'>1:</span><span class='ee-v'>-7.31242127561451</span></li></ul></li><li><label class='ee-shut'>373: [-47.13064365413704, -7.311968897036522]<input type='checkbox' class='ee-toggle'></label><ul><li><span class='ee-k'>0:</span><span class='ee-v'>-47.13064365413704</span></li><li><span class='ee-k'>1:</span><span class='ee-v'>-7.311968897036522</span></li></ul></li><li><label class='ee-shut'>374: [-47.130402910163575, -7.311418133036691]<input type='checkbox' class='ee-toggle'></label><ul><li><span class='ee-k'>0:</span><span class='ee-v'>-47.130402910163575</span></li><li><span class='ee-k'>1:</span><span class='ee-v'>-7.311418133036691</span></li></ul></li><li><label class='ee-shut'>375: [-47.13010328289526, -7.310786861851017]<input type='checkbox' class='ee-toggle'></label><ul><li><span class='ee-k'>0:</span><span class='ee-v'>-47.13010328289526</span></li><li><span class='ee-k'>1:</span><span class='ee-v'>-7.310786861851017</span></li></ul></li><li><label class='ee-shut'>376: [-47.129844772142114, -7.310294474724121]<input type='checkbox' class='ee-toggle'></label><ul><li><span class='ee-k'>0:</span><span class='ee-v'>-47.129844772142114</span></li><li><span class='ee-k'>1:</span><span class='ee-v'>-7.310294474724121</span></li></ul></li><li><label class='ee-shut'>377: [-47.1295869318279, -7.30994123206179]<input type='checkbox' class='ee-toggle'></label><ul><li><span class='ee-k'>0:</span><span class='ee-v'>-47.1295869318279</span></li><li><span class='ee-k'>1:</span><span class='ee-v'>-7.30994123206179</span></li></ul></li><li><label class='ee-shut'>378: [-47.12914954305263, -7.309629171174325]<input type='checkbox' class='ee-toggle'></label><ul><li><span class='ee-k'>0:</span><span class='ee-v'>-47.12914954305263</span></li><li><span class='ee-k'>1:</span><span class='ee-v'>-7.309629171174325</span></li></ul></li><li><label class='ee-shut'>379: [-47.128635580700276, -7.3092950941133354]<input type='checkbox' class='ee-toggle'></label><ul><li><span class='ee-k'>0:</span><span class='ee-v'>-47.128635580700276</span></li><li><span class='ee-k'>1:</span><span class='ee-v'>-7.3092950941133354</span></li></ul></li><li><label class='ee-shut'>380: [-47.1282788657569, -7.308942256401857]<input type='checkbox' class='ee-toggle'></label><ul><li><span class='ee-k'>0:</span><span class='ee-v'>-47.1282788657569</span></li><li><span class='ee-k'>1:</span><span class='ee-v'>-7.308942256401857</span></li></ul></li><li><label class='ee-shut'>381: [-47.127904310306, -7.308611976798883]<input type='checkbox' class='ee-toggle'></label><ul><li><span class='ee-k'>0:</span><span class='ee-v'>-47.127904310306</span></li><li><span class='ee-k'>1:</span><span class='ee-v'>-7.308611976798883</span></li></ul></li><li><label class='ee-shut'>382: [-47.1274488700326, -7.308295539565789]<input type='checkbox' class='ee-toggle'></label><ul><li><span class='ee-k'>0:</span><span class='ee-v'>-47.1274488700326</span></li><li><span class='ee-k'>1:</span><span class='ee-v'>-7.308295539565789</span></li></ul></li><li><label class='ee-shut'>383: [-47.126696800250535, -7.307967040096571]<input type='checkbox' class='ee-toggle'></label><ul><li><span class='ee-k'>0:</span><span class='ee-v'>-47.126696800250535</span></li><li><span class='ee-k'>1:</span><span class='ee-v'>-7.307967040096571</span></li></ul></li><li><label class='ee-shut'>384: [-47.12611981944473, -7.307592857487774]<input type='checkbox' class='ee-toggle'></label><ul><li><span class='ee-k'>0:</span><span class='ee-v'>-47.12611981944473</span></li><li><span class='ee-k'>1:</span><span class='ee-v'>-7.307592857487774</span></li></ul></li><li><label class='ee-shut'>385: [-47.125547900421125, -7.307357684628367]<input type='checkbox' class='ee-toggle'></label><ul><li><span class='ee-k'>0:</span><span class='ee-v'>-47.125547900421125</span></li><li><span class='ee-k'>1:</span><span class='ee-v'>-7.307357684628367</span></li></ul></li><li><label class='ee-shut'>386: [-47.12483674627686, -7.307127743486589]<input type='checkbox' class='ee-toggle'></label><ul><li><span class='ee-k'>0:</span><span class='ee-v'>-47.12483674627686</span></li><li><span class='ee-k'>1:</span><span class='ee-v'>-7.307127743486589</span></li></ul></li><li><label class='ee-shut'>387: [-47.12422469772842, -7.3069510933268145]<input type='checkbox' class='ee-toggle'></label><ul><li><span class='ee-k'>0:</span><span class='ee-v'>-47.12422469772842</span></li><li><span class='ee-k'>1:</span><span class='ee-v'>-7.3069510933268145</span></li></ul></li><li><label class='ee-shut'>388: [-47.12383307375782, -7.306809383889916]<input type='checkbox' class='ee-toggle'></label><ul><li><span class='ee-k'>0:</span><span class='ee-v'>-47.12383307375782</span></li><li><span class='ee-k'>1:</span><span class='ee-v'>-7.306809383889916</span></li></ul></li><li><label class='ee-shut'>389: [-47.123019132913086, -7.306700999445966]<input type='checkbox' class='ee-toggle'></label><ul><li><span class='ee-k'>0:</span><span class='ee-v'>-47.123019132913086</span></li><li><span class='ee-k'>1:</span><span class='ee-v'>-7.306700999445966</span></li></ul></li><li><label class='ee-shut'>390: [-47.12220892188453, -7.306431085552548]<input type='checkbox' class='ee-toggle'></label><ul><li><span class='ee-k'>0:</span><span class='ee-v'>-47.12220892188453</span></li><li><span class='ee-k'>1:</span><span class='ee-v'>-7.306431085552548</span></li></ul></li><li><label class='ee-shut'>391: [-47.12164284480875, -7.306469674581133]<input type='checkbox' class='ee-toggle'></label><ul><li><span class='ee-k'>0:</span><span class='ee-v'>-47.12164284480875</span></li><li><span class='ee-k'>1:</span><span class='ee-v'>-7.306469674581133</span></li></ul></li><li><label class='ee-shut'>392: [-47.12127889363508, -7.306493805743982]<input type='checkbox' class='ee-toggle'></label><ul><li><span class='ee-k'>0:</span><span class='ee-v'>-47.12127889363508</span></li><li><span class='ee-k'>1:</span><span class='ee-v'>-7.306493805743982</span></li></ul></li><li><label class='ee-shut'>393: [-47.120429907297456, -7.306574120203158]<input type='checkbox' class='ee-toggle'></label><ul><li><span class='ee-k'>0:</span><span class='ee-v'>-47.120429907297456</span></li><li><span class='ee-k'>1:</span><span class='ee-v'>-7.306574120203158</span></li></ul></li><li><label class='ee-shut'>394: [-47.11966188450657, -7.306676454456619]<input type='checkbox' class='ee-toggle'></label><ul><li><span class='ee-k'>0:</span><span class='ee-v'>-47.11966188450657</span></li><li><span class='ee-k'>1:</span><span class='ee-v'>-7.306676454456619</span></li></ul></li><li><label class='ee-shut'>395: [-47.119306570079786, -7.306619756978865]<input type='checkbox' class='ee-toggle'></label><ul><li><span class='ee-k'>0:</span><span class='ee-v'>-47.119306570079786</span></li><li><span class='ee-k'>1:</span><span class='ee-v'>-7.306619756978865</span></li></ul></li><li><label class='ee-shut'>396: [-47.11881180999901, -7.3065457740692015]<input type='checkbox' class='ee-toggle'></label><ul><li><span class='ee-k'>0:</span><span class='ee-v'>-47.11881180999901</span></li><li><span class='ee-k'>1:</span><span class='ee-v'>-7.3065457740692015</span></li></ul></li><li><label class='ee-shut'>397: [-47.11815984304332, -7.306468069318235]<input type='checkbox' class='ee-toggle'></label><ul><li><span class='ee-k'>0:</span><span class='ee-v'>-47.11815984304332</span></li><li><span class='ee-k'>1:</span><span class='ee-v'>-7.306468069318235</span></li></ul></li><li><label class='ee-shut'>398: [-47.11789447978097, -7.306420008467447]<input type='checkbox' class='ee-toggle'></label><ul><li><span class='ee-k'>0:</span><span class='ee-v'>-47.11789447978097</span></li><li><span class='ee-k'>1:</span><span class='ee-v'>-7.306420008467447</span></li></ul></li><li><label class='ee-shut'>399: [-47.11762904356358, -7.306371875719944]<input type='checkbox' class='ee-toggle'></label><ul><li><span class='ee-k'>0:</span><span class='ee-v'>-47.11762904356358</span></li><li><span class='ee-k'>1:</span><span class='ee-v'>-7.306371875719944</span></li></ul></li><li><label class='ee-shut'>400: [-47.11715206460725, -7.30623499073437]<input type='checkbox' class='ee-toggle'></label><ul><li><span class='ee-k'>0:</span><span class='ee-v'>-47.11715206460725</span></li><li><span class='ee-k'>1:</span><span class='ee-v'>-7.30623499073437</span></li></ul></li><li><label class='ee-shut'>401: [-47.11659808481038, -7.305981857502612]<input type='checkbox' class='ee-toggle'></label><ul><li><span class='ee-k'>0:</span><span class='ee-v'>-47.11659808481038</span></li><li><span class='ee-k'>1:</span><span class='ee-v'>-7.305981857502612</span></li></ul></li><li><label class='ee-shut'>402: [-47.11614296809825, -7.30572821148562]<input type='checkbox' class='ee-toggle'></label><ul><li><span class='ee-k'>0:</span><span class='ee-v'>-47.11614296809825</span></li><li><span class='ee-k'>1:</span><span class='ee-v'>-7.30572821148562</span></li></ul></li><li><label class='ee-shut'>403: [-47.11561107461695, -7.305394133171182]<input type='checkbox' class='ee-toggle'></label><ul><li><span class='ee-k'>0:</span><span class='ee-v'>-47.11561107461695</span></li><li><span class='ee-k'>1:</span><span class='ee-v'>-7.305394133171182</span></li></ul></li><li><label class='ee-shut'>404: [-47.115273403913186, -7.305261096813075]<input type='checkbox' class='ee-toggle'></label><ul><li><span class='ee-k'>0:</span><span class='ee-v'>-47.115273403913186</span></li><li><span class='ee-k'>1:</span><span class='ee-v'>-7.305261096813075</span></li></ul></li><li><label class='ee-shut'>405: [-47.11450419494991, -7.3051076584539265]<input type='checkbox' class='ee-toggle'></label><ul><li><span class='ee-k'>0:</span><span class='ee-v'>-47.11450419494991</span></li><li><span class='ee-k'>1:</span><span class='ee-v'>-7.3051076584539265</span></li></ul></li><li><label class='ee-shut'>406: [-47.11389219561403, -7.304949012709467]<input type='checkbox' class='ee-toggle'></label><ul><li><span class='ee-k'>0:</span><span class='ee-v'>-47.11389219561403</span></li><li><span class='ee-k'>1:</span><span class='ee-v'>-7.304949012709467</span></li></ul></li><li><label class='ee-shut'>407: [-47.11345538686523, -7.304753573871583]<input type='checkbox' class='ee-toggle'></label><ul><li><span class='ee-k'>0:</span><span class='ee-v'>-47.11345538686523</span></li><li><span class='ee-k'>1:</span><span class='ee-v'>-7.304753573871583</span></li></ul></li><li><label class='ee-shut'>408: [-47.11319814935855, -7.304539398963051]<input type='checkbox' class='ee-toggle'></label><ul><li><span class='ee-k'>0:</span><span class='ee-v'>-47.11319814935855</span></li><li><span class='ee-k'>1:</span><span class='ee-v'>-7.304539398963051</span></li></ul></li><li><label class='ee-shut'>409: [-47.11281976507292, -7.304343777924539]<input type='checkbox' class='ee-toggle'></label><ul><li><span class='ee-k'>0:</span><span class='ee-v'>-47.11281976507292</span></li><li><span class='ee-k'>1:</span><span class='ee-v'>-7.304343777924539</span></li></ul></li><li><label class='ee-shut'>410: [-47.11269765107945, -7.304182799525429]<input type='checkbox' class='ee-toggle'></label><ul><li><span class='ee-k'>0:</span><span class='ee-v'>-47.11269765107945</span></li><li><span class='ee-k'>1:</span><span class='ee-v'>-7.304182799525429</span></li></ul></li><li><label class='ee-shut'>411: [-47.11203320146863, -7.304329476869158]<input type='checkbox' class='ee-toggle'></label><ul><li><span class='ee-k'>0:</span><span class='ee-v'>-47.11203320146863</span></li><li><span class='ee-k'>1:</span><span class='ee-v'>-7.304329476869158</span></li></ul></li><li><label class='ee-shut'>412: [-47.110928331543946, -7.30447376466999]<input type='checkbox' class='ee-toggle'></label><ul><li><span class='ee-k'>0:</span><span class='ee-v'>-47.110928331543946</span></li><li><span class='ee-k'>1:</span><span class='ee-v'>-7.30447376466999</span></li></ul></li><li><label class='ee-shut'>413: [-47.11023610917423, -7.304454546963366]<input type='checkbox' class='ee-toggle'></label><ul><li><span class='ee-k'>0:</span><span class='ee-v'>-47.11023610917423</span></li><li><span class='ee-k'>1:</span><span class='ee-v'>-7.304454546963366</span></li></ul></li><li><label class='ee-shut'>414: [-47.109426026175605, -7.304202593646265]<input type='checkbox' class='ee-toggle'></label><ul><li><span class='ee-k'>0:</span><span class='ee-v'>-47.109426026175605</span></li><li><span class='ee-k'>1:</span><span class='ee-v'>-7.304202593646265</span></li></ul></li><li><label class='ee-shut'>415: [-47.10804163145603, -7.304168652170355]<input type='checkbox' class='ee-toggle'></label><ul><li><span class='ee-k'>0:</span><span class='ee-v'>-47.10804163145603</span></li><li><span class='ee-k'>1:</span><span class='ee-v'>-7.304168652170355</span></li></ul></li><li><label class='ee-shut'>416: [-47.10682017278807, -7.304371821591974]<input type='checkbox' class='ee-toggle'></label><ul><li><span class='ee-k'>0:</span><span class='ee-v'>-47.10682017278807</span></li><li><span class='ee-k'>1:</span><span class='ee-v'>-7.304371821591974</span></li></ul></li><li><label class='ee-shut'>417: [-47.10579693748866, -7.30467273623277]<input type='checkbox' class='ee-toggle'></label><ul><li><span class='ee-k'>0:</span><span class='ee-v'>-47.10579693748866</span></li><li><span class='ee-k'>1:</span><span class='ee-v'>-7.30467273623277</span></li></ul></li><li><label class='ee-shut'>418: [-47.10508806420421, -7.304931824159474]<input type='checkbox' class='ee-toggle'></label><ul><li><span class='ee-k'>0:</span><span class='ee-v'>-47.10508806420421</span></li><li><span class='ee-k'>1:</span><span class='ee-v'>-7.304931824159474</span></li></ul></li><li><label class='ee-shut'>419: [-47.10421801909365, -7.305330774972115]<input type='checkbox' class='ee-toggle'></label><ul><li><span class='ee-k'>0:</span><span class='ee-v'>-47.10421801909365</span></li><li><span class='ee-k'>1:</span><span class='ee-v'>-7.305330774972115</span></li></ul></li><li><label class='ee-shut'>420: [-47.10313702278232, -7.305771103804086]<input type='checkbox' class='ee-toggle'></label><ul><li><span class='ee-k'>0:</span><span class='ee-v'>-47.10313702278232</span></li><li><span class='ee-k'>1:</span><span class='ee-v'>-7.305771103804086</span></li></ul></li><li><label class='ee-shut'>421: [-47.102405670807215, -7.3060302552042495]<input type='checkbox' class='ee-toggle'></label><ul><li><span class='ee-k'>0:</span><span class='ee-v'>-47.102405670807215</span></li><li><span class='ee-k'>1:</span><span class='ee-v'>-7.3060302552042495</span></li></ul></li><li><label class='ee-shut'>422: [-47.101794930814556, -7.306131801634889]<input type='checkbox' class='ee-toggle'></label><ul><li><span class='ee-k'>0:</span><span class='ee-v'>-47.101794930814556</span></li><li><span class='ee-k'>1:</span><span class='ee-v'>-7.306131801634889</span></li></ul></li><li><label class='ee-shut'>423: [-47.10110216327816, -7.305995955490285]<input type='checkbox' class='ee-toggle'></label><ul><li><span class='ee-k'>0:</span><span class='ee-v'>-47.10110216327816</span></li><li><span class='ee-k'>1:</span><span class='ee-v'>-7.305995955490285</span></li></ul></li><li><label class='ee-shut'>424: [-47.100611963280876, -7.305917476574115]<input type='checkbox' class='ee-toggle'></label><ul><li><span class='ee-k'>0:</span><span class='ee-v'>-47.100611963280876</span></li><li><span class='ee-k'>1:</span><span class='ee-v'>-7.305917476574115</span></li></ul></li><li><label class='ee-shut'>425: [-47.10034238129246, -7.305936663736686]<input type='checkbox' class='ee-toggle'></label><ul><li><span class='ee-k'>0:</span><span class='ee-v'>-47.10034238129246</span></li><li><span class='ee-k'>1:</span><span class='ee-v'>-7.305936663736686</span></li></ul></li><li><label class='ee-shut'>426: [-47.09997843300154, -7.305960810037425]<input type='checkbox' class='ee-toggle'></label><ul><li><span class='ee-k'>0:</span><span class='ee-v'>-47.09997843300154</span></li><li><span class='ee-k'>1:</span><span class='ee-v'>-7.305960810037425</span></li></ul></li><li><label class='ee-shut'>427: [-47.099268674411384, -7.306022433724566]<input type='checkbox' class='ee-toggle'></label><ul><li><span class='ee-k'>0:</span><span class='ee-v'>-47.099268674411384</span></li><li><span class='ee-k'>1:</span><span class='ee-v'>-7.306022433724566</span></li></ul></li><li><label class='ee-shut'>428: [-47.09859882648754, -7.30598963406686]<input type='checkbox' class='ee-toggle'></label><ul><li><span class='ee-k'>0:</span><span class='ee-v'>-47.09859882648754</span></li><li><span class='ee-k'>1:</span><span class='ee-v'>-7.30598963406686</span></li></ul></li><li><label class='ee-shut'>429: [-47.09800990255087, -7.305947512202507]<input type='checkbox' class='ee-toggle'></label><ul><li><span class='ee-k'>0:</span><span class='ee-v'>-47.09800990255087</span></li><li><span class='ee-k'>1:</span><span class='ee-v'>-7.305947512202507</span></li></ul></li><li><label class='ee-shut'>430: [-47.09755079029907, -7.3057970682899125]<input type='checkbox' class='ee-toggle'></label><ul><li><span class='ee-k'>0:</span><span class='ee-v'>-47.09755079029907</span></li><li><span class='ee-k'>1:</span><span class='ee-v'>-7.3057970682899125</span></li></ul></li><li><label class='ee-shut'>431: [-47.096974732481826, -7.305620253324822]<input type='checkbox' class='ee-toggle'></label><ul><li><span class='ee-k'>0:</span><span class='ee-v'>-47.096974732481826</span></li><li><span class='ee-k'>1:</span><span class='ee-v'>-7.305620253324822</span></li></ul></li><li><label class='ee-shut'>432: [-47.096303874413586, -7.30536761593427]<input type='checkbox' class='ee-toggle'></label><ul><li><span class='ee-k'>0:</span><span class='ee-v'>-47.096303874413586</span></li><li><span class='ee-k'>1:</span><span class='ee-v'>-7.30536761593427</span></li></ul></li><li><label class='ee-shut'>433: [-47.09531985620002, -7.3054125902197224]<input type='checkbox' class='ee-toggle'></label><ul><li><span class='ee-k'>0:</span><span class='ee-v'>-47.09531985620002</span></li><li><span class='ee-k'>1:</span><span class='ee-v'>-7.3054125902197224</span></li></ul></li><li><label class='ee-shut'>434: [-47.09417485552785, -7.305633258913742]<input type='checkbox' class='ee-toggle'></label><ul><li><span class='ee-k'>0:</span><span class='ee-v'>-47.09417485552785</span></li><li><span class='ee-k'>1:</span><span class='ee-v'>-7.305633258913742</span></li></ul></li><li><label class='ee-shut'>435: [-47.09326747687114, -7.305718289918508]<input type='checkbox' class='ee-toggle'></label><ul><li><span class='ee-k'>0:</span><span class='ee-v'>-47.09326747687114</span></li><li><span class='ee-k'>1:</span><span class='ee-v'>-7.305718289918508</span></li></ul></li><li><label class='ee-shut'>436: [-47.09249399256177, -7.305623113618079]<input type='checkbox' class='ee-toggle'></label><ul><li><span class='ee-k'>0:</span><span class='ee-v'>-47.09249399256177</span></li><li><span class='ee-k'>1:</span><span class='ee-v'>-7.305623113618079</span></li></ul></li><li><label class='ee-shut'>437: [-47.09206145269805, -7.305387333746176]<input type='checkbox' class='ee-toggle'></label><ul><li><span class='ee-k'>0:</span><span class='ee-v'>-47.09206145269805</span></li><li><span class='ee-k'>1:</span><span class='ee-v'>-7.305387333746176</span></li></ul></li><li><label class='ee-shut'>438: [-47.091664725776994, -7.30511542395671]<input type='checkbox' class='ee-toggle'></label><ul><li><span class='ee-k'>0:</span><span class='ee-v'>-47.091664725776994</span></li><li><span class='ee-k'>1:</span><span class='ee-v'>-7.30511542395671</span></li></ul></li><li><label class='ee-shut'>439: [-47.091267407594906, -7.304722392972457]<input type='checkbox' class='ee-toggle'></label><ul><li><span class='ee-k'>0:</span><span class='ee-v'>-47.091267407594906</span></li><li><span class='ee-k'>1:</span><span class='ee-v'>-7.304722392972457</span></li></ul></li><li><label class='ee-shut'>440: [-47.09085218813573, -7.304347403205818]<input type='checkbox' class='ee-toggle'></label><ul><li><span class='ee-k'>0:</span><span class='ee-v'>-47.09085218813573</span></li><li><span class='ee-k'>1:</span><span class='ee-v'>-7.304347403205818</span></li></ul></li><li><label class='ee-shut'>441: [-47.09043697204994, -7.303976851581793]<input type='checkbox' class='ee-toggle'></label><ul><li><span class='ee-k'>0:</span><span class='ee-v'>-47.09043697204994</span></li><li><span class='ee-k'>1:</span><span class='ee-v'>-7.303976851581793</span></li></ul></li><li><label class='ee-shut'>442: [-47.09021580715617, -7.303780428827295]<input type='checkbox' class='ee-toggle'></label><ul><li><span class='ee-k'>0:</span><span class='ee-v'>-47.09021580715617</span></li><li><span class='ee-k'>1:</span><span class='ee-v'>-7.303780428827295</span></li></ul></li><li><label class='ee-shut'>443: [-47.090098130290066, -7.303601456267509]<input type='checkbox' class='ee-toggle'></label><ul><li><span class='ee-k'>0:</span><span class='ee-v'>-47.090098130290066</span></li><li><span class='ee-k'>1:</span><span class='ee-v'>-7.303601456267509</span></li></ul></li><li><label class='ee-shut'>444: [-47.08997956220661, -7.303229599667859]<input type='checkbox' class='ee-toggle'></label><ul><li><span class='ee-k'>0:</span><span class='ee-v'>-47.08997956220661</span></li><li><span class='ee-k'>1:</span><span class='ee-v'>-7.303229599667859</span></li></ul></li><li><label class='ee-shut'>445: [-47.08979747604263, -7.302718871158015]<input type='checkbox' class='ee-toggle'></label><ul><li><span class='ee-k'>0:</span><span class='ee-v'>-47.08979747604263</span></li><li><span class='ee-k'>1:</span><span class='ee-v'>-7.302718871158015</span></li></ul></li><li><label class='ee-shut'>446: [-47.089498903683776, -7.302307441263786]<input type='checkbox' class='ee-toggle'></label><ul><li><span class='ee-k'>0:</span><span class='ee-v'>-47.089498903683776</span></li><li><span class='ee-k'>1:</span><span class='ee-v'>-7.302307441263786</span></li></ul></li><li><label class='ee-shut'>447: [-47.0892814573334, -7.30193148119094]<input type='checkbox' class='ee-toggle'></label><ul><li><span class='ee-k'>0:</span><span class='ee-v'>-47.0892814573334</span></li><li><span class='ee-k'>1:</span><span class='ee-v'>-7.30193148119094</span></li></ul></li><li><label class='ee-shut'>448: [-47.08890265566878, -7.301659560096074]<input type='checkbox' class='ee-toggle'></label><ul><li><span class='ee-k'>0:</span><span class='ee-v'>-47.08890265566878</span></li><li><span class='ee-k'>1:</span><span class='ee-v'>-7.301659560096074</span></li></ul></li><li><label class='ee-shut'>449: [-47.08838880035808, -7.301325348579692]<input type='checkbox' class='ee-toggle'></label><ul><li><span class='ee-k'>0:</span><span class='ee-v'>-47.08838880035808</span></li><li><span class='ee-k'>1:</span><span class='ee-v'>-7.301325348579692</span></li></ul></li><li><label class='ee-shut'>450: [-47.087875247365076, -7.301071956183365]<input type='checkbox' class='ee-toggle'></label><ul><li><span class='ee-k'>0:</span><span class='ee-v'>-47.087875247365076</span></li><li><span class='ee-k'>1:</span><span class='ee-v'>-7.301071956183365</span></li></ul></li><li><label class='ee-shut'>451: [-47.087537314036396, -7.300876053777883]<input type='checkbox' class='ee-toggle'></label><ul><li><span class='ee-k'>0:</span><span class='ee-v'>-47.087537314036396</span></li><li><span class='ee-k'>1:</span><span class='ee-v'>-7.300876053777883</span></li></ul></li><li><label class='ee-shut'>452: [-47.087301972910915, -7.3005226444870885]<input type='checkbox' class='ee-toggle'></label><ul><li><span class='ee-k'>0:</span><span class='ee-v'>-47.087301972910915</span></li><li><span class='ee-k'>1:</span><span class='ee-v'>-7.3005226444870885</span></li></ul></li><li><label class='ee-shut'>453: [-47.08702131814992, -7.300088724626039]<input type='checkbox' class='ee-toggle'></label><ul><li><span class='ee-k'>0:</span><span class='ee-v'>-47.08702131814992</span></li><li><span class='ee-k'>1:</span><span class='ee-v'>-7.300088724626039</span></li></ul></li><li><label class='ee-shut'>454: [-47.0865474474506, -7.299660089231058]<input type='checkbox' class='ee-toggle'></label><ul><li><span class='ee-k'>0:</span><span class='ee-v'>-47.0865474474506</span></li><li><span class='ee-k'>1:</span><span class='ee-v'>-7.299660089231058</span></li></ul></li><li><label class='ee-shut'>455: [-47.08603361582387, -7.2993438887908315]<input type='checkbox' class='ee-toggle'></label><ul><li><span class='ee-k'>0:</span><span class='ee-v'>-47.08603361582387</span></li><li><span class='ee-k'>1:</span><span class='ee-v'>-7.2993438887908315</span></li></ul></li><li><label class='ee-shut'>456: [-47.08533905620294, -7.298817564400573]<input type='checkbox' class='ee-toggle'></label><ul><li><span class='ee-k'>0:</span><span class='ee-v'>-47.08533905620294</span></li><li><span class='ee-k'>1:</span><span class='ee-v'>-7.298817564400573</span></li></ul></li><li><label class='ee-shut'>457: [-47.08503241299191, -7.298585659028475]<input type='checkbox' class='ee-toggle'></label><ul><li><span class='ee-k'>0:</span><span class='ee-v'>-47.08503241299191</span></li><li><span class='ee-k'>1:</span><span class='ee-v'>-7.298585659028475</span></li></ul></li><li><label class='ee-shut'>458: [-47.084543778461075, -7.298852698674047]<input type='checkbox' class='ee-toggle'></label><ul><li><span class='ee-k'>0:</span><span class='ee-v'>-47.084543778461075</span></li><li><span class='ee-k'>1:</span><span class='ee-v'>-7.298852698674047</span></li></ul></li><li><label class='ee-shut'>459: [-47.083687973602686, -7.299417521654737]<input type='checkbox' class='ee-toggle'></label><ul><li><span class='ee-k'>0:</span><span class='ee-v'>-47.083687973602686</span></li><li><span class='ee-k'>1:</span><span class='ee-v'>-7.299417521654737</span></li></ul></li><li><label class='ee-shut'>460: [-47.0835047213576, -7.299629310720656]<input type='checkbox' class='ee-toggle'></label><ul><li><span class='ee-k'>0:</span><span class='ee-v'>-47.0835047213576</span></li><li><span class='ee-k'>1:</span><span class='ee-v'>-7.299629310720656</span></li></ul></li><li><label class='ee-shut'>461: [-47.08294494070251, -7.300067142180753]<input type='checkbox' class='ee-toggle'></label><ul><li><span class='ee-k'>0:</span><span class='ee-v'>-47.08294494070251</span></li><li><span class='ee-k'>1:</span><span class='ee-v'>-7.300067142180753</span></li></ul></li><li><label class='ee-shut'>462: [-47.082636380580595, -7.300391668321215]<input type='checkbox' class='ee-toggle'></label><ul><li><span class='ee-k'>0:</span><span class='ee-v'>-47.082636380580595</span></li><li><span class='ee-k'>1:</span><span class='ee-v'>-7.300391668321215</span></li></ul></li><li><label class='ee-shut'>463: [-47.08226943861519, -7.30073435459999]<input type='checkbox' class='ee-toggle'></label><ul><li><span class='ee-k'>0:</span><span class='ee-v'>-47.08226943861519</span></li><li><span class='ee-k'>1:</span><span class='ee-v'>-7.30073435459999</span></li></ul></li><li><label class='ee-shut'>464: [-47.0820195630445, -7.301125955720825]<input type='checkbox' class='ee-toggle'></label><ul><li><span class='ee-k'>0:</span><span class='ee-v'>-47.0820195630445</span></li><li><span class='ee-k'>1:</span><span class='ee-v'>-7.301125955720825</span></li></ul></li><li><label class='ee-shut'>465: [-47.08182361510185, -7.301508242620638]<input type='checkbox' class='ee-toggle'></label><ul><li><span class='ee-k'>0:</span><span class='ee-v'>-47.08182361510185</span></li><li><span class='ee-k'>1:</span><span class='ee-v'>-7.301508242620638</span></li></ul></li><li><label class='ee-shut'>466: [-47.081600407690225, -7.301832388832475]<input type='checkbox' class='ee-toggle'></label><ul><li><span class='ee-k'>0:</span><span class='ee-v'>-47.081600407690225</span></li><li><span class='ee-k'>1:</span><span class='ee-v'>-7.301832388832475</span></li></ul></li><li><label class='ee-shut'>467: [-47.08129215280186, -7.302242150532493]<input type='checkbox' class='ee-toggle'></label><ul><li><span class='ee-k'>0:</span><span class='ee-v'>-47.08129215280186</span></li><li><span class='ee-k'>1:</span><span class='ee-v'>-7.302242150532493</span></li></ul></li><li><label class='ee-shut'>468: [-47.080997566856496, -7.302678771618492]<input type='checkbox' class='ee-toggle'></label><ul><li><span class='ee-k'>0:</span><span class='ee-v'>-47.080997566856496</span></li><li><span class='ee-k'>1:</span><span class='ee-v'>-7.302678771618492</span></li></ul></li><li><label class='ee-shut'>469: [-47.080702982610035, -7.303115392644253]<input type='checkbox' class='ee-toggle'></label><ul><li><span class='ee-k'>0:</span><span class='ee-v'>-47.080702982610035</span></li><li><span class='ee-k'>1:</span><span class='ee-v'>-7.303115392644253</span></li></ul></li><li><label class='ee-shut'>470: [-47.080412411008616, -7.303453288659921]<input type='checkbox' class='ee-toggle'></label><ul><li><span class='ee-k'>0:</span><span class='ee-v'>-47.080412411008616</span></li><li><span class='ee-k'>1:</span><span class='ee-v'>-7.303453288659921</span></li></ul></li><li><label class='ee-shut'>471: [-47.08014449535511, -7.303822516563108]<input type='checkbox' class='ee-toggle'></label><ul><li><span class='ee-k'>0:</span><span class='ee-v'>-47.08014449535511</span></li><li><span class='ee-k'>1:</span><span class='ee-v'>-7.303822516563108</span></li></ul></li><li><label class='ee-shut'>472: [-47.07994781184416, -7.304061210378765]<input type='checkbox' class='ee-toggle'></label><ul><li><span class='ee-k'>0:</span><span class='ee-v'>-47.07994781184416</span></li><li><span class='ee-k'>1:</span><span class='ee-v'>-7.304061210378765</span></li></ul></li><li><label class='ee-shut'>473: [-47.07972401842299, -7.304259692393692]<input type='checkbox' class='ee-toggle'></label><ul><li><span class='ee-k'>0:</span><span class='ee-v'>-47.07972401842299</span></li><li><span class='ee-k'>1:</span><span class='ee-v'>-7.304259692393692</span></li></ul></li><li><label class='ee-shut'>474: [-47.0796550162682, -7.304892736575701]<input type='checkbox' class='ee-toggle'></label><ul><li><span class='ee-k'>0:</span><span class='ee-v'>-47.0796550162682</span></li><li><span class='ee-k'>1:</span><span class='ee-v'>-7.304892736575701</span></li></ul></li><li><label class='ee-shut'>475: [-47.07960354324681, -7.305413515591851]<input type='checkbox' class='ee-toggle'></label><ul><li><span class='ee-k'>0:</span><span class='ee-v'>-47.07960354324681</span></li><li><span class='ee-k'>1:</span><span class='ee-v'>-7.305413515591851</span></li></ul></li><li><label class='ee-shut'>476: [-47.079605845790674, -7.305920539094771]<input type='checkbox' class='ee-toggle'></label><ul><li><span class='ee-k'>0:</span><span class='ee-v'>-47.079605845790674</span></li><li><span class='ee-k'>1:</span><span class='ee-v'>-7.305920539094771</span></li></ul></li><li><label class='ee-shut'>477: [-47.07953639814248, -7.306454855370394]<input type='checkbox' class='ee-toggle'></label><ul><li><span class='ee-k'>0:</span><span class='ee-v'>-47.07953639814248</span></li><li><span class='ee-k'>1:</span><span class='ee-v'>-7.306454855370394</span></li></ul></li><li><label class='ee-shut'>478: [-47.07944028572417, -7.3070431501550805]<input type='checkbox' class='ee-toggle'></label><ul><li><span class='ee-k'>0:</span><span class='ee-v'>-47.07944028572417</span></li><li><span class='ee-k'>1:</span><span class='ee-v'>-7.3070431501550805</span></li></ul></li><li><label class='ee-shut'>479: [-47.07940233102455, -7.307577308843706]<input type='checkbox' class='ee-toggle'></label><ul><li><span class='ee-k'>0:</span><span class='ee-v'>-47.07940233102455</span></li><li><span class='ee-k'>1:</span><span class='ee-v'>-7.307577308843706</span></li></ul></li><li><label class='ee-shut'>480: [-47.07929210657734, -7.308044497094611]<input type='checkbox' class='ee-toggle'></label><ul><li><span class='ee-k'>0:</span><span class='ee-v'>-47.07929210657734</span></li><li><span class='ee-k'>1:</span><span class='ee-v'>-7.308044497094611</span></li></ul></li><li><label class='ee-shut'>481: [-47.07905583785952, -7.308467397013148]<input type='checkbox' class='ee-toggle'></label><ul><li><span class='ee-k'>0:</span><span class='ee-v'>-47.07905583785952</span></li><li><span class='ee-k'>1:</span><span class='ee-v'>-7.308467397013148</span></li></ul></li><li><label class='ee-shut'>482: [-47.078689070163485, -7.308846052309796]<input type='checkbox' class='ee-toggle'></label><ul><li><span class='ee-k'>0:</span><span class='ee-v'>-47.078689070163485</span></li><li><span class='ee-k'>1:</span><span class='ee-v'>-7.308846052309796</span></li></ul></li><li><label class='ee-shut'>483: [-47.07831376362145, -7.309327908691862]<input type='checkbox' class='ee-toggle'></label><ul><li><span class='ee-k'>0:</span><span class='ee-v'>-47.07831376362145</span></li><li><span class='ee-k'>1:</span><span class='ee-v'>-7.309327908691862</span></li></ul></li><li><label class='ee-shut'>484: [-47.07787510484958, -7.309706859991855]<input type='checkbox' class='ee-toggle'></label><ul><li><span class='ee-k'>0:</span><span class='ee-v'>-47.07787510484958</span></li><li><span class='ee-k'>1:</span><span class='ee-v'>-7.309706859991855</span></li></ul></li><li><label class='ee-shut'>485: [-47.0774721749088, -7.310045306403997]<input type='checkbox' class='ee-toggle'></label><ul><li><span class='ee-k'>0:</span><span class='ee-v'>-47.0774721749088</span></li><li><span class='ee-k'>1:</span><span class='ee-v'>-7.310045306403997</span></li></ul></li><li><label class='ee-shut'>486: [-47.07707853213796, -7.3104420079085255]<input type='checkbox' class='ee-toggle'></label><ul><li><span class='ee-k'>0:</span><span class='ee-v'>-47.07707853213796</span></li><li><span class='ee-k'>1:</span><span class='ee-v'>-7.3104420079085255</span></li></ul></li><li><label class='ee-shut'>487: [-47.076630897149535, -7.310838953602045]<input type='checkbox' class='ee-toggle'></label><ul><li><span class='ee-k'>0:</span><span class='ee-v'>-47.076630897149535</span></li><li><span class='ee-k'>1:</span><span class='ee-v'>-7.310838953602045</span></li></ul></li><li><label class='ee-shut'>488: [-47.07630447590111, -7.311203910743524]<input type='checkbox' class='ee-toggle'></label><ul><li><span class='ee-k'>0:</span><span class='ee-v'>-47.07630447590111</span></li><li><span class='ee-k'>1:</span><span class='ee-v'>-7.311203910743524</span></li></ul></li><li><label class='ee-shut'>489: [-47.07598229014837, -7.3115015602576126]<input type='checkbox' class='ee-toggle'></label><ul><li><span class='ee-k'>0:</span><span class='ee-v'>-47.07598229014837</span></li><li><span class='ee-k'>1:</span><span class='ee-v'>-7.3115015602576126</span></li></ul></li><li><label class='ee-shut'>490: [-47.075817633069285, -7.31185682768556]<input type='checkbox' class='ee-toggle'></label><ul><li><span class='ee-k'>0:</span><span class='ee-v'>-47.075817633069285</span></li><li><span class='ee-k'>1:</span><span class='ee-v'>-7.31185682768556</span></li></ul></li><li><label class='ee-shut'>491: [-47.07559526887144, -7.312360428212836]<input type='checkbox' class='ee-toggle'></label><ul><li><span class='ee-k'>0:</span><span class='ee-v'>-47.07559526887144</span></li><li><span class='ee-k'>1:</span><span class='ee-v'>-7.312360428212836</span></li></ul></li><li><label class='ee-shut'>492: [-47.0754715355721, -7.312827686159914]<input type='checkbox' class='ee-toggle'></label><ul><li><span class='ee-k'>0:</span><span class='ee-v'>-47.0754715355721</span></li><li><span class='ee-k'>1:</span><span class='ee-v'>-7.312827686159914</span></li></ul></li><li><label class='ee-shut'>493: [-47.075415536326275, -7.313348484106276]<input type='checkbox' class='ee-toggle'></label><ul><li><span class='ee-k'>0:</span><span class='ee-v'>-47.075415536326275</span></li><li><span class='ee-k'>1:</span><span class='ee-v'>-7.313348484106276</span></li></ul></li><li><label class='ee-shut'>494: [-47.07534587156775, -7.313837925474322]<input type='checkbox' class='ee-toggle'></label><ul><li><span class='ee-k'>0:</span><span class='ee-v'>-47.07534587156775</span></li><li><span class='ee-k'>1:</span><span class='ee-v'>-7.313837925474322</span></li></ul></li><li><label class='ee-shut'>495: [-47.0751371006697, -7.314359403107904]<input type='checkbox' class='ee-toggle'></label><ul><li><span class='ee-k'>0:</span><span class='ee-v'>-47.0751371006697</span></li><li><span class='ee-k'>1:</span><span class='ee-v'>-7.314359403107904</span></li></ul></li><li><label class='ee-shut'>496: [-47.07497296619798, -7.3148402877637935]<input type='checkbox' class='ee-toggle'></label><ul><li><span class='ee-k'>0:</span><span class='ee-v'>-47.07497296619798</span></li><li><span class='ee-k'>1:</span><span class='ee-v'>-7.3148402877637935</span></li></ul></li><li><label class='ee-shut'>497: [-47.074897063466835, -7.314934887597166]<input type='checkbox' class='ee-toggle'></label><ul><li><span class='ee-k'>0:</span><span class='ee-v'>-47.074897063466835</span></li><li><span class='ee-k'>1:</span><span class='ee-v'>-7.314934887597166</span></li></ul></li><li><label class='ee-shut'>498: [-47.07456634574074, -7.3153447974090335]<input type='checkbox' class='ee-toggle'></label><ul><li><span class='ee-k'>0:</span><span class='ee-v'>-47.07456634574074</span></li><li><span class='ee-k'>1:</span><span class='ee-v'>-7.3153447974090335</span></li></ul></li><li><label class='ee-shut'>499: [-47.07099453770213, -7.3282623989872775]<input type='checkbox' class='ee-toggle'></label><ul><li><span class='ee-k'>0:</span><span class='ee-v'>-47.07099453770213</span></li><li><span class='ee-k'>1:</span><span class='ee-v'>-7.3282623989872775</span></li></ul></li><li><label class='ee-shut'>500: [-47.07079387923915, -7.32861778513799]<input type='checkbox' class='ee-toggle'></label><ul><li><span class='ee-k'>0:</span><span class='ee-v'>-47.07079387923915</span></li><li><span class='ee-k'>1:</span><span class='ee-v'>-7.32861778513799</span></li></ul></li><li><label class='ee-shut'>501: [-47.07079603286021, -7.329079998083824]<input type='checkbox' class='ee-toggle'></label><ul><li><span class='ee-k'>0:</span><span class='ee-v'>-47.07079603286021</span></li><li><span class='ee-k'>1:</span><span class='ee-v'>-7.329079998083824</span></li></ul></li><li><label class='ee-shut'>502: [-47.07088960407, -7.329878284175021]<input type='checkbox' class='ee-toggle'></label><ul><li><span class='ee-k'>0:</span><span class='ee-v'>-47.07088960407</span></li><li><span class='ee-k'>1:</span><span class='ee-v'>-7.329878284175021</span></li></ul></li><li><label class='ee-shut'>503: [-47.07119036983447, -7.330765443371196]<input type='checkbox' class='ee-toggle'></label><ul><li><span class='ee-k'>0:</span><span class='ee-v'>-47.07119036983447</span></li><li><span class='ee-k'>1:</span><span class='ee-v'>-7.330765443371196</span></li></ul></li><li><label class='ee-shut'>504: [-47.07143640497367, -7.3314867808187305]<input type='checkbox' class='ee-toggle'></label><ul><li><span class='ee-k'>0:</span><span class='ee-v'>-47.07143640497367</span></li><li><span class='ee-k'>1:</span><span class='ee-v'>-7.3314867808187305</span></li></ul></li><li><label class='ee-shut'>505: [-47.0716655090897, -7.332432545728435]<input type='checkbox' class='ee-toggle'></label><ul><li><span class='ee-k'>0:</span><span class='ee-v'>-47.0716655090897</span></li><li><span class='ee-k'>1:</span><span class='ee-v'>-7.332432545728435</span></li></ul></li><li><label class='ee-shut'>506: [-47.071703755095754, -7.332930460464675]<input type='checkbox' class='ee-toggle'></label><ul><li><span class='ee-k'>0:</span><span class='ee-v'>-47.071703755095754</span></li><li><span class='ee-k'>1:</span><span class='ee-v'>-7.332930460464675</span></li></ul></li><li><label class='ee-shut'>507: [-47.07181938445725, -7.333634455943357]<input type='checkbox' class='ee-toggle'></label><ul><li><span class='ee-k'>0:</span><span class='ee-v'>-47.07181938445725</span></li><li><span class='ee-k'>1:</span><span class='ee-v'>-7.333634455943357</span></li></ul></li><li><label class='ee-shut'>508: [-47.07184002993277, -7.334208717145665]<input type='checkbox' class='ee-toggle'></label><ul><li><span class='ee-k'>0:</span><span class='ee-v'>-47.07184002993277</span></li><li><span class='ee-k'>1:</span><span class='ee-v'>-7.334208717145665</span></li></ul></li><li><label class='ee-shut'>509: [-47.07182510280755, -7.334877405816439]<input type='checkbox' class='ee-toggle'></label><ul><li><span class='ee-k'>0:</span><span class='ee-v'>-47.07182510280755</span></li><li><span class='ee-k'>1:</span><span class='ee-v'>-7.334877405816439</span></li></ul></li><li><label class='ee-shut'>510: [-47.07179212947176, -7.335523710093268]<input type='checkbox' class='ee-toggle'></label><ul><li><span class='ee-k'>0:</span><span class='ee-v'>-47.07179212947176</span></li><li><span class='ee-k'>1:</span><span class='ee-v'>-7.335523710093268</span></li></ul></li><li><label class='ee-shut'>511: [-47.071642338707726, -7.336175070982633]<input type='checkbox' class='ee-toggle'></label><ul><li><span class='ee-k'>0:</span><span class='ee-v'>-47.071642338707726</span></li><li><span class='ee-k'>1:</span><span class='ee-v'>-7.336175070982633</span></li></ul></li><li><label class='ee-shut'>512: [-47.07147828973363, -7.336655967787494]<input type='checkbox' class='ee-toggle'></label><ul><li><span class='ee-k'>0:</span><span class='ee-v'>-47.07147828973363</span></li><li><span class='ee-k'>1:</span><span class='ee-v'>-7.336655967787494</span></li></ul></li><li><label class='ee-shut'>513: [-47.07127904037581, -7.3373075905732845]<input type='checkbox' class='ee-toggle'></label><ul><li><span class='ee-k'>0:</span><span class='ee-v'>-47.07127904037581</span></li><li><span class='ee-k'>1:</span><span class='ee-v'>-7.3373075905732845</span></li></ul></li><li><label class='ee-shut'>514: [-47.071003077957684, -7.337901155803175]<input type='checkbox' class='ee-toggle'></label><ul><li><span class='ee-k'>0:</span><span class='ee-v'>-47.071003077957684</span></li><li><span class='ee-k'>1:</span><span class='ee-v'>-7.337901155803175</span></li></ul></li><li><label class='ee-shut'>515: [-47.0706157973704, -7.33870170183185]<input type='checkbox' class='ee-toggle'></label><ul><li><span class='ee-k'>0:</span><span class='ee-v'>-47.0706157973704</span></li><li><span class='ee-k'>1:</span><span class='ee-v'>-7.33870170183185</span></li></ul></li><li><label class='ee-shut'>516: [-47.07025005569725, -7.339313699074544]<input type='checkbox' class='ee-toggle'></label><ul><li><span class='ee-k'>0:</span><span class='ee-v'>-47.07025005569725</span></li><li><span class='ee-k'>1:</span><span class='ee-v'>-7.339313699074544</span></li></ul></li><li><label class='ee-shut'>517: [-47.069897015357405, -7.339759537723024]<input type='checkbox' class='ee-toggle'></label><ul><li><span class='ee-k'>0:</span><span class='ee-v'>-47.069897015357405</span></li><li><span class='ee-k'>1:</span><span class='ee-v'>-7.339759537723024</span></li></ul></li><li><label class='ee-shut'>518: [-47.06960286644659, -7.340299407435051]<input type='checkbox' class='ee-toggle'></label><ul><li><span class='ee-k'>0:</span><span class='ee-v'>-47.06960286644659</span></li><li><span class='ee-k'>1:</span><span class='ee-v'>-7.340299407435051</span></li></ul></li><li><label class='ee-shut'>519: [-47.0692542862155, -7.340727275583119]<input type='checkbox' class='ee-toggle'></label><ul><li><span class='ee-k'>0:</span><span class='ee-v'>-47.0692542862155</span></li><li><span class='ee-k'>1:</span><span class='ee-v'>-7.340727275583119</span></li></ul></li><li><label class='ee-shut'>520: [-47.068752510117534, -7.341079633622801]<input type='checkbox' class='ee-toggle'></label><ul><li><span class='ee-k'>0:</span><span class='ee-v'>-47.068752510117534</span></li><li><span class='ee-k'>1:</span><span class='ee-v'>-7.341079633622801</span></li></ul></li><li><label class='ee-shut'>521: [-47.0681250184602, -7.341454979172786]<input type='checkbox' class='ee-toggle'></label><ul><li><span class='ee-k'>0:</span><span class='ee-v'>-47.0681250184602</span></li><li><span class='ee-k'>1:</span><span class='ee-v'>-7.341454979172786</span></li></ul></li><li><label class='ee-shut'>522: [-47.067475257121814, -7.3418842544117675]<input type='checkbox' class='ee-toggle'></label><ul><li><span class='ee-k'>0:</span><span class='ee-v'>-47.067475257121814</span></li><li><span class='ee-k'>1:</span><span class='ee-v'>-7.3418842544117675</span></li></ul></li><li><label class='ee-shut'>523: [-47.067156914214124, -7.342051744921145]<input type='checkbox' class='ee-toggle'></label><ul><li><span class='ee-k'>0:</span><span class='ee-v'>-47.067156914214124</span></li><li><span class='ee-k'>1:</span><span class='ee-v'>-7.342051744921145</span></li></ul></li><li><label class='ee-shut'>524: [-47.06687443945468, -7.342201168306275]<input type='checkbox' class='ee-toggle'></label><ul><li><span class='ee-k'>0:</span><span class='ee-v'>-47.06687443945468</span></li><li><span class='ee-k'>1:</span><span class='ee-v'>-7.342201168306275</span></li></ul></li><li><label class='ee-shut'>525: [-47.05042958933967, -7.341482273423463]<input type='checkbox' class='ee-toggle'></label><ul><li><span class='ee-k'>0:</span><span class='ee-v'>-47.05042958933967</span></li><li><span class='ee-k'>1:</span><span class='ee-v'>-7.341482273423463</span></li></ul></li><li><label class='ee-shut'>526: [-47.05009903014644, -7.341928081197812]<input type='checkbox' class='ee-toggle'></label><ul><li><span class='ee-k'>0:</span><span class='ee-v'>-47.05009903014644</span></li><li><span class='ee-k'>1:</span><span class='ee-v'>-7.341928081197812</span></li></ul></li><li><label class='ee-shut'>527: [-47.04965586297538, -7.342338438095042]<input type='checkbox' class='ee-toggle'></label><ul><li><span class='ee-k'>0:</span><span class='ee-v'>-47.04965586297538</span></li><li><span class='ee-k'>1:</span><span class='ee-v'>-7.342338438095042</span></li></ul></li><li><label class='ee-shut'>528: [-47.049136464075815, -7.34276708962748]<input type='checkbox' class='ee-toggle'></label><ul><li><span class='ee-k'>0:</span><span class='ee-v'>-47.049136464075815</span></li><li><span class='ee-k'>1:</span><span class='ee-v'>-7.34276708962748</span></li></ul></li><li><label class='ee-shut'>529: [-47.048544473067565, -7.343048047848359]<input type='checkbox' class='ee-toggle'></label><ul><li><span class='ee-k'>0:</span><span class='ee-v'>-47.048544473067565</span></li><li><span class='ee-k'>1:</span><span class='ee-v'>-7.343048047848359</span></li></ul></li><li><label class='ee-shut'>530: [-47.04780351043329, -7.343199527754502]<input type='checkbox' class='ee-toggle'></label><ul><li><span class='ee-k'>0:</span><span class='ee-v'>-47.04780351043329</span></li><li><span class='ee-k'>1:</span><span class='ee-v'>-7.343199527754502</span></li></ul></li><li><label class='ee-shut'>531: [-47.046783757987015, -7.343311830871073]<input type='checkbox' class='ee-toggle'></label><ul><li><span class='ee-k'>0:</span><span class='ee-v'>-47.046783757987015</span></li><li><span class='ee-k'>1:</span><span class='ee-v'>-7.343311830871073</span></li></ul></li><li><label class='ee-shut'>532: [-47.045818062760844, -7.343464319241935]<input type='checkbox' class='ee-toggle'></label><ul><li><span class='ee-k'>0:</span><span class='ee-v'>-47.045818062760844</span></li><li><span class='ee-k'>1:</span><span class='ee-v'>-7.343464319241935</span></li></ul></li><li><label class='ee-shut'>533: [-47.04531525528554, -7.343596776970431]<input type='checkbox' class='ee-toggle'></label><ul><li><span class='ee-k'>0:</span><span class='ee-v'>-47.04531525528554</span></li><li><span class='ee-k'>1:</span><span class='ee-v'>-7.343596776970431</span></li></ul></li><li><label class='ee-shut'>534: [-47.04510875976357, -7.343660548371545]<input type='checkbox' class='ee-toggle'></label><ul><li><span class='ee-k'>0:</span><span class='ee-v'>-47.04510875976357</span></li><li><span class='ee-k'>1:</span><span class='ee-v'>-7.343660548371545</span></li></ul></li><li><label class='ee-shut'>535: [-47.044888830334095, -7.3437288124973445]<input type='checkbox' class='ee-toggle'></label><ul><li><span class='ee-k'>0:</span><span class='ee-v'>-47.044888830334095</span></li><li><span class='ee-k'>1:</span><span class='ee-v'>-7.3437288124973445</span></li></ul></li><li><label class='ee-shut'>536: [-47.02960832266369, -7.338152977604609]<input type='checkbox' class='ee-toggle'></label><ul><li><span class='ee-k'>0:</span><span class='ee-v'>-47.02960832266369</span></li><li><span class='ee-k'>1:</span><span class='ee-v'>-7.338152977604609</span></li></ul></li><li><label class='ee-shut'>537: [-47.02884530055922, -7.338389758850446]<input type='checkbox' class='ee-toggle'></label><ul><li><span class='ee-k'>0:</span><span class='ee-v'>-47.02884530055922</span></li><li><span class='ee-k'>1:</span><span class='ee-v'>-7.338389758850446</span></li></ul></li><li><label class='ee-shut'>538: [-47.028121616227295, -7.338375123221262]<input type='checkbox' class='ee-toggle'></label><ul><li><span class='ee-k'>0:</span><span class='ee-v'>-47.028121616227295</span></li><li><span class='ee-k'>1:</span><span class='ee-v'>-7.338375123221262</span></li></ul></li><li><label class='ee-shut'>539: [-47.02730311514909, -7.338284538636465]<input type='checkbox' class='ee-toggle'></label><ul><li><span class='ee-k'>0:</span><span class='ee-v'>-47.02730311514909</span></li><li><span class='ee-k'>1:</span><span class='ee-v'>-7.338284538636465</span></li></ul></li><li><label class='ee-shut'>540: [-47.02646689383551, -7.338234461383154]<input type='checkbox' class='ee-toggle'></label><ul><li><span class='ee-k'>0:</span><span class='ee-v'>-47.02646689383551</span></li><li><span class='ee-k'>1:</span><span class='ee-v'>-7.338234461383154</span></li></ul></li><li><label class='ee-shut'>541: [-47.026152219964864, -7.33823587190452]<input type='checkbox' class='ee-toggle'></label><ul><li><span class='ee-k'>0:</span><span class='ee-v'>-47.026152219964864</span></li><li><span class='ee-k'>1:</span><span class='ee-v'>-7.33823587190452</span></li></ul></li><li><label class='ee-shut'>542: [-47.02585572639202, -7.338255188956087]<input type='checkbox' class='ee-toggle'></label><ul><li><span class='ee-k'>0:</span><span class='ee-v'>-47.02585572639202</span></li><li><span class='ee-k'>1:</span><span class='ee-v'>-7.338255188956087</span></li></ul></li><li><label class='ee-shut'>543: [-47.025262225048955, -7.33822198020918]<input type='checkbox' class='ee-toggle'></label><ul><li><span class='ee-k'>0:</span><span class='ee-v'>-47.025262225048955</span></li><li><span class='ee-k'>1:</span><span class='ee-v'>-7.33822198020918</span></li></ul></li><li><label class='ee-shut'>544: [-47.02492455785061, -7.33809331948804]<input type='checkbox' class='ee-toggle'></label><ul><li><span class='ee-k'>0:</span><span class='ee-v'>-47.02492455785061</span></li><li><span class='ee-k'>1:</span><span class='ee-v'>-7.33809331948804</span></li></ul></li><li><label class='ee-shut'>545: [-47.02431251857409, -7.3379300612231955]<input type='checkbox' class='ee-toggle'></label><ul><li><span class='ee-k'>0:</span><span class='ee-v'>-47.02431251857409</span></li><li><span class='ee-k'>1:</span><span class='ee-v'>-7.3379300612231955</span></li></ul></li><li><label class='ee-shut'>546: [-47.02347627216918, -7.337875479019733]<input type='checkbox' class='ee-toggle'></label><ul><li><span class='ee-k'>0:</span><span class='ee-v'>-47.02347627216918</span></li><li><span class='ee-k'>1:</span><span class='ee-v'>-7.337875479019733</span></li></ul></li><li><label class='ee-shut'>547: [-47.02288272436318, -7.337824348368263]<input type='checkbox' class='ee-toggle'></label><ul><li><span class='ee-k'>0:</span><span class='ee-v'>-47.02288272436318</span></li><li><span class='ee-k'>1:</span><span class='ee-v'>-7.337824348368263</span></li></ul></li><li><label class='ee-shut'>548: [-47.02237954962924, -7.337880408761093]<input type='checkbox' class='ee-toggle'></label><ul><li><span class='ee-k'>0:</span><span class='ee-v'>-47.02237954962924</span></li><li><span class='ee-k'>1:</span><span class='ee-v'>-7.337880408761093</span></li></ul></li><li><label class='ee-shut'>549: [-47.021917185251205, -7.338012680929249]<input type='checkbox' class='ee-toggle'></label><ul><li><span class='ee-k'>0:</span><span class='ee-v'>-47.021917185251205</span></li><li><span class='ee-k'>1:</span><span class='ee-v'>-7.338012680929249</span></li></ul></li><li><label class='ee-shut'>550: [-47.02154444783357, -7.338090589653275]<input type='checkbox' class='ee-toggle'></label><ul><li><span class='ee-k'>0:</span><span class='ee-v'>-47.02154444783357</span></li><li><span class='ee-k'>1:</span><span class='ee-v'>-7.338090589653275</span></li></ul></li><li><label class='ee-shut'>551: [-47.02117594200604, -7.3380922833577795]<input type='checkbox' class='ee-toggle'></label><ul><li><span class='ee-k'>0:</span><span class='ee-v'>-47.02117594200604</span></li><li><span class='ee-k'>1:</span><span class='ee-v'>-7.3380922833577795</span></li></ul></li><li><label class='ee-shut'>552: [-47.020950551594325, -7.337945228868818]<input type='checkbox' class='ee-toggle'></label><ul><li><span class='ee-k'>0:</span><span class='ee-v'>-47.020950551594325</span></li><li><span class='ee-k'>1:</span><span class='ee-v'>-7.337945228868818</span></li></ul></li><li><label class='ee-shut'>553: [-47.020729094245176, -7.337685913472141]<input type='checkbox' class='ee-toggle'></label><ul><li><span class='ee-k'>0:</span><span class='ee-v'>-47.020729094245176</span></li><li><span class='ee-k'>1:</span><span class='ee-v'>-7.337685913472141</span></li></ul></li><li><label class='ee-shut'>554: [-47.02024241079197, -7.337409915561189]<input type='checkbox' class='ee-toggle'></label><ul><li><span class='ee-k'>0:</span><span class='ee-v'>-47.02024241079197</span></li><li><span class='ee-k'>1:</span><span class='ee-v'>-7.337409915561189</span></li></ul></li><li><label class='ee-shut'>555: [-47.01940586028813, -7.3372835141328405]<input type='checkbox' class='ee-toggle'></label><ul><li><span class='ee-k'>0:</span><span class='ee-v'>-47.01940586028813</span></li><li><span class='ee-k'>1:</span><span class='ee-v'>-7.3372835141328405</span></li></ul></li><li><label class='ee-shut'>556: [-47.01866450522947, -7.337345184677577]<input type='checkbox' class='ee-toggle'></label><ul><li><span class='ee-k'>0:</span><span class='ee-v'>-47.01866450522947</span></li><li><span class='ee-k'>1:</span><span class='ee-v'>-7.337345184677577</span></li></ul></li><li><label class='ee-shut'>557: [-47.01818347966237, -7.337324922998422]<input type='checkbox' class='ee-toggle'></label><ul><li><span class='ee-k'>0:</span><span class='ee-v'>-47.01818347966237</span></li><li><span class='ee-k'>1:</span><span class='ee-v'>-7.337324922998422</span></li></ul></li><li><label class='ee-shut'>558: [-47.0176615082636, -7.337197106325534]<input type='checkbox' class='ee-toggle'></label><ul><li><span class='ee-k'>0:</span><span class='ee-v'>-47.0176615082636</span></li><li><span class='ee-k'>1:</span><span class='ee-v'>-7.337197106325534</span></li></ul></li><li><label class='ee-shut'>559: [-47.01725193212291, -7.337073317232584]<input type='checkbox' class='ee-toggle'></label><ul><li><span class='ee-k'>0:</span><span class='ee-v'>-47.01725193212291</span></li><li><span class='ee-k'>1:</span><span class='ee-v'>-7.337073317232584</span></li></ul></li><li><label class='ee-shut'>560: [-47.017062909505505, -7.337033789809497]<input type='checkbox' class='ee-toggle'></label><ul><li><span class='ee-k'>0:</span><span class='ee-v'>-47.017062909505505</span></li><li><span class='ee-k'>1:</span><span class='ee-v'>-7.337033789809497</span></li></ul></li><li><label class='ee-shut'>561: [-47.01660408005129, -7.336946085136439]<input type='checkbox' class='ee-toggle'></label><ul><li><span class='ee-k'>0:</span><span class='ee-v'>-47.01660408005129</span></li><li><span class='ee-k'>1:</span><span class='ee-v'>-7.336946085136439</span></li></ul></li><li><label class='ee-shut'>562: [-47.01582196526193, -7.336931669899496]<input type='checkbox' class='ee-toggle'></label><ul><li><span class='ee-k'>0:</span><span class='ee-v'>-47.01582196526193</span></li><li><span class='ee-k'>1:</span><span class='ee-v'>-7.336931669899496</span></li></ul></li><li><label class='ee-shut'>563: [-47.01526485582426, -7.336987988077133]<input type='checkbox' class='ee-toggle'></label><ul><li><span class='ee-k'>0:</span><span class='ee-v'>-47.01526485582426</span></li><li><span class='ee-k'>1:</span><span class='ee-v'>-7.336987988077133</span></li></ul></li><li><label class='ee-shut'>564: [-47.01461851266213, -7.337192811686263]<input type='checkbox' class='ee-toggle'></label><ul><li><span class='ee-k'>0:</span><span class='ee-v'>-47.01461851266213</span></li><li><span class='ee-k'>1:</span><span class='ee-v'>-7.337192811686263</span></li></ul></li><li><label class='ee-shut'>565: [-47.013877820760435, -7.337402566316433]<input type='checkbox' class='ee-toggle'></label><ul><li><span class='ee-k'>0:</span><span class='ee-v'>-47.013877820760435</span></li><li><span class='ee-k'>1:</span><span class='ee-v'>-7.337402566316433</span></li></ul></li><li><label class='ee-shut'>566: [-47.012876698391295, -7.337667319877338]<input type='checkbox' class='ee-toggle'></label><ul><li><span class='ee-k'>0:</span><span class='ee-v'>-47.012876698391295</span></li><li><span class='ee-k'>1:</span><span class='ee-v'>-7.337667319877338</span></li></ul></li><li><label class='ee-shut'>567: [-47.012468421774145, -7.337835175607058]<input type='checkbox' class='ee-toggle'></label><ul><li><span class='ee-k'>0:</span><span class='ee-v'>-47.012468421774145</span></li><li><span class='ee-k'>1:</span><span class='ee-v'>-7.337835175607058</span></li></ul></li><li><label class='ee-shut'>568: [-47.012547421263726, -7.3374175082977375]<input type='checkbox' class='ee-toggle'></label><ul><li><span class='ee-k'>0:</span><span class='ee-v'>-47.012547421263726</span></li><li><span class='ee-k'>1:</span><span class='ee-v'>-7.3374175082977375</span></li></ul></li><li><label class='ee-shut'>569: [-47.012630945740064, -7.336999808078996]<input type='checkbox' class='ee-toggle'></label><ul><li><span class='ee-k'>0:</span><span class='ee-v'>-47.012630945740064</span></li><li><span class='ee-k'>1:</span><span class='ee-v'>-7.336999808078996</span></li></ul></li><li><label class='ee-shut'>570: [-47.01275845806024, -7.336366500297973]<input type='checkbox' class='ee-toggle'></label><ul><li><span class='ee-k'>0:</span><span class='ee-v'>-47.01275845806024</span></li><li><span class='ee-k'>1:</span><span class='ee-v'>-7.336366500297973</span></li></ul></li><li><label class='ee-shut'>571: [-47.01284546926838, -7.335719873879185]<input type='checkbox' class='ee-toggle'></label><ul><li><span class='ee-k'>0:</span><span class='ee-v'>-47.01284546926838</span></li><li><span class='ee-k'>1:</span><span class='ee-v'>-7.335719873879185</span></li></ul></li><li><label class='ee-shut'>572: [-47.01297372391206, -7.335257089029294]<input type='checkbox' class='ee-toggle'></label><ul><li><span class='ee-k'>0:</span><span class='ee-v'>-47.01297372391206</span></li><li><span class='ee-k'>1:</span><span class='ee-v'>-7.335257089029294</span></li></ul></li><li><label class='ee-shut'>573: [-47.01314210962035, -7.334717850092799]<input type='checkbox' class='ee-toggle'></label><ul><li><span class='ee-k'>0:</span><span class='ee-v'>-47.01314210962035</span></li><li><span class='ee-k'>1:</span><span class='ee-v'>-7.334717850092799</span></li></ul></li><li><label class='ee-shut'>574: [-47.01321131853335, -7.334125206586668]<input type='checkbox' class='ee-toggle'></label><ul><li><span class='ee-k'>0:</span><span class='ee-v'>-47.01321131853335</span></li><li><span class='ee-k'>1:</span><span class='ee-v'>-7.334125206586668</span></li></ul></li><li><label class='ee-shut'>575: [-47.013190845147356, -7.333568814828016]<input type='checkbox' class='ee-toggle'></label><ul><li><span class='ee-k'>0:</span><span class='ee-v'>-47.013190845147356</span></li><li><span class='ee-k'>1:</span><span class='ee-v'>-7.333568814828016</span></li></ul></li><li><label class='ee-shut'>576: [-47.01315286555456, -7.333106804840885]<input type='checkbox' class='ee-toggle'></label><ul><li><span class='ee-k'>0:</span><span class='ee-v'>-47.01315286555456</span></li><li><span class='ee-k'>1:</span><span class='ee-v'>-7.333106804840885</span></li></ul></li><li><label class='ee-shut'>577: [-47.013002505218324, -7.332658687244175]<input type='checkbox' class='ee-toggle'></label><ul><li><span class='ee-k'>0:</span><span class='ee-v'>-47.013002505218324</span></li><li><span class='ee-k'>1:</span><span class='ee-v'>-7.332658687244175</span></li></ul></li><li><label class='ee-shut'>578: [-47.01285259039686, -7.332309345116266]<input type='checkbox' class='ee-toggle'></label><ul><li><span class='ee-k'>0:</span><span class='ee-v'>-47.01285259039686</span></li><li><span class='ee-k'>1:</span><span class='ee-v'>-7.332309345116266</span></li></ul></li><li><label class='ee-shut'>579: [-47.01264318512867, -7.331717904038476]<input type='checkbox' class='ee-toggle'></label><ul><li><span class='ee-k'>0:</span><span class='ee-v'>-47.01264318512867</span></li><li><span class='ee-k'>1:</span><span class='ee-v'>-7.331717904038476</span></li></ul></li><li><label class='ee-shut'>580: [-47.01252806081409, -7.3311036775643235]<input type='checkbox' class='ee-toggle'></label><ul><li><span class='ee-k'>0:</span><span class='ee-v'>-47.01252806081409</span></li><li><span class='ee-k'>1:</span><span class='ee-v'>-7.3311036775643235</span></li></ul></li><li><label class='ee-shut'>581: [-47.01243519010061, -7.33043994429585]<input type='checkbox' class='ee-toggle'></label><ul><li><span class='ee-k'>0:</span><span class='ee-v'>-47.01243519010061</span></li><li><span class='ee-k'>1:</span><span class='ee-v'>-7.33043994429585</span></li></ul></li><li><label class='ee-shut'>582: [-47.012431184498574, -7.329546946673852]<input type='checkbox' class='ee-toggle'></label><ul><li><span class='ee-k'>0:</span><span class='ee-v'>-47.012431184498574</span></li><li><span class='ee-k'>1:</span><span class='ee-v'>-7.329546946673852</span></li></ul></li><li><label class='ee-shut'>583: [-47.012464712880934, -7.32901273555222]<input type='checkbox' class='ee-toggle'></label><ul><li><span class='ee-k'>0:</span><span class='ee-v'>-47.012464712880934</span></li><li><span class='ee-k'>1:</span><span class='ee-v'>-7.32901273555222</span></li></ul></li><li><label class='ee-shut'>584: [-47.01248088365731, -7.328604299015024]<input type='checkbox' class='ee-toggle'></label><ul><li><span class='ee-k'>0:</span><span class='ee-v'>-47.01248088365731</span></li><li><span class='ee-k'>1:</span><span class='ee-v'>-7.328604299015024</span></li></ul></li><li><label class='ee-shut'>585: [-47.0124786583208, -7.3281017576477785]<input type='checkbox' class='ee-toggle'></label><ul><li><span class='ee-k'>0:</span><span class='ee-v'>-47.0124786583208</span></li><li><span class='ee-k'>1:</span><span class='ee-v'>-7.3281017576477785</span></li></ul></li><li><label class='ee-shut'>586: [-47.0124048513819, -7.327693664870788]<input type='checkbox' class='ee-toggle'></label><ul><li><span class='ee-k'>0:</span><span class='ee-v'>-47.0124048513819</span></li><li><span class='ee-k'>1:</span><span class='ee-v'>-7.327693664870788</span></li></ul></li><li><label class='ee-shut'>587: [-47.01227192498401, -7.32711991508153]<input type='checkbox' class='ee-toggle'></label><ul><li><span class='ee-k'>0:</span><span class='ee-v'>-47.01227192498401</span></li><li><span class='ee-k'>1:</span><span class='ee-v'>-7.32711991508153</span></li></ul></li><li><label class='ee-shut'>588: [-47.01208091807261, -7.326609179174962]<input type='checkbox' class='ee-toggle'></label><ul><li><span class='ee-k'>0:</span><span class='ee-v'>-47.01208091807261</span></li><li><span class='ee-k'>1:</span><span class='ee-v'>-7.326609179174962</span></li></ul></li><li><label class='ee-shut'>589: [-47.01287736599746, -7.325820293072029]<input type='checkbox' class='ee-toggle'></label><ul><li><span class='ee-k'>0:</span><span class='ee-v'>-47.01287736599746</span></li><li><span class='ee-k'>1:</span><span class='ee-v'>-7.325820293072029</span></li></ul></li><li><label class='ee-shut'>590: [-47.013485929745976, -7.325207294870903]<input type='checkbox' class='ee-toggle'></label><ul><li><span class='ee-k'>0:</span><span class='ee-v'>-47.013485929745976</span></li><li><span class='ee-k'>1:</span><span class='ee-v'>-7.325207294870903</span></li></ul></li><li><label class='ee-shut'>591: [-47.01395118475528, -7.324725015134774]<input type='checkbox' class='ee-toggle'></label><ul><li><span class='ee-k'>0:</span><span class='ee-v'>-47.01395118475528</span></li><li><span class='ee-k'>1:</span><span class='ee-v'>-7.324725015134774</span></li></ul></li><li><label class='ee-shut'>592: [-47.01429990626167, -7.324315111882718]<input type='checkbox' class='ee-toggle'></label><ul><li><span class='ee-k'>0:</span><span class='ee-v'>-47.01429990626167</span></li><li><span class='ee-k'>1:</span><span class='ee-v'>-7.324315111882718</span></li></ul></li><li><label class='ee-shut'>593: [-47.01457630369028, -7.323811267709624]<input type='checkbox' class='ee-toggle'></label><ul><li><span class='ee-k'>0:</span><span class='ee-v'>-47.01457630369028</span></li><li><span class='ee-k'>1:</span><span class='ee-v'>-7.323811267709624</span></li></ul></li><li><label class='ee-shut'>594: [-47.01470478523896, -7.323384394910779]<input type='checkbox' class='ee-toggle'></label><ul><li><span class='ee-k'>0:</span><span class='ee-v'>-47.01470478523896</span></li><li><span class='ee-k'>1:</span><span class='ee-v'>-7.323384394910779</span></li></ul></li><li><label class='ee-shut'>595: [-47.01483326711197, -7.322975429701678]<input type='checkbox' class='ee-toggle'></label><ul><li><span class='ee-k'>0:</span><span class='ee-v'>-47.01483326711197</span></li><li><span class='ee-k'>1:</span><span class='ee-v'>-7.322975429701678</span></li></ul></li><li><label class='ee-shut'>596: [-47.01505225082079, -7.322696204385319]<input type='checkbox' class='ee-toggle'></label><ul><li><span class='ee-k'>0:</span><span class='ee-v'>-47.01505225082079</span></li><li><span class='ee-k'>1:</span><span class='ee-v'>-7.322696204385319</span></li></ul></li><li><label class='ee-shut'>597: [-47.01529311915224, -7.322286752711241]<input type='checkbox' class='ee-toggle'></label><ul><li><span class='ee-k'>0:</span><span class='ee-v'>-47.01529311915224</span></li><li><span class='ee-k'>1:</span><span class='ee-v'>-7.322286752711241</span></li></ul></li><li><label class='ee-shut'>598: [-47.015661953311934, -7.32134275281967]<input type='checkbox' class='ee-toggle'></label><ul><li><span class='ee-k'>0:</span><span class='ee-v'>-47.015661953311934</span></li><li><span class='ee-k'>1:</span><span class='ee-v'>-7.32134275281967</span></li></ul></li><li><label class='ee-shut'>599: [-47.015843033168565, -7.320637375004285]<input type='checkbox' class='ee-toggle'></label><ul><li><span class='ee-k'>0:</span><span class='ee-v'>-47.015843033168565</span></li><li><span class='ee-k'>1:</span><span class='ee-v'>-7.320637375004285</span></li></ul></li><li><label class='ee-shut'>600: [-47.01604332708273, -7.320192210386951]<input type='checkbox' class='ee-toggle'></label><ul><li><span class='ee-k'>0:</span><span class='ee-v'>-47.01604332708273</span></li><li><span class='ee-k'>1:</span><span class='ee-v'>-7.320192210386951</span></li></ul></li><li><label class='ee-shut'>601: [-47.016211945496295, -7.319706810881687]<input type='checkbox' class='ee-toggle'></label><ul><li><span class='ee-k'>0:</span><span class='ee-v'>-47.016211945496295</span></li><li><span class='ee-k'>1:</span><span class='ee-v'>-7.319706810881687</span></li></ul></li><li><label class='ee-shut'>602: [-47.016299630259425, -7.319226244139621]<input type='checkbox' class='ee-toggle'></label><ul><li><span class='ee-k'>0:</span><span class='ee-v'>-47.016299630259425</span></li><li><span class='ee-k'>1:</span><span class='ee-v'>-7.319226244139621</span></li></ul></li><li><label class='ee-shut'>603: [-47.016355638795474, -7.318687541176922]<input type='checkbox' class='ee-toggle'></label><ul><li><span class='ee-k'>0:</span><span class='ee-v'>-47.016355638795474</span></li><li><span class='ee-k'>1:</span><span class='ee-v'>-7.318687541176922</span></li></ul></li><li><label class='ee-shut'>604: [-47.01625912611149, -7.3182078154602355]<input type='checkbox' class='ee-toggle'></label><ul><li><span class='ee-k'>0:</span><span class='ee-v'>-47.01625912611149</span></li><li><span class='ee-k'>1:</span><span class='ee-v'>-7.3182078154602355</span></li></ul></li><li><label class='ee-shut'>605: [-47.016145774015314, -7.317983919717205]<input type='checkbox' class='ee-toggle'></label><ul><li><span class='ee-k'>0:</span><span class='ee-v'>-47.016145774015314</span></li><li><span class='ee-k'>1:</span><span class='ee-v'>-7.317983919717205</span></li></ul></li><li><label class='ee-shut'>606: [-47.015942438197825, -7.317747026525258]<input type='checkbox' class='ee-toggle'></label><ul><li><span class='ee-k'>0:</span><span class='ee-v'>-47.015942438197825</span></li><li><span class='ee-k'>1:</span><span class='ee-v'>-7.317747026525258</span></li></ul></li><li><label class='ee-shut'>607: [-47.01573465223475, -7.317523529767365]<input type='checkbox' class='ee-toggle'></label><ul><li><span class='ee-k'>0:</span><span class='ee-v'>-47.01573465223475</span></li><li><span class='ee-k'>1:</span><span class='ee-v'>-7.317523529767365</span></li></ul></li><li><label class='ee-shut'>608: [-47.01556633213176, -7.31706206333795]<input type='checkbox' class='ee-toggle'></label><ul><li><span class='ee-k'>0:</span><span class='ee-v'>-47.01556633213176</span></li><li><span class='ee-k'>1:</span><span class='ee-v'>-7.31706206333795</span></li></ul></li><li><label class='ee-shut'>609: [-47.01561039648573, -7.316873410332435]<input type='checkbox' class='ee-toggle'></label><ul><li><span class='ee-k'>0:</span><span class='ee-v'>-47.01561039648573</span></li><li><span class='ee-k'>1:</span><span class='ee-v'>-7.316873410332435</span></li></ul></li><li><label class='ee-shut'>610: [-47.01539882858891, -7.316802572858784]<input type='checkbox' class='ee-toggle'></label><ul><li><span class='ee-k'>0:</span><span class='ee-v'>-47.01539882858891</span></li><li><span class='ee-k'>1:</span><span class='ee-v'>-7.316802572858784</span></li></ul></li><li><label class='ee-shut'>611: [-47.01513718886115, -7.316579386357945]<input type='checkbox' class='ee-toggle'></label><ul><li><span class='ee-k'>0:</span><span class='ee-v'>-47.01513718886115</span></li><li><span class='ee-k'>1:</span><span class='ee-v'>-7.316579386357945</span></li></ul></li><li><label class='ee-shut'>612: [-47.014785865274646, -7.316414916423196]<input type='checkbox' class='ee-toggle'></label><ul><li><span class='ee-k'>0:</span><span class='ee-v'>-47.014785865274646</span></li><li><span class='ee-k'>1:</span><span class='ee-v'>-7.316414916423196</span></li></ul></li><li><label class='ee-shut'>613: [-47.014412364078886, -7.316322296517388]<input type='checkbox' class='ee-toggle'></label><ul><li><span class='ee-k'>0:</span><span class='ee-v'>-47.014412364078886</span></li><li><span class='ee-k'>1:</span><span class='ee-v'>-7.316322296517388</span></li></ul></li><li><label class='ee-shut'>614: [-47.01398493667922, -7.31621655933967]<input type='checkbox' class='ee-toggle'></label><ul><li><span class='ee-k'>0:</span><span class='ee-v'>-47.01398493667922</span></li><li><span class='ee-k'>1:</span><span class='ee-v'>-7.31621655933967</span></li></ul></li><li><label class='ee-shut'>615: [-47.01357516758218, -7.316052297211821]<input type='checkbox' class='ee-toggle'></label><ul><li><span class='ee-k'>0:</span><span class='ee-v'>-47.01357516758218</span></li><li><span class='ee-k'>1:</span><span class='ee-v'>-7.316052297211821</span></li></ul></li><li><label class='ee-shut'>616: [-47.013075348700184, -7.3158481457211115]<input type='checkbox' class='ee-toggle'></label><ul><li><span class='ee-k'>0:</span><span class='ee-v'>-47.013075348700184</span></li><li><span class='ee-k'>1:</span><span class='ee-v'>-7.3158481457211115</span></li></ul></li><li><label class='ee-shut'>617: [-47.01238697454144, -7.315685185028306]<input type='checkbox' class='ee-toggle'></label><ul><li><span class='ee-k'>0:</span><span class='ee-v'>-47.01238697454144</span></li><li><span class='ee-k'>1:</span><span class='ee-v'>-7.315685185028306</span></li></ul></li><li><label class='ee-shut'>618: [-47.01168021386408, -7.315428082291733]<input type='checkbox' class='ee-toggle'></label><ul><li><span class='ee-k'>0:</span><span class='ee-v'>-47.01168021386408</span></li><li><span class='ee-k'>1:</span><span class='ee-v'>-7.315428082291733</span></li></ul></li><li><label class='ee-shut'>619: [-47.0110096607505, -7.315247043075521]<input type='checkbox' class='ee-toggle'></label><ul><li><span class='ee-k'>0:</span><span class='ee-v'>-47.0110096607505</span></li><li><span class='ee-k'>1:</span><span class='ee-v'>-7.315247043075521</span></li></ul></li><li><label class='ee-shut'>620: [-47.010172371877836, -7.314954590548346]<input type='checkbox' class='ee-toggle'></label><ul><li><span class='ee-k'>0:</span><span class='ee-v'>-47.010172371877836</span></li><li><span class='ee-k'>1:</span><span class='ee-v'>-7.314954590548346</span></li></ul></li><li><label class='ee-shut'>621: [-47.00954218905604, -7.314733079553662]<input type='checkbox' class='ee-toggle'></label><ul><li><span class='ee-k'>0:</span><span class='ee-v'>-47.00954218905604</span></li><li><span class='ee-k'>1:</span><span class='ee-v'>-7.314733079553662</span></li></ul></li><li><label class='ee-shut'>622: [-47.00880045844559, -7.314718378140547]<input type='checkbox' class='ee-toggle'></label><ul><li><span class='ee-k'>0:</span><span class='ee-v'>-47.00880045844559</span></li><li><span class='ee-k'>1:</span><span class='ee-v'>-7.314718378140547</span></li></ul></li><li><label class='ee-shut'>623: [-47.00824320335102, -7.31472090060596]<input type='checkbox' class='ee-toggle'></label><ul><li><span class='ee-k'>0:</span><span class='ee-v'>-47.00824320335102</span></li><li><span class='ee-k'>1:</span><span class='ee-v'>-7.31472090060596</span></li></ul></li><li><label class='ee-shut'>624: [-47.00792893879426, -7.31479858384202]<input type='checkbox' class='ee-toggle'></label><ul><li><span class='ee-k'>0:</span><span class='ee-v'>-47.00792893879426</span></li><li><span class='ee-k'>1:</span><span class='ee-v'>-7.31479858384202</span></li></ul></li><li><label class='ee-shut'>625: [-47.007628175264436, -7.314889684096068]<input type='checkbox' class='ee-toggle'></label><ul><li><span class='ee-k'>0:</span><span class='ee-v'>-47.007628175264436</span></li><li><span class='ee-k'>1:</span><span class='ee-v'>-7.314889684096068</span></li></ul></li><li><label class='ee-shut'>626: [-47.007313469484274, -7.314873127354632]<input type='checkbox' class='ee-toggle'></label><ul><li><span class='ee-k'>0:</span><span class='ee-v'>-47.007313469484274</span></li><li><span class='ee-k'>1:</span><span class='ee-v'>-7.314873127354632</span></li></ul></li><li><label class='ee-shut'>627: [-47.00617919492291, -7.314505737310121]<input type='checkbox' class='ee-toggle'></label><ul><li><span class='ee-k'>0:</span><span class='ee-v'>-47.00617919492291</span></li><li><span class='ee-k'>1:</span><span class='ee-v'>-7.314505737310121</span></li></ul></li><li><label class='ee-shut'>628: [-47.00566105502855, -7.314211840335881]<input type='checkbox' class='ee-toggle'></label><ul><li><span class='ee-k'>0:</span><span class='ee-v'>-47.00566105502855</span></li><li><span class='ee-k'>1:</span><span class='ee-v'>-7.314211840335881</span></li></ul></li><li><label class='ee-shut'>629: [-47.00521426929657, -7.313805474622694]<input type='checkbox' class='ee-toggle'></label><ul><li><span class='ee-k'>0:</span><span class='ee-v'>-47.00521426929657</span></li><li><span class='ee-k'>1:</span><span class='ee-v'>-7.313805474622694</span></li></ul></li><li><label class='ee-shut'>630: [-47.00496892448456, -7.313214229553713]<input type='checkbox' class='ee-toggle'></label><ul><li><span class='ee-k'>0:</span><span class='ee-v'>-47.00496892448456</span></li><li><span class='ee-k'>1:</span><span class='ee-v'>-7.313214229553713</span></li></ul></li><li><label class='ee-shut'>631: [-47.00468731341249, -7.312551302188797]<input type='checkbox' class='ee-toggle'></label><ul><li><span class='ee-k'>0:</span><span class='ee-v'>-47.00468731341249</span></li><li><span class='ee-k'>1:</span><span class='ee-v'>-7.312551302188797</span></li></ul></li><li><label class='ee-shut'>632: [-47.004424097098834, -7.311995987869868]<input type='checkbox' class='ee-toggle'></label><ul><li><span class='ee-k'>0:</span><span class='ee-v'>-47.004424097098834</span></li><li><span class='ee-k'>1:</span><span class='ee-v'>-7.311995987869868</span></li></ul></li><li><label class='ee-shut'>633: [-47.0041252825963, -7.311494744348362]<input type='checkbox' class='ee-toggle'></label><ul><li><span class='ee-k'>0:</span><span class='ee-v'>-47.0041252825963</span></li><li><span class='ee-k'>1:</span><span class='ee-v'>-7.311494744348362</span></li></ul></li><li><label class='ee-shut'>634: [-47.0039204373319, -7.310921272250325]<input type='checkbox' class='ee-toggle'></label><ul><li><span class='ee-k'>0:</span><span class='ee-v'>-47.0039204373319</span></li><li><span class='ee-k'>1:</span><span class='ee-v'>-7.310921272250325</span></li></ul></li><li><label class='ee-shut'>635: [-47.00374792888955, -7.310531612555962]<input type='checkbox' class='ee-toggle'></label><ul><li><span class='ee-k'>0:</span><span class='ee-v'>-47.00374792888955</span></li><li><span class='ee-k'>1:</span><span class='ee-v'>-7.310531612555962</span></li></ul></li><li><label class='ee-shut'>636: [-47.0036742087792, -7.3101280311061405]<input type='checkbox' class='ee-toggle'></label><ul><li><span class='ee-k'>0:</span><span class='ee-v'>-47.0036742087792</span></li><li><span class='ee-k'>1:</span><span class='ee-v'>-7.3101280311061405</span></li></ul></li><li><label class='ee-shut'>637: [-47.00368993177164, -7.309629865073959]<input type='checkbox' class='ee-toggle'></label><ul><li><span class='ee-k'>0:</span><span class='ee-v'>-47.00368993177164</span></li><li><span class='ee-k'>1:</span><span class='ee-v'>-7.309629865073959</span></li></ul></li><li><label class='ee-shut'>638: [-47.0036897834415, -7.309589497421435]<input type='checkbox' class='ee-toggle'></label><ul><li><span class='ee-k'>0:</span><span class='ee-v'>-47.0036897834415</span></li><li><span class='ee-k'>1:</span><span class='ee-v'>-7.309589497421435</span></li></ul></li><li><label class='ee-shut'>639: [-47.00358105756518, -7.309401453422076]<input type='checkbox' class='ee-toggle'></label><ul><li><span class='ee-k'>0:</span><span class='ee-v'>-47.00358105756518</span></li><li><span class='ee-k'>1:</span><span class='ee-v'>-7.309401453422076</span></li></ul></li><li><label class='ee-shut'>640: [-46.990407664003214, -7.30129241677002]<input type='checkbox' class='ee-toggle'></label><ul><li><span class='ee-k'>0:</span><span class='ee-v'>-46.990407664003214</span></li><li><span class='ee-k'>1:</span><span class='ee-v'>-7.30129241677002</span></li></ul></li><li><label class='ee-shut'>641: [-46.99208331031234, -7.292987528424056]<input type='checkbox' class='ee-toggle'></label><ul><li><span class='ee-k'>0:</span><span class='ee-v'>-46.99208331031234</span></li><li><span class='ee-k'>1:</span><span class='ee-v'>-7.292987528424056</span></li></ul></li><li><label class='ee-shut'>642: [-46.992011534958785, -7.293010263066596]<input type='checkbox' class='ee-toggle'></label><ul><li><span class='ee-k'>0:</span><span class='ee-v'>-46.992011534958785</span></li><li><span class='ee-k'>1:</span><span class='ee-v'>-7.293010263066596</span></li></ul></li><li><label class='ee-shut'>643: [-46.99127510195794, -7.293161577829863]<input type='checkbox' class='ee-toggle'></label><ul><li><span class='ee-k'>0:</span><span class='ee-v'>-46.99127510195794</span></li><li><span class='ee-k'>1:</span><span class='ee-v'>-7.293161577829863</span></li></ul></li><li><label class='ee-shut'>644: [-46.98997643443647, -7.293216692311993]<input type='checkbox' class='ee-toggle'></label><ul><li><span class='ee-k'>0:</span><span class='ee-v'>-46.98997643443647</span></li><li><span class='ee-k'>1:</span><span class='ee-v'>-7.293216692311993</span></li></ul></li><li><label class='ee-shut'>645: [-46.9891176934687, -7.293144139755378]<input type='checkbox' class='ee-toggle'></label><ul><li><span class='ee-k'>0:</span><span class='ee-v'>-46.9891176934687</span></li><li><span class='ee-k'>1:</span><span class='ee-v'>-7.293144139755378</span></li></ul></li><li><label class='ee-shut'>646: [-46.98727844102387, -7.292909944963221]<input type='checkbox' class='ee-toggle'></label><ul><li><span class='ee-k'>0:</span><span class='ee-v'>-46.98727844102387</span></li><li><span class='ee-k'>1:</span><span class='ee-v'>-7.292909944963221</span></li></ul></li><li><label class='ee-shut'>647: [-46.98587956531712, -7.292646821479296]<input type='checkbox' class='ee-toggle'></label><ul><li><span class='ee-k'>0:</span><span class='ee-v'>-46.98587956531712</span></li><li><span class='ee-k'>1:</span><span class='ee-v'>-7.292646821479296</span></li></ul></li><li><label class='ee-shut'>648: [-46.98475103253515, -7.292553059227175]<input type='checkbox' class='ee-toggle'></label><ul><li><span class='ee-k'>0:</span><span class='ee-v'>-46.98475103253515</span></li><li><span class='ee-k'>1:</span><span class='ee-v'>-7.292553059227175</span></li></ul></li><li><label class='ee-shut'>649: [-46.983426213587975, -7.292778750714028]<input type='checkbox' class='ee-toggle'></label><ul><li><span class='ee-k'>0:</span><span class='ee-v'>-46.983426213587975</span></li><li><span class='ee-k'>1:</span><span class='ee-v'>-7.292778750714028</span></li></ul></li><li><label class='ee-shut'>650: [-46.98159050309171, -7.293352266067947]<input type='checkbox' class='ee-toggle'></label><ul><li><span class='ee-k'>0:</span><span class='ee-v'>-46.98159050309171</span></li><li><span class='ee-k'>1:</span><span class='ee-v'>-7.293352266067947</span></li></ul></li><li><label class='ee-shut'>651: [-46.982224713479425, -7.2924429823899]<input type='checkbox' class='ee-toggle'></label><ul><li><span class='ee-k'>0:</span><span class='ee-v'>-46.982224713479425</span></li><li><span class='ee-k'>1:</span><span class='ee-v'>-7.2924429823899</span></li></ul></li><li><label class='ee-shut'>652: [-46.98383536915004, -7.29077104159164]<input type='checkbox' class='ee-toggle'></label><ul><li><span class='ee-k'>0:</span><span class='ee-v'>-46.98383536915004</span></li><li><span class='ee-k'>1:</span><span class='ee-v'>-7.29077104159164</span></li></ul></li><li><label class='ee-shut'>653: [-46.984129616235656, -7.290231195962708]<input type='checkbox' class='ee-toggle'></label><ul><li><span class='ee-k'>0:</span><span class='ee-v'>-46.984129616235656</span></li><li><span class='ee-k'>1:</span><span class='ee-v'>-7.290231195962708</span></li></ul></li><li><label class='ee-shut'>654: [-46.984491996947924, -7.289861660511733]<input type='checkbox' class='ee-toggle'></label><ul><li><span class='ee-k'>0:</span><span class='ee-v'>-46.984491996947924</span></li><li><span class='ee-k'>1:</span><span class='ee-v'>-7.289861660511733</span></li></ul></li><li><label class='ee-shut'>655: [-46.98554052836406, -7.288115844406051]<input type='checkbox' class='ee-toggle'></label><ul><li><span class='ee-k'>0:</span><span class='ee-v'>-46.98554052836406</span></li><li><span class='ee-k'>1:</span><span class='ee-v'>-7.288115844406051</span></li></ul></li><li><label class='ee-shut'>656: [-46.98649054927625, -7.286473686461229]<input type='checkbox' class='ee-toggle'></label><ul><li><span class='ee-k'>0:</span><span class='ee-v'>-46.98649054927625</span></li><li><span class='ee-k'>1:</span><span class='ee-v'>-7.286473686461229</span></li></ul></li><li><label class='ee-shut'>657: [-46.987660343451445, -7.284727381446284]<input type='checkbox' class='ee-toggle'></label><ul><li><span class='ee-k'>0:</span><span class='ee-v'>-46.987660343451445</span></li><li><span class='ee-k'>1:</span><span class='ee-v'>-7.284727381446284</span></li></ul></li><li><label class='ee-shut'>658: [-46.98807501963391, -7.283967134699819]<input type='checkbox' class='ee-toggle'></label><ul><li><span class='ee-k'>0:</span><span class='ee-v'>-46.98807501963391</span></li><li><span class='ee-k'>1:</span><span class='ee-v'>-7.283967134699819</span></li></ul></li><li><label class='ee-shut'>659: [-46.9887774486212, -7.282227373963483]<input type='checkbox' class='ee-toggle'></label><ul><li><span class='ee-k'>0:</span><span class='ee-v'>-46.9887774486212</span></li><li><span class='ee-k'>1:</span><span class='ee-v'>-7.282227373963483</span></li></ul></li><li><label class='ee-shut'>660: [-46.98981287067124, -7.2785475077753174]<input type='checkbox' class='ee-toggle'></label><ul><li><span class='ee-k'>0:</span><span class='ee-v'>-46.98981287067124</span></li><li><span class='ee-k'>1:</span><span class='ee-v'>-7.2785475077753174</span></li></ul></li><li><label class='ee-shut'>661: [-46.989852167448035, -7.278291499273274]<input type='checkbox' class='ee-toggle'></label><ul><li><span class='ee-k'>0:</span><span class='ee-v'>-46.989852167448035</span></li><li><span class='ee-k'>1:</span><span class='ee-v'>-7.278291499273274</span></li></ul></li><li><label class='ee-shut'>662: [-46.990914452394435, -7.277636136227036]<input type='checkbox' class='ee-toggle'></label><ul><li><span class='ee-k'>0:</span><span class='ee-v'>-46.990914452394435</span></li><li><span class='ee-k'>1:</span><span class='ee-v'>-7.277636136227036</span></li></ul></li><li><label class='ee-shut'>663: [-46.99169989170119, -7.277412792273311]<input type='checkbox' class='ee-toggle'></label><ul><li><span class='ee-k'>0:</span><span class='ee-v'>-46.99169989170119</span></li><li><span class='ee-k'>1:</span><span class='ee-v'>-7.277412792273311</span></li></ul></li><li><label class='ee-shut'>664: [-46.99255756405891, -7.2772384784128805]<input type='checkbox' class='ee-toggle'></label><ul><li><span class='ee-k'>0:</span><span class='ee-v'>-46.99255756405891</span></li><li><span class='ee-k'>1:</span><span class='ee-v'>-7.2772384784128805</span></li></ul></li><li><label class='ee-shut'>665: [-46.99348695407134, -7.277036982399278]<input type='checkbox' class='ee-toggle'></label><ul><li><span class='ee-k'>0:</span><span class='ee-v'>-46.99348695407134</span></li><li><span class='ee-k'>1:</span><span class='ee-v'>-7.277036982399278</span></li></ul></li><li><label class='ee-shut'>666: [-46.99426776158936, -7.276764284939163]<input type='checkbox' class='ee-toggle'></label><ul><li><span class='ee-k'>0:</span><span class='ee-v'>-46.99426776158936</span></li><li><span class='ee-k'>1:</span><span class='ee-v'>-7.276764284939163</span></li></ul></li><li><label class='ee-shut'>667: [-46.995423052448814, -7.27683545940043]<input type='checkbox' class='ee-toggle'></label><ul><li><span class='ee-k'>0:</span><span class='ee-v'>-46.995423052448814</span></li><li><span class='ee-k'>1:</span><span class='ee-v'>-7.27683545940043</span></li></ul></li><li><label class='ee-shut'>668: [-46.99633121254208, -7.276903265235574]<input type='checkbox' class='ee-toggle'></label><ul><li><span class='ee-k'>0:</span><span class='ee-v'>-46.99633121254208</span></li><li><span class='ee-k'>1:</span><span class='ee-v'>-7.276903265235574</span></li></ul></li><li><label class='ee-shut'>669: [-46.99711488164703, -7.277290236572662]<input type='checkbox' class='ee-toggle'></label><ul><li><span class='ee-k'>0:</span><span class='ee-v'>-46.99711488164703</span></li><li><span class='ee-k'>1:</span><span class='ee-v'>-7.277290236572662</span></li></ul></li><li><label class='ee-shut'>670: [-46.99800319793586, -7.277950435683316]<input type='checkbox' class='ee-toggle'></label><ul><li><span class='ee-k'>0:</span><span class='ee-v'>-46.99800319793586</span></li><li><span class='ee-k'>1:</span><span class='ee-v'>-7.277950435683316</span></li></ul></li><li><label class='ee-shut'>671: [-46.998885448780484, -7.2782651739758135]<input type='checkbox' class='ee-toggle'></label><ul><li><span class='ee-k'>0:</span><span class='ee-v'>-46.998885448780484</span></li><li><span class='ee-k'>1:</span><span class='ee-v'>-7.2782651739758135</span></li></ul></li><li><label class='ee-shut'>672: [-46.99942487740496, -7.27828522254619]<input type='checkbox' class='ee-toggle'></label><ul><li><span class='ee-k'>0:</span><span class='ee-v'>-46.99942487740496</span></li><li><span class='ee-k'>1:</span><span class='ee-v'>-7.27828522254619</span></li></ul></li><li><label class='ee-shut'>673: [-47.00001652016299, -7.277932612444053]<input type='checkbox' class='ee-toggle'></label><ul><li><span class='ee-k'>0:</span><span class='ee-v'>-47.00001652016299</span></li><li><span class='ee-k'>1:</span><span class='ee-v'>-7.277932612444053</span></li></ul></li><li><label class='ee-shut'>674: [-47.000419876447616, -7.277688511947414]<input type='checkbox' class='ee-toggle'></label><ul><li><span class='ee-k'>0:</span><span class='ee-v'>-47.000419876447616</span></li><li><span class='ee-k'>1:</span><span class='ee-v'>-7.277688511947414</span></li></ul></li><li><label class='ee-shut'>675: [-46.99095968174296, -7.261390871238735]<input type='checkbox' class='ee-toggle'></label><ul><li><span class='ee-k'>0:</span><span class='ee-v'>-46.99095968174296</span></li><li><span class='ee-k'>1:</span><span class='ee-v'>-7.261390871238735</span></li></ul></li><li><label class='ee-shut'>676: [-46.991084841199125, -7.261233294958755]<input type='checkbox' class='ee-toggle'></label><ul><li><span class='ee-k'>0:</span><span class='ee-v'>-46.991084841199125</span></li><li><span class='ee-k'>1:</span><span class='ee-v'>-7.261233294958755</span></li></ul></li><li><label class='ee-shut'>677: [-46.99233089157087, -7.259464196351557]<input type='checkbox' class='ee-toggle'></label><ul><li><span class='ee-k'>0:</span><span class='ee-v'>-46.99233089157087</span></li><li><span class='ee-k'>1:</span><span class='ee-v'>-7.259464196351557</span></li></ul></li><li><label class='ee-shut'>678: [-46.99303604875293, -7.258357148263053]<input type='checkbox' class='ee-toggle'></label><ul><li><span class='ee-k'>0:</span><span class='ee-v'>-46.99303604875293</span></li><li><span class='ee-k'>1:</span><span class='ee-v'>-7.258357148263053</span></li></ul></li><li><label class='ee-shut'>679: [-46.99349815075157, -7.257156940305327]<input type='checkbox' class='ee-toggle'></label><ul><li><span class='ee-k'>0:</span><span class='ee-v'>-46.99349815075157</span></li><li><span class='ee-k'>1:</span><span class='ee-v'>-7.257156940305327</span></li></ul></li><li><label class='ee-shut'>680: [-46.99398502335107, -7.256468165902925]<input type='checkbox' class='ee-toggle'></label><ul><li><span class='ee-k'>0:</span><span class='ee-v'>-46.99398502335107</span></li><li><span class='ee-k'>1:</span><span class='ee-v'>-7.256468165902925</span></li></ul></li><li><label class='ee-shut'>681: [-46.994620352390015, -7.255828197438291]<input type='checkbox' class='ee-toggle'></label><ul><li><span class='ee-k'>0:</span><span class='ee-v'>-46.994620352390015</span></li><li><span class='ee-k'>1:</span><span class='ee-v'>-7.255828197438291</span></li></ul></li><li><label class='ee-shut'>682: [-46.99530092257863, -7.255264198097055]<input type='checkbox' class='ee-toggle'></label><ul><li><span class='ee-k'>0:</span><span class='ee-v'>-46.99530092257863</span></li><li><span class='ee-k'>1:</span><span class='ee-v'>-7.255264198097055</span></li></ul></li><li><label class='ee-shut'>683: [-46.99662315901716, -7.254473073290436]<input type='checkbox' class='ee-toggle'></label><ul><li><span class='ee-k'>0:</span><span class='ee-v'>-46.99662315901716</span></li><li><span class='ee-k'>1:</span><span class='ee-v'>-7.254473073290436</span></li></ul></li><li><label class='ee-shut'>684: [-46.997658666710855, -7.253889617821816]<input type='checkbox' class='ee-toggle'></label><ul><li><span class='ee-k'>0:</span><span class='ee-v'>-46.997658666710855</span></li><li><span class='ee-k'>1:</span><span class='ee-v'>-7.253889617821816</span></li></ul></li><li><label class='ee-shut'>685: [-46.99783323088398, -7.2537228322261225]<input type='checkbox' class='ee-toggle'></label><ul><li><span class='ee-k'>0:</span><span class='ee-v'>-46.99783323088398</span></li><li><span class='ee-k'>1:</span><span class='ee-v'>-7.2537228322261225</span></li></ul></li><li><label class='ee-shut'>686: [-46.995459090827204, -7.235042518199884]<input type='checkbox' class='ee-toggle'></label><ul><li><span class='ee-k'>0:</span><span class='ee-v'>-46.995459090827204</span></li><li><span class='ee-k'>1:</span><span class='ee-v'>-7.235042518199884</span></li></ul></li><li><label class='ee-shut'>687: [-46.9946834556493, -7.232380285125692]<input type='checkbox' class='ee-toggle'></label><ul><li><span class='ee-k'>0:</span><span class='ee-v'>-46.9946834556493</span></li><li><span class='ee-k'>1:</span><span class='ee-v'>-7.232380285125692</span></li></ul></li><li><label class='ee-shut'>688: [-46.993056291579855, -7.2312610023216495]<input type='checkbox' class='ee-toggle'></label><ul><li><span class='ee-k'>0:</span><span class='ee-v'>-46.993056291579855</span></li><li><span class='ee-k'>1:</span><span class='ee-v'>-7.2312610023216495</span></li></ul></li><li><label class='ee-shut'>689: [-46.99122616498391, -7.229972105578138]<input type='checkbox' class='ee-toggle'></label><ul><li><span class='ee-k'>0:</span><span class='ee-v'>-46.99122616498391</span></li><li><span class='ee-k'>1:</span><span class='ee-v'>-7.229972105578138</span></li></ul></li><li><label class='ee-shut'>690: [-46.98933923568325, -7.229033438471955]<input type='checkbox' class='ee-toggle'></label><ul><li><span class='ee-k'>0:</span><span class='ee-v'>-46.98933923568325</span></li><li><span class='ee-k'>1:</span><span class='ee-v'>-7.229033438471955</span></li></ul></li><li><label class='ee-shut'>691: [-46.98866386117746, -7.228735716468778]<input type='checkbox' class='ee-toggle'></label><ul><li><span class='ee-k'>0:</span><span class='ee-v'>-46.98866386117746</span></li><li><span class='ee-k'>1:</span><span class='ee-v'>-7.228735716468778</span></li></ul></li><li><label class='ee-shut'>692: [-46.98771379964046, -7.228313587012473]<input type='checkbox' class='ee-toggle'></label><ul><li><span class='ee-k'>0:</span><span class='ee-v'>-46.98771379964046</span></li><li><span class='ee-k'>1:</span><span class='ee-v'>-7.228313587012473</span></li></ul></li><li><label class='ee-shut'>693: [-46.986744924207784, -7.227680568419063]<input type='checkbox' class='ee-toggle'></label><ul><li><span class='ee-k'>0:</span><span class='ee-v'>-46.986744924207784</span></li><li><span class='ee-k'>1:</span><span class='ee-v'>-7.227680568419063</span></li></ul></li><li><label class='ee-shut'>694: [-46.984843704431114, -7.226575901086914]<input type='checkbox' class='ee-toggle'></label><ul><li><span class='ee-k'>0:</span><span class='ee-v'>-46.984843704431114</span></li><li><span class='ee-k'>1:</span><span class='ee-v'>-7.226575901086914</span></li></ul></li><li><label class='ee-shut'>695: [-46.98377961882343, -7.225759329696252]<input type='checkbox' class='ee-toggle'></label><ul><li><span class='ee-k'>0:</span><span class='ee-v'>-46.98377961882343</span></li><li><span class='ee-k'>1:</span><span class='ee-v'>-7.225759329696252</span></li></ul></li><li><label class='ee-shut'>696: [-46.983175710295654, -7.225362541028627]<input type='checkbox' class='ee-toggle'></label><ul><li><span class='ee-k'>0:</span><span class='ee-v'>-46.983175710295654</span></li><li><span class='ee-k'>1:</span><span class='ee-v'>-7.225362541028627</span></li></ul></li><li><label class='ee-shut'>697: [-46.98222367560675, -7.224473654834169]<input type='checkbox' class='ee-toggle'></label><ul><li><span class='ee-k'>0:</span><span class='ee-v'>-46.98222367560675</span></li><li><span class='ee-k'>1:</span><span class='ee-v'>-7.224473654834169</span></li></ul></li><li><label class='ee-shut'>698: [-46.9817283903576, -7.224255858578973]<input type='checkbox' class='ee-toggle'></label><ul><li><span class='ee-k'>0:</span><span class='ee-v'>-46.9817283903576</span></li><li><span class='ee-k'>1:</span><span class='ee-v'>-7.224255858578973</span></li></ul></li><li><label class='ee-shut'>699: [-46.98089165763349, -7.224044142474858]<input type='checkbox' class='ee-toggle'></label><ul><li><span class='ee-k'>0:</span><span class='ee-v'>-46.98089165763349</span></li><li><span class='ee-k'>1:</span><span class='ee-v'>-7.224044142474858</span></li></ul></li><li><label class='ee-shut'>700: [-46.980121508009354, -7.2236435624228665]<input type='checkbox' class='ee-toggle'></label><ul><li><span class='ee-k'>0:</span><span class='ee-v'>-46.980121508009354</span></li><li><span class='ee-k'>1:</span><span class='ee-v'>-7.2236435624228665</span></li></ul></li><li><label class='ee-shut'>701: [-46.978806817150144, -7.223065865803936]<input type='checkbox' class='ee-toggle'></label><ul><li><span class='ee-k'>0:</span><span class='ee-v'>-46.978806817150144</span></li><li><span class='ee-k'>1:</span><span class='ee-v'>-7.223065865803936</span></li></ul></li><li><label class='ee-shut'>702: [-46.97737985824723, -7.222511094265812]<input type='checkbox' class='ee-toggle'></label><ul><li><span class='ee-k'>0:</span><span class='ee-v'>-46.97737985824723</span></li><li><span class='ee-k'>1:</span><span class='ee-v'>-7.222511094265812</span></li></ul></li><li><label class='ee-shut'>703: [-46.9759769558079, -7.222297302357562]<input type='checkbox' class='ee-toggle'></label><ul><li><span class='ee-k'>0:</span><span class='ee-v'>-46.9759769558079</span></li><li><span class='ee-k'>1:</span><span class='ee-v'>-7.222297302357562</span></li></ul></li><li><label class='ee-shut'>704: [-46.97502327705467, -7.222063598860902]<input type='checkbox' class='ee-toggle'></label><ul><li><span class='ee-k'>0:</span><span class='ee-v'>-46.97502327705467</span></li><li><span class='ee-k'>1:</span><span class='ee-v'>-7.222063598860902</span></li></ul></li><li><label class='ee-shut'>705: [-46.974055236568354, -7.221632516332503]<input type='checkbox' class='ee-toggle'></label><ul><li><span class='ee-k'>0:</span><span class='ee-v'>-46.974055236568354</span></li><li><span class='ee-k'>1:</span><span class='ee-v'>-7.221632516332503</span></li></ul></li><li><label class='ee-shut'>706: [-46.97286759617477, -7.221327977744508]<input type='checkbox' class='ee-toggle'></label><ul><li><span class='ee-k'>0:</span><span class='ee-v'>-46.97286759617477</span></li><li><span class='ee-k'>1:</span><span class='ee-v'>-7.221327977744508</span></li></ul></li><li><label class='ee-shut'>707: [-46.97228323659708, -7.2212946049658635]<input type='checkbox' class='ee-toggle'></label><ul><li><span class='ee-k'>0:</span><span class='ee-v'>-46.97228323659708</span></li><li><span class='ee-k'>1:</span><span class='ee-v'>-7.2212946049658635</span></li></ul></li><li><label class='ee-shut'>708: [-46.971244984670136, -7.221240770474552]<input type='checkbox' class='ee-toggle'></label><ul><li><span class='ee-k'>0:</span><span class='ee-v'>-46.971244984670136</span></li><li><span class='ee-k'>1:</span><span class='ee-v'>-7.221240770474552</span></li></ul></li><li><label class='ee-shut'>709: [-46.96585631792022, -7.216928936489244]<input type='checkbox' class='ee-toggle'></label><ul><li><span class='ee-k'>0:</span><span class='ee-v'>-46.96585631792022</span></li><li><span class='ee-k'>1:</span><span class='ee-v'>-7.216928936489244</span></li></ul></li><li><label class='ee-shut'>710: [-46.97051670897128, -7.207673246017463]<input type='checkbox' class='ee-toggle'></label><ul><li><span class='ee-k'>0:</span><span class='ee-v'>-46.97051670897128</span></li><li><span class='ee-k'>1:</span><span class='ee-v'>-7.207673246017463</span></li></ul></li><li><label class='ee-shut'>711: [-46.975411091405896, -7.197505588455835]<input type='checkbox' class='ee-toggle'></label><ul><li><span class='ee-k'>0:</span><span class='ee-v'>-46.975411091405896</span></li><li><span class='ee-k'>1:</span><span class='ee-v'>-7.197505588455835</span></li></ul></li><li><label class='ee-shut'>712: [-46.97477615072337, -7.196153011150821]<input type='checkbox' class='ee-toggle'></label><ul><li><span class='ee-k'>0:</span><span class='ee-v'>-46.97477615072337</span></li><li><span class='ee-k'>1:</span><span class='ee-v'>-7.196153011150821</span></li></ul></li><li><label class='ee-shut'>713: [-46.963125590693146, -7.192213600128297]<input type='checkbox' class='ee-toggle'></label><ul><li><span class='ee-k'>0:</span><span class='ee-v'>-46.963125590693146</span></li><li><span class='ee-k'>1:</span><span class='ee-v'>-7.192213600128297</span></li></ul></li><li><label class='ee-shut'>714: [-46.95629207982812, -7.188248777447057]<input type='checkbox' class='ee-toggle'></label><ul><li><span class='ee-k'>0:</span><span class='ee-v'>-46.95629207982812</span></li><li><span class='ee-k'>1:</span><span class='ee-v'>-7.188248777447057</span></li></ul></li><li><label class='ee-shut'>715: [-46.958145178295425, -7.182370979614526]<input type='checkbox' class='ee-toggle'></label><ul><li><span class='ee-k'>0:</span><span class='ee-v'>-46.958145178295425</span></li><li><span class='ee-k'>1:</span><span class='ee-v'>-7.182370979614526</span></li></ul></li><li><label class='ee-shut'>716: [-46.95880843934765, -7.172508727433607]<input type='checkbox' class='ee-toggle'></label><ul><li><span class='ee-k'>0:</span><span class='ee-v'>-46.95880843934765</span></li><li><span class='ee-k'>1:</span><span class='ee-v'>-7.172508727433607</span></li></ul></li><li><label class='ee-shut'>717: [-46.95854620159338, -7.165818705419402]<input type='checkbox' class='ee-toggle'></label><ul><li><span class='ee-k'>0:</span><span class='ee-v'>-46.95854620159338</span></li><li><span class='ee-k'>1:</span><span class='ee-v'>-7.165818705419402</span></li></ul></li><li><label class='ee-shut'>718: [-46.956062457120495, -7.161839698862794]<input type='checkbox' class='ee-toggle'></label><ul><li><span class='ee-k'>0:</span><span class='ee-v'>-46.956062457120495</span></li><li><span class='ee-k'>1:</span><span class='ee-v'>-7.161839698862794</span></li></ul></li><li><label class='ee-shut'>719: [-46.95779521173571, -7.155141157955873]<input type='checkbox' class='ee-toggle'></label><ul><li><span class='ee-k'>0:</span><span class='ee-v'>-46.95779521173571</span></li><li><span class='ee-k'>1:</span><span class='ee-v'>-7.155141157955873</span></li></ul></li><li><label class='ee-shut'>720: [-46.959886896169024, -7.149379038465953]<input type='checkbox' class='ee-toggle'></label><ul><li><span class='ee-k'>0:</span><span class='ee-v'>-46.959886896169024</span></li><li><span class='ee-k'>1:</span><span class='ee-v'>-7.149379038465953</span></li></ul></li><li><label class='ee-shut'>721: [-46.96823181731942, -7.1496980471618325]<input type='checkbox' class='ee-toggle'></label><ul><li><span class='ee-k'>0:</span><span class='ee-v'>-46.96823181731942</span></li><li><span class='ee-k'>1:</span><span class='ee-v'>-7.1496980471618325</span></li></ul></li><li><label class='ee-shut'>722: [-46.97445497723721, -7.148733444422891]<input type='checkbox' class='ee-toggle'></label><ul><li><span class='ee-k'>0:</span><span class='ee-v'>-46.97445497723721</span></li><li><span class='ee-k'>1:</span><span class='ee-v'>-7.148733444422891</span></li></ul></li><li><label class='ee-shut'>723: [-46.983497087191054, -7.147168865623852]<input type='checkbox' class='ee-toggle'></label><ul><li><span class='ee-k'>0:</span><span class='ee-v'>-46.983497087191054</span></li><li><span class='ee-k'>1:</span><span class='ee-v'>-7.147168865623852</span></li></ul></li><li><label class='ee-shut'>724: [-46.98892632863159, -7.151722833643467]<input type='checkbox' class='ee-toggle'></label><ul><li><span class='ee-k'>0:</span><span class='ee-v'>-46.98892632863159</span></li><li><span class='ee-k'>1:</span><span class='ee-v'>-7.151722833643467</span></li></ul></li><li><label class='ee-shut'>725: [-46.99668099976743, -7.151689251514815]<input type='checkbox' class='ee-toggle'></label><ul><li><span class='ee-k'>0:</span><span class='ee-v'>-46.99668099976743</span></li><li><span class='ee-k'>1:</span><span class='ee-v'>-7.151689251514815</span></li></ul></li><li><label class='ee-shut'>726: [-47.00138515610192, -7.152723397193322]<input type='checkbox' class='ee-toggle'></label><ul><li><span class='ee-k'>0:</span><span class='ee-v'>-47.00138515610192</span></li><li><span class='ee-k'>1:</span><span class='ee-v'>-7.152723397193322</span></li></ul></li><li><label class='ee-shut'>727: [-47.00621576010478, -7.154932744942463]<input type='checkbox' class='ee-toggle'></label><ul><li><span class='ee-k'>0:</span><span class='ee-v'>-47.00621576010478</span></li><li><span class='ee-k'>1:</span><span class='ee-v'>-7.154932744942463</span></li></ul></li><li><label class='ee-shut'>728: [-47.01046410110215, -7.159608169878203]<input type='checkbox' class='ee-toggle'></label><ul><li><span class='ee-k'>0:</span><span class='ee-v'>-47.01046410110215</span></li><li><span class='ee-k'>1:</span><span class='ee-v'>-7.159608169878203</span></li></ul></li><li><label class='ee-shut'>729: [-47.01325211697203, -7.166286898233429]<input type='checkbox' class='ee-toggle'></label><ul><li><span class='ee-k'>0:</span><span class='ee-v'>-47.01325211697203</span></li><li><span class='ee-k'>1:</span><span class='ee-v'>-7.166286898233429</span></li></ul></li><li><label class='ee-shut'>730: [-47.01331516916889, -7.166313537014493]<input type='checkbox' class='ee-toggle'></label><ul><li><span class='ee-k'>0:</span><span class='ee-v'>-47.01331516916889</span></li><li><span class='ee-k'>1:</span><span class='ee-v'>-7.166313537014493</span></li></ul></li><li><label class='ee-shut'>731: [-47.01358080522297, -7.166442520120526]<input type='checkbox' class='ee-toggle'></label><ul><li><span class='ee-k'>0:</span><span class='ee-v'>-47.01358080522297</span></li><li><span class='ee-k'>1:</span><span class='ee-v'>-7.166442520120526</span></li></ul></li><li><label class='ee-shut'>732: [-47.014017353383295, -7.166602134714443]<input type='checkbox' class='ee-toggle'></label><ul><li><span class='ee-k'>0:</span><span class='ee-v'>-47.014017353383295</span></li><li><span class='ee-k'>1:</span><span class='ee-v'>-7.166602134714443</span></li></ul></li><li><label class='ee-shut'>733: [-47.01450731546367, -7.166649389063638]<input type='checkbox' class='ee-toggle'></label><ul><li><span class='ee-k'>0:</span><span class='ee-v'>-47.01450731546367</span></li><li><span class='ee-k'>1:</span><span class='ee-v'>-7.166649389063638</span></li></ul></li><li><label class='ee-shut'>734: [-47.01505996571118, -7.166646977992459]<input type='checkbox' class='ee-toggle'></label><ul><li><span class='ee-k'>0:</span><span class='ee-v'>-47.01505996571118</span></li><li><span class='ee-k'>1:</span><span class='ee-v'>-7.166646977992459</span></li></ul></li><li><label class='ee-shut'>735: [-47.017779463242384, -7.1658990621111505]<input type='checkbox' class='ee-toggle'></label><ul><li><span class='ee-k'>0:</span><span class='ee-v'>-47.017779463242384</span></li><li><span class='ee-k'>1:</span><span class='ee-v'>-7.1658990621111505</span></li></ul></li><li><label class='ee-shut'>736: [-47.01988318797117, -7.16511348157781]<input type='checkbox' class='ee-toggle'></label><ul><li><span class='ee-k'>0:</span><span class='ee-v'>-47.01988318797117</span></li><li><span class='ee-k'>1:</span><span class='ee-v'>-7.16511348157781</span></li></ul></li><li><label class='ee-shut'>737: [-47.0214620215955, -7.164491765426548]<input type='checkbox' class='ee-toggle'></label><ul><li><span class='ee-k'>0:</span><span class='ee-v'>-47.0214620215955</span></li><li><span class='ee-k'>1:</span><span class='ee-v'>-7.164491765426548</span></li></ul></li><li><label class='ee-shut'>738: [-47.02194641676438, -7.164305637811514]<input type='checkbox' class='ee-toggle'></label><ul><li><span class='ee-k'>0:</span><span class='ee-v'>-47.02194641676438</span></li><li><span class='ee-k'>1:</span><span class='ee-v'>-7.164305637811514</span></li></ul></li><li><label class='ee-shut'>739: [-47.02259263039001, -7.1641277558122765]<input type='checkbox' class='ee-toggle'></label><ul><li><span class='ee-k'>0:</span><span class='ee-v'>-47.02259263039001</span></li><li><span class='ee-k'>1:</span><span class='ee-v'>-7.1641277558122765</span></li></ul></li><li><label class='ee-shut'>740: [-47.02319908448274, -7.164089238863006]<input type='checkbox' class='ee-toggle'></label><ul><li><span class='ee-k'>0:</span><span class='ee-v'>-47.02319908448274</span></li><li><span class='ee-k'>1:</span><span class='ee-v'>-7.164089238863006</span></li></ul></li><li><label class='ee-shut'>741: [-47.02355417583232, -7.164123554834893]<input type='checkbox' class='ee-toggle'></label><ul><li><span class='ee-k'>0:</span><span class='ee-v'>-47.02355417583232</span></li><li><span class='ee-k'>1:</span><span class='ee-v'>-7.164123554834893</span></li></ul></li><li><label class='ee-shut'>742: [-47.024170435105006, -7.164295853546275]<input type='checkbox' class='ee-toggle'></label><ul><li><span class='ee-k'>0:</span><span class='ee-v'>-47.024170435105006</span></li><li><span class='ee-k'>1:</span><span class='ee-v'>-7.164295853546275</span></li></ul></li><li><label class='ee-shut'>743: [-47.024620058302155, -7.1643567127504095]<input type='checkbox' class='ee-toggle'></label><ul><li><span class='ee-k'>0:</span><span class='ee-v'>-47.024620058302155</span></li><li><span class='ee-k'>1:</span><span class='ee-v'>-7.1643567127504095</span></li></ul></li><li><label class='ee-shut'>744: [-47.02573893985794, -7.164392154642466]<input type='checkbox' class='ee-toggle'></label><ul><li><span class='ee-k'>0:</span><span class='ee-v'>-47.02573893985794</span></li><li><span class='ee-k'>1:</span><span class='ee-v'>-7.164392154642466</span></li></ul></li><li><label class='ee-shut'>745: [-47.02668718896134, -7.164441859503493]<input type='checkbox' class='ee-toggle'></label><ul><li><span class='ee-k'>0:</span><span class='ee-v'>-47.02668718896134</span></li><li><span class='ee-k'>1:</span><span class='ee-v'>-7.164441859503493</span></li></ul></li><li><label class='ee-shut'>746: [-47.02751903610353, -7.164595230334683]<input type='checkbox' class='ee-toggle'></label><ul><li><span class='ee-k'>0:</span><span class='ee-v'>-47.02751903610353</span></li><li><span class='ee-k'>1:</span><span class='ee-v'>-7.164595230334683</span></li></ul></li><li><label class='ee-shut'>747: [-47.02830600524039, -7.164748789956035]<input type='checkbox' class='ee-toggle'></label><ul><li><span class='ee-k'>0:</span><span class='ee-v'>-47.02830600524039</span></li><li><span class='ee-k'>1:</span><span class='ee-v'>-7.164748789956035</span></li></ul></li><li><label class='ee-shut'>748: [-47.02891341779292, -7.164943602707172]<input type='checkbox' class='ee-toggle'></label><ul><li><span class='ee-k'>0:</span><span class='ee-v'>-47.02891341779292</span></li><li><span class='ee-k'>1:</span><span class='ee-v'>-7.164943602707172</span></li></ul></li><li><label class='ee-shut'>749: [-47.02939016677681, -7.16504468195902]<input type='checkbox' class='ee-toggle'></label><ul><li><span class='ee-k'>0:</span><span class='ee-v'>-47.02939016677681</span></li><li><span class='ee-k'>1:</span><span class='ee-v'>-7.16504468195902</span></li></ul></li><li><label class='ee-shut'>750: [-47.02981319712107, -7.165204361334723]<input type='checkbox' class='ee-toggle'></label><ul><li><span class='ee-k'>0:</span><span class='ee-v'>-47.02981319712107</span></li><li><span class='ee-k'>1:</span><span class='ee-v'>-7.165204361334723</span></li></ul></li><li><label class='ee-shut'>751: [-47.03025797268359, -7.165202389090706]<input type='checkbox' class='ee-toggle'></label><ul><li><span class='ee-k'>0:</span><span class='ee-v'>-47.03025797268359</span></li><li><span class='ee-k'>1:</span><span class='ee-v'>-7.165202389090706</span></li></ul></li><li><label class='ee-shut'>752: [-47.03058565766455, -7.165120168180733]<input type='checkbox' class='ee-toggle'></label><ul><li><span class='ee-k'>0:</span><span class='ee-v'>-47.03058565766455</span></li><li><span class='ee-k'>1:</span><span class='ee-v'>-7.165120168180733</span></li></ul></li><li><label class='ee-shut'>753: [-47.030836691312054, -7.165002422808905]<input type='checkbox' class='ee-toggle'></label><ul><li><span class='ee-k'>0:</span><span class='ee-v'>-47.030836691312054</span></li><li><span class='ee-k'>1:</span><span class='ee-v'>-7.165002422808905</span></li></ul></li><li><label class='ee-shut'>754: [-47.03131234521607, -7.164865712282694]<input type='checkbox' class='ee-toggle'></label><ul><li><span class='ee-k'>0:</span><span class='ee-v'>-47.03131234521607</span></li><li><span class='ee-k'>1:</span><span class='ee-v'>-7.164865712282694</span></li></ul></li><li><label class='ee-shut'>755: [-47.03211139440743, -7.164705078435096]<input type='checkbox' class='ee-toggle'></label><ul><li><span class='ee-k'>0:</span><span class='ee-v'>-47.03211139440743</span></li><li><span class='ee-k'>1:</span><span class='ee-v'>-7.164705078435096</span></li></ul></li><li><label class='ee-shut'>756: [-47.033216415196634, -7.164646329452861]<input type='checkbox' class='ee-toggle'></label><ul><li><span class='ee-k'>0:</span><span class='ee-v'>-47.033216415196634</span></li><li><span class='ee-k'>1:</span><span class='ee-v'>-7.164646329452861</span></li></ul></li><li><label class='ee-shut'>757: [-47.03394395657419, -7.164566841027003]<input type='checkbox' class='ee-toggle'></label><ul><li><span class='ee-k'>0:</span><span class='ee-v'>-47.03394395657419</span></li><li><span class='ee-k'>1:</span><span class='ee-v'>-7.164566841027003</span></li></ul></li><li><label class='ee-shut'>758: [-47.034640191638864, -7.1645368640444085]<input type='checkbox' class='ee-toggle'></label><ul><li><span class='ee-k'>0:</span><span class='ee-v'>-47.034640191638864</span></li><li><span class='ee-k'>1:</span><span class='ee-v'>-7.1645368640444085</span></li></ul></li><li><label class='ee-shut'>759: [-47.03537732659631, -7.164587435744938]<input type='checkbox' class='ee-toggle'></label><ul><li><span class='ee-k'>0:</span><span class='ee-v'>-47.03537732659631</span></li><li><span class='ee-k'>1:</span><span class='ee-v'>-7.164587435744938</span></li></ul></li><li><label class='ee-shut'>760: [-47.035813690581016, -7.164715648448973]<input type='checkbox' class='ee-toggle'></label><ul><li><span class='ee-k'>0:</span><span class='ee-v'>-47.035813690581016</span></li><li><span class='ee-k'>1:</span><span class='ee-v'>-7.164715648448973</span></li></ul></li><li><label class='ee-shut'>761: [-47.035984675038904, -7.164768731608421]<input type='checkbox' class='ee-toggle'></label><ul><li><span class='ee-k'>0:</span><span class='ee-v'>-47.035984675038904</span></li><li><span class='ee-k'>1:</span><span class='ee-v'>-7.164768731608421</span></li></ul></li><li><label class='ee-shut'>762: [-47.03655180728312, -7.165004072184219]<input type='checkbox' class='ee-toggle'></label><ul><li><span class='ee-k'>0:</span><span class='ee-v'>-47.03655180728312</span></li><li><span class='ee-k'>1:</span><span class='ee-v'>-7.165004072184219</span></li></ul></li><li><label class='ee-shut'>763: [-47.03751539739765, -7.165470990798467]<input type='checkbox' class='ee-toggle'></label><ul><li><span class='ee-k'>0:</span><span class='ee-v'>-47.03751539739765</span></li><li><span class='ee-k'>1:</span><span class='ee-v'>-7.165470990798467</span></li></ul></li><li><label class='ee-shut'>764: [-47.03825502305695, -7.166100452421563]<input type='checkbox' class='ee-toggle'></label><ul><li><span class='ee-k'>0:</span><span class='ee-v'>-47.03825502305695</span></li><li><span class='ee-k'>1:</span><span class='ee-v'>-7.166100452421563</span></li></ul></li><li><label class='ee-shut'>765: [-47.03906256760443, -7.166846228000788]<input type='checkbox' class='ee-toggle'></label><ul><li><span class='ee-k'>0:</span><span class='ee-v'>-47.03906256760443</span></li><li><span class='ee-k'>1:</span><span class='ee-v'>-7.166846228000788</span></li></ul></li><li><label class='ee-shut'>766: [-47.03973564249487, -7.1676554643065264]<input type='checkbox' class='ee-toggle'></label><ul><li><span class='ee-k'>0:</span><span class='ee-v'>-47.03973564249487</span></li><li><span class='ee-k'>1:</span><span class='ee-v'>-7.1676554643065264</span></li></ul></li><li><label class='ee-shut'>767: [-47.04020121157101, -7.168272697461944]<input type='checkbox' class='ee-toggle'></label><ul><li><span class='ee-k'>0:</span><span class='ee-v'>-47.04020121157101</span></li><li><span class='ee-k'>1:</span><span class='ee-v'>-7.168272697461944</span></li></ul></li><li><label class='ee-shut'>768: [-47.04047789802948, -7.168863812525541]<input type='checkbox' class='ee-toggle'></label><ul><li><span class='ee-k'>0:</span><span class='ee-v'>-47.04047789802948</span></li><li><span class='ee-k'>1:</span><span class='ee-v'>-7.168863812525541</span></li></ul></li><li><label class='ee-shut'>769: [-47.040785758010955, -7.169387477906877]<input type='checkbox' class='ee-toggle'></label><ul><li><span class='ee-k'>0:</span><span class='ee-v'>-47.040785758010955</span></li><li><span class='ee-k'>1:</span><span class='ee-v'>-7.169387477906877</span></li></ul></li><li><label class='ee-shut'>770: [-47.040994833701795, -7.169925066331533]<input type='checkbox' class='ee-toggle'></label><ul><li><span class='ee-k'>0:</span><span class='ee-v'>-47.040994833701795</span></li><li><span class='ee-k'>1:</span><span class='ee-v'>-7.169925066331533</span></li></ul></li><li><label class='ee-shut'>771: [-47.0411949296638, -7.1704626373376]<input type='checkbox' class='ee-toggle'></label><ul><li><span class='ee-k'>0:</span><span class='ee-v'>-47.0411949296638</span></li><li><span class='ee-k'>1:</span><span class='ee-v'>-7.1704626373376</span></li></ul></li><li><label class='ee-shut'>772: [-47.041443343659104, -7.170757718244267]<input type='checkbox' class='ee-toggle'></label><ul><li><span class='ee-k'>0:</span><span class='ee-v'>-47.041443343659104</span></li><li><span class='ee-k'>1:</span><span class='ee-v'>-7.170757718244267</span></li></ul></li><li><label class='ee-shut'>773: [-47.04198886415059, -7.171172640520358]<input type='checkbox' class='ee-toggle'></label><ul><li><span class='ee-k'>0:</span><span class='ee-v'>-47.04198886415059</span></li><li><span class='ee-k'>1:</span><span class='ee-v'>-7.171172640520358</span></li></ul></li><li><label class='ee-shut'>774: [-47.042596068722496, -7.171326980692365]<input type='checkbox' class='ee-toggle'></label><ul><li><span class='ee-k'>0:</span><span class='ee-v'>-47.042596068722496</span></li><li><span class='ee-k'>1:</span><span class='ee-v'>-7.171326980692365</span></li></ul></li><li><label class='ee-shut'>775: [-47.04341459282266, -7.171507333932756]<input type='checkbox' class='ee-toggle'></label><ul><li><span class='ee-k'>0:</span><span class='ee-v'>-47.04341459282266</span></li><li><span class='ee-k'>1:</span><span class='ee-v'>-7.171507333932756</span></li></ul></li><li><label class='ee-shut'>776: [-47.04403094390967, -7.171688605734999]<input type='checkbox' class='ee-toggle'></label><ul><li><span class='ee-k'>0:</span><span class='ee-v'>-47.04403094390967</span></li><li><span class='ee-k'>1:</span><span class='ee-v'>-7.171688605734999</span></li></ul></li><li><label class='ee-shut'>777: [-47.04487702854543, -7.171998928759146]<input type='checkbox' class='ee-toggle'></label><ul><li><span class='ee-k'>0:</span><span class='ee-v'>-47.04487702854543</span></li><li><span class='ee-k'>1:</span><span class='ee-v'>-7.171998928759146</span></li></ul></li><li><label class='ee-shut'>778: [-47.045048637213085, -7.172182177687542]<input type='checkbox' class='ee-toggle'></label><ul><li><span class='ee-k'>0:</span><span class='ee-v'>-47.045048637213085</span></li><li><span class='ee-k'>1:</span><span class='ee-v'>-7.172182177687542</span></li></ul></li><li><label class='ee-shut'>779: [-47.04535014138369, -7.172301961941018]<input type='checkbox' class='ee-toggle'></label><ul><li><span class='ee-k'>0:</span><span class='ee-v'>-47.04535014138369</span></li><li><span class='ee-k'>1:</span><span class='ee-v'>-7.172301961941018</span></li></ul></li><li><label class='ee-shut'>780: [-47.04581435143861, -7.172614070666295]<input type='checkbox' class='ee-toggle'></label><ul><li><span class='ee-k'>0:</span><span class='ee-v'>-47.04581435143861</span></li><li><span class='ee-k'>1:</span><span class='ee-v'>-7.172614070666295</span></li></ul></li><li><label class='ee-shut'>781: [-47.04634158458218, -7.172966208729735]<input type='checkbox' class='ee-toggle'></label><ul><li><span class='ee-k'>0:</span><span class='ee-v'>-47.04634158458218</span></li><li><span class='ee-k'>1:</span><span class='ee-v'>-7.172966208729735</span></li></ul></li><li><label class='ee-shut'>782: [-47.04689569371268, -7.173291284177059]<input type='checkbox' class='ee-toggle'></label><ul><li><span class='ee-k'>0:</span><span class='ee-v'>-47.04689569371268</span></li><li><span class='ee-k'>1:</span><span class='ee-v'>-7.173291284177059</span></li></ul></li><li><label class='ee-shut'>783: [-47.047305953609154, -7.173594660106506]<input type='checkbox' class='ee-toggle'></label><ul><li><span class='ee-k'>0:</span><span class='ee-v'>-47.047305953609154</span></li><li><span class='ee-k'>1:</span><span class='ee-v'>-7.173594660106506</span></li></ul></li><li><label class='ee-shut'>784: [-47.04771591988984, -7.173853068255968]<input type='checkbox' class='ee-toggle'></label><ul><li><span class='ee-k'>0:</span><span class='ee-v'>-47.04771591988984</span></li><li><span class='ee-k'>1:</span><span class='ee-v'>-7.173853068255968</span></li></ul></li><li><label class='ee-shut'>785: [-47.048201900846, -7.174012445862664]<input type='checkbox' class='ee-toggle'></label><ul><li><span class='ee-k'>0:</span><span class='ee-v'>-47.048201900846</span></li><li><span class='ee-k'>1:</span><span class='ee-v'>-7.174012445862664</span></li></ul></li><li><label class='ee-shut'>786: [-47.048889645672745, -7.174085653762536]<input type='checkbox' class='ee-toggle'></label><ul><li><span class='ee-k'>0:</span><span class='ee-v'>-47.048889645672745</span></li><li><span class='ee-k'>1:</span><span class='ee-v'>-7.174085653762536</span></li></ul></li><li><label class='ee-shut'>787: [-47.049626986722174, -7.174190080603925]<input type='checkbox' class='ee-toggle'></label><ul><li><span class='ee-k'>0:</span><span class='ee-v'>-47.049626986722174</span></li><li><span class='ee-k'>1:</span><span class='ee-v'>-7.174190080603925</span></li></ul></li><li><label class='ee-shut'>788: [-47.04996890042528, -7.174291752989968]<input type='checkbox' class='ee-toggle'></label><ul><li><span class='ee-k'>0:</span><span class='ee-v'>-47.04996890042528</span></li><li><span class='ee-k'>1:</span><span class='ee-v'>-7.174291752989968</span></li></ul></li><li><label class='ee-shut'>789: [-47.05032447529245, -7.174420312039085]<input type='checkbox' class='ee-toggle'></label><ul><li><span class='ee-k'>0:</span><span class='ee-v'>-47.05032447529245</span></li><li><span class='ee-k'>1:</span><span class='ee-v'>-7.174420312039085</span></li></ul></li><li><label class='ee-shut'>790: [-47.05070670248145, -7.174499368340766]<input type='checkbox' class='ee-toggle'></label><ul><li><span class='ee-k'>0:</span><span class='ee-v'>-47.05070670248145</span></li><li><span class='ee-k'>1:</span><span class='ee-v'>-7.174499368340766</span></li></ul></li><li><label class='ee-shut'>791: [-47.05123235305767, -7.17448356278199]<input type='checkbox' class='ee-toggle'></label><ul><li><span class='ee-k'>0:</span><span class='ee-v'>-47.05123235305767</span></li><li><span class='ee-k'>1:</span><span class='ee-v'>-7.17448356278199</span></li></ul></li><li><label class='ee-shut'>792: [-47.05174865543086, -7.174400464894914]<input type='checkbox' class='ee-toggle'></label><ul><li><span class='ee-k'>0:</span><span class='ee-v'>-47.05174865543086</span></li><li><span class='ee-k'>1:</span><span class='ee-v'>-7.174400464894914</span></li></ul></li><li><label class='ee-shut'>793: [-47.052431622746674, -7.174397434830448]<input type='checkbox' class='ee-toggle'></label><ul><li><span class='ee-k'>0:</span><span class='ee-v'>-47.052431622746674</span></li><li><span class='ee-k'>1:</span><span class='ee-v'>-7.174397434830448</span></li></ul></li><li><label class='ee-shut'>794: [-47.05291727746062, -7.174489490858644]<input type='checkbox' class='ee-toggle'></label><ul><li><span class='ee-k'>0:</span><span class='ee-v'>-47.05291727746062</span></li><li><span class='ee-k'>1:</span><span class='ee-v'>-7.174489490858644</span></li></ul></li><li><label class='ee-shut'>795: [-47.05328623560041, -7.174618016177805]<input type='checkbox' class='ee-toggle'></label><ul><li><span class='ee-k'>0:</span><span class='ee-v'>-47.05328623560041</span></li><li><span class='ee-k'>1:</span><span class='ee-v'>-7.174618016177805</span></li></ul></li><li><label class='ee-shut'>796: [-47.053776649685894, -7.17475941469449]<input type='checkbox' class='ee-toggle'></label><ul><li><span class='ee-k'>0:</span><span class='ee-v'>-47.053776649685894</span></li><li><span class='ee-k'>1:</span><span class='ee-v'>-7.17475941469449</span></li></ul></li><li><label class='ee-shut'>797: [-47.054172562650116, -7.174878805004021]<input type='checkbox' class='ee-toggle'></label><ul><li><span class='ee-k'>0:</span><span class='ee-v'>-47.054172562650116</span></li><li><span class='ee-k'>1:</span><span class='ee-v'>-7.174878805004021</span></li></ul></li><li><label class='ee-shut'>798: [-47.054356748971124, -7.174877955974035]<input type='checkbox' class='ee-toggle'></label><ul><li><span class='ee-k'>0:</span><span class='ee-v'>-47.054356748971124</span></li><li><span class='ee-k'>1:</span><span class='ee-v'>-7.174877955974035</span></li></ul></li><li><label class='ee-shut'>799: [-47.054657788505224, -7.174876634173512]<input type='checkbox' class='ee-toggle'></label><ul><li><span class='ee-k'>0:</span><span class='ee-v'>-47.054657788505224</span></li><li><span class='ee-k'>1:</span><span class='ee-v'>-7.174876634173512</span></li></ul></li><li><label class='ee-shut'>800: [-47.055394544788335, -7.17484640879914]<input type='checkbox' class='ee-toggle'></label><ul><li><span class='ee-k'>0:</span><span class='ee-v'>-47.055394544788335</span></li><li><span class='ee-k'>1:</span><span class='ee-v'>-7.17484640879914</span></li></ul></li><li><label class='ee-shut'>801: [-47.05606813226981, -7.17476262497731]<input type='checkbox' class='ee-toggle'></label><ul><li><span class='ee-k'>0:</span><span class='ee-v'>-47.05606813226981</span></li><li><span class='ee-k'>1:</span><span class='ee-v'>-7.17476262497731</span></li></ul></li><li><label class='ee-shut'>802: [-47.056490121948976, -7.174684413460846]<input type='checkbox' class='ee-toggle'></label><ul><li><span class='ee-k'>0:</span><span class='ee-v'>-47.056490121948976</span></li><li><span class='ee-k'>1:</span><span class='ee-v'>-7.174684413460846</span></li></ul></li><li><label class='ee-shut'>803: [-47.05700180025368, -7.17457443955396]<input type='checkbox' class='ee-toggle'></label><ul><li><span class='ee-k'>0:</span><span class='ee-v'>-47.05700180025368</span></li><li><span class='ee-k'>1:</span><span class='ee-v'>-7.17457443955396</span></li></ul></li><li><label class='ee-shut'>804: [-47.057410211126786, -7.174469408428044]<input type='checkbox' class='ee-toggle'></label><ul><li><span class='ee-k'>0:</span><span class='ee-v'>-47.057410211126786</span></li><li><span class='ee-k'>1:</span><span class='ee-v'>-7.174469408428044</span></li></ul></li><li><label class='ee-shut'>805: [-47.05843336859104, -7.174200061202836]<input type='checkbox' class='ee-toggle'></label><ul><li><span class='ee-k'>0:</span><span class='ee-v'>-47.05843336859104</span></li><li><span class='ee-k'>1:</span><span class='ee-v'>-7.174200061202836</span></li></ul></li><li><label class='ee-shut'>806: [-47.05902532589381, -7.173950610407442]<input type='checkbox' class='ee-toggle'></label><ul><li><span class='ee-k'>0:</span><span class='ee-v'>-47.05902532589381</span></li><li><span class='ee-k'>1:</span><span class='ee-v'>-7.173950610407442</span></li></ul></li><li><label class='ee-shut'>807: [-47.05948713605903, -7.173724150495811]<input type='checkbox' class='ee-toggle'></label><ul><li><span class='ee-k'>0:</span><span class='ee-v'>-47.05948713605903</span></li><li><span class='ee-k'>1:</span><span class='ee-v'>-7.173724150495811</span></li></ul></li><li><label class='ee-shut'>808: [-47.059917395432535, -7.173484391808248]<input type='checkbox' class='ee-toggle'></label><ul><li><span class='ee-k'>0:</span><span class='ee-v'>-47.059917395432535</span></li><li><span class='ee-k'>1:</span><span class='ee-v'>-7.173484391808248</span></li></ul></li><li><label class='ee-shut'>809: [-47.06031172261076, -7.173258226086133]<input type='checkbox' class='ee-toggle'></label><ul><li><span class='ee-k'>0:</span><span class='ee-v'>-47.06031172261076</span></li><li><span class='ee-k'>1:</span><span class='ee-v'>-7.173258226086133</span></li></ul></li><li><label class='ee-shut'>810: [-47.060850391380136, -7.173152602913578]<input type='checkbox' class='ee-toggle'></label><ul><li><span class='ee-k'>0:</span><span class='ee-v'>-47.060850391380136</span></li><li><span class='ee-k'>1:</span><span class='ee-v'>-7.173152602913578</span></li></ul></li><li><label class='ee-shut'>811: [-47.06140250492712, -7.173028957678968]<input type='checkbox' class='ee-toggle'></label><ul><li><span class='ee-k'>0:</span><span class='ee-v'>-47.06140250492712</span></li><li><span class='ee-k'>1:</span><span class='ee-v'>-7.173028957678968</span></li></ul></li><li><label class='ee-shut'>812: [-47.062102382030346, -7.172792491925096]<input type='checkbox' class='ee-toggle'></label><ul><li><span class='ee-k'>0:</span><span class='ee-v'>-47.062102382030346</span></li><li><span class='ee-k'>1:</span><span class='ee-v'>-7.172792491925096</span></li></ul></li><li><label class='ee-shut'>813: [-47.06287904449744, -7.172654384541108]<input type='checkbox' class='ee-toggle'></label><ul><li><span class='ee-k'>0:</span><span class='ee-v'>-47.06287904449744</span></li><li><span class='ee-k'>1:</span><span class='ee-v'>-7.172654384541108</span></li></ul></li><li><label class='ee-shut'>814: [-47.0635213963541, -7.172624582572517]<input type='checkbox' class='ee-toggle'></label><ul><li><span class='ee-k'>0:</span><span class='ee-v'>-47.0635213963541</span></li><li><span class='ee-k'>1:</span><span class='ee-v'>-7.172624582572517</span></li></ul></li><li><label class='ee-shut'>815: [-47.063916716670185, -7.172613839334786]<input type='checkbox' class='ee-toggle'></label><ul><li><span class='ee-k'>0:</span><span class='ee-v'>-47.063916716670185</span></li><li><span class='ee-k'>1:</span><span class='ee-v'>-7.172613839334786</span></li></ul></li><li><label class='ee-shut'>816: [-47.06498604228351, -7.1726090046052535]<input type='checkbox' class='ee-toggle'></label><ul><li><span class='ee-k'>0:</span><span class='ee-v'>-47.06498604228351</span></li><li><span class='ee-k'>1:</span><span class='ee-v'>-7.1726090046052535</span></li></ul></li><li><label class='ee-shut'>817: [-47.065785767840026, -7.172605412662021]<input type='checkbox' class='ee-toggle'></label><ul><li><span class='ee-k'>0:</span><span class='ee-v'>-47.065785767840026</span></li><li><span class='ee-k'>1:</span><span class='ee-v'>-7.172605412662021</span></li></ul></li><li><label class='ee-shut'>818: [-47.0670894141886, -7.17275661078049]<input type='checkbox' class='ee-toggle'></label><ul><li><span class='ee-k'>0:</span><span class='ee-v'>-47.0670894141886</span></li><li><span class='ee-k'>1:</span><span class='ee-v'>-7.17275661078049</span></li></ul></li><li><label class='ee-shut'>819: [-47.06793447044944, -7.172842578586459]<input type='checkbox' class='ee-toggle'></label><ul><li><span class='ee-k'>0:</span><span class='ee-v'>-47.06793447044944</span></li><li><span class='ee-k'>1:</span><span class='ee-v'>-7.172842578586459</span></li></ul></li><li><label class='ee-shut'>820: [-47.06872525676934, -7.1728524659496475]<input type='checkbox' class='ee-toggle'></label><ul><li><span class='ee-k'>0:</span><span class='ee-v'>-47.06872525676934</span></li><li><span class='ee-k'>1:</span><span class='ee-v'>-7.1728524659496475</span></li></ul></li><li><label class='ee-shut'>821: [-47.06942189256125, -7.172889694854427]<input type='checkbox' class='ee-toggle'></label><ul><li><span class='ee-k'>0:</span><span class='ee-v'>-47.06942189256125</span></li><li><span class='ee-k'>1:</span><span class='ee-v'>-7.172889694854427</span></li></ul></li><li><label class='ee-shut'>822: [-47.07028013181718, -7.172912779282061]<input type='checkbox' class='ee-toggle'></label><ul><li><span class='ee-k'>0:</span><span class='ee-v'>-47.07028013181718</span></li><li><span class='ee-k'>1:</span><span class='ee-v'>-7.172912779282061</span></li></ul></li><li><label class='ee-shut'>823: [-47.07097612046021, -7.172815390580209]<input type='checkbox' class='ee-toggle'></label><ul><li><span class='ee-k'>0:</span><span class='ee-v'>-47.07097612046021</span></li><li><span class='ee-k'>1:</span><span class='ee-v'>-7.172815390580209</span></li></ul></li><li><label class='ee-shut'>824: [-47.07161827716837, -7.172749674821099]<input type='checkbox' class='ee-toggle'></label><ul><li><span class='ee-k'>0:</span><span class='ee-v'>-47.07161827716837</span></li><li><span class='ee-k'>1:</span><span class='ee-v'>-7.172749674821099</span></li></ul></li><li><label class='ee-shut'>825: [-47.072161892490556, -7.172733778185952]<input type='checkbox' class='ee-toggle'></label><ul><li><span class='ee-k'>0:</span><span class='ee-v'>-47.072161892490556</span></li><li><span class='ee-k'>1:</span><span class='ee-v'>-7.172733778185952</span></li></ul></li><li><label class='ee-shut'>826: [-47.07266073147921, -7.1727584299586455]<input type='checkbox' class='ee-toggle'></label><ul><li><span class='ee-k'>0:</span><span class='ee-v'>-47.07266073147921</span></li><li><span class='ee-k'>1:</span><span class='ee-v'>-7.1727584299586455</span></li></ul></li><li><label class='ee-shut'>827: [-47.07311910025972, -7.172792244039318]<input type='checkbox' class='ee-toggle'></label><ul><li><span class='ee-k'>0:</span><span class='ee-v'>-47.07311910025972</span></li><li><span class='ee-k'>1:</span><span class='ee-v'>-7.172792244039318</span></li></ul></li><li><label class='ee-shut'>828: [-47.07359552000114, -7.172817025415163]<input type='checkbox' class='ee-toggle'></label><ul><li><span class='ee-k'>0:</span><span class='ee-v'>-47.07359552000114</span></li><li><span class='ee-k'>1:</span><span class='ee-v'>-7.172817025415163</span></li></ul></li><li><label class='ee-shut'>829: [-47.07401765462901, -7.1727747504209205]<input type='checkbox' class='ee-toggle'></label><ul><li><span class='ee-k'>0:</span><span class='ee-v'>-47.07401765462901</span></li><li><span class='ee-k'>1:</span><span class='ee-v'>-7.1727747504209205</span></li></ul></li><li><label class='ee-shut'>830: [-47.07448918105513, -7.1727232647938735]<input type='checkbox' class='ee-toggle'></label><ul><li><span class='ee-k'>0:</span><span class='ee-v'>-47.07448918105513</span></li><li><span class='ee-k'>1:</span><span class='ee-v'>-7.1727232647938735</span></li></ul></li><li><label class='ee-shut'>831: [-47.074910803189645, -7.172573279189233]<input type='checkbox' class='ee-toggle'></label><ul><li><span class='ee-k'>0:</span><span class='ee-v'>-47.074910803189645</span></li><li><span class='ee-k'>1:</span><span class='ee-v'>-7.172573279189233</span></li></ul></li><li><label class='ee-shut'>832: [-47.07542192350506, -7.172324123135964]<input type='checkbox' class='ee-toggle'></label><ul><li><span class='ee-k'>0:</span><span class='ee-v'>-47.07542192350506</span></li><li><span class='ee-k'>1:</span><span class='ee-v'>-7.172324123135964</span></li></ul></li><li><label class='ee-shut'>833: [-47.07640682117835, -7.1715433793657]<input type='checkbox' class='ee-toggle'></label><ul><li><span class='ee-k'>0:</span><span class='ee-v'>-47.07640682117835</span></li><li><span class='ee-k'>1:</span><span class='ee-v'>-7.1715433793657</span></li></ul></li><li><label class='ee-shut'>834: [-47.077323778655106, -7.1706462641795286]<input type='checkbox' class='ee-toggle'></label><ul><li><span class='ee-k'>0:</span><span class='ee-v'>-47.077323778655106</span></li><li><span class='ee-k'>1:</span><span class='ee-v'>-7.1706462641795286</span></li></ul></li><li><label class='ee-shut'>835: [-47.07785973032161, -7.169930340547482]<input type='checkbox' class='ee-toggle'></label><ul><li><span class='ee-k'>0:</span><span class='ee-v'>-47.07785973032161</span></li><li><span class='ee-k'>1:</span><span class='ee-v'>-7.169930340547482</span></li></ul></li><li><label class='ee-shut'>836: [-47.07825315629286, -7.169511219311275]<input type='checkbox' class='ee-toggle'></label><ul><li><span class='ee-k'>0:</span><span class='ee-v'>-47.07825315629286</span></li><li><span class='ee-k'>1:</span><span class='ee-v'>-7.169511219311275</span></li></ul></li><li><label class='ee-shut'>837: [-47.078489198475545, -7.169047961754224]<input type='checkbox' class='ee-toggle'></label><ul><li><span class='ee-k'>0:</span><span class='ee-v'>-47.078489198475545</span></li><li><span class='ee-k'>1:</span><span class='ee-v'>-7.169047961754224</span></li></ul></li><li><label class='ee-shut'>838: [-47.07871179809727, -7.168589218334378]<input type='checkbox' class='ee-toggle'></label><ul><li><span class='ee-k'>0:</span><span class='ee-v'>-47.07871179809727</span></li><li><span class='ee-k'>1:</span><span class='ee-v'>-7.168589218334378</span></li></ul></li><li><label class='ee-shut'>839: [-47.07909022710824, -7.167833627063164]<input type='checkbox' class='ee-toggle'></label><ul><li><span class='ee-k'>0:</span><span class='ee-v'>-47.07909022710824</span></li><li><span class='ee-k'>1:</span><span class='ee-v'>-7.167833627063164</span></li></ul></li><li><label class='ee-shut'>840: [-47.079374849165724, -7.167190666836593]<input type='checkbox' class='ee-toggle'></label><ul><li><span class='ee-k'>0:</span><span class='ee-v'>-47.079374849165724</span></li><li><span class='ee-k'>1:</span><span class='ee-v'>-7.167190666836593</span></li></ul></li><li><label class='ee-shut'>841: [-47.07959648706466, -7.1665165319835396]<input type='checkbox' class='ee-toggle'></label><ul><li><span class='ee-k'>0:</span><span class='ee-v'>-47.07959648706466</span></li><li><span class='ee-k'>1:</span><span class='ee-v'>-7.1665165319835396</span></li></ul></li><li><label class='ee-shut'>842: [-47.07968769757855, -7.165834082480406]<input type='checkbox' class='ee-toggle'></label><ul><li><span class='ee-k'>0:</span><span class='ee-v'>-47.07968769757855</span></li><li><span class='ee-k'>1:</span><span class='ee-v'>-7.165834082480406</span></li></ul></li><li><label class='ee-shut'>843: [-47.07977385749697, -7.165016967287138]<input type='checkbox' class='ee-toggle'></label><ul><li><span class='ee-k'>0:</span><span class='ee-v'>-47.07977385749697</span></li><li><span class='ee-k'>1:</span><span class='ee-v'>-7.165016967287138</span></li></ul></li><li><label class='ee-shut'>844: [-47.07986469694766, -7.164244719490176]<input type='checkbox' class='ee-toggle'></label><ul><li><span class='ee-k'>0:</span><span class='ee-v'>-47.07986469694766</span></li><li><span class='ee-k'>1:</span><span class='ee-v'>-7.164244719490176</span></li></ul></li><li><label class='ee-shut'>845: [-47.07996474679945, -7.163517353329793]<input type='checkbox' class='ee-toggle'></label><ul><li><span class='ee-k'>0:</span><span class='ee-v'>-47.07996474679945</span></li><li><span class='ee-k'>1:</span><span class='ee-v'>-7.163517353329793</span></li></ul></li><li><label class='ee-shut'>846: [-47.08004303390255, -7.162951564754343]<input type='checkbox' class='ee-toggle'></label><ul><li><span class='ee-k'>0:</span><span class='ee-v'>-47.08004303390255</span></li><li><span class='ee-k'>1:</span><span class='ee-v'>-7.162951564754343</span></li></ul></li><li><label class='ee-shut'>847: [-47.08011664171519, -7.162336444456282]<input type='checkbox' class='ee-toggle'></label><ul><li><span class='ee-k'>0:</span><span class='ee-v'>-47.08011664171519</span></li><li><span class='ee-k'>1:</span><span class='ee-v'>-7.162336444456282</span></li></ul></li><li><label class='ee-shut'>848: [-47.080180816524376, -7.161622712690815]<input type='checkbox' class='ee-toggle'></label><ul><li><span class='ee-k'>0:</span><span class='ee-v'>-47.080180816524376</span></li><li><span class='ee-k'>1:</span><span class='ee-v'>-7.161622712690815</span></li></ul></li><li><label class='ee-shut'>849: [-47.08016581268445, -7.1612817391541155]<input type='checkbox' class='ee-toggle'></label><ul><li><span class='ee-k'>0:</span><span class='ee-v'>-47.08016581268445</span></li><li><span class='ee-k'>1:</span><span class='ee-v'>-7.1612817391541155</span></li></ul></li><li><label class='ee-shut'>850: [-47.08002721306464, -7.159455971195731]<input type='checkbox' class='ee-toggle'></label><ul><li><span class='ee-k'>0:</span><span class='ee-v'>-47.08002721306464</span></li><li><span class='ee-k'>1:</span><span class='ee-v'>-7.159455971195731</span></li></ul></li><li><label class='ee-shut'>851: [-47.080040434234, -7.157418657012998]<input type='checkbox' class='ee-toggle'></label><ul><li><span class='ee-k'>0:</span><span class='ee-v'>-47.080040434234</span></li><li><span class='ee-k'>1:</span><span class='ee-v'>-7.157418657012998</span></li></ul></li><li><label class='ee-shut'>852: [-47.08003285805788, -7.155735914832252]<input type='checkbox' class='ee-toggle'></label><ul><li><span class='ee-k'>0:</span><span class='ee-v'>-47.08003285805788</span></li><li><span class='ee-k'>1:</span><span class='ee-v'>-7.155735914832252</span></li></ul></li><li><label class='ee-shut'>853: [-47.08747535859712, -7.1454083063522935]<input type='checkbox' class='ee-toggle'></label><ul><li><span class='ee-k'>0:</span><span class='ee-v'>-47.08747535859712</span></li><li><span class='ee-k'>1:</span><span class='ee-v'>-7.1454083063522935</span></li></ul></li><li><label class='ee-shut'>854: [-47.08897293323164, -7.139801298145858]<input type='checkbox' class='ee-toggle'></label><ul><li><span class='ee-k'>0:</span><span class='ee-v'>-47.08897293323164</span></li><li><span class='ee-k'>1:</span><span class='ee-v'>-7.139801298145858</span></li></ul></li><li><label class='ee-shut'>855: [-47.089408864290135, -7.134890161597817]<input type='checkbox' class='ee-toggle'></label><ul><li><span class='ee-k'>0:</span><span class='ee-v'>-47.089408864290135</span></li><li><span class='ee-k'>1:</span><span class='ee-v'>-7.134890161597817</span></li></ul></li><li><label class='ee-shut'>856: [-47.08773543822955, -7.132420734580965]<input type='checkbox' class='ee-toggle'></label><ul><li><span class='ee-k'>0:</span><span class='ee-v'>-47.08773543822955</span></li><li><span class='ee-k'>1:</span><span class='ee-v'>-7.132420734580965</span></li></ul></li><li><label class='ee-shut'>857: [-47.08489625151659, -7.131446354237809]<input type='checkbox' class='ee-toggle'></label><ul><li><span class='ee-k'>0:</span><span class='ee-v'>-47.08489625151659</span></li><li><span class='ee-k'>1:</span><span class='ee-v'>-7.131446354237809</span></li></ul></li><li><label class='ee-shut'>858: [-47.07872999530643, -7.131895935258026]<input type='checkbox' class='ee-toggle'></label><ul><li><span class='ee-k'>0:</span><span class='ee-v'>-47.07872999530643</span></li><li><span class='ee-k'>1:</span><span class='ee-v'>-7.131895935258026</span></li></ul></li><li><label class='ee-shut'>859: [-47.07585996704433, -7.133048617924234]<input type='checkbox' class='ee-toggle'></label><ul><li><span class='ee-k'>0:</span><span class='ee-v'>-47.07585996704433</span></li><li><span class='ee-k'>1:</span><span class='ee-v'>-7.133048617924234</span></li></ul></li><li><label class='ee-shut'>860: [-47.074607119043264, -7.134180631289892]<input type='checkbox' class='ee-toggle'></label><ul><li><span class='ee-k'>0:</span><span class='ee-v'>-47.074607119043264</span></li><li><span class='ee-k'>1:</span><span class='ee-v'>-7.134180631289892</span></li></ul></li><li><label class='ee-shut'>861: [-47.07154015150759, -7.1384933275053255]<input type='checkbox' class='ee-toggle'></label><ul><li><span class='ee-k'>0:</span><span class='ee-v'>-47.07154015150759</span></li><li><span class='ee-k'>1:</span><span class='ee-v'>-7.1384933275053255</span></li></ul></li><li><label class='ee-shut'>862: [-47.06811484499037, -7.140070293842171]<input type='checkbox' class='ee-toggle'></label><ul><li><span class='ee-k'>0:</span><span class='ee-v'>-47.06811484499037</span></li><li><span class='ee-k'>1:</span><span class='ee-v'>-7.140070293842171</span></li></ul></li><li><label class='ee-shut'>863: [-47.06333650867729, -7.140482081532885]<input type='checkbox' class='ee-toggle'></label><ul><li><span class='ee-k'>0:</span><span class='ee-v'>-47.06333650867729</span></li><li><span class='ee-k'>1:</span><span class='ee-v'>-7.140482081532885</span></li></ul></li><li><label class='ee-shut'>864: [-47.059908708537854, -7.1354939294977715]<input type='checkbox' class='ee-toggle'></label><ul><li><span class='ee-k'>0:</span><span class='ee-v'>-47.059908708537854</span></li><li><span class='ee-k'>1:</span><span class='ee-v'>-7.1354939294977715</span></li></ul></li><li><label class='ee-shut'>865: [-47.04879492710805, -7.13470874684063]<input type='checkbox' class='ee-toggle'></label><ul><li><span class='ee-k'>0:</span><span class='ee-v'>-47.04879492710805</span></li><li><span class='ee-k'>1:</span><span class='ee-v'>-7.13470874684063</span></li></ul></li><li><label class='ee-shut'>866: [-47.043135960636974, -7.134105568583796]<input type='checkbox' class='ee-toggle'></label><ul><li><span class='ee-k'>0:</span><span class='ee-v'>-47.043135960636974</span></li><li><span class='ee-k'>1:</span><span class='ee-v'>-7.134105568583796</span></li></ul></li><li><label class='ee-shut'>867: [-47.0395797857916, -7.135584203844114]<input type='checkbox' class='ee-toggle'></label><ul><li><span class='ee-k'>0:</span><span class='ee-v'>-47.0395797857916</span></li><li><span class='ee-k'>1:</span><span class='ee-v'>-7.135584203844114</span></li></ul></li><li><label class='ee-shut'>868: [-47.033380415354976, -7.135710296909785]<input type='checkbox' class='ee-toggle'></label><ul><li><span class='ee-k'>0:</span><span class='ee-v'>-47.033380415354976</span></li><li><span class='ee-k'>1:</span><span class='ee-v'>-7.135710296909785</span></li></ul></li><li><label class='ee-shut'>869: [-47.0337022579242, -7.133308036426181]<input type='checkbox' class='ee-toggle'></label><ul><li><span class='ee-k'>0:</span><span class='ee-v'>-47.0337022579242</span></li><li><span class='ee-k'>1:</span><span class='ee-v'>-7.133308036426181</span></li></ul></li><li><label class='ee-shut'>870: [-47.02783475722242, -7.132265843255834]<input type='checkbox' class='ee-toggle'></label><ul><li><span class='ee-k'>0:</span><span class='ee-v'>-47.02783475722242</span></li><li><span class='ee-k'>1:</span><span class='ee-v'>-7.132265843255834</span></li></ul></li><li><label class='ee-shut'>871: [-47.0245718312015, -7.131997436416958]<input type='checkbox' class='ee-toggle'></label><ul><li><span class='ee-k'>0:</span><span class='ee-v'>-47.0245718312015</span></li><li><span class='ee-k'>1:</span><span class='ee-v'>-7.131997436416958</span></li></ul></li><li><label class='ee-shut'>872: [-47.02029716244821, -7.127411935342725]<input type='checkbox' class='ee-toggle'></label><ul><li><span class='ee-k'>0:</span><span class='ee-v'>-47.02029716244821</span></li><li><span class='ee-k'>1:</span><span class='ee-v'>-7.127411935342725</span></li></ul></li><li><label class='ee-shut'>873: [-47.01575282698167, -7.125874582529254]<input type='checkbox' class='ee-toggle'></label><ul><li><span class='ee-k'>0:</span><span class='ee-v'>-47.01575282698167</span></li><li><span class='ee-k'>1:</span><span class='ee-v'>-7.125874582529254</span></li></ul></li><li><label class='ee-shut'>874: [-47.01121297686186, -7.119172008193688]<input type='checkbox' class='ee-toggle'></label><ul><li><span class='ee-k'>0:</span><span class='ee-v'>-47.01121297686186</span></li><li><span class='ee-k'>1:</span><span class='ee-v'>-7.119172008193688</span></li></ul></li><li><label class='ee-shut'>875: [-47.0004238069438, -7.107201022047015]<input type='checkbox' class='ee-toggle'></label><ul><li><span class='ee-k'>0:</span><span class='ee-v'>-47.0004238069438</span></li><li><span class='ee-k'>1:</span><span class='ee-v'>-7.107201022047015</span></li></ul></li><li><label class='ee-shut'>876: [-46.995423052448814, -7.102910006293297]<input type='checkbox' class='ee-toggle'></label><ul><li><span class='ee-k'>0:</span><span class='ee-v'>-46.995423052448814</span></li><li><span class='ee-k'>1:</span><span class='ee-v'>-7.102910006293297</span></li></ul></li><li><label class='ee-shut'>877: [-46.993955585444965, -7.101184116994304]<input type='checkbox' class='ee-toggle'></label><ul><li><span class='ee-k'>0:</span><span class='ee-v'>-46.993955585444965</span></li><li><span class='ee-k'>1:</span><span class='ee-v'>-7.101184116994304</span></li></ul></li><li><label class='ee-shut'>878: [-46.99281404553156, -7.098994589824222]<input type='checkbox' class='ee-toggle'></label><ul><li><span class='ee-k'>0:</span><span class='ee-v'>-46.99281404553156</span></li><li><span class='ee-k'>1:</span><span class='ee-v'>-7.098994589824222</span></li></ul></li><li><label class='ee-shut'>879: [-46.9930869895086, -7.096655382492076]<input type='checkbox' class='ee-toggle'></label><ul><li><span class='ee-k'>0:</span><span class='ee-v'>-46.9930869895086</span></li><li><span class='ee-k'>1:</span><span class='ee-v'>-7.096655382492076</span></li></ul></li><li><label class='ee-shut'>880: [-46.99485237404257, -7.095588701737912]<input type='checkbox' class='ee-toggle'></label><ul><li><span class='ee-k'>0:</span><span class='ee-v'>-46.99485237404257</span></li><li><span class='ee-k'>1:</span><span class='ee-v'>-7.095588701737912</span></li></ul></li><li><label class='ee-shut'>881: [-46.997265417500195, -7.095717461172618]<input type='checkbox' class='ee-toggle'></label><ul><li><span class='ee-k'>0:</span><span class='ee-v'>-46.997265417500195</span></li><li><span class='ee-k'>1:</span><span class='ee-v'>-7.095717461172618</span></li></ul></li><li><label class='ee-shut'>882: [-47.00052562914862, -7.0954206957445525]<input type='checkbox' class='ee-toggle'></label><ul><li><span class='ee-k'>0:</span><span class='ee-v'>-47.00052562914862</span></li><li><span class='ee-k'>1:</span><span class='ee-v'>-7.0954206957445525</span></li></ul></li><li><label class='ee-shut'>883: [-47.003777001638504, -7.094132164909791]<input type='checkbox' class='ee-toggle'></label><ul><li><span class='ee-k'>0:</span><span class='ee-v'>-47.003777001638504</span></li><li><span class='ee-k'>1:</span><span class='ee-v'>-7.094132164909791</span></li></ul></li><li><label class='ee-shut'>884: [-47.010656288748784, -7.094456956015377]<input type='checkbox' class='ee-toggle'></label><ul><li><span class='ee-k'>0:</span><span class='ee-v'>-47.010656288748784</span></li><li><span class='ee-k'>1:</span><span class='ee-v'>-7.094456956015377</span></li></ul></li><li><label class='ee-shut'>885: [-47.0161268572961, -7.092144548129888]<input type='checkbox' class='ee-toggle'></label><ul><li><span class='ee-k'>0:</span><span class='ee-v'>-47.0161268572961</span></li><li><span class='ee-k'>1:</span><span class='ee-v'>-7.092144548129888</span></li></ul></li><li><label class='ee-shut'>886: [-47.02112593759553, -7.089879086498495]<input type='checkbox' class='ee-toggle'></label><ul><li><span class='ee-k'>0:</span><span class='ee-v'>-47.02112593759553</span></li><li><span class='ee-k'>1:</span><span class='ee-v'>-7.089879086498495</span></li></ul></li><li><label class='ee-shut'>887: [-47.024161012351094, -7.08639698772243]<input type='checkbox' class='ee-toggle'></label><ul><li><span class='ee-k'>0:</span><span class='ee-v'>-47.024161012351094</span></li><li><span class='ee-k'>1:</span><span class='ee-v'>-7.08639698772243</span></li></ul></li><li><label class='ee-shut'>888: [-47.02450015839476, -7.082783047746049]<input type='checkbox' class='ee-toggle'></label><ul><li><span class='ee-k'>0:</span><span class='ee-v'>-47.02450015839476</span></li><li><span class='ee-k'>1:</span><span class='ee-v'>-7.082783047746049</span></li></ul></li><li><label class='ee-shut'>889: [-47.02438129750282, -7.076133078355911]<input type='checkbox' class='ee-toggle'></label><ul><li><span class='ee-k'>0:</span><span class='ee-v'>-47.02438129750282</span></li><li><span class='ee-k'>1:</span><span class='ee-v'>-7.076133078355911</span></li></ul></li><li><label class='ee-shut'>890: [-47.0033073156137, -7.05918042057989]<input type='checkbox' class='ee-toggle'></label><ul><li><span class='ee-k'>0:</span><span class='ee-v'>-47.0033073156137</span></li><li><span class='ee-k'>1:</span><span class='ee-v'>-7.05918042057989</span></li></ul></li><li><label class='ee-shut'>891: [-47.004054380231864, -7.052207968575885]<input type='checkbox' class='ee-toggle'></label><ul><li><span class='ee-k'>0:</span><span class='ee-v'>-47.004054380231864</span></li><li><span class='ee-k'>1:</span><span class='ee-v'>-7.052207968575885</span></li></ul></li><li><label class='ee-shut'>892: [-47.00412580175624, -7.052104449534878]<input type='checkbox' class='ee-toggle'></label><ul><li><span class='ee-k'>0:</span><span class='ee-v'>-47.00412580175624</span></li><li><span class='ee-k'>1:</span><span class='ee-v'>-7.052104449534878</span></li></ul></li><li><label class='ee-shut'>893: [-47.00414597483217, -7.051561354113983]<input type='checkbox' class='ee-toggle'></label><ul><li><span class='ee-k'>0:</span><span class='ee-v'>-47.00414597483217</span></li><li><span class='ee-k'>1:</span><span class='ee-v'>-7.051561354113983</span></li></ul></li><li><label class='ee-shut'>894: [-47.00421917646531, -7.050825064499421]<input type='checkbox' class='ee-toggle'></label><ul><li><span class='ee-k'>0:</span><span class='ee-v'>-47.00421917646531</span></li><li><span class='ee-k'>1:</span><span class='ee-v'>-7.050825064499421</span></li></ul></li><li><label class='ee-shut'>895: [-47.004189880966265, -7.050282215413454]<input type='checkbox' class='ee-toggle'></label><ul><li><span class='ee-k'>0:</span><span class='ee-v'>-47.004189880966265</span></li><li><span class='ee-k'>1:</span><span class='ee-v'>-7.050282215413454</span></li></ul></li><li><label class='ee-shut'>896: [-47.004380561592974, -7.049702499757339]<input type='checkbox' class='ee-toggle'></label><ul><li><span class='ee-k'>0:</span><span class='ee-v'>-47.004380561592974</span></li><li><span class='ee-k'>1:</span><span class='ee-v'>-7.049702499757339</span></li></ul></li><li><label class='ee-shut'>897: [-47.0045483997022, -7.049042105257283]<input type='checkbox' class='ee-toggle'></label><ul><li><span class='ee-k'>0:</span><span class='ee-v'>-47.0045483997022</span></li><li><span class='ee-k'>1:</span><span class='ee-v'>-7.049042105257283</span></li></ul></li><li><label class='ee-shut'>898: [-47.00469480423199, -7.047582997900462]<input type='checkbox' class='ee-toggle'></label><ul><li><span class='ee-k'>0:</span><span class='ee-v'>-47.00469480423199</span></li><li><span class='ee-k'>1:</span><span class='ee-v'>-7.047582997900462</span></li></ul></li><li><label class='ee-shut'>899: [-47.00479618998661, -7.047120329237175]<input type='checkbox' class='ee-toggle'></label><ul><li><span class='ee-k'>0:</span><span class='ee-v'>-47.00479618998661</span></li><li><span class='ee-k'>1:</span><span class='ee-v'>-7.047120329237175</span></li></ul></li><li><label class='ee-shut'>900: [-47.004959727785476, -7.046513834052508]<input type='checkbox' class='ee-toggle'></label><ul><li><span class='ee-k'>0:</span><span class='ee-v'>-47.004959727785476</span></li><li><span class='ee-k'>1:</span><span class='ee-v'>-7.046513834052508</span></li></ul></li><li><label class='ee-shut'>901: [-47.00501105132098, -7.045907757043404]<input type='checkbox' class='ee-toggle'></label><ul><li><span class='ee-k'>0:</span><span class='ee-v'>-47.00501105132098</span></li><li><span class='ee-k'>1:</span><span class='ee-v'>-7.045907757043404</span></li></ul></li><li><label class='ee-shut'>902: [-47.00498123619723, -7.045248245428123]<input type='checkbox' class='ee-toggle'></label><ul><li><span class='ee-k'>0:</span><span class='ee-v'>-47.00498123619723</span></li><li><span class='ee-k'>1:</span><span class='ee-v'>-7.045248245428123</span></li></ul></li><li><label class='ee-shut'>903: [-47.00512289527426, -7.044758452276527]<input type='checkbox' class='ee-toggle'></label><ul><li><span class='ee-k'>0:</span><span class='ee-v'>-47.00512289527426</span></li><li><span class='ee-k'>1:</span><span class='ee-v'>-7.044758452276527</span></li></ul></li><li><label class='ee-shut'>904: [-47.00523792866839, -7.0443541038169215]<input type='checkbox' class='ee-toggle'></label><ul><li><span class='ee-k'>0:</span><span class='ee-v'>-47.00523792866839</span></li><li><span class='ee-k'>1:</span><span class='ee-v'>-7.0443541038169215</span></li></ul></li><li><label class='ee-shut'>905: [-47.0052093742555, -7.043968320795959]<input type='checkbox' class='ee-toggle'></label><ul><li><span class='ee-k'>0:</span><span class='ee-v'>-47.0052093742555</span></li><li><span class='ee-k'>1:</span><span class='ee-v'>-7.043968320795959</span></li></ul></li><li><label class='ee-shut'>906: [-47.00506304241192, -7.043376587678983]<input type='checkbox' class='ee-toggle'></label><ul><li><span class='ee-k'>0:</span><span class='ee-v'>-47.00506304241192</span></li><li><span class='ee-k'>1:</span><span class='ee-v'>-7.043376587678983</span></li></ul></li><li><label class='ee-shut'>907: [-47.00507446414229, -7.042900848232634]<input type='checkbox' class='ee-toggle'></label><ul><li><span class='ee-k'>0:</span><span class='ee-v'>-47.00507446414229</span></li><li><span class='ee-k'>1:</span><span class='ee-v'>-7.042900848232634</span></li></ul></li><li><label class='ee-shut'>908: [-47.005305643483005, -7.042329937218525]<input type='checkbox' class='ee-toggle'></label><ul><li><span class='ee-k'>0:</span><span class='ee-v'>-47.005305643483005</span></li><li><span class='ee-k'>1:</span><span class='ee-v'>-7.042329937218525</span></li></ul></li><li><label class='ee-shut'>909: [-47.00568523378399, -7.041812229063839]<input type='checkbox' class='ee-toggle'></label><ul><li><span class='ee-k'>0:</span><span class='ee-v'>-47.00568523378399</span></li><li><span class='ee-k'>1:</span><span class='ee-v'>-7.041812229063839</span></li></ul></li><li><label class='ee-shut'>910: [-47.00580412519344, -7.041268724946525]<input type='checkbox' class='ee-toggle'></label><ul><li><span class='ee-k'>0:</span><span class='ee-v'>-47.00580412519344</span></li><li><span class='ee-k'>1:</span><span class='ee-v'>-7.041268724946525</span></li></ul></li><li><label class='ee-shut'>911: [-47.00600786551616, -7.040599204438791]<input type='checkbox' class='ee-toggle'></label><ul><li><span class='ee-k'>0:</span><span class='ee-v'>-47.00600786551616</span></li><li><span class='ee-k'>1:</span><span class='ee-v'>-7.040599204438791</span></li></ul></li><li><label class='ee-shut'>912: [-47.006108660538835, -7.040006408315229]<input type='checkbox' class='ee-toggle'></label><ul><li><span class='ee-k'>0:</span><span class='ee-v'>-47.006108660538835</span></li><li><span class='ee-k'>1:</span><span class='ee-v'>-7.040006408315229</span></li></ul></li><li><label class='ee-shut'>913: [-47.00619566037681, -7.039346308980769]<input type='checkbox' class='ee-toggle'></label><ul><li><span class='ee-k'>0:</span><span class='ee-v'>-47.00619566037681</span></li><li><span class='ee-k'>1:</span><span class='ee-v'>-7.039346308980769</span></li></ul></li><li><label class='ee-shut'>914: [-47.00643047909649, -7.038591433269686]<input type='checkbox' class='ee-toggle'></label><ul><li><span class='ee-k'>0:</span><span class='ee-v'>-47.00643047909649</span></li><li><span class='ee-k'>1:</span><span class='ee-v'>-7.038591433269686</span></li></ul></li><li><label class='ee-shut'>915: [-47.00651458688636, -7.038303835167758]<input type='checkbox' class='ee-toggle'></label><ul><li><span class='ee-k'>0:</span><span class='ee-v'>-47.00651458688636</span></li><li><span class='ee-k'>1:</span><span class='ee-v'>-7.038303835167758</span></li></ul></li><li><label class='ee-shut'>916: [-47.00662895590308, -7.037733421040011]<input type='checkbox' class='ee-toggle'></label><ul><li><span class='ee-k'>0:</span><span class='ee-v'>-47.00662895590308</span></li><li><span class='ee-k'>1:</span><span class='ee-v'>-7.037733421040011</span></li></ul></li><li><label class='ee-shut'>917: [-47.00684649508611, -7.03714910193607]<input type='checkbox' class='ee-toggle'></label><ul><li><span class='ee-k'>0:</span><span class='ee-v'>-47.00684649508611</span></li><li><span class='ee-k'>1:</span><span class='ee-v'>-7.03714910193607</span></li></ul></li><li><label class='ee-shut'>918: [-47.006816530547425, -7.0364402279952545]<input type='checkbox' class='ee-toggle'></label><ul><li><span class='ee-k'>0:</span><span class='ee-v'>-47.006816530547425</span></li><li><span class='ee-k'>1:</span><span class='ee-v'>-7.0364402279952545</span></li></ul></li><li><label class='ee-shut'>919: [-47.00665929117828, -7.035395287536185]<input type='checkbox' class='ee-toggle'></label><ul><li><span class='ee-k'>0:</span><span class='ee-v'>-47.00665929117828</span></li><li><span class='ee-k'>1:</span><span class='ee-v'>-7.035395287536185</span></li></ul></li><li><label class='ee-shut'>920: [-47.006679242750565, -7.034802814777505]<input type='checkbox' class='ee-toggle'></label><ul><li><span class='ee-k'>0:</span><span class='ee-v'>-47.006679242750565</span></li><li><span class='ee-k'>1:</span><span class='ee-v'>-7.034802814777505</span></li></ul></li><li><label class='ee-shut'>921: [-47.00670497954866, -7.034520004745375]<input type='checkbox' class='ee-toggle'></label><ul><li><span class='ee-k'>0:</span><span class='ee-v'>-47.00670497954866</span></li><li><span class='ee-k'>1:</span><span class='ee-v'>-7.034520004745375</span></li></ul></li><li><label class='ee-shut'>922: [-47.00685665633218, -7.034272540507175]<input type='checkbox' class='ee-toggle'></label><ul><li><span class='ee-k'>0:</span><span class='ee-v'>-47.00685665633218</span></li><li><span class='ee-k'>1:</span><span class='ee-v'>-7.034272540507175</span></li></ul></li><li><label class='ee-shut'>923: [-47.00689233196407, -7.034222985962794]<input type='checkbox' class='ee-toggle'></label><ul><li><span class='ee-k'>0:</span><span class='ee-v'>-47.00689233196407</span></li><li><span class='ee-k'>1:</span><span class='ee-v'>-7.034222985962794</span></li></ul></li><li><label class='ee-shut'>924: [-47.00689233196407, -7.0342185195474]<input type='checkbox' class='ee-toggle'></label><ul><li><span class='ee-k'>0:</span><span class='ee-v'>-47.00689233196407</span></li><li><span class='ee-k'>1:</span><span class='ee-v'>-7.0342185195474</span></li></ul></li><li><label class='ee-shut'>925: [-47.00982256604271, -7.032505180836776]<input type='checkbox' class='ee-toggle'></label><ul><li><span class='ee-k'>0:</span><span class='ee-v'>-47.00982256604271</span></li><li><span class='ee-k'>1:</span><span class='ee-v'>-7.032505180836776</span></li></ul></li><li><label class='ee-shut'>926: [-47.012295587637695, -7.0310046607032595]<input type='checkbox' class='ee-toggle'></label><ul><li><span class='ee-k'>0:</span><span class='ee-v'>-47.012295587637695</span></li><li><span class='ee-k'>1:</span><span class='ee-v'>-7.0310046607032595</span></li></ul></li><li><label class='ee-shut'>927: [-47.01631587643771, -7.02688125374261]<input type='checkbox' class='ee-toggle'></label><ul><li><span class='ee-k'>0:</span><span class='ee-v'>-47.01631587643771</span></li><li><span class='ee-k'>1:</span><span class='ee-v'>-7.02688125374261</span></li></ul></li><li><label class='ee-shut'>928: [-47.022195923992555, -7.0259360055286875]<input type='checkbox' class='ee-toggle'></label><ul><li><span class='ee-k'>0:</span><span class='ee-v'>-47.022195923992555</span></li><li><span class='ee-k'>1:</span><span class='ee-v'>-7.0259360055286875</span></li></ul></li><li><label class='ee-shut'>929: [-47.02558683581546, -7.02379869761122]<input type='checkbox' class='ee-toggle'></label><ul><li><span class='ee-k'>0:</span><span class='ee-v'>-47.02558683581546</span></li><li><span class='ee-k'>1:</span><span class='ee-v'>-7.02379869761122</span></li></ul></li><li><label class='ee-shut'>930: [-47.026703215858475, -7.021249444956829]<input type='checkbox' class='ee-toggle'></label><ul><li><span class='ee-k'>0:</span><span class='ee-v'>-47.026703215858475</span></li><li><span class='ee-k'>1:</span><span class='ee-v'>-7.021249444956829</span></li></ul></li><li><label class='ee-shut'>931: [-47.031002613136735, -7.014212391836092]<input type='checkbox' class='ee-toggle'></label><ul><li><span class='ee-k'>0:</span><span class='ee-v'>-47.031002613136735</span></li><li><span class='ee-k'>1:</span><span class='ee-v'>-7.014212391836092</span></li></ul></li><li><label class='ee-shut'>932: [-47.033498851996704, -7.01293606971105]<input type='checkbox' class='ee-toggle'></label><ul><li><span class='ee-k'>0:</span><span class='ee-v'>-47.033498851996704</span></li><li><span class='ee-k'>1:</span><span class='ee-v'>-7.01293606971105</span></li></ul></li><li><label class='ee-shut'>933: [-47.04159608880822, -7.013735622187219]<input type='checkbox' class='ee-toggle'></label><ul><li><span class='ee-k'>0:</span><span class='ee-v'>-47.04159608880822</span></li><li><span class='ee-k'>1:</span><span class='ee-v'>-7.013735622187219</span></li></ul></li><li><label class='ee-shut'>934: [-47.0417830500875, -7.013357863918104]<input type='checkbox' class='ee-toggle'></label><ul><li><span class='ee-k'>0:</span><span class='ee-v'>-47.0417830500875</span></li><li><span class='ee-k'>1:</span><span class='ee-v'>-7.013357863918104</span></li></ul></li><li><label class='ee-shut'>935: [-47.04205536609546, -7.012979734744397]<input type='checkbox' class='ee-toggle'></label><ul><li><span class='ee-k'>0:</span><span class='ee-v'>-47.04205536609546</span></li><li><span class='ee-k'>1:</span><span class='ee-v'>-7.012979734744397</span></li></ul></li><li><label class='ee-shut'>936: [-47.042345496689045, -7.01255668404129]<input type='checkbox' class='ee-toggle'></label><ul><li><span class='ee-k'>0:</span><span class='ee-v'>-47.042345496689045</span></li><li><span class='ee-k'>1:</span><span class='ee-v'>-7.01255668404129</span></li></ul></li><li><label class='ee-shut'>937: [-47.04270331927321, -7.012218523966661]<input type='checkbox' class='ee-toggle'></label><ul><li><span class='ee-k'>0:</span><span class='ee-v'>-47.04270331927321</span></li><li><span class='ee-k'>1:</span><span class='ee-v'>-7.012218523966661</span></li></ul></li><li><label class='ee-shut'>938: [-47.04320521031608, -7.011947132314487]<input type='checkbox' class='ee-toggle'></label><ul><li><span class='ee-k'>0:</span><span class='ee-v'>-47.04320521031608</span></li><li><span class='ee-k'>1:</span><span class='ee-v'>-7.011947132314487</span></li></ul></li><li><label class='ee-shut'>939: [-47.04377012198382, -7.011711281956611]<input type='checkbox' class='ee-toggle'></label><ul><li><span class='ee-k'>0:</span><span class='ee-v'>-47.04377012198382</span></li><li><span class='ee-k'>1:</span><span class='ee-v'>-7.011711281956611</span></li></ul></li><li><label class='ee-shut'>940: [-47.044438063327824, -7.0114167152087745]<input type='checkbox' class='ee-toggle'></label><ul><li><span class='ee-k'>0:</span><span class='ee-v'>-47.044438063327824</span></li><li><span class='ee-k'>1:</span><span class='ee-v'>-7.0114167152087745</span></li></ul></li><li><label class='ee-shut'>941: [-47.04494850734503, -7.011064429073302]<input type='checkbox' class='ee-toggle'></label><ul><li><span class='ee-k'>0:</span><span class='ee-v'>-47.04494850734503</span></li><li><span class='ee-k'>1:</span><span class='ee-v'>-7.011064429073302</span></li></ul></li><li><label class='ee-shut'>942: [-47.04529781224541, -7.010825070458945]<input type='checkbox' class='ee-toggle'></label><ul><li><span class='ee-k'>0:</span><span class='ee-v'>-47.04529781224541</span></li><li><span class='ee-k'>1:</span><span class='ee-v'>-7.010825070458945</span></li></ul></li><li><label class='ee-shut'>943: [-47.049715025941126, -7.013363708762998]<input type='checkbox' class='ee-toggle'></label><ul><li><span class='ee-k'>0:</span><span class='ee-v'>-47.049715025941126</span></li><li><span class='ee-k'>1:</span><span class='ee-v'>-7.013363708762998</span></li></ul></li><li><label class='ee-shut'>944: [-47.04983973605609, -7.0131118247108475]<input type='checkbox' class='ee-toggle'></label><ul><li><span class='ee-k'>0:</span><span class='ee-v'>-47.04983973605609</span></li><li><span class='ee-k'>1:</span><span class='ee-v'>-7.0131118247108475</span></li></ul></li><li><label class='ee-shut'>945: [-47.05002695026557, -7.012796901801746]<input type='checkbox' class='ee-toggle'></label><ul><li><span class='ee-k'>0:</span><span class='ee-v'>-47.05002695026557</span></li><li><span class='ee-k'>1:</span><span class='ee-v'>-7.012796901801746</span></li></ul></li><li><label class='ee-shut'>946: [-47.05031742315721, -7.012459084809584]<input type='checkbox' class='ee-toggle'></label><ul><li><span class='ee-k'>0:</span><span class='ee-v'>-47.05031742315721</span></li><li><span class='ee-k'>1:</span><span class='ee-v'>-7.012459084809584</span></li></ul></li><li><label class='ee-shut'>947: [-47.050738177522334, -7.012120672480909]<input type='checkbox' class='ee-toggle'></label><ul><li><span class='ee-k'>0:</span><span class='ee-v'>-47.050738177522334</span></li><li><span class='ee-k'>1:</span><span class='ee-v'>-7.012120672480909</span></li></ul></li><li><label class='ee-shut'>948: [-47.05109182766606, -7.011849875184403]<input type='checkbox' class='ee-toggle'></label><ul><li><span class='ee-k'>0:</span><span class='ee-v'>-47.05109182766606</span></li><li><span class='ee-k'>1:</span><span class='ee-v'>-7.011849875184403</span></li></ul></li><li><label class='ee-shut'>949: [-47.051616294453645, -7.011614258347684]<input type='checkbox' class='ee-toggle'></label><ul><li><span class='ee-k'>0:</span><span class='ee-v'>-47.051616294453645</span></li><li><span class='ee-k'>1:</span><span class='ee-v'>-7.011614258347684</span></li></ul></li><li><label class='ee-shut'>950: [-47.052141137813, -7.011468337429272]<input type='checkbox' class='ee-toggle'></label><ul><li><span class='ee-k'>0:</span><span class='ee-v'>-47.052141137813</span></li><li><span class='ee-k'>1:</span><span class='ee-v'>-7.011468337429272</span></li></ul></li><li><label class='ee-shut'>951: [-47.05253547912113, -7.0112557269455955]<input type='checkbox' class='ee-toggle'></label><ul><li><span class='ee-k'>0:</span><span class='ee-v'>-47.05253547912113</span></li><li><span class='ee-k'>1:</span><span class='ee-v'>-7.0112557269455955</span></li></ul></li><li><label class='ee-shut'>952: [-47.052933832265644, -7.010939878642884]<input type='checkbox' class='ee-toggle'></label><ul><li><span class='ee-k'>0:</span><span class='ee-v'>-47.052933832265644</span></li><li><span class='ee-k'>1:</span><span class='ee-v'>-7.010939878642884</span></li></ul></li><li><label class='ee-shut'>953: [-47.05326901254536, -7.01056147488885]<input type='checkbox' class='ee-toggle'></label><ul><li><span class='ee-k'>0:</span><span class='ee-v'>-47.05326901254536</span></li><li><span class='ee-k'>1:</span><span class='ee-v'>-7.01056147488885</span></li></ul></li><li><label class='ee-shut'>954: [-47.0535185246998, -7.010098162491026]<input type='checkbox' class='ee-toggle'></label><ul><li><span class='ee-k'>0:</span><span class='ee-v'>-47.0535185246998</span></li><li><span class='ee-k'>1:</span><span class='ee-v'>-7.010098162491026</span></li></ul></li><li><label class='ee-shut'>955: [-47.053741683584526, -7.009774071269268]<input type='checkbox' class='ee-toggle'></label><ul><li><span class='ee-k'>0:</span><span class='ee-v'>-47.053741683584526</span></li><li><span class='ee-k'>1:</span><span class='ee-v'>-7.009774071269268</span></li></ul></li><li><label class='ee-shut'>956: [-47.05400953492571, -7.009404936783213]<input type='checkbox' class='ee-toggle'></label><ul><li><span class='ee-k'>0:</span><span class='ee-v'>-47.05400953492571</span></li><li><span class='ee-k'>1:</span><span class='ee-v'>-7.009404936783213</span></li></ul></li><li><label class='ee-shut'>957: [-47.054165806937156, -7.009193349303571]<input type='checkbox' class='ee-toggle'></label><ul><li><span class='ee-k'>0:</span><span class='ee-v'>-47.054165806937156</span></li><li><span class='ee-k'>1:</span><span class='ee-v'>-7.009193349303571</span></li></ul></li><li><label class='ee-shut'>958: [-47.05460366807329, -7.0086663951264425]<input type='checkbox' class='ee-toggle'></label><ul><li><span class='ee-k'>0:</span><span class='ee-v'>-47.05460366807329</span></li><li><span class='ee-k'>1:</span><span class='ee-v'>-7.0086663951264425</span></li></ul></li><li><label class='ee-shut'>959: [-47.05508199371525, -7.008161679215788]<input type='checkbox' class='ee-toggle'></label><ul><li><span class='ee-k'>0:</span><span class='ee-v'>-47.05508199371525</span></li><li><span class='ee-k'>1:</span><span class='ee-v'>-7.008161679215788</span></li></ul></li><li><label class='ee-shut'>960: [-47.055542506094866, -7.007679553009438]<input type='checkbox' class='ee-toggle'></label><ul><li><span class='ee-k'>0:</span><span class='ee-v'>-47.055542506094866</span></li><li><span class='ee-k'>1:</span><span class='ee-v'>-7.007679553009438</span></li></ul></li><li><label class='ee-shut'>961: [-47.05594021455372, -7.007215575875942]<input type='checkbox' class='ee-toggle'></label><ul><li><span class='ee-k'>0:</span><span class='ee-v'>-47.05594021455372</span></li><li><span class='ee-k'>1:</span><span class='ee-v'>-7.007215575875942</span></li></ul></li><li><label class='ee-shut'>962: [-47.05629256441794, -7.006648653288979]<input type='checkbox' class='ee-toggle'></label><ul><li><span class='ee-k'>0:</span><span class='ee-v'>-47.05629256441794</span></li><li><span class='ee-k'>1:</span><span class='ee-v'>-7.006648653288979</span></li></ul></li><li><label class='ee-shut'>963: [-47.056793549831, -7.00618423052905]<input type='checkbox' class='ee-toggle'></label><ul><li><span class='ee-k'>0:</span><span class='ee-v'>-47.056793549831</span></li><li><span class='ee-k'>1:</span><span class='ee-v'>-7.00618423052905</span></li></ul></li><li><label class='ee-shut'>964: [-47.0571287554739, -7.005805816973797]<input type='checkbox' class='ee-toggle'></label><ul><li><span class='ee-k'>0:</span><span class='ee-v'>-47.0571287554739</span></li><li><span class='ee-k'>1:</span><span class='ee-v'>-7.005805816973797</span></li></ul></li><li><label class='ee-shut'>965: [-47.05761319276975, -7.005660074339094]<input type='checkbox' class='ee-toggle'></label><ul><li><span class='ee-k'>0:</span><span class='ee-v'>-47.05761319276975</span></li><li><span class='ee-k'>1:</span><span class='ee-v'>-7.005660074339094</span></li></ul></li><li><label class='ee-shut'>966: [-47.057841937864175, -7.0055917868262]<input type='checkbox' class='ee-toggle'></label><ul><li><span class='ee-k'>0:</span><span class='ee-v'>-47.057841937864175</span></li><li><span class='ee-k'>1:</span><span class='ee-v'>-7.0055917868262</span></li></ul></li><li><label class='ee-shut'>967: [-47.06170135855232, -7.001805398894933]<input type='checkbox' class='ee-toggle'></label><ul><li><span class='ee-k'>0:</span><span class='ee-v'>-47.06170135855232</span></li><li><span class='ee-k'>1:</span><span class='ee-v'>-7.001805398894933</span></li></ul></li><li><label class='ee-shut'>968: [-47.06218056749696, -7.001493695045224]<input type='checkbox' class='ee-toggle'></label><ul><li><span class='ee-k'>0:</span><span class='ee-v'>-47.06218056749696</span></li><li><span class='ee-k'>1:</span><span class='ee-v'>-7.001493695045224</span></li></ul></li><li><label class='ee-shut'>969: [-47.06251217024714, -7.001321711753518]<input type='checkbox' class='ee-toggle'></label><ul><li><span class='ee-k'>0:</span><span class='ee-v'>-47.06251217024714</span></li><li><span class='ee-k'>1:</span><span class='ee-v'>-7.001321711753518</span></li></ul></li><li><label class='ee-shut'>970: [-47.06287102535996, -7.001221433474224]<input type='checkbox' class='ee-toggle'></label><ul><li><span class='ee-k'>0:</span><span class='ee-v'>-47.06287102535996</span></li><li><span class='ee-k'>1:</span><span class='ee-v'>-7.001221433474224</span></li></ul></li><li><label class='ee-shut'>971: [-47.06323909021904, -7.001156981826786]<input type='checkbox' class='ee-toggle'></label><ul><li><span class='ee-k'>0:</span><span class='ee-v'>-47.06323909021904</span></li><li><span class='ee-k'>1:</span><span class='ee-v'>-7.001156981826786</span></li></ul></li><li><label class='ee-shut'>972: [-47.06351263459366, -7.0010705017875186]<input type='checkbox' class='ee-toggle'></label><ul><li><span class='ee-k'>0:</span><span class='ee-v'>-47.06351263459366</span></li><li><span class='ee-k'>1:</span><span class='ee-v'>-7.0010705017875186</span></li></ul></li><li><label class='ee-shut'>973: [-47.063902757147815, -7.000920702262457]<input type='checkbox' class='ee-toggle'></label><ul><li><span class='ee-k'>0:</span><span class='ee-v'>-47.063902757147815</span></li><li><span class='ee-k'>1:</span><span class='ee-v'>-7.000920702262457</span></li></ul></li><li><label class='ee-shut'>974: [-47.06535560749442, -7.000398268713406]<input type='checkbox' class='ee-toggle'></label><ul><li><span class='ee-k'>0:</span><span class='ee-v'>-47.06535560749442</span></li><li><span class='ee-k'>1:</span><span class='ee-v'>-7.000398268713406</span></li></ul></li><li><label class='ee-shut'>975: [-47.06536006278755, -7.000393736956781]<input type='checkbox' class='ee-toggle'></label><ul><li><span class='ee-k'>0:</span><span class='ee-v'>-47.06536006278755</span></li><li><span class='ee-k'>1:</span><span class='ee-v'>-7.000393736956781</span></li></ul></li><li><label class='ee-shut'>976: [-47.06580299512081, -6.999992424030735]<input type='checkbox' class='ee-toggle'></label><ul><li><span class='ee-k'>0:</span><span class='ee-v'>-47.06580299512081</span></li><li><span class='ee-k'>1:</span><span class='ee-v'>-6.999992424030735</span></li></ul></li><li><label class='ee-shut'>977: [-47.06656931797583, -6.9996166152652215]<input type='checkbox' class='ee-toggle'></label><ul><li><span class='ee-k'>0:</span><span class='ee-v'>-47.06656931797583</span></li><li><span class='ee-k'>1:</span><span class='ee-v'>-6.9996166152652215</span></li></ul></li><li><label class='ee-shut'>978: [-47.0678063002079, -6.999027813740793]<input type='checkbox' class='ee-toggle'></label><ul><li><span class='ee-k'>0:</span><span class='ee-v'>-47.0678063002079</span></li><li><span class='ee-k'>1:</span><span class='ee-v'>-6.999027813740793</span></li></ul></li><li><label class='ee-shut'>979: [-47.0687334996061, -6.998453843058925]<input type='checkbox' class='ee-toggle'></label><ul><li><span class='ee-k'>0:</span><span class='ee-v'>-47.0687334996061</span></li><li><span class='ee-k'>1:</span><span class='ee-v'>-6.998453843058925</span></li></ul></li><li><label class='ee-shut'>980: [-47.06928079724019, -6.9983033264470125]<input type='checkbox' class='ee-toggle'></label><ul><li><span class='ee-k'>0:</span><span class='ee-v'>-47.06928079724019</span></li><li><span class='ee-k'>1:</span><span class='ee-v'>-6.9983033264470125</span></li></ul></li><li><label class='ee-shut'>981: [-47.069887435626214, -6.998385916553765]<input type='checkbox' class='ee-toggle'></label><ul><li><span class='ee-k'>0:</span><span class='ee-v'>-47.069887435626214</span></li><li><span class='ee-k'>1:</span><span class='ee-v'>-6.998385916553765</span></li></ul></li><li><label class='ee-shut'>982: [-47.070418482197084, -6.998630381043892]<input type='checkbox' class='ee-toggle'></label><ul><li><span class='ee-k'>0:</span><span class='ee-v'>-47.070418482197084</span></li><li><span class='ee-k'>1:</span><span class='ee-v'>-6.998630381043892</span></li></ul></li><li><label class='ee-shut'>983: [-47.070621144273176, -6.998741704658715]<input type='checkbox' class='ee-toggle'></label><ul><li><span class='ee-k'>0:</span><span class='ee-v'>-47.070621144273176</span></li><li><span class='ee-k'>1:</span><span class='ee-v'>-6.998741704658715</span></li></ul></li><li><label class='ee-shut'>984: [-47.070652631600886, -6.998759529187347]<input type='checkbox' class='ee-toggle'></label><ul><li><span class='ee-k'>0:</span><span class='ee-v'>-47.070652631600886</span></li><li><span class='ee-k'>1:</span><span class='ee-v'>-6.998759529187347</span></li></ul></li><li><label class='ee-shut'>985: [-47.0704756641598, -7.0003937376637255]<input type='checkbox' class='ee-toggle'></label><ul><li><span class='ee-k'>0:</span><span class='ee-v'>-47.0704756641598</span></li><li><span class='ee-k'>1:</span><span class='ee-v'>-7.0003937376637255</span></li></ul></li><li><label class='ee-shut'>986: [-47.070475738422125, -7.00039821328013]<input type='checkbox' class='ee-toggle'></label><ul><li><span class='ee-k'>0:</span><span class='ee-v'>-47.070475738422125</span></li><li><span class='ee-k'>1:</span><span class='ee-v'>-7.00039821328013</span></li></ul></li><li><label class='ee-shut'>987: [-47.07017913553399, -7.001386713171817]<input type='checkbox' class='ee-toggle'></label><ul><li><span class='ee-k'>0:</span><span class='ee-v'>-47.07017913553399</span></li><li><span class='ee-k'>1:</span><span class='ee-v'>-7.001386713171817</span></li></ul></li><li><label class='ee-shut'>988: [-47.070226588909804, -7.001956450957055]<input type='checkbox' class='ee-toggle'></label><ul><li><span class='ee-k'>0:</span><span class='ee-v'>-47.070226588909804</span></li><li><span class='ee-k'>1:</span><span class='ee-v'>-7.001956450957055</span></li></ul></li><li><label class='ee-shut'>989: [-47.07045925218732, -7.002772115097532]<input type='checkbox' class='ee-toggle'></label><ul><li><span class='ee-k'>0:</span><span class='ee-v'>-47.07045925218732</span></li><li><span class='ee-k'>1:</span><span class='ee-v'>-7.002772115097532</span></li></ul></li><li><label class='ee-shut'>990: [-47.07067312807936, -7.003399429634315]<input type='checkbox' class='ee-toggle'></label><ul><li><span class='ee-k'>0:</span><span class='ee-v'>-47.07067312807936</span></li><li><span class='ee-k'>1:</span><span class='ee-v'>-7.003399429634315</span></li></ul></li><li><label class='ee-shut'>991: [-47.07128171386185, -7.003921747068096]<input type='checkbox' class='ee-toggle'></label><ul><li><span class='ee-k'>0:</span><span class='ee-v'>-47.07128171386185</span></li><li><span class='ee-k'>1:</span><span class='ee-v'>-7.003921747068096</span></li></ul></li><li><label class='ee-shut'>992: [-47.071809358779696, -7.004399599770113]<input type='checkbox' class='ee-toggle'></label><ul><li><span class='ee-k'>0:</span><span class='ee-v'>-47.071809358779696</span></li><li><span class='ee-k'>1:</span><span class='ee-v'>-7.004399599770113</span></li></ul></li><li><label class='ee-shut'>993: [-47.07233604370522, -7.004671019184566]<input type='checkbox' class='ee-toggle'></label><ul><li><span class='ee-k'>0:</span><span class='ee-v'>-47.07233604370522</span></li><li><span class='ee-k'>1:</span><span class='ee-v'>-7.004671019184566</span></li></ul></li><li><label class='ee-shut'>994: [-47.07309125045133, -7.004833696271127]<input type='checkbox' class='ee-toggle'></label><ul><li><span class='ee-k'>0:</span><span class='ee-v'>-47.07309125045133</span></li><li><span class='ee-k'>1:</span><span class='ee-v'>-7.004833696271127</span></li></ul></li><li><label class='ee-shut'>995: [-47.07428657789277, -7.0049765153180035]<input type='checkbox' class='ee-toggle'></label><ul><li><span class='ee-k'>0:</span><span class='ee-v'>-47.07428657789277</span></li><li><span class='ee-k'>1:</span><span class='ee-v'>-7.0049765153180035</span></li></ul></li><li><label class='ee-shut'>996: [-47.07522986287371, -7.004994800808109]<input type='checkbox' class='ee-toggle'></label><ul><li><span class='ee-k'>0:</span><span class='ee-v'>-47.07522986287371</span></li><li><span class='ee-k'>1:</span><span class='ee-v'>-7.004994800808109</span></li></ul></li><li><label class='ee-shut'>997: [-47.07613239072679, -7.004945941500651]<input type='checkbox' class='ee-toggle'></label><ul><li><span class='ee-k'>0:</span><span class='ee-v'>-47.07613239072679</span></li><li><span class='ee-k'>1:</span><span class='ee-v'>-7.004945941500651</span></li></ul></li><li><label class='ee-shut'>998: [-47.07682385430901, -7.004902453426994]<input type='checkbox' class='ee-toggle'></label><ul><li><span class='ee-k'>0:</span><span class='ee-v'>-47.07682385430901</span></li><li><span class='ee-k'>1:</span><span class='ee-v'>-7.004902453426994</span></li></ul></li><li><label class='ee-shut'>999: [-47.07730936983261, -7.005003551609769]<input type='checkbox' class='ee-toggle'></label><ul><li><span class='ee-k'>0:</span><span class='ee-v'>-47.07730936983261</span></li><li><span class='ee-k'>1:</span><span class='ee-v'>-7.005003551609769</span></li></ul></li><li><label class='ee-shut'>1000: [-47.07787659031146, -7.005297229954999]<input type='checkbox' class='ee-toggle'></label><ul><li><span class='ee-k'>0:</span><span class='ee-v'>-47.07787659031146</span></li><li><span class='ee-k'>1:</span><span class='ee-v'>-7.005297229954999</span></li></ul></li><li><label class='ee-shut'>1001: [-47.07861071086151, -7.005751677907731]<input type='checkbox' class='ee-toggle'></label><ul><li><span class='ee-k'>0:</span><span class='ee-v'>-47.07861071086151</span></li><li><span class='ee-k'>1:</span><span class='ee-v'>-7.005751677907731</span></li></ul></li><li><label class='ee-shut'>1002: [-47.079412432468274, -7.006273156502089]<input type='checkbox' class='ee-toggle'></label><ul><li><span class='ee-k'>0:</span><span class='ee-v'>-47.079412432468274</span></li><li><span class='ee-k'>1:</span><span class='ee-v'>-7.006273156502089</span></li></ul></li><li><label class='ee-shut'>1003: [-47.07938784734036, -7.005793098869369]<input type='checkbox' class='ee-toggle'></label><ul><li><span class='ee-k'>0:</span><span class='ee-v'>-47.07938784734036</span></li><li><span class='ee-k'>1:</span><span class='ee-v'>-7.005793098869369</span></li></ul></li><li><label class='ee-shut'>1004: [-47.07938539625574, -7.005227746438769]<input type='checkbox' class='ee-toggle'></label><ul><li><span class='ee-k'>0:</span><span class='ee-v'>-47.07938539625574</span></li><li><span class='ee-k'>1:</span><span class='ee-v'>-7.005227746438769</span></li></ul></li><li><label class='ee-shut'>1005: [-47.07938487632872, -7.005115541844379]<input type='checkbox' class='ee-toggle'></label><ul><li><span class='ee-k'>0:</span><span class='ee-v'>-47.07938487632872</span></li><li><span class='ee-k'>1:</span><span class='ee-v'>-7.005115541844379</span></li></ul></li><li><label class='ee-shut'>1006: [-47.07938264807011, -7.00461743347805]<input type='checkbox' class='ee-toggle'></label><ul><li><span class='ee-k'>0:</span><span class='ee-v'>-47.07938264807011</span></li><li><span class='ee-k'>1:</span><span class='ee-v'>-7.00461743347805</span></li></ul></li><li><label class='ee-shut'>1007: [-47.07948834191071, -7.004136825848948]<input type='checkbox' class='ee-toggle'></label><ul><li><span class='ee-k'>0:</span><span class='ee-v'>-47.07948834191071</span></li><li><span class='ee-k'>1:</span><span class='ee-v'>-7.004136825848948</span></li></ul></li><li><label class='ee-shut'>1008: [-47.07961223349353, -7.003714466791369]<input type='checkbox' class='ee-toggle'></label><ul><li><span class='ee-k'>0:</span><span class='ee-v'>-47.07961223349353</span></li><li><span class='ee-k'>1:</span><span class='ee-v'>-7.003714466791369</span></li></ul></li><li><label class='ee-shut'>1009: [-47.07977660570365, -7.003318816887872]<input type='checkbox' class='ee-toggle'></label><ul><li><span class='ee-k'>0:</span><span class='ee-v'>-47.07977660570365</span></li><li><span class='ee-k'>1:</span><span class='ee-v'>-7.003318816887872</span></li></ul></li><li><label class='ee-shut'>1010: [-47.079922335145696, -7.002748326841532]<input type='checkbox' class='ee-toggle'></label><ul><li><span class='ee-k'>0:</span><span class='ee-v'>-47.079922335145696</span></li><li><span class='ee-k'>1:</span><span class='ee-v'>-7.002748326841532</span></li></ul></li><li><label class='ee-shut'>1011: [-47.07998361294045, -7.002398031709471]<input type='checkbox' class='ee-toggle'></label><ul><li><span class='ee-k'>0:</span><span class='ee-v'>-47.07998361294045</span></li><li><span class='ee-k'>1:</span><span class='ee-v'>-7.002398031709471</span></li></ul></li><li><label class='ee-shut'>1012: [-47.08002312787254, -7.00218241297937]<input type='checkbox' class='ee-toggle'></label><ul><li><span class='ee-k'>0:</span><span class='ee-v'>-47.08002312787254</span></li><li><span class='ee-k'>1:</span><span class='ee-v'>-7.00218241297937</span></li></ul></li><li><label class='ee-shut'>1013: [-47.07999794824123, -7.001576781952949]<input type='checkbox' class='ee-toggle'></label><ul><li><span class='ee-k'>0:</span><span class='ee-v'>-47.07999794824123</span></li><li><span class='ee-k'>1:</span><span class='ee-v'>-7.001576781952949</span></li></ul></li><li><label class='ee-shut'>1014: [-47.079955090903205, -7.001029454906992]<input type='checkbox' class='ee-toggle'></label><ul><li><span class='ee-k'>0:</span><span class='ee-v'>-47.079955090903205</span></li><li><span class='ee-k'>1:</span><span class='ee-v'>-7.001029454906992</span></li></ul></li><li><label class='ee-shut'>1015: [-47.08023526118845, -7.00039997931269]<input type='checkbox' class='ee-toggle'></label><ul><li><span class='ee-k'>0:</span><span class='ee-v'>-47.08023526118845</span></li><li><span class='ee-k'>1:</span><span class='ee-v'>-7.00039997931269</span></li></ul></li><li><label class='ee-shut'>1016: [-47.080239792056695, -7.000395517711261]<input type='checkbox' class='ee-toggle'></label><ul><li><span class='ee-k'>0:</span><span class='ee-v'>-47.080239792056695</span></li><li><span class='ee-k'>1:</span><span class='ee-v'>-7.000395517711261</span></li></ul></li><li><label class='ee-shut'>1017: [-47.080306715255816, -7.000296509567313]<input type='checkbox' class='ee-toggle'></label><ul><li><span class='ee-k'>0:</span><span class='ee-v'>-47.080306715255816</span></li><li><span class='ee-k'>1:</span><span class='ee-v'>-7.000296509567313</span></li></ul></li><li><label class='ee-shut'>1018: [-47.080587853071265, -6.9998868866707245]<input type='checkbox' class='ee-toggle'></label><ul><li><span class='ee-k'>0:</span><span class='ee-v'>-47.080587853071265</span></li><li><span class='ee-k'>1:</span><span class='ee-v'>-6.9998868866707245</span></li></ul></li><li><label class='ee-shut'>1019: [-47.08073908134467, -6.999563146566786]<input type='checkbox' class='ee-toggle'></label><ul><li><span class='ee-k'>0:</span><span class='ee-v'>-47.08073908134467</span></li><li><span class='ee-k'>1:</span><span class='ee-v'>-6.999563146566786</span></li></ul></li><li><label class='ee-shut'>1020: [-47.080851760069315, -6.998642684689971]<input type='checkbox' class='ee-toggle'></label><ul><li><span class='ee-k'>0:</span><span class='ee-v'>-47.080851760069315</span></li><li><span class='ee-k'>1:</span><span class='ee-v'>-6.998642684689971</span></li></ul></li><li><label class='ee-shut'>1021: [-47.093284787719114, -6.989850675814586]<input type='checkbox' class='ee-toggle'></label><ul><li><span class='ee-k'>0:</span><span class='ee-v'>-47.093284787719114</span></li><li><span class='ee-k'>1:</span><span class='ee-v'>-6.989850675814586</span></li></ul></li><li><label class='ee-shut'>1022: [-47.1124586266016, -6.98414695924603]<input type='checkbox' class='ee-toggle'></label><ul><li><span class='ee-k'>0:</span><span class='ee-v'>-47.1124586266016</span></li><li><span class='ee-k'>1:</span><span class='ee-v'>-6.98414695924603</span></li></ul></li><li><label class='ee-shut'>1023: [-47.1132200007463, -6.983676849042379]<input type='checkbox' class='ee-toggle'></label><ul><li><span class='ee-k'>0:</span><span class='ee-v'>-47.1132200007463</span></li><li><span class='ee-k'>1:</span><span class='ee-v'>-6.983676849042379</span></li></ul></li><li><label class='ee-shut'>1024: [-47.11396064939041, -6.983583841719004]<input type='checkbox' class='ee-toggle'></label><ul><li><span class='ee-k'>0:</span><span class='ee-v'>-47.11396064939041</span></li><li><span class='ee-k'>1:</span><span class='ee-v'>-6.983583841719004</span></li></ul></li><li><label class='ee-shut'>1025: [-47.11788563436258, -6.98555403837654]<input type='checkbox' class='ee-toggle'></label><ul><li><span class='ee-k'>0:</span><span class='ee-v'>-47.11788563436258</span></li><li><span class='ee-k'>1:</span><span class='ee-v'>-6.98555403837654</span></li></ul></li><li><label class='ee-shut'>1026: [-47.12011234943842, -6.9863562423958285]<input type='checkbox' class='ee-toggle'></label><ul><li><span class='ee-k'>0:</span><span class='ee-v'>-47.12011234943842</span></li><li><span class='ee-k'>1:</span><span class='ee-v'>-6.9863562423958285</span></li></ul></li><li><label class='ee-shut'>1027: [-47.12231351488032, -6.986485427257144]<input type='checkbox' class='ee-toggle'></label><ul><li><span class='ee-k'>0:</span><span class='ee-v'>-47.12231351488032</span></li><li><span class='ee-k'>1:</span><span class='ee-v'>-6.986485427257144</span></li></ul></li><li><label class='ee-shut'>1028: [-47.12407445590794, -6.986594201577392]<input type='checkbox' class='ee-toggle'></label><ul><li><span class='ee-k'>0:</span><span class='ee-v'>-47.12407445590794</span></li><li><span class='ee-k'>1:</span><span class='ee-v'>-6.986594201577392</span></li></ul></li><li><label class='ee-shut'>1029: [-47.124716462138984, -6.986537440285371]<input type='checkbox' class='ee-toggle'></label><ul><li><span class='ee-k'>0:</span><span class='ee-v'>-47.124716462138984</span></li><li><span class='ee-k'>1:</span><span class='ee-v'>-6.986537440285371</span></li></ul></li><li><label class='ee-shut'>1030: [-47.12601834108083, -6.986423896474713]<input type='checkbox' class='ee-toggle'></label><ul><li><span class='ee-k'>0:</span><span class='ee-v'>-47.12601834108083</span></li><li><span class='ee-k'>1:</span><span class='ee-v'>-6.986423896474713</span></li></ul></li><li><label class='ee-shut'>1031: [-47.14373861868105, -6.972356977449245]<input type='checkbox' class='ee-toggle'></label><ul><li><span class='ee-k'>0:</span><span class='ee-v'>-47.14373861868105</span></li><li><span class='ee-k'>1:</span><span class='ee-v'>-6.972356977449245</span></li></ul></li><li><label class='ee-shut'>1032: [-47.1655351599728, -6.9661101085854265]<input type='checkbox' class='ee-toggle'></label><ul><li><span class='ee-k'>0:</span><span class='ee-v'>-47.1655351599728</span></li><li><span class='ee-k'>1:</span><span class='ee-v'>-6.9661101085854265</span></li></ul></li><li><label class='ee-shut'>1033: [-47.17504671707176, -6.96323953447043]<input type='checkbox' class='ee-toggle'></label><ul><li><span class='ee-k'>0:</span><span class='ee-v'>-47.17504671707176</span></li><li><span class='ee-k'>1:</span><span class='ee-v'>-6.96323953447043</span></li></ul></li><li><label class='ee-shut'>1034: [-47.19599597492445, -6.963358017013764]<input type='checkbox' class='ee-toggle'></label><ul><li><span class='ee-k'>0:</span><span class='ee-v'>-47.19599597492445</span></li><li><span class='ee-k'>1:</span><span class='ee-v'>-6.963358017013764</span></li></ul></li><li><label class='ee-shut'>1035: [-47.1961261041267, -6.963343990413369]<input type='checkbox' class='ee-toggle'></label><ul><li><span class='ee-k'>0:</span><span class='ee-v'>-47.1961261041267</span></li><li><span class='ee-k'>1:</span><span class='ee-v'>-6.963343990413369</span></li></ul></li><li><label class='ee-shut'>1036: [-47.19655341858408, -6.963485581140708]<input type='checkbox' class='ee-toggle'></label><ul><li><span class='ee-k'>0:</span><span class='ee-v'>-47.19655341858408</span></li><li><span class='ee-k'>1:</span><span class='ee-v'>-6.963485581140708</span></li></ul></li><li><label class='ee-shut'>1037: [-47.19755583481999, -6.963714257145258]<input type='checkbox' class='ee-toggle'></label><ul><li><span class='ee-k'>0:</span><span class='ee-v'>-47.19755583481999</span></li><li><span class='ee-k'>1:</span><span class='ee-v'>-6.963714257145258</span></li></ul></li><li><label class='ee-shut'>1038: [-47.19799566832976, -6.963662821401004]<input type='checkbox' class='ee-toggle'></label><ul><li><span class='ee-k'>0:</span><span class='ee-v'>-47.19799566832976</span></li><li><span class='ee-k'>1:</span><span class='ee-v'>-6.963662821401004</span></li></ul></li><li><label class='ee-shut'>1039: [-47.198286609693106, -6.963450625655651]<input type='checkbox' class='ee-toggle'></label><ul><li><span class='ee-k'>0:</span><span class='ee-v'>-47.198286609693106</span></li><li><span class='ee-k'>1:</span><span class='ee-v'>-6.963450625655651</span></li></ul></li><li><label class='ee-shut'>1040: [-47.19852342884047, -6.96320720473302]<input type='checkbox' class='ee-toggle'></label><ul><li><span class='ee-k'>0:</span><span class='ee-v'>-47.19852342884047</span></li><li><span class='ee-k'>1:</span><span class='ee-v'>-6.96320720473302</span></li></ul></li><li><label class='ee-shut'>1041: [-47.19861232005636, -6.963004863564695]<input type='checkbox' class='ee-toggle'></label><ul><li><span class='ee-k'>0:</span><span class='ee-v'>-47.19861232005636</span></li><li><span class='ee-k'>1:</span><span class='ee-v'>-6.963004863564695</span></li></ul></li><li><label class='ee-shut'>1042: [-47.198647310778156, -6.962802751520713]<input type='checkbox' class='ee-toggle'></label><ul><li><span class='ee-k'>0:</span><span class='ee-v'>-47.198647310778156</span></li><li><span class='ee-k'>1:</span><span class='ee-v'>-6.962802751520713</span></li></ul></li><li><label class='ee-shut'>1043: [-47.19869465996301, -6.962362816719751]<input type='checkbox' class='ee-toggle'></label><ul><li><span class='ee-k'>0:</span><span class='ee-v'>-47.19869465996301</span></li><li><span class='ee-k'>1:</span><span class='ee-v'>-6.962362816719751</span></li></ul></li><li><label class='ee-shut'>1044: [-47.198624008443765, -6.961649694508067]<input type='checkbox' class='ee-toggle'></label><ul><li><span class='ee-k'>0:</span><span class='ee-v'>-47.198624008443765</span></li><li><span class='ee-k'>1:</span><span class='ee-v'>-6.961649694508067</span></li></ul></li><li><label class='ee-shut'>1045: [-47.198492532850835, -6.960416409390581]<input type='checkbox' class='ee-toggle'></label><ul><li><span class='ee-k'>0:</span><span class='ee-v'>-47.198492532850835</span></li><li><span class='ee-k'>1:</span><span class='ee-v'>-6.960416409390581</span></li></ul></li><li><label class='ee-shut'>1046: [-47.19845664885728, -6.958505038256243]<input type='checkbox' class='ee-toggle'></label><ul><li><span class='ee-k'>0:</span><span class='ee-v'>-47.19845664885728</span></li><li><span class='ee-k'>1:</span><span class='ee-v'>-6.958505038256243</span></li></ul></li><li><label class='ee-shut'>1047: [-47.198353985038956, -6.95766649347336]<input type='checkbox' class='ee-toggle'></label><ul><li><span class='ee-k'>0:</span><span class='ee-v'>-47.198353985038956</span></li><li><span class='ee-k'>1:</span><span class='ee-v'>-6.95766649347336</span></li></ul></li><li><label class='ee-shut'>1048: [-47.198208737303965, -6.957339605995972]<input type='checkbox' class='ee-toggle'></label><ul><li><span class='ee-k'>0:</span><span class='ee-v'>-47.198208737303965</span></li><li><span class='ee-k'>1:</span><span class='ee-v'>-6.957339605995972</span></li></ul></li><li><label class='ee-shut'>1049: [-47.19808165517847, -6.957052969237374]<input type='checkbox' class='ee-toggle'></label><ul><li><span class='ee-k'>0:</span><span class='ee-v'>-47.19808165517847</span></li><li><span class='ee-k'>1:</span><span class='ee-v'>-6.957052969237374</span></li></ul></li><li><label class='ee-shut'>1050: [-47.198179404904984, -6.956828207201497]<input type='checkbox' class='ee-toggle'></label><ul><li><span class='ee-k'>0:</span><span class='ee-v'>-47.198179404904984</span></li><li><span class='ee-k'>1:</span><span class='ee-v'>-6.956828207201497</span></li></ul></li><li><label class='ee-shut'>1051: [-47.19827239015627, -6.956540571917143]<input type='checkbox' class='ee-toggle'></label><ul><li><span class='ee-k'>0:</span><span class='ee-v'>-47.19827239015627</span></li><li><span class='ee-k'>1:</span><span class='ee-v'>-6.956540571917143</span></li></ul></li><li><label class='ee-shut'>1052: [-47.19837944624236, -6.956387565250633]<input type='checkbox' class='ee-toggle'></label><ul><li><span class='ee-k'>0:</span><span class='ee-v'>-47.19837944624236</span></li><li><span class='ee-k'>1:</span><span class='ee-v'>-6.956387565250633</span></li></ul></li><li><label class='ee-shut'>1053: [-47.1986254974105, -6.956193420429029]<input type='checkbox' class='ee-toggle'></label><ul><li><span class='ee-k'>0:</span><span class='ee-v'>-47.1986254974105</span></li><li><span class='ee-k'>1:</span><span class='ee-v'>-6.956193420429029</span></li></ul></li><li><label class='ee-shut'>1054: [-47.19888539721541, -6.956075565074751]<input type='checkbox' class='ee-toggle'></label><ul><li><span class='ee-k'>0:</span><span class='ee-v'>-47.19888539721541</span></li><li><span class='ee-k'>1:</span><span class='ee-v'>-6.956075565074751</span></li></ul></li><li><label class='ee-shut'>1055: [-47.1995141949029, -6.956090590727316]<input type='checkbox' class='ee-toggle'></label><ul><li><span class='ee-k'>0:</span><span class='ee-v'>-47.1995141949029</span></li><li><span class='ee-k'>1:</span><span class='ee-v'>-6.956090590727316</span></li></ul></li><li><label class='ee-shut'>1056: [-47.20083398034755, -6.956008159894451]<input type='checkbox' class='ee-toggle'></label><ul><li><span class='ee-k'>0:</span><span class='ee-v'>-47.20083398034755</span></li><li><span class='ee-k'>1:</span><span class='ee-v'>-6.956008159894451</span></li></ul></li><li><label class='ee-shut'>1057: [-47.20177513083369, -6.955608937172763]<input type='checkbox' class='ee-toggle'></label><ul><li><span class='ee-k'>0:</span><span class='ee-v'>-47.20177513083369</span></li><li><span class='ee-k'>1:</span><span class='ee-v'>-6.955608937172763</span></li></ul></li><li><label class='ee-shut'>1058: [-47.2019812913253, -6.955518277922738]<input type='checkbox' class='ee-toggle'></label><ul><li><span class='ee-k'>0:</span><span class='ee-v'>-47.2019812913253</span></li><li><span class='ee-k'>1:</span><span class='ee-v'>-6.955518277922738</span></li></ul></li><li><label class='ee-shut'>1059: [-47.202393540334775, -6.95533682375419]<input type='checkbox' class='ee-toggle'></label><ul><li><span class='ee-k'>0:</span><span class='ee-v'>-47.202393540334775</span></li><li><span class='ee-k'>1:</span><span class='ee-v'>-6.95533682375419</span></li></ul></li><li><label class='ee-shut'>1060: [-47.20280139984084, -6.955159979741534]<input type='checkbox' class='ee-toggle'></label><ul><li><span class='ee-k'>0:</span><span class='ee-v'>-47.20280139984084</span></li><li><span class='ee-k'>1:</span><span class='ee-v'>-6.955159979741534</span></li></ul></li><li><label class='ee-shut'>1061: [-47.202926855633464, -6.955105551674891]<input type='checkbox' class='ee-toggle'></label><ul><li><span class='ee-k'>0:</span><span class='ee-v'>-47.202926855633464</span></li><li><span class='ee-k'>1:</span><span class='ee-v'>-6.955105551674891</span></li></ul></li><li><label class='ee-shut'>1062: [-47.20402551896452, -6.954790774613643]<input type='checkbox' class='ee-toggle'></label><ul><li><span class='ee-k'>0:</span><span class='ee-v'>-47.20402551896452</span></li><li><span class='ee-k'>1:</span><span class='ee-v'>-6.954790774613643</span></li></ul></li><li><label class='ee-shut'>1063: [-47.20535308940093, -6.954439109260695]<input type='checkbox' class='ee-toggle'></label><ul><li><span class='ee-k'>0:</span><span class='ee-v'>-47.20535308940093</span></li><li><span class='ee-k'>1:</span><span class='ee-v'>-6.954439109260695</span></li></ul></li><li><label class='ee-shut'>1064: [-47.20628575977412, -6.954156591530452]<input type='checkbox' class='ee-toggle'></label><ul><li><span class='ee-k'>0:</span><span class='ee-v'>-47.20628575977412</span></li><li><span class='ee-k'>1:</span><span class='ee-v'>-6.954156591530452</span></li></ul></li><li><label class='ee-shut'>1065: [-47.20711874417343, -6.953668122162441]<input type='checkbox' class='ee-toggle'></label><ul><li><span class='ee-k'>0:</span><span class='ee-v'>-47.20711874417343</span></li><li><span class='ee-k'>1:</span><span class='ee-v'>-6.953668122162441</span></li></ul></li><li><label class='ee-shut'>1066: [-47.20761093133883, -6.953293378122969]<input type='checkbox' class='ee-toggle'></label><ul><li><span class='ee-k'>0:</span><span class='ee-v'>-47.20761093133883</span></li><li><span class='ee-k'>1:</span><span class='ee-v'>-6.953293378122969</span></li></ul></li><li><label class='ee-shut'>1067: [-47.20828227924827, -6.952810151034063]<input type='checkbox' class='ee-toggle'></label><ul><li><span class='ee-k'>0:</span><span class='ee-v'>-47.20828227924827</span></li><li><span class='ee-k'>1:</span><span class='ee-v'>-6.952810151034063</span></li></ul></li><li><label class='ee-shut'>1068: [-47.20888617222152, -6.952322689291641]<input type='checkbox' class='ee-toggle'></label><ul><li><span class='ee-k'>0:</span><span class='ee-v'>-47.20888617222152</span></li><li><span class='ee-k'>1:</span><span class='ee-v'>-6.952322689291641</span></li></ul></li><li><label class='ee-shut'>1069: [-47.20937413185883, -6.9520018742900636]<input type='checkbox' class='ee-toggle'></label><ul><li><span class='ee-k'>0:</span><span class='ee-v'>-47.20937413185883</span></li><li><span class='ee-k'>1:</span><span class='ee-v'>-6.9520018742900636</span></li></ul></li><li><label class='ee-shut'>1070: [-47.21001042984015, -6.951711722992442]<input type='checkbox' class='ee-toggle'></label><ul><li><span class='ee-k'>0:</span><span class='ee-v'>-47.21001042984015</span></li><li><span class='ee-k'>1:</span><span class='ee-v'>-6.951711722992442</span></li></ul></li><li><label class='ee-shut'>1071: [-47.21110447866262, -6.9513611275149465]<input type='checkbox' class='ee-toggle'></label><ul><li><span class='ee-k'>0:</span><span class='ee-v'>-47.21110447866262</span></li><li><span class='ee-k'>1:</span><span class='ee-v'>-6.9513611275149465</span></li></ul></li><li><label class='ee-shut'>1072: [-47.212117901983696, -6.951069190557015]<input type='checkbox' class='ee-toggle'></label><ul><li><span class='ee-k'>0:</span><span class='ee-v'>-47.212117901983696</span></li><li><span class='ee-k'>1:</span><span class='ee-v'>-6.951069190557015</span></li></ul></li><li><label class='ee-shut'>1073: [-47.21291657613745, -6.950930899550455]<input type='checkbox' class='ee-toggle'></label><ul><li><span class='ee-k'>0:</span><span class='ee-v'>-47.21291657613745</span></li><li><span class='ee-k'>1:</span><span class='ee-v'>-6.950930899550455</span></li></ul></li><li><label class='ee-shut'>1074: [-47.21372412464403, -6.950779041126128]<input type='checkbox' class='ee-toggle'></label><ul><li><span class='ee-k'>0:</span><span class='ee-v'>-47.21372412464403</span></li><li><span class='ee-k'>1:</span><span class='ee-v'>-6.950779041126128</span></li></ul></li><li><label class='ee-shut'>1075: [-47.21484238131487, -6.950814194452636]<input type='checkbox' class='ee-toggle'></label><ul><li><span class='ee-k'>0:</span><span class='ee-v'>-47.21484238131487</span></li><li><span class='ee-k'>1:</span><span class='ee-v'>-6.950814194452636</span></li></ul></li><li><label class='ee-shut'>1076: [-47.2159377989518, -6.950750694489754]<input type='checkbox' class='ee-toggle'></label><ul><li><span class='ee-k'>0:</span><span class='ee-v'>-47.2159377989518</span></li><li><span class='ee-k'>1:</span><span class='ee-v'>-6.950750694489754</span></li></ul></li><li><label class='ee-shut'>1077: [-47.216611489773975, -6.950787929846795]<input type='checkbox' class='ee-toggle'></label><ul><li><span class='ee-k'>0:</span><span class='ee-v'>-47.216611489773975</span></li><li><span class='ee-k'>1:</span><span class='ee-v'>-6.950787929846795</span></li></ul></li><li><label class='ee-shut'>1078: [-47.21743354453624, -6.950842413203534]<input type='checkbox' class='ee-toggle'></label><ul><li><span class='ee-k'>0:</span><span class='ee-v'>-47.21743354453624</span></li><li><span class='ee-k'>1:</span><span class='ee-v'>-6.950842413203534</span></li></ul></li><li><label class='ee-shut'>1079: [-47.2181524622244, -6.950951245317412]<input type='checkbox' class='ee-toggle'></label><ul><li><span class='ee-k'>0:</span><span class='ee-v'>-47.2181524622244</span></li><li><span class='ee-k'>1:</span><span class='ee-v'>-6.950951245317412</span></li></ul></li><li><label class='ee-shut'>1080: [-47.218943037505724, -6.950996871837194]<input type='checkbox' class='ee-toggle'></label><ul><li><span class='ee-k'>0:</span><span class='ee-v'>-47.218943037505724</span></li><li><span class='ee-k'>1:</span><span class='ee-v'>-6.950996871837194</span></li></ul></li><li><label class='ee-shut'>1081: [-47.21962905666648, -6.950791785996419]<input type='checkbox' class='ee-toggle'></label><ul><li><span class='ee-k'>0:</span><span class='ee-v'>-47.21962905666648</span></li><li><span class='ee-k'>1:</span><span class='ee-v'>-6.950791785996419</span></li></ul></li><li><label class='ee-shut'>1082: [-47.220233902120604, -6.95050177598884]<input type='checkbox' class='ee-toggle'></label><ul><li><span class='ee-k'>0:</span><span class='ee-v'>-47.220233902120604</span></li><li><span class='ee-k'>1:</span><span class='ee-v'>-6.95050177598884</span></li></ul></li><li><label class='ee-shut'>1083: [-47.22075310218304, -6.950140391340428]<input type='checkbox' class='ee-toggle'></label><ul><li><span class='ee-k'>0:</span><span class='ee-v'>-47.22075310218304</span></li><li><span class='ee-k'>1:</span><span class='ee-v'>-6.950140391340428</span></li></ul></li><li><label class='ee-shut'>1084: [-47.22128124521912, -6.94977445413202]<input type='checkbox' class='ee-toggle'></label><ul><li><span class='ee-k'>0:</span><span class='ee-v'>-47.22128124521912</span></li><li><span class='ee-k'>1:</span><span class='ee-v'>-6.94977445413202</span></li></ul></li><li><label class='ee-shut'>1085: [-47.22179539107934, -6.9493008926502]<input type='checkbox' class='ee-toggle'></label><ul><li><span class='ee-k'>0:</span><span class='ee-v'>-47.22179539107934</span></li><li><span class='ee-k'>1:</span><span class='ee-v'>-6.9493008926502</span></li></ul></li><li><label class='ee-shut'>1086: [-47.22206322862226, -6.948949668979168]<input type='checkbox' class='ee-toggle'></label><ul><li><span class='ee-k'>0:</span><span class='ee-v'>-47.22206322862226</span></li><li><span class='ee-k'>1:</span><span class='ee-v'>-6.948949668979168</span></li></ul></li><li><label class='ee-shut'>1087: [-47.222276993178625, -6.948585193292472]<input type='checkbox' class='ee-toggle'></label><ul><li><span class='ee-k'>0:</span><span class='ee-v'>-47.222276993178625</span></li><li><span class='ee-k'>1:</span><span class='ee-v'>-6.948585193292472</span></li></ul></li><li><label class='ee-shut'>1088: [-47.222485693786666, -6.948081655937544]<input type='checkbox' class='ee-toggle'></label><ul><li><span class='ee-k'>0:</span><span class='ee-v'>-47.222485693786666</span></li><li><span class='ee-k'>1:</span><span class='ee-v'>-6.948081655937544</span></li></ul></li><li><label class='ee-shut'>1089: [-47.246869191490845, -6.947343010128887]<input type='checkbox' class='ee-toggle'></label><ul><li><span class='ee-k'>0:</span><span class='ee-v'>-47.246869191490845</span></li><li><span class='ee-k'>1:</span><span class='ee-v'>-6.947343010128887</span></li></ul></li><li><label class='ee-shut'>1090: [-47.248575163762524, -6.947272105041671]<input type='checkbox' class='ee-toggle'></label><ul><li><span class='ee-k'>0:</span><span class='ee-v'>-47.248575163762524</span></li><li><span class='ee-k'>1:</span><span class='ee-v'>-6.947272105041671</span></li></ul></li><li><label class='ee-shut'>1091: [-47.249158663503366, -6.9472244704567]<input type='checkbox' class='ee-toggle'></label><ul><li><span class='ee-k'>0:</span><span class='ee-v'>-47.249158663503366</span></li><li><span class='ee-k'>1:</span><span class='ee-v'>-6.9472244704567</span></li></ul></li><li><label class='ee-shut'>1092: [-47.250002476918816, -6.947157589432351]<input type='checkbox' class='ee-toggle'></label><ul><li><span class='ee-k'>0:</span><span class='ee-v'>-47.250002476918816</span></li><li><span class='ee-k'>1:</span><span class='ee-v'>-6.947157589432351</span></li></ul></li><li><label class='ee-shut'>1093: [-47.25069658584719, -6.9467639766619955]<input type='checkbox' class='ee-toggle'></label><ul><li><span class='ee-k'>0:</span><span class='ee-v'>-47.25069658584719</span></li><li><span class='ee-k'>1:</span><span class='ee-v'>-6.9467639766619955</span></li></ul></li><li><label class='ee-shut'>1094: [-47.25105929389788, -6.946542379712664]<input type='checkbox' class='ee-toggle'></label><ul><li><span class='ee-k'>0:</span><span class='ee-v'>-47.25105929389788</span></li><li><span class='ee-k'>1:</span><span class='ee-v'>-6.946542379712664</span></li></ul></li><li><label class='ee-shut'>1095: [-47.25147119084834, -6.946284655938454]<input type='checkbox' class='ee-toggle'></label><ul><li><span class='ee-k'>0:</span><span class='ee-v'>-47.25147119084834</span></li><li><span class='ee-k'>1:</span><span class='ee-v'>-6.946284655938454</span></li></ul></li><li><label class='ee-shut'>1096: [-47.25243741399722, -6.94457059237997]<input type='checkbox' class='ee-toggle'></label><ul><li><span class='ee-k'>0:</span><span class='ee-v'>-47.25243741399722</span></li><li><span class='ee-k'>1:</span><span class='ee-v'>-6.94457059237997</span></li></ul></li><li><label class='ee-shut'>1097: [-47.25331071942422, -6.942210794908319]<input type='checkbox' class='ee-toggle'></label><ul><li><span class='ee-k'>0:</span><span class='ee-v'>-47.25331071942422</span></li><li><span class='ee-k'>1:</span><span class='ee-v'>-6.942210794908319</span></li></ul></li><li><label class='ee-shut'>1098: [-47.25404332960089, -6.941408628917743]<input type='checkbox' class='ee-toggle'></label><ul><li><span class='ee-k'>0:</span><span class='ee-v'>-47.25404332960089</span></li><li><span class='ee-k'>1:</span><span class='ee-v'>-6.941408628917743</span></li></ul></li><li><label class='ee-shut'>1099: [-47.25451770583255, -6.9410833461409895]<input type='checkbox' class='ee-toggle'></label><ul><li><span class='ee-k'>0:</span><span class='ee-v'>-47.25451770583255</span></li><li><span class='ee-k'>1:</span><span class='ee-v'>-6.9410833461409895</span></li></ul></li><li><label class='ee-shut'>1100: [-47.25510581917328, -6.941053609358003]<input type='checkbox' class='ee-toggle'></label><ul><li><span class='ee-k'>0:</span><span class='ee-v'>-47.25510581917328</span></li><li><span class='ee-k'>1:</span><span class='ee-v'>-6.941053609358003</span></li></ul></li><li><label class='ee-shut'>1101: [-47.254970472763944, -6.940928602707807]<input type='checkbox' class='ee-toggle'></label><ul><li><span class='ee-k'>0:</span><span class='ee-v'>-47.254970472763944</span></li><li><span class='ee-k'>1:</span><span class='ee-v'>-6.940928602707807</span></li></ul></li><li><label class='ee-shut'>1102: [-47.25453604002117, -6.940217293345937]<input type='checkbox' class='ee-toggle'></label><ul><li><span class='ee-k'>0:</span><span class='ee-v'>-47.25453604002117</span></li><li><span class='ee-k'>1:</span><span class='ee-v'>-6.940217293345937</span></li></ul></li><li><label class='ee-shut'>1103: [-47.25466385781814, -6.939718644337121]<input type='checkbox' class='ee-toggle'></label><ul><li><span class='ee-k'>0:</span><span class='ee-v'>-47.25466385781814</span></li><li><span class='ee-k'>1:</span><span class='ee-v'>-6.939718644337121</span></li></ul></li><li><label class='ee-shut'>1104: [-47.25468487511888, -6.939417884090945]<input type='checkbox' class='ee-toggle'></label><ul><li><span class='ee-k'>0:</span><span class='ee-v'>-47.25468487511888</span></li><li><span class='ee-k'>1:</span><span class='ee-v'>-6.939417884090945</span></li></ul></li><li><label class='ee-shut'>1105: [-47.25455355439444, -6.939180752156026]<input type='checkbox' class='ee-toggle'></label><ul><li><span class='ee-k'>0:</span><span class='ee-v'>-47.25455355439444</span></li><li><span class='ee-k'>1:</span><span class='ee-v'>-6.939180752156026</span></li></ul></li><li><label class='ee-shut'>1106: [-47.254247389100875, -6.939007210658461]<input type='checkbox' class='ee-toggle'></label><ul><li><span class='ee-k'>0:</span><span class='ee-v'>-47.254247389100875</span></li><li><span class='ee-k'>1:</span><span class='ee-v'>-6.939007210658461</span></li></ul></li><li><label class='ee-shut'>1107: [-47.25392453127197, -6.939098490944344]<input type='checkbox' class='ee-toggle'></label><ul><li><span class='ee-k'>0:</span><span class='ee-v'>-47.25392453127197</span></li><li><span class='ee-k'>1:</span><span class='ee-v'>-6.939098490944344</span></li></ul></li><li><label class='ee-shut'>1108: [-47.25336318678559, -6.939078665059476]<input type='checkbox' class='ee-toggle'></label><ul><li><span class='ee-k'>0:</span><span class='ee-v'>-47.25336318678559</span></li><li><span class='ee-k'>1:</span><span class='ee-v'>-6.939078665059476</span></li></ul></li><li><label class='ee-shut'>1109: [-47.2529481445866, -6.9386678424772255]<input type='checkbox' class='ee-toggle'></label><ul><li><span class='ee-k'>0:</span><span class='ee-v'>-47.2529481445866</span></li><li><span class='ee-k'>1:</span><span class='ee-v'>-6.9386678424772255</span></li></ul></li><li><label class='ee-shut'>1110: [-47.25233747445775, -6.937719537384969]<input type='checkbox' class='ee-toggle'></label><ul><li><span class='ee-k'>0:</span><span class='ee-v'>-47.25233747445775</span></li><li><span class='ee-k'>1:</span><span class='ee-v'>-6.937719537384969</span></li></ul></li><li><label class='ee-shut'>1111: [-47.2521554821475, -6.937222371848298]<input type='checkbox' class='ee-toggle'></label><ul><li><span class='ee-k'>0:</span><span class='ee-v'>-47.2521554821475</span></li><li><span class='ee-k'>1:</span><span class='ee-v'>-6.937222371848298</span></li></ul></li><li><label class='ee-shut'>1112: [-47.25205539410327, -6.936944625938941]<input type='checkbox' class='ee-toggle'></label><ul><li><span class='ee-k'>0:</span><span class='ee-v'>-47.25205539410327</span></li><li><span class='ee-k'>1:</span><span class='ee-v'>-6.936944625938941</span></li></ul></li><li><label class='ee-shut'>1113: [-47.251919832125374, -6.935819098655567]<input type='checkbox' class='ee-toggle'></label><ul><li><span class='ee-k'>0:</span><span class='ee-v'>-47.251919832125374</span></li><li><span class='ee-k'>1:</span><span class='ee-v'>-6.935819098655567</span></li></ul></li><li><label class='ee-shut'>1114: [-47.25217314476371, -6.93432824888344]<input type='checkbox' class='ee-toggle'></label><ul><li><span class='ee-k'>0:</span><span class='ee-v'>-47.25217314476371</span></li><li><span class='ee-k'>1:</span><span class='ee-v'>-6.93432824888344</span></li></ul></li><li><label class='ee-shut'>1115: [-47.251842474762825, -6.933724077735069]<input type='checkbox' class='ee-toggle'></label><ul><li><span class='ee-k'>0:</span><span class='ee-v'>-47.251842474762825</span></li><li><span class='ee-k'>1:</span><span class='ee-v'>-6.933724077735069</span></li></ul></li><li><label class='ee-shut'>1116: [-47.25147283039408, -6.933420719337814]<input type='checkbox' class='ee-toggle'></label><ul><li><span class='ee-k'>0:</span><span class='ee-v'>-47.25147283039408</span></li><li><span class='ee-k'>1:</span><span class='ee-v'>-6.933420719337814</span></li></ul></li><li><label class='ee-shut'>1117: [-47.2509336462341, -6.933338004511815]<input type='checkbox' class='ee-toggle'></label><ul><li><span class='ee-k'>0:</span><span class='ee-v'>-47.2509336462341</span></li><li><span class='ee-k'>1:</span><span class='ee-v'>-6.933338004511815</span></li></ul></li><li><label class='ee-shut'>1118: [-47.250479647856785, -6.933232475549029]<input type='checkbox' class='ee-toggle'></label><ul><li><span class='ee-k'>0:</span><span class='ee-v'>-47.250479647856785</span></li><li><span class='ee-k'>1:</span><span class='ee-v'>-6.933232475549029</span></li></ul></li><li><label class='ee-shut'>1119: [-47.25021769887217, -6.932910694371373]<input type='checkbox' class='ee-toggle'></label><ul><li><span class='ee-k'>0:</span><span class='ee-v'>-47.25021769887217</span></li><li><span class='ee-k'>1:</span><span class='ee-v'>-6.932910694371373</span></li></ul></li><li><label class='ee-shut'>1120: [-47.24993242564584, -6.932413939735921]<input type='checkbox' class='ee-toggle'></label><ul><li><span class='ee-k'>0:</span><span class='ee-v'>-47.24993242564584</span></li><li><span class='ee-k'>1:</span><span class='ee-v'>-6.932413939735921</span></li></ul></li><li><label class='ee-shut'>1121: [-47.249844563598685, -6.931875945074519]<input type='checkbox' class='ee-toggle'></label><ul><li><span class='ee-k'>0:</span><span class='ee-v'>-47.249844563598685</span></li><li><span class='ee-k'>1:</span><span class='ee-v'>-6.931875945074519</span></li></ul></li><li><label class='ee-shut'>1122: [-47.24999465203785, -6.931332311773118]<input type='checkbox' class='ee-toggle'></label><ul><li><span class='ee-k'>0:</span><span class='ee-v'>-47.24999465203785</span></li><li><span class='ee-k'>1:</span><span class='ee-v'>-6.931332311773118</span></li></ul></li><li><label class='ee-shut'>1123: [-47.25016210474966, -6.930662998283001]<input type='checkbox' class='ee-toggle'></label><ul><li><span class='ee-k'>0:</span><span class='ee-v'>-47.25016210474966</span></li><li><span class='ee-k'>1:</span><span class='ee-v'>-6.930662998283001</span></li></ul></li><li><label class='ee-shut'>1124: [-47.250096822719875, -6.93014282801535]<input type='checkbox' class='ee-toggle'></label><ul><li><span class='ee-k'>0:</span><span class='ee-v'>-47.250096822719875</span></li><li><span class='ee-k'>1:</span><span class='ee-v'>-6.93014282801535</span></li></ul></li><li><label class='ee-shut'>1125: [-47.24977175521336, -6.929776426560698]<input type='checkbox' class='ee-toggle'></label><ul><li><span class='ee-k'>0:</span><span class='ee-v'>-47.24977175521336</span></li><li><span class='ee-k'>1:</span><span class='ee-v'>-6.929776426560698</span></li></ul></li><li><label class='ee-shut'>1126: [-47.24961667444068, -6.929261191154571]<input type='checkbox' class='ee-toggle'></label><ul><li><span class='ee-k'>0:</span><span class='ee-v'>-47.24961667444068</span></li><li><span class='ee-k'>1:</span><span class='ee-v'>-6.929261191154571</span></li></ul></li><li><label class='ee-shut'>1127: [-47.2497226450095, -6.928892763518965]<input type='checkbox' class='ee-toggle'></label><ul><li><span class='ee-k'>0:</span><span class='ee-v'>-47.2497226450095</span></li><li><span class='ee-k'>1:</span><span class='ee-v'>-6.928892763518965</span></li></ul></li><li><label class='ee-shut'>1128: [-47.250195043887395, -6.928132216748317]<input type='checkbox' class='ee-toggle'></label><ul><li><span class='ee-k'>0:</span><span class='ee-v'>-47.250195043887395</span></li><li><span class='ee-k'>1:</span><span class='ee-v'>-6.928132216748317</span></li></ul></li><li><label class='ee-shut'>1129: [-47.250453788253424, -6.927785488563498]<input type='checkbox' class='ee-toggle'></label><ul><li><span class='ee-k'>0:</span><span class='ee-v'>-47.250453788253424</span></li><li><span class='ee-k'>1:</span><span class='ee-v'>-6.927785488563498</span></li></ul></li><li><label class='ee-shut'>1130: [-47.2504069130977, -6.92737294103279]<input type='checkbox' class='ee-toggle'></label><ul><li><span class='ee-k'>0:</span><span class='ee-v'>-47.2504069130977</span></li><li><span class='ee-k'>1:</span><span class='ee-v'>-6.92737294103279</span></li></ul></li><li><label class='ee-shut'>1131: [-47.25021255678594, -6.927095668143371]<input type='checkbox' class='ee-toggle'></label><ul><li><span class='ee-k'>0:</span><span class='ee-v'>-47.25021255678594</span></li><li><span class='ee-k'>1:</span><span class='ee-v'>-6.927095668143371</span></li></ul></li><li><label class='ee-shut'>1132: [-47.24960527255702, -6.9268607442469285]<input type='checkbox' class='ee-toggle'></label><ul><li><span class='ee-k'>0:</span><span class='ee-v'>-47.24960527255702</span></li><li><span class='ee-k'>1:</span><span class='ee-v'>-6.9268607442469285</span></li></ul></li><li><label class='ee-shut'>1133: [-47.249258745923335, -6.926687367188318]<input type='checkbox' class='ee-toggle'></label><ul><li><span class='ee-k'>0:</span><span class='ee-v'>-47.249258745923335</span></li><li><span class='ee-k'>1:</span><span class='ee-v'>-6.926687367188318</span></li></ul></li><li><label class='ee-shut'>1134: [-47.249188844704115, -6.926149291594905]<input type='checkbox' class='ee-toggle'></label><ul><li><span class='ee-k'>0:</span><span class='ee-v'>-47.249188844704115</span></li><li><span class='ee-k'>1:</span><span class='ee-v'>-6.926149291594905</span></li></ul></li><li><label class='ee-shut'>1135: [-47.24929183352711, -6.925152672901809]<input type='checkbox' class='ee-toggle'></label><ul><li><span class='ee-k'>0:</span><span class='ee-v'>-47.24929183352711</span></li><li><span class='ee-k'>1:</span><span class='ee-v'>-6.925152672901809</span></li></ul></li><li><label class='ee-shut'>1136: [-47.248925486377736, -6.924593593267952]<input type='checkbox' class='ee-toggle'></label><ul><li><span class='ee-k'>0:</span><span class='ee-v'>-47.248925486377736</span></li><li><span class='ee-k'>1:</span><span class='ee-v'>-6.924593593267952</span></li></ul></li><li><label class='ee-shut'>1137: [-47.24818750896607, -6.924251543093445]<input type='checkbox' class='ee-toggle'></label><ul><li><span class='ee-k'>0:</span><span class='ee-v'>-47.24818750896607</span></li><li><span class='ee-k'>1:</span><span class='ee-v'>-6.924251543093445</span></li></ul></li><li><label class='ee-shut'>1138: [-47.2472753170156, -6.924103327678613]<input type='checkbox' class='ee-toggle'></label><ul><li><span class='ee-k'>0:</span><span class='ee-v'>-47.2472753170156</span></li><li><span class='ee-k'>1:</span><span class='ee-v'>-6.924103327678613</span></li></ul></li><li><label class='ee-shut'>1139: [-47.2467355061008, -6.923890516666032]<input type='checkbox' class='ee-toggle'></label><ul><li><span class='ee-k'>0:</span><span class='ee-v'>-47.2467355061008</span></li><li><span class='ee-k'>1:</span><span class='ee-v'>-6.923890516666032</span></li></ul></li><li><label class='ee-shut'>1140: [-47.24653997134992, -6.923370960138649]<input type='checkbox' class='ee-toggle'></label><ul><li><span class='ee-k'>0:</span><span class='ee-v'>-47.24653997134992</span></li><li><span class='ee-k'>1:</span><span class='ee-v'>-6.923370960138649</span></li></ul></li><li><label class='ee-shut'>1141: [-47.24662313314263, -6.92291737935671]<input type='checkbox' class='ee-toggle'></label><ul><li><span class='ee-k'>0:</span><span class='ee-v'>-47.24662313314263</span></li><li><span class='ee-k'>1:</span><span class='ee-v'>-6.92291737935671</span></li></ul></li><li><label class='ee-shut'>1142: [-47.24715854628464, -6.922201425452691]<input type='checkbox' class='ee-toggle'></label><ul><li><span class='ee-k'>0:</span><span class='ee-v'>-47.24715854628464</span></li><li><span class='ee-k'>1:</span><span class='ee-v'>-6.922201425452691</span></li></ul></li><li><label class='ee-shut'>1143: [-47.24745699402031, -6.921684005105427]<input type='checkbox' class='ee-toggle'></label><ul><li><span class='ee-k'>0:</span><span class='ee-v'>-47.24745699402031</span></li><li><span class='ee-k'>1:</span><span class='ee-v'>-6.921684005105427</span></li></ul></li><li><label class='ee-shut'>1144: [-47.24814726815078, -6.920496211098976]<input type='checkbox' class='ee-toggle'></label><ul><li><span class='ee-k'>0:</span><span class='ee-v'>-47.24814726815078</span></li><li><span class='ee-k'>1:</span><span class='ee-v'>-6.920496211098976</span></li></ul></li><li><label class='ee-shut'>1145: [-47.248641636196545, -6.91964581139821]<input type='checkbox' class='ee-toggle'></label><ul><li><span class='ee-k'>0:</span><span class='ee-v'>-47.248641636196545</span></li><li><span class='ee-k'>1:</span><span class='ee-v'>-6.91964581139821</span></li></ul></li><li><label class='ee-shut'>1146: [-47.249304353166515, -6.918314558068214]<input type='checkbox' class='ee-toggle'></label><ul><li><span class='ee-k'>0:</span><span class='ee-v'>-47.249304353166515</span></li><li><span class='ee-k'>1:</span><span class='ee-v'>-6.918314558068214</span></li></ul></li><li><label class='ee-shut'>1147: [-47.24954014027647, -6.917846825988999]<input type='checkbox' class='ee-toggle'></label><ul><li><span class='ee-k'>0:</span><span class='ee-v'>-47.24954014027647</span></li><li><span class='ee-k'>1:</span><span class='ee-v'>-6.917846825988999</span></li></ul></li><li><label class='ee-shut'>1148: [-47.25065693926204, -6.915701296297076]<input type='checkbox' class='ee-toggle'></label><ul><li><span class='ee-k'>0:</span><span class='ee-v'>-47.25065693926204</span></li><li><span class='ee-k'>1:</span><span class='ee-v'>-6.915701296297076</span></li></ul></li><li><label class='ee-shut'>1149: [-47.251816241849276, -6.913986311388515]<input type='checkbox' class='ee-toggle'></label><ul><li><span class='ee-k'>0:</span><span class='ee-v'>-47.251816241849276</span></li><li><span class='ee-k'>1:</span><span class='ee-v'>-6.913986311388515</span></li></ul></li><li><label class='ee-shut'>1150: [-47.25349733653192, -6.912488685936785]<input type='checkbox' class='ee-toggle'></label><ul><li><span class='ee-k'>0:</span><span class='ee-v'>-47.25349733653192</span></li><li><span class='ee-k'>1:</span><span class='ee-v'>-6.912488685936785</span></li></ul></li><li><label class='ee-shut'>1151: [-47.25539305882042, -6.910792643434793]<input type='checkbox' class='ee-toggle'></label><ul><li><span class='ee-k'>0:</span><span class='ee-v'>-47.25539305882042</span></li><li><span class='ee-k'>1:</span><span class='ee-v'>-6.910792643434793</span></li></ul></li><li><label class='ee-shut'>1152: [-47.25671383026767, -6.910014634844438]<input type='checkbox' class='ee-toggle'></label><ul><li><span class='ee-k'>0:</span><span class='ee-v'>-47.25671383026767</span></li><li><span class='ee-k'>1:</span><span class='ee-v'>-6.910014634844438</span></li></ul></li><li><label class='ee-shut'>1153: [-47.257139188332964, -6.909765842672151]<input type='checkbox' class='ee-toggle'></label><ul><li><span class='ee-k'>0:</span><span class='ee-v'>-47.257139188332964</span></li><li><span class='ee-k'>1:</span><span class='ee-v'>-6.909765842672151</span></li></ul></li><li><label class='ee-shut'>1154: [-47.25899427348708, -6.908980842174276]<input type='checkbox' class='ee-toggle'></label><ul><li><span class='ee-k'>0:</span><span class='ee-v'>-47.25899427348708</span></li><li><span class='ee-k'>1:</span><span class='ee-v'>-6.908980842174276</span></li></ul></li><li><label class='ee-shut'>1155: [-47.26035695277737, -6.908498729412367]<input type='checkbox' class='ee-toggle'></label><ul><li><span class='ee-k'>0:</span><span class='ee-v'>-47.26035695277737</span></li><li><span class='ee-k'>1:</span><span class='ee-v'>-6.908498729412367</span></li></ul></li><li><label class='ee-shut'>1156: [-47.26236540882534, -6.907861037025227]<input type='checkbox' class='ee-toggle'></label><ul><li><span class='ee-k'>0:</span><span class='ee-v'>-47.26236540882534</span></li><li><span class='ee-k'>1:</span><span class='ee-v'>-6.907861037025227</span></li></ul></li><li><label class='ee-shut'>1157: [-47.26314056184182, -6.907534312455751]<input type='checkbox' class='ee-toggle'></label><ul><li><span class='ee-k'>0:</span><span class='ee-v'>-47.26314056184182</span></li><li><span class='ee-k'>1:</span><span class='ee-v'>-6.907534312455751</span></li></ul></li><li><label class='ee-shut'>1158: [-47.26396052674412, -6.907184943734086]<input type='checkbox' class='ee-toggle'></label><ul><li><span class='ee-k'>0:</span><span class='ee-v'>-47.26396052674412</span></li><li><span class='ee-k'>1:</span><span class='ee-v'>-6.907184943734086</span></li></ul></li><li><label class='ee-shut'>1159: [-47.26926720743154, -6.90241261107255]<input type='checkbox' class='ee-toggle'></label><ul><li><span class='ee-k'>0:</span><span class='ee-v'>-47.26926720743154</span></li><li><span class='ee-k'>1:</span><span class='ee-v'>-6.90241261107255</span></li></ul></li><li><label class='ee-shut'>1160: [-47.29115078403938, -6.914624174470246]<input type='checkbox' class='ee-toggle'></label><ul><li><span class='ee-k'>0:</span><span class='ee-v'>-47.29115078403938</span></li><li><span class='ee-k'>1:</span><span class='ee-v'>-6.914624174470246</span></li></ul></li><li><label class='ee-shut'>1161: [-47.29124632383486, -6.914892948129814]<input type='checkbox' class='ee-toggle'></label><ul><li><span class='ee-k'>0:</span><span class='ee-v'>-47.29124632383486</span></li><li><span class='ee-k'>1:</span><span class='ee-v'>-6.914892948129814</span></li></ul></li><li><label class='ee-shut'>1162: [-47.290850368097644, -6.915644129576413]<input type='checkbox' class='ee-toggle'></label><ul><li><span class='ee-k'>0:</span><span class='ee-v'>-47.290850368097644</span></li><li><span class='ee-k'>1:</span><span class='ee-v'>-6.915644129576413</span></li></ul></li><li><label class='ee-shut'>1163: [-47.29064325514525, -6.916461701694239]<input type='checkbox' class='ee-toggle'></label><ul><li><span class='ee-k'>0:</span><span class='ee-v'>-47.29064325514525</span></li><li><span class='ee-k'>1:</span><span class='ee-v'>-6.916461701694239</span></li></ul></li><li><label class='ee-shut'>1164: [-47.29059336021529, -6.917283025046709]<input type='checkbox' class='ee-toggle'></label><ul><li><span class='ee-k'>0:</span><span class='ee-v'>-47.29059336021529</span></li><li><span class='ee-k'>1:</span><span class='ee-v'>-6.917283025046709</span></li></ul></li><li><label class='ee-shut'>1165: [-47.290613124269974, -6.917664289846879]<input type='checkbox' class='ee-toggle'></label><ul><li><span class='ee-k'>0:</span><span class='ee-v'>-47.290613124269974</span></li><li><span class='ee-k'>1:</span><span class='ee-v'>-6.917664289846879</span></li></ul></li><li><label class='ee-shut'>1166: [-47.29116130012064, -6.918671229023775]<input type='checkbox' class='ee-toggle'></label><ul><li><span class='ee-k'>0:</span><span class='ee-v'>-47.29116130012064</span></li><li><span class='ee-k'>1:</span><span class='ee-v'>-6.918671229023775</span></li></ul></li><li><label class='ee-shut'>1167: [-47.2917410303794, -6.919713818107696]<input type='checkbox' class='ee-toggle'></label><ul><li><span class='ee-k'>0:</span><span class='ee-v'>-47.2917410303794</span></li><li><span class='ee-k'>1:</span><span class='ee-v'>-6.919713818107696</span></li></ul></li><li><label class='ee-shut'>1168: [-47.29223178872546, -6.920931862482]<input type='checkbox' class='ee-toggle'></label><ul><li><span class='ee-k'>0:</span><span class='ee-v'>-47.29223178872546</span></li><li><span class='ee-k'>1:</span><span class='ee-v'>-6.920931862482</span></li></ul></li><li><label class='ee-shut'>1169: [-47.29276320024619, -6.922185630429178]<input type='checkbox' class='ee-toggle'></label><ul><li><span class='ee-k'>0:</span><span class='ee-v'>-47.29276320024619</span></li><li><span class='ee-k'>1:</span><span class='ee-v'>-6.922185630429178</span></li></ul></li><li><label class='ee-shut'>1170: [-47.29344460833567, -6.922895713408471]<input type='checkbox' class='ee-toggle'></label><ul><li><span class='ee-k'>0:</span><span class='ee-v'>-47.29344460833567</span></li><li><span class='ee-k'>1:</span><span class='ee-v'>-6.922895713408471</span></li></ul></li><li><label class='ee-shut'>1171: [-47.29447538940301, -6.923429152065592]<input type='checkbox' class='ee-toggle'></label><ul><li><span class='ee-k'>0:</span><span class='ee-v'>-47.29447538940301</span></li><li><span class='ee-k'>1:</span><span class='ee-v'>-6.923429152065592</span></li></ul></li><li><label class='ee-shut'>1172: [-47.29577001093586, -6.9237549376672005]<input type='checkbox' class='ee-toggle'></label><ul><li><span class='ee-k'>0:</span><span class='ee-v'>-47.29577001093586</span></li><li><span class='ee-k'>1:</span><span class='ee-v'>-6.9237549376672005</span></li></ul></li><li><label class='ee-shut'>1173: [-47.29812356484484, -6.923918578345237]<input type='checkbox' class='ee-toggle'></label><ul><li><span class='ee-k'>0:</span><span class='ee-v'>-47.29812356484484</span></li><li><span class='ee-k'>1:</span><span class='ee-v'>-6.923918578345237</span></li></ul></li><li><label class='ee-shut'>1174: [-47.300980450248495, -6.924200865664364]<input type='checkbox' class='ee-toggle'></label><ul><li><span class='ee-k'>0:</span><span class='ee-v'>-47.300980450248495</span></li><li><span class='ee-k'>1:</span><span class='ee-v'>-6.924200865664364</span></li></ul></li><li><label class='ee-shut'>1175: [-47.302255317034756, -6.924140865399294]<input type='checkbox' class='ee-toggle'></label><ul><li><span class='ee-k'>0:</span><span class='ee-v'>-47.302255317034756</span></li><li><span class='ee-k'>1:</span><span class='ee-v'>-6.924140865399294</span></li></ul></li><li><label class='ee-shut'>1176: [-47.30295147172595, -6.924191331955932]<input type='checkbox' class='ee-toggle'></label><ul><li><span class='ee-k'>0:</span><span class='ee-v'>-47.30295147172595</span></li><li><span class='ee-k'>1:</span><span class='ee-v'>-6.924191331955932</span></li></ul></li><li><label class='ee-shut'>1177: [-47.30368411528658, -6.924344770168761]<input type='checkbox' class='ee-toggle'></label><ul><li><span class='ee-k'>0:</span><span class='ee-v'>-47.30368411528658</span></li><li><span class='ee-k'>1:</span><span class='ee-v'>-6.924344770168761</span></li></ul></li><li><label class='ee-shut'>1178: [-47.30405279088425, -6.9244461705288485]<input type='checkbox' class='ee-toggle'></label><ul><li><span class='ee-k'>0:</span><span class='ee-v'>-47.30405279088425</span></li><li><span class='ee-k'>1:</span><span class='ee-v'>-6.9244461705288485</span></li></ul></li><li><label class='ee-shut'>1179: [-47.304453846078175, -6.924758302864652]<input type='checkbox' class='ee-toggle'></label><ul><li><span class='ee-k'>0:</span><span class='ee-v'>-47.304453846078175</span></li><li><span class='ee-k'>1:</span><span class='ee-v'>-6.924758302864652</span></li></ul></li><li><label class='ee-shut'>1180: [-47.304824839822935, -6.925330811670331]<input type='checkbox' class='ee-toggle'></label><ul><li><span class='ee-k'>0:</span><span class='ee-v'>-47.304824839822935</span></li><li><span class='ee-k'>1:</span><span class='ee-v'>-6.925330811670331</span></li></ul></li><li><label class='ee-shut'>1181: [-47.304948231455306, -6.925787877876005]<input type='checkbox' class='ee-toggle'></label><ul><li><span class='ee-k'>0:</span><span class='ee-v'>-47.304948231455306</span></li><li><span class='ee-k'>1:</span><span class='ee-v'>-6.925787877876005</span></li></ul></li><li><label class='ee-shut'>1182: [-47.305151149411316, -6.925033134477381]<input type='checkbox' class='ee-toggle'></label><ul><li><span class='ee-k'>0:</span><span class='ee-v'>-47.305151149411316</span></li><li><span class='ee-k'>1:</span><span class='ee-v'>-6.925033134477381</span></li></ul></li><li><label class='ee-shut'>1183: [-47.30581019064901, -6.923912743935761]<input type='checkbox' class='ee-toggle'></label><ul><li><span class='ee-k'>0:</span><span class='ee-v'>-47.30581019064901</span></li><li><span class='ee-k'>1:</span><span class='ee-v'>-6.923912743935761</span></li></ul></li><li><label class='ee-shut'>1184: [-47.307052648720614, -6.921802397962426]<input type='checkbox' class='ee-toggle'></label><ul><li><span class='ee-k'>0:</span><span class='ee-v'>-47.307052648720614</span></li><li><span class='ee-k'>1:</span><span class='ee-v'>-6.921802397962426</span></li></ul></li><li><label class='ee-shut'>1185: [-47.308040951658526, -6.920070246492765]<input type='checkbox' class='ee-toggle'></label><ul><li><span class='ee-k'>0:</span><span class='ee-v'>-47.308040951658526</span></li><li><span class='ee-k'>1:</span><span class='ee-v'>-6.920070246492765</span></li></ul></li><li><label class='ee-shut'>1186: [-47.309097912829166, -6.9186024165668]<input type='checkbox' class='ee-toggle'></label><ul><li><span class='ee-k'>0:</span><span class='ee-v'>-47.309097912829166</span></li><li><span class='ee-k'>1:</span><span class='ee-v'>-6.9186024165668</span></li></ul></li><li><label class='ee-shut'>1187: [-47.30971470109848, -6.917100846478035]<input type='checkbox' class='ee-toggle'></label><ul><li><span class='ee-k'>0:</span><span class='ee-v'>-47.30971470109848</span></li><li><span class='ee-k'>1:</span><span class='ee-v'>-6.917100846478035</span></li></ul></li><li><label class='ee-shut'>1188: [-47.309939050609756, -6.916144093047904]<input type='checkbox' class='ee-toggle'></label><ul><li><span class='ee-k'>0:</span><span class='ee-v'>-47.309939050609756</span></li><li><span class='ee-k'>1:</span><span class='ee-v'>-6.916144093047904</span></li></ul></li><li><label class='ee-shut'>1189: [-47.30998359234785, -6.915147803315942]<input type='checkbox' class='ee-toggle'></label><ul><li><span class='ee-k'>0:</span><span class='ee-v'>-47.30998359234785</span></li><li><span class='ee-k'>1:</span><span class='ee-v'>-6.915147803315942</span></li></ul></li><li><label class='ee-shut'>1190: [-47.31010311659847, -6.913877494301478]<input type='checkbox' class='ee-toggle'></label><ul><li><span class='ee-k'>0:</span><span class='ee-v'>-47.31010311659847</span></li><li><span class='ee-k'>1:</span><span class='ee-v'>-6.913877494301478</span></li></ul></li><li><label class='ee-shut'>1191: [-47.31018914140173, -6.912172139173982]<input type='checkbox' class='ee-toggle'></label><ul><li><span class='ee-k'>0:</span><span class='ee-v'>-47.31018914140173</span></li><li><span class='ee-k'>1:</span><span class='ee-v'>-6.912172139173982</span></li></ul></li><li><label class='ee-shut'>1192: [-47.32401980596404, -6.89608738601581]<input type='checkbox' class='ee-toggle'></label><ul><li><span class='ee-k'>0:</span><span class='ee-v'>-47.32401980596404</span></li><li><span class='ee-k'>1:</span><span class='ee-v'>-6.89608738601581</span></li></ul></li><li><label class='ee-shut'>1193: [-47.32553719630788, -6.8960799400710995]<input type='checkbox' class='ee-toggle'></label><ul><li><span class='ee-k'>0:</span><span class='ee-v'>-47.32553719630788</span></li><li><span class='ee-k'>1:</span><span class='ee-v'>-6.8960799400710995</span></li></ul></li><li><label class='ee-shut'>1194: [-47.326356659327224, -6.895645224888896]<input type='checkbox' class='ee-toggle'></label><ul><li><span class='ee-k'>0:</span><span class='ee-v'>-47.326356659327224</span></li><li><span class='ee-k'>1:</span><span class='ee-v'>-6.895645224888896</span></li></ul></li><li><label class='ee-shut'>1195: [-47.32710732272098, -6.894905747229202]<input type='checkbox' class='ee-toggle'></label><ul><li><span class='ee-k'>0:</span><span class='ee-v'>-47.32710732272098</span></li><li><span class='ee-k'>1:</span><span class='ee-v'>-6.894905747229202</span></li></ul></li><li><label class='ee-shut'>1196: [-47.32812242979648, -6.894079763418266]<input type='checkbox' class='ee-toggle'></label><ul><li><span class='ee-k'>0:</span><span class='ee-v'>-47.32812242979648</span></li><li><span class='ee-k'>1:</span><span class='ee-v'>-6.894079763418266</span></li></ul></li><li><label class='ee-shut'>1197: [-47.3291117324062, -6.89349167061933]<input type='checkbox' class='ee-toggle'></label><ul><li><span class='ee-k'>0:</span><span class='ee-v'>-47.3291117324062</span></li><li><span class='ee-k'>1:</span><span class='ee-v'>-6.89349167061933</span></li></ul></li><li><label class='ee-shut'>1198: [-47.33015136017658, -6.8930962783025445]<input type='checkbox' class='ee-toggle'></label><ul><li><span class='ee-k'>0:</span><span class='ee-v'>-47.33015136017658</span></li><li><span class='ee-k'>1:</span><span class='ee-v'>-6.8930962783025445</span></li></ul></li><li><label class='ee-shut'>1199: [-47.331402613357525, -6.89282989973351]<input type='checkbox' class='ee-toggle'></label><ul><li><span class='ee-k'>0:</span><span class='ee-v'>-47.331402613357525</span></li><li><span class='ee-k'>1:</span><span class='ee-v'>-6.89282989973351</span></li></ul></li><li><label class='ee-shut'>1200: [-47.332352941097, -6.892524662755963]<input type='checkbox' class='ee-toggle'></label><ul><li><span class='ee-k'>0:</span><span class='ee-v'>-47.332352941097</span></li><li><span class='ee-k'>1:</span><span class='ee-v'>-6.892524662755963</span></li></ul></li><li><label class='ee-shut'>1201: [-47.333587527372984, -6.892518659787805]<input type='checkbox' class='ee-toggle'></label><ul><li><span class='ee-k'>0:</span><span class='ee-v'>-47.333587527372984</span></li><li><span class='ee-k'>1:</span><span class='ee-v'>-6.892518659787805</span></li></ul></li><li><label class='ee-shut'>1202: [-47.334926422436105, -6.892727430105224]<input type='checkbox' class='ee-toggle'></label><ul><li><span class='ee-k'>0:</span><span class='ee-v'>-47.334926422436105</span></li><li><span class='ee-k'>1:</span><span class='ee-v'>-6.892727430105224</span></li></ul></li><li><label class='ee-shut'>1203: [-47.33646712391779, -6.892890433982272]<input type='checkbox' class='ee-toggle'></label><ul><li><span class='ee-k'>0:</span><span class='ee-v'>-47.33646712391779</span></li><li><span class='ee-k'>1:</span><span class='ee-v'>-6.892890433982272</span></li></ul></li><li><label class='ee-shut'>1204: [-47.33923251438589, -6.892876873544441]<input type='checkbox' class='ee-toggle'></label><ul><li><span class='ee-k'>0:</span><span class='ee-v'>-47.33923251438589</span></li><li><span class='ee-k'>1:</span><span class='ee-v'>-6.892876873544441</span></li></ul></li><li><label class='ee-shut'>1205: [-47.34039977817228, -6.892871126981694]<input type='checkbox' class='ee-toggle'></label><ul><li><span class='ee-k'>0:</span><span class='ee-v'>-47.34039977817228</span></li><li><span class='ee-k'>1:</span><span class='ee-v'>-6.892871126981694</span></li></ul></li><li><label class='ee-shut'>1206: [-47.34480091870119, -6.892248356953941]<input type='checkbox' class='ee-toggle'></label><ul><li><span class='ee-k'>0:</span><span class='ee-v'>-47.34480091870119</span></li><li><span class='ee-k'>1:</span><span class='ee-v'>-6.892248356953941</span></li></ul></li><li><label class='ee-shut'>1207: [-47.34963258488561, -6.892462366840051]<input type='checkbox' class='ee-toggle'></label><ul><li><span class='ee-k'>0:</span><span class='ee-v'>-47.34963258488561</span></li><li><span class='ee-k'>1:</span><span class='ee-v'>-6.892462366840051</span></li></ul></li><li><label class='ee-shut'>1208: [-47.35642364677987, -6.8948831008249]<input type='checkbox' class='ee-toggle'></label><ul><li><span class='ee-k'>0:</span><span class='ee-v'>-47.35642364677987</span></li><li><span class='ee-k'>1:</span><span class='ee-v'>-6.8948831008249</span></li></ul></li><li><label class='ee-shut'>1209: [-47.38627181917098, -6.92940192628512]<input type='checkbox' class='ee-toggle'></label><ul><li><span class='ee-k'>0:</span><span class='ee-v'>-47.38627181917098</span></li><li><span class='ee-k'>1:</span><span class='ee-v'>-6.92940192628512</span></li></ul></li><li><label class='ee-shut'>1210: [-47.38784363662299, -6.930376544334476]<input type='checkbox' class='ee-toggle'></label><ul><li><span class='ee-k'>0:</span><span class='ee-v'>-47.38784363662299</span></li><li><span class='ee-k'>1:</span><span class='ee-v'>-6.930376544334476</span></li></ul></li><li><label class='ee-shut'>1211: [-47.38781703577976, -6.930457410723277]<input type='checkbox' class='ee-toggle'></label><ul><li><span class='ee-k'>0:</span><span class='ee-v'>-47.38781703577976</span></li><li><span class='ee-k'>1:</span><span class='ee-v'>-6.930457410723277</span></li></ul></li><li><label class='ee-shut'>1212: [-47.38745000531142, -6.931571904064375]<input type='checkbox' class='ee-toggle'></label><ul><li><span class='ee-k'>0:</span><span class='ee-v'>-47.38745000531142</span></li><li><span class='ee-k'>1:</span><span class='ee-v'>-6.931571904064375</span></li></ul></li><li><label class='ee-shut'>1213: [-47.38750641963855, -6.932069623793451]<input type='checkbox' class='ee-toggle'></label><ul><li><span class='ee-k'>0:</span><span class='ee-v'>-47.38750641963855</span></li><li><span class='ee-k'>1:</span><span class='ee-v'>-6.932069623793451</span></li></ul></li><li><label class='ee-shut'>1214: [-47.387855741505604, -6.932781247192145]<input type='checkbox' class='ee-toggle'></label><ul><li><span class='ee-k'>0:</span><span class='ee-v'>-47.387855741505604</span></li><li><span class='ee-k'>1:</span><span class='ee-v'>-6.932781247192145</span></li></ul></li><li><label class='ee-shut'>1215: [-47.38841436249112, -6.93404806357008]<input type='checkbox' class='ee-toggle'></label><ul><li><span class='ee-k'>0:</span><span class='ee-v'>-47.38841436249112</span></li><li><span class='ee-k'>1:</span><span class='ee-v'>-6.93404806357008</span></li></ul></li><li><label class='ee-shut'>1216: [-47.38854415530587, -6.9348594682132045]<input type='checkbox' class='ee-toggle'></label><ul><li><span class='ee-k'>0:</span><span class='ee-v'>-47.38854415530587</span></li><li><span class='ee-k'>1:</span><span class='ee-v'>-6.9348594682132045</span></li></ul></li><li><label class='ee-shut'>1217: [-47.38860901447359, -6.935262932052315]<input type='checkbox' class='ee-toggle'></label><ul><li><span class='ee-k'>0:</span><span class='ee-v'>-47.38860901447359</span></li><li><span class='ee-k'>1:</span><span class='ee-v'>-6.935262932052315</span></li></ul></li><li><label class='ee-shut'>1218: [-47.38734121176222, -6.938490590179409]<input type='checkbox' class='ee-toggle'></label><ul><li><span class='ee-k'>0:</span><span class='ee-v'>-47.38734121176222</span></li><li><span class='ee-k'>1:</span><span class='ee-v'>-6.938490590179409</span></li></ul></li><li><label class='ee-shut'>1219: [-47.38535143588691, -6.941892425016001]<input type='checkbox' class='ee-toggle'></label><ul><li><span class='ee-k'>0:</span><span class='ee-v'>-47.38535143588691</span></li><li><span class='ee-k'>1:</span><span class='ee-v'>-6.941892425016001</span></li></ul></li><li><label class='ee-shut'>1220: [-47.38093908290901, -6.94837069772292]<input type='checkbox' class='ee-toggle'></label><ul><li><span class='ee-k'>0:</span><span class='ee-v'>-47.38093908290901</span></li><li><span class='ee-k'>1:</span><span class='ee-v'>-6.94837069772292</span></li></ul></li><li><label class='ee-shut'>1221: [-47.38066840365773, -6.94988844138833]<input type='checkbox' class='ee-toggle'></label><ul><li><span class='ee-k'>0:</span><span class='ee-v'>-47.38066840365773</span></li><li><span class='ee-k'>1:</span><span class='ee-v'>-6.94988844138833</span></li></ul></li><li><label class='ee-shut'>1222: [-47.3806787885105, -6.951947752008015]<input type='checkbox' class='ee-toggle'></label><ul><li><span class='ee-k'>0:</span><span class='ee-v'>-47.3806787885105</span></li><li><span class='ee-k'>1:</span><span class='ee-v'>-6.951947752008015</span></li></ul></li><li><label class='ee-shut'>1223: [-47.37986758087261, -6.953140698062546]<input type='checkbox' class='ee-toggle'></label><ul><li><span class='ee-k'>0:</span><span class='ee-v'>-47.37986758087261</span></li><li><span class='ee-k'>1:</span><span class='ee-v'>-6.953140698062546</span></li></ul></li><li><label class='ee-shut'>1224: [-47.37910644086087, -6.954463596415292]<input type='checkbox' class='ee-toggle'></label><ul><li><span class='ee-k'>0:</span><span class='ee-v'>-47.37910644086087</span></li><li><span class='ee-k'>1:</span><span class='ee-v'>-6.954463596415292</span></li></ul></li><li><label class='ee-shut'>1225: [-47.37879423324182, -6.955761738022817]<input type='checkbox' class='ee-toggle'></label><ul><li><span class='ee-k'>0:</span><span class='ee-v'>-47.37879423324182</span></li><li><span class='ee-k'>1:</span><span class='ee-v'>-6.955761738022817</span></li></ul></li><li><label class='ee-shut'>1226: [-47.378140687694206, -6.957057169462922]<input type='checkbox' class='ee-toggle'></label><ul><li><span class='ee-k'>0:</span><span class='ee-v'>-47.378140687694206</span></li><li><span class='ee-k'>1:</span><span class='ee-v'>-6.957057169462922</span></li></ul></li><li><label class='ee-shut'>1227: [-47.37758979732457, -6.958221934327652]<input type='checkbox' class='ee-toggle'></label><ul><li><span class='ee-k'>0:</span><span class='ee-v'>-47.37758979732457</span></li><li><span class='ee-k'>1:</span><span class='ee-v'>-6.958221934327652</span></li></ul></li><li><label class='ee-shut'>1228: [-47.37754362858437, -6.958859270311984]<input type='checkbox' class='ee-toggle'></label><ul><li><span class='ee-k'>0:</span><span class='ee-v'>-47.37754362858437</span></li><li><span class='ee-k'>1:</span><span class='ee-v'>-6.958859270311984</span></li></ul></li><li><label class='ee-shut'>1229: [-47.377521366002625, -6.9597835905712895]<input type='checkbox' class='ee-toggle'></label><ul><li><span class='ee-k'>0:</span><span class='ee-v'>-47.377521366002625</span></li><li><span class='ee-k'>1:</span><span class='ee-v'>-6.9597835905712895</span></li></ul></li><li><label class='ee-shut'>1230: [-47.377789040562824, -6.960338581523849]<input type='checkbox' class='ee-toggle'></label><ul><li><span class='ee-k'>0:</span><span class='ee-v'>-47.377789040562824</span></li><li><span class='ee-k'>1:</span><span class='ee-v'>-6.960338581523849</span></li></ul></li><li><label class='ee-shut'>1231: [-47.378317147169426, -6.960887754504763]<input type='checkbox' class='ee-toggle'></label><ul><li><span class='ee-k'>0:</span><span class='ee-v'>-47.378317147169426</span></li><li><span class='ee-k'>1:</span><span class='ee-v'>-6.960887754504763</span></li></ul></li><li><label class='ee-shut'>1232: [-47.37927207079085, -6.961493094410369]<input type='checkbox' class='ee-toggle'></label><ul><li><span class='ee-k'>0:</span><span class='ee-v'>-47.37927207079085</span></li><li><span class='ee-k'>1:</span><span class='ee-v'>-6.961493094410369</span></li></ul></li><li><label class='ee-shut'>1233: [-47.37964890513101, -6.962307753257464]<input type='checkbox' class='ee-toggle'></label><ul><li><span class='ee-k'>0:</span><span class='ee-v'>-47.37964890513101</span></li><li><span class='ee-k'>1:</span><span class='ee-v'>-6.962307753257464</span></li></ul></li><li><label class='ee-shut'>1234: [-47.379706506338806, -6.96304775027663]<input type='checkbox' class='ee-toggle'></label><ul><li><span class='ee-k'>0:</span><span class='ee-v'>-47.379706506338806</span></li><li><span class='ee-k'>1:</span><span class='ee-v'>-6.96304775027663</span></li></ul></li><li><label class='ee-shut'>1235: [-47.37905489173476, -6.965612834820368]<input type='checkbox' class='ee-toggle'></label><ul><li><span class='ee-k'>0:</span><span class='ee-v'>-47.37905489173476</span></li><li><span class='ee-k'>1:</span><span class='ee-v'>-6.965612834820368</span></li></ul></li><li><label class='ee-shut'>1236: [-47.37910091240142, -6.965832410832655]<input type='checkbox' class='ee-toggle'></label><ul><li><span class='ee-k'>0:</span><span class='ee-v'>-47.37910091240142</span></li><li><span class='ee-k'>1:</span><span class='ee-v'>-6.965832410832655</span></li></ul></li><li><label class='ee-shut'>1237: [-47.3786233752609, -6.966404634786448]<input type='checkbox' class='ee-toggle'></label><ul><li><span class='ee-k'>0:</span><span class='ee-v'>-47.3786233752609</span></li><li><span class='ee-k'>1:</span><span class='ee-v'>-6.966404634786448</span></li></ul></li><li><label class='ee-shut'>1238: [-47.37667151029108, -6.967567484564171]<input type='checkbox' class='ee-toggle'></label><ul><li><span class='ee-k'>0:</span><span class='ee-v'>-47.37667151029108</span></li><li><span class='ee-k'>1:</span><span class='ee-v'>-6.967567484564171</span></li></ul></li><li><label class='ee-shut'>1239: [-47.37576750798778, -6.968155250877847]<input type='checkbox' class='ee-toggle'></label><ul><li><span class='ee-k'>0:</span><span class='ee-v'>-47.37576750798778</span></li><li><span class='ee-k'>1:</span><span class='ee-v'>-6.968155250877847</span></li></ul></li><li><label class='ee-shut'>1240: [-47.37517705006457, -6.968602361525003]<input type='checkbox' class='ee-toggle'></label><ul><li><span class='ee-k'>0:</span><span class='ee-v'>-47.37517705006457</span></li><li><span class='ee-k'>1:</span><span class='ee-v'>-6.968602361525003</span></li></ul></li><li><label class='ee-shut'>1241: [-47.37432865207974, -6.969535386370989]<input type='checkbox' class='ee-toggle'></label><ul><li><span class='ee-k'>0:</span><span class='ee-v'>-47.37432865207974</span></li><li><span class='ee-k'>1:</span><span class='ee-v'>-6.969535386370989</span></li></ul></li><li><label class='ee-shut'>1242: [-47.37331555292466, -6.970765267940999]<input type='checkbox' class='ee-toggle'></label><ul><li><span class='ee-k'>0:</span><span class='ee-v'>-47.37331555292466</span></li><li><span class='ee-k'>1:</span><span class='ee-v'>-6.970765267940999</span></li></ul></li><li><label class='ee-shut'>1243: [-47.37214680081278, -6.972283095591107]<input type='checkbox' class='ee-toggle'></label><ul><li><span class='ee-k'>0:</span><span class='ee-v'>-47.37214680081278</span></li><li><span class='ee-k'>1:</span><span class='ee-v'>-6.972283095591107</span></li></ul></li><li><label class='ee-shut'>1244: [-47.37121098146483, -6.973701040657909]<input type='checkbox' class='ee-toggle'></label><ul><li><span class='ee-k'>0:</span><span class='ee-v'>-47.37121098146483</span></li><li><span class='ee-k'>1:</span><span class='ee-v'>-6.973701040657909</span></li></ul></li><li><label class='ee-shut'>1245: [-47.370966721050664, -6.974231731318365]<input type='checkbox' class='ee-toggle'></label><ul><li><span class='ee-k'>0:</span><span class='ee-v'>-47.370966721050664</span></li><li><span class='ee-k'>1:</span><span class='ee-v'>-6.974231731318365</span></li></ul></li><li><label class='ee-shut'>1246: [-47.37100586239747, -6.974877593470669]<input type='checkbox' class='ee-toggle'></label><ul><li><span class='ee-k'>0:</span><span class='ee-v'>-47.37100586239747</span></li><li><span class='ee-k'>1:</span><span class='ee-v'>-6.974877593470669</span></li></ul></li><li><label class='ee-shut'>1247: [-47.37126984316776, -6.9755806158492275]<input type='checkbox' class='ee-toggle'></label><ul><li><span class='ee-k'>0:</span><span class='ee-v'>-47.37126984316776</span></li><li><span class='ee-k'>1:</span><span class='ee-v'>-6.9755806158492275</span></li></ul></li><li><label class='ee-shut'>1248: [-47.371596721047865, -6.976283370739978]<input type='checkbox' class='ee-toggle'></label><ul><li><span class='ee-k'>0:</span><span class='ee-v'>-47.371596721047865</span></li><li><span class='ee-k'>1:</span><span class='ee-v'>-6.976283370739978</span></li></ul></li><li><label class='ee-shut'>1249: [-47.37199135264005, -6.977968321965158]<input type='checkbox' class='ee-toggle'></label><ul><li><span class='ee-k'>0:</span><span class='ee-v'>-47.37199135264005</span></li><li><span class='ee-k'>1:</span><span class='ee-v'>-6.977968321965158</span></li></ul></li><li><label class='ee-shut'>1250: [-47.372363652165184, -6.978783014659679]<input type='checkbox' class='ee-toggle'></label><ul><li><span class='ee-k'>0:</span><span class='ee-v'>-47.372363652165184</span></li><li><span class='ee-k'>1:</span><span class='ee-v'>-6.978783014659679</span></li></ul></li><li><label class='ee-shut'>1251: [-47.37283784491463, -6.979323478199953]<input type='checkbox' class='ee-toggle'></label><ul><li><span class='ee-k'>0:</span><span class='ee-v'>-47.37283784491463</span></li><li><span class='ee-k'>1:</span><span class='ee-v'>-6.979323478199953</span></li></ul></li><li><label class='ee-shut'>1252: [-47.373608081220375, -6.979804114689299]<input type='checkbox' class='ee-toggle'></label><ul><li><span class='ee-k'>0:</span><span class='ee-v'>-47.373608081220375</span></li><li><span class='ee-k'>1:</span><span class='ee-v'>-6.979804114689299</span></li></ul></li><li><label class='ee-shut'>1253: [-47.374257834595674, -6.980433496679283]<input type='checkbox' class='ee-toggle'></label><ul><li><span class='ee-k'>0:</span><span class='ee-v'>-47.374257834595674</span></li><li><span class='ee-k'>1:</span><span class='ee-v'>-6.980433496679283</span></li></ul></li><li><label class='ee-shut'>1254: [-47.374669294492755, -6.981001197640211]<input type='checkbox' class='ee-toggle'></label><ul><li><span class='ee-k'>0:</span><span class='ee-v'>-47.374669294492755</span></li><li><span class='ee-k'>1:</span><span class='ee-v'>-6.981001197640211</span></li></ul></li><li><label class='ee-shut'>1255: [-47.37469865259485, -6.981472106738699]<input type='checkbox' class='ee-toggle'></label><ul><li><span class='ee-k'>0:</span><span class='ee-v'>-47.37469865259485</span></li><li><span class='ee-k'>1:</span><span class='ee-v'>-6.981472106738699</span></li></ul></li><li><label class='ee-shut'>1256: [-47.37449292212212, -6.982523006148787]<input type='checkbox' class='ee-toggle'></label><ul><li><span class='ee-k'>0:</span><span class='ee-v'>-47.37449292212212</span></li><li><span class='ee-k'>1:</span><span class='ee-v'>-6.982523006148787</span></li></ul></li><li><label class='ee-shut'>1257: [-47.37429675431915, -6.9836904956333985]<input type='checkbox' class='ee-toggle'></label><ul><li><span class='ee-k'>0:</span><span class='ee-v'>-47.37429675431915</span></li><li><span class='ee-k'>1:</span><span class='ee-v'>-6.9836904956333985</span></li></ul></li><li><label class='ee-shut'>1258: [-47.37428024518145, -6.984879480561806]<input type='checkbox' class='ee-toggle'></label><ul><li><span class='ee-k'>0:</span><span class='ee-v'>-47.37428024518145</span></li><li><span class='ee-k'>1:</span><span class='ee-v'>-6.984879480561806</span></li></ul></li><li><label class='ee-shut'>1259: [-47.374509804838986, -6.985878819961231]<input type='checkbox' class='ee-toggle'></label><ul><li><span class='ee-k'>0:</span><span class='ee-v'>-47.374509804838986</span></li><li><span class='ee-k'>1:</span><span class='ee-v'>-6.985878819961231</span></li></ul></li><li><label class='ee-shut'>1260: [-47.374571882486705, -6.986609839327388]<input type='checkbox' class='ee-toggle'></label><ul><li><span class='ee-k'>0:</span><span class='ee-v'>-47.374571882486705</span></li><li><span class='ee-k'>1:</span><span class='ee-v'>-6.986609839327388</span></li></ul></li><li><label class='ee-shut'>1261: [-47.374471482573675, -6.987184618935964]<input type='checkbox' class='ee-toggle'></label><ul><li><span class='ee-k'>0:</span><span class='ee-v'>-47.374471482573675</span></li><li><span class='ee-k'>1:</span><span class='ee-v'>-6.987184618935964</span></li></ul></li><li><label class='ee-shut'>1262: [-47.37409969083721, -6.9882497522699705]<input type='checkbox' class='ee-toggle'></label><ul><li><span class='ee-k'>0:</span><span class='ee-v'>-47.37409969083721</span></li><li><span class='ee-k'>1:</span><span class='ee-v'>-6.9882497522699705</span></li></ul></li><li><label class='ee-shut'>1263: [-47.3740100488641, -6.989174459452255]<input type='checkbox' class='ee-toggle'></label><ul><li><span class='ee-k'>0:</span><span class='ee-v'>-47.3740100488641</span></li><li><span class='ee-k'>1:</span><span class='ee-v'>-6.989174459452255</span></li></ul></li><li><label class='ee-shut'>1264: [-47.3742239946295, -6.989738665408181]<input type='checkbox' class='ee-toggle'></label><ul><li><span class='ee-k'>0:</span><span class='ee-v'>-47.3742239946295</span></li><li><span class='ee-k'>1:</span><span class='ee-v'>-6.989738665408181</span></li></ul></li><li><label class='ee-shut'>1265: [-47.374632764969064, -6.990660829725128]<input type='checkbox' class='ee-toggle'></label><ul><li><span class='ee-k'>0:</span><span class='ee-v'>-47.374632764969064</span></li><li><span class='ee-k'>1:</span><span class='ee-v'>-6.990660829725128</span></li></ul></li><li><label class='ee-shut'>1266: [-47.374566429212635, -6.991751397889131]<input type='checkbox' class='ee-toggle'></label><ul><li><span class='ee-k'>0:</span><span class='ee-v'>-47.374566429212635</span></li><li><span class='ee-k'>1:</span><span class='ee-v'>-6.991751397889131</span></li></ul></li><li><label class='ee-shut'>1267: [-47.374122101354686, -6.992677846298777]<input type='checkbox' class='ee-toggle'></label><ul><li><span class='ee-k'>0:</span><span class='ee-v'>-47.374122101354686</span></li><li><span class='ee-k'>1:</span><span class='ee-v'>-6.992677846298777</span></li></ul></li><li><label class='ee-shut'>1268: [-47.37367478925722, -6.993021121773316]<input type='checkbox' class='ee-toggle'></label><ul><li><span class='ee-k'>0:</span><span class='ee-v'>-47.37367478925722</span></li><li><span class='ee-k'>1:</span><span class='ee-v'>-6.993021121773316</span></li></ul></li><li><label class='ee-shut'>1269: [-47.37343768851665, -6.9932017487675]<input type='checkbox' class='ee-toggle'></label><ul><li><span class='ee-k'>0:</span><span class='ee-v'>-47.37343768851665</span></li><li><span class='ee-k'>1:</span><span class='ee-v'>-6.9932017487675</span></li></ul></li><li><label class='ee-shut'>1270: [-47.37277614284029, -6.993797293192258]<input type='checkbox' class='ee-toggle'></label><ul><li><span class='ee-k'>0:</span><span class='ee-v'>-47.37277614284029</span></li><li><span class='ee-k'>1:</span><span class='ee-v'>-6.993797293192258</span></li></ul></li><li><label class='ee-shut'>1271: [-47.37264018937612, -6.994435069707245]<input type='checkbox' class='ee-toggle'></label><ul><li><span class='ee-k'>0:</span><span class='ee-v'>-47.37264018937612</span></li><li><span class='ee-k'>1:</span><span class='ee-v'>-6.994435069707245</span></li></ul></li><li><label class='ee-shut'>1272: [-47.37271675653053, -6.995381325935553]<input type='checkbox' class='ee-toggle'></label><ul><li><span class='ee-k'>0:</span><span class='ee-v'>-47.37271675653053</span></li><li><span class='ee-k'>1:</span><span class='ee-v'>-6.995381325935553</span></li></ul></li><li><label class='ee-shut'>1273: [-47.372816181950384, -6.996399253967348]<input type='checkbox' class='ee-toggle'></label><ul><li><span class='ee-k'>0:</span><span class='ee-v'>-47.372816181950384</span></li><li><span class='ee-k'>1:</span><span class='ee-v'>-6.996399253967348</span></li></ul></li><li><label class='ee-shut'>1274: [-47.373102656708454, -6.99710668609616]<input type='checkbox' class='ee-toggle'></label><ul><li><span class='ee-k'>0:</span><span class='ee-v'>-47.373102656708454</span></li><li><span class='ee-k'>1:</span><span class='ee-v'>-6.99710668609616</span></li></ul></li><li><label class='ee-shut'>1275: [-47.373746203555214, -6.998265449599143]<input type='checkbox' class='ee-toggle'></label><ul><li><span class='ee-k'>0:</span><span class='ee-v'>-47.373746203555214</span></li><li><span class='ee-k'>1:</span><span class='ee-v'>-6.998265449599143</span></li></ul></li><li><label class='ee-shut'>1276: [-47.37388462506329, -6.999009508626594]<input type='checkbox' class='ee-toggle'></label><ul><li><span class='ee-k'>0:</span><span class='ee-v'>-47.37388462506329</span></li><li><span class='ee-k'>1:</span><span class='ee-v'>-6.999009508626594</span></li></ul></li><li><label class='ee-shut'>1277: [-47.373845406843536, -6.999234088627992]<input type='checkbox' class='ee-toggle'></label><ul><li><span class='ee-k'>0:</span><span class='ee-v'>-47.373845406843536</span></li><li><span class='ee-k'>1:</span><span class='ee-v'>-6.999234088627992</span></li></ul></li><li><label class='ee-shut'>1278: [-47.3737930412287, -6.999539396795471]<input type='checkbox' class='ee-toggle'></label><ul><li><span class='ee-k'>0:</span><span class='ee-v'>-47.3737930412287</span></li><li><span class='ee-k'>1:</span><span class='ee-v'>-6.999539396795471</span></li></ul></li><li><label class='ee-shut'>1279: [-47.37342461588604, -7.00039370533458]<input type='checkbox' class='ee-toggle'></label><ul><li><span class='ee-k'>0:</span><span class='ee-v'>-47.37342461588604</span></li><li><span class='ee-k'>1:</span><span class='ee-v'>-7.00039370533458</span></li></ul></li><li><label class='ee-shut'>1280: [-47.37322030977259, -7.000838903889821]<input type='checkbox' class='ee-toggle'></label><ul><li><span class='ee-k'>0:</span><span class='ee-v'>-47.37322030977259</span></li><li><span class='ee-k'>1:</span><span class='ee-v'>-7.000838903889821</span></li></ul></li><li><label class='ee-shut'>1281: [-47.37318191375916, -7.001238390716857]<input type='checkbox' class='ee-toggle'></label><ul><li><span class='ee-k'>0:</span><span class='ee-v'>-47.37318191375916</span></li><li><span class='ee-k'>1:</span><span class='ee-v'>-7.001238390716857</span></li></ul></li><li><label class='ee-shut'>1282: [-47.37318475237396, -7.001799215594967]<input type='checkbox' class='ee-toggle'></label><ul><li><span class='ee-k'>0:</span><span class='ee-v'>-47.37318475237396</span></li><li><span class='ee-k'>1:</span><span class='ee-v'>-7.001799215594967</span></li></ul></li><li><label class='ee-shut'>1283: [-47.3732274810156, -7.002256580773052]<input type='checkbox' class='ee-toggle'></label><ul><li><span class='ee-k'>0:</span><span class='ee-v'>-47.3732274810156</span></li><li><span class='ee-k'>1:</span><span class='ee-v'>-7.002256580773052</span></li></ul></li><li><label class='ee-shut'>1284: [-47.37340026345149, -7.002677450024732]<input type='checkbox' class='ee-toggle'></label><ul><li><span class='ee-k'>0:</span><span class='ee-v'>-47.37340026345149</span></li><li><span class='ee-k'>1:</span><span class='ee-v'>-7.002677450024732</span></li></ul></li><li><label class='ee-shut'>1285: [-47.373671278305785, -7.002985686448428]<input type='checkbox' class='ee-toggle'></label><ul><li><span class='ee-k'>0:</span><span class='ee-v'>-47.373671278305785</span></li><li><span class='ee-k'>1:</span><span class='ee-v'>-7.002985686448428</span></li></ul></li><li><label class='ee-shut'>1286: [-47.37400056176434, -7.003289107420135]<input type='checkbox' class='ee-toggle'></label><ul><li><span class='ee-k'>0:</span><span class='ee-v'>-47.37400056176434</span></li><li><span class='ee-k'>1:</span><span class='ee-v'>-7.003289107420135</span></li></ul></li><li><label class='ee-shut'>1287: [-47.37446468466991, -7.003596305210173]<input type='checkbox' class='ee-toggle'></label><ul><li><span class='ee-k'>0:</span><span class='ee-v'>-47.37446468466991</span></li><li><span class='ee-k'>1:</span><span class='ee-v'>-7.003596305210173</span></li></ul></li><li><label class='ee-shut'>1288: [-47.375040866200926, -7.003880544477836]<input type='checkbox' class='ee-toggle'></label><ul><li><span class='ee-k'>0:</span><span class='ee-v'>-47.375040866200926</span></li><li><span class='ee-k'>1:</span><span class='ee-v'>-7.003880544477836</span></li></ul></li><li><label class='ee-shut'>1289: [-47.37535544175521, -7.003923797691812]<input type='checkbox' class='ee-toggle'></label><ul><li><span class='ee-k'>0:</span><span class='ee-v'>-47.37535544175521</span></li><li><span class='ee-k'>1:</span><span class='ee-v'>-7.003923797691812</span></li></ul></li><li><label class='ee-shut'>1290: [-47.3755980793438, -7.003953983299759]<input type='checkbox' class='ee-toggle'></label><ul><li><span class='ee-k'>0:</span><span class='ee-v'>-47.3755980793438</span></li><li><span class='ee-k'>1:</span><span class='ee-v'>-7.003953983299759</span></li></ul></li><li><label class='ee-shut'>1291: [-47.377124749997606, -7.006597802451688]<input type='checkbox' class='ee-toggle'></label><ul><li><span class='ee-k'>0:</span><span class='ee-v'>-47.377124749997606</span></li><li><span class='ee-k'>1:</span><span class='ee-v'>-7.006597802451688</span></li></ul></li><li><label class='ee-shut'>1292: [-47.37843675446221, -7.0102925093225545]<input type='checkbox' class='ee-toggle'></label><ul><li><span class='ee-k'>0:</span><span class='ee-v'>-47.37843675446221</span></li><li><span class='ee-k'>1:</span><span class='ee-v'>-7.0102925093225545</span></li></ul></li><li><label class='ee-shut'>1293: [-47.37756260408103, -7.020328759481598]<input type='checkbox' class='ee-toggle'></label><ul><li><span class='ee-k'>0:</span><span class='ee-v'>-47.37756260408103</span></li><li><span class='ee-k'>1:</span><span class='ee-v'>-7.020328759481598</span></li></ul></li><li><label class='ee-shut'>1294: [-47.371116115662815, -7.028697332607966]<input type='checkbox' class='ee-toggle'></label><ul><li><span class='ee-k'>0:</span><span class='ee-v'>-47.371116115662815</span></li><li><span class='ee-k'>1:</span><span class='ee-v'>-7.028697332607966</span></li></ul></li><li><label class='ee-shut'>1295: [-47.36773975303913, -7.029710433463876]<input type='checkbox' class='ee-toggle'></label><ul><li><span class='ee-k'>0:</span><span class='ee-v'>-47.36773975303913</span></li><li><span class='ee-k'>1:</span><span class='ee-v'>-7.029710433463876</span></li></ul></li><li><label class='ee-shut'>1296: [-47.36459439563449, -7.030219886868918]<input type='checkbox' class='ee-toggle'></label><ul><li><span class='ee-k'>0:</span><span class='ee-v'>-47.36459439563449</span></li><li><span class='ee-k'>1:</span><span class='ee-v'>-7.030219886868918</span></li></ul></li><li><label class='ee-shut'>1297: [-47.36345698419875, -7.0308627081287955]<input type='checkbox' class='ee-toggle'></label><ul><li><span class='ee-k'>0:</span><span class='ee-v'>-47.36345698419875</span></li><li><span class='ee-k'>1:</span><span class='ee-v'>-7.0308627081287955</span></li></ul></li><li><label class='ee-shut'>1298: [-47.36256105405776, -7.031306880726948]<input type='checkbox' class='ee-toggle'></label><ul><li><span class='ee-k'>0:</span><span class='ee-v'>-47.36256105405776</span></li><li><span class='ee-k'>1:</span><span class='ee-v'>-7.031306880726948</span></li></ul></li><li><label class='ee-shut'>1299: [-47.36160613922194, -7.031616768998239]<input type='checkbox' class='ee-toggle'></label><ul><li><span class='ee-k'>0:</span><span class='ee-v'>-47.36160613922194</span></li><li><span class='ee-k'>1:</span><span class='ee-v'>-7.031616768998239</span></li></ul></li><li><label class='ee-shut'>1300: [-47.36087991981359, -7.031876197415268]<input type='checkbox' class='ee-toggle'></label><ul><li><span class='ee-k'>0:</span><span class='ee-v'>-47.36087991981359</span></li><li><span class='ee-k'>1:</span><span class='ee-v'>-7.031876197415268</span></li></ul></li><li><label class='ee-shut'>1301: [-47.3605624447377, -7.032151455827989]<input type='checkbox' class='ee-toggle'></label><ul><li><span class='ee-k'>0:</span><span class='ee-v'>-47.3605624447377</span></li><li><span class='ee-k'>1:</span><span class='ee-v'>-7.032151455827989</span></li></ul></li><li><label class='ee-shut'>1302: [-47.360078655593426, -7.032382695654754]<input type='checkbox' class='ee-toggle'></label><ul><li><span class='ee-k'>0:</span><span class='ee-v'>-47.360078655593426</span></li><li><span class='ee-k'>1:</span><span class='ee-v'>-7.032382695654754</span></li></ul></li><li><label class='ee-shut'>1303: [-47.35918129021237, -7.032539781789424]<input type='checkbox' class='ee-toggle'></label><ul><li><span class='ee-k'>0:</span><span class='ee-v'>-47.35918129021237</span></li><li><span class='ee-k'>1:</span><span class='ee-v'>-7.032539781789424</span></li></ul></li><li><label class='ee-shut'>1304: [-47.358391851535075, -7.03272322149268]<input type='checkbox' class='ee-toggle'></label><ul><li><span class='ee-k'>0:</span><span class='ee-v'>-47.358391851535075</span></li><li><span class='ee-k'>1:</span><span class='ee-v'>-7.03272322149268</span></li></ul></li><li><label class='ee-shut'>1305: [-47.357544474817736, -7.0330011697419055]<input type='checkbox' class='ee-toggle'></label><ul><li><span class='ee-k'>0:</span><span class='ee-v'>-47.357544474817736</span></li><li><span class='ee-k'>1:</span><span class='ee-v'>-7.0330011697419055</span></li></ul></li><li><label class='ee-shut'>1306: [-47.35669778403946, -7.033400283143971]<input type='checkbox' class='ee-toggle'></label><ul><li><span class='ee-k'>0:</span><span class='ee-v'>-47.35669778403946</span></li><li><span class='ee-k'>1:</span><span class='ee-v'>-7.033400283143971</span></li></ul></li><li><label class='ee-shut'>1307: [-47.35606206561052, -7.03379828811765]<input type='checkbox' class='ee-toggle'></label><ul><li><span class='ee-k'>0:</span><span class='ee-v'>-47.35606206561052</span></li><li><span class='ee-k'>1:</span><span class='ee-v'>-7.03379828811765</span></li></ul></li><li><label class='ee-shut'>1308: [-47.355515815487585, -7.034119587373657]<input type='checkbox' class='ee-toggle'></label><ul><li><span class='ee-k'>0:</span><span class='ee-v'>-47.355515815487585</span></li><li><span class='ee-k'>1:</span><span class='ee-v'>-7.034119587373657</span></li></ul></li><li><label class='ee-shut'>1309: [-47.35490565007784, -7.034230341008417]<input type='checkbox' class='ee-toggle'></label><ul><li><span class='ee-k'>0:</span><span class='ee-v'>-47.35490565007784</span></li><li><span class='ee-k'>1:</span><span class='ee-v'>-7.034230341008417</span></li></ul></li><li><label class='ee-shut'>1310: [-47.35414689241439, -7.034265552817593]<input type='checkbox' class='ee-toggle'></label><ul><li><span class='ee-k'>0:</span><span class='ee-v'>-47.35414689241439</span></li><li><span class='ee-k'>1:</span><span class='ee-v'>-7.034265552817593</span></li></ul></li><li><label class='ee-shut'>1311: [-47.35341920936965, -7.034237814776883]<input type='checkbox' class='ee-toggle'></label><ul><li><span class='ee-k'>0:</span><span class='ee-v'>-47.35341920936965</span></li><li><span class='ee-k'>1:</span><span class='ee-v'>-7.034237814776883</span></li></ul></li><li><label class='ee-shut'>1312: [-47.352767551551466, -7.034133390591673]<input type='checkbox' class='ee-toggle'></label><ul><li><span class='ee-k'>0:</span><span class='ee-v'>-47.352767551551466</span></li><li><span class='ee-k'>1:</span><span class='ee-v'>-7.034133390591673</span></li></ul></li><li><label class='ee-shut'>1313: [-47.35227726415587, -7.033983325245272]<input type='checkbox' class='ee-toggle'></label><ul><li><span class='ee-k'>0:</span><span class='ee-v'>-47.35227726415587</span></li><li><span class='ee-k'>1:</span><span class='ee-v'>-7.033983325245272</span></li></ul></li><li><label class='ee-shut'>1314: [-47.35168341479886, -7.033775405807454]<input type='checkbox' class='ee-toggle'></label><ul><li><span class='ee-k'>0:</span><span class='ee-v'>-47.35168341479886</span></li><li><span class='ee-k'>1:</span><span class='ee-v'>-7.033775405807454</span></li></ul></li><li><label class='ee-shut'>1315: [-47.35103177880357, -7.033671048546198]<input type='checkbox' class='ee-toggle'></label><ul><li><span class='ee-k'>0:</span><span class='ee-v'>-47.35103177880357</span></li><li><span class='ee-k'>1:</span><span class='ee-v'>-7.033671048546198</span></li></ul></li><li><label class='ee-shut'>1316: [-47.35042502621795, -7.033584355159147]<input type='checkbox' class='ee-toggle'></label><ul><li><span class='ee-k'>0:</span><span class='ee-v'>-47.35042502621795</span></li><li><span class='ee-k'>1:</span><span class='ee-v'>-7.033584355159147</span></li></ul></li><li><label class='ee-shut'>1317: [-47.34996664376076, -7.033510352717997]<input type='checkbox' class='ee-toggle'></label><ul><li><span class='ee-k'>0:</span><span class='ee-v'>-47.34996664376076</span></li><li><span class='ee-k'>1:</span><span class='ee-v'>-7.033510352717997</span></li></ul></li><li><label class='ee-shut'>1318: [-47.34922580353926, -7.03354546907071]<input type='checkbox' class='ee-toggle'></label><ul><li><span class='ee-k'>0:</span><span class='ee-v'>-47.34922580353926</span></li><li><span class='ee-k'>1:</span><span class='ee-v'>-7.03354546907071</span></li></ul></li><li><label class='ee-shut'>1319: [-47.34872315522876, -7.033606363493408]<input type='checkbox' class='ee-toggle'></label><ul><li><span class='ee-k'>0:</span><span class='ee-v'>-47.34872315522876</span></li><li><span class='ee-k'>1:</span><span class='ee-v'>-7.033606363493408</span></li></ul></li><li><label class='ee-shut'>1320: [-47.34785756923101, -7.033826069236345]<input type='checkbox' class='ee-toggle'></label><ul><li><span class='ee-k'>0:</span><span class='ee-v'>-47.34785756923101</span></li><li><span class='ee-k'>1:</span><span class='ee-v'>-7.033826069236345</span></li></ul></li><li><label class='ee-shut'>1321: [-47.34700939409621, -7.033951406002405]<input type='checkbox' class='ee-toggle'></label><ul><li><span class='ee-k'>0:</span><span class='ee-v'>-47.34700939409621</span></li><li><span class='ee-k'>1:</span><span class='ee-v'>-7.033951406002405</span></li></ul></li><li><label class='ee-shut'>1322: [-47.34630898810632, -7.033986355965234]<input type='checkbox' class='ee-toggle'></label><ul><li><span class='ee-k'>0:</span><span class='ee-v'>-47.34630898810632</span></li><li><span class='ee-k'>1:</span><span class='ee-v'>-7.033986355965234</span></li></ul></li><li><label class='ee-shut'>1323: [-47.34574738596397, -7.033926380631546]<input type='checkbox' class='ee-toggle'></label><ul><li><span class='ee-k'>0:</span><span class='ee-v'>-47.34574738596397</span></li><li><span class='ee-k'>1:</span><span class='ee-v'>-7.033926380631546</span></li></ul></li><li><label class='ee-shut'>1324: [-47.34515368609054, -7.033745396325025]<input type='checkbox' class='ee-toggle'></label><ul><li><span class='ee-k'>0:</span><span class='ee-v'>-47.34515368609054</span></li><li><span class='ee-k'>1:</span><span class='ee-v'>-7.033745396325025</span></li></ul></li><li><label class='ee-shut'>1325: [-47.344514525609405, -7.033461437547545]<input type='checkbox' class='ee-toggle'></label><ul><li><span class='ee-k'>0:</span><span class='ee-v'>-47.344514525609405</span></li><li><span class='ee-k'>1:</span><span class='ee-v'>-7.033461437547545</span></li></ul></li><li><label class='ee-shut'>1326: [-47.3434212293128, -7.033058641048105]<input type='checkbox' class='ee-toggle'></label><ul><li><span class='ee-k'>0:</span><span class='ee-v'>-47.3434212293128</span></li><li><span class='ee-k'>1:</span><span class='ee-v'>-7.033058641048105</span></li></ul></li><li><label class='ee-shut'>1327: [-47.34275058512817, -7.032756886483188]<input type='checkbox' class='ee-toggle'></label><ul><li><span class='ee-k'>0:</span><span class='ee-v'>-47.34275058512817</span></li><li><span class='ee-k'>1:</span><span class='ee-v'>-7.032756886483188</span></li></ul></li><li><label class='ee-shut'>1328: [-47.342340647600366, -7.032503219506997]<input type='checkbox' class='ee-toggle'></label><ul><li><span class='ee-k'>0:</span><span class='ee-v'>-47.342340647600366</span></li><li><span class='ee-k'>1:</span><span class='ee-v'>-7.032503219506997</span></li></ul></li><li><label class='ee-shut'>1329: [-47.34192601002808, -7.032200184235765]<input type='checkbox' class='ee-toggle'></label><ul><li><span class='ee-k'>0:</span><span class='ee-v'>-47.34192601002808</span></li><li><span class='ee-k'>1:</span><span class='ee-v'>-7.032200184235765</span></li></ul></li><li><label class='ee-shut'>1330: [-47.34143940862604, -7.031884104610875]<input type='checkbox' class='ee-toggle'></label><ul><li><span class='ee-k'>0:</span><span class='ee-v'>-47.34143940862604</span></li><li><span class='ee-k'>1:</span><span class='ee-v'>-7.031884104610875</span></li></ul></li><li><label class='ee-shut'>1331: [-47.34087696342168, -7.031658111432334]<input type='checkbox' class='ee-toggle'></label><ul><li><span class='ee-k'>0:</span><span class='ee-v'>-47.34087696342168</span></li><li><span class='ee-k'>1:</span><span class='ee-v'>-7.031658111432334</span></li></ul></li><li><label class='ee-shut'>1332: [-47.340193287920485, -7.03145064775267]<input type='checkbox' class='ee-toggle'></label><ul><li><span class='ee-k'>0:</span><span class='ee-v'>-47.340193287920485</span></li><li><span class='ee-k'>1:</span><span class='ee-v'>-7.03145064775267</span></li></ul></li><li><label class='ee-shut'>1333: [-47.33944668994184, -7.031225526622167]<input type='checkbox' class='ee-toggle'></label><ul><li><span class='ee-k'>0:</span><span class='ee-v'>-47.33944668994184</span></li><li><span class='ee-k'>1:</span><span class='ee-v'>-7.031225526622167</span></li></ul></li><li><label class='ee-shut'>1334: [-47.33864254705262, -7.031171199523601]<input type='checkbox' class='ee-toggle'></label><ul><li><span class='ee-k'>0:</span><span class='ee-v'>-47.33864254705262</span></li><li><span class='ee-k'>1:</span><span class='ee-v'>-7.031171199523601</span></li></ul></li><li><label class='ee-shut'>1335: [-47.33802287583341, -7.031174296457645]<input type='checkbox' class='ee-toggle'></label><ul><li><span class='ee-k'>0:</span><span class='ee-v'>-47.33802287583341</span></li><li><span class='ee-k'>1:</span><span class='ee-v'>-7.031174296457645</span></li></ul></li><li><label class='ee-shut'>1336: [-47.337834236277736, -7.031175291347106]<input type='checkbox' class='ee-toggle'></label><ul><li><span class='ee-k'>0:</span><span class='ee-v'>-47.337834236277736</span></li><li><span class='ee-k'>1:</span><span class='ee-v'>-7.031175291347106</span></li></ul></li><li><label class='ee-shut'>1337: [-47.33704825796615, -7.031161218836432]<input type='checkbox' class='ee-toggle'></label><ul><li><span class='ee-k'>0:</span><span class='ee-v'>-47.33704825796615</span></li><li><span class='ee-k'>1:</span><span class='ee-v'>-7.031161218836432</span></li></ul></li><li><label class='ee-shut'>1338: [-47.336270950659255, -7.031075390489739]<input type='checkbox' class='ee-toggle'></label><ul><li><span class='ee-k'>0:</span><span class='ee-v'>-47.336270950659255</span></li><li><span class='ee-k'>1:</span><span class='ee-v'>-7.031075390489739</span></li></ul></li><li><label class='ee-shut'>1339: [-47.335479845493246, -7.030926792442638]<input type='checkbox' class='ee-toggle'></label><ul><li><span class='ee-k'>0:</span><span class='ee-v'>-47.335479845493246</span></li><li><span class='ee-k'>1:</span><span class='ee-v'>-7.030926792442638</span></li></ul></li><li><label class='ee-shut'>1340: [-47.33507115983472, -7.030928799736307]<input type='checkbox' class='ee-toggle'></label><ul><li><span class='ee-k'>0:</span><span class='ee-v'>-47.33507115983472</span></li><li><span class='ee-k'>1:</span><span class='ee-v'>-7.030928799736307</span></li></ul></li><li><label class='ee-shut'>1341: [-47.33440256451658, -7.031039818952443]<input type='checkbox' class='ee-toggle'></label><ul><li><span class='ee-k'>0:</span><span class='ee-v'>-47.33440256451658</span></li><li><span class='ee-k'>1:</span><span class='ee-v'>-7.031039818952443</span></li></ul></li><li><label class='ee-shut'>1342: [-47.333873113614324, -7.0311322335962085]<input type='checkbox' class='ee-toggle'></label><ul><li><span class='ee-k'>0:</span><span class='ee-v'>-47.333873113614324</span></li><li><span class='ee-k'>1:</span><span class='ee-v'>-7.0311322335962085</span></li></ul></li><li><label class='ee-shut'>1343: [-47.33312839816805, -7.0312884881944795]<input type='checkbox' class='ee-toggle'></label><ul><li><span class='ee-k'>0:</span><span class='ee-v'>-47.33312839816805</span></li><li><span class='ee-k'>1:</span><span class='ee-v'>-7.0312884881944795</span></li></ul></li><li><label class='ee-shut'>1344: [-47.332370108660804, -7.031413396073647]<input type='checkbox' class='ee-toggle'></label><ul><li><span class='ee-k'>0:</span><span class='ee-v'>-47.332370108660804</span></li><li><span class='ee-k'>1:</span><span class='ee-v'>-7.031413396073647</span></li></ul></li><li><label class='ee-shut'>1345: [-47.331687739704066, -7.0314616347028105]<input type='checkbox' class='ee-toggle'></label><ul><li><span class='ee-k'>0:</span><span class='ee-v'>-47.331687739704066</span></li><li><span class='ee-k'>1:</span><span class='ee-v'>-7.0314616347028105</span></li></ul></li><li><label class='ee-shut'>1346: [-47.330654500044815, -7.031390528414118]<input type='checkbox' class='ee-toggle'></label><ul><li><span class='ee-k'>0:</span><span class='ee-v'>-47.330654500044815</span></li><li><span class='ee-k'>1:</span><span class='ee-v'>-7.031390528414118</span></li></ul></li><li><label class='ee-shut'>1347: [-47.32971002522582, -7.031108111536035]<input type='checkbox' class='ee-toggle'></label><ul><li><span class='ee-k'>0:</span><span class='ee-v'>-47.32971002522582</span></li><li><span class='ee-k'>1:</span><span class='ee-v'>-7.031108111536035</span></li></ul></li><li><label class='ee-shut'>1348: [-47.327990996900475, -7.030403243321648]<input type='checkbox' class='ee-toggle'></label><ul><li><span class='ee-k'>0:</span><span class='ee-v'>-47.327990996900475</span></li><li><span class='ee-k'>1:</span><span class='ee-v'>-7.030403243321648</span></li></ul></li><li><label class='ee-shut'>1349: [-47.32648301302192, -7.0296838777098625]<input type='checkbox' class='ee-toggle'></label><ul><li><span class='ee-k'>0:</span><span class='ee-v'>-47.32648301302192</span></li><li><span class='ee-k'>1:</span><span class='ee-v'>-7.0296838777098625</span></li></ul></li><li><label class='ee-shut'>1350: [-47.325403008608866, -7.029249543477315]<input type='checkbox' class='ee-toggle'></label><ul><li><span class='ee-k'>0:</span><span class='ee-v'>-47.325403008608866</span></li><li><span class='ee-k'>1:</span><span class='ee-v'>-7.029249543477315</span></li></ul></li><li><label class='ee-shut'>1351: [-47.324885366773835, -7.029009836712484]<input type='checkbox' class='ee-toggle'></label><ul><li><span class='ee-k'>0:</span><span class='ee-v'>-47.324885366773835</span></li><li><span class='ee-k'>1:</span><span class='ee-v'>-7.029009836712484</span></li></ul></li><li><label class='ee-shut'>1352: [-47.3246107261492, -7.028858680924254]<input type='checkbox' class='ee-toggle'></label><ul><li><span class='ee-k'>0:</span><span class='ee-v'>-47.3246107261492</span></li><li><span class='ee-k'>1:</span><span class='ee-v'>-7.028858680924254</span></li></ul></li><li><label class='ee-shut'>1353: [-47.324304294607266, -7.028644839618127]<input type='checkbox' class='ee-toggle'></label><ul><li><span class='ee-k'>0:</span><span class='ee-v'>-47.324304294607266</span></li><li><span class='ee-k'>1:</span><span class='ee-v'>-7.028644839618127</span></li></ul></li><li><label class='ee-shut'>1354: [-47.32380472403524, -7.028436474252494]<input type='checkbox' class='ee-toggle'></label><ul><li><span class='ee-k'>0:</span><span class='ee-v'>-47.32380472403524</span></li><li><span class='ee-k'>1:</span><span class='ee-v'>-7.028436474252494</span></li></ul></li><li><label class='ee-shut'>1355: [-47.32275231313415, -7.028123129285708]<input type='checkbox' class='ee-toggle'></label><ul><li><span class='ee-k'>0:</span><span class='ee-v'>-47.32275231313415</span></li><li><span class='ee-k'>1:</span><span class='ee-v'>-7.028123129285708</span></li></ul></li><li><label class='ee-shut'>1356: [-47.32229730988559, -7.027838211046159]<input type='checkbox' class='ee-toggle'></label><ul><li><span class='ee-k'>0:</span><span class='ee-v'>-47.32229730988559</span></li><li><span class='ee-k'>1:</span><span class='ee-v'>-7.027838211046159</span></li></ul></li><li><label class='ee-shut'>1357: [-47.32185581802044, -7.027553293562713]<input type='checkbox' class='ee-toggle'></label><ul><li><span class='ee-k'>0:</span><span class='ee-v'>-47.32185581802044</span></li><li><span class='ee-k'>1:</span><span class='ee-v'>-7.027553293562713</span></li></ul></li><li><label class='ee-shut'>1358: [-47.32144574739205, -7.027263686433663]<input type='checkbox' class='ee-toggle'></label><ul><li><span class='ee-k'>0:</span><span class='ee-v'>-47.32144574739205</span></li><li><span class='ee-k'>1:</span><span class='ee-v'>-7.027263686433663</span></li></ul></li><li><label class='ee-shut'>1359: [-47.32094135378213, -7.02697899835122]<input type='checkbox' class='ee-toggle'></label><ul><li><span class='ee-k'>0:</span><span class='ee-v'>-47.32094135378213</span></li><li><span class='ee-k'>1:</span><span class='ee-v'>-7.02697899835122</span></li></ul></li><li><label class='ee-shut'>1360: [-47.31991661185166, -7.025907281633438]<input type='checkbox' class='ee-toggle'></label><ul><li><span class='ee-k'>0:</span><span class='ee-v'>-47.31991661185166</span></li><li><span class='ee-k'>1:</span><span class='ee-v'>-7.025907281633438</span></li></ul></li><li><label class='ee-shut'>1361: [-47.31924798838442, -7.025107462986343]<input type='checkbox' class='ee-toggle'></label><ul><li><span class='ee-k'>0:</span><span class='ee-v'>-47.31924798838442</span></li><li><span class='ee-k'>1:</span><span class='ee-v'>-7.025107462986343</span></li></ul></li><li><label class='ee-shut'>1362: [-47.31840908709947, -7.024380317734309]<input type='checkbox' class='ee-toggle'></label><ul><li><span class='ee-k'>0:</span><span class='ee-v'>-47.31840908709947</span></li><li><span class='ee-k'>1:</span><span class='ee-v'>-7.024380317734309</span></li></ul></li><li><label class='ee-shut'>1363: [-47.31787248694386, -7.0239387780401845]<input type='checkbox' class='ee-toggle'></label><ul><li><span class='ee-k'>0:</span><span class='ee-v'>-47.31787248694386</span></li><li><span class='ee-k'>1:</span><span class='ee-v'>-7.0239387780401845</span></li></ul></li><li><label class='ee-shut'>1364: [-47.31734036954887, -7.023492759252727]<input type='checkbox' class='ee-toggle'></label><ul><li><span class='ee-k'>0:</span><span class='ee-v'>-47.31734036954887</span></li><li><span class='ee-k'>1:</span><span class='ee-v'>-7.023492759252727</span></li></ul></li><li><label class='ee-shut'>1365: [-47.3168888463758, -7.022992486005029]<input type='checkbox' class='ee-toggle'></label><ul><li><span class='ee-k'>0:</span><span class='ee-v'>-47.3168888463758</span></li><li><span class='ee-k'>1:</span><span class='ee-v'>-7.022992486005029</span></li></ul></li><li><label class='ee-shut'>1366: [-47.31671274519839, -7.022795940731578]<input type='checkbox' class='ee-toggle'></label><ul><li><span class='ee-k'>0:</span><span class='ee-v'>-47.31671274519839</span></li><li><span class='ee-k'>1:</span><span class='ee-v'>-7.022795940731578</span></li></ul></li><li><label class='ee-shut'>1367: [-47.31529873417112, -7.022013226708935]<input type='checkbox' class='ee-toggle'></label><ul><li><span class='ee-k'>0:</span><span class='ee-v'>-47.31529873417112</span></li><li><span class='ee-k'>1:</span><span class='ee-v'>-7.022013226708935</span></li></ul></li><li><label class='ee-shut'>1368: [-47.3146408404744, -7.021563339965754]<input type='checkbox' class='ee-toggle'></label><ul><li><span class='ee-k'>0:</span><span class='ee-v'>-47.3146408404744</span></li><li><span class='ee-k'>1:</span><span class='ee-v'>-7.021563339965754</span></li></ul></li><li><label class='ee-shut'>1369: [-47.313027667119044, -7.020449648045324]<input type='checkbox' class='ee-toggle'></label><ul><li><span class='ee-k'>0:</span><span class='ee-v'>-47.313027667119044</span></li><li><span class='ee-k'>1:</span><span class='ee-v'>-7.020449648045324</span></li></ul></li><li><label class='ee-shut'>1370: [-47.31246448597571, -7.020084465187653]<input type='checkbox' class='ee-toggle'></label><ul><li><span class='ee-k'>0:</span><span class='ee-v'>-47.31246448597571</span></li><li><span class='ee-k'>1:</span><span class='ee-v'>-7.020084465187653</span></li></ul></li><li><label class='ee-shut'>1371: [-47.312082096339296, -7.019938307209852]<input type='checkbox' class='ee-toggle'></label><ul><li><span class='ee-k'>0:</span><span class='ee-v'>-47.312082096339296</span></li><li><span class='ee-k'>1:</span><span class='ee-v'>-7.019938307209852</span></li></ul></li><li><label class='ee-shut'>1372: [-47.311830205705824, -7.019863268631263]<input type='checkbox' class='ee-toggle'></label><ul><li><span class='ee-k'>0:</span><span class='ee-v'>-47.311830205705824</span></li><li><span class='ee-k'>1:</span><span class='ee-v'>-7.019863268631263</span></li></ul></li><li><label class='ee-shut'>1373: [-47.31157831629914, -7.0197882304642505]<input type='checkbox' class='ee-toggle'></label><ul><li><span class='ee-k'>0:</span><span class='ee-v'>-47.31157831629914</span></li><li><span class='ee-k'>1:</span><span class='ee-v'>-7.0197882304642505</span></li></ul></li><li><label class='ee-shut'>1374: [-47.31063941232946, -7.019716586553663]<input type='checkbox' class='ee-toggle'></label><ul><li><span class='ee-k'>0:</span><span class='ee-v'>-47.31063941232946</span></li><li><span class='ee-k'>1:</span><span class='ee-v'>-7.019716586553663</span></li></ul></li><li><label class='ee-shut'>1375: [-47.309439842564984, -7.019601376920686]<input type='checkbox' class='ee-toggle'></label><ul><li><span class='ee-k'>0:</span><span class='ee-v'>-47.309439842564984</span></li><li><span class='ee-k'>1:</span><span class='ee-v'>-7.019601376920686</span></li></ul></li><li><label class='ee-shut'>1376: [-47.30805661902713, -7.019590198497349]<input type='checkbox' class='ee-toggle'></label><ul><li><span class='ee-k'>0:</span><span class='ee-v'>-47.30805661902713</span></li><li><span class='ee-k'>1:</span><span class='ee-v'>-7.019590198497349</span></li></ul></li><li><label class='ee-shut'>1377: [-47.30690224509838, -7.019551009144856]<input type='checkbox' class='ee-toggle'></label><ul><li><span class='ee-k'>0:</span><span class='ee-v'>-47.30690224509838</span></li><li><span class='ee-k'>1:</span><span class='ee-v'>-7.019551009144856</span></li></ul></li><li><label class='ee-shut'>1378: [-47.306287206267164, -7.019589972516549]<input type='checkbox' class='ee-toggle'></label><ul><li><span class='ee-k'>0:</span><span class='ee-v'>-47.306287206267164</span></li><li><span class='ee-k'>1:</span><span class='ee-v'>-7.019589972516549</span></li></ul></li><li><label class='ee-shut'>1379: [-47.306098682365054, -7.019599879710761]<input type='checkbox' class='ee-toggle'></label><ul><li><span class='ee-k'>0:</span><span class='ee-v'>-47.306098682365054</span></li><li><span class='ee-k'>1:</span><span class='ee-v'>-7.019599879710761</span></li></ul></li><li><label class='ee-shut'>1380: [-47.30545724370251, -7.019755540705254]<input type='checkbox' class='ee-toggle'></label><ul><li><span class='ee-k'>0:</span><span class='ee-v'>-47.30545724370251</span></li><li><span class='ee-k'>1:</span><span class='ee-v'>-7.019755540705254</span></li></ul></li><li><label class='ee-shut'>1381: [-47.30491406373076, -7.019789657650422]<input type='checkbox' class='ee-toggle'></label><ul><li><span class='ee-k'>0:</span><span class='ee-v'>-47.30491406373076</span></li><li><span class='ee-k'>1:</span><span class='ee-v'>-7.019789657650422</span></li></ul></li><li><label class='ee-shut'>1382: [-47.30428964881182, -7.01976132651794]<input type='checkbox' class='ee-toggle'></label><ul><li><span class='ee-k'>0:</span><span class='ee-v'>-47.30428964881182</span></li><li><span class='ee-k'>1:</span><span class='ee-v'>-7.01976132651794</span></li></ul></li><li><label class='ee-shut'>1383: [-47.30401556512282, -7.019726738541361]<input type='checkbox' class='ee-toggle'></label><ul><li><span class='ee-k'>0:</span><span class='ee-v'>-47.30401556512282</span></li><li><span class='ee-k'>1:</span><span class='ee-v'>-7.019726738541361</span></li></ul></li><li><label class='ee-shut'>1384: [-47.30374140828665, -7.019687722364791]<input type='checkbox' class='ee-toggle'></label><ul><li><span class='ee-k'>0:</span><span class='ee-v'>-47.30374140828665</span></li><li><span class='ee-k'>1:</span><span class='ee-v'>-7.019687722364791</span></li></ul></li><li><label class='ee-shut'>1385: [-47.30346695450475, -7.019585847684002]<input type='checkbox' class='ee-toggle'></label><ul><li><span class='ee-k'>0:</span><span class='ee-v'>-47.30346695450475</span></li><li><span class='ee-k'>1:</span><span class='ee-v'>-7.019585847684002</span></li></ul></li><li><label class='ee-shut'>1386: [-47.30326904133358, -7.019510597521548]<input type='checkbox' class='ee-toggle'></label><ul><li><span class='ee-k'>0:</span><span class='ee-v'>-47.30326904133358</span></li><li><span class='ee-k'>1:</span><span class='ee-v'>-7.019510597521548</span></li></ul></li><li><label class='ee-shut'>1387: [-47.30285911804602, -7.019252382182929]<input type='checkbox' class='ee-toggle'></label><ul><li><span class='ee-k'>0:</span><span class='ee-v'>-47.30285911804602</span></li><li><span class='ee-k'>1:</span><span class='ee-v'>-7.019252382182929</span></li></ul></li><li><label class='ee-shut'>1388: [-47.30257019681561, -7.018953158638739]<input type='checkbox' class='ee-toggle'></label><ul><li><span class='ee-k'>0:</span><span class='ee-v'>-47.30257019681561</span></li><li><span class='ee-k'>1:</span><span class='ee-v'>-7.018953158638739</span></li></ul></li><li><label class='ee-shut'>1389: [-47.3021596076876, -7.018560327330545]<input type='checkbox' class='ee-toggle'></label><ul><li><span class='ee-k'>0:</span><span class='ee-v'>-47.3021596076876</span></li><li><span class='ee-k'>1:</span><span class='ee-v'>-7.018560327330545</span></li></ul></li><li><label class='ee-shut'>1390: [-47.3013931187238, -7.017940413575734]<input type='checkbox' class='ee-toggle'></label><ul><li><span class='ee-k'>0:</span><span class='ee-v'>-47.3013931187238</span></li><li><span class='ee-k'>1:</span><span class='ee-v'>-7.017940413575734</span></li></ul></li><li><label class='ee-shut'>1391: [-47.30109062912676, -7.0176098879119255]<input type='checkbox' class='ee-toggle'></label><ul><li><span class='ee-k'>0:</span><span class='ee-v'>-47.30109062912676</span></li><li><span class='ee-k'>1:</span><span class='ee-v'>-7.0176098879119255</span></li></ul></li><li><label class='ee-shut'>1392: [-47.291747071601215, -7.021644372177945]<input type='checkbox' class='ee-toggle'></label><ul><li><span class='ee-k'>0:</span><span class='ee-v'>-47.291747071601215</span></li><li><span class='ee-k'>1:</span><span class='ee-v'>-7.021644372177945</span></li></ul></li><li><label class='ee-shut'>1393: [-47.29024394789331, -7.02651087349188]<input type='checkbox' class='ee-toggle'></label><ul><li><span class='ee-k'>0:</span><span class='ee-v'>-47.29024394789331</span></li><li><span class='ee-k'>1:</span><span class='ee-v'>-7.02651087349188</span></li></ul></li><li><label class='ee-shut'>1394: [-47.290985883215555, -7.031276692778148]<input type='checkbox' class='ee-toggle'></label><ul><li><span class='ee-k'>0:</span><span class='ee-v'>-47.290985883215555</span></li><li><span class='ee-k'>1:</span><span class='ee-v'>-7.031276692778148</span></li></ul></li><li><label class='ee-shut'>1395: [-47.28310795138007, -7.032033051529065]<input type='checkbox' class='ee-toggle'></label><ul><li><span class='ee-k'>0:</span><span class='ee-v'>-47.28310795138007</span></li><li><span class='ee-k'>1:</span><span class='ee-v'>-7.032033051529065</span></li></ul></li><li><label class='ee-shut'>1396: [-47.28093911347119, -7.027507520553807]<input type='checkbox' class='ee-toggle'></label><ul><li><span class='ee-k'>0:</span><span class='ee-v'>-47.28093911347119</span></li><li><span class='ee-k'>1:</span><span class='ee-v'>-7.027507520553807</span></li></ul></li><li><label class='ee-shut'>1397: [-47.2751950600414, -7.025628518914139]<input type='checkbox' class='ee-toggle'></label><ul><li><span class='ee-k'>0:</span><span class='ee-v'>-47.2751950600414</span></li><li><span class='ee-k'>1:</span><span class='ee-v'>-7.025628518914139</span></li></ul></li><li><label class='ee-shut'>1398: [-47.267519921835394, -7.025616362794043]<input type='checkbox' class='ee-toggle'></label><ul><li><span class='ee-k'>0:</span><span class='ee-v'>-47.267519921835394</span></li><li><span class='ee-k'>1:</span><span class='ee-v'>-7.025616362794043</span></li></ul></li><li><label class='ee-shut'>1399: [-47.254229427658856, -7.03551125446903]<input type='checkbox' class='ee-toggle'></label><ul><li><span class='ee-k'>0:</span><span class='ee-v'>-47.254229427658856</span></li><li><span class='ee-k'>1:</span><span class='ee-v'>-7.03551125446903</span></li></ul></li><li><label class='ee-shut'>1400: [-47.25543785165482, -7.0383680830730455]<input type='checkbox' class='ee-toggle'></label><ul><li><span class='ee-k'>0:</span><span class='ee-v'>-47.25543785165482</span></li><li><span class='ee-k'>1:</span><span class='ee-v'>-7.0383680830730455</span></li></ul></li><li><label class='ee-shut'>1401: [-47.25042584201078, -7.0383921831005365]<input type='checkbox' class='ee-toggle'></label><ul><li><span class='ee-k'>0:</span><span class='ee-v'>-47.25042584201078</span></li><li><span class='ee-k'>1:</span><span class='ee-v'>-7.0383921831005365</span></li></ul></li><li><label class='ee-shut'>1402: [-47.24926113061479, -7.044603135933072]<input type='checkbox' class='ee-toggle'></label><ul><li><span class='ee-k'>0:</span><span class='ee-v'>-47.24926113061479</span></li><li><span class='ee-k'>1:</span><span class='ee-v'>-7.044603135933072</span></li></ul></li><li><label class='ee-shut'>1403: [-47.24664302939787, -7.046522719355653]<input type='checkbox' class='ee-toggle'></label><ul><li><span class='ee-k'>0:</span><span class='ee-v'>-47.24664302939787</span></li><li><span class='ee-k'>1:</span><span class='ee-v'>-7.046522719355653</span></li></ul></li><li><label class='ee-shut'>1404: [-47.23446527537011, -7.047056696475193]<input type='checkbox' class='ee-toggle'></label><ul><li><span class='ee-k'>0:</span><span class='ee-v'>-47.23446527537011</span></li><li><span class='ee-k'>1:</span><span class='ee-v'>-7.047056696475193</span></li></ul></li><li><label class='ee-shut'>1405: [-47.22681444839699, -7.04471068417413]<input type='checkbox' class='ee-toggle'></label><ul><li><span class='ee-k'>0:</span><span class='ee-v'>-47.22681444839699</span></li><li><span class='ee-k'>1:</span><span class='ee-v'>-7.04471068417413</span></li></ul></li><li><label class='ee-shut'>1406: [-47.208191658682765, -7.046230336947008]<input type='checkbox' class='ee-toggle'></label><ul><li><span class='ee-k'>0:</span><span class='ee-v'>-47.208191658682765</span></li><li><span class='ee-k'>1:</span><span class='ee-v'>-7.046230336947008</span></li></ul></li><li><label class='ee-shut'>1407: [-47.19100694472893, -7.0460779497062]<input type='checkbox' class='ee-toggle'></label><ul><li><span class='ee-k'>0:</span><span class='ee-v'>-47.19100694472893</span></li><li><span class='ee-k'>1:</span><span class='ee-v'>-7.0460779497062</span></li></ul></li><li><label class='ee-shut'>1408: [-47.17837752917293, -7.055770813768792]<input type='checkbox' class='ee-toggle'></label><ul><li><span class='ee-k'>0:</span><span class='ee-v'>-47.17837752917293</span></li><li><span class='ee-k'>1:</span><span class='ee-v'>-7.055770813768792</span></li></ul></li><li><label class='ee-shut'>1409: [-47.1764867259675, -7.063488437309977]<input type='checkbox' class='ee-toggle'></label><ul><li><span class='ee-k'>0:</span><span class='ee-v'>-47.1764867259675</span></li><li><span class='ee-k'>1:</span><span class='ee-v'>-7.063488437309977</span></li></ul></li><li><label class='ee-shut'>1410: [-47.17223966789287, -7.098471872520092]<input type='checkbox' class='ee-toggle'></label><ul><li><span class='ee-k'>0:</span><span class='ee-v'>-47.17223966789287</span></li><li><span class='ee-k'>1:</span><span class='ee-v'>-7.098471872520092</span></li></ul></li><li><label class='ee-shut'>1411: [-47.171508891442876, -7.118851270706933]<input type='checkbox' class='ee-toggle'></label><ul><li><span class='ee-k'>0:</span><span class='ee-v'>-47.171508891442876</span></li><li><span class='ee-k'>1:</span><span class='ee-v'>-7.118851270706933</span></li></ul></li><li><label class='ee-shut'>1412: [-47.17704246962151, -7.1263007310510575]<input type='checkbox' class='ee-toggle'></label><ul><li><span class='ee-k'>0:</span><span class='ee-v'>-47.17704246962151</span></li><li><span class='ee-k'>1:</span><span class='ee-v'>-7.1263007310510575</span></li></ul></li><li><label class='ee-shut'>1413: [-47.18276970328084, -7.1290736638378815]<input type='checkbox' class='ee-toggle'></label><ul><li><span class='ee-k'>0:</span><span class='ee-v'>-47.18276970328084</span></li><li><span class='ee-k'>1:</span><span class='ee-v'>-7.1290736638378815</span></li></ul></li><li><label class='ee-shut'>1414: [-47.185639179063564, -7.125066580571031]<input type='checkbox' class='ee-toggle'></label><ul><li><span class='ee-k'>0:</span><span class='ee-v'>-47.185639179063564</span></li><li><span class='ee-k'>1:</span><span class='ee-v'>-7.125066580571031</span></li></ul></li><li><label class='ee-shut'>1415: [-47.1949529432058, -7.131039592941715]<input type='checkbox' class='ee-toggle'></label><ul><li><span class='ee-k'>0:</span><span class='ee-v'>-47.1949529432058</span></li><li><span class='ee-k'>1:</span><span class='ee-v'>-7.131039592941715</span></li></ul></li><li><label class='ee-shut'>1416: [-47.19759045258842, -7.127397071469841]<input type='checkbox' class='ee-toggle'></label><ul><li><span class='ee-k'>0:</span><span class='ee-v'>-47.19759045258842</span></li><li><span class='ee-k'>1:</span><span class='ee-v'>-7.127397071469841</span></li></ul></li><li><label class='ee-shut'>1417: [-47.20068425852586, -7.125237505465937]<input type='checkbox' class='ee-toggle'></label><ul><li><span class='ee-k'>0:</span><span class='ee-v'>-47.20068425852586</span></li><li><span class='ee-k'>1:</span><span class='ee-v'>-7.125237505465937</span></li></ul></li><li><label class='ee-shut'>1418: [-47.19659160905609, -7.1185758184299255]<input type='checkbox' class='ee-toggle'></label><ul><li><span class='ee-k'>0:</span><span class='ee-v'>-47.19659160905609</span></li><li><span class='ee-k'>1:</span><span class='ee-v'>-7.1185758184299255</span></li></ul></li><li><label class='ee-shut'>1419: [-47.199208058956216, -7.116176236775385]<input type='checkbox' class='ee-toggle'></label><ul><li><span class='ee-k'>0:</span><span class='ee-v'>-47.199208058956216</span></li><li><span class='ee-k'>1:</span><span class='ee-v'>-7.116176236775385</span></li></ul></li><li><label class='ee-shut'>1420: [-47.192257655508406, -7.111197201531358]<input type='checkbox' class='ee-toggle'></label><ul><li><span class='ee-k'>0:</span><span class='ee-v'>-47.192257655508406</span></li><li><span class='ee-k'>1:</span><span class='ee-v'>-7.111197201531358</span></li></ul></li><li><label class='ee-shut'>1421: [-47.19056970187388, -7.107629024203435]<input type='checkbox' class='ee-toggle'></label><ul><li><span class='ee-k'>0:</span><span class='ee-v'>-47.19056970187388</span></li><li><span class='ee-k'>1:</span><span class='ee-v'>-7.107629024203435</span></li></ul></li><li><label class='ee-shut'>1422: [-47.19076822485406, -7.099277634770546]<input type='checkbox' class='ee-toggle'></label><ul><li><span class='ee-k'>0:</span><span class='ee-v'>-47.19076822485406</span></li><li><span class='ee-k'>1:</span><span class='ee-v'>-7.099277634770546</span></li></ul></li><li><label class='ee-shut'>1423: [-47.19257558594966, -7.0986723518302135]<input type='checkbox' class='ee-toggle'></label><ul><li><span class='ee-k'>0:</span><span class='ee-v'>-47.19257558594966</span></li><li><span class='ee-k'>1:</span><span class='ee-v'>-7.0986723518302135</span></li></ul></li><li><label class='ee-shut'>1424: [-47.19394283581192, -7.0980780435352715]<input type='checkbox' class='ee-toggle'></label><ul><li><span class='ee-k'>0:</span><span class='ee-v'>-47.19394283581192</span></li><li><span class='ee-k'>1:</span><span class='ee-v'>-7.0980780435352715</span></li></ul></li><li><label class='ee-shut'>1425: [-47.19482318918801, -7.0980738980144915]<input type='checkbox' class='ee-toggle'></label><ul><li><span class='ee-k'>0:</span><span class='ee-v'>-47.19482318918801</span></li><li><span class='ee-k'>1:</span><span class='ee-v'>-7.0980738980144915</span></li></ul></li><li><label class='ee-shut'>1426: [-47.195353299319656, -7.0980848471358335]<input type='checkbox' class='ee-toggle'></label><ul><li><span class='ee-k'>0:</span><span class='ee-v'>-47.195353299319656</span></li><li><span class='ee-k'>1:</span><span class='ee-v'>-7.0980848471358335</span></li></ul></li><li><label class='ee-shut'>1427: [-47.19578514844938, -7.098208467840117]<input type='checkbox' class='ee-toggle'></label><ul><li><span class='ee-k'>0:</span><span class='ee-v'>-47.19578514844938</span></li><li><span class='ee-k'>1:</span><span class='ee-v'>-7.098208467840117</span></li></ul></li><li><label class='ee-shut'>1428: [-47.196437209544584, -7.098375853132158]<input type='checkbox' class='ee-toggle'></label><ul><li><span class='ee-k'>0:</span><span class='ee-v'>-47.196437209544584</span></li><li><span class='ee-k'>1:</span><span class='ee-v'>-7.098375853132158</span></li></ul></li><li><label class='ee-shut'>1429: [-47.19725990968652, -7.098511088880788]<input type='checkbox' class='ee-toggle'></label><ul><li><span class='ee-k'>0:</span><span class='ee-v'>-47.19725990968652</span></li><li><span class='ee-k'>1:</span><span class='ee-v'>-7.098511088880788</span></li></ul></li><li><label class='ee-shut'>1430: [-47.19862088161375, -7.098504613832428]<input type='checkbox' class='ee-toggle'></label><ul><li><span class='ee-k'>0:</span><span class='ee-v'>-47.19862088161375</span></li><li><span class='ee-k'>1:</span><span class='ee-v'>-7.098504613832428</span></li></ul></li><li><label class='ee-shut'>1431: [-47.19937981350532, -7.098451676564002]<input type='checkbox' class='ee-toggle'></label><ul><li><span class='ee-k'>0:</span><span class='ee-v'>-47.19937981350532</span></li><li><span class='ee-k'>1:</span><span class='ee-v'>-7.098451676564002</span></li></ul></li><li><label class='ee-shut'>1432: [-47.20008880032044, -7.098309198790059]<input type='checkbox' class='ee-toggle'></label><ul><li><span class='ee-k'>0:</span><span class='ee-v'>-47.20008880032044</span></li><li><span class='ee-k'>1:</span><span class='ee-v'>-7.098309198790059</span></li></ul></li><li><label class='ee-shut'>1433: [-47.20094104176837, -7.098044932364089]<input type='checkbox' class='ee-toggle'></label><ul><li><span class='ee-k'>0:</span><span class='ee-v'>-47.20094104176837</span></li><li><span class='ee-k'>1:</span><span class='ee-v'>-7.098044932364089</span></li></ul></li><li><label class='ee-shut'>1434: [-47.201559590141905, -7.097777238031623]<input type='checkbox' class='ee-toggle'></label><ul><li><span class='ee-k'>0:</span><span class='ee-v'>-47.201559590141905</span></li><li><span class='ee-k'>1:</span><span class='ee-v'>-7.097777238031623</span></li></ul></li><li><label class='ee-shut'>1435: [-47.203322434270554, -7.0972573749656425]<input type='checkbox' class='ee-toggle'></label><ul><li><span class='ee-k'>0:</span><span class='ee-v'>-47.203322434270554</span></li><li><span class='ee-k'>1:</span><span class='ee-v'>-7.0972573749656425</span></li></ul></li><li><label class='ee-shut'>1436: [-47.20379731134637, -7.096994887673059]<input type='checkbox' class='ee-toggle'></label><ul><li><span class='ee-k'>0:</span><span class='ee-v'>-47.20379731134637</span></li><li><span class='ee-k'>1:</span><span class='ee-v'>-7.096994887673059</span></li></ul></li><li><label class='ee-shut'>1437: [-47.20430860205685, -7.096821913202662]<input type='checkbox' class='ee-toggle'></label><ul><li><span class='ee-k'>0:</span><span class='ee-v'>-47.20430860205685</span></li><li><span class='ee-k'>1:</span><span class='ee-v'>-7.096821913202662</span></li></ul></li><li><label class='ee-shut'>1438: [-47.20482019568062, -7.096725258989187]<input type='checkbox' class='ee-toggle'></label><ul><li><span class='ee-k'>0:</span><span class='ee-v'>-47.20482019568062</span></li><li><span class='ee-k'>1:</span><span class='ee-v'>-7.096725258989187</span></li></ul></li><li><label class='ee-shut'>1439: [-47.205237605047884, -7.096647025610279]<input type='checkbox' class='ee-toggle'></label><ul><li><span class='ee-k'>0:</span><span class='ee-v'>-47.205237605047884</span></li><li><span class='ee-k'>1:</span><span class='ee-v'>-7.096647025610279</span></li></ul></li><li><label class='ee-shut'>1440: [-47.20562337294316, -7.096550926387092]<input type='checkbox' class='ee-toggle'></label><ul><li><span class='ee-k'>0:</span><span class='ee-v'>-47.20562337294316</span></li><li><span class='ee-k'>1:</span><span class='ee-v'>-7.096550926387092</span></li></ul></li><li><label class='ee-shut'>1441: [-47.20569969293336, -7.096537106112147]<input type='checkbox' class='ee-toggle'></label><ul><li><span class='ee-k'>0:</span><span class='ee-v'>-47.20569969293336</span></li><li><span class='ee-k'>1:</span><span class='ee-v'>-7.096537106112147</span></li></ul></li><li><label class='ee-shut'>1442: [-47.20573111446468, -7.096532462511086]<input type='checkbox' class='ee-toggle'></label><ul><li><span class='ee-k'>0:</span><span class='ee-v'>-47.20573111446468</span></li><li><span class='ee-k'>1:</span><span class='ee-v'>-7.096532462511086</span></li></ul></li><li><label class='ee-shut'>1443: [-47.2057801827238, -7.096460478949619]<input type='checkbox' class='ee-toggle'></label><ul><li><span class='ee-k'>0:</span><span class='ee-v'>-47.2057801827238</span></li><li><span class='ee-k'>1:</span><span class='ee-v'>-7.096460478949619</span></li></ul></li><li><label class='ee-shut'>1444: [-47.20607064692825, -7.096149447645019]<input type='checkbox' class='ee-toggle'></label><ul><li><span class='ee-k'>0:</span><span class='ee-v'>-47.20607064692825</span></li><li><span class='ee-k'>1:</span><span class='ee-v'>-7.096149447645019</span></li></ul></li><li><label class='ee-shut'>1445: [-47.20645597431478, -7.095945743090726]<input type='checkbox' class='ee-toggle'></label><ul><li><span class='ee-k'>0:</span><span class='ee-v'>-47.20645597431478</span></li><li><span class='ee-k'>1:</span><span class='ee-v'>-7.095945743090726</span></li></ul></li><li><label class='ee-shut'>1446: [-47.207029912710276, -7.095727632565132]<input type='checkbox' class='ee-toggle'></label><ul><li><span class='ee-k'>0:</span><span class='ee-v'>-47.207029912710276</span></li><li><span class='ee-k'>1:</span><span class='ee-v'>-7.095727632565132</span></li></ul></li><li><label class='ee-shut'>1447: [-47.20742902258356, -7.095586619989803]<input type='checkbox' class='ee-toggle'></label><ul><li><span class='ee-k'>0:</span><span class='ee-v'>-47.20742902258356</span></li><li><span class='ee-k'>1:</span><span class='ee-v'>-7.095586619989803</span></li></ul></li><li><label class='ee-shut'>1448: [-47.20790914990846, -7.095476650353956]<input type='checkbox' class='ee-toggle'></label><ul><li><span class='ee-k'>0:</span><span class='ee-v'>-47.20790914990846</span></li><li><span class='ee-k'>1:</span><span class='ee-v'>-7.095476650353956</span></li></ul></li><li><label class='ee-shut'>1449: [-47.20840715271313, -7.095362138566154]<input type='checkbox' class='ee-toggle'></label><ul><li><span class='ee-k'>0:</span><span class='ee-v'>-47.20840715271313</span></li><li><span class='ee-k'>1:</span><span class='ee-v'>-7.095362138566154</span></li></ul></li><li><label class='ee-shut'>1450: [-47.20905393807546, -7.095345597435948]<input type='checkbox' class='ee-toggle'></label><ul><li><span class='ee-k'>0:</span><span class='ee-v'>-47.20905393807546</span></li><li><span class='ee-k'>1:</span><span class='ee-v'>-7.095345597435948</span></li></ul></li><li><label class='ee-shut'>1451: [-47.209579056926316, -7.095266808301171]<input type='checkbox' class='ee-toggle'></label><ul><li><span class='ee-k'>0:</span><span class='ee-v'>-47.209579056926316</span></li><li><span class='ee-k'>1:</span><span class='ee-v'>-7.095266808301171</span></li></ul></li><li><label class='ee-shut'>1452: [-47.21033725698899, -7.0950746984886965]<input type='checkbox' class='ee-toggle'></label><ul><li><span class='ee-k'>0:</span><span class='ee-v'>-47.21033725698899</span></li><li><span class='ee-k'>1:</span><span class='ee-v'>-7.0950746984886965</span></li></ul></li><li><label class='ee-shut'>1453: [-47.21108154301426, -7.094792963920187]<input type='checkbox' class='ee-toggle'></label><ul><li><span class='ee-k'>0:</span><span class='ee-v'>-47.21108154301426</span></li><li><span class='ee-k'>1:</span><span class='ee-v'>-7.094792963920187</span></li></ul></li><li><label class='ee-shut'>1454: [-47.211669086062116, -7.0946062377110515]<input type='checkbox' class='ee-toggle'></label><ul><li><span class='ee-k'>0:</span><span class='ee-v'>-47.211669086062116</span></li><li><span class='ee-k'>1:</span><span class='ee-v'>-7.0946062377110515</span></li></ul></li><li><label class='ee-shut'>1455: [-47.21236379549291, -7.094279835762279]<input type='checkbox' class='ee-toggle'></label><ul><li><span class='ee-k'>0:</span><span class='ee-v'>-47.21236379549291</span></li><li><span class='ee-k'>1:</span><span class='ee-v'>-7.094279835762279</span></li></ul></li><li><label class='ee-shut'>1456: [-47.212964385277346, -7.094012223429351]<input type='checkbox' class='ee-toggle'></label><ul><li><span class='ee-k'>0:</span><span class='ee-v'>-47.212964385277346</span></li><li><span class='ee-k'>1:</span><span class='ee-v'>-7.094012223429351</span></li></ul></li><li><label class='ee-shut'>1457: [-47.21365859091009, -7.093591648143826]<input type='checkbox' class='ee-toggle'></label><ul><li><span class='ee-k'>0:</span><span class='ee-v'>-47.21365859091009</span></li><li><span class='ee-k'>1:</span><span class='ee-v'>-7.093591648143826</span></li></ul></li><li><label class='ee-shut'>1458: [-47.214293899296536, -7.0930636508982765]<input type='checkbox' class='ee-toggle'></label><ul><li><span class='ee-k'>0:</span><span class='ee-v'>-47.214293899296536</span></li><li><span class='ee-k'>1:</span><span class='ee-v'>-7.0930636508982765</span></li></ul></li><li><label class='ee-shut'>1459: [-47.21472292865694, -7.092594927192716]<input type='checkbox' class='ee-toggle'></label><ul><li><span class='ee-k'>0:</span><span class='ee-v'>-47.21472292865694</span></li><li><span class='ee-k'>1:</span><span class='ee-v'>-7.092594927192716</span></li></ul></li><li><label class='ee-shut'>1460: [-47.21515561073624, -7.0919602620908115]<input type='checkbox' class='ee-toggle'></label><ul><li><span class='ee-k'>0:</span><span class='ee-v'>-47.21515561073624</span></li><li><span class='ee-k'>1:</span><span class='ee-v'>-7.0919602620908115</span></li></ul></li><li><label class='ee-shut'>1461: [-47.215740966121786, -7.091324780969045]<input type='checkbox' class='ee-toggle'></label><ul><li><span class='ee-k'>0:</span><span class='ee-v'>-47.215740966121786</span></li><li><span class='ee-k'>1:</span><span class='ee-v'>-7.091324780969045</span></li></ul></li><li><label class='ee-shut'>1462: [-47.21606254205456, -7.09095079101683]<input type='checkbox' class='ee-toggle'></label><ul><li><span class='ee-k'>0:</span><span class='ee-v'>-47.21606254205456</span></li><li><span class='ee-k'>1:</span><span class='ee-v'>-7.09095079101683</span></li></ul></li><li><label class='ee-shut'>1463: [-47.216415697004045, -7.090594653139461]<input type='checkbox' class='ee-toggle'></label><ul><li><span class='ee-k'>0:</span><span class='ee-v'>-47.216415697004045</span></li><li><span class='ee-k'>1:</span><span class='ee-v'>-7.090594653139461</span></li></ul></li><li><label class='ee-shut'>1464: [-47.216971723606285, -7.0903900958574635]<input type='checkbox' class='ee-toggle'></label><ul><li><span class='ee-k'>0:</span><span class='ee-v'>-47.216971723606285</span></li><li><span class='ee-k'>1:</span><span class='ee-v'>-7.0903900958574635</span></li></ul></li><li><label class='ee-shut'>1465: [-47.217299414211574, -7.0903436875767]<input type='checkbox' class='ee-toggle'></label><ul><li><span class='ee-k'>0:</span><span class='ee-v'>-47.217299414211574</span></li><li><span class='ee-k'>1:</span><span class='ee-v'>-7.0903436875767</span></li></ul></li><li><label class='ee-shut'>1466: [-47.21752425585906, -7.090400942809191]<input type='checkbox' class='ee-toggle'></label><ul><li><span class='ee-k'>0:</span><span class='ee-v'>-47.21752425585906</span></li><li><span class='ee-k'>1:</span><span class='ee-v'>-7.090400942809191</span></li></ul></li><li><label class='ee-shut'>1467: [-47.21831839637761, -7.090213137960779]<input type='checkbox' class='ee-toggle'></label><ul><li><span class='ee-k'>0:</span><span class='ee-v'>-47.21831839637761</span></li><li><span class='ee-k'>1:</span><span class='ee-v'>-7.090213137960779</span></li></ul></li><li><label class='ee-shut'>1468: [-47.21906331921831, -7.090070525964227]<input type='checkbox' class='ee-toggle'></label><ul><li><span class='ee-k'>0:</span><span class='ee-v'>-47.21906331921831</span></li><li><span class='ee-k'>1:</span><span class='ee-v'>-7.090070525964227</span></li></ul></li><li><label class='ee-shut'>1469: [-47.21944956320062, -7.090055190154818]<input type='checkbox' class='ee-toggle'></label><ul><li><span class='ee-k'>0:</span><span class='ee-v'>-47.21944956320062</span></li><li><span class='ee-k'>1:</span><span class='ee-v'>-7.090055190154818</span></li></ul></li><li><label class='ee-shut'>1470: [-47.219759990469264, -7.09016136490598]<input type='checkbox' class='ee-toggle'></label><ul><li><span class='ee-k'>0:</span><span class='ee-v'>-47.219759990469264</span></li><li><span class='ee-k'>1:</span><span class='ee-v'>-7.09016136490598</span></li></ul></li><li><label class='ee-shut'>1471: [-47.22019122531502, -7.090172790619759]<input type='checkbox' class='ee-toggle'></label><ul><li><span class='ee-k'>0:</span><span class='ee-v'>-47.22019122531502</span></li><li><span class='ee-k'>1:</span><span class='ee-v'>-7.090172790619759</span></li></ul></li><li><label class='ee-shut'>1472: [-47.2205817231297, -7.090108102803732]<input type='checkbox' class='ee-toggle'></label><ul><li><span class='ee-k'>0:</span><span class='ee-v'>-47.2205817231297</span></li><li><span class='ee-k'>1:</span><span class='ee-v'>-7.090108102803732</span></li></ul></li><li><label class='ee-shut'>1473: [-47.2210440978237, -7.090047581023427]<input type='checkbox' class='ee-toggle'></label><ul><li><span class='ee-k'>0:</span><span class='ee-v'>-47.2210440978237</span></li><li><span class='ee-k'>1:</span><span class='ee-v'>-7.090047581023427</span></li></ul></li><li><label class='ee-shut'>1474: [-47.22156971147304, -7.090071973594314]<input type='checkbox' class='ee-toggle'></label><ul><li><span class='ee-k'>0:</span><span class='ee-v'>-47.22156971147304</span></li><li><span class='ee-k'>1:</span><span class='ee-v'>-7.090071973594314</span></li></ul></li><li><label class='ee-shut'>1475: [-47.2219252131626, -7.090209341439815]<input type='checkbox' class='ee-toggle'></label><ul><li><span class='ee-k'>0:</span><span class='ee-v'>-47.2219252131626</span></li><li><span class='ee-k'>1:</span><span class='ee-v'>-7.090209341439815</span></li></ul></li><li><label class='ee-shut'>1476: [-47.22242469234368, -7.090395429743927]<input type='checkbox' class='ee-toggle'></label><ul><li><span class='ee-k'>0:</span><span class='ee-v'>-47.22242469234368</span></li><li><span class='ee-k'>1:</span><span class='ee-v'>-7.090395429743927</span></li></ul></li><li><label class='ee-shut'>1477: [-47.22291985632822, -7.090608442651286]<input type='checkbox' class='ee-toggle'></label><ul><li><span class='ee-k'>0:</span><span class='ee-v'>-47.22291985632822</span></li><li><span class='ee-k'>1:</span><span class='ee-v'>-7.090608442651286</span></li></ul></li><li><label class='ee-shut'>1478: [-47.22332482475854, -7.0907635479973035]<input type='checkbox' class='ee-toggle'></label><ul><li><span class='ee-k'>0:</span><span class='ee-v'>-47.22332482475854</span></li><li><span class='ee-k'>1:</span><span class='ee-v'>-7.0907635479973035</span></li></ul></li><li><label class='ee-shut'>1479: [-47.22356302544486, -7.090789345823565]<input type='checkbox' class='ee-toggle'></label><ul><li><span class='ee-k'>0:</span><span class='ee-v'>-47.22356302544486</span></li><li><span class='ee-k'>1:</span><span class='ee-v'>-7.090789345823565</span></li></ul></li><li><label class='ee-shut'>1480: [-47.22371132417752, -7.090806596216024]<input type='checkbox' class='ee-toggle'></label><ul><li><span class='ee-k'>0:</span><span class='ee-v'>-47.22371132417752</span></li><li><span class='ee-k'>1:</span><span class='ee-v'>-7.090806596216024</span></li></ul></li><li><label class='ee-shut'>1481: [-47.22431241884566, -7.090633191132978]<input type='checkbox' class='ee-toggle'></label><ul><li><span class='ee-k'>0:</span><span class='ee-v'>-47.22431241884566</span></li><li><span class='ee-k'>1:</span><span class='ee-v'>-7.090633191132978</span></li></ul></li><li><label class='ee-shut'>1482: [-47.225411017560546, -7.090255490662346]<input type='checkbox' class='ee-toggle'></label><ul><li><span class='ee-k'>0:</span><span class='ee-v'>-47.225411017560546</span></li><li><span class='ee-k'>1:</span><span class='ee-v'>-7.090255490662346</span></li></ul></li><li><label class='ee-shut'>1483: [-47.22616885503202, -7.0899916371313205]<input type='checkbox' class='ee-toggle'></label><ul><li><span class='ee-k'>0:</span><span class='ee-v'>-47.22616885503202</span></li><li><span class='ee-k'>1:</span><span class='ee-v'>-7.0899916371313205</span></li></ul></li><li><label class='ee-shut'>1484: [-47.226863536766444, -7.089660741473491]<input type='checkbox' class='ee-toggle'></label><ul><li><span class='ee-k'>0:</span><span class='ee-v'>-47.226863536766444</span></li><li><span class='ee-k'>1:</span><span class='ee-v'>-7.089660741473491</span></li></ul></li><li><label class='ee-shut'>1485: [-47.227356061813595, -7.08933535778268]<input type='checkbox' class='ee-toggle'></label><ul><li><span class='ee-k'>0:</span><span class='ee-v'>-47.227356061813595</span></li><li><span class='ee-k'>1:</span><span class='ee-v'>-7.08933535778268</span></li></ul></li><li><label class='ee-shut'>1486: [-47.227821551477206, -7.088992064193156]<input type='checkbox' class='ee-toggle'></label><ul><li><span class='ee-k'>0:</span><span class='ee-v'>-47.227821551477206</span></li><li><span class='ee-k'>1:</span><span class='ee-v'>-7.088992064193156</span></li></ul></li><li><label class='ee-shut'>1487: [-47.228314234671984, -7.088711537389068]<input type='checkbox' class='ee-toggle'></label><ul><li><span class='ee-k'>0:</span><span class='ee-v'>-47.228314234671984</span></li><li><span class='ee-k'>1:</span><span class='ee-v'>-7.088711537389068</span></li></ul></li><li><label class='ee-shut'>1488: [-47.22869928171488, -7.088444963309297]<input type='checkbox' class='ee-toggle'></label><ul><li><span class='ee-k'>0:</span><span class='ee-v'>-47.22869928171488</span></li><li><span class='ee-k'>1:</span><span class='ee-v'>-7.088444963309297</span></li></ul></li><li><label class='ee-shut'>1489: [-47.22878882102203, -7.088381710898579]<input type='checkbox' class='ee-toggle'></label><ul><li><span class='ee-k'>0:</span><span class='ee-v'>-47.22878882102203</span></li><li><span class='ee-k'>1:</span><span class='ee-v'>-7.088381710898579</span></li></ul></li><li><label class='ee-shut'>1490: [-47.22908418265251, -7.088164916739171]<input type='checkbox' class='ee-toggle'></label><ul><li><span class='ee-k'>0:</span><span class='ee-v'>-47.22908418265251</span></li><li><span class='ee-k'>1:</span><span class='ee-v'>-7.088164916739171</span></li></ul></li><li><label class='ee-shut'>1491: [-47.22958171998403, -7.087947146579355]<input type='checkbox' class='ee-toggle'></label><ul><li><span class='ee-k'>0:</span><span class='ee-v'>-47.22958171998403</span></li><li><span class='ee-k'>1:</span><span class='ee-v'>-7.087947146579355</span></li></ul></li><li><label class='ee-shut'>1492: [-47.230367554198665, -7.08789852467977]<input type='checkbox' class='ee-toggle'></label><ul><li><span class='ee-k'>0:</span><span class='ee-v'>-47.230367554198665</span></li><li><span class='ee-k'>1:</span><span class='ee-v'>-7.08789852467977</span></li></ul></li><li><label class='ee-shut'>1493: [-47.230785617822505, -7.087972785947895]<input type='checkbox' class='ee-toggle'></label><ul><li><span class='ee-k'>0:</span><span class='ee-v'>-47.230785617822505</span></li><li><span class='ee-k'>1:</span><span class='ee-v'>-7.087972785947895</span></li></ul></li><li><label class='ee-shut'>1494: [-47.23108307677621, -7.088186750851869]<input type='checkbox' class='ee-toggle'></label><ul><li><span class='ee-k'>0:</span><span class='ee-v'>-47.23108307677621</span></li><li><span class='ee-k'>1:</span><span class='ee-v'>-7.088186750851869</span></li></ul></li><li><label class='ee-shut'>1495: [-47.231123676741625, -7.088213457362856]<input type='checkbox' class='ee-toggle'></label><ul><li><span class='ee-k'>0:</span><span class='ee-v'>-47.231123676741625</span></li><li><span class='ee-k'>1:</span><span class='ee-v'>-7.088213457362856</span></li></ul></li><li><label class='ee-shut'>1496: [-47.231502040160386, -7.088431472494455]<input type='checkbox' class='ee-toggle'></label><ul><li><span class='ee-k'>0:</span><span class='ee-v'>-47.231502040160386</span></li><li><span class='ee-k'>1:</span><span class='ee-v'>-7.088431472494455</span></li></ul></li><li><label class='ee-shut'>1497: [-47.232060241160234, -7.088693548310449]<input type='checkbox' class='ee-toggle'></label><ul><li><span class='ee-k'>0:</span><span class='ee-v'>-47.232060241160234</span></li><li><span class='ee-k'>1:</span><span class='ee-v'>-7.088693548310449</span></li></ul></li><li><label class='ee-shut'>1498: [-47.23286600413508, -7.08906206133885]<input type='checkbox' class='ee-toggle'></label><ul><li><span class='ee-k'>0:</span><span class='ee-v'>-47.23286600413508</span></li><li><span class='ee-k'>1:</span><span class='ee-v'>-7.08906206133885</span></li></ul></li><li><label class='ee-shut'>1499: [-47.23331627140668, -7.0892887364150186]<input type='checkbox' class='ee-toggle'></label><ul><li><span class='ee-k'>0:</span><span class='ee-v'>-47.23331627140668</span></li><li><span class='ee-k'>1:</span><span class='ee-v'>-7.0892887364150186</span></li></ul></li><li><label class='ee-shut'>1500: [-47.23355027188578, -7.0893818863297335]<input type='checkbox' class='ee-toggle'></label><ul><li><span class='ee-k'>0:</span><span class='ee-v'>-47.23355027188578</span></li><li><span class='ee-k'>1:</span><span class='ee-v'>-7.0893818863297335</span></li></ul></li><li><label class='ee-shut'>1501: [-47.23398206925726, -7.089505402304573]<input type='checkbox' class='ee-toggle'></label><ul><li><span class='ee-k'>0:</span><span class='ee-v'>-47.23398206925726</span></li><li><span class='ee-k'>1:</span><span class='ee-v'>-7.089505402304573</span></li></ul></li><li><label class='ee-shut'>1502: [-47.23439978972477, -7.0895033858638685]<input type='checkbox' class='ee-toggle'></label><ul><li><span class='ee-k'>0:</span><span class='ee-v'>-47.23439978972477</span></li><li><span class='ee-k'>1:</span><span class='ee-v'>-7.0895033858638685</span></li></ul></li><li><label class='ee-shut'>1503: [-47.234771844657814, -7.089344588584408]<input type='checkbox' class='ee-toggle'></label><ul><li><span class='ee-k'>0:</span><span class='ee-v'>-47.234771844657814</span></li><li><span class='ee-k'>1:</span><span class='ee-v'>-7.089344588584408</span></li></ul></li><li><label class='ee-shut'>1504: [-47.23520633431719, -7.089095706519826]<input type='checkbox' class='ee-toggle'></label><ul><li><span class='ee-k'>0:</span><span class='ee-v'>-47.23520633431719</span></li><li><span class='ee-k'>1:</span><span class='ee-v'>-7.089095706519826</span></li></ul></li><li><label class='ee-shut'>1505: [-47.235527957367175, -7.088721722901152]<input type='checkbox' class='ee-toggle'></label><ul><li><span class='ee-k'>0:</span><span class='ee-v'>-47.235527957367175</span></li><li><span class='ee-k'>1:</span><span class='ee-v'>-7.088721722901152</span></li></ul></li><li><label class='ee-shut'>1506: [-47.23579169423691, -7.088460256354058]<input type='checkbox' class='ee-toggle'></label><ul><li><span class='ee-k'>0:</span><span class='ee-v'>-47.23579169423691</span></li><li><span class='ee-k'>1:</span><span class='ee-v'>-7.088460256354058</span></li></ul></li><li><label class='ee-shut'>1507: [-47.23594315729263, -7.088194791159987]<input type='checkbox' class='ee-toggle'></label><ul><li><span class='ee-k'>0:</span><span class='ee-v'>-47.23594315729263</span></li><li><span class='ee-k'>1:</span><span class='ee-v'>-7.088194791159987</span></li></ul></li><li><label class='ee-shut'>1508: [-47.236125613871984, -7.087839409321363]<input type='checkbox' class='ee-toggle'></label><ul><li><span class='ee-k'>0:</span><span class='ee-v'>-47.236125613871984</span></li><li><span class='ee-k'>1:</span><span class='ee-v'>-7.087839409321363</span></li></ul></li><li><label class='ee-shut'>1509: [-47.236313137293635, -7.0876051906272295]<input type='checkbox' class='ee-toggle'></label><ul><li><span class='ee-k'>0:</span><span class='ee-v'>-47.236313137293635</span></li><li><span class='ee-k'>1:</span><span class='ee-v'>-7.0876051906272295</span></li></ul></li><li><label class='ee-shut'>1510: [-47.23655802886068, -7.087173307324703]<input type='checkbox' class='ee-toggle'></label><ul><li><span class='ee-k'>0:</span><span class='ee-v'>-47.23655802886068</span></li><li><span class='ee-k'>1:</span><span class='ee-v'>-7.087173307324703</span></li></ul></li><li><label class='ee-shut'>1511: [-47.236619941090154, -7.086971041359737]<input type='checkbox' class='ee-toggle'></label><ul><li><span class='ee-k'>0:</span><span class='ee-v'>-47.236619941090154</span></li><li><span class='ee-k'>1:</span><span class='ee-v'>-7.086971041359737</span></li></ul></li><li><label class='ee-shut'>1512: [-47.236681853394046, -7.086768839018749]<input type='checkbox' class='ee-toggle'></label><ul><li><span class='ee-k'>0:</span><span class='ee-v'>-47.236681853394046</span></li><li><span class='ee-k'>1:</span><span class='ee-v'>-7.086768839018749</span></li></ul></li><li><label class='ee-shut'>1513: [-47.23673780549203, -7.086257073058963]<input type='checkbox' class='ee-toggle'></label><ul><li><span class='ee-k'>0:</span><span class='ee-v'>-47.23673780549203</span></li><li><span class='ee-k'>1:</span><span class='ee-v'>-7.086257073058963</span></li></ul></li><li><label class='ee-shut'>1514: [-47.236982922589654, -7.085856550127029]<input type='checkbox' class='ee-toggle'></label><ul><li><span class='ee-k'>0:</span><span class='ee-v'>-47.236982922589654</span></li><li><span class='ee-k'>1:</span><span class='ee-v'>-7.085856550127029</span></li></ul></li><li><label class='ee-shut'>1515: [-47.23737243021291, -7.085589989719745]<input type='checkbox' class='ee-toggle'></label><ul><li><span class='ee-k'>0:</span><span class='ee-v'>-47.23737243021291</span></li><li><span class='ee-k'>1:</span><span class='ee-v'>-7.085589989719745</span></li></ul></li><li><label class='ee-shut'>1516: [-47.23773966379694, -7.085372829018426]<input type='checkbox' class='ee-toggle'></label><ul><li><span class='ee-k'>0:</span><span class='ee-v'>-47.23773966379694</span></li><li><span class='ee-k'>1:</span><span class='ee-v'>-7.085372829018426</span></li></ul></li><li><label class='ee-shut'>1517: [-47.23821947790236, -7.085213448150702]<input type='checkbox' class='ee-toggle'></label><ul><li><span class='ee-k'>0:</span><span class='ee-v'>-47.23821947790236</span></li><li><span class='ee-k'>1:</span><span class='ee-v'>-7.085213448150702</span></li></ul></li><li><label class='ee-shut'>1518: [-47.23860526956569, -7.08510393639347]<input type='checkbox' class='ee-toggle'></label><ul><li><span class='ee-k'>0:</span><span class='ee-v'>-47.23860526956569</span></li><li><span class='ee-k'>1:</span><span class='ee-v'>-7.08510393639347</span></li></ul></li><li><label class='ee-shut'>1519: [-47.23888265689821, -7.084873757307496]<input type='checkbox' class='ee-toggle'></label><ul><li><span class='ee-k'>0:</span><span class='ee-v'>-47.23888265689821</span></li><li><span class='ee-k'>1:</span><span class='ee-v'>-7.084873757307496</span></li></ul></li><li><label class='ee-shut'>1520: [-47.239329623942744, -7.084422923929369]<input type='checkbox' class='ee-toggle'></label><ul><li><span class='ee-k'>0:</span><span class='ee-v'>-47.239329623942744</span></li><li><span class='ee-k'>1:</span><span class='ee-v'>-7.084422923929369</span></li></ul></li><li><label class='ee-shut'>1521: [-47.23946753704425, -7.084144047165474]<input type='checkbox' class='ee-toggle'></label><ul><li><span class='ee-k'>0:</span><span class='ee-v'>-47.23946753704425</span></li><li><span class='ee-k'>1:</span><span class='ee-v'>-7.084144047165474</span></li></ul></li><li><label class='ee-shut'>1522: [-47.2394661959102, -7.0838793525584025]<input type='checkbox' class='ee-toggle'></label><ul><li><span class='ee-k'>0:</span><span class='ee-v'>-47.2394661959102</span></li><li><span class='ee-k'>1:</span><span class='ee-v'>-7.0838793525584025</span></li></ul></li><li><label class='ee-shut'>1523: [-47.23937470084778, -7.083525309742376]<input type='checkbox' class='ee-toggle'></label><ul><li><span class='ee-k'>0:</span><span class='ee-v'>-47.23937470084778</span></li><li><span class='ee-k'>1:</span><span class='ee-v'>-7.083525309742376</span></li></ul></li><li><label class='ee-shut'>1524: [-47.23932299279806, -7.083058916061106]<input type='checkbox' class='ee-toggle'></label><ul><li><span class='ee-k'>0:</span><span class='ee-v'>-47.23932299279806</span></li><li><span class='ee-k'>1:</span><span class='ee-v'>-7.083058916061106</span></li></ul></li><li><label class='ee-shut'>1525: [-47.239263238027135, -7.082767531431151]<input type='checkbox' class='ee-toggle'></label><ul><li><span class='ee-k'>0:</span><span class='ee-v'>-47.239263238027135</span></li><li><span class='ee-k'>1:</span><span class='ee-v'>-7.082767531431151</span></li></ul></li><li><label class='ee-shut'>1526: [-47.239258097033876, -7.082632976626646]<input type='checkbox' class='ee-toggle'></label><ul><li><span class='ee-k'>0:</span><span class='ee-v'>-47.239258097033876</span></li><li><span class='ee-k'>1:</span><span class='ee-v'>-7.082632976626646</span></li></ul></li><li><label class='ee-shut'>1527: [-47.239242897578535, -7.082274123373301]<input type='checkbox' class='ee-toggle'></label><ul><li><span class='ee-k'>0:</span><span class='ee-v'>-47.239242897578535</span></li><li><span class='ee-k'>1:</span><span class='ee-v'>-7.082274123373301</span></li></ul></li><li><label class='ee-shut'>1528: [-47.23930399345565, -7.081914872353463]<input type='checkbox' class='ee-toggle'></label><ul><li><span class='ee-k'>0:</span><span class='ee-v'>-47.23930399345565</span></li><li><span class='ee-k'>1:</span><span class='ee-v'>-7.081914872353463</span></li></ul></li><li><label class='ee-shut'>1529: [-47.23947275256587, -7.081514682816991]<input type='checkbox' class='ee-toggle'></label><ul><li><span class='ee-k'>0:</span><span class='ee-v'>-47.23947275256587</span></li><li><span class='ee-k'>1:</span><span class='ee-v'>-7.081514682816991</span></li></ul></li><li><label class='ee-shut'>1530: [-47.23968748350003, -7.081325229351848]<input type='checkbox' class='ee-toggle'></label><ul><li><span class='ee-k'>0:</span><span class='ee-v'>-47.23968748350003</span></li><li><span class='ee-k'>1:</span><span class='ee-v'>-7.081325229351848</span></li></ul></li><li><label class='ee-shut'>1531: [-47.240148465110806, -7.080986457809196]<input type='checkbox' class='ee-toggle'></label><ul><li><span class='ee-k'>0:</span><span class='ee-v'>-47.240148465110806</span></li><li><span class='ee-k'>1:</span><span class='ee-v'>-7.080986457809196</span></li></ul></li><li><label class='ee-shut'>1532: [-47.24072277931121, -7.080858079337707]<input type='checkbox' class='ee-toggle'></label><ul><li><span class='ee-k'>0:</span><span class='ee-v'>-47.24072277931121</span></li><li><span class='ee-k'>1:</span><span class='ee-v'>-7.080858079337707</span></li></ul></li><li><label class='ee-shut'>1533: [-47.241279217494316, -7.080747698487968]<input type='checkbox' class='ee-toggle'></label><ul><li><span class='ee-k'>0:</span><span class='ee-v'>-47.241279217494316</span></li><li><span class='ee-k'>1:</span><span class='ee-v'>-7.080747698487968</span></li></ul></li><li><label class='ee-shut'>1534: [-47.24191143930025, -7.080529284363371]<input type='checkbox' class='ee-toggle'></label><ul><li><span class='ee-k'>0:</span><span class='ee-v'>-47.24191143930025</span></li><li><span class='ee-k'>1:</span><span class='ee-v'>-7.080529284363371</span></li></ul></li><li><label class='ee-shut'>1535: [-47.24223854355086, -7.080370660732619]<input type='checkbox' class='ee-toggle'></label><ul><li><span class='ee-k'>0:</span><span class='ee-v'>-47.24223854355086</span></li><li><span class='ee-k'>1:</span><span class='ee-v'>-7.080370660732619</span></li></ul></li><li><label class='ee-shut'>1536: [-47.2425295861174, -7.08018528091269]<input type='checkbox' class='ee-toggle'></label><ul><li><span class='ee-k'>0:</span><span class='ee-v'>-47.2425295861174</span></li><li><span class='ee-k'>1:</span><span class='ee-v'>-7.08018528091269</span></li></ul></li><li><label class='ee-shut'>1537: [-47.24293269694461, -7.0799500411131]<input type='checkbox' class='ee-toggle'></label><ul><li><span class='ee-k'>0:</span><span class='ee-v'>-47.24293269694461</span></li><li><span class='ee-k'>1:</span><span class='ee-v'>-7.0799500411131</span></li></ul></li><li><label class='ee-shut'>1538: [-47.24319222449343, -7.079746882245575]<input type='checkbox' class='ee-toggle'></label><ul><li><span class='ee-k'>0:</span><span class='ee-v'>-47.24319222449343</span></li><li><span class='ee-k'>1:</span><span class='ee-v'>-7.079746882245575</span></li></ul></li><li><label class='ee-shut'>1539: [-47.24361322372797, -7.079498059754641]<input type='checkbox' class='ee-toggle'></label><ul><li><span class='ee-k'>0:</span><span class='ee-v'>-47.24361322372797</span></li><li><span class='ee-k'>1:</span><span class='ee-v'>-7.079498059754641</span></li></ul></li><li><label class='ee-shut'>1540: [-47.243904125031555, -7.079281265235653]<input type='checkbox' class='ee-toggle'></label><ul><li><span class='ee-k'>0:</span><span class='ee-v'>-47.243904125031555</span></li><li><span class='ee-k'>1:</span><span class='ee-v'>-7.079281265235653</span></li></ul></li><li><label class='ee-shut'>1541: [-47.244275503467534, -7.078983370205121]<input type='checkbox' class='ee-toggle'></label><ul><li><span class='ee-k'>0:</span><span class='ee-v'>-47.244275503467534</span></li><li><span class='ee-k'>1:</span><span class='ee-v'>-7.078983370205121</span></li></ul></li><li><label class='ee-shut'>1542: [-47.24600523528629, -7.07815838504648]<input type='checkbox' class='ee-toggle'></label><ul><li><span class='ee-k'>0:</span><span class='ee-v'>-47.24600523528629</span></li><li><span class='ee-k'>1:</span><span class='ee-v'>-7.07815838504648</span></li></ul></li><li><label class='ee-shut'>1543: [-47.24697761551504, -7.077687064498271]<input type='checkbox' class='ee-toggle'></label><ul><li><span class='ee-k'>0:</span><span class='ee-v'>-47.24697761551504</span></li><li><span class='ee-k'>1:</span><span class='ee-v'>-7.077687064498271</span></li></ul></li><li><label class='ee-shut'>1544: [-47.24781043885489, -7.077144623560739]<input type='checkbox' class='ee-toggle'></label><ul><li><span class='ee-k'>0:</span><span class='ee-v'>-47.24781043885489</span></li><li><span class='ee-k'>1:</span><span class='ee-v'>-7.077144623560739</span></li></ul></li><li><label class='ee-shut'>1545: [-47.24840980277669, -7.076630235451172]<input type='checkbox' class='ee-toggle'></label><ul><li><span class='ee-k'>0:</span><span class='ee-v'>-47.24840980277669</span></li><li><span class='ee-k'>1:</span><span class='ee-v'>-7.076630235451172</span></li></ul></li><li><label class='ee-shut'>1546: [-47.24856607224795, -7.076427576580475]<input type='checkbox' class='ee-toggle'></label><ul><li><span class='ee-k'>0:</span><span class='ee-v'>-47.24856607224795</span></li><li><span class='ee-k'>1:</span><span class='ee-v'>-7.076427576580475</span></li></ul></li><li><label class='ee-shut'>1547: [-47.24879760828692, -7.07600918800768]<input type='checkbox' class='ee-toggle'></label><ul><li><span class='ee-k'>0:</span><span class='ee-v'>-47.24879760828692</span></li><li><span class='ee-k'>1:</span><span class='ee-v'>-7.07600918800768</span></li></ul></li><li><label class='ee-shut'>1548: [-47.24916291122685, -7.075388187859824]<input type='checkbox' class='ee-toggle'></label><ul><li><span class='ee-k'>0:</span><span class='ee-v'>-47.24916291122685</span></li><li><span class='ee-k'>1:</span><span class='ee-v'>-7.075388187859824</span></li></ul></li><li><label class='ee-shut'>1549: [-47.24938133411132, -7.075050621638739]<input type='checkbox' class='ee-toggle'></label><ul><li><span class='ee-k'>0:</span><span class='ee-v'>-47.24938133411132</span></li><li><span class='ee-k'>1:</span><span class='ee-v'>-7.075050621638739</span></li></ul></li><li><label class='ee-shut'>1550: [-47.24943923756958, -7.074956101671074]<input type='checkbox' class='ee-toggle'></label><ul><li><span class='ee-k'>0:</span><span class='ee-v'>-47.24943923756958</span></li><li><span class='ee-k'>1:</span><span class='ee-v'>-7.074956101671074</span></li></ul></li><li><label class='ee-shut'>1551: [-47.24973300360702, -7.074398332089161]<input type='checkbox' class='ee-toggle'></label><ul><li><span class='ee-k'>0:</span><span class='ee-v'>-47.24973300360702</span></li><li><span class='ee-k'>1:</span><span class='ee-v'>-7.074398332089161</span></li></ul></li><li><label class='ee-shut'>1552: [-47.250116347701855, -7.073790741543604]<input type='checkbox' class='ee-toggle'></label><ul><li><span class='ee-k'>0:</span><span class='ee-v'>-47.250116347701855</span></li><li><span class='ee-k'>1:</span><span class='ee-v'>-7.073790741543604</span></li></ul></li><li><label class='ee-shut'>1553: [-47.25049969464757, -7.073187636089481]<input type='checkbox' class='ee-toggle'></label><ul><li><span class='ee-k'>0:</span><span class='ee-v'>-47.25049969464757</span></li><li><span class='ee-k'>1:</span><span class='ee-v'>-7.073187636089481</span></li></ul></li><li><label class='ee-shut'>1554: [-47.25090212258004, -7.072813312967846]<input type='checkbox' class='ee-toggle'></label><ul><li><span class='ee-k'>0:</span><span class='ee-v'>-47.25090212258004</span></li><li><span class='ee-k'>1:</span><span class='ee-v'>-7.072813312967846</span></li></ul></li><li><label class='ee-shut'>1555: [-47.25127355144492, -7.072546778939851]<input type='checkbox' class='ee-toggle'></label><ul><li><span class='ee-k'>0:</span><span class='ee-v'>-47.25127355144492</span></li><li><span class='ee-k'>1:</span><span class='ee-v'>-7.072546778939851</span></li></ul></li><li><label class='ee-shut'>1556: [-47.2514705201251, -7.072406697440201]<input type='checkbox' class='ee-toggle'></label><ul><li><span class='ee-k'>0:</span><span class='ee-v'>-47.2514705201251</span></li><li><span class='ee-k'>1:</span><span class='ee-v'>-7.072406697440201</span></li></ul></li><li><label class='ee-shut'>1557: [-47.25185626195284, -7.072297157046569]<input type='checkbox' class='ee-toggle'></label><ul><li><span class='ee-k'>0:</span><span class='ee-v'>-47.25185626195284</span></li><li><span class='ee-k'>1:</span><span class='ee-v'>-7.072297157046569</span></li></ul></li><li><label class='ee-shut'>1558: [-47.252259967416606, -7.0721875593024786]<input type='checkbox' class='ee-toggle'></label><ul><li><span class='ee-k'>0:</span><span class='ee-v'>-47.252259967416606</span></li><li><span class='ee-k'>1:</span><span class='ee-v'>-7.0721875593024786</span></li></ul></li><li><label class='ee-shut'>1559: [-47.25278545253348, -7.0721850049222565]<input type='checkbox' class='ee-toggle'></label><ul><li><span class='ee-k'>0:</span><span class='ee-v'>-47.25278545253348</span></li><li><span class='ee-k'>1:</span><span class='ee-v'>-7.0721850049222565</span></li></ul></li><li><label class='ee-shut'>1560: [-47.25323425430281, -7.0721199734674745]<input type='checkbox' class='ee-toggle'></label><ul><li><span class='ee-k'>0:</span><span class='ee-v'>-47.25323425430281</span></li><li><span class='ee-k'>1:</span><span class='ee-v'>-7.0721199734674745</span></li></ul></li><li><label class='ee-shut'>1561: [-47.25356143042284, -7.07196585071707]<input type='checkbox' class='ee-toggle'></label><ul><li><span class='ee-k'>0:</span><span class='ee-v'>-47.25356143042284</span></li><li><span class='ee-k'>1:</span><span class='ee-v'>-7.07196585071707</span></li></ul></li><li><label class='ee-shut'>1562: [-47.25372278341962, -7.071893305267555]<input type='checkbox' class='ee-toggle'></label><ul><li><span class='ee-k'>0:</span><span class='ee-v'>-47.25372278341962</span></li><li><span class='ee-k'>1:</span><span class='ee-v'>-7.071893305267555</span></li></ul></li><li><label class='ee-shut'>1563: [-47.25388413692138, -7.071825244161249]<input type='checkbox' class='ee-toggle'></label><ul><li><span class='ee-k'>0:</span><span class='ee-v'>-47.25388413692138</span></li><li><span class='ee-k'>1:</span><span class='ee-v'>-7.071825244161249</span></li></ul></li><li><label class='ee-shut'>1564: [-47.25430030458884, -7.071513593332213]<input type='checkbox' class='ee-toggle'></label><ul><li><span class='ee-k'>0:</span><span class='ee-v'>-47.25430030458884</span></li><li><span class='ee-k'>1:</span><span class='ee-v'>-7.071513593332213</span></li></ul></li><li><label class='ee-shut'>1565: [-47.25484228155848, -7.071201364826102]<input type='checkbox' class='ee-toggle'></label><ul><li><span class='ee-k'>0:</span><span class='ee-v'>-47.25484228155848</span></li><li><span class='ee-k'>1:</span><span class='ee-v'>-7.071201364826102</span></li></ul></li><li><label class='ee-shut'>1566: [-47.255366749569774, -7.070996934464623]<input type='checkbox' class='ee-toggle'></label><ul><li><span class='ee-k'>0:</span><span class='ee-v'>-47.255366749569774</span></li><li><span class='ee-k'>1:</span><span class='ee-v'>-7.070996934464623</span></li></ul></li><li><label class='ee-shut'>1567: [-47.25606175057013, -7.070746820558112]<input type='checkbox' class='ee-toggle'></label><ul><li><span class='ee-k'>0:</span><span class='ee-v'>-47.25606175057013</span></li><li><span class='ee-k'>1:</span><span class='ee-v'>-7.070746820558112</span></li></ul></li><li><label class='ee-shut'>1568: [-47.25663661477649, -7.070744008572127]<input type='checkbox' class='ee-toggle'></label><ul><li><span class='ee-k'>0:</span><span class='ee-v'>-47.25663661477649</span></li><li><span class='ee-k'>1:</span><span class='ee-v'>-7.070744008572127</span></li></ul></li><li><label class='ee-shut'>1569: [-47.25717600764713, -7.070835601985823]<input type='checkbox' class='ee-toggle'></label><ul><li><span class='ee-k'>0:</span><span class='ee-v'>-47.25717600764713</span></li><li><span class='ee-k'>1:</span><span class='ee-v'>-7.070835601985823</span></li></ul></li><li><label class='ee-shut'>1570: [-47.257355781680054, -7.070852676149609]<input type='checkbox' class='ee-toggle'></label><ul><li><span class='ee-k'>0:</span><span class='ee-v'>-47.257355781680054</span></li><li><span class='ee-k'>1:</span><span class='ee-v'>-7.070852676149609</span></li></ul></li><li><label class='ee-shut'>1571: [-47.25784114488591, -7.0709086710712015]<input type='checkbox' class='ee-toggle'></label><ul><li><span class='ee-k'>0:</span><span class='ee-v'>-47.25784114488591</span></li><li><span class='ee-k'>1:</span><span class='ee-v'>-7.0709086710712015</span></li></ul></li><li><label class='ee-shut'>1572: [-47.258321742438596, -7.070919784537552]<input type='checkbox' class='ee-toggle'></label><ul><li><span class='ee-k'>0:</span><span class='ee-v'>-47.258321742438596</span></li><li><span class='ee-k'>1:</span><span class='ee-v'>-7.070919784537552</span></li></ul></li><li><label class='ee-shut'>1573: [-47.258676528865365, -7.070904629132793]<input type='checkbox' class='ee-toggle'></label><ul><li><span class='ee-k'>0:</span><span class='ee-v'>-47.258676528865365</span></li><li><span class='ee-k'>1:</span><span class='ee-v'>-7.070904629132793</span></li></ul></li><li><label class='ee-shut'>1574: [-47.25926439149603, -7.070794061180887]<input type='checkbox' class='ee-toggle'></label><ul><li><span class='ee-k'>0:</span><span class='ee-v'>-47.25926439149603</span></li><li><span class='ee-k'>1:</span><span class='ee-v'>-7.070794061180887</span></li></ul></li><li><label class='ee-shut'>1575: [-47.25982580022816, -7.070791362819632]<input type='checkbox' class='ee-toggle'></label><ul><li><span class='ee-k'>0:</span><span class='ee-v'>-47.25982580022816</span></li><li><span class='ee-k'>1:</span><span class='ee-v'>-7.070791362819632</span></li></ul></li><li><label class='ee-shut'>1576: [-47.26027086186502, -7.070883420326852]<input type='checkbox' class='ee-toggle'></label><ul><li><span class='ee-k'>0:</span><span class='ee-v'>-47.26027086186502</span></li><li><span class='ee-k'>1:</span><span class='ee-v'>-7.070883420326852</span></li></ul></li><li><label class='ee-shut'>1577: [-47.260814839585585, -7.070988475896751]<input type='checkbox' class='ee-toggle'></label><ul><li><span class='ee-k'>0:</span><span class='ee-v'>-47.260814839585585</span></li><li><span class='ee-k'>1:</span><span class='ee-v'>-7.070988475896751</span></li></ul></li><li><label class='ee-shut'>1578: [-47.26121958419914, -7.071094175382483]<input type='checkbox' class='ee-toggle'></label><ul><li><span class='ee-k'>0:</span><span class='ee-v'>-47.26121958419914</span></li><li><span class='ee-k'>1:</span><span class='ee-v'>-7.071094175382483</span></li></ul></li><li><label class='ee-shut'>1579: [-47.26158885120846, -7.071294288962651]<input type='checkbox' class='ee-toggle'></label><ul><li><span class='ee-k'>0:</span><span class='ee-v'>-47.26158885120846</span></li><li><span class='ee-k'>1:</span><span class='ee-v'>-7.071294288962651</span></li></ul></li><li><label class='ee-shut'>1580: [-47.26177818170556, -7.071432462953104]<input type='checkbox' class='ee-toggle'></label><ul><li><span class='ee-k'>0:</span><span class='ee-v'>-47.26177818170556</span></li><li><span class='ee-k'>1:</span><span class='ee-v'>-7.071432462953104</span></li></ul></li><li><label class='ee-shut'>1581: [-47.262228179853096, -7.071614277385158]<input type='checkbox' class='ee-toggle'></label><ul><li><span class='ee-k'>0:</span><span class='ee-v'>-47.262228179853096</span></li><li><span class='ee-k'>1:</span><span class='ee-v'>-7.071614277385158</span></li></ul></li><li><label class='ee-shut'>1582: [-47.26252067702722, -7.0717205118547195]<input type='checkbox' class='ee-toggle'></label><ul><li><span class='ee-k'>0:</span><span class='ee-v'>-47.26252067702722</span></li><li><span class='ee-k'>1:</span><span class='ee-v'>-7.0717205118547195</span></li></ul></li><li><label class='ee-shut'>1583: [-47.26293900155618, -7.071857565502652]<input type='checkbox' class='ee-toggle'></label><ul><li><span class='ee-k'>0:</span><span class='ee-v'>-47.26293900155618</span></li><li><span class='ee-k'>1:</span><span class='ee-v'>-7.071857565502652</span></li></ul></li><li><label class='ee-shut'>1584: [-47.263159346346434, -7.071901391411844]<input type='checkbox' class='ee-toggle'></label><ul><li><span class='ee-k'>0:</span><span class='ee-v'>-47.263159346346434</span></li><li><span class='ee-k'>1:</span><span class='ee-v'>-7.071901391411844</span></li></ul></li><li><label class='ee-shut'>1585: [-47.263483081959066, -7.071980578532868]<input type='checkbox' class='ee-toggle'></label><ul><li><span class='ee-k'>0:</span><span class='ee-v'>-47.263483081959066</span></li><li><span class='ee-k'>1:</span><span class='ee-v'>-7.071980578532868</span></li></ul></li><li><label class='ee-shut'>1586: [-47.26362240145613, -7.07200230743132]<input type='checkbox' class='ee-toggle'></label><ul><li><span class='ee-k'>0:</span><span class='ee-v'>-47.26362240145613</span></li><li><span class='ee-k'>1:</span><span class='ee-v'>-7.07200230743132</span></li></ul></li><li><label class='ee-shut'>1587: [-47.26376179587204, -7.072024044771602]<input type='checkbox' class='ee-toggle'></label><ul><li><span class='ee-k'>0:</span><span class='ee-v'>-47.26376179587204</span></li><li><span class='ee-k'>1:</span><span class='ee-v'>-7.072024044771602</span></li></ul></li><li><label class='ee-shut'>1588: [-47.263995263726855, -7.072009464456338]<input type='checkbox' class='ee-toggle'></label><ul><li><span class='ee-k'>0:</span><span class='ee-v'>-47.263995263726855</span></li><li><span class='ee-k'>1:</span><span class='ee-v'>-7.072009464456338</span></li></ul></li><li><label class='ee-shut'>1589: [-47.264273234974084, -7.071913929225365]<input type='checkbox' class='ee-toggle'></label><ul><li><span class='ee-k'>0:</span><span class='ee-v'>-47.264273234974084</span></li><li><span class='ee-k'>1:</span><span class='ee-v'>-7.071913929225365</span></li></ul></li><li><label class='ee-shut'>1590: [-47.264443417627355, -7.071805404436526]<input type='checkbox' class='ee-toggle'></label><ul><li><span class='ee-k'>0:</span><span class='ee-v'>-47.264443417627355</span></li><li><span class='ee-k'>1:</span><span class='ee-v'>-7.071805404436526</span></li></ul></li><li><label class='ee-shut'>1591: [-47.264581845193014, -7.071647683962748]<input type='checkbox' class='ee-toggle'></label><ul><li><span class='ee-k'>0:</span><span class='ee-v'>-47.264581845193014</span></li><li><span class='ee-k'>1:</span><span class='ee-v'>-7.071647683962748</span></li></ul></li><li><label class='ee-shut'>1592: [-47.2645952630705, -7.071634163433538]<input type='checkbox' class='ee-toggle'></label><ul><li><span class='ee-k'>0:</span><span class='ee-v'>-47.2645952630705</span></li><li><span class='ee-k'>1:</span><span class='ee-v'>-7.071634163433538</span></li></ul></li><li><label class='ee-shut'>1593: [-47.26476447771389, -7.071337210857375]<input type='checkbox' class='ee-toggle'></label><ul><li><span class='ee-k'>0:</span><span class='ee-v'>-47.26476447771389</span></li><li><span class='ee-k'>1:</span><span class='ee-v'>-7.071337210857375</span></li></ul></li><li><label class='ee-shut'>1594: [-47.26476253956946, -7.070937869518976]<input type='checkbox' class='ee-toggle'></label><ul><li><span class='ee-k'>0:</span><span class='ee-v'>-47.26476253956946</span></li><li><span class='ee-k'>1:</span><span class='ee-v'>-7.070937869518976</span></li></ul></li><li><label class='ee-shut'>1595: [-47.26472877114161, -7.070457932928885]<input type='checkbox' class='ee-toggle'></label><ul><li><span class='ee-k'>0:</span><span class='ee-v'>-47.26472877114161</span></li><li><span class='ee-k'>1:</span><span class='ee-v'>-7.070457932928885</span></li></ul></li><li><label class='ee-shut'>1596: [-47.264771484852055, -7.07000905813918]<input type='checkbox' class='ee-toggle'></label><ul><li><span class='ee-k'>0:</span><span class='ee-v'>-47.264771484852055</span></li><li><span class='ee-k'>1:</span><span class='ee-v'>-7.07000905813918</span></li></ul></li><li><label class='ee-shut'>1597: [-47.26484960705271, -7.069452307789862]<input type='checkbox' class='ee-toggle'></label><ul><li><span class='ee-k'>0:</span><span class='ee-v'>-47.26484960705271</span></li><li><span class='ee-k'>1:</span><span class='ee-v'>-7.069452307789862</span></li></ul></li><li><label class='ee-shut'>1598: [-47.265000037348635, -7.0689849575006685]<input type='checkbox' class='ee-toggle'></label><ul><li><span class='ee-k'>0:</span><span class='ee-v'>-47.265000037348635</span></li><li><span class='ee-k'>1:</span><span class='ee-v'>-7.0689849575006685</span></li></ul></li><li><label class='ee-shut'>1599: [-47.26515464257963, -7.068445751672882]<input type='checkbox' class='ee-toggle'></label><ul><li><span class='ee-k'>0:</span><span class='ee-v'>-47.26515464257963</span></li><li><span class='ee-k'>1:</span><span class='ee-v'>-7.068445751672882</span></li></ul></li><li><label class='ee-shut'>1600: [-47.265412567477455, -7.0679195319924]<input type='checkbox' class='ee-toggle'></label><ul><li><span class='ee-k'>0:</span><span class='ee-v'>-47.265412567477455</span></li><li><span class='ee-k'>1:</span><span class='ee-v'>-7.0679195319924</span></li></ul></li><li><label class='ee-shut'>1601: [-47.26559945201689, -7.067559707921932]<input type='checkbox' class='ee-toggle'></label><ul><li><span class='ee-k'>0:</span><span class='ee-v'>-47.26559945201689</span></li><li><span class='ee-k'>1:</span><span class='ee-v'>-7.067559707921932</span></li></ul></li><li><label class='ee-shut'>1602: [-47.26605969628618, -7.067063892688109]<input type='checkbox' class='ee-toggle'></label><ul><li><span class='ee-k'>0:</span><span class='ee-v'>-47.26605969628618</span></li><li><span class='ee-k'>1:</span><span class='ee-v'>-7.067063892688109</span></li></ul></li><li><label class='ee-shut'>1603: [-47.26661476796592, -7.066688809864478]<input type='checkbox' class='ee-toggle'></label><ul><li><span class='ee-k'>0:</span><span class='ee-v'>-47.26661476796592</span></li><li><span class='ee-k'>1:</span><span class='ee-v'>-7.066688809864478</span></li></ul></li><li><label class='ee-shut'>1604: [-47.26715754528262, -7.066547069955119]<input type='checkbox' class='ee-toggle'></label><ul><li><span class='ee-k'>0:</span><span class='ee-v'>-47.26715754528262</span></li><li><span class='ee-k'>1:</span><span class='ee-v'>-7.066547069955119</span></li></ul></li><li><label class='ee-shut'>1605: [-47.26786694393986, -7.066498721755285]<input type='checkbox' class='ee-toggle'></label><ul><li><span class='ee-k'>0:</span><span class='ee-v'>-47.26786694393986</span></li><li><span class='ee-k'>1:</span><span class='ee-v'>-7.066498721755285</span></li></ul></li><li><label class='ee-shut'>1606: [-47.268719860387584, -7.06641829435702]<input type='checkbox' class='ee-toggle'></label><ul><li><span class='ee-k'>0:</span><span class='ee-v'>-47.268719860387584</span></li><li><span class='ee-k'>1:</span><span class='ee-v'>-7.06641829435702</span></li></ul></li><li><label class='ee-shut'>1607: [-47.26949227595425, -7.066396627668554]<input type='checkbox' class='ee-toggle'></label><ul><li><span class='ee-k'>0:</span><span class='ee-v'>-47.26949227595425</span></li><li><span class='ee-k'>1:</span><span class='ee-v'>-7.066396627668554</span></li></ul></li><li><label class='ee-shut'>1608: [-47.2702059561684, -7.066303393743445]<input type='checkbox' class='ee-toggle'></label><ul><li><span class='ee-k'>0:</span><span class='ee-v'>-47.2702059561684</span></li><li><span class='ee-k'>1:</span><span class='ee-v'>-7.066303393743445</span></li></ul></li><li><label class='ee-shut'>1609: [-47.27068562519515, -7.066112635557714]<input type='checkbox' class='ee-toggle'></label><ul><li><span class='ee-k'>0:</span><span class='ee-v'>-47.27068562519515</span></li><li><span class='ee-k'>1:</span><span class='ee-v'>-7.066112635557714</span></li></ul></li><li><label class='ee-shut'>1610: [-47.271191988756755, -7.065881296387976]<input type='checkbox' class='ee-toggle'></label><ul><li><span class='ee-k'>0:</span><span class='ee-v'>-47.271191988756755</span></li><li><span class='ee-k'>1:</span><span class='ee-v'>-7.065881296387976</span></li></ul></li><li><label class='ee-shut'>1611: [-47.2716082215358, -7.0655831894411225]<input type='checkbox' class='ee-toggle'></label><ul><li><span class='ee-k'>0:</span><span class='ee-v'>-47.2716082215358</span></li><li><span class='ee-k'>1:</span><span class='ee-v'>-7.0655831894411225</span></li></ul></li><li><label class='ee-shut'>1612: [-47.27197950132363, -7.065271736107416]<input type='checkbox' class='ee-toggle'></label><ul><li><span class='ee-k'>0:</span><span class='ee-v'>-47.27197950132363</span></li><li><span class='ee-k'>1:</span><span class='ee-v'>-7.065271736107416</span></li></ul></li><li><label class='ee-shut'>1613: [-47.272333039700655, -7.065009828182423]<input type='checkbox' class='ee-toggle'></label><ul><li><span class='ee-k'>0:</span><span class='ee-v'>-47.272333039700655</span></li><li><span class='ee-k'>1:</span><span class='ee-v'>-7.065009828182423</span></li></ul></li><li><label class='ee-shut'>1614: [-47.272704473814024, -7.064729784416767]<input type='checkbox' class='ee-toggle'></label><ul><li><span class='ee-k'>0:</span><span class='ee-v'>-47.272704473814024</span></li><li><span class='ee-k'>1:</span><span class='ee-v'>-7.064729784416767</span></li></ul></li><li><label class='ee-shut'>1615: [-47.2730267036467, -7.064494918036104]<input type='checkbox' class='ee-toggle'></label><ul><li><span class='ee-k'>0:</span><span class='ee-v'>-47.2730267036467</span></li><li><span class='ee-k'>1:</span><span class='ee-v'>-7.064494918036104</span></li></ul></li><li><label class='ee-shut'>1616: [-47.273505876995486, -7.064214381499578]<input type='checkbox' class='ee-toggle'></label><ul><li><span class='ee-k'>0:</span><span class='ee-v'>-47.273505876995486</span></li><li><span class='ee-k'>1:</span><span class='ee-v'>-7.064214381499578</span></li></ul></li><li><label class='ee-shut'>1617: [-47.2739229485665, -7.064086727748711]<input type='checkbox' class='ee-toggle'></label><ul><li><span class='ee-k'>0:</span><span class='ee-v'>-47.2739229485665</span></li><li><span class='ee-k'>1:</span><span class='ee-v'>-7.064086727748711</span></li></ul></li><li><label class='ee-shut'>1618: [-47.27440324860537, -7.064021600523471]<input type='checkbox' class='ee-toggle'></label><ul><li><span class='ee-k'>0:</span><span class='ee-v'>-47.27440324860537</span></li><li><span class='ee-k'>1:</span><span class='ee-v'>-7.064021600523471</span></li></ul></li><li><label class='ee-shut'>1619: [-47.27491531510311, -7.064037058617324]<input type='checkbox' class='ee-toggle'></label><ul><li><span class='ee-k'>0:</span><span class='ee-v'>-47.27491531510311</span></li><li><span class='ee-k'>1:</span><span class='ee-v'>-7.064037058617324</span></li></ul></li><li><label class='ee-shut'>1620: [-47.27527043933393, -7.064098124129072]<input type='checkbox' class='ee-toggle'></label><ul><li><span class='ee-k'>0:</span><span class='ee-v'>-47.27527043933393</span></li><li><span class='ee-k'>1:</span><span class='ee-v'>-7.064098124129072</span></li></ul></li><li><label class='ee-shut'>1621: [-47.27571995868641, -7.064185622862954]<input type='checkbox' class='ee-toggle'></label><ul><li><span class='ee-k'>0:</span><span class='ee-v'>-47.27571995868641</span></li><li><span class='ee-k'>1:</span><span class='ee-v'>-7.064185622862954</span></li></ul></li><li><label class='ee-shut'>1622: [-47.27616992931657, -7.064353971437636]<input type='checkbox' class='ee-toggle'></label><ul><li><span class='ee-k'>0:</span><span class='ee-v'>-47.27616992931657</span></li><li><span class='ee-k'>1:</span><span class='ee-v'>-7.064353971437636</span></li></ul></li><li><label class='ee-shut'>1623: [-47.27671504397872, -7.064692308530594]<input type='checkbox' class='ee-toggle'></label><ul><li><span class='ee-k'>0:</span><span class='ee-v'>-47.27671504397872</span></li><li><span class='ee-k'>1:</span><span class='ee-v'>-7.064692308530594</span></li></ul></li><li><label class='ee-shut'>1624: [-47.27704013219645, -7.0650451435289146]<input type='checkbox' class='ee-toggle'></label><ul><li><span class='ee-k'>0:</span><span class='ee-v'>-47.27704013219645</span></li><li><span class='ee-k'>1:</span><span class='ee-v'>-7.0650451435289146</span></li></ul></li><li><label class='ee-shut'>1625: [-47.27728931817509, -7.065492593091397]<input type='checkbox' class='ee-toggle'></label><ul><li><span class='ee-k'>0:</span><span class='ee-v'>-47.27728931817509</span></li><li><span class='ee-k'>1:</span><span class='ee-v'>-7.065492593091397</span></li></ul></li><li><label class='ee-shut'>1626: [-47.27749361876767, -7.06592683916059]<input type='checkbox' class='ee-toggle'></label><ul><li><span class='ee-k'>0:</span><span class='ee-v'>-47.27749361876767</span></li><li><span class='ee-k'>1:</span><span class='ee-v'>-7.06592683916059</span></li></ul></li><li><label class='ee-shut'>1627: [-47.27767980143523, -7.066343190903468]<input type='checkbox' class='ee-toggle'></label><ul><li><span class='ee-k'>0:</span><span class='ee-v'>-47.27767980143523</span></li><li><span class='ee-k'>1:</span><span class='ee-v'>-7.066343190903468</span></li></ul></li><li><label class='ee-shut'>1628: [-47.277784263850734, -7.066580512159645]<input type='checkbox' class='ee-toggle'></label><ul><li><span class='ee-k'>0:</span><span class='ee-v'>-47.277784263850734</span></li><li><span class='ee-k'>1:</span><span class='ee-v'>-7.066580512159645</span></li></ul></li><li><label class='ee-shut'>1629: [-47.27782057596045, -7.066665536947622]<input type='checkbox' class='ee-toggle'></label><ul><li><span class='ee-k'>0:</span><span class='ee-v'>-47.27782057596045</span></li><li><span class='ee-k'>1:</span><span class='ee-v'>-7.066665536947622</span></li></ul></li><li><label class='ee-shut'>1630: [-47.27802383477108, -7.066897889538295]<input type='checkbox' class='ee-toggle'></label><ul><li><span class='ee-k'>0:</span><span class='ee-v'>-47.27802383477108</span></li><li><span class='ee-k'>1:</span><span class='ee-v'>-7.066897889538295</span></li></ul></li><li><label class='ee-shut'>1631: [-47.27827168335454, -7.067067165254325]<input type='checkbox' class='ee-toggle'></label><ul><li><span class='ee-k'>0:</span><span class='ee-v'>-47.27827168335454</span></li><li><span class='ee-k'>1:</span><span class='ee-v'>-7.067067165254325</span></li></ul></li><li><label class='ee-shut'>1632: [-47.278505664246325, -7.067160264230258]<input type='checkbox' class='ee-toggle'></label><ul><li><span class='ee-k'>0:</span><span class='ee-v'>-47.278505664246325</span></li><li><span class='ee-k'>1:</span><span class='ee-v'>-7.067160264230258</span></li></ul></li><li><label class='ee-shut'>1633: [-47.27877073948239, -7.067172398971745]<input type='checkbox' class='ee-toggle'></label><ul><li><span class='ee-k'>0:</span><span class='ee-v'>-47.27877073948239</span></li><li><span class='ee-k'>1:</span><span class='ee-v'>-7.067172398971745</span></li></ul></li><li><label class='ee-shut'>1634: [-47.27878416104953, -7.067158875631579]<input type='checkbox' class='ee-toggle'></label><ul><li><span class='ee-k'>0:</span><span class='ee-v'>-47.27878416104953</span></li><li><span class='ee-k'>1:</span><span class='ee-v'>-7.067158875631579</span></li></ul></li><li><label class='ee-shut'>1635: [-47.2791882264185, -7.067125523530742]<input type='checkbox' class='ee-toggle'></label><ul><li><span class='ee-k'>0:</span><span class='ee-v'>-47.2791882264185</span></li><li><span class='ee-k'>1:</span><span class='ee-v'>-7.067125523530742</span></li></ul></li><li><label class='ee-shut'>1636: [-47.27954226156476, -7.066966740655227]<input type='checkbox' class='ee-toggle'></label><ul><li><span class='ee-k'>0:</span><span class='ee-v'>-47.27954226156476</span></li><li><span class='ee-k'>1:</span><span class='ee-v'>-7.066966740655227</span></li></ul></li><li><label class='ee-shut'>1637: [-47.28016153064744, -7.066856055012575]<input type='checkbox' class='ee-toggle'></label><ul><li><span class='ee-k'>0:</span><span class='ee-v'>-47.28016153064744</span></li><li><span class='ee-k'>1:</span><span class='ee-v'>-7.066856055012575</span></li></ul></li><li><label class='ee-shut'>1638: [-47.28020634498967, -7.066846828790539]<input type='checkbox' class='ee-toggle'></label><ul><li><span class='ee-k'>0:</span><span class='ee-v'>-47.28020634498967</span></li><li><span class='ee-k'>1:</span><span class='ee-v'>-7.066846828790539</span></li></ul></li><li><label class='ee-shut'>1639: [-47.28030581656385, -7.066971957326755]<input type='checkbox' class='ee-toggle'></label><ul><li><span class='ee-k'>0:</span><span class='ee-v'>-47.28030581656385</span></li><li><span class='ee-k'>1:</span><span class='ee-v'>-7.066971957326755</span></li></ul></li><li><label class='ee-shut'>1640: [-47.28054577201953, -7.067365648580235]<input type='checkbox' class='ee-toggle'></label><ul><li><span class='ee-k'>0:</span><span class='ee-v'>-47.28054577201953</span></li><li><span class='ee-k'>1:</span><span class='ee-v'>-7.067365648580235</span></li></ul></li><li><label class='ee-shut'>1641: [-47.280928897740615, -7.067650893716379]<input type='checkbox' class='ee-toggle'></label><ul><li><span class='ee-k'>0:</span><span class='ee-v'>-47.280928897740615</span></li><li><span class='ee-k'>1:</span><span class='ee-v'>-7.067650893716379</span></li></ul></li><li><label class='ee-shut'>1642: [-47.28133909446754, -7.06795397963979]<input type='checkbox' class='ee-toggle'></label><ul><li><span class='ee-k'>0:</span><span class='ee-v'>-47.28133909446754</span></li><li><span class='ee-k'>1:</span><span class='ee-v'>-7.06795397963979</span></li></ul></li><li><label class='ee-shut'>1643: [-47.28177710853135, -7.068422966424295]<input type='checkbox' class='ee-toggle'></label><ul><li><span class='ee-k'>0:</span><span class='ee-v'>-47.28177710853135</span></li><li><span class='ee-k'>1:</span><span class='ee-v'>-7.068422966424295</span></li></ul></li><li><label class='ee-shut'>1644: [-47.282160839942364, -7.068829417267034]<input type='checkbox' class='ee-toggle'></label><ul><li><span class='ee-k'>0:</span><span class='ee-v'>-47.282160839942364</span></li><li><span class='ee-k'>1:</span><span class='ee-v'>-7.068829417267034</span></li></ul></li><li><label class='ee-shut'>1645: [-47.282680589521426, -7.06948638910591]<input type='checkbox' class='ee-toggle'></label><ul><li><span class='ee-k'>0:</span><span class='ee-v'>-47.282680589521426</span></li><li><span class='ee-k'>1:</span><span class='ee-v'>-7.06948638910591</span></li></ul></li><li><label class='ee-shut'>1646: [-47.28271884389369, -7.069957329963487]<input type='checkbox' class='ee-toggle'></label><ul><li><span class='ee-k'>0:</span><span class='ee-v'>-47.28271884389369</span></li><li><span class='ee-k'>1:</span><span class='ee-v'>-7.069957329963487</span></li></ul></li><li><label class='ee-shut'>1647: [-47.28317842056575, -7.070260201668817]<input type='checkbox' class='ee-toggle'></label><ul><li><span class='ee-k'>0:</span><span class='ee-v'>-47.28317842056575</span></li><li><span class='ee-k'>1:</span><span class='ee-v'>-7.070260201668817</span></li></ul></li><li><label class='ee-shut'>1648: [-47.28354777015631, -7.070478213799318]<input type='checkbox' class='ee-toggle'></label><ul><li><span class='ee-k'>0:</span><span class='ee-v'>-47.28354777015631</span></li><li><span class='ee-k'>1:</span><span class='ee-v'>-7.070478213799318</span></li></ul></li><li><label class='ee-shut'>1649: [-47.283944042773754, -7.070687132763988]<input type='checkbox' class='ee-toggle'></label><ul><li><span class='ee-k'>0:</span><span class='ee-v'>-47.283944042773754</span></li><li><span class='ee-k'>1:</span><span class='ee-v'>-7.070687132763988</span></li></ul></li><li><label class='ee-shut'>1650: [-47.28427760316957, -7.0709367512460215]<input type='checkbox' class='ee-toggle'></label><ul><li><span class='ee-k'>0:</span><span class='ee-v'>-47.28427760316957</span></li><li><span class='ee-k'>1:</span><span class='ee-v'>-7.0709367512460215</span></li></ul></li><li><label class='ee-shut'>1651: [-47.284736746276984, -7.071145373110389]<input type='checkbox' class='ee-toggle'></label><ul><li><span class='ee-k'>0:</span><span class='ee-v'>-47.284736746276984</span></li><li><span class='ee-k'>1:</span><span class='ee-v'>-7.071145373110389</span></li></ul></li><li><label class='ee-shut'>1652: [-47.28543445474331, -7.0714560387210215]<input type='checkbox' class='ee-toggle'></label><ul><li><span class='ee-k'>0:</span><span class='ee-v'>-47.28543445474331</span></li><li><span class='ee-k'>1:</span><span class='ee-v'>-7.0714560387210215</span></li></ul></li><li><label class='ee-shut'>1653: [-47.286069380622294, -7.071780480863421]<input type='checkbox' class='ee-toggle'></label><ul><li><span class='ee-k'>0:</span><span class='ee-v'>-47.286069380622294</span></li><li><span class='ee-k'>1:</span><span class='ee-v'>-7.071780480863421</span></li></ul></li><li><label class='ee-shut'>1654: [-47.286875987874595, -7.07231943183822]<input type='checkbox' class='ee-toggle'></label><ul><li><span class='ee-k'>0:</span><span class='ee-v'>-47.286875987874595</span></li><li><span class='ee-k'>1:</span><span class='ee-v'>-7.07231943183822</span></li></ul></li><li><label class='ee-shut'>1655: [-47.28792945858649, -7.072839164759177]<input type='checkbox' class='ee-toggle'></label><ul><li><span class='ee-k'>0:</span><span class='ee-v'>-47.28792945858649</span></li><li><span class='ee-k'>1:</span><span class='ee-v'>-7.072839164759177</span></li></ul></li><li><label class='ee-shut'>1656: [-47.2885639676671, -7.0730828195631705]<input type='checkbox' class='ee-toggle'></label><ul><li><span class='ee-k'>0:</span><span class='ee-v'>-47.2885639676671</span></li><li><span class='ee-k'>1:</span><span class='ee-v'>-7.0730828195631705</span></li></ul></li><li><label class='ee-shut'>1657: [-47.28923405888532, -7.073254530175885]<input type='checkbox' class='ee-toggle'></label><ul><li><span class='ee-k'>0:</span><span class='ee-v'>-47.28923405888532</span></li><li><span class='ee-k'>1:</span><span class='ee-v'>-7.073254530175885</span></li></ul></li><li><label class='ee-shut'>1658: [-47.28999790635505, -7.073327046039521]<input type='checkbox' class='ee-toggle'></label><ul><li><span class='ee-k'>0:</span><span class='ee-v'>-47.28999790635505</span></li><li><span class='ee-k'>1:</span><span class='ee-v'>-7.073327046039521</span></li></ul></li><li><label class='ee-shut'>1659: [-47.29000693059204, -7.07332698967568]<input type='checkbox' class='ee-toggle'></label><ul><li><span class='ee-k'>0:</span><span class='ee-v'>-47.29000693059204</span></li><li><span class='ee-k'>1:</span><span class='ee-v'>-7.07332698967568</span></li></ul></li><li><label class='ee-shut'>1660: [-47.29047403023447, -7.07332469914907]<input type='checkbox' class='ee-toggle'></label><ul><li><span class='ee-k'>0:</span><span class='ee-v'>-47.29047403023447</span></li><li><span class='ee-k'>1:</span><span class='ee-v'>-7.07332469914907</span></li></ul></li><li><label class='ee-shut'>1661: [-47.290904365273185, -7.073165576223719]<input type='checkbox' class='ee-toggle'></label><ul><li><span class='ee-k'>0:</span><span class='ee-v'>-47.290904365273185</span></li><li><span class='ee-k'>1:</span><span class='ee-v'>-7.073165576223719</span></li></ul></li><li><label class='ee-shut'>1662: [-47.29150982365559, -7.072978616278892]<input type='checkbox' class='ee-toggle'></label><ul><li><span class='ee-k'>0:</span><span class='ee-v'>-47.29150982365559</span></li><li><span class='ee-k'>1:</span><span class='ee-v'>-7.072978616278892</span></li></ul></li><li><label class='ee-shut'>1663: [-47.29194479148539, -7.072846363655999]<input type='checkbox' class='ee-toggle'></label><ul><li><span class='ee-k'>0:</span><span class='ee-v'>-47.29194479148539</span></li><li><span class='ee-k'>1:</span><span class='ee-v'>-7.072846363655999</span></li></ul></li><li><label class='ee-shut'>1664: [-47.29236633787654, -7.072709687965731]<input type='checkbox' class='ee-toggle'></label><ul><li><span class='ee-k'>0:</span><span class='ee-v'>-47.29236633787654</span></li><li><span class='ee-k'>1:</span><span class='ee-v'>-7.072709687965731</span></li></ul></li><li><label class='ee-shut'>1665: [-47.29282435953685, -7.0726939768518795]<input type='checkbox' class='ee-toggle'></label><ul><li><span class='ee-k'>0:</span><span class='ee-v'>-47.29282435953685</span></li><li><span class='ee-k'>1:</span><span class='ee-v'>-7.0726939768518795</span></li></ul></li><li><label class='ee-shut'>1666: [-47.29336345944031, -7.072718249375402]<input type='checkbox' class='ee-toggle'></label><ul><li><span class='ee-k'>0:</span><span class='ee-v'>-47.29336345944031</span></li><li><span class='ee-k'>1:</span><span class='ee-v'>-7.072718249375402</span></li></ul></li><li><label class='ee-shut'>1667: [-47.29377285990128, -7.07286427645568]<input type='checkbox' class='ee-toggle'></label><ul><li><span class='ee-k'>0:</span><span class='ee-v'>-47.29377285990128</span></li><li><span class='ee-k'>1:</span><span class='ee-v'>-7.07286427645568</span></li></ul></li><li><label class='ee-shut'>1668: [-47.29444727013869, -7.073004548507718]<input type='checkbox' class='ee-toggle'></label><ul><li><span class='ee-k'>0:</span><span class='ee-v'>-47.29444727013869</span></li><li><span class='ee-k'>1:</span><span class='ee-v'>-7.073004548507718</span></li></ul></li><li><label class='ee-shut'>1669: [-47.29637045424082, -7.073192435376918]<input type='checkbox' class='ee-toggle'></label><ul><li><span class='ee-k'>0:</span><span class='ee-v'>-47.29637045424082</span></li><li><span class='ee-k'>1:</span><span class='ee-v'>-7.073192435376918</span></li></ul></li><li><label class='ee-shut'>1670: [-47.296986270174266, -7.073292601316244]<input type='checkbox' class='ee-toggle'></label><ul><li><span class='ee-k'>0:</span><span class='ee-v'>-47.296986270174266</span></li><li><span class='ee-k'>1:</span><span class='ee-v'>-7.073292601316244</span></li></ul></li><li><label class='ee-shut'>1671: [-47.29747581029003, -7.073276769789872]<input type='checkbox' class='ee-toggle'></label><ul><li><span class='ee-k'>0:</span><span class='ee-v'>-47.29747581029003</span></li><li><span class='ee-k'>1:</span><span class='ee-v'>-7.073276769789872</span></li></ul></li><li><label class='ee-shut'>1672: [-47.297987285085746, -7.0731710075416085]<input type='checkbox' class='ee-toggle'></label><ul><li><span class='ee-k'>0:</span><span class='ee-v'>-47.297987285085746</span></li><li><span class='ee-k'>1:</span><span class='ee-v'>-7.0731710075416085</span></li></ul></li><li><label class='ee-shut'>1673: [-47.298539641778895, -7.073154861287301]<input type='checkbox' class='ee-toggle'></label><ul><li><span class='ee-k'>0:</span><span class='ee-v'>-47.298539641778895</span></li><li><span class='ee-k'>1:</span><span class='ee-v'>-7.073154861287301</span></li></ul></li><li><label class='ee-shut'>1674: [-47.29906544906361, -7.073228502593292]<input type='checkbox' class='ee-toggle'></label><ul><li><span class='ee-k'>0:</span><span class='ee-v'>-47.29906544906361</span></li><li><span class='ee-k'>1:</span><span class='ee-v'>-7.073228502593292</span></li></ul></li><li><label class='ee-shut'>1675: [-47.29975305701486, -7.073319314687656]<input type='checkbox' class='ee-toggle'></label><ul><li><span class='ee-k'>0:</span><span class='ee-v'>-47.29975305701486</span></li><li><span class='ee-k'>1:</span><span class='ee-v'>-7.073319314687656</span></li></ul></li><li><label class='ee-shut'>1676: [-47.30053839436175, -7.073185327481297]<input type='checkbox' class='ee-toggle'></label><ul><li><span class='ee-k'>0:</span><span class='ee-v'>-47.30053839436175</span></li><li><span class='ee-k'>1:</span><span class='ee-v'>-7.073185327481297</span></li></ul></li><li><label class='ee-shut'>1677: [-47.30098708932117, -7.073088906434297]<input type='checkbox' class='ee-toggle'></label><ul><li><span class='ee-k'>0:</span><span class='ee-v'>-47.30098708932117</span></li><li><span class='ee-k'>1:</span><span class='ee-v'>-7.073088906434297</span></li></ul></li><li><label class='ee-shut'>1678: [-47.301149038200805, -7.073141930423897]<input type='checkbox' class='ee-toggle'></label><ul><li><span class='ee-k'>0:</span><span class='ee-v'>-47.301149038200805</span></li><li><span class='ee-k'>1:</span><span class='ee-v'>-7.073141930423897</span></li></ul></li><li><label class='ee-shut'>1679: [-47.301553875321254, -7.073270062636488]<input type='checkbox' class='ee-toggle'></label><ul><li><span class='ee-k'>0:</span><span class='ee-v'>-47.301553875321254</span></li><li><span class='ee-k'>1:</span><span class='ee-v'>-7.073270062636488</span></li></ul></li><li><label class='ee-shut'>1680: [-47.30225196011779, -7.07366146180239]<input type='checkbox' class='ee-toggle'></label><ul><li><span class='ee-k'>0:</span><span class='ee-v'>-47.30225196011779</span></li><li><span class='ee-k'>1:</span><span class='ee-v'>-7.07366146180239</span></li></ul></li><li><label class='ee-shut'>1681: [-47.303003616566414, -7.073985271989605]<input type='checkbox' class='ee-toggle'></label><ul><li><span class='ee-k'>0:</span><span class='ee-v'>-47.303003616566414</span></li><li><span class='ee-k'>1:</span><span class='ee-v'>-7.073985271989605</span></li></ul></li><li><label class='ee-shut'>1682: [-47.303665316034774, -7.074273596741275]<input type='checkbox' class='ee-toggle'></label><ul><li><span class='ee-k'>0:</span><span class='ee-v'>-47.303665316034774</span></li><li><span class='ee-k'>1:</span><span class='ee-v'>-7.074273596741275</span></li></ul></li><li><label class='ee-shut'>1683: [-47.30412463145754, -7.074518117837164]<input type='checkbox' class='ee-toggle'></label><ul><li><span class='ee-k'>0:</span><span class='ee-v'>-47.30412463145754</span></li><li><span class='ee-k'>1:</span><span class='ee-v'>-7.074518117837164</span></li></ul></li><li><label class='ee-shut'>1684: [-47.30457522258441, -7.074820949644058]<input type='checkbox' class='ee-toggle'></label><ul><li><span class='ee-k'>0:</span><span class='ee-v'>-47.30457522258441</span></li><li><span class='ee-k'>1:</span><span class='ee-v'>-7.074820949644058</span></li></ul></li><li><label class='ee-shut'>1685: [-47.30505230141046, -7.075016026676756]<input type='checkbox' class='ee-toggle'></label><ul><li><span class='ee-k'>0:</span><span class='ee-v'>-47.30505230141046</span></li><li><span class='ee-k'>1:</span><span class='ee-v'>-7.075016026676756</span></li></ul></li><li><label class='ee-shut'>1686: [-47.305641811304234, -7.075250902802831]<input type='checkbox' class='ee-toggle'></label><ul><li><span class='ee-k'>0:</span><span class='ee-v'>-47.305641811304234</span></li><li><span class='ee-k'>1:</span><span class='ee-v'>-7.075250902802831</span></li></ul></li><li><label class='ee-shut'>1687: [-47.306131955627464, -7.075365154821348]<input type='checkbox' class='ee-toggle'></label><ul><li><span class='ee-k'>0:</span><span class='ee-v'>-47.306131955627464</span></li><li><span class='ee-k'>1:</span><span class='ee-v'>-7.075365154821348</span></li></ul></li><li><label class='ee-shut'>1688: [-47.306541681053474, -7.075574007785589]<input type='checkbox' class='ee-toggle'></label><ul><li><span class='ee-k'>0:</span><span class='ee-v'>-47.306541681053474</span></li><li><span class='ee-k'>1:</span><span class='ee-v'>-7.075574007785589</span></li></ul></li><li><label class='ee-shut'>1689: [-47.3067761630339, -7.07575677833854]<input type='checkbox' class='ee-toggle'></label><ul><li><span class='ee-k'>0:</span><span class='ee-v'>-47.3067761630339</span></li><li><span class='ee-k'>1:</span><span class='ee-v'>-7.07575677833854</span></li></ul></li><li><label class='ee-shut'>1690: [-47.30720417185982, -7.076032808109383]<input type='checkbox' class='ee-toggle'></label><ul><li><span class='ee-k'>0:</span><span class='ee-v'>-47.30720417185982</span></li><li><span class='ee-k'>1:</span><span class='ee-v'>-7.076032808109383</span></li></ul></li><li><label class='ee-shut'>1691: [-47.307560637204745, -7.076354126221574]<input type='checkbox' class='ee-toggle'></label><ul><li><span class='ee-k'>0:</span><span class='ee-v'>-47.307560637204745</span></li><li><span class='ee-k'>1:</span><span class='ee-v'>-7.076354126221574</span></li></ul></li><li><label class='ee-shut'>1692: [-47.30799864978702, -7.076832002413628]<input type='checkbox' class='ee-toggle'></label><ul><li><span class='ee-k'>0:</span><span class='ee-v'>-47.30799864978702</span></li><li><span class='ee-k'>1:</span><span class='ee-v'>-7.076832002413628</span></li></ul></li><li><label class='ee-shut'>1693: [-47.30821553117691, -7.077095674750989]<input type='checkbox' class='ee-toggle'></label><ul><li><span class='ee-k'>0:</span><span class='ee-v'>-47.30821553117691</span></li><li><span class='ee-k'>1:</span><span class='ee-v'>-7.077095674750989</span></li></ul></li><li><label class='ee-shut'>1694: [-47.30854059384208, -7.077435022035675]<input type='checkbox' class='ee-toggle'></label><ul><li><span class='ee-k'>0:</span><span class='ee-v'>-47.30854059384208</span></li><li><span class='ee-k'>1:</span><span class='ee-v'>-7.077435022035675</span></li></ul></li><li><label class='ee-shut'>1695: [-47.30894638414054, -7.077742577970454]<input type='checkbox' class='ee-toggle'></label><ul><li><span class='ee-k'>0:</span><span class='ee-v'>-47.30894638414054</span></li><li><span class='ee-k'>1:</span><span class='ee-v'>-7.077742577970454</span></li></ul></li><li><label class='ee-shut'>1696: [-47.309504752021745, -7.078031440948155]<input type='checkbox' class='ee-toggle'></label><ul><li><span class='ee-k'>0:</span><span class='ee-v'>-47.309504752021745</span></li><li><span class='ee-k'>1:</span><span class='ee-v'>-7.078031440948155</span></li></ul></li><li><label class='ee-shut'>1697: [-47.3101886191345, -7.078274848727521]<input type='checkbox' class='ee-toggle'></label><ul><li><span class='ee-k'>0:</span><span class='ee-v'>-47.3101886191345</span></li><li><span class='ee-k'>1:</span><span class='ee-v'>-7.078274848727521</span></li></ul></li><li><label class='ee-shut'>1698: [-47.310899728163754, -7.078567420359234]<input type='checkbox' class='ee-toggle'></label><ul><li><span class='ee-k'>0:</span><span class='ee-v'>-47.310899728163754</span></li><li><span class='ee-k'>1:</span><span class='ee-v'>-7.078567420359234</span></li></ul></li><li><label class='ee-shut'>1699: [-47.31153474313763, -7.078918743593495]<input type='checkbox' class='ee-toggle'></label><ul><li><span class='ee-k'>0:</span><span class='ee-v'>-47.31153474313763</span></li><li><span class='ee-k'>1:</span><span class='ee-v'>-7.078918743593495</span></li></ul></li><li><label class='ee-shut'>1700: [-47.31218774751521, -7.079269952840879]<input type='checkbox' class='ee-toggle'></label><ul><li><span class='ee-k'>0:</span><span class='ee-v'>-47.31218774751521</span></li><li><span class='ee-k'>1:</span><span class='ee-v'>-7.079269952840879</span></li></ul></li><li><label class='ee-shut'>1701: [-47.31285411594343, -7.079607565526744]<input type='checkbox' class='ee-toggle'></label><ul><li><span class='ee-k'>0:</span><span class='ee-v'>-47.31285411594343</span></li><li><span class='ee-k'>1:</span><span class='ee-v'>-7.079607565526744</span></li></ul></li><li><label class='ee-shut'>1702: [-47.31336753364033, -7.07988322926389]<input type='checkbox' class='ee-toggle'></label><ul><li><span class='ee-k'>0:</span><span class='ee-v'>-47.31336753364033</span></li><li><span class='ee-k'>1:</span><span class='ee-v'>-7.07988322926389</span></li></ul></li><li><label class='ee-shut'>1703: [-47.313755454271615, -7.080222252541971]<input type='checkbox' class='ee-toggle'></label><ul><li><span class='ee-k'>0:</span><span class='ee-v'>-47.313755454271615</span></li><li><span class='ee-k'>1:</span><span class='ee-v'>-7.080222252541971</span></li></ul></li><li><label class='ee-shut'>1704: [-47.314035334956614, -7.080499079937112]<input type='checkbox' class='ee-toggle'></label><ul><li><span class='ee-k'>0:</span><span class='ee-v'>-47.314035334956614</span></li><li><span class='ee-k'>1:</span><span class='ee-v'>-7.080499079937112</span></li></ul></li><li><label class='ee-shut'>1705: [-47.314454599205455, -7.080820025047669]<input type='checkbox' class='ee-toggle'></label><ul><li><span class='ee-k'>0:</span><span class='ee-v'>-47.314454599205455</span></li><li><span class='ee-k'>1:</span><span class='ee-v'>-7.080820025047669</span></li></ul></li><li><label class='ee-shut'>1706: [-47.314904758036356, -7.081019650247614]<input type='checkbox' class='ee-toggle'></label><ul><li><span class='ee-k'>0:</span><span class='ee-v'>-47.314904758036356</span></li><li><span class='ee-k'>1:</span><span class='ee-v'>-7.081019650247614</span></li></ul></li><li><label class='ee-shut'>1707: [-47.31614810618598, -7.081771731461553]<input type='checkbox' class='ee-toggle'></label><ul><li><span class='ee-k'>0:</span><span class='ee-v'>-47.31614810618598</span></li><li><span class='ee-k'>1:</span><span class='ee-v'>-7.081771731461553</span></li></ul></li><li><label class='ee-shut'>1708: [-47.31684594031336, -7.082109269680037]<input type='checkbox' class='ee-toggle'></label><ul><li><span class='ee-k'>0:</span><span class='ee-v'>-47.31684594031336</span></li><li><span class='ee-k'>1:</span><span class='ee-v'>-7.082109269680037</span></li></ul></li><li><label class='ee-shut'>1709: [-47.31766996679096, -7.08252238736798]<input type='checkbox' class='ee-toggle'></label><ul><li><span class='ee-k'>0:</span><span class='ee-v'>-47.31766996679096</span></li><li><span class='ee-k'>1:</span><span class='ee-v'>-7.08252238736798</span></li></ul></li><li><label class='ee-shut'>1710: [-47.31838117867994, -7.082841909448066]<input type='checkbox' class='ee-toggle'></label><ul><li><span class='ee-k'>0:</span><span class='ee-v'>-47.31838117867994</span></li><li><span class='ee-k'>1:</span><span class='ee-v'>-7.082841909448066</span></li></ul></li><li><label class='ee-shut'>1711: [-47.319174111991224, -7.083335950783651]<input type='checkbox' class='ee-toggle'></label><ul><li><span class='ee-k'>0:</span><span class='ee-v'>-47.319174111991224</span></li><li><span class='ee-k'>1:</span><span class='ee-v'>-7.083335950783651</span></li></ul></li><li><label class='ee-shut'>1712: [-47.31978214023254, -7.083669452214176]<input type='checkbox' class='ee-toggle'></label><ul><li><span class='ee-k'>0:</span><span class='ee-v'>-47.31978214023254</span></li><li><span class='ee-k'>1:</span><span class='ee-v'>-7.083669452214176</span></li></ul></li><li><label class='ee-shut'>1713: [-47.320292343228125, -7.084209765650588]<input type='checkbox' class='ee-toggle'></label><ul><li><span class='ee-k'>0:</span><span class='ee-v'>-47.320292343228125</span></li><li><span class='ee-k'>1:</span><span class='ee-v'>-7.084209765650588</span></li></ul></li><li><label class='ee-shut'>1714: [-47.320623526393895, -7.084872105462963]<input type='checkbox' class='ee-toggle'></label><ul><li><span class='ee-k'>0:</span><span class='ee-v'>-47.320623526393895</span></li><li><span class='ee-k'>1:</span><span class='ee-v'>-7.084872105462963</span></li></ul></li><li><label class='ee-shut'>1715: [-47.32068919613331, -7.085428162201299]<input type='checkbox' class='ee-toggle'></label><ul><li><span class='ee-k'>0:</span><span class='ee-v'>-47.32068919613331</span></li><li><span class='ee-k'>1:</span><span class='ee-v'>-7.085428162201299</span></li></ul></li><li><label class='ee-shut'>1716: [-47.320768671554404, -7.086046935733663]<input type='checkbox' class='ee-toggle'></label><ul><li><span class='ee-k'>0:</span><span class='ee-v'>-47.320768671554404</span></li><li><span class='ee-k'>1:</span><span class='ee-v'>-7.086046935733663</span></li></ul></li><li><label class='ee-shut'>1717: [-47.32084777397267, -7.086602879571809]<input type='checkbox' class='ee-toggle'></label><ul><li><span class='ee-k'>0:</span><span class='ee-v'>-47.32084777397267</span></li><li><span class='ee-k'>1:</span><span class='ee-v'>-7.086602879571809</span></li></ul></li><li><label class='ee-shut'>1718: [-47.320926578011495, -7.087082529817759]<input type='checkbox' class='ee-toggle'></label><ul><li><span class='ee-k'>0:</span><span class='ee-v'>-47.320926578011495</span></li><li><span class='ee-k'>1:</span><span class='ee-v'>-7.087082529817759</span></li></ul></li><li><label class='ee-shut'>1719: [-47.320978442477525, -7.087575839417385]<input type='checkbox' class='ee-toggle'></label><ul><li><span class='ee-k'>0:</span><span class='ee-v'>-47.320978442477525</span></li><li><span class='ee-k'>1:</span><span class='ee-v'>-7.087575839417385</span></li></ul></li><li><label class='ee-shut'>1720: [-47.321039485901274, -7.088104973452903]<input type='checkbox' class='ee-toggle'></label><ul><li><span class='ee-k'>0:</span><span class='ee-v'>-47.321039485901274</span></li><li><span class='ee-k'>1:</span><span class='ee-v'>-7.088104973452903</span></li></ul></li><li><label class='ee-shut'>1721: [-47.32118119945727, -7.088611222785847]<input type='checkbox' class='ee-toggle'></label><ul><li><span class='ee-k'>0:</span><span class='ee-v'>-47.32118119945727</span></li><li><span class='ee-k'>1:</span><span class='ee-v'>-7.088611222785847</span></li></ul></li><li><label class='ee-shut'>1722: [-47.32135373381028, -7.088982774614994]<input type='checkbox' class='ee-toggle'></label><ul><li><span class='ee-k'>0:</span><span class='ee-v'>-47.32135373381028</span></li><li><span class='ee-k'>1:</span><span class='ee-v'>-7.088982774614994</span></li></ul></li><li><label class='ee-shut'>1723: [-47.32165261064044, -7.089461376348896]<input type='checkbox' class='ee-toggle'></label><ul><li><span class='ee-k'>0:</span><span class='ee-v'>-47.32165261064044</span></li><li><span class='ee-k'>1:</span><span class='ee-v'>-7.089461376348896</span></li></ul></li><li><label class='ee-shut'>1724: [-47.32205507098205, -7.090015687569652]<input type='checkbox' class='ee-toggle'></label><ul><li><span class='ee-k'>0:</span><span class='ee-v'>-47.32205507098205</span></li><li><span class='ee-k'>1:</span><span class='ee-v'>-7.090015687569652</span></li></ul></li><li><label class='ee-shut'>1725: [-47.32249231078795, -7.09032304439776]<input type='checkbox' class='ee-toggle'></label><ul><li><span class='ee-k'>0:</span><span class='ee-v'>-47.32249231078795</span></li><li><span class='ee-k'>1:</span><span class='ee-v'>-7.09032304439776</span></li></ul></li><li><label class='ee-shut'>1726: [-47.322848284479505, -7.090554566124644]<input type='checkbox' class='ee-toggle'></label><ul><li><span class='ee-k'>0:</span><span class='ee-v'>-47.322848284479505</span></li><li><span class='ee-k'>1:</span><span class='ee-v'>-7.090554566124644</span></li></ul></li><li><label class='ee-shut'>1727: [-47.32334336810389, -7.090749560827401]<input type='checkbox' class='ee-toggle'></label><ul><li><span class='ee-k'>0:</span><span class='ee-v'>-47.32334336810389</span></li><li><span class='ee-k'>1:</span><span class='ee-v'>-7.090749560827401</span></li></ul></li><li><label class='ee-shut'>1728: [-47.32398211805279, -7.09094826109014]<input type='checkbox' class='ee-toggle'></label><ul><li><span class='ee-k'>0:</span><span class='ee-v'>-47.32398211805279</span></li><li><span class='ee-k'>1:</span><span class='ee-v'>-7.09094826109014</span></li></ul></li><li><label class='ee-shut'>1729: [-47.324602740696314, -7.0911156321441124]<input type='checkbox' class='ee-toggle'></label><ul><li><span class='ee-k'>0:</span><span class='ee-v'>-47.324602740696314</span></li><li><span class='ee-k'>1:</span><span class='ee-v'>-7.0911156321441124</span></li></ul></li><li><label class='ee-shut'>1730: [-47.325748553834075, -7.091204123085663]<input type='checkbox' class='ee-toggle'></label><ul><li><span class='ee-k'>0:</span><span class='ee-v'>-47.325748553834075</span></li><li><span class='ee-k'>1:</span><span class='ee-v'>-7.091204123085663</span></li></ul></li><li><label class='ee-shut'>1731: [-47.32655331745578, -7.091370597694788]<input type='checkbox' class='ee-toggle'></label><ul><li><span class='ee-k'>0:</span><span class='ee-v'>-47.32655331745578</span></li><li><span class='ee-k'>1:</span><span class='ee-v'>-7.091370597694788</span></li></ul></li><li><label class='ee-shut'>1732: [-47.32715605875014, -7.091551510750115]<input type='checkbox' class='ee-toggle'></label><ul><li><span class='ee-k'>0:</span><span class='ee-v'>-47.32715605875014</span></li><li><span class='ee-k'>1:</span><span class='ee-v'>-7.091551510750115</span></li></ul></li><li><label class='ee-shut'>1733: [-47.32808779894993, -7.091950609591894]<input type='checkbox' class='ee-toggle'></label><ul><li><span class='ee-k'>0:</span><span class='ee-v'>-47.32808779894993</span></li><li><span class='ee-k'>1:</span><span class='ee-v'>-7.091950609591894</span></li></ul></li><li><label class='ee-shut'>1734: [-47.32909501374407, -7.09217436481253]<input type='checkbox' class='ee-toggle'></label><ul><li><span class='ee-k'>0:</span><span class='ee-v'>-47.32909501374407</span></li><li><span class='ee-k'>1:</span><span class='ee-v'>-7.09217436481253</span></li></ul></li><li><label class='ee-shut'>1735: [-47.33010217349738, -7.09238919646336]<input type='checkbox' class='ee-toggle'></label><ul><li><span class='ee-k'>0:</span><span class='ee-v'>-47.33010217349738</span></li><li><span class='ee-k'>1:</span><span class='ee-v'>-7.09238919646336</span></li></ul></li><li><label class='ee-shut'>1736: [-47.330862818250026, -7.092708390025973]<input type='checkbox' class='ee-toggle'></label><ul><li><span class='ee-k'>0:</span><span class='ee-v'>-47.330862818250026</span></li><li><span class='ee-k'>1:</span><span class='ee-v'>-7.092708390025973</span></li></ul></li><li><label class='ee-shut'>1737: [-47.33156107474319, -7.093122131664649]<input type='checkbox' class='ee-toggle'></label><ul><li><span class='ee-k'>0:</span><span class='ee-v'>-47.33156107474319</span></li><li><span class='ee-k'>1:</span><span class='ee-v'>-7.093122131664649</span></li></ul></li><li><label class='ee-shut'>1738: [-47.33222858839178, -7.093675117831678]<input type='checkbox' class='ee-toggle'></label><ul><li><span class='ee-k'>0:</span><span class='ee-v'>-47.33222858839178</span></li><li><span class='ee-k'>1:</span><span class='ee-v'>-7.093675117831678</span></li></ul></li><li><label class='ee-shut'>1739: [-47.332542008537395, -7.094368974405855]<input type='checkbox' class='ee-toggle'></label><ul><li><span class='ee-k'>0:</span><span class='ee-v'>-47.332542008537395</span></li><li><span class='ee-k'>1:</span><span class='ee-v'>-7.094368974405855</span></li></ul></li><li><label class='ee-shut'>1740: [-47.33282325976165, -7.09492389919785]<input type='checkbox' class='ee-toggle'></label><ul><li><span class='ee-k'>0:</span><span class='ee-v'>-47.33282325976165</span></li><li><span class='ee-k'>1:</span><span class='ee-v'>-7.09492389919785</span></li></ul></li><li><label class='ee-shut'>1741: [-47.33319848769882, -7.095402088547642]<input type='checkbox' class='ee-toggle'></label><ul><li><span class='ee-k'>0:</span><span class='ee-v'>-47.33319848769882</span></li><li><span class='ee-k'>1:</span><span class='ee-v'>-7.095402088547642</span></li></ul></li><li><label class='ee-shut'>1742: [-47.33361813115517, -7.0957858579010775]<input type='checkbox' class='ee-toggle'></label><ul><li><span class='ee-k'>0:</span><span class='ee-v'>-47.33361813115517</span></li><li><span class='ee-k'>1:</span><span class='ee-v'>-7.0957858579010775</span></li></ul></li><li><label class='ee-shut'>1743: [-47.33430276488411, -7.096172750646769]<input type='checkbox' class='ee-toggle'></label><ul><li><span class='ee-k'>0:</span><span class='ee-v'>-47.33430276488411</span></li><li><span class='ee-k'>1:</span><span class='ee-v'>-7.096172750646769</span></li></ul></li><li><label class='ee-shut'>1744: [-47.33499964950676, -7.096308298516788]<input type='checkbox' class='ee-toggle'></label><ul><li><span class='ee-k'>0:</span><span class='ee-v'>-47.33499964950676</span></li><li><span class='ee-k'>1:</span><span class='ee-v'>-7.096308298516788</span></li></ul></li><li><label class='ee-shut'>1745: [-47.33599423416413, -7.096702639551095]<input type='checkbox' class='ee-toggle'></label><ul><li><span class='ee-k'>0:</span><span class='ee-v'>-47.33599423416413</span></li><li><span class='ee-k'>1:</span><span class='ee-v'>-7.096702639551095</span></li></ul></li><li><label class='ee-shut'>1746: [-47.33696965332622, -7.096854730429342]<input type='checkbox' class='ee-toggle'></label><ul><li><span class='ee-k'>0:</span><span class='ee-v'>-47.33696965332622</span></li><li><span class='ee-k'>1:</span><span class='ee-v'>-7.096854730429342</span></li></ul></li><li><label class='ee-shut'>1747: [-47.33819233102602, -7.097063922806661]<input type='checkbox' class='ee-toggle'></label><ul><li><span class='ee-k'>0:</span><span class='ee-v'>-47.33819233102602</span></li><li><span class='ee-k'>1:</span><span class='ee-v'>-7.097063922806661</span></li></ul></li><li><label class='ee-shut'>1748: [-47.33932508231117, -7.097242202682338]<input type='checkbox' class='ee-toggle'></label><ul><li><span class='ee-k'>0:</span><span class='ee-v'>-47.33932508231117</span></li><li><span class='ee-k'>1:</span><span class='ee-v'>-7.097242202682338</span></li></ul></li><li><label class='ee-shut'>1749: [-47.34030026559459, -7.097344978124443]<input type='checkbox' class='ee-toggle'></label><ul><li><span class='ee-k'>0:</span><span class='ee-v'>-47.34030026559459</span></li><li><span class='ee-k'>1:</span><span class='ee-v'>-7.097344978124443</span></li></ul></li><li><label class='ee-shut'>1750: [-47.34095191594729, -7.09741790550672]<input type='checkbox' class='ee-toggle'></label><ul><li><span class='ee-k'>0:</span><span class='ee-v'>-47.34095191594729</span></li><li><span class='ee-k'>1:</span><span class='ee-v'>-7.09741790550672</span></li></ul></li><li><label class='ee-shut'>1751: [-47.3411181705919, -7.097435043766627]<input type='checkbox' class='ee-toggle'></label><ul><li><span class='ee-k'>0:</span><span class='ee-v'>-47.3411181705919</span></li><li><span class='ee-k'>1:</span><span class='ee-v'>-7.097435043766627</span></li></ul></li><li><label class='ee-shut'>1752: [-47.34209816559234, -7.097600616931229]<input type='checkbox' class='ee-toggle'></label><ul><li><span class='ee-k'>0:</span><span class='ee-v'>-47.34209816559234</span></li><li><span class='ee-k'>1:</span><span class='ee-v'>-7.097600616931229</span></li></ul></li><li><label class='ee-shut'>1753: [-47.34294842537972, -7.097874469551231]<input type='checkbox' class='ee-toggle'></label><ul><li><span class='ee-k'>0:</span><span class='ee-v'>-47.34294842537972</span></li><li><span class='ee-k'>1:</span><span class='ee-v'>-7.097874469551231</span></li></ul></li><li><label class='ee-shut'>1754: [-47.34352477940014, -7.098163189500064]<input type='checkbox' class='ee-toggle'></label><ul><li><span class='ee-k'>0:</span><span class='ee-v'>-47.34352477940014</span></li><li><span class='ee-k'>1:</span><span class='ee-v'>-7.098163189500064</span></li></ul></li><li><label class='ee-shut'>1755: [-47.34403417119919, -7.098532994190424]<input type='checkbox' class='ee-toggle'></label><ul><li><span class='ee-k'>0:</span><span class='ee-v'>-47.34403417119919</span></li><li><span class='ee-k'>1:</span><span class='ee-v'>-7.098532994190424</span></li></ul></li><li><label class='ee-shut'>1756: [-47.34461098525392, -7.098915927962887]<input type='checkbox' class='ee-toggle'></label><ul><li><span class='ee-k'>0:</span><span class='ee-v'>-47.34461098525392</span></li><li><span class='ee-k'>1:</span><span class='ee-v'>-7.098915927962887</span></li></ul></li><li><label class='ee-shut'>1757: [-47.345137858168904, -7.099178001489226]<input type='checkbox' class='ee-toggle'></label><ul><li><span class='ee-k'>0:</span><span class='ee-v'>-47.345137858168904</span></li><li><span class='ee-k'>1:</span><span class='ee-v'>-7.099178001489226</span></li></ul></li><li><label class='ee-shut'>1758: [-47.345866768840004, -7.099438988751263]<input type='checkbox' class='ee-toggle'></label><ul><li><span class='ee-k'>0:</span><span class='ee-v'>-47.345866768840004</span></li><li><span class='ee-k'>1:</span><span class='ee-v'>-7.099438988751263</span></li></ul></li><li><label class='ee-shut'>1759: [-47.346734785438784, -7.099667923135462]<input type='checkbox' class='ee-toggle'></label><ul><li><span class='ee-k'>0:</span><span class='ee-v'>-47.346734785438784</span></li><li><span class='ee-k'>1:</span><span class='ee-v'>-7.099667923135462</span></li></ul></li><li><label class='ee-shut'>1760: [-47.34689217380069, -7.099711966717444]<input type='checkbox' class='ee-toggle'></label><ul><li><span class='ee-k'>0:</span><span class='ee-v'>-47.34689217380069</span></li><li><span class='ee-k'>1:</span><span class='ee-v'>-7.099711966717444</span></li></ul></li><li><label class='ee-shut'>1761: [-47.34727915110842, -7.099840104211259]<input type='checkbox' class='ee-toggle'></label><ul><li><span class='ee-k'>0:</span><span class='ee-v'>-47.34727915110842</span></li><li><span class='ee-k'>1:</span><span class='ee-v'>-7.099840104211259</span></li></ul></li><li><label class='ee-shut'>1762: [-47.34777297508417, -7.099797251204107]<input type='checkbox' class='ee-toggle'></label><ul><li><span class='ee-k'>0:</span><span class='ee-v'>-47.34777297508417</span></li><li><span class='ee-k'>1:</span><span class='ee-v'>-7.099797251204107</span></li></ul></li><li><label class='ee-shut'>1763: [-47.34946025495333, -7.099497096208484]<input type='checkbox' class='ee-toggle'></label><ul><li><span class='ee-k'>0:</span><span class='ee-v'>-47.34946025495333</span></li><li><span class='ee-k'>1:</span><span class='ee-v'>-7.099497096208484</span></li></ul></li><li><label class='ee-shut'>1764: [-47.35091342938448, -7.099103833860667]<input type='checkbox' class='ee-toggle'></label><ul><li><span class='ee-k'>0:</span><span class='ee-v'>-47.35091342938448</span></li><li><span class='ee-k'>1:</span><span class='ee-v'>-7.099103833860667</span></li></ul></li><li><label class='ee-shut'>1765: [-47.352413537601095, -7.099096231303759]<input type='checkbox' class='ee-toggle'></label><ul><li><span class='ee-k'>0:</span><span class='ee-v'>-47.352413537601095</span></li><li><span class='ee-k'>1:</span><span class='ee-v'>-7.099096231303759</span></li></ul></li><li><label class='ee-shut'>1766: [-47.35431886456369, -7.099283988019066]<input type='checkbox' class='ee-toggle'></label><ul><li><span class='ee-k'>0:</span><span class='ee-v'>-47.35431886456369</span></li><li><span class='ee-k'>1:</span><span class='ee-v'>-7.099283988019066</span></li></ul></li><li><label class='ee-shut'>1767: [-47.35620320294162, -7.0988751224723545]<input type='checkbox' class='ee-toggle'></label><ul><li><span class='ee-k'>0:</span><span class='ee-v'>-47.35620320294162</span></li><li><span class='ee-k'>1:</span><span class='ee-v'>-7.0988751224723545</span></li></ul></li><li><label class='ee-shut'>1768: [-47.35709991936257, -7.098574476153231]<input type='checkbox' class='ee-toggle'></label><ul><li><span class='ee-k'>0:</span><span class='ee-v'>-47.35709991936257</span></li><li><span class='ee-k'>1:</span><span class='ee-v'>-7.098574476153231</span></li></ul></li><li><label class='ee-shut'>1769: [-47.35787738983176, -7.098664745882463]<input type='checkbox' class='ee-toggle'></label><ul><li><span class='ee-k'>0:</span><span class='ee-v'>-47.35787738983176</span></li><li><span class='ee-k'>1:</span><span class='ee-v'>-7.098664745882463</span></li></ul></li><li><label class='ee-shut'>1770: [-47.35863642613386, -7.0986608513895515]<input type='checkbox' class='ee-toggle'></label><ul><li><span class='ee-k'>0:</span><span class='ee-v'>-47.35863642613386</span></li><li><span class='ee-k'>1:</span><span class='ee-v'>-7.0986608513895515</span></li></ul></li><li><label class='ee-shut'>1771: [-47.359484418142664, -7.098486062653035]<input type='checkbox' class='ee-toggle'></label><ul><li><span class='ee-k'>0:</span><span class='ee-v'>-47.359484418142664</span></li><li><span class='ee-k'>1:</span><span class='ee-v'>-7.098486062653035</span></li></ul></li><li><label class='ee-shut'>1772: [-47.36141928089112, -7.098305706093633]<input type='checkbox' class='ee-toggle'></label><ul><li><span class='ee-k'>0:</span><span class='ee-v'>-47.36141928089112</span></li><li><span class='ee-k'>1:</span><span class='ee-v'>-7.098305706093633</span></li></ul></li><li><label class='ee-shut'>1773: [-47.363696205243, -7.098262734763242]<input type='checkbox' class='ee-toggle'></label><ul><li><span class='ee-k'>0:</span><span class='ee-v'>-47.363696205243</span></li><li><span class='ee-k'>1:</span><span class='ee-v'>-7.098262734763242</span></li></ul></li><li><label class='ee-shut'>1774: [-47.365614793446696, -7.098423457242871]<input type='checkbox' class='ee-toggle'></label><ul><li><span class='ee-k'>0:</span><span class='ee-v'>-47.365614793446696</span></li><li><span class='ee-k'>1:</span><span class='ee-v'>-7.098423457242871</span></li></ul></li><li><label class='ee-shut'>1775: [-47.367223928836566, -7.098661958612824]<input type='checkbox' class='ee-toggle'></label><ul><li><span class='ee-k'>0:</span><span class='ee-v'>-47.367223928836566</span></li><li><span class='ee-k'>1:</span><span class='ee-v'>-7.098661958612824</span></li></ul></li><li><label class='ee-shut'>1776: [-47.36934992538044, -7.098960705228596]<input type='checkbox' class='ee-toggle'></label><ul><li><span class='ee-k'>0:</span><span class='ee-v'>-47.36934992538044</span></li><li><span class='ee-k'>1:</span><span class='ee-v'>-7.098960705228596</span></li></ul></li><li><label class='ee-shut'>1777: [-47.37192061304433, -7.099288567298261]<input type='checkbox' class='ee-toggle'></label><ul><li><span class='ee-k'>0:</span><span class='ee-v'>-47.37192061304433</span></li><li><span class='ee-k'>1:</span><span class='ee-v'>-7.099288567298261</span></li></ul></li><li><label class='ee-shut'>1778: [-47.374136892301514, -7.099680983975388]<input type='checkbox' class='ee-toggle'></label><ul><li><span class='ee-k'>0:</span><span class='ee-v'>-47.374136892301514</span></li><li><span class='ee-k'>1:</span><span class='ee-v'>-7.099680983975388</span></li></ul></li><li><label class='ee-shut'>1779: [-47.37543589750478, -7.099876233547186]<input type='checkbox' class='ee-toggle'></label><ul><li><span class='ee-k'>0:</span><span class='ee-v'>-47.37543589750478</span></li><li><span class='ee-k'>1:</span><span class='ee-v'>-7.099876233547186</span></li></ul></li><li><label class='ee-shut'>1780: [-47.37717099307134, -7.100158941934524]<input type='checkbox' class='ee-toggle'></label><ul><li><span class='ee-k'>0:</span><span class='ee-v'>-47.37717099307134</span></li><li><span class='ee-k'>1:</span><span class='ee-v'>-7.100158941934524</span></li></ul></li><li><label class='ee-shut'>1781: [-47.377697375130985, -7.1003267354988076]<input type='checkbox' class='ee-toggle'></label><ul><li><span class='ee-k'>0:</span><span class='ee-v'>-47.377697375130985</span></li><li><span class='ee-k'>1:</span><span class='ee-v'>-7.1003267354988076</span></li></ul></li><li><label class='ee-shut'>1782: [-47.378305044510554, -7.100588344861347]<input type='checkbox' class='ee-toggle'></label><ul><li><span class='ee-k'>0:</span><span class='ee-v'>-47.378305044510554</span></li><li><span class='ee-k'>1:</span><span class='ee-v'>-7.100588344861347</span></li></ul></li><li><label class='ee-shut'>1783: [-47.37901611786058, -7.100876317257698]<input type='checkbox' class='ee-toggle'></label><ul><li><span class='ee-k'>0:</span><span class='ee-v'>-47.37901611786058</span></li><li><span class='ee-k'>1:</span><span class='ee-v'>-7.100876317257698</span></li></ul></li><li><label class='ee-shut'>1784: [-47.37971427615643, -7.101258556226606]<input type='checkbox' class='ee-toggle'></label><ul><li><span class='ee-k'>0:</span><span class='ee-v'>-47.37971427615643</span></li><li><span class='ee-k'>1:</span><span class='ee-v'>-7.101258556226606</span></li></ul></li><li><label class='ee-shut'>1785: [-47.380569710304485, -7.101657987409512]<input type='checkbox' class='ee-toggle'></label><ul><li><span class='ee-k'>0:</span><span class='ee-v'>-47.380569710304485</span></li><li><span class='ee-k'>1:</span><span class='ee-v'>-7.101657987409512</span></li></ul></li><li><label class='ee-shut'>1786: [-47.381438905605584, -7.102115579075202]<input type='checkbox' class='ee-toggle'></label><ul><li><span class='ee-k'>0:</span><span class='ee-v'>-47.381438905605584</span></li><li><span class='ee-k'>1:</span><span class='ee-v'>-7.102115579075202</span></li></ul></li><li><label class='ee-shut'>1787: [-47.38309963656027, -7.102789038537918]<input type='checkbox' class='ee-toggle'></label><ul><li><span class='ee-k'>0:</span><span class='ee-v'>-47.38309963656027</span></li><li><span class='ee-k'>1:</span><span class='ee-v'>-7.102789038537918</span></li></ul></li><li><label class='ee-shut'>1788: [-47.384310625931924, -7.103339125027479]<input type='checkbox' class='ee-toggle'></label><ul><li><span class='ee-k'>0:</span><span class='ee-v'>-47.384310625931924</span></li><li><span class='ee-k'>1:</span><span class='ee-v'>-7.103339125027479</span></li></ul></li><li><label class='ee-shut'>1789: [-47.38547090995101, -7.103624734017977]<input type='checkbox' class='ee-toggle'></label><ul><li><span class='ee-k'>0:</span><span class='ee-v'>-47.38547090995101</span></li><li><span class='ee-k'>1:</span><span class='ee-v'>-7.103624734017977</span></li></ul></li><li><label class='ee-shut'>1790: [-47.38683281415925, -7.103819646078203]<input type='checkbox' class='ee-toggle'></label><ul><li><span class='ee-k'>0:</span><span class='ee-v'>-47.38683281415925</span></li><li><span class='ee-k'>1:</span><span class='ee-v'>-7.103819646078203</span></li></ul></li><li><label class='ee-shut'>1791: [-47.38814939785561, -7.103938460424259]<input type='checkbox' class='ee-toggle'></label><ul><li><span class='ee-k'>0:</span><span class='ee-v'>-47.38814939785561</span></li><li><span class='ee-k'>1:</span><span class='ee-v'>-7.103938460424259</span></li></ul></li><li><label class='ee-shut'>1792: [-47.38952803574079, -7.103899963036664]<input type='checkbox' class='ee-toggle'></label><ul><li><span class='ee-k'>0:</span><span class='ee-v'>-47.38952803574079</span></li><li><span class='ee-k'>1:</span><span class='ee-v'>-7.103899963036664</span></li></ul></li><li><label class='ee-shut'>1793: [-47.391199636560515, -7.104061815745145]<input type='checkbox' class='ee-toggle'></label><ul><li><span class='ee-k'>0:</span><span class='ee-v'>-47.391199636560515</span></li><li><span class='ee-k'>1:</span><span class='ee-v'>-7.104061815745145</span></li></ul></li><li><label class='ee-shut'>1794: [-47.394408259545685, -7.1044176104594765]<input type='checkbox' class='ee-toggle'></label><ul><li><span class='ee-k'>0:</span><span class='ee-v'>-47.394408259545685</span></li><li><span class='ee-k'>1:</span><span class='ee-v'>-7.1044176104594765</span></li></ul></li><li><label class='ee-shut'>1795: [-47.39620639164819, -7.104713408859238]<input type='checkbox' class='ee-toggle'></label><ul><li><span class='ee-k'>0:</span><span class='ee-v'>-47.39620639164819</span></li><li><span class='ee-k'>1:</span><span class='ee-v'>-7.104713408859238</span></li></ul></li><li><label class='ee-shut'>1796: [-47.39978602635083, -7.105592221272459]<input type='checkbox' class='ee-toggle'></label><ul><li><span class='ee-k'>0:</span><span class='ee-v'>-47.39978602635083</span></li><li><span class='ee-k'>1:</span><span class='ee-v'>-7.105592221272459</span></li></ul></li><li><label class='ee-shut'>1797: [-47.401085224865675, -7.105818788120921]<input type='checkbox' class='ee-toggle'></label><ul><li><span class='ee-k'>0:</span><span class='ee-v'>-47.401085224865675</span></li><li><span class='ee-k'>1:</span><span class='ee-v'>-7.105818788120921</span></li></ul></li><li><label class='ee-shut'>1798: [-47.402697403254656, -7.105778965815788]<input type='checkbox' class='ee-toggle'></label><ul><li><span class='ee-k'>0:</span><span class='ee-v'>-47.402697403254656</span></li><li><span class='ee-k'>1:</span><span class='ee-v'>-7.105778965815788</span></li></ul></li><li><label class='ee-shut'>1799: [-47.40374545814202, -7.105230676860275]<input type='checkbox' class='ee-toggle'></label><ul><li><span class='ee-k'>0:</span><span class='ee-v'>-47.40374545814202</span></li><li><span class='ee-k'>1:</span><span class='ee-v'>-7.105230676860275</span></li></ul></li><li><label class='ee-shut'>1800: [-47.41034236570583, -7.107650507512159]<input type='checkbox' class='ee-toggle'></label><ul><li><span class='ee-k'>0:</span><span class='ee-v'>-47.41034236570583</span></li><li><span class='ee-k'>1:</span><span class='ee-v'>-7.107650507512159</span></li></ul></li><li><label class='ee-shut'>1801: [-47.41240905166607, -7.107783295501278]<input type='checkbox' class='ee-toggle'></label><ul><li><span class='ee-k'>0:</span><span class='ee-v'>-47.41240905166607</span></li><li><span class='ee-k'>1:</span><span class='ee-v'>-7.107783295501278</span></li></ul></li><li><label class='ee-shut'>1802: [-47.41805073152941, -7.113904707541336]<input type='checkbox' class='ee-toggle'></label><ul><li><span class='ee-k'>0:</span><span class='ee-v'>-47.41805073152941</span></li><li><span class='ee-k'>1:</span><span class='ee-v'>-7.113904707541336</span></li></ul></li><li><label class='ee-shut'>1803: [-47.421037750972424, -7.1165270206243285]<input type='checkbox' class='ee-toggle'></label><ul><li><span class='ee-k'>0:</span><span class='ee-v'>-47.421037750972424</span></li><li><span class='ee-k'>1:</span><span class='ee-v'>-7.1165270206243285</span></li></ul></li><li><label class='ee-shut'>1804: [-47.42248096651792, -7.119377310449717]<input type='checkbox' class='ee-toggle'></label><ul><li><span class='ee-k'>0:</span><span class='ee-v'>-47.42248096651792</span></li><li><span class='ee-k'>1:</span><span class='ee-v'>-7.119377310449717</span></li></ul></li></ul></li></ul></li></ul></li></ul></li><li><label class='ee-shut'>properties: Object (17 properties)<input type='checkbox' class='ee-toggle'></label><ul><li><span class='ee-k'>Area:</span><span class='ee-v'>160047.753</span></li><li><span class='ee-k'>CO_CNUC3:</span><span class='ee-v'>272</span></li><li><span class='ee-k'>DS_ATOLE9:</span><span class='ee-v'>DEC DE 12 DE DEZEMBRO DE 2005; DEC de S/N 31/01/2006</span></li><li><span class='ee-k'>DS_HISTO10:</span><span class='ee-v'>Dec s/nº de 12 de dezembro de 2005 e Dec s/nº de 31 de janeiro de 2006</span></li><li><span class='ee-k'>LINK0:</span><span class='ee-v'><a href=http://www.icmbio.gov.br/portal/unidadesdeconservacao/biomas-brasileiros/cerrado/unidades-de-conservacao-cerrado/2079-parna-da-chapada-das-mesas target=_blank>Clique aqui para mais informações no Portal</a></span></li><li><span class='ee-k'>NO_CLASS6:</span><span class='ee-v'>Parque Nacional</span></li><li><span class='ee-k'>NO_COORD11:</span><span class='ee-v'>Parnaíba/PI (CR5)</span></li><li><span class='ee-k'>NO_ESPEC15:</span><span class='ee-v'>Águia-cinzenta, Bicudo, Gato-maracajá, Onça-preta, Gato-macambira, Gato-do-mato, Lobo-guará, Bicudo-verdadeiro, Jurumim, Cachorro-do-mato-vinagre, Arara-azul-grande, Mumuninha, Suçuarana, Chororó-do-araguaia, Bodera, Tamanduá-bandeira, Maracajá-i</span></li><li><span class='ee-k'>NO_UC1:</span><span class='ee-v'>Parque Nacional da Chapada das Mesas</span></li><li><span class='ee-k'>NU_ANOCR8:</span><span class='ee-v'>2005</span></li><li><span class='ee-k'>NU_FUSO_12:</span><span class='ee-v'>23S</span></li><li><span class='ee-k'>NU_HECTA14:</span><span class='ee-v'>159953.7806</span></li><li><span class='ee-k'>NU_PERIM13:</span><span class='ee-v'>361405.9744</span></li><li><span class='ee-k'>SG_GRUPO7:</span><span class='ee-v'>PI</span></li><li><span class='ee-k'>SG_UC2:</span><span class='ee-v'>PARNA Chapada das Mesas</span></li><li><span class='ee-k'>SG_UNIDA4:</span><span class='ee-v'>PARNA</span></li><li><span class='ee-k'>SQ_UC5:</span><span class='ee-v'>3204</span></li></ul></li></ul></li></ul></li></ul></li></ul></div><script>function toggleHeader() {\n",
              "    const parent = this.parentElement;\n",
              "    parent.className = parent.className === \"ee-open\" ? \"ee-shut\" : \"ee-open\";\n",
              "}\n",
              "\n",
              "for (let c of document.getElementsByClassName(\"ee-toggle\")) {\n",
              "    c.onclick = toggleHeader;\n",
              "}</script></div>"
            ]
          },
          "metadata": {},
          "execution_count": 8
        }
      ]
    },
    {
      "cell_type": "code",
      "source": [
        "Map = geemap.Map()\n",
        "# Map.add_basemap('HYBRID')\n",
        "Map.addLayer(roi, {'color':'blue'},'Parque Nacional da Chapada das Mesas')\n",
        "Map"
      ],
      "metadata": {
        "colab": {
          "base_uri": "https://localhost:8080/",
          "height": 621,
          "referenced_widgets": [
            "9663c356d2a94388a2940d7590cc84bd",
            "83af2bfe5a654a93bca4269bf0e519b1",
            "40312f638ee9498194b09e347a905505",
            "c947a863a79b42e3a2b6f5253e7b3f4d",
            "f65c6fedd474456297d0b925d2314803",
            "dbdbe337e60b4676bd5e244ee3830e4b",
            "5f15499a4fce42b78873d6fa08875799",
            "494c80375c4e42d3b60abef0b0860679",
            "c0f505a64dd4425eba56ecb4e9c71559",
            "c61e294efcc940ae89bbd7d57cff9978",
            "986e3d243a0642d4b171977adfc10fd3",
            "0c84895f13aa425485241b2e379b37c5",
            "7294e0759ae441e69165f7e58b391354",
            "ad25ccf5afdf4064af6b4afa27b0cf0b",
            "70eb66b91fb443358fd1f9b79b7071bd",
            "eae82980ad5b493c94d8aa34618789fa",
            "cee214e3fcaa44dfa3964f378a9ff95d",
            "d8d611e6d2184ffb8a84217ed4cccd59",
            "7dbeac56441243bab6a9e4b2d6fa3f64",
            "ba929b7e844e4940ae37cc0f3239d17c",
            "1a73200019e64cf7af079901183d4385",
            "3a4f13cba25f487b8b7102e0c7c6ecc1",
            "e264360705f04d9f8be202c8596249c8",
            "8958168d6a384b1ebb77925d91c310fe",
            "e865017ea8fe42458f9a24dd1616ecf1",
            "083f9b420d35438cb50e8655082c8c3c",
            "fa06a8cb1b56432a93b41d6b775368ac"
          ]
        },
        "id": "F15g59wfcLs2",
        "outputId": "a5107600-0ca2-40d3-fe23-f1310f6be6a4"
      },
      "execution_count": null,
      "outputs": [
        {
          "output_type": "display_data",
          "data": {
            "text/plain": [
              "<IPython.core.display.HTML object>"
            ],
            "text/html": [
              "\n",
              "            <style>\n",
              "                .geemap-dark {\n",
              "                    --jp-widgets-color: white;\n",
              "                    --jp-widgets-label-color: white;\n",
              "                    --jp-ui-font-color1: white;\n",
              "                    --jp-layout-color2: #454545;\n",
              "                    background-color: #383838;\n",
              "                }\n",
              "                    \n",
              "                .geemap-dark .jupyter-button {\n",
              "                    --jp-layout-color3: #383838;\n",
              "                }\n",
              "                \n",
              "                .geemap-colab {\n",
              "                    background-color: var(--colab-primary-surface-color, white);\n",
              "                }\n",
              "                    \n",
              "                .geemap-colab .jupyter-button {\n",
              "                    --jp-layout-color3: var(--colab-primary-surface-color, white);\n",
              "                }\n",
              "            </style>\n",
              "            "
            ]
          },
          "metadata": {}
        },
        {
          "output_type": "display_data",
          "data": {
            "text/plain": [
              "Map(center=[0, 0], controls=(WidgetControl(options=['position', 'transparent_bg'], widget=SearchDataGUI(childr…"
            ],
            "application/vnd.jupyter.widget-view+json": {
              "version_major": 2,
              "version_minor": 0,
              "model_id": "9663c356d2a94388a2940d7590cc84bd"
            }
          },
          "metadata": {
            "application/vnd.jupyter.widget-view+json": {
              "colab": {
                "custom_widget_manager": {
                  "url": "https://ssl.gstatic.com/colaboratory-static/widgets/colab-cdn-widget-manager/b3e629b1971e1542/manager.min.js"
                }
              }
            }
          }
        }
      ]
    },
    {
      "cell_type": "markdown",
      "source": [
        "## Dados GEE\n",
        "\n",
        "* Definir parâmentros e funções\n",
        "* Selecionar coleção de imagens (Landsat)\n",
        "* Exportar imagens\n"
      ],
      "metadata": {
        "id": "1mg4wvz9ep-F"
      }
    },
    {
      "cell_type": "code",
      "source": [
        "##Funções\n",
        "##Máscara de nuvens\n",
        "def maskL8sr(image):\n",
        "\n",
        "    qaMask = image.select('QA_PIXEL').bitwise_and(int('11111', 2)).eq(0)\n",
        "    saturationMask = image.select('QA_RADSAT').eq(0)\n",
        "    ###Fator de escala\n",
        "    opticalBands = image.select('SR_B.').multiply(0.0000275).add(-0.2)\n",
        "    thermalBands = image.select('ST_B.*').multiply(0.00341802).add(149.0)\n",
        "\n",
        "    return image.addBands(opticalBands, None, True)\\\n",
        "    .addBands(thermalBands, None, True).updateMask(qaMask)\\\n",
        "    .updateMask(saturationMask)"
      ],
      "metadata": {
        "colab": {
          "base_uri": "https://localhost:8080/",
          "height": 17
        },
        "id": "6nYoCNoue8oy",
        "outputId": "531aa025-eae0-45fe-9039-012c47982bca"
      },
      "execution_count": null,
      "outputs": [
        {
          "output_type": "display_data",
          "data": {
            "text/plain": [
              "<IPython.core.display.HTML object>"
            ],
            "text/html": [
              "\n",
              "            <style>\n",
              "                .geemap-dark {\n",
              "                    --jp-widgets-color: white;\n",
              "                    --jp-widgets-label-color: white;\n",
              "                    --jp-ui-font-color1: white;\n",
              "                    --jp-layout-color2: #454545;\n",
              "                    background-color: #383838;\n",
              "                }\n",
              "                    \n",
              "                .geemap-dark .jupyter-button {\n",
              "                    --jp-layout-color3: #383838;\n",
              "                }\n",
              "                \n",
              "                .geemap-colab {\n",
              "                    background-color: var(--colab-primary-surface-color, white);\n",
              "                }\n",
              "                    \n",
              "                .geemap-colab .jupyter-button {\n",
              "                    --jp-layout-color3: var(--colab-primary-surface-color, white);\n",
              "                }\n",
              "            </style>\n",
              "            "
            ]
          },
          "metadata": {}
        }
      ]
    },
    {
      "cell_type": "code",
      "source": [
        "## Acessando dados Landsat\n",
        "\n",
        "# Surface Reflectance\n",
        "# Landsat 5 TM (Mar 16, 1984 - May 05, 2012)\n",
        "  # USGS Landsat 5 Level 2, Collection 2, Tier 1\n",
        "  # sensor = \"LANDSAT/LT05/C02/T1_L2\"\n",
        "# Landsat 8 OLI (Mar 18, 2013 - present)\n",
        "  # USGS Landsat 8 Level 2, Collection 2, Tier 1\n",
        "  # sensor = \"LANDSAT/LC08/C02/T1_L2\"\n",
        "\n",
        "image = ee.ImageCollection(\"LANDSAT/LC08/C02/T1_L2\").filterBounds(roi)\\\n",
        "                                                 .filterDate('2016-01-01','2016-12-31')\\\n",
        "                                                 .filter(ee.Filter.lt('CLOUD_COVER',10))\\\n",
        "                                                 .map(maskL8sr)\\\n",
        "                                                 .select(['SR_B.*'])\\\n",
        "                                                 .median().clip(roi)\n",
        "\n",
        "## Verificando as bandas\n",
        "bandas = image.bandNames()\n",
        "bandas"
      ],
      "metadata": {
        "colab": {
          "base_uri": "https://localhost:8080/",
          "height": 68
        },
        "id": "BMOD8xALfGTe",
        "outputId": "580b040d-fb97-46e9-d2cb-e58555ec3283"
      },
      "execution_count": null,
      "outputs": [
        {
          "output_type": "display_data",
          "data": {
            "text/plain": [
              "<IPython.core.display.HTML object>"
            ],
            "text/html": [
              "\n",
              "            <style>\n",
              "                .geemap-dark {\n",
              "                    --jp-widgets-color: white;\n",
              "                    --jp-widgets-label-color: white;\n",
              "                    --jp-ui-font-color1: white;\n",
              "                    --jp-layout-color2: #454545;\n",
              "                    background-color: #383838;\n",
              "                }\n",
              "                    \n",
              "                .geemap-dark .jupyter-button {\n",
              "                    --jp-layout-color3: #383838;\n",
              "                }\n",
              "                \n",
              "                .geemap-colab {\n",
              "                    background-color: var(--colab-primary-surface-color, white);\n",
              "                }\n",
              "                    \n",
              "                .geemap-colab .jupyter-button {\n",
              "                    --jp-layout-color3: var(--colab-primary-surface-color, white);\n",
              "                }\n",
              "            </style>\n",
              "            "
            ]
          },
          "metadata": {}
        },
        {
          "output_type": "execute_result",
          "data": {
            "text/plain": [
              "<ee.ee_list.List at 0x7f95100b4d90>"
            ],
            "text/html": [
              "<div><style>:root {\n",
              "  --font-color-primary: var(--jp-content-font-color0, rgba(0, 0, 0, 1));\n",
              "  --font-color-secondary: var(--jp-content-font-color2, rgba(0, 0, 0, 0.6));\n",
              "  --font-color-accent: rgba(123, 31, 162, 1);\n",
              "  --border-color: var(--jp-border-color2, #e0e0e0);\n",
              "  --background-color: var(--jp-layout-color0, white);\n",
              "  --background-color-row-even: var(--jp-layout-color1, white);\n",
              "  --background-color-row-odd: var(--jp-layout-color2, #eeeeee);\n",
              "}\n",
              "\n",
              "html[theme=\"dark\"],\n",
              "body[data-theme=\"dark\"],\n",
              "body.vscode-dark {\n",
              "  --font-color-primary: rgba(255, 255, 255, 1);\n",
              "  --font-color-secondary: rgba(255, 255, 255, 0.6);\n",
              "  --font-color-accent: rgb(173, 132, 190);\n",
              "  --border-color: #2e2e2e;\n",
              "  --background-color: #111111;\n",
              "  --background-color-row-even: #111111;\n",
              "  --background-color-row-odd: #313131;\n",
              "}\n",
              "\n",
              ".ee {\n",
              "  padding: 1em;\n",
              "  line-height: 1.5em;\n",
              "  min-width: 300px;\n",
              "  max-width: 1200px;\n",
              "  overflow-y: scroll;\n",
              "  max-height: 600px;\n",
              "  border: 1px solid var(--border-color);\n",
              "  font-family: monospace;\n",
              "}\n",
              "\n",
              ".ee li {\n",
              "  list-style-type: none;\n",
              "}\n",
              "\n",
              ".ee ul {\n",
              "  padding-left: 1.5em !important;\n",
              "  margin: 0;\n",
              "}\n",
              "\n",
              ".ee > ul {\n",
              "  padding-left: 0 !important;\n",
              "}\n",
              "\n",
              ".ee-open,\n",
              ".ee-shut {\n",
              "  color: var(--font-color-secondary);\n",
              "  cursor: pointer;\n",
              "  margin: 0;\n",
              "}\n",
              "\n",
              ".ee-open:hover,\n",
              ".ee-shut:hover {\n",
              "  color: var(--font-color-primary);\n",
              "}\n",
              "\n",
              ".ee-k {\n",
              "  color: var(--font-color-accent);\n",
              "  margin-right: 6px;\n",
              "}\n",
              "\n",
              ".ee-v {\n",
              "  color: var(--font-color-primary);\n",
              "}\n",
              "\n",
              ".ee-toggle {\n",
              "  display: none;\n",
              "}\n",
              "\n",
              ".ee-shut + ul {\n",
              "  display: none;\n",
              "}\n",
              "\n",
              ".ee-open + ul {\n",
              "  display: block;\n",
              "}\n",
              "\n",
              ".ee-shut::before {\n",
              "  display: inline-block;\n",
              "  content: \"▼\";\n",
              "  margin-right: 6px;\n",
              "  transform: rotate(-90deg);\n",
              "  transition: transform 0.2s;\n",
              "}\n",
              "\n",
              ".ee-open::before {\n",
              "  transform: rotate(0deg);\n",
              "  display: inline-block;\n",
              "  content: \"▼\";\n",
              "  margin-right: 6px;\n",
              "  transition: transform 0.2s;\n",
              "}\n",
              "</style><div class='ee'><ul><li><label class='ee-shut'>List (7 elements)<input type='checkbox' class='ee-toggle'></label><ul><li><span class='ee-k'>0:</span><span class='ee-v'>SR_B1</span></li><li><span class='ee-k'>1:</span><span class='ee-v'>SR_B2</span></li><li><span class='ee-k'>2:</span><span class='ee-v'>SR_B3</span></li><li><span class='ee-k'>3:</span><span class='ee-v'>SR_B4</span></li><li><span class='ee-k'>4:</span><span class='ee-v'>SR_B5</span></li><li><span class='ee-k'>5:</span><span class='ee-v'>SR_B6</span></li><li><span class='ee-k'>6:</span><span class='ee-v'>SR_B7</span></li></ul></li></ul></div><script>function toggleHeader() {\n",
              "    const parent = this.parentElement;\n",
              "    parent.className = parent.className === \"ee-open\" ? \"ee-shut\" : \"ee-open\";\n",
              "}\n",
              "\n",
              "for (let c of document.getElementsByClassName(\"ee-toggle\")) {\n",
              "    c.onclick = toggleHeader;\n",
              "}</script></div>"
            ]
          },
          "metadata": {},
          "execution_count": 11
        }
      ]
    },
    {
      "cell_type": "code",
      "source": [
        "## Composição cor verdadeira\n",
        "Map.addLayer(image, {'bands': ['SR_B4', 'SR_B3', 'SR_B2'],'min': 0, 'max': 0.2}, 'Image')\n",
        "Map.centerObject(roi, 10)\n",
        "Map"
      ],
      "metadata": {
        "colab": {
          "base_uri": "https://localhost:8080/",
          "height": 621,
          "referenced_widgets": [
            "9663c356d2a94388a2940d7590cc84bd",
            "83af2bfe5a654a93bca4269bf0e519b1",
            "40312f638ee9498194b09e347a905505",
            "c947a863a79b42e3a2b6f5253e7b3f4d",
            "f65c6fedd474456297d0b925d2314803",
            "dbdbe337e60b4676bd5e244ee3830e4b",
            "5f15499a4fce42b78873d6fa08875799",
            "494c80375c4e42d3b60abef0b0860679",
            "c0f505a64dd4425eba56ecb4e9c71559",
            "c61e294efcc940ae89bbd7d57cff9978",
            "986e3d243a0642d4b171977adfc10fd3",
            "0c84895f13aa425485241b2e379b37c5",
            "7294e0759ae441e69165f7e58b391354",
            "083f9b420d35438cb50e8655082c8c3c",
            "ad25ccf5afdf4064af6b4afa27b0cf0b",
            "eae82980ad5b493c94d8aa34618789fa",
            "cee214e3fcaa44dfa3964f378a9ff95d",
            "d8d611e6d2184ffb8a84217ed4cccd59",
            "7dbeac56441243bab6a9e4b2d6fa3f64",
            "ba929b7e844e4940ae37cc0f3239d17c",
            "1a73200019e64cf7af079901183d4385",
            "3a4f13cba25f487b8b7102e0c7c6ecc1",
            "e264360705f04d9f8be202c8596249c8",
            "8958168d6a384b1ebb77925d91c310fe",
            "e865017ea8fe42458f9a24dd1616ecf1",
            "fa06a8cb1b56432a93b41d6b775368ac"
          ]
        },
        "id": "owPJZlbwfYPl",
        "outputId": "7d5e99da-39cf-4564-e715-6722b8b256bf"
      },
      "execution_count": null,
      "outputs": [
        {
          "output_type": "display_data",
          "data": {
            "text/plain": [
              "<IPython.core.display.HTML object>"
            ],
            "text/html": [
              "\n",
              "            <style>\n",
              "                .geemap-dark {\n",
              "                    --jp-widgets-color: white;\n",
              "                    --jp-widgets-label-color: white;\n",
              "                    --jp-ui-font-color1: white;\n",
              "                    --jp-layout-color2: #454545;\n",
              "                    background-color: #383838;\n",
              "                }\n",
              "                    \n",
              "                .geemap-dark .jupyter-button {\n",
              "                    --jp-layout-color3: #383838;\n",
              "                }\n",
              "                \n",
              "                .geemap-colab {\n",
              "                    background-color: var(--colab-primary-surface-color, white);\n",
              "                }\n",
              "                    \n",
              "                .geemap-colab .jupyter-button {\n",
              "                    --jp-layout-color3: var(--colab-primary-surface-color, white);\n",
              "                }\n",
              "            </style>\n",
              "            "
            ]
          },
          "metadata": {}
        },
        {
          "output_type": "display_data",
          "data": {
            "text/plain": [
              "Map(bottom=68471.0, center=[-7.152470125883857, -47.144687193400344], controls=(WidgetControl(options=['positi…"
            ],
            "application/vnd.jupyter.widget-view+json": {
              "version_major": 2,
              "version_minor": 0,
              "model_id": "9663c356d2a94388a2940d7590cc84bd"
            }
          },
          "metadata": {
            "application/vnd.jupyter.widget-view+json": {
              "colab": {
                "custom_widget_manager": {
                  "url": "https://ssl.gstatic.com/colaboratory-static/widgets/colab-cdn-widget-manager/b3e629b1971e1542/manager.min.js"
                }
              }
            }
          }
        }
      ]
    },
    {
      "cell_type": "code",
      "source": [
        "## Composição falsa-cor\n",
        "\n",
        "vis_params = {'bands': ['SR_B6', 'SR_B5', 'SR_B4'], 'min': 0.0, 'max': 0.4, 'opacity': 1.0, 'gamma': 0.84}\n",
        "\n",
        "Map.addLayer(image, vis_params, 'Image')\n",
        "Map.centerObject(roi,10)\n",
        "Map\n"
      ],
      "metadata": {
        "colab": {
          "base_uri": "https://localhost:8080/",
          "height": 621,
          "referenced_widgets": [
            "9663c356d2a94388a2940d7590cc84bd",
            "83af2bfe5a654a93bca4269bf0e519b1",
            "40312f638ee9498194b09e347a905505",
            "c947a863a79b42e3a2b6f5253e7b3f4d",
            "f65c6fedd474456297d0b925d2314803",
            "dbdbe337e60b4676bd5e244ee3830e4b",
            "5f15499a4fce42b78873d6fa08875799",
            "494c80375c4e42d3b60abef0b0860679",
            "c0f505a64dd4425eba56ecb4e9c71559",
            "c61e294efcc940ae89bbd7d57cff9978",
            "986e3d243a0642d4b171977adfc10fd3",
            "0c84895f13aa425485241b2e379b37c5",
            "7294e0759ae441e69165f7e58b391354",
            "fa06a8cb1b56432a93b41d6b775368ac",
            "ad25ccf5afdf4064af6b4afa27b0cf0b",
            "eae82980ad5b493c94d8aa34618789fa",
            "cee214e3fcaa44dfa3964f378a9ff95d",
            "d8d611e6d2184ffb8a84217ed4cccd59",
            "7dbeac56441243bab6a9e4b2d6fa3f64",
            "ba929b7e844e4940ae37cc0f3239d17c",
            "1a73200019e64cf7af079901183d4385",
            "3a4f13cba25f487b8b7102e0c7c6ecc1",
            "e264360705f04d9f8be202c8596249c8",
            "8958168d6a384b1ebb77925d91c310fe",
            "e865017ea8fe42458f9a24dd1616ecf1"
          ]
        },
        "id": "3Mgal39DjQIF",
        "outputId": "be4e8ab0-adfa-45cb-826d-385753039a13"
      },
      "execution_count": null,
      "outputs": [
        {
          "output_type": "display_data",
          "data": {
            "text/plain": [
              "<IPython.core.display.HTML object>"
            ],
            "text/html": [
              "\n",
              "            <style>\n",
              "                .geemap-dark {\n",
              "                    --jp-widgets-color: white;\n",
              "                    --jp-widgets-label-color: white;\n",
              "                    --jp-ui-font-color1: white;\n",
              "                    --jp-layout-color2: #454545;\n",
              "                    background-color: #383838;\n",
              "                }\n",
              "                    \n",
              "                .geemap-dark .jupyter-button {\n",
              "                    --jp-layout-color3: #383838;\n",
              "                }\n",
              "                \n",
              "                .geemap-colab {\n",
              "                    background-color: var(--colab-primary-surface-color, white);\n",
              "                }\n",
              "                    \n",
              "                .geemap-colab .jupyter-button {\n",
              "                    --jp-layout-color3: var(--colab-primary-surface-color, white);\n",
              "                }\n",
              "            </style>\n",
              "            "
            ]
          },
          "metadata": {}
        },
        {
          "output_type": "display_data",
          "data": {
            "text/plain": [
              "Map(bottom=136594.0, center=[-7.152470125883857, -47.144687193400344], controls=(WidgetControl(options=['posit…"
            ],
            "application/vnd.jupyter.widget-view+json": {
              "version_major": 2,
              "version_minor": 0,
              "model_id": "9663c356d2a94388a2940d7590cc84bd"
            }
          },
          "metadata": {
            "application/vnd.jupyter.widget-view+json": {
              "colab": {
                "custom_widget_manager": {
                  "url": "https://ssl.gstatic.com/colaboratory-static/widgets/colab-cdn-widget-manager/b3e629b1971e1542/manager.min.js"
                }
              }
            }
          }
        }
      ]
    },
    {
      "cell_type": "markdown",
      "source": [
        "## Pre-fire and Post-Fire"
      ],
      "metadata": {
        "id": "8x3CK0rpt7-T"
      }
    },
    {
      "cell_type": "code",
      "source": [
        "## Acessando dados Landsat - PRE-FIRE AND POST-FIRE\n",
        "\n",
        "# 2016\n",
        "\n",
        "pre_fire = ee.ImageCollection(\"LANDSAT/LC08/C02/T1_L2\").filterBounds(roi)\\\n",
        "                                                 .filterDate('2016-04-01','2016-04-30')\\\n",
        "                                                 .filter(ee.Filter.lt('CLOUD_COVER', 20))\\\n",
        "                                                 .map(maskL8sr)\\\n",
        "                                                 .select(['SR_B.*'])\\\n",
        "                                                 .median().clip(roi)\n",
        "\n",
        "post_fire = ee.ImageCollection(\"LANDSAT/LC08/C02/T1_L2\").filterBounds(roi)\\\n",
        "                                                 .filterDate('2016-05-01','2016-05-31')\\\n",
        "                                                 .filter(ee.Filter.lt('CLOUD_COVER', 10))\\\n",
        "                                                 .map(maskL8sr)\\\n",
        "                                                 .select(['SR_B.*'])\\\n",
        "                                                 .median().clip(roi)\n"
      ],
      "metadata": {
        "colab": {
          "base_uri": "https://localhost:8080/",
          "height": 17
        },
        "id": "2SKIpHuA4r7c",
        "outputId": "b18ab832-d90f-46d2-a5fc-5434d1bb2094"
      },
      "execution_count": null,
      "outputs": [
        {
          "output_type": "display_data",
          "data": {
            "text/plain": [
              "<IPython.core.display.HTML object>"
            ],
            "text/html": [
              "\n",
              "            <style>\n",
              "                .geemap-dark {\n",
              "                    --jp-widgets-color: white;\n",
              "                    --jp-widgets-label-color: white;\n",
              "                    --jp-ui-font-color1: white;\n",
              "                    --jp-layout-color2: #454545;\n",
              "                    background-color: #383838;\n",
              "                }\n",
              "                    \n",
              "                .geemap-dark .jupyter-button {\n",
              "                    --jp-layout-color3: #383838;\n",
              "                }\n",
              "                \n",
              "                .geemap-colab {\n",
              "                    background-color: var(--colab-primary-surface-color, white);\n",
              "                }\n",
              "                    \n",
              "                .geemap-colab .jupyter-button {\n",
              "                    --jp-layout-color3: var(--colab-primary-surface-color, white);\n",
              "                }\n",
              "            </style>\n",
              "            "
            ]
          },
          "metadata": {}
        }
      ]
    },
    {
      "cell_type": "code",
      "source": [
        "vis_params = {'bands': ['SR_B6', 'SR_B5', 'SR_B4'], 'min': 0.0, 'max': 0.4, 'opacity': 1.0, 'gamma': 0.84}\n",
        "Map = geemap.Map()\n",
        "Map.addLayer(pre_fire, vis_params, 'Pre-fire')\n",
        "Map.addLayer(post_fire, vis_params, 'Post-fire')\n",
        "Map.centerObject(roi,10)\n",
        "Map"
      ],
      "metadata": {
        "colab": {
          "base_uri": "https://localhost:8080/",
          "height": 621,
          "referenced_widgets": [
            "714be86bfbce46099c8b9a9b85288227",
            "112c0310f9b74101957449542ae803c0",
            "3f7450162e98479c8cecb08d773f0d10",
            "c567709b705540a9bdc5cb9483c3c530",
            "52afefc928f74db4a6918b1af4eebf1b",
            "1e55e74211fe45f8b3abe2be1376a302",
            "3070405be6bf435ab2d163fdd8792c39",
            "1e47d43e0e3e4d9fb6524eae86ec4e4d",
            "6f880c68124d4631899d51416cde1aca",
            "22a86ded93af45cea1aa6bb71e21bc0d",
            "719d374572c04cbf809f80800da1cde7",
            "0bc577f7ff614ced8d2f75907b702ad5",
            "ac4917dc932d4939b8a37cfe8fb89927",
            "e698257a42704e83a19587e558beda82",
            "b8a9d7f899d74658b47fa778390ae5ec",
            "34e4a4ebac654f569fab3a3b0a3e7b6a",
            "860812e7dedc4e89b733f6d6dffcd58f",
            "73c6117af2dc42c4bf0fadbcb97d9575",
            "a43bbd70ff9b4704bcea5c5a714c0be7",
            "2720c532e9e5417d8832179d433b121e",
            "f0f1e4818e9146ea87de7fab8d38516a",
            "75ec7983c0354594a6f95451011df92b",
            "809768f14a874044a3be28e3c6cd1947",
            "cdce867d31b84196aa9b356f6e95b4bc",
            "ea78b017db1b4b5ca7f2691a77565bac",
            "69df1fa0002a44559678ab24c15814a5"
          ]
        },
        "id": "bMDIdQx163WL",
        "outputId": "0a8324c0-6d3d-4505-fe65-791d8c36affd"
      },
      "execution_count": null,
      "outputs": [
        {
          "output_type": "display_data",
          "data": {
            "text/plain": [
              "<IPython.core.display.HTML object>"
            ],
            "text/html": [
              "\n",
              "            <style>\n",
              "                .geemap-dark {\n",
              "                    --jp-widgets-color: white;\n",
              "                    --jp-widgets-label-color: white;\n",
              "                    --jp-ui-font-color1: white;\n",
              "                    --jp-layout-color2: #454545;\n",
              "                    background-color: #383838;\n",
              "                }\n",
              "                    \n",
              "                .geemap-dark .jupyter-button {\n",
              "                    --jp-layout-color3: #383838;\n",
              "                }\n",
              "                \n",
              "                .geemap-colab {\n",
              "                    background-color: var(--colab-primary-surface-color, white);\n",
              "                }\n",
              "                    \n",
              "                .geemap-colab .jupyter-button {\n",
              "                    --jp-layout-color3: var(--colab-primary-surface-color, white);\n",
              "                }\n",
              "            </style>\n",
              "            "
            ]
          },
          "metadata": {}
        },
        {
          "output_type": "display_data",
          "data": {
            "text/plain": [
              "Map(center=[-7.152470125883857, -47.144687193400344], controls=(WidgetControl(options=['position', 'transparen…"
            ],
            "application/vnd.jupyter.widget-view+json": {
              "version_major": 2,
              "version_minor": 0,
              "model_id": "714be86bfbce46099c8b9a9b85288227"
            }
          },
          "metadata": {
            "application/vnd.jupyter.widget-view+json": {
              "colab": {
                "custom_widget_manager": {
                  "url": "https://ssl.gstatic.com/colaboratory-static/widgets/colab-cdn-widget-manager/b3e629b1971e1542/manager.min.js"
                }
              }
            }
          }
        }
      ]
    },
    {
      "cell_type": "code",
      "source": [
        "# Mapa comparativo - wet season and dry season\n",
        "\n",
        "# Pre-fire and Post-fire\n",
        "left_layer = geemap.ee_tile_layer(pre_fire, vis_params, 'Pre-fire')\n",
        "right_layer = geemap.ee_tile_layer(post_fire, vis_params, 'Post-fire')\n",
        "\n",
        "\n",
        "Map = geemap.Map(center=[-7.1,-47], zoom=10)\n",
        "\n",
        "Map.split_map(left_layer, right_layer)\n",
        "Map"
      ],
      "metadata": {
        "colab": {
          "base_uri": "https://localhost:8080/",
          "height": 621,
          "referenced_widgets": [
            "f7d36c480a2446c3a0565eb25dc95432",
            "aafc8b7329bc473e9c202baa03df3b99",
            "cf1cccb2dc22441b9d66409d967972b5",
            "8c6491e78c514271b5aed826a7081176",
            "19e3d820aaea46738f89f4f498097804",
            "23907d17dee94ded9a174001d420fe0b",
            "87185e8aea274853b2e78b62ac35c03f",
            "d74e9f0ed5b5452c848f3b8309f13da7",
            "b9518603a219448ab3072c1fc1355c2e",
            "c2ae860556ff41858f7426c4e66d82a5",
            "460486b006554b4997865e3eebe03025",
            "cea4e970bc404a968739cdac950cc72e"
          ]
        },
        "id": "uHSzWq_V4WLo",
        "outputId": "5753d8b1-c13d-4e2b-e1cd-a354ac99f820"
      },
      "execution_count": null,
      "outputs": [
        {
          "output_type": "display_data",
          "data": {
            "text/plain": [
              "<IPython.core.display.HTML object>"
            ],
            "text/html": [
              "\n",
              "            <style>\n",
              "                .geemap-dark {\n",
              "                    --jp-widgets-color: white;\n",
              "                    --jp-widgets-label-color: white;\n",
              "                    --jp-ui-font-color1: white;\n",
              "                    --jp-layout-color2: #454545;\n",
              "                    background-color: #383838;\n",
              "                }\n",
              "                    \n",
              "                .geemap-dark .jupyter-button {\n",
              "                    --jp-layout-color3: #383838;\n",
              "                }\n",
              "                \n",
              "                .geemap-colab {\n",
              "                    background-color: var(--colab-primary-surface-color, white);\n",
              "                }\n",
              "                    \n",
              "                .geemap-colab .jupyter-button {\n",
              "                    --jp-layout-color3: var(--colab-primary-surface-color, white);\n",
              "                }\n",
              "            </style>\n",
              "            "
            ]
          },
          "metadata": {}
        },
        {
          "output_type": "display_data",
          "data": {
            "text/plain": [
              "Map(center=[-7.1, -47], controls=(ZoomControl(options=['position', 'zoom_in_text', 'zoom_in_title', 'zoom_out_…"
            ],
            "application/vnd.jupyter.widget-view+json": {
              "version_major": 2,
              "version_minor": 0,
              "model_id": "f7d36c480a2446c3a0565eb25dc95432"
            }
          },
          "metadata": {
            "application/vnd.jupyter.widget-view+json": {
              "colab": {
                "custom_widget_manager": {
                  "url": "https://ssl.gstatic.com/colaboratory-static/widgets/colab-cdn-widget-manager/b3e629b1971e1542/manager.min.js"
                }
              }
            }
          }
        }
      ]
    },
    {
      "cell_type": "code",
      "source": [
        "\n",
        "image = ee.ImageCollection(\"LANDSAT/LT05/C02/T1_L2\").filterBounds(roi)\\\n",
        "                                                 .filterDate('2010-01-01','2010-12-31')\\\n",
        "                                                 .filter(ee.Filter.lt('CLOUD_COVER',10))\\\n",
        "                                                 .map(maskL8sr)\\\n",
        "                                                 .select(['SR_B.*'])\\\n",
        "                                                 .median().clip(roi)\n",
        "\n",
        "                                                 ## Verificando as bandas\n",
        "bandas = image.bandNames()\n",
        "bandas"
      ],
      "metadata": {
        "colab": {
          "base_uri": "https://localhost:8080/",
          "height": 68
        },
        "id": "TnveRw9YvQBv",
        "outputId": "38a58c76-fe5b-4b8b-8970-f02d25403a49"
      },
      "execution_count": null,
      "outputs": [
        {
          "output_type": "display_data",
          "data": {
            "text/plain": [
              "<IPython.core.display.HTML object>"
            ],
            "text/html": [
              "\n",
              "            <style>\n",
              "                .geemap-dark {\n",
              "                    --jp-widgets-color: white;\n",
              "                    --jp-widgets-label-color: white;\n",
              "                    --jp-ui-font-color1: white;\n",
              "                    --jp-layout-color2: #454545;\n",
              "                    background-color: #383838;\n",
              "                }\n",
              "                    \n",
              "                .geemap-dark .jupyter-button {\n",
              "                    --jp-layout-color3: #383838;\n",
              "                }\n",
              "                \n",
              "                .geemap-colab {\n",
              "                    background-color: var(--colab-primary-surface-color, white);\n",
              "                }\n",
              "                    \n",
              "                .geemap-colab .jupyter-button {\n",
              "                    --jp-layout-color3: var(--colab-primary-surface-color, white);\n",
              "                }\n",
              "            </style>\n",
              "            "
            ]
          },
          "metadata": {}
        },
        {
          "output_type": "execute_result",
          "data": {
            "text/plain": [
              "<ee.ee_list.List at 0x7f950e87c6d0>"
            ],
            "text/html": [
              "<div><style>:root {\n",
              "  --font-color-primary: var(--jp-content-font-color0, rgba(0, 0, 0, 1));\n",
              "  --font-color-secondary: var(--jp-content-font-color2, rgba(0, 0, 0, 0.6));\n",
              "  --font-color-accent: rgba(123, 31, 162, 1);\n",
              "  --border-color: var(--jp-border-color2, #e0e0e0);\n",
              "  --background-color: var(--jp-layout-color0, white);\n",
              "  --background-color-row-even: var(--jp-layout-color1, white);\n",
              "  --background-color-row-odd: var(--jp-layout-color2, #eeeeee);\n",
              "}\n",
              "\n",
              "html[theme=\"dark\"],\n",
              "body[data-theme=\"dark\"],\n",
              "body.vscode-dark {\n",
              "  --font-color-primary: rgba(255, 255, 255, 1);\n",
              "  --font-color-secondary: rgba(255, 255, 255, 0.6);\n",
              "  --font-color-accent: rgb(173, 132, 190);\n",
              "  --border-color: #2e2e2e;\n",
              "  --background-color: #111111;\n",
              "  --background-color-row-even: #111111;\n",
              "  --background-color-row-odd: #313131;\n",
              "}\n",
              "\n",
              ".ee {\n",
              "  padding: 1em;\n",
              "  line-height: 1.5em;\n",
              "  min-width: 300px;\n",
              "  max-width: 1200px;\n",
              "  overflow-y: scroll;\n",
              "  max-height: 600px;\n",
              "  border: 1px solid var(--border-color);\n",
              "  font-family: monospace;\n",
              "}\n",
              "\n",
              ".ee li {\n",
              "  list-style-type: none;\n",
              "}\n",
              "\n",
              ".ee ul {\n",
              "  padding-left: 1.5em !important;\n",
              "  margin: 0;\n",
              "}\n",
              "\n",
              ".ee > ul {\n",
              "  padding-left: 0 !important;\n",
              "}\n",
              "\n",
              ".ee-open,\n",
              ".ee-shut {\n",
              "  color: var(--font-color-secondary);\n",
              "  cursor: pointer;\n",
              "  margin: 0;\n",
              "}\n",
              "\n",
              ".ee-open:hover,\n",
              ".ee-shut:hover {\n",
              "  color: var(--font-color-primary);\n",
              "}\n",
              "\n",
              ".ee-k {\n",
              "  color: var(--font-color-accent);\n",
              "  margin-right: 6px;\n",
              "}\n",
              "\n",
              ".ee-v {\n",
              "  color: var(--font-color-primary);\n",
              "}\n",
              "\n",
              ".ee-toggle {\n",
              "  display: none;\n",
              "}\n",
              "\n",
              ".ee-shut + ul {\n",
              "  display: none;\n",
              "}\n",
              "\n",
              ".ee-open + ul {\n",
              "  display: block;\n",
              "}\n",
              "\n",
              ".ee-shut::before {\n",
              "  display: inline-block;\n",
              "  content: \"▼\";\n",
              "  margin-right: 6px;\n",
              "  transform: rotate(-90deg);\n",
              "  transition: transform 0.2s;\n",
              "}\n",
              "\n",
              ".ee-open::before {\n",
              "  transform: rotate(0deg);\n",
              "  display: inline-block;\n",
              "  content: \"▼\";\n",
              "  margin-right: 6px;\n",
              "  transition: transform 0.2s;\n",
              "}\n",
              "</style><div class='ee'><ul><li><label class='ee-shut'>List (6 elements)<input type='checkbox' class='ee-toggle'></label><ul><li><span class='ee-k'>0:</span><span class='ee-v'>SR_B1</span></li><li><span class='ee-k'>1:</span><span class='ee-v'>SR_B2</span></li><li><span class='ee-k'>2:</span><span class='ee-v'>SR_B3</span></li><li><span class='ee-k'>3:</span><span class='ee-v'>SR_B4</span></li><li><span class='ee-k'>4:</span><span class='ee-v'>SR_B5</span></li><li><span class='ee-k'>5:</span><span class='ee-v'>SR_B7</span></li></ul></li></ul></div><script>function toggleHeader() {\n",
              "    const parent = this.parentElement;\n",
              "    parent.className = parent.className === \"ee-open\" ? \"ee-shut\" : \"ee-open\";\n",
              "}\n",
              "\n",
              "for (let c of document.getElementsByClassName(\"ee-toggle\")) {\n",
              "    c.onclick = toggleHeader;\n",
              "}</script></div>"
            ]
          },
          "metadata": {},
          "execution_count": 19
        }
      ]
    },
    {
      "cell_type": "code",
      "source": [
        "## Acessando dados Landsat - PRE-FIRE AND POST-FIRE -\n",
        "\n",
        "# Sem aplicação da máscara de nuvens\n",
        "# 2010\n",
        "pre_fire = ee.ImageCollection(\"LANDSAT/LT05/C02/T1_L2\").filterBounds(roi)\\\n",
        "                                                 .filterDate('2010-09-01','2010-09-30')\\\n",
        "                                                 .select(['SR_B.*'])\\\n",
        "                                                 .median().clip(roi)\n",
        "\n",
        "post_fire = ee.ImageCollection(\"LANDSAT/LT05/C02/T1_L2\").filterBounds(roi)\\\n",
        "                                                 .filterDate('2010-10-16','2010-10-20')\\\n",
        "                                                 .select(['SR_B.*'])\\\n",
        "                                                 .median().clip(roi)"
      ],
      "metadata": {
        "colab": {
          "base_uri": "https://localhost:8080/",
          "height": 17
        },
        "id": "ZKLXpLnVVV0Z",
        "outputId": "8e90f935-1076-4db7-98c1-2ab57cf4429a"
      },
      "execution_count": null,
      "outputs": [
        {
          "output_type": "display_data",
          "data": {
            "text/plain": [
              "<IPython.core.display.HTML object>"
            ],
            "text/html": [
              "\n",
              "            <style>\n",
              "                .geemap-dark {\n",
              "                    --jp-widgets-color: white;\n",
              "                    --jp-widgets-label-color: white;\n",
              "                    --jp-ui-font-color1: white;\n",
              "                    --jp-layout-color2: #454545;\n",
              "                    background-color: #383838;\n",
              "                }\n",
              "                    \n",
              "                .geemap-dark .jupyter-button {\n",
              "                    --jp-layout-color3: #383838;\n",
              "                }\n",
              "                \n",
              "                .geemap-colab {\n",
              "                    background-color: var(--colab-primary-surface-color, white);\n",
              "                }\n",
              "                    \n",
              "                .geemap-colab .jupyter-button {\n",
              "                    --jp-layout-color3: var(--colab-primary-surface-color, white);\n",
              "                }\n",
              "            </style>\n",
              "            "
            ]
          },
          "metadata": {}
        }
      ]
    },
    {
      "cell_type": "code",
      "source": [
        "vis_paramsLS5 = {'bands': ['SR_B5', 'SR_B4', 'SR_B3'], 'min': [3000], 'max': [20000], 'opacity': 0.85, 'gamma': 0.50}\n",
        "Map = geemap.Map()\n",
        "Map.addLayer(pre_fire, vis_paramsLS5, 'Pre-fire')\n",
        "Map.addLayer(post_fire, vis_paramsLS5, 'Post-fire')\n",
        "Map.centerObject(roi,10)\n",
        "Map"
      ],
      "metadata": {
        "colab": {
          "base_uri": "https://localhost:8080/",
          "height": 621,
          "referenced_widgets": [
            "cf95b0e69d8543e5a7ba29b6b746f20a",
            "64c1760f4e4d432a9453caea45425f9f",
            "13dcab4953e6428dad37ed3af6b65a81",
            "edd36dde4365491091abd1cdd09ebf42",
            "66cf44001c1b44f799bd7e95549b07bf",
            "2302bc6128334717ae2a5e830b22aaed",
            "0da6c3d15ca947fd9d6ccb559d850572",
            "8965d07ea18140018103539f1066844f",
            "2fca914519334a94ba9161671a715faf",
            "d83785dbdf9141eba7c007f371000b86",
            "86a275a4aad64de1b95efd14a8d57148",
            "97248f26ba3d441483f54f3448dd696c",
            "12a81ccab8c84f71a51c27b0445fc389",
            "874b782d9dfe4f81b0217bd48176e80e",
            "06ba379edcea4911b67806b9cb94b44d",
            "eebb3ddc14a64436983876ec7fe99d09",
            "32a4e7a2eb8e4437833b196263188c82",
            "163e9b2aaff44f96a965840f1816ce46",
            "b1d07c519d7140158c832f5b13d8536d",
            "5c4827743a31489cb8125d17b345e218",
            "3cb5b42b7a344855a8f3ee883dfc17da",
            "78b04fe1ba534b43811f3be859df51f8",
            "2960ef1f9aff4bcb854eed60139ad224",
            "2dfe35d98e8b4909b26b3b098f0d965f",
            "de3dc3d560aa4b5bb63f8411bd5f05e1",
            "4aa878f4d7d44d9f9247c193bbe2a8b3"
          ]
        },
        "id": "R-l9PQwtZxK_",
        "outputId": "86c40091-d37f-4437-c8c6-5c93085f29b6"
      },
      "execution_count": null,
      "outputs": [
        {
          "output_type": "display_data",
          "data": {
            "text/plain": [
              "<IPython.core.display.HTML object>"
            ],
            "text/html": [
              "\n",
              "            <style>\n",
              "                .geemap-dark {\n",
              "                    --jp-widgets-color: white;\n",
              "                    --jp-widgets-label-color: white;\n",
              "                    --jp-ui-font-color1: white;\n",
              "                    --jp-layout-color2: #454545;\n",
              "                    background-color: #383838;\n",
              "                }\n",
              "                    \n",
              "                .geemap-dark .jupyter-button {\n",
              "                    --jp-layout-color3: #383838;\n",
              "                }\n",
              "                \n",
              "                .geemap-colab {\n",
              "                    background-color: var(--colab-primary-surface-color, white);\n",
              "                }\n",
              "                    \n",
              "                .geemap-colab .jupyter-button {\n",
              "                    --jp-layout-color3: var(--colab-primary-surface-color, white);\n",
              "                }\n",
              "            </style>\n",
              "            "
            ]
          },
          "metadata": {}
        },
        {
          "output_type": "display_data",
          "data": {
            "text/plain": [
              "Map(center=[-7.152470125883857, -47.144687193400344], controls=(WidgetControl(options=['position', 'transparen…"
            ],
            "application/vnd.jupyter.widget-view+json": {
              "version_major": 2,
              "version_minor": 0,
              "model_id": "cf95b0e69d8543e5a7ba29b6b746f20a"
            }
          },
          "metadata": {
            "application/vnd.jupyter.widget-view+json": {
              "colab": {
                "custom_widget_manager": {
                  "url": "https://ssl.gstatic.com/colaboratory-static/widgets/colab-cdn-widget-manager/b3e629b1971e1542/manager.min.js"
                }
              }
            }
          }
        }
      ]
    },
    {
      "cell_type": "code",
      "source": [
        "## Acessando dados Landsat - PRE-FIRE AND POST-FIRE - Com aplicação de máscara de nuvem\n",
        "## 2010\n",
        "pre_fire = ee.ImageCollection(\"LANDSAT/LT05/C02/T1_L2\").filterBounds(roi)\\\n",
        "                                                 .filterDate('2010-09-01','2010-09-30')\\\n",
        "                                                 .filter(ee.Filter.lt('CLOUD_COVER', 10))\\\n",
        "                                                 .map(maskL8sr)\\\n",
        "                                                 .select(['SR_B.*'])\\\n",
        "                                                 .median().clip(roi)\n",
        "\n",
        "post_fire = ee.ImageCollection(\"LANDSAT/LT05/C02/T1_L2\").filterBounds(roi)\\\n",
        "                                                 .filterDate('2010-10-16','2010-10-20')\\\n",
        "                                                 .filter(ee.Filter.lt('CLOUD_COVER', 10))\\\n",
        "                                                 .map(maskL8sr)\\\n",
        "                                                 .select(['SR_B.*'])\\\n",
        "                                                 .median().clip(roi)"
      ],
      "metadata": {
        "id": "J-KqOZzTtNoX",
        "colab": {
          "base_uri": "https://localhost:8080/",
          "height": 17
        },
        "outputId": "9fb5c899-978e-4304-c52f-2e95a5f02faf"
      },
      "execution_count": null,
      "outputs": [
        {
          "output_type": "display_data",
          "data": {
            "text/plain": [
              "<IPython.core.display.HTML object>"
            ],
            "text/html": [
              "\n",
              "            <style>\n",
              "                .geemap-dark {\n",
              "                    --jp-widgets-color: white;\n",
              "                    --jp-widgets-label-color: white;\n",
              "                    --jp-ui-font-color1: white;\n",
              "                    --jp-layout-color2: #454545;\n",
              "                    background-color: #383838;\n",
              "                }\n",
              "                    \n",
              "                .geemap-dark .jupyter-button {\n",
              "                    --jp-layout-color3: #383838;\n",
              "                }\n",
              "                \n",
              "                .geemap-colab {\n",
              "                    background-color: var(--colab-primary-surface-color, white);\n",
              "                }\n",
              "                    \n",
              "                .geemap-colab .jupyter-button {\n",
              "                    --jp-layout-color3: var(--colab-primary-surface-color, white);\n",
              "                }\n",
              "            </style>\n",
              "            "
            ]
          },
          "metadata": {}
        }
      ]
    },
    {
      "cell_type": "code",
      "source": [
        "vis_paramsLS5 = {'bands': ['SR_B5', 'SR_B4', 'SR_B3'], 'min': [0.0], 'max': [0.6], 'opacity': 1, 'gamma':1}\n",
        "Map = geemap.Map()\n",
        "Map.addLayer(pre_fire, vis_paramsLS5, 'Pre-fire')\n",
        "Map.addLayer(post_fire, vis_paramsLS5, 'Post-fire')\n",
        "Map.centerObject(roi,10)\n",
        "Map"
      ],
      "metadata": {
        "colab": {
          "base_uri": "https://localhost:8080/",
          "height": 621,
          "referenced_widgets": [
            "75fdfd1108a24f22a98b845918efeff5",
            "1dba77097f9749898b4492d697a5ddc2",
            "03738c2246cc4093af1499efe1b5bafb",
            "1d589954f643441290dc8a34a6af0476",
            "7f17aba74b7545ab976cc22cb76e7141",
            "903f41489842448393a31f4e353ed43c",
            "2dd932500d684d44985364d6689f67f6",
            "0f1656c564254be689b6c52cac31e43f",
            "68e47e7e2c144e019c241f7ce763eb63",
            "21c6ba55f0e84c9b8de8ddf3c68dd7df",
            "320a4711f3e144c3a945699ec88e4e76",
            "9d0973a888c1468bb581c6229e762a61",
            "ceee95b6b98b4b8e89a0533667ede0c9",
            "9479283ccf6e4b35a849de4fcc9bc569",
            "bf50a70471e54dbfb82887e6d770c7b1",
            "542f9daee3d543719f812044f2cba9dc",
            "fdfe7cfde04a41ce9e4ff06ee829efd3",
            "8491a372bf4749fcbdbd3bae5e6d1751",
            "79e8e6c8ed6942cc88336501c7c633a8",
            "59f10091149c4d5e810796ea52e73fb7",
            "d25457f0eb2d47d2a715851b141fec57",
            "a7f7eac2206a4970a7df33a93dca28af",
            "64701f041ab649b387ff33b41b979508",
            "e102cf7f518544f0ab0286e0b9ca34ed",
            "8e31e63cec264a45b315d65b1b6a5599",
            "c9b7544df3714e6cafe9ac93d78f8716"
          ]
        },
        "id": "UULiMy5asRp7",
        "outputId": "b466b887-9056-4bd7-b0f0-59193e0eb031"
      },
      "execution_count": null,
      "outputs": [
        {
          "output_type": "display_data",
          "data": {
            "text/plain": [
              "<IPython.core.display.HTML object>"
            ],
            "text/html": [
              "\n",
              "            <style>\n",
              "                .geemap-dark {\n",
              "                    --jp-widgets-color: white;\n",
              "                    --jp-widgets-label-color: white;\n",
              "                    --jp-ui-font-color1: white;\n",
              "                    --jp-layout-color2: #454545;\n",
              "                    background-color: #383838;\n",
              "                }\n",
              "                    \n",
              "                .geemap-dark .jupyter-button {\n",
              "                    --jp-layout-color3: #383838;\n",
              "                }\n",
              "                \n",
              "                .geemap-colab {\n",
              "                    background-color: var(--colab-primary-surface-color, white);\n",
              "                }\n",
              "                    \n",
              "                .geemap-colab .jupyter-button {\n",
              "                    --jp-layout-color3: var(--colab-primary-surface-color, white);\n",
              "                }\n",
              "            </style>\n",
              "            "
            ]
          },
          "metadata": {}
        },
        {
          "output_type": "display_data",
          "data": {
            "text/plain": [
              "Map(center=[-7.152470125883857, -47.144687193400344], controls=(WidgetControl(options=['position', 'transparen…"
            ],
            "application/vnd.jupyter.widget-view+json": {
              "version_major": 2,
              "version_minor": 0,
              "model_id": "75fdfd1108a24f22a98b845918efeff5"
            }
          },
          "metadata": {
            "application/vnd.jupyter.widget-view+json": {
              "colab": {
                "custom_widget_manager": {
                  "url": "https://ssl.gstatic.com/colaboratory-static/widgets/colab-cdn-widget-manager/b3e629b1971e1542/manager.min.js"
                }
              }
            }
          }
        }
      ]
    },
    {
      "cell_type": "code",
      "source": [
        "# Mapa comparativo - wet season and dry season\n",
        "\n",
        "# Pre-fire and Post-fire\n",
        "left_layer = geemap.ee_tile_layer(pre_fire, vis_paramsLS5, 'Pre-fire')\n",
        "right_layer = geemap.ee_tile_layer(post_fire, vis_paramsLS5, 'Post-fire')\n",
        "\n",
        "\n",
        "Map = geemap.Map(center=[-7.1,-47], zoom=10)\n",
        "\n",
        "Map.split_map(left_layer, right_layer)\n",
        "Map"
      ],
      "metadata": {
        "colab": {
          "base_uri": "https://localhost:8080/",
          "height": 621,
          "referenced_widgets": [
            "ef2daaee2f3146a2b02878aca50f3071",
            "a16f37c011994616b9283f375c5e768e",
            "1758471bbab74f13bdd733edff7f39c3",
            "89bff71ebe03429588b1f0986acd7dd2",
            "4b4ab9f09e23490894bd016f4ef8dd92",
            "5b71234e6f5949daba8e9f53534b1238",
            "d5009ef310404e16b3ea4dff3eea34e1",
            "8163a16bd5ce4f27b869cc830024760a",
            "19449361b8444130810bd358c947c080",
            "b3c768ac1d414303a39ca3706c40e6c2",
            "c970b1e207b943309b79bc68237214fb",
            "30a98a9e8060493c91812e4fd8ea71ba"
          ]
        },
        "id": "lzUUhp7ostQg",
        "outputId": "0c9f458e-add3-43e7-ebb4-6a8530c07a7d"
      },
      "execution_count": null,
      "outputs": [
        {
          "output_type": "display_data",
          "data": {
            "text/plain": [
              "<IPython.core.display.HTML object>"
            ],
            "text/html": [
              "\n",
              "            <style>\n",
              "                .geemap-dark {\n",
              "                    --jp-widgets-color: white;\n",
              "                    --jp-widgets-label-color: white;\n",
              "                    --jp-ui-font-color1: white;\n",
              "                    --jp-layout-color2: #454545;\n",
              "                    background-color: #383838;\n",
              "                }\n",
              "                    \n",
              "                .geemap-dark .jupyter-button {\n",
              "                    --jp-layout-color3: #383838;\n",
              "                }\n",
              "                \n",
              "                .geemap-colab {\n",
              "                    background-color: var(--colab-primary-surface-color, white);\n",
              "                }\n",
              "                    \n",
              "                .geemap-colab .jupyter-button {\n",
              "                    --jp-layout-color3: var(--colab-primary-surface-color, white);\n",
              "                }\n",
              "            </style>\n",
              "            "
            ]
          },
          "metadata": {}
        },
        {
          "output_type": "display_data",
          "data": {
            "text/plain": [
              "Map(center=[-7.1, -47], controls=(ZoomControl(options=['position', 'zoom_in_text', 'zoom_in_title', 'zoom_out_…"
            ],
            "application/vnd.jupyter.widget-view+json": {
              "version_major": 2,
              "version_minor": 0,
              "model_id": "ef2daaee2f3146a2b02878aca50f3071"
            }
          },
          "metadata": {
            "application/vnd.jupyter.widget-view+json": {
              "colab": {
                "custom_widget_manager": {
                  "url": "https://ssl.gstatic.com/colaboratory-static/widgets/colab-cdn-widget-manager/b3e629b1971e1542/manager.min.js"
                }
              }
            }
          }
        }
      ]
    },
    {
      "cell_type": "markdown",
      "source": [
        "## Download de imagens"
      ],
      "metadata": {
        "id": "DHmT0zY10rlw"
      }
    },
    {
      "cell_type": "code",
      "source": [
        "img_clip  = image.clip(roi)\n",
        "pre_fire_clip = pre_fire.clip(roi)\n",
        "post_fire_clip = post_fire.clip(roi)"
      ],
      "metadata": {
        "colab": {
          "base_uri": "https://localhost:8080/",
          "height": 17
        },
        "id": "HTmyfmkA-Oip",
        "outputId": "5d2b9062-c64d-4a96-915e-9100e62cff99"
      },
      "execution_count": null,
      "outputs": [
        {
          "output_type": "display_data",
          "data": {
            "text/plain": [
              "<IPython.core.display.HTML object>"
            ],
            "text/html": [
              "\n",
              "            <style>\n",
              "                .geemap-dark {\n",
              "                    --jp-widgets-color: white;\n",
              "                    --jp-widgets-label-color: white;\n",
              "                    --jp-ui-font-color1: white;\n",
              "                    --jp-layout-color2: #454545;\n",
              "                    background-color: #383838;\n",
              "                }\n",
              "                    \n",
              "                .geemap-dark .jupyter-button {\n",
              "                    --jp-layout-color3: #383838;\n",
              "                }\n",
              "                \n",
              "                .geemap-colab {\n",
              "                    background-color: var(--colab-primary-surface-color, white);\n",
              "                }\n",
              "                    \n",
              "                .geemap-colab .jupyter-button {\n",
              "                    --jp-layout-color3: var(--colab-primary-surface-color, white);\n",
              "                }\n",
              "            </style>\n",
              "            "
            ]
          },
          "metadata": {}
        }
      ]
    },
    {
      "cell_type": "code",
      "source": [
        "#exportar image\n",
        "task = ee.batch.Export.image.toDrive(\n",
        "    image = img_clip.toFloat(),\n",
        "    description = 'Landsat_2010_pncm',\n",
        "    folder = 'Dados_Landsat',\n",
        "    maxPixels = 1e13,\n",
        "    region = roi.geometry(), # conversão necessária para recortar o raster de saída,\n",
        "    scale = 30,\n",
        "    crs='EPSG:4326'\n",
        ")\n",
        "task.start()\n",
        "\n",
        "\n",
        "# task = ee.batch.Export.image.toDrive(\n",
        "#     image = pre_fire_clip.toFloat(),\n",
        "#     description = 'Landsat_sept_2010_pncm',\n",
        "#     folder = 'Dados_Landsat',\n",
        "#     maxPixels = 1e13,\n",
        "#     region = roi.geometry(), # conversão necessária para recortar o raster de saída,,\n",
        "#     scale = 30,\n",
        "#     crs='EPSG:4326'\n",
        "# )\n",
        "# task.start()\n",
        "\n",
        "# task = ee.batch.Export.image.toDrive(\n",
        "#     image = post_fire_clip.toFloat(),\n",
        "#     description = 'Landsat_out_2010_pncm',\n",
        "#     folder = 'Dados_Landsat',\n",
        "#     maxPixels = 1e13,\n",
        "#     region = roi.geometry(), # conversão necessária para recortar o raster de saída,,\n",
        "#     scale = 30,\n",
        "#     crs='EPSG:4326'\n",
        "# )\n",
        "# task.start()\n",
        "\n",
        "# https://code.earthengine.google.com/tasks"
      ],
      "metadata": {
        "colab": {
          "base_uri": "https://localhost:8080/",
          "height": 17
        },
        "id": "kTn3Rl7jgJ5w",
        "outputId": "05f64a58-568c-4b8f-8fc3-791fb4675756"
      },
      "execution_count": null,
      "outputs": [
        {
          "output_type": "display_data",
          "data": {
            "text/plain": [
              "<IPython.core.display.HTML object>"
            ],
            "text/html": [
              "\n",
              "            <style>\n",
              "                .geemap-dark {\n",
              "                    --jp-widgets-color: white;\n",
              "                    --jp-widgets-label-color: white;\n",
              "                    --jp-ui-font-color1: white;\n",
              "                    --jp-layout-color2: #454545;\n",
              "                    background-color: #383838;\n",
              "                }\n",
              "                    \n",
              "                .geemap-dark .jupyter-button {\n",
              "                    --jp-layout-color3: #383838;\n",
              "                }\n",
              "                \n",
              "                .geemap-colab {\n",
              "                    background-color: var(--colab-primary-surface-color, white);\n",
              "                }\n",
              "                    \n",
              "                .geemap-colab .jupyter-button {\n",
              "                    --jp-layout-color3: var(--colab-primary-surface-color, white);\n",
              "                }\n",
              "            </style>\n",
              "            "
            ]
          },
          "metadata": {}
        }
      ]
    },
    {
      "cell_type": "markdown",
      "source": [
        "## MapBiomas Colombia"
      ],
      "metadata": {
        "id": "O4UdlyULiUul"
      }
    },
    {
      "cell_type": "code",
      "source": [
        "##Abrir a base de dados do MapBiomas\n",
        "#1.21.0 - Loads mapbiomas-colombia collection 1.0 (informação até Dez.2023)\n",
        "##Defindo a coleção de imagem  - acessar o asset de dados no Google Earth Engine: ID: 'projects/mapbiomas-public/assets/colombia/collection1/mapbiomas_colombia_collection1_integration_v1'\n",
        "path_project = 'projects/mapbiomas-public/assets/colombia/collection1/mapbiomas_colombia_collection1_integration_v1'\n",
        "\n",
        "##Define a imagem collection\n",
        "mapbiomas = ee.Image(path_project)\n",
        "print('Dados MapBiomas',mapbiomas.bandNames().getInfo())"
      ],
      "metadata": {
        "id": "Zw-h8ExaiToQ",
        "colab": {
          "base_uri": "https://localhost:8080/",
          "height": 54
        },
        "outputId": "e46ffd45-fbd3-4374-ba67-d36ab67e6333"
      },
      "execution_count": null,
      "outputs": [
        {
          "output_type": "display_data",
          "data": {
            "text/plain": [
              "<IPython.core.display.HTML object>"
            ],
            "text/html": [
              "\n",
              "            <style>\n",
              "                .geemap-dark {\n",
              "                    --jp-widgets-color: white;\n",
              "                    --jp-widgets-label-color: white;\n",
              "                    --jp-ui-font-color1: white;\n",
              "                    --jp-layout-color2: #454545;\n",
              "                    background-color: #383838;\n",
              "                }\n",
              "                    \n",
              "                .geemap-dark .jupyter-button {\n",
              "                    --jp-layout-color3: #383838;\n",
              "                }\n",
              "                \n",
              "                .geemap-colab {\n",
              "                    background-color: var(--colab-primary-surface-color, white);\n",
              "                }\n",
              "                    \n",
              "                .geemap-colab .jupyter-button {\n",
              "                    --jp-layout-color3: var(--colab-primary-surface-color, white);\n",
              "                }\n",
              "            </style>\n",
              "            "
            ]
          },
          "metadata": {}
        },
        {
          "output_type": "stream",
          "name": "stdout",
          "text": [
            "Dados MapBiomas ['classification_1985', 'classification_1986', 'classification_1987', 'classification_1988', 'classification_1989', 'classification_1990', 'classification_1991', 'classification_1992', 'classification_1993', 'classification_1994', 'classification_1995', 'classification_1996', 'classification_1997', 'classification_1998', 'classification_1999', 'classification_2000', 'classification_2001', 'classification_2002', 'classification_2003', 'classification_2004', 'classification_2005', 'classification_2006', 'classification_2007', 'classification_2008', 'classification_2009', 'classification_2010', 'classification_2011', 'classification_2012', 'classification_2013', 'classification_2014', 'classification_2015', 'classification_2016', 'classification_2017', 'classification_2018', 'classification_2019', 'classification_2020', 'classification_2021', 'classification_2022']\n"
          ]
        }
      ]
    },
    {
      "cell_type": "code",
      "source": [
        "# Criado com base em : https://colombia.mapbiomas.org/wp-content/uploads/sites/3/2023/10/Colombia-Legend-Code_Col-1.0.pdf\n",
        "dicionario_cores = {\n",
        "    1: \"#1f8d49\",\n",
        "    3: \"#1f8d49\",\n",
        "    5: \"#04381d\",\n",
        "    6: \"#026975\",\n",
        "    49: \"#02d659\",\n",
        "    10: \"#ad975a\",\n",
        "    11: \"#519799\",\n",
        "    12: \"#d6bc74\",\n",
        "    32: \"#fc8114\",\n",
        "    29: \"#ffaa5f\",\n",
        "    50: \"#ad5100\",\n",
        "    13: \"#d89f5c\",\n",
        "    14: \"#FFFFB2\",\n",
        "    9: \"#7a5900\",\n",
        "    35: \"#9065d0\",\n",
        "    21: \"#ffefc3\",\n",
        "    22: \"#d4271e\",\n",
        "    23: \"#ffa07a\",\n",
        "    24: \"#d4271e\",\n",
        "    30: \"#9c0027\",\n",
        "    25: \"#db4d4f\",\n",
        "    26: \"#2532e4\",\n",
        "    33: \"#2532e4\",\n",
        "    31: \"#091077\",\n",
        "    34: \"#93dfe6\",\n",
        "    27: \"#ffffff\"\n",
        "}\n",
        "\n",
        "# VERIFICAR AINDA\n",
        "# dicionario_classes = {\n",
        "#             1: \"Forest\",\n",
        "#             3: \"Forest Formation\",\n",
        "#             5: \"Magrove\",\n",
        "#             6: \"Áreas Naturales Inundables - Leñosas (Bosque Inundable)\",\n",
        "#             49: 'Wooded Sandbank Vegetation',\n",
        "#             10: \"Non Forest Natural Formation\",\n",
        "#             11: \"Wetland\",\n",
        "#             12: \"Grassland (Pastizal, Formación Herbácea)\",\n",
        "#             32: \"Salt flat\",\n",
        "#             29: \"Rocky outcrop\",\n",
        "#             50: 'Herbaceous Sandbank Vegetation',\n",
        "#             13: \"Other Non Forest Natural Formation\",\n",
        "#             14: \"Farming\",\n",
        "#             9: \"Forest Plantation\",\n",
        "#             35: \"Oil Palm\",\n",
        "#             21: \"Mosaic of Agriculture and Pasture\",\n",
        "#             22: \"Non vegetated area\",\n",
        "#             23: \"Beach and Dune\",\n",
        "#             24: \"Urban Infrastructure\",\n",
        "#             30: \"Mining\",\n",
        "#             25: \"Other Non Vegetated Area\",\n",
        "#             26: \"Water\",\n",
        "#             33: \"River, Lake and Ocean\",\n",
        "#             31: \"Aquaculture\",\n",
        "#             34: \"Glacier\",\n",
        "#             27: \"Non Observed\"\n",
        "# }\n",
        "\n",
        "\n",
        "dicionario_classes = {\n",
        "            1: \"Formacion boscosa\",\n",
        "            3: \"Bosque\",\n",
        "            5: \"Manglar\",\n",
        "            6: \"Bosque Inundable\",\n",
        "            49: \"Vegetacion lenosa sobre arena\",\n",
        "            10: \"Formacion natural no boscosa\",\n",
        "            11: \"Formacion natural no forestal inunbable\",\n",
        "            12: \"Formación herbácea\",\n",
        "            32: \"Planicie de marea hipersalina\",\n",
        "            29: \"Afloramiento rocoso\",\n",
        "            50: 'Vegetación herbácea sobre arena',\n",
        "            13: \"Otra formación natural no forestal\",\n",
        "            14: \"Área agropecuaria\",\n",
        "            9: \"Silvicultura\",\n",
        "            35: \"Palma aceitera\",\n",
        "            21: \"Mosaico de agricultura y/o pasto\",\n",
        "            22: \"Área sin vegetación \",\n",
        "            23: \"Playas, dunas y bancos de arena\",\n",
        "            24: \"Infraestructura urbana\",\n",
        "            30: \"Minería\",\n",
        "            25: \"Otra área sin vegetación \",\n",
        "            26: \"Cuerpo de agua \",\n",
        "            33: \"Río, lago u océano\",\n",
        "            31: \"Acuicultura\",\n",
        "            34: \"Glaciar\",\n",
        "            27: \"No observado\"\n",
        "}\n",
        "\n",
        "\n",
        "## paleta\n",
        "paleta_nomes = {key:value for key, value in zip(dicionario_classes.values(), dicionario_cores.values())}\n",
        "paleta_nomes\n",
        "\n",
        "#https://colombia.mapbiomas.org/wp-content/uploads/sites/3/2023/10/Codigo-de-la-Leyenda-coleccion-1.docx.pdf"
      ],
      "metadata": {
        "id": "0NJEnxhJlyue",
        "colab": {
          "base_uri": "https://localhost:8080/",
          "height": 468
        },
        "outputId": "2229c500-f25c-4ecd-c00a-c7420b6364b4"
      },
      "execution_count": null,
      "outputs": [
        {
          "output_type": "display_data",
          "data": {
            "text/plain": [
              "<IPython.core.display.HTML object>"
            ],
            "text/html": [
              "\n",
              "            <style>\n",
              "                .geemap-dark {\n",
              "                    --jp-widgets-color: white;\n",
              "                    --jp-widgets-label-color: white;\n",
              "                    --jp-ui-font-color1: white;\n",
              "                    --jp-layout-color2: #454545;\n",
              "                    background-color: #383838;\n",
              "                }\n",
              "                    \n",
              "                .geemap-dark .jupyter-button {\n",
              "                    --jp-layout-color3: #383838;\n",
              "                }\n",
              "                \n",
              "                .geemap-colab {\n",
              "                    background-color: var(--colab-primary-surface-color, white);\n",
              "                }\n",
              "                    \n",
              "                .geemap-colab .jupyter-button {\n",
              "                    --jp-layout-color3: var(--colab-primary-surface-color, white);\n",
              "                }\n",
              "            </style>\n",
              "            "
            ]
          },
          "metadata": {}
        },
        {
          "output_type": "execute_result",
          "data": {
            "text/plain": [
              "{'Formacion boscosa': '#1f8d49',\n",
              " 'Bosque': '#1f8d49',\n",
              " 'Manglar': '#04381d',\n",
              " 'Bosque Inundable': '#026975',\n",
              " 'Vegetacion lenosa sobre arena': '#02d659',\n",
              " 'Formacion natural no boscosa': '#ad975a',\n",
              " 'Formacion natural no forestal inunbable': '#519799',\n",
              " 'Formación herbácea': '#d6bc74',\n",
              " 'Planicie de marea hipersalina': '#fc8114',\n",
              " 'Afloramiento rocoso': '#ffaa5f',\n",
              " 'Vegetación herbácea sobre arena': '#ad5100',\n",
              " 'Otra formación natural no forestal': '#d89f5c',\n",
              " 'Área agropecuaria': '#FFFFB2',\n",
              " 'Silvicultura': '#7a5900',\n",
              " 'Palma aceitera': '#9065d0',\n",
              " 'Mosaico de agricultura y/o pasto': '#ffefc3',\n",
              " 'Área sin vegetación ': '#d4271e',\n",
              " 'Playas, dunas y bancos de arena': '#ffa07a',\n",
              " 'Infraestructura urbana': '#d4271e',\n",
              " 'Minería': '#9c0027',\n",
              " 'Otra área sin vegetación ': '#db4d4f',\n",
              " 'Cuerpo de agua ': '#2532e4',\n",
              " 'Río, lago u océano': '#2532e4',\n",
              " 'Acuicultura': '#091077',\n",
              " 'Glaciar': '#93dfe6',\n",
              " 'No observado': '#ffffff'}"
            ]
          },
          "metadata": {},
          "execution_count": 197
        }
      ]
    },
    {
      "cell_type": "code",
      "source": [
        "# Criando a paleta de cores\n",
        "paleta_cores = {\n",
        "    1: \"#1f8d49\",3: \"#1f8d49\",5: \"#04381d\",6: \"#026975\",\n",
        "    9: \"#7a5900\",10: \"#ad975a\",11: \"#519799\",12: \"#d6bc74\",\n",
        "    13: \"#d89f5c\",14: \"#FFFFB2\",21: \"#ffefc3\",22: \"#d4271e\",\n",
        "    23: \"#ffa07a\",24: \"#d4271e\",25: \"#db4d4f\",26: \"#2532e4\",\n",
        "    27: \"#ffffff\",29: \"#ffaa5f\",30: \"#9c0027\",31: \"#091077\",\n",
        "    32: \"#fc8114\", 33: \"#2532e4\",34: \"#93dfe6\",35: \"#9065d0\",\n",
        "    49: \"#02d659\", 50: \"#ad5100\"}\n",
        "palette_list = list(paleta_cores.values())\n",
        "len(palette_list)"
      ],
      "metadata": {
        "colab": {
          "base_uri": "https://localhost:8080/",
          "height": 34
        },
        "id": "9gyXD2VY04Pw",
        "outputId": "dbbc8481-5d32-45fa-f65d-678d8a5ef603"
      },
      "execution_count": null,
      "outputs": [
        {
          "output_type": "display_data",
          "data": {
            "text/plain": [
              "<IPython.core.display.HTML object>"
            ],
            "text/html": [
              "\n",
              "            <style>\n",
              "                .geemap-dark {\n",
              "                    --jp-widgets-color: white;\n",
              "                    --jp-widgets-label-color: white;\n",
              "                    --jp-ui-font-color1: white;\n",
              "                    --jp-layout-color2: #454545;\n",
              "                    background-color: #383838;\n",
              "                }\n",
              "                    \n",
              "                .geemap-dark .jupyter-button {\n",
              "                    --jp-layout-color3: #383838;\n",
              "                }\n",
              "                \n",
              "                .geemap-colab {\n",
              "                    background-color: var(--colab-primary-surface-color, white);\n",
              "                }\n",
              "                    \n",
              "                .geemap-colab .jupyter-button {\n",
              "                    --jp-layout-color3: var(--colab-primary-surface-color, white);\n",
              "                }\n",
              "            </style>\n",
              "            "
            ]
          },
          "metadata": {}
        },
        {
          "output_type": "execute_result",
          "data": {
            "text/plain": [
              "26"
            ]
          },
          "metadata": {},
          "execution_count": 202
        }
      ]
    },
    {
      "cell_type": "code",
      "source": [
        "##Visualizando dados do MapBiomas\n",
        "Map = geemap.Map(location=[-73.83487032015829, 4.962291451527239], zoom=8)\n",
        "Map.add_basemap('HYBRID')\n",
        "point = ee.Geometry.Point([-73.77515462782466, 4.977270765335399])\n",
        "\n",
        "# Mapbiomas layer\n",
        "map_1985 = mapbiomas.select('classification_1985')\n",
        "map_2022 = mapbiomas.select('classification_2022')\n",
        "\n",
        "# show\n",
        "Map.addLayer(map_1985, {'palette':palette_list, 'min':3, 'max':50},'1985')\n",
        "Map.addLayer(map_2022, {'palette':palette_list, 'min':3, 'max':50},'2022')\n",
        "Map.centerObject(point,15)\n",
        "\n",
        "Map"
      ],
      "metadata": {
        "colab": {
          "base_uri": "https://localhost:8080/",
          "referenced_widgets": [
            "7a1aff9b6d4d41b585ee38f205f256ee",
            "2c40086cc0dc423e95d7f256178f50fa",
            "e56ee4da6a324cfb8c490e242de2dd86",
            "69a33be38a184d1fada083f542bbb514",
            "13a2738704914dc697df6728614aa737",
            "96f1d5717a644b98aba04d86f6a733a8",
            "50bcf35a3b7447048d1b5cb6352e0809",
            "806c19721c1f4feba22cea2cd56c5564",
            "d5ab59e0626140aa8e2b040fdfc4fd40",
            "952d6c33917d4fd990e2c056529235de",
            "0fe9bd0457894e298e6ea3216ab5fce6",
            "2d6cbf42edfa4b6c9ce74b558b102d20",
            "034d6b80ddfd46549e65e3384a384762",
            "232ea2e1b52647d0953a9f62284b99a6",
            "819c3d22fda34d719d468311c53627a8",
            "3e9fc2d1a2ea4429a43d56aa48d1ac89",
            "f670cc6452d246d280fddf64249d05c5",
            "24346c82fd924a8299964e1f749c76b4",
            "c8fe5bf91e70459bb3de6d6e935f6e19",
            "bd534e575bcb42278382a31ea58a2f2f",
            "311bf047a6ce4d58ad7f0740a0f4b07c",
            "37579bab73c94d5c81844525c19dc96e",
            "2066840eb5564ed0be21be4784b0a48a",
            "4634cfa93d634147b7ddc9a386880118",
            "25a8c3f4b2b748fa84c630980fa43c6f",
            "b99b0c8e15e04c16ac7512fb482c0a0f",
            "e937b2de9a8f44ffa6a62d5b6d685e56",
            "1a0bd5eb20a14353a85bf6ac5b626955",
            "651ed56c31294b0a9ffa734664b3952d"
          ]
        },
        "id": "nMmEW7a769Z3",
        "outputId": "b98ba6f7-ac0e-4c31-9be5-721511feaa9f"
      },
      "execution_count": null,
      "outputs": [
        {
          "output_type": "display_data",
          "data": {
            "text/plain": [
              "<IPython.core.display.HTML object>"
            ],
            "text/html": [
              "\n",
              "            <style>\n",
              "                .geemap-dark {\n",
              "                    --jp-widgets-color: white;\n",
              "                    --jp-widgets-label-color: white;\n",
              "                    --jp-ui-font-color1: white;\n",
              "                    --jp-layout-color2: #454545;\n",
              "                    background-color: #383838;\n",
              "                }\n",
              "                    \n",
              "                .geemap-dark .jupyter-button {\n",
              "                    --jp-layout-color3: #383838;\n",
              "                }\n",
              "                \n",
              "                .geemap-colab {\n",
              "                    background-color: var(--colab-primary-surface-color, white);\n",
              "                }\n",
              "                    \n",
              "                .geemap-colab .jupyter-button {\n",
              "                    --jp-layout-color3: var(--colab-primary-surface-color, white);\n",
              "                }\n",
              "            </style>\n",
              "            "
            ]
          },
          "metadata": {}
        },
        {
          "output_type": "display_data",
          "data": {
            "text/plain": [
              "Map(center=[4.9772707653353985, -73.77515462782466], controls=(WidgetControl(options=['position', 'transparent…"
            ],
            "application/vnd.jupyter.widget-view+json": {
              "version_major": 2,
              "version_minor": 0,
              "model_id": "7a1aff9b6d4d41b585ee38f205f256ee"
            }
          },
          "metadata": {
            "application/vnd.jupyter.widget-view+json": {
              "colab": {
                "custom_widget_manager": {
                  "url": "https://ssl.gstatic.com/colaboratory-static/widgets/colab-cdn-widget-manager/b3e629b1971e1542/manager.min.js"
                }
              }
            }
          }
        }
      ]
    },
    {
      "cell_type": "markdown",
      "source": [
        "## Referências\n",
        "\n",
        "* Google Earth Engine - A planetary-scale platform for Earth science data & analysis: https://earthengine.google.com/\n",
        "\n",
        "* A Python package for interactive geospatial analysis and visualization with Google Earth Engine: https://geemap.org/\n",
        "* Cloud-Based Remote Sensing with Google Earth Engine: Fundamentals and Applications: https://www.eefabook.org/\n",
        "\n",
        "* MAPBIOMAS COLOMBIA - “Mapeo Anual de Cobertura y Uso del Suelo de Colombia”: https://colombia.mapbiomas.org/\n",
        "* Dados legenda MapBiomas Colombia: https://colombia.mapbiomas.org/wp-content/uploads/sites/3/2023/10/Colombia-Legend-Code_Col-1.0.pdf\n",
        "\n",
        "* QGIS - Un Sistema de Información Geográfica libre y de Código Abierto: https://www.qgis.org/en/site/\n",
        "\n",
        "* Landsat Satellite Missions: https://www.usgs.gov/landsat-missions/landsat-satellite-missions\n",
        "\n",
        "* Sentinel Missions: https://sentinels.copernicus.eu/web/sentinel/home\n",
        "* Sentinel-Hub: https://www.sentinel-hub.com/explore/education/\n"
      ],
      "metadata": {
        "id": "403mrAkImITR"
      }
    },
    {
      "cell_type": "markdown",
      "source": [
        "# Contacto:\n",
        "* E-mail: izadoraflorestal@gmail.com"
      ],
      "metadata": {
        "id": "aQI4y6Vmmfn3"
      }
    },
    {
      "cell_type": "code",
      "source": [
        "from IPython.display import Image\n",
        "Image(url='https://media.giphy.com/media/CzoEsmpNAhB9oF4QHV/giphy.gif')"
      ],
      "metadata": {
        "colab": {
          "base_uri": "https://localhost:8080/",
          "height": 501
        },
        "id": "DmcJad3gmlp7",
        "outputId": "8d4fc652-6061-49f0-fde3-20a4117962f1"
      },
      "execution_count": null,
      "outputs": [
        {
          "output_type": "display_data",
          "data": {
            "text/plain": [
              "<IPython.core.display.HTML object>"
            ],
            "text/html": [
              "\n",
              "            <style>\n",
              "                .geemap-dark {\n",
              "                    --jp-widgets-color: white;\n",
              "                    --jp-widgets-label-color: white;\n",
              "                    --jp-ui-font-color1: white;\n",
              "                    --jp-layout-color2: #454545;\n",
              "                    background-color: #383838;\n",
              "                }\n",
              "                    \n",
              "                .geemap-dark .jupyter-button {\n",
              "                    --jp-layout-color3: #383838;\n",
              "                }\n",
              "                \n",
              "                .geemap-colab {\n",
              "                    background-color: var(--colab-primary-surface-color, white);\n",
              "                }\n",
              "                    \n",
              "                .geemap-colab .jupyter-button {\n",
              "                    --jp-layout-color3: var(--colab-primary-surface-color, white);\n",
              "                }\n",
              "            </style>\n",
              "            "
            ]
          },
          "metadata": {}
        },
        {
          "output_type": "execute_result",
          "data": {
            "text/html": [
              "<img src=\"https://media.giphy.com/media/CzoEsmpNAhB9oF4QHV/giphy.gif\"/>"
            ],
            "text/plain": [
              "<IPython.core.display.Image object>"
            ]
          },
          "metadata": {},
          "execution_count": 160
        }
      ]
    }
  ]
}